{
 "cells": [
  {
   "cell_type": "code",
   "execution_count": null,
   "metadata": {
    "id": "uprAIVfM94kQ"
   },
   "outputs": [],
   "source": [
    "import numpy as np\n",
    "import pandas as pd\n",
    "import seaborn as sns\n",
    "import matplotlib.pyplot as plt"
   ]
  },
  {
   "cell_type": "code",
   "execution_count": null,
   "metadata": {
    "id": "IrKz9_XUkI7p"
   },
   "outputs": [],
   "source": [
    "SEED = 42\n",
    "np.random.seed(SEED)"
   ]
  },
  {
   "cell_type": "code",
   "execution_count": null,
   "metadata": {
    "id": "aILFpb-jux9w"
   },
   "outputs": [],
   "source": [
    "np.set_printoptions(suppress=True)"
   ]
  },
  {
   "cell_type": "code",
   "execution_count": null,
   "metadata": {
    "id": "nX66XPlqXyYx"
   },
   "outputs": [],
   "source": [
    "# !curl -L -o diamonds-price-dataset.zip https://www.kaggle.com/api/v1/datasets/download/amirhosseinmirzaie/diamonds-price-dataset\n",
    "# !unzip diamonds-price-dataset.zip"
   ]
  },
  {
   "cell_type": "markdown",
   "metadata": {
    "id": "ASJozSsVPJtK"
   },
   "source": [
    "# Dataset & feature selection"
   ]
  },
  {
   "cell_type": "code",
   "execution_count": null,
   "metadata": {
    "colab": {
     "base_uri": "https://localhost:8080/",
     "height": 225
    },
    "id": "-jr3ia-gX9Lh",
    "outputId": "ddfc373b-d709-4ca8-be12-6e743142362b"
   },
   "outputs": [
    {
     "name": "stdout",
     "output_type": "stream",
     "text": [
      "Shape: (400, 10)\n"
     ]
    },
    {
     "data": {
      "application/vnd.google.colaboratory.intrinsic+json": {
       "summary": "{\n  \"name\": \"df\",\n  \"rows\": 400,\n  \"fields\": [\n    {\n      \"column\": \"carat\",\n      \"properties\": {\n        \"dtype\": \"number\",\n        \"std\": 0.4694204713765351,\n        \"min\": 0.23,\n        \"max\": 3.01,\n        \"num_unique_values\": 108,\n        \"samples\": [\n          2.33,\n          0.51,\n          0.32\n        ],\n        \"semantic_type\": \"\",\n        \"description\": \"\"\n      }\n    },\n    {\n      \"column\": \"cut\",\n      \"properties\": {\n        \"dtype\": \"category\",\n        \"num_unique_values\": 5,\n        \"samples\": [\n          \"Ideal\",\n          \"Fair\",\n          \"Very Good\"\n        ],\n        \"semantic_type\": \"\",\n        \"description\": \"\"\n      }\n    },\n    {\n      \"column\": \"color\",\n      \"properties\": {\n        \"dtype\": \"category\",\n        \"num_unique_values\": 7,\n        \"samples\": [\n          \"G\",\n          \"H\",\n          \"D\"\n        ],\n        \"semantic_type\": \"\",\n        \"description\": \"\"\n      }\n    },\n    {\n      \"column\": \"clarity\",\n      \"properties\": {\n        \"dtype\": \"category\",\n        \"num_unique_values\": 8,\n        \"samples\": [\n          \"VS1\",\n          \"SI2\",\n          \"I1\"\n        ],\n        \"semantic_type\": \"\",\n        \"description\": \"\"\n      }\n    },\n    {\n      \"column\": \"depth\",\n      \"properties\": {\n        \"dtype\": \"number\",\n        \"std\": 1.4600717315094087,\n        \"min\": 57.1,\n        \"max\": 68.6,\n        \"num_unique_values\": 73,\n        \"samples\": [\n          63.1,\n          63.7,\n          66.3\n        ],\n        \"semantic_type\": \"\",\n        \"description\": \"\"\n      }\n    },\n    {\n      \"column\": \"table\",\n      \"properties\": {\n        \"dtype\": \"number\",\n        \"std\": 2.05110323941699,\n        \"min\": 53.0,\n        \"max\": 65.0,\n        \"num_unique_values\": 17,\n        \"samples\": [\n          57.2,\n          60.0,\n          59.0\n        ],\n        \"semantic_type\": \"\",\n        \"description\": \"\"\n      }\n    },\n    {\n      \"column\": \"price\",\n      \"properties\": {\n        \"dtype\": \"number\",\n        \"std\": 3650,\n        \"min\": 380,\n        \"max\": 17100,\n        \"num_unique_values\": 371,\n        \"samples\": [\n          1227,\n          3579,\n          767\n        ],\n        \"semantic_type\": \"\",\n        \"description\": \"\"\n      }\n    },\n    {\n      \"column\": \"x\",\n      \"properties\": {\n        \"dtype\": \"number\",\n        \"std\": 1.1265837373640866,\n        \"min\": 3.84,\n        \"max\": 9.1,\n        \"num_unique_values\": 241,\n        \"samples\": [\n          4.28,\n          4.48,\n          8.26\n        ],\n        \"semantic_type\": \"\",\n        \"description\": \"\"\n      }\n    },\n    {\n      \"column\": \"y\",\n      \"properties\": {\n        \"dtype\": \"number\",\n        \"std\": 1.1169609222145531,\n        \"min\": 3.89,\n        \"max\": 8.97,\n        \"num_unique_values\": 240,\n        \"samples\": [\n          4.24,\n          4.53,\n          8.3\n        ],\n        \"semantic_type\": \"\",\n        \"description\": \"\"\n      }\n    },\n    {\n      \"column\": \"z\",\n      \"properties\": {\n        \"dtype\": \"number\",\n        \"std\": 0.6933515348488042,\n        \"min\": 2.38,\n        \"max\": 5.67,\n        \"num_unique_values\": 178,\n        \"samples\": [\n          3.98,\n          3.31,\n          2.9\n        ],\n        \"semantic_type\": \"\",\n        \"description\": \"\"\n      }\n    }\n  ]\n}",
       "type": "dataframe",
       "variable_name": "df"
      },
      "text/html": [
       "\n",
       "  <div id=\"df-d23eb8af-0468-4694-b4e4-fe170ea1328c\" class=\"colab-df-container\">\n",
       "    <div>\n",
       "<style scoped>\n",
       "    .dataframe tbody tr th:only-of-type {\n",
       "        vertical-align: middle;\n",
       "    }\n",
       "\n",
       "    .dataframe tbody tr th {\n",
       "        vertical-align: top;\n",
       "    }\n",
       "\n",
       "    .dataframe thead th {\n",
       "        text-align: right;\n",
       "    }\n",
       "</style>\n",
       "<table border=\"1\" class=\"dataframe\">\n",
       "  <thead>\n",
       "    <tr style=\"text-align: right;\">\n",
       "      <th></th>\n",
       "      <th>carat</th>\n",
       "      <th>cut</th>\n",
       "      <th>color</th>\n",
       "      <th>clarity</th>\n",
       "      <th>depth</th>\n",
       "      <th>table</th>\n",
       "      <th>price</th>\n",
       "      <th>x</th>\n",
       "      <th>y</th>\n",
       "      <th>z</th>\n",
       "    </tr>\n",
       "  </thead>\n",
       "  <tbody>\n",
       "    <tr>\n",
       "      <th>33553</th>\n",
       "      <td>0.61</td>\n",
       "      <td>Good</td>\n",
       "      <td>G</td>\n",
       "      <td>I1</td>\n",
       "      <td>61.2</td>\n",
       "      <td>57.2</td>\n",
       "      <td>931</td>\n",
       "      <td>5.44</td>\n",
       "      <td>5.49</td>\n",
       "      <td>3.34</td>\n",
       "    </tr>\n",
       "    <tr>\n",
       "      <th>9427</th>\n",
       "      <td>0.91</td>\n",
       "      <td>Good</td>\n",
       "      <td>G</td>\n",
       "      <td>VS1</td>\n",
       "      <td>64.1</td>\n",
       "      <td>60.0</td>\n",
       "      <td>4744</td>\n",
       "      <td>6.11</td>\n",
       "      <td>6.06</td>\n",
       "      <td>3.90</td>\n",
       "    </tr>\n",
       "    <tr>\n",
       "      <th>199</th>\n",
       "      <td>0.77</td>\n",
       "      <td>Ideal</td>\n",
       "      <td>H</td>\n",
       "      <td>SI1</td>\n",
       "      <td>62.2</td>\n",
       "      <td>56.0</td>\n",
       "      <td>2781</td>\n",
       "      <td>5.83</td>\n",
       "      <td>5.88</td>\n",
       "      <td>3.64</td>\n",
       "    </tr>\n",
       "    <tr>\n",
       "      <th>12447</th>\n",
       "      <td>1.13</td>\n",
       "      <td>Very Good</td>\n",
       "      <td>I</td>\n",
       "      <td>VS2</td>\n",
       "      <td>60.7</td>\n",
       "      <td>58.0</td>\n",
       "      <td>5531</td>\n",
       "      <td>6.72</td>\n",
       "      <td>6.75</td>\n",
       "      <td>4.09</td>\n",
       "    </tr>\n",
       "    <tr>\n",
       "      <th>39489</th>\n",
       "      <td>0.32</td>\n",
       "      <td>Good</td>\n",
       "      <td>H</td>\n",
       "      <td>VS2</td>\n",
       "      <td>63.1</td>\n",
       "      <td>55.0</td>\n",
       "      <td>505</td>\n",
       "      <td>4.33</td>\n",
       "      <td>4.36</td>\n",
       "      <td>2.74</td>\n",
       "    </tr>\n",
       "  </tbody>\n",
       "</table>\n",
       "</div>\n",
       "    <div class=\"colab-df-buttons\">\n",
       "\n",
       "  <div class=\"colab-df-container\">\n",
       "    <button class=\"colab-df-convert\" onclick=\"convertToInteractive('df-d23eb8af-0468-4694-b4e4-fe170ea1328c')\"\n",
       "            title=\"Convert this dataframe to an interactive table.\"\n",
       "            style=\"display:none;\">\n",
       "\n",
       "  <svg xmlns=\"http://www.w3.org/2000/svg\" height=\"24px\" viewBox=\"0 -960 960 960\">\n",
       "    <path d=\"M120-120v-720h720v720H120Zm60-500h600v-160H180v160Zm220 220h160v-160H400v160Zm0 220h160v-160H400v160ZM180-400h160v-160H180v160Zm440 0h160v-160H620v160ZM180-180h160v-160H180v160Zm440 0h160v-160H620v160Z\"/>\n",
       "  </svg>\n",
       "    </button>\n",
       "\n",
       "  <style>\n",
       "    .colab-df-container {\n",
       "      display:flex;\n",
       "      gap: 12px;\n",
       "    }\n",
       "\n",
       "    .colab-df-convert {\n",
       "      background-color: #E8F0FE;\n",
       "      border: none;\n",
       "      border-radius: 50%;\n",
       "      cursor: pointer;\n",
       "      display: none;\n",
       "      fill: #1967D2;\n",
       "      height: 32px;\n",
       "      padding: 0 0 0 0;\n",
       "      width: 32px;\n",
       "    }\n",
       "\n",
       "    .colab-df-convert:hover {\n",
       "      background-color: #E2EBFA;\n",
       "      box-shadow: 0px 1px 2px rgba(60, 64, 67, 0.3), 0px 1px 3px 1px rgba(60, 64, 67, 0.15);\n",
       "      fill: #174EA6;\n",
       "    }\n",
       "\n",
       "    .colab-df-buttons div {\n",
       "      margin-bottom: 4px;\n",
       "    }\n",
       "\n",
       "    [theme=dark] .colab-df-convert {\n",
       "      background-color: #3B4455;\n",
       "      fill: #D2E3FC;\n",
       "    }\n",
       "\n",
       "    [theme=dark] .colab-df-convert:hover {\n",
       "      background-color: #434B5C;\n",
       "      box-shadow: 0px 1px 3px 1px rgba(0, 0, 0, 0.15);\n",
       "      filter: drop-shadow(0px 1px 2px rgba(0, 0, 0, 0.3));\n",
       "      fill: #FFFFFF;\n",
       "    }\n",
       "  </style>\n",
       "\n",
       "    <script>\n",
       "      const buttonEl =\n",
       "        document.querySelector('#df-d23eb8af-0468-4694-b4e4-fe170ea1328c button.colab-df-convert');\n",
       "      buttonEl.style.display =\n",
       "        google.colab.kernel.accessAllowed ? 'block' : 'none';\n",
       "\n",
       "      async function convertToInteractive(key) {\n",
       "        const element = document.querySelector('#df-d23eb8af-0468-4694-b4e4-fe170ea1328c');\n",
       "        const dataTable =\n",
       "          await google.colab.kernel.invokeFunction('convertToInteractive',\n",
       "                                                    [key], {});\n",
       "        if (!dataTable) return;\n",
       "\n",
       "        const docLinkHtml = 'Like what you see? Visit the ' +\n",
       "          '<a target=\"_blank\" href=https://colab.research.google.com/notebooks/data_table.ipynb>data table notebook</a>'\n",
       "          + ' to learn more about interactive tables.';\n",
       "        element.innerHTML = '';\n",
       "        dataTable['output_type'] = 'display_data';\n",
       "        await google.colab.output.renderOutput(dataTable, element);\n",
       "        const docLink = document.createElement('div');\n",
       "        docLink.innerHTML = docLinkHtml;\n",
       "        element.appendChild(docLink);\n",
       "      }\n",
       "    </script>\n",
       "  </div>\n",
       "\n",
       "\n",
       "<div id=\"df-c822e1a8-e71b-4b7a-80d0-040a2f710afb\">\n",
       "  <button class=\"colab-df-quickchart\" onclick=\"quickchart('df-c822e1a8-e71b-4b7a-80d0-040a2f710afb')\"\n",
       "            title=\"Suggest charts\"\n",
       "            style=\"display:none;\">\n",
       "\n",
       "<svg xmlns=\"http://www.w3.org/2000/svg\" height=\"24px\"viewBox=\"0 0 24 24\"\n",
       "     width=\"24px\">\n",
       "    <g>\n",
       "        <path d=\"M19 3H5c-1.1 0-2 .9-2 2v14c0 1.1.9 2 2 2h14c1.1 0 2-.9 2-2V5c0-1.1-.9-2-2-2zM9 17H7v-7h2v7zm4 0h-2V7h2v10zm4 0h-2v-4h2v4z\"/>\n",
       "    </g>\n",
       "</svg>\n",
       "  </button>\n",
       "\n",
       "<style>\n",
       "  .colab-df-quickchart {\n",
       "      --bg-color: #E8F0FE;\n",
       "      --fill-color: #1967D2;\n",
       "      --hover-bg-color: #E2EBFA;\n",
       "      --hover-fill-color: #174EA6;\n",
       "      --disabled-fill-color: #AAA;\n",
       "      --disabled-bg-color: #DDD;\n",
       "  }\n",
       "\n",
       "  [theme=dark] .colab-df-quickchart {\n",
       "      --bg-color: #3B4455;\n",
       "      --fill-color: #D2E3FC;\n",
       "      --hover-bg-color: #434B5C;\n",
       "      --hover-fill-color: #FFFFFF;\n",
       "      --disabled-bg-color: #3B4455;\n",
       "      --disabled-fill-color: #666;\n",
       "  }\n",
       "\n",
       "  .colab-df-quickchart {\n",
       "    background-color: var(--bg-color);\n",
       "    border: none;\n",
       "    border-radius: 50%;\n",
       "    cursor: pointer;\n",
       "    display: none;\n",
       "    fill: var(--fill-color);\n",
       "    height: 32px;\n",
       "    padding: 0;\n",
       "    width: 32px;\n",
       "  }\n",
       "\n",
       "  .colab-df-quickchart:hover {\n",
       "    background-color: var(--hover-bg-color);\n",
       "    box-shadow: 0 1px 2px rgba(60, 64, 67, 0.3), 0 1px 3px 1px rgba(60, 64, 67, 0.15);\n",
       "    fill: var(--button-hover-fill-color);\n",
       "  }\n",
       "\n",
       "  .colab-df-quickchart-complete:disabled,\n",
       "  .colab-df-quickchart-complete:disabled:hover {\n",
       "    background-color: var(--disabled-bg-color);\n",
       "    fill: var(--disabled-fill-color);\n",
       "    box-shadow: none;\n",
       "  }\n",
       "\n",
       "  .colab-df-spinner {\n",
       "    border: 2px solid var(--fill-color);\n",
       "    border-color: transparent;\n",
       "    border-bottom-color: var(--fill-color);\n",
       "    animation:\n",
       "      spin 1s steps(1) infinite;\n",
       "  }\n",
       "\n",
       "  @keyframes spin {\n",
       "    0% {\n",
       "      border-color: transparent;\n",
       "      border-bottom-color: var(--fill-color);\n",
       "      border-left-color: var(--fill-color);\n",
       "    }\n",
       "    20% {\n",
       "      border-color: transparent;\n",
       "      border-left-color: var(--fill-color);\n",
       "      border-top-color: var(--fill-color);\n",
       "    }\n",
       "    30% {\n",
       "      border-color: transparent;\n",
       "      border-left-color: var(--fill-color);\n",
       "      border-top-color: var(--fill-color);\n",
       "      border-right-color: var(--fill-color);\n",
       "    }\n",
       "    40% {\n",
       "      border-color: transparent;\n",
       "      border-right-color: var(--fill-color);\n",
       "      border-top-color: var(--fill-color);\n",
       "    }\n",
       "    60% {\n",
       "      border-color: transparent;\n",
       "      border-right-color: var(--fill-color);\n",
       "    }\n",
       "    80% {\n",
       "      border-color: transparent;\n",
       "      border-right-color: var(--fill-color);\n",
       "      border-bottom-color: var(--fill-color);\n",
       "    }\n",
       "    90% {\n",
       "      border-color: transparent;\n",
       "      border-bottom-color: var(--fill-color);\n",
       "    }\n",
       "  }\n",
       "</style>\n",
       "\n",
       "  <script>\n",
       "    async function quickchart(key) {\n",
       "      const quickchartButtonEl =\n",
       "        document.querySelector('#' + key + ' button');\n",
       "      quickchartButtonEl.disabled = true;  // To prevent multiple clicks.\n",
       "      quickchartButtonEl.classList.add('colab-df-spinner');\n",
       "      try {\n",
       "        const charts = await google.colab.kernel.invokeFunction(\n",
       "            'suggestCharts', [key], {});\n",
       "      } catch (error) {\n",
       "        console.error('Error during call to suggestCharts:', error);\n",
       "      }\n",
       "      quickchartButtonEl.classList.remove('colab-df-spinner');\n",
       "      quickchartButtonEl.classList.add('colab-df-quickchart-complete');\n",
       "    }\n",
       "    (() => {\n",
       "      let quickchartButtonEl =\n",
       "        document.querySelector('#df-c822e1a8-e71b-4b7a-80d0-040a2f710afb button');\n",
       "      quickchartButtonEl.style.display =\n",
       "        google.colab.kernel.accessAllowed ? 'block' : 'none';\n",
       "    })();\n",
       "  </script>\n",
       "</div>\n",
       "    </div>\n",
       "  </div>\n"
      ],
      "text/plain": [
       "       carat        cut color clarity  depth  table  price     x     y     z\n",
       "33553   0.61       Good     G      I1   61.2   57.2    931  5.44  5.49  3.34\n",
       "9427    0.91       Good     G     VS1   64.1   60.0   4744  6.11  6.06  3.90\n",
       "199     0.77      Ideal     H     SI1   62.2   56.0   2781  5.83  5.88  3.64\n",
       "12447   1.13  Very Good     I     VS2   60.7   58.0   5531  6.72  6.75  4.09\n",
       "39489   0.32       Good     H     VS2   63.1   55.0    505  4.33  4.36  2.74"
      ]
     },
     "execution_count": 305,
     "metadata": {},
     "output_type": "execute_result"
    }
   ],
   "source": [
    "N = 400\n",
    "df = pd.read_csv('diamonds.csv').sample(n=N, random_state=SEED)\n",
    "\n",
    "print(\"Shape:\", df.shape)\n",
    "df.head()"
   ]
  },
  {
   "cell_type": "markdown",
   "metadata": {
    "id": "4ANckroeYsht"
   },
   "source": [
    "Features chosen: `x`, `y`, `z`, `table`, `depth` and `carat`. All of these features describe the size of a diamond."
   ]
  },
  {
   "cell_type": "code",
   "execution_count": null,
   "metadata": {
    "colab": {
     "base_uri": "https://localhost:8080/",
     "height": 206
    },
    "id": "JNs7UMFyYJDs",
    "outputId": "934bce32-440d-4231-98b6-cc3ae222cc50"
   },
   "outputs": [
    {
     "data": {
      "application/vnd.google.colaboratory.intrinsic+json": {
       "summary": "{\n  \"name\": \"data\",\n  \"rows\": 400,\n  \"fields\": [\n    {\n      \"column\": \"x\",\n      \"properties\": {\n        \"dtype\": \"number\",\n        \"std\": 1.1265837373640866,\n        \"min\": 3.84,\n        \"max\": 9.1,\n        \"num_unique_values\": 241,\n        \"samples\": [\n          4.28,\n          4.48,\n          8.26\n        ],\n        \"semantic_type\": \"\",\n        \"description\": \"\"\n      }\n    },\n    {\n      \"column\": \"y\",\n      \"properties\": {\n        \"dtype\": \"number\",\n        \"std\": 1.1169609222145531,\n        \"min\": 3.89,\n        \"max\": 8.97,\n        \"num_unique_values\": 240,\n        \"samples\": [\n          4.24,\n          4.53,\n          8.3\n        ],\n        \"semantic_type\": \"\",\n        \"description\": \"\"\n      }\n    },\n    {\n      \"column\": \"z\",\n      \"properties\": {\n        \"dtype\": \"number\",\n        \"std\": 0.6933515348488042,\n        \"min\": 2.38,\n        \"max\": 5.67,\n        \"num_unique_values\": 178,\n        \"samples\": [\n          3.98,\n          3.31,\n          2.9\n        ],\n        \"semantic_type\": \"\",\n        \"description\": \"\"\n      }\n    },\n    {\n      \"column\": \"table\",\n      \"properties\": {\n        \"dtype\": \"number\",\n        \"std\": 2.05110323941699,\n        \"min\": 53.0,\n        \"max\": 65.0,\n        \"num_unique_values\": 17,\n        \"samples\": [\n          57.2,\n          60.0,\n          59.0\n        ],\n        \"semantic_type\": \"\",\n        \"description\": \"\"\n      }\n    },\n    {\n      \"column\": \"depth\",\n      \"properties\": {\n        \"dtype\": \"number\",\n        \"std\": 1.4600717315094087,\n        \"min\": 57.1,\n        \"max\": 68.6,\n        \"num_unique_values\": 73,\n        \"samples\": [\n          63.1,\n          63.7,\n          66.3\n        ],\n        \"semantic_type\": \"\",\n        \"description\": \"\"\n      }\n    },\n    {\n      \"column\": \"carat\",\n      \"properties\": {\n        \"dtype\": \"number\",\n        \"std\": 0.4694204713765351,\n        \"min\": 0.23,\n        \"max\": 3.01,\n        \"num_unique_values\": 108,\n        \"samples\": [\n          2.33,\n          0.51,\n          0.32\n        ],\n        \"semantic_type\": \"\",\n        \"description\": \"\"\n      }\n    }\n  ]\n}",
       "type": "dataframe",
       "variable_name": "data"
      },
      "text/html": [
       "\n",
       "  <div id=\"df-f75e21c6-89f7-4a04-a501-1dea06afb169\" class=\"colab-df-container\">\n",
       "    <div>\n",
       "<style scoped>\n",
       "    .dataframe tbody tr th:only-of-type {\n",
       "        vertical-align: middle;\n",
       "    }\n",
       "\n",
       "    .dataframe tbody tr th {\n",
       "        vertical-align: top;\n",
       "    }\n",
       "\n",
       "    .dataframe thead th {\n",
       "        text-align: right;\n",
       "    }\n",
       "</style>\n",
       "<table border=\"1\" class=\"dataframe\">\n",
       "  <thead>\n",
       "    <tr style=\"text-align: right;\">\n",
       "      <th></th>\n",
       "      <th>x</th>\n",
       "      <th>y</th>\n",
       "      <th>z</th>\n",
       "      <th>table</th>\n",
       "      <th>depth</th>\n",
       "      <th>carat</th>\n",
       "    </tr>\n",
       "  </thead>\n",
       "  <tbody>\n",
       "    <tr>\n",
       "      <th>33553</th>\n",
       "      <td>5.44</td>\n",
       "      <td>5.49</td>\n",
       "      <td>3.34</td>\n",
       "      <td>57.2</td>\n",
       "      <td>61.2</td>\n",
       "      <td>0.61</td>\n",
       "    </tr>\n",
       "    <tr>\n",
       "      <th>9427</th>\n",
       "      <td>6.11</td>\n",
       "      <td>6.06</td>\n",
       "      <td>3.90</td>\n",
       "      <td>60.0</td>\n",
       "      <td>64.1</td>\n",
       "      <td>0.91</td>\n",
       "    </tr>\n",
       "    <tr>\n",
       "      <th>199</th>\n",
       "      <td>5.83</td>\n",
       "      <td>5.88</td>\n",
       "      <td>3.64</td>\n",
       "      <td>56.0</td>\n",
       "      <td>62.2</td>\n",
       "      <td>0.77</td>\n",
       "    </tr>\n",
       "    <tr>\n",
       "      <th>12447</th>\n",
       "      <td>6.72</td>\n",
       "      <td>6.75</td>\n",
       "      <td>4.09</td>\n",
       "      <td>58.0</td>\n",
       "      <td>60.7</td>\n",
       "      <td>1.13</td>\n",
       "    </tr>\n",
       "    <tr>\n",
       "      <th>39489</th>\n",
       "      <td>4.33</td>\n",
       "      <td>4.36</td>\n",
       "      <td>2.74</td>\n",
       "      <td>55.0</td>\n",
       "      <td>63.1</td>\n",
       "      <td>0.32</td>\n",
       "    </tr>\n",
       "  </tbody>\n",
       "</table>\n",
       "</div>\n",
       "    <div class=\"colab-df-buttons\">\n",
       "\n",
       "  <div class=\"colab-df-container\">\n",
       "    <button class=\"colab-df-convert\" onclick=\"convertToInteractive('df-f75e21c6-89f7-4a04-a501-1dea06afb169')\"\n",
       "            title=\"Convert this dataframe to an interactive table.\"\n",
       "            style=\"display:none;\">\n",
       "\n",
       "  <svg xmlns=\"http://www.w3.org/2000/svg\" height=\"24px\" viewBox=\"0 -960 960 960\">\n",
       "    <path d=\"M120-120v-720h720v720H120Zm60-500h600v-160H180v160Zm220 220h160v-160H400v160Zm0 220h160v-160H400v160ZM180-400h160v-160H180v160Zm440 0h160v-160H620v160ZM180-180h160v-160H180v160Zm440 0h160v-160H620v160Z\"/>\n",
       "  </svg>\n",
       "    </button>\n",
       "\n",
       "  <style>\n",
       "    .colab-df-container {\n",
       "      display:flex;\n",
       "      gap: 12px;\n",
       "    }\n",
       "\n",
       "    .colab-df-convert {\n",
       "      background-color: #E8F0FE;\n",
       "      border: none;\n",
       "      border-radius: 50%;\n",
       "      cursor: pointer;\n",
       "      display: none;\n",
       "      fill: #1967D2;\n",
       "      height: 32px;\n",
       "      padding: 0 0 0 0;\n",
       "      width: 32px;\n",
       "    }\n",
       "\n",
       "    .colab-df-convert:hover {\n",
       "      background-color: #E2EBFA;\n",
       "      box-shadow: 0px 1px 2px rgba(60, 64, 67, 0.3), 0px 1px 3px 1px rgba(60, 64, 67, 0.15);\n",
       "      fill: #174EA6;\n",
       "    }\n",
       "\n",
       "    .colab-df-buttons div {\n",
       "      margin-bottom: 4px;\n",
       "    }\n",
       "\n",
       "    [theme=dark] .colab-df-convert {\n",
       "      background-color: #3B4455;\n",
       "      fill: #D2E3FC;\n",
       "    }\n",
       "\n",
       "    [theme=dark] .colab-df-convert:hover {\n",
       "      background-color: #434B5C;\n",
       "      box-shadow: 0px 1px 3px 1px rgba(0, 0, 0, 0.15);\n",
       "      filter: drop-shadow(0px 1px 2px rgba(0, 0, 0, 0.3));\n",
       "      fill: #FFFFFF;\n",
       "    }\n",
       "  </style>\n",
       "\n",
       "    <script>\n",
       "      const buttonEl =\n",
       "        document.querySelector('#df-f75e21c6-89f7-4a04-a501-1dea06afb169 button.colab-df-convert');\n",
       "      buttonEl.style.display =\n",
       "        google.colab.kernel.accessAllowed ? 'block' : 'none';\n",
       "\n",
       "      async function convertToInteractive(key) {\n",
       "        const element = document.querySelector('#df-f75e21c6-89f7-4a04-a501-1dea06afb169');\n",
       "        const dataTable =\n",
       "          await google.colab.kernel.invokeFunction('convertToInteractive',\n",
       "                                                    [key], {});\n",
       "        if (!dataTable) return;\n",
       "\n",
       "        const docLinkHtml = 'Like what you see? Visit the ' +\n",
       "          '<a target=\"_blank\" href=https://colab.research.google.com/notebooks/data_table.ipynb>data table notebook</a>'\n",
       "          + ' to learn more about interactive tables.';\n",
       "        element.innerHTML = '';\n",
       "        dataTable['output_type'] = 'display_data';\n",
       "        await google.colab.output.renderOutput(dataTable, element);\n",
       "        const docLink = document.createElement('div');\n",
       "        docLink.innerHTML = docLinkHtml;\n",
       "        element.appendChild(docLink);\n",
       "      }\n",
       "    </script>\n",
       "  </div>\n",
       "\n",
       "\n",
       "<div id=\"df-40ddcdd0-2077-464f-90f6-3c1218533f04\">\n",
       "  <button class=\"colab-df-quickchart\" onclick=\"quickchart('df-40ddcdd0-2077-464f-90f6-3c1218533f04')\"\n",
       "            title=\"Suggest charts\"\n",
       "            style=\"display:none;\">\n",
       "\n",
       "<svg xmlns=\"http://www.w3.org/2000/svg\" height=\"24px\"viewBox=\"0 0 24 24\"\n",
       "     width=\"24px\">\n",
       "    <g>\n",
       "        <path d=\"M19 3H5c-1.1 0-2 .9-2 2v14c0 1.1.9 2 2 2h14c1.1 0 2-.9 2-2V5c0-1.1-.9-2-2-2zM9 17H7v-7h2v7zm4 0h-2V7h2v10zm4 0h-2v-4h2v4z\"/>\n",
       "    </g>\n",
       "</svg>\n",
       "  </button>\n",
       "\n",
       "<style>\n",
       "  .colab-df-quickchart {\n",
       "      --bg-color: #E8F0FE;\n",
       "      --fill-color: #1967D2;\n",
       "      --hover-bg-color: #E2EBFA;\n",
       "      --hover-fill-color: #174EA6;\n",
       "      --disabled-fill-color: #AAA;\n",
       "      --disabled-bg-color: #DDD;\n",
       "  }\n",
       "\n",
       "  [theme=dark] .colab-df-quickchart {\n",
       "      --bg-color: #3B4455;\n",
       "      --fill-color: #D2E3FC;\n",
       "      --hover-bg-color: #434B5C;\n",
       "      --hover-fill-color: #FFFFFF;\n",
       "      --disabled-bg-color: #3B4455;\n",
       "      --disabled-fill-color: #666;\n",
       "  }\n",
       "\n",
       "  .colab-df-quickchart {\n",
       "    background-color: var(--bg-color);\n",
       "    border: none;\n",
       "    border-radius: 50%;\n",
       "    cursor: pointer;\n",
       "    display: none;\n",
       "    fill: var(--fill-color);\n",
       "    height: 32px;\n",
       "    padding: 0;\n",
       "    width: 32px;\n",
       "  }\n",
       "\n",
       "  .colab-df-quickchart:hover {\n",
       "    background-color: var(--hover-bg-color);\n",
       "    box-shadow: 0 1px 2px rgba(60, 64, 67, 0.3), 0 1px 3px 1px rgba(60, 64, 67, 0.15);\n",
       "    fill: var(--button-hover-fill-color);\n",
       "  }\n",
       "\n",
       "  .colab-df-quickchart-complete:disabled,\n",
       "  .colab-df-quickchart-complete:disabled:hover {\n",
       "    background-color: var(--disabled-bg-color);\n",
       "    fill: var(--disabled-fill-color);\n",
       "    box-shadow: none;\n",
       "  }\n",
       "\n",
       "  .colab-df-spinner {\n",
       "    border: 2px solid var(--fill-color);\n",
       "    border-color: transparent;\n",
       "    border-bottom-color: var(--fill-color);\n",
       "    animation:\n",
       "      spin 1s steps(1) infinite;\n",
       "  }\n",
       "\n",
       "  @keyframes spin {\n",
       "    0% {\n",
       "      border-color: transparent;\n",
       "      border-bottom-color: var(--fill-color);\n",
       "      border-left-color: var(--fill-color);\n",
       "    }\n",
       "    20% {\n",
       "      border-color: transparent;\n",
       "      border-left-color: var(--fill-color);\n",
       "      border-top-color: var(--fill-color);\n",
       "    }\n",
       "    30% {\n",
       "      border-color: transparent;\n",
       "      border-left-color: var(--fill-color);\n",
       "      border-top-color: var(--fill-color);\n",
       "      border-right-color: var(--fill-color);\n",
       "    }\n",
       "    40% {\n",
       "      border-color: transparent;\n",
       "      border-right-color: var(--fill-color);\n",
       "      border-top-color: var(--fill-color);\n",
       "    }\n",
       "    60% {\n",
       "      border-color: transparent;\n",
       "      border-right-color: var(--fill-color);\n",
       "    }\n",
       "    80% {\n",
       "      border-color: transparent;\n",
       "      border-right-color: var(--fill-color);\n",
       "      border-bottom-color: var(--fill-color);\n",
       "    }\n",
       "    90% {\n",
       "      border-color: transparent;\n",
       "      border-bottom-color: var(--fill-color);\n",
       "    }\n",
       "  }\n",
       "</style>\n",
       "\n",
       "  <script>\n",
       "    async function quickchart(key) {\n",
       "      const quickchartButtonEl =\n",
       "        document.querySelector('#' + key + ' button');\n",
       "      quickchartButtonEl.disabled = true;  // To prevent multiple clicks.\n",
       "      quickchartButtonEl.classList.add('colab-df-spinner');\n",
       "      try {\n",
       "        const charts = await google.colab.kernel.invokeFunction(\n",
       "            'suggestCharts', [key], {});\n",
       "      } catch (error) {\n",
       "        console.error('Error during call to suggestCharts:', error);\n",
       "      }\n",
       "      quickchartButtonEl.classList.remove('colab-df-spinner');\n",
       "      quickchartButtonEl.classList.add('colab-df-quickchart-complete');\n",
       "    }\n",
       "    (() => {\n",
       "      let quickchartButtonEl =\n",
       "        document.querySelector('#df-40ddcdd0-2077-464f-90f6-3c1218533f04 button');\n",
       "      quickchartButtonEl.style.display =\n",
       "        google.colab.kernel.accessAllowed ? 'block' : 'none';\n",
       "    })();\n",
       "  </script>\n",
       "</div>\n",
       "    </div>\n",
       "  </div>\n"
      ],
      "text/plain": [
       "          x     y     z  table  depth  carat\n",
       "33553  5.44  5.49  3.34   57.2   61.2   0.61\n",
       "9427   6.11  6.06  3.90   60.0   64.1   0.91\n",
       "199    5.83  5.88  3.64   56.0   62.2   0.77\n",
       "12447  6.72  6.75  4.09   58.0   60.7   1.13\n",
       "39489  4.33  4.36  2.74   55.0   63.1   0.32"
      ]
     },
     "execution_count": 306,
     "metadata": {},
     "output_type": "execute_result"
    }
   ],
   "source": [
    "data = df[['x', 'y', 'z', 'table', 'depth', 'carat']]\n",
    "\n",
    "data.head()"
   ]
  },
  {
   "cell_type": "code",
   "execution_count": null,
   "metadata": {
    "colab": {
     "base_uri": "https://localhost:8080/",
     "height": 300
    },
    "id": "qcUdWm2J10qM",
    "outputId": "c5d159ef-ae41-4d64-9170-67c82169b16e"
   },
   "outputs": [
    {
     "data": {
      "application/vnd.google.colaboratory.intrinsic+json": {
       "summary": "{\n  \"name\": \"data\",\n  \"rows\": 8,\n  \"fields\": [\n    {\n      \"column\": \"x\",\n      \"properties\": {\n        \"dtype\": \"number\",\n        \"std\": 139.5942464611019,\n        \"min\": 1.1265837373640866,\n        \"max\": 400.0,\n        \"num_unique_values\": 8,\n        \"samples\": [\n          5.663399999999999,\n          5.66,\n          400.0\n        ],\n        \"semantic_type\": \"\",\n        \"description\": \"\"\n      }\n    },\n    {\n      \"column\": \"y\",\n      \"properties\": {\n        \"dtype\": \"number\",\n        \"std\": 139.59725774294395,\n        \"min\": 1.1169609222145531,\n        \"max\": 400.0,\n        \"num_unique_values\": 8,\n        \"samples\": [\n          5.6655500000000005,\n          5.66,\n          400.0\n        ],\n        \"semantic_type\": \"\",\n        \"description\": \"\"\n      }\n    },\n    {\n      \"column\": \"z\",\n      \"properties\": {\n        \"dtype\": \"number\",\n        \"std\": 140.28637292347824,\n        \"min\": 0.6933515348488042,\n        \"max\": 400.0,\n        \"num_unique_values\": 8,\n        \"samples\": [\n          3.4893,\n          3.49,\n          400.0\n        ],\n        \"semantic_type\": \"\",\n        \"description\": \"\"\n      }\n    },\n    {\n      \"column\": \"table\",\n      \"properties\": {\n        \"dtype\": \"number\",\n        \"std\": 125.3462589027051,\n        \"min\": 2.05110323941699,\n        \"max\": 400.0,\n        \"num_unique_values\": 8,\n        \"samples\": [\n          57.50424999999999,\n          57.0,\n          400.0\n        ],\n        \"semantic_type\": \"\",\n        \"description\": \"\"\n      }\n    },\n    {\n      \"column\": \"depth\",\n      \"properties\": {\n        \"dtype\": \"number\",\n        \"std\": 124.40769898791031,\n        \"min\": 1.4600717315094087,\n        \"max\": 400.0,\n        \"num_unique_values\": 8,\n        \"samples\": [\n          61.609750000000005,\n          61.7,\n          400.0\n        ],\n        \"semantic_type\": \"\",\n        \"description\": \"\"\n      }\n    },\n    {\n      \"column\": \"carat\",\n      \"properties\": {\n        \"dtype\": \"number\",\n        \"std\": 141.09170725893935,\n        \"min\": 0.23,\n        \"max\": 400.0,\n        \"num_unique_values\": 8,\n        \"samples\": [\n          0.7691,\n          0.7,\n          400.0\n        ],\n        \"semantic_type\": \"\",\n        \"description\": \"\"\n      }\n    }\n  ]\n}",
       "type": "dataframe"
      },
      "text/html": [
       "\n",
       "  <div id=\"df-128c09af-9c86-4e22-aa67-a8f07a8bf0df\" class=\"colab-df-container\">\n",
       "    <div>\n",
       "<style scoped>\n",
       "    .dataframe tbody tr th:only-of-type {\n",
       "        vertical-align: middle;\n",
       "    }\n",
       "\n",
       "    .dataframe tbody tr th {\n",
       "        vertical-align: top;\n",
       "    }\n",
       "\n",
       "    .dataframe thead th {\n",
       "        text-align: right;\n",
       "    }\n",
       "</style>\n",
       "<table border=\"1\" class=\"dataframe\">\n",
       "  <thead>\n",
       "    <tr style=\"text-align: right;\">\n",
       "      <th></th>\n",
       "      <th>x</th>\n",
       "      <th>y</th>\n",
       "      <th>z</th>\n",
       "      <th>table</th>\n",
       "      <th>depth</th>\n",
       "      <th>carat</th>\n",
       "    </tr>\n",
       "  </thead>\n",
       "  <tbody>\n",
       "    <tr>\n",
       "      <th>count</th>\n",
       "      <td>400.000000</td>\n",
       "      <td>400.000000</td>\n",
       "      <td>400.000000</td>\n",
       "      <td>400.000000</td>\n",
       "      <td>400.000000</td>\n",
       "      <td>400.00000</td>\n",
       "    </tr>\n",
       "    <tr>\n",
       "      <th>mean</th>\n",
       "      <td>5.663400</td>\n",
       "      <td>5.665550</td>\n",
       "      <td>3.489300</td>\n",
       "      <td>57.504250</td>\n",
       "      <td>61.609750</td>\n",
       "      <td>0.76910</td>\n",
       "    </tr>\n",
       "    <tr>\n",
       "      <th>std</th>\n",
       "      <td>1.126584</td>\n",
       "      <td>1.116961</td>\n",
       "      <td>0.693352</td>\n",
       "      <td>2.051103</td>\n",
       "      <td>1.460072</td>\n",
       "      <td>0.46942</td>\n",
       "    </tr>\n",
       "    <tr>\n",
       "      <th>min</th>\n",
       "      <td>3.840000</td>\n",
       "      <td>3.890000</td>\n",
       "      <td>2.380000</td>\n",
       "      <td>53.000000</td>\n",
       "      <td>57.100000</td>\n",
       "      <td>0.23000</td>\n",
       "    </tr>\n",
       "    <tr>\n",
       "      <th>25%</th>\n",
       "      <td>4.660000</td>\n",
       "      <td>4.665000</td>\n",
       "      <td>2.870000</td>\n",
       "      <td>56.000000</td>\n",
       "      <td>60.800000</td>\n",
       "      <td>0.38000</td>\n",
       "    </tr>\n",
       "    <tr>\n",
       "      <th>50%</th>\n",
       "      <td>5.660000</td>\n",
       "      <td>5.660000</td>\n",
       "      <td>3.490000</td>\n",
       "      <td>57.000000</td>\n",
       "      <td>61.700000</td>\n",
       "      <td>0.70000</td>\n",
       "    </tr>\n",
       "    <tr>\n",
       "      <th>75%</th>\n",
       "      <td>6.490000</td>\n",
       "      <td>6.502500</td>\n",
       "      <td>4.020000</td>\n",
       "      <td>59.000000</td>\n",
       "      <td>62.400000</td>\n",
       "      <td>1.02250</td>\n",
       "    </tr>\n",
       "    <tr>\n",
       "      <th>max</th>\n",
       "      <td>9.100000</td>\n",
       "      <td>8.970000</td>\n",
       "      <td>5.670000</td>\n",
       "      <td>65.000000</td>\n",
       "      <td>68.600000</td>\n",
       "      <td>3.01000</td>\n",
       "    </tr>\n",
       "  </tbody>\n",
       "</table>\n",
       "</div>\n",
       "    <div class=\"colab-df-buttons\">\n",
       "\n",
       "  <div class=\"colab-df-container\">\n",
       "    <button class=\"colab-df-convert\" onclick=\"convertToInteractive('df-128c09af-9c86-4e22-aa67-a8f07a8bf0df')\"\n",
       "            title=\"Convert this dataframe to an interactive table.\"\n",
       "            style=\"display:none;\">\n",
       "\n",
       "  <svg xmlns=\"http://www.w3.org/2000/svg\" height=\"24px\" viewBox=\"0 -960 960 960\">\n",
       "    <path d=\"M120-120v-720h720v720H120Zm60-500h600v-160H180v160Zm220 220h160v-160H400v160Zm0 220h160v-160H400v160ZM180-400h160v-160H180v160Zm440 0h160v-160H620v160ZM180-180h160v-160H180v160Zm440 0h160v-160H620v160Z\"/>\n",
       "  </svg>\n",
       "    </button>\n",
       "\n",
       "  <style>\n",
       "    .colab-df-container {\n",
       "      display:flex;\n",
       "      gap: 12px;\n",
       "    }\n",
       "\n",
       "    .colab-df-convert {\n",
       "      background-color: #E8F0FE;\n",
       "      border: none;\n",
       "      border-radius: 50%;\n",
       "      cursor: pointer;\n",
       "      display: none;\n",
       "      fill: #1967D2;\n",
       "      height: 32px;\n",
       "      padding: 0 0 0 0;\n",
       "      width: 32px;\n",
       "    }\n",
       "\n",
       "    .colab-df-convert:hover {\n",
       "      background-color: #E2EBFA;\n",
       "      box-shadow: 0px 1px 2px rgba(60, 64, 67, 0.3), 0px 1px 3px 1px rgba(60, 64, 67, 0.15);\n",
       "      fill: #174EA6;\n",
       "    }\n",
       "\n",
       "    .colab-df-buttons div {\n",
       "      margin-bottom: 4px;\n",
       "    }\n",
       "\n",
       "    [theme=dark] .colab-df-convert {\n",
       "      background-color: #3B4455;\n",
       "      fill: #D2E3FC;\n",
       "    }\n",
       "\n",
       "    [theme=dark] .colab-df-convert:hover {\n",
       "      background-color: #434B5C;\n",
       "      box-shadow: 0px 1px 3px 1px rgba(0, 0, 0, 0.15);\n",
       "      filter: drop-shadow(0px 1px 2px rgba(0, 0, 0, 0.3));\n",
       "      fill: #FFFFFF;\n",
       "    }\n",
       "  </style>\n",
       "\n",
       "    <script>\n",
       "      const buttonEl =\n",
       "        document.querySelector('#df-128c09af-9c86-4e22-aa67-a8f07a8bf0df button.colab-df-convert');\n",
       "      buttonEl.style.display =\n",
       "        google.colab.kernel.accessAllowed ? 'block' : 'none';\n",
       "\n",
       "      async function convertToInteractive(key) {\n",
       "        const element = document.querySelector('#df-128c09af-9c86-4e22-aa67-a8f07a8bf0df');\n",
       "        const dataTable =\n",
       "          await google.colab.kernel.invokeFunction('convertToInteractive',\n",
       "                                                    [key], {});\n",
       "        if (!dataTable) return;\n",
       "\n",
       "        const docLinkHtml = 'Like what you see? Visit the ' +\n",
       "          '<a target=\"_blank\" href=https://colab.research.google.com/notebooks/data_table.ipynb>data table notebook</a>'\n",
       "          + ' to learn more about interactive tables.';\n",
       "        element.innerHTML = '';\n",
       "        dataTable['output_type'] = 'display_data';\n",
       "        await google.colab.output.renderOutput(dataTable, element);\n",
       "        const docLink = document.createElement('div');\n",
       "        docLink.innerHTML = docLinkHtml;\n",
       "        element.appendChild(docLink);\n",
       "      }\n",
       "    </script>\n",
       "  </div>\n",
       "\n",
       "\n",
       "<div id=\"df-255e1492-c3fa-4ca6-a753-71a5bf8fa59b\">\n",
       "  <button class=\"colab-df-quickchart\" onclick=\"quickchart('df-255e1492-c3fa-4ca6-a753-71a5bf8fa59b')\"\n",
       "            title=\"Suggest charts\"\n",
       "            style=\"display:none;\">\n",
       "\n",
       "<svg xmlns=\"http://www.w3.org/2000/svg\" height=\"24px\"viewBox=\"0 0 24 24\"\n",
       "     width=\"24px\">\n",
       "    <g>\n",
       "        <path d=\"M19 3H5c-1.1 0-2 .9-2 2v14c0 1.1.9 2 2 2h14c1.1 0 2-.9 2-2V5c0-1.1-.9-2-2-2zM9 17H7v-7h2v7zm4 0h-2V7h2v10zm4 0h-2v-4h2v4z\"/>\n",
       "    </g>\n",
       "</svg>\n",
       "  </button>\n",
       "\n",
       "<style>\n",
       "  .colab-df-quickchart {\n",
       "      --bg-color: #E8F0FE;\n",
       "      --fill-color: #1967D2;\n",
       "      --hover-bg-color: #E2EBFA;\n",
       "      --hover-fill-color: #174EA6;\n",
       "      --disabled-fill-color: #AAA;\n",
       "      --disabled-bg-color: #DDD;\n",
       "  }\n",
       "\n",
       "  [theme=dark] .colab-df-quickchart {\n",
       "      --bg-color: #3B4455;\n",
       "      --fill-color: #D2E3FC;\n",
       "      --hover-bg-color: #434B5C;\n",
       "      --hover-fill-color: #FFFFFF;\n",
       "      --disabled-bg-color: #3B4455;\n",
       "      --disabled-fill-color: #666;\n",
       "  }\n",
       "\n",
       "  .colab-df-quickchart {\n",
       "    background-color: var(--bg-color);\n",
       "    border: none;\n",
       "    border-radius: 50%;\n",
       "    cursor: pointer;\n",
       "    display: none;\n",
       "    fill: var(--fill-color);\n",
       "    height: 32px;\n",
       "    padding: 0;\n",
       "    width: 32px;\n",
       "  }\n",
       "\n",
       "  .colab-df-quickchart:hover {\n",
       "    background-color: var(--hover-bg-color);\n",
       "    box-shadow: 0 1px 2px rgba(60, 64, 67, 0.3), 0 1px 3px 1px rgba(60, 64, 67, 0.15);\n",
       "    fill: var(--button-hover-fill-color);\n",
       "  }\n",
       "\n",
       "  .colab-df-quickchart-complete:disabled,\n",
       "  .colab-df-quickchart-complete:disabled:hover {\n",
       "    background-color: var(--disabled-bg-color);\n",
       "    fill: var(--disabled-fill-color);\n",
       "    box-shadow: none;\n",
       "  }\n",
       "\n",
       "  .colab-df-spinner {\n",
       "    border: 2px solid var(--fill-color);\n",
       "    border-color: transparent;\n",
       "    border-bottom-color: var(--fill-color);\n",
       "    animation:\n",
       "      spin 1s steps(1) infinite;\n",
       "  }\n",
       "\n",
       "  @keyframes spin {\n",
       "    0% {\n",
       "      border-color: transparent;\n",
       "      border-bottom-color: var(--fill-color);\n",
       "      border-left-color: var(--fill-color);\n",
       "    }\n",
       "    20% {\n",
       "      border-color: transparent;\n",
       "      border-left-color: var(--fill-color);\n",
       "      border-top-color: var(--fill-color);\n",
       "    }\n",
       "    30% {\n",
       "      border-color: transparent;\n",
       "      border-left-color: var(--fill-color);\n",
       "      border-top-color: var(--fill-color);\n",
       "      border-right-color: var(--fill-color);\n",
       "    }\n",
       "    40% {\n",
       "      border-color: transparent;\n",
       "      border-right-color: var(--fill-color);\n",
       "      border-top-color: var(--fill-color);\n",
       "    }\n",
       "    60% {\n",
       "      border-color: transparent;\n",
       "      border-right-color: var(--fill-color);\n",
       "    }\n",
       "    80% {\n",
       "      border-color: transparent;\n",
       "      border-right-color: var(--fill-color);\n",
       "      border-bottom-color: var(--fill-color);\n",
       "    }\n",
       "    90% {\n",
       "      border-color: transparent;\n",
       "      border-bottom-color: var(--fill-color);\n",
       "    }\n",
       "  }\n",
       "</style>\n",
       "\n",
       "  <script>\n",
       "    async function quickchart(key) {\n",
       "      const quickchartButtonEl =\n",
       "        document.querySelector('#' + key + ' button');\n",
       "      quickchartButtonEl.disabled = true;  // To prevent multiple clicks.\n",
       "      quickchartButtonEl.classList.add('colab-df-spinner');\n",
       "      try {\n",
       "        const charts = await google.colab.kernel.invokeFunction(\n",
       "            'suggestCharts', [key], {});\n",
       "      } catch (error) {\n",
       "        console.error('Error during call to suggestCharts:', error);\n",
       "      }\n",
       "      quickchartButtonEl.classList.remove('colab-df-spinner');\n",
       "      quickchartButtonEl.classList.add('colab-df-quickchart-complete');\n",
       "    }\n",
       "    (() => {\n",
       "      let quickchartButtonEl =\n",
       "        document.querySelector('#df-255e1492-c3fa-4ca6-a753-71a5bf8fa59b button');\n",
       "      quickchartButtonEl.style.display =\n",
       "        google.colab.kernel.accessAllowed ? 'block' : 'none';\n",
       "    })();\n",
       "  </script>\n",
       "</div>\n",
       "    </div>\n",
       "  </div>\n"
      ],
      "text/plain": [
       "                x           y           z       table       depth      carat\n",
       "count  400.000000  400.000000  400.000000  400.000000  400.000000  400.00000\n",
       "mean     5.663400    5.665550    3.489300   57.504250   61.609750    0.76910\n",
       "std      1.126584    1.116961    0.693352    2.051103    1.460072    0.46942\n",
       "min      3.840000    3.890000    2.380000   53.000000   57.100000    0.23000\n",
       "25%      4.660000    4.665000    2.870000   56.000000   60.800000    0.38000\n",
       "50%      5.660000    5.660000    3.490000   57.000000   61.700000    0.70000\n",
       "75%      6.490000    6.502500    4.020000   59.000000   62.400000    1.02250\n",
       "max      9.100000    8.970000    5.670000   65.000000   68.600000    3.01000"
      ]
     },
     "execution_count": 307,
     "metadata": {},
     "output_type": "execute_result"
    }
   ],
   "source": [
    "data.describe()"
   ]
  },
  {
   "cell_type": "code",
   "execution_count": null,
   "metadata": {
    "colab": {
     "base_uri": "https://localhost:8080/",
     "height": 238
    },
    "id": "Huvleu2zPdRa",
    "outputId": "2ced9eb5-e55e-4276-e34a-7d2fde93ed8b"
   },
   "outputs": [
    {
     "data": {
      "application/vnd.google.colaboratory.intrinsic+json": {
       "summary": "{\n  \"name\": \"data\",\n  \"rows\": 6,\n  \"fields\": [\n    {\n      \"column\": \"x\",\n      \"properties\": {\n        \"dtype\": \"number\",\n        \"std\": 0.47265695616623743,\n        \"min\": -0.023729951715165135,\n        \"max\": 1.0,\n        \"num_unique_values\": 6,\n        \"samples\": [\n          1.0,\n          0.9989539508549412,\n          0.974184255100203\n        ],\n        \"semantic_type\": \"\",\n        \"description\": \"\"\n      }\n    },\n    {\n      \"column\": \"y\",\n      \"properties\": {\n        \"dtype\": \"number\",\n        \"std\": 0.47494992700017313,\n        \"min\": -0.02963033016643352,\n        \"max\": 1.0,\n        \"num_unique_values\": 6,\n        \"samples\": [\n          0.9989539508549412,\n          1.0,\n          0.9732076390146578\n        ],\n        \"semantic_type\": \"\",\n        \"description\": \"\"\n      }\n    },\n    {\n      \"column\": \"z\",\n      \"properties\": {\n        \"dtype\": \"number\",\n        \"std\": 0.4450299922125392,\n        \"min\": 0.09942871862150289,\n        \"max\": 1.0,\n        \"num_unique_values\": 6,\n        \"samples\": [\n          0.991859386927779,\n          0.9911654032259867,\n          0.973167749957078\n        ],\n        \"semantic_type\": \"\",\n        \"description\": \"\"\n      }\n    },\n    {\n      \"column\": \"table\",\n      \"properties\": {\n        \"dtype\": \"number\",\n        \"std\": 0.4193741517882272,\n        \"min\": -0.29741742490579304,\n        \"max\": 1.0,\n        \"num_unique_values\": 6,\n        \"samples\": [\n          0.19585264835653315,\n          0.19241403237499166,\n          0.19720359612104776\n        ],\n        \"semantic_type\": \"\",\n        \"description\": \"\"\n      }\n    },\n    {\n      \"column\": \"depth\",\n      \"properties\": {\n        \"dtype\": \"number\",\n        \"std\": 0.44722084283989455,\n        \"min\": -0.29741742490579304,\n        \"max\": 1.0,\n        \"num_unique_values\": 6,\n        \"samples\": [\n          -0.023729951715165135,\n          -0.02963033016643352,\n          0.02802325733396164\n        ],\n        \"semantic_type\": \"\",\n        \"description\": \"\"\n      }\n    },\n    {\n      \"column\": \"carat\",\n      \"properties\": {\n        \"dtype\": \"number\",\n        \"std\": 0.4512886338416607,\n        \"min\": 0.02802325733396164,\n        \"max\": 1.0,\n        \"num_unique_values\": 6,\n        \"samples\": [\n          0.974184255100203,\n          0.9732076390146578,\n          1.0\n        ],\n        \"semantic_type\": \"\",\n        \"description\": \"\"\n      }\n    }\n  ]\n}",
       "type": "dataframe"
      },
      "text/html": [
       "\n",
       "  <div id=\"df-5b6fa9ee-f298-44d6-b84b-80554ad6ddb7\" class=\"colab-df-container\">\n",
       "    <div>\n",
       "<style scoped>\n",
       "    .dataframe tbody tr th:only-of-type {\n",
       "        vertical-align: middle;\n",
       "    }\n",
       "\n",
       "    .dataframe tbody tr th {\n",
       "        vertical-align: top;\n",
       "    }\n",
       "\n",
       "    .dataframe thead th {\n",
       "        text-align: right;\n",
       "    }\n",
       "</style>\n",
       "<table border=\"1\" class=\"dataframe\">\n",
       "  <thead>\n",
       "    <tr style=\"text-align: right;\">\n",
       "      <th></th>\n",
       "      <th>x</th>\n",
       "      <th>y</th>\n",
       "      <th>z</th>\n",
       "      <th>table</th>\n",
       "      <th>depth</th>\n",
       "      <th>carat</th>\n",
       "    </tr>\n",
       "  </thead>\n",
       "  <tbody>\n",
       "    <tr>\n",
       "      <th>x</th>\n",
       "      <td>1.000000</td>\n",
       "      <td>0.998954</td>\n",
       "      <td>0.991859</td>\n",
       "      <td>0.195853</td>\n",
       "      <td>-0.023730</td>\n",
       "      <td>0.974184</td>\n",
       "    </tr>\n",
       "    <tr>\n",
       "      <th>y</th>\n",
       "      <td>0.998954</td>\n",
       "      <td>1.000000</td>\n",
       "      <td>0.991165</td>\n",
       "      <td>0.192414</td>\n",
       "      <td>-0.029630</td>\n",
       "      <td>0.973208</td>\n",
       "    </tr>\n",
       "    <tr>\n",
       "      <th>z</th>\n",
       "      <td>0.991859</td>\n",
       "      <td>0.991165</td>\n",
       "      <td>1.000000</td>\n",
       "      <td>0.156844</td>\n",
       "      <td>0.099429</td>\n",
       "      <td>0.973168</td>\n",
       "    </tr>\n",
       "    <tr>\n",
       "      <th>table</th>\n",
       "      <td>0.195853</td>\n",
       "      <td>0.192414</td>\n",
       "      <td>0.156844</td>\n",
       "      <td>1.000000</td>\n",
       "      <td>-0.297417</td>\n",
       "      <td>0.197204</td>\n",
       "    </tr>\n",
       "    <tr>\n",
       "      <th>depth</th>\n",
       "      <td>-0.023730</td>\n",
       "      <td>-0.029630</td>\n",
       "      <td>0.099429</td>\n",
       "      <td>-0.297417</td>\n",
       "      <td>1.000000</td>\n",
       "      <td>0.028023</td>\n",
       "    </tr>\n",
       "    <tr>\n",
       "      <th>carat</th>\n",
       "      <td>0.974184</td>\n",
       "      <td>0.973208</td>\n",
       "      <td>0.973168</td>\n",
       "      <td>0.197204</td>\n",
       "      <td>0.028023</td>\n",
       "      <td>1.000000</td>\n",
       "    </tr>\n",
       "  </tbody>\n",
       "</table>\n",
       "</div>\n",
       "    <div class=\"colab-df-buttons\">\n",
       "\n",
       "  <div class=\"colab-df-container\">\n",
       "    <button class=\"colab-df-convert\" onclick=\"convertToInteractive('df-5b6fa9ee-f298-44d6-b84b-80554ad6ddb7')\"\n",
       "            title=\"Convert this dataframe to an interactive table.\"\n",
       "            style=\"display:none;\">\n",
       "\n",
       "  <svg xmlns=\"http://www.w3.org/2000/svg\" height=\"24px\" viewBox=\"0 -960 960 960\">\n",
       "    <path d=\"M120-120v-720h720v720H120Zm60-500h600v-160H180v160Zm220 220h160v-160H400v160Zm0 220h160v-160H400v160ZM180-400h160v-160H180v160Zm440 0h160v-160H620v160ZM180-180h160v-160H180v160Zm440 0h160v-160H620v160Z\"/>\n",
       "  </svg>\n",
       "    </button>\n",
       "\n",
       "  <style>\n",
       "    .colab-df-container {\n",
       "      display:flex;\n",
       "      gap: 12px;\n",
       "    }\n",
       "\n",
       "    .colab-df-convert {\n",
       "      background-color: #E8F0FE;\n",
       "      border: none;\n",
       "      border-radius: 50%;\n",
       "      cursor: pointer;\n",
       "      display: none;\n",
       "      fill: #1967D2;\n",
       "      height: 32px;\n",
       "      padding: 0 0 0 0;\n",
       "      width: 32px;\n",
       "    }\n",
       "\n",
       "    .colab-df-convert:hover {\n",
       "      background-color: #E2EBFA;\n",
       "      box-shadow: 0px 1px 2px rgba(60, 64, 67, 0.3), 0px 1px 3px 1px rgba(60, 64, 67, 0.15);\n",
       "      fill: #174EA6;\n",
       "    }\n",
       "\n",
       "    .colab-df-buttons div {\n",
       "      margin-bottom: 4px;\n",
       "    }\n",
       "\n",
       "    [theme=dark] .colab-df-convert {\n",
       "      background-color: #3B4455;\n",
       "      fill: #D2E3FC;\n",
       "    }\n",
       "\n",
       "    [theme=dark] .colab-df-convert:hover {\n",
       "      background-color: #434B5C;\n",
       "      box-shadow: 0px 1px 3px 1px rgba(0, 0, 0, 0.15);\n",
       "      filter: drop-shadow(0px 1px 2px rgba(0, 0, 0, 0.3));\n",
       "      fill: #FFFFFF;\n",
       "    }\n",
       "  </style>\n",
       "\n",
       "    <script>\n",
       "      const buttonEl =\n",
       "        document.querySelector('#df-5b6fa9ee-f298-44d6-b84b-80554ad6ddb7 button.colab-df-convert');\n",
       "      buttonEl.style.display =\n",
       "        google.colab.kernel.accessAllowed ? 'block' : 'none';\n",
       "\n",
       "      async function convertToInteractive(key) {\n",
       "        const element = document.querySelector('#df-5b6fa9ee-f298-44d6-b84b-80554ad6ddb7');\n",
       "        const dataTable =\n",
       "          await google.colab.kernel.invokeFunction('convertToInteractive',\n",
       "                                                    [key], {});\n",
       "        if (!dataTable) return;\n",
       "\n",
       "        const docLinkHtml = 'Like what you see? Visit the ' +\n",
       "          '<a target=\"_blank\" href=https://colab.research.google.com/notebooks/data_table.ipynb>data table notebook</a>'\n",
       "          + ' to learn more about interactive tables.';\n",
       "        element.innerHTML = '';\n",
       "        dataTable['output_type'] = 'display_data';\n",
       "        await google.colab.output.renderOutput(dataTable, element);\n",
       "        const docLink = document.createElement('div');\n",
       "        docLink.innerHTML = docLinkHtml;\n",
       "        element.appendChild(docLink);\n",
       "      }\n",
       "    </script>\n",
       "  </div>\n",
       "\n",
       "\n",
       "<div id=\"df-5f499dbd-e6d9-41af-b747-fc74c0cdda2c\">\n",
       "  <button class=\"colab-df-quickchart\" onclick=\"quickchart('df-5f499dbd-e6d9-41af-b747-fc74c0cdda2c')\"\n",
       "            title=\"Suggest charts\"\n",
       "            style=\"display:none;\">\n",
       "\n",
       "<svg xmlns=\"http://www.w3.org/2000/svg\" height=\"24px\"viewBox=\"0 0 24 24\"\n",
       "     width=\"24px\">\n",
       "    <g>\n",
       "        <path d=\"M19 3H5c-1.1 0-2 .9-2 2v14c0 1.1.9 2 2 2h14c1.1 0 2-.9 2-2V5c0-1.1-.9-2-2-2zM9 17H7v-7h2v7zm4 0h-2V7h2v10zm4 0h-2v-4h2v4z\"/>\n",
       "    </g>\n",
       "</svg>\n",
       "  </button>\n",
       "\n",
       "<style>\n",
       "  .colab-df-quickchart {\n",
       "      --bg-color: #E8F0FE;\n",
       "      --fill-color: #1967D2;\n",
       "      --hover-bg-color: #E2EBFA;\n",
       "      --hover-fill-color: #174EA6;\n",
       "      --disabled-fill-color: #AAA;\n",
       "      --disabled-bg-color: #DDD;\n",
       "  }\n",
       "\n",
       "  [theme=dark] .colab-df-quickchart {\n",
       "      --bg-color: #3B4455;\n",
       "      --fill-color: #D2E3FC;\n",
       "      --hover-bg-color: #434B5C;\n",
       "      --hover-fill-color: #FFFFFF;\n",
       "      --disabled-bg-color: #3B4455;\n",
       "      --disabled-fill-color: #666;\n",
       "  }\n",
       "\n",
       "  .colab-df-quickchart {\n",
       "    background-color: var(--bg-color);\n",
       "    border: none;\n",
       "    border-radius: 50%;\n",
       "    cursor: pointer;\n",
       "    display: none;\n",
       "    fill: var(--fill-color);\n",
       "    height: 32px;\n",
       "    padding: 0;\n",
       "    width: 32px;\n",
       "  }\n",
       "\n",
       "  .colab-df-quickchart:hover {\n",
       "    background-color: var(--hover-bg-color);\n",
       "    box-shadow: 0 1px 2px rgba(60, 64, 67, 0.3), 0 1px 3px 1px rgba(60, 64, 67, 0.15);\n",
       "    fill: var(--button-hover-fill-color);\n",
       "  }\n",
       "\n",
       "  .colab-df-quickchart-complete:disabled,\n",
       "  .colab-df-quickchart-complete:disabled:hover {\n",
       "    background-color: var(--disabled-bg-color);\n",
       "    fill: var(--disabled-fill-color);\n",
       "    box-shadow: none;\n",
       "  }\n",
       "\n",
       "  .colab-df-spinner {\n",
       "    border: 2px solid var(--fill-color);\n",
       "    border-color: transparent;\n",
       "    border-bottom-color: var(--fill-color);\n",
       "    animation:\n",
       "      spin 1s steps(1) infinite;\n",
       "  }\n",
       "\n",
       "  @keyframes spin {\n",
       "    0% {\n",
       "      border-color: transparent;\n",
       "      border-bottom-color: var(--fill-color);\n",
       "      border-left-color: var(--fill-color);\n",
       "    }\n",
       "    20% {\n",
       "      border-color: transparent;\n",
       "      border-left-color: var(--fill-color);\n",
       "      border-top-color: var(--fill-color);\n",
       "    }\n",
       "    30% {\n",
       "      border-color: transparent;\n",
       "      border-left-color: var(--fill-color);\n",
       "      border-top-color: var(--fill-color);\n",
       "      border-right-color: var(--fill-color);\n",
       "    }\n",
       "    40% {\n",
       "      border-color: transparent;\n",
       "      border-right-color: var(--fill-color);\n",
       "      border-top-color: var(--fill-color);\n",
       "    }\n",
       "    60% {\n",
       "      border-color: transparent;\n",
       "      border-right-color: var(--fill-color);\n",
       "    }\n",
       "    80% {\n",
       "      border-color: transparent;\n",
       "      border-right-color: var(--fill-color);\n",
       "      border-bottom-color: var(--fill-color);\n",
       "    }\n",
       "    90% {\n",
       "      border-color: transparent;\n",
       "      border-bottom-color: var(--fill-color);\n",
       "    }\n",
       "  }\n",
       "</style>\n",
       "\n",
       "  <script>\n",
       "    async function quickchart(key) {\n",
       "      const quickchartButtonEl =\n",
       "        document.querySelector('#' + key + ' button');\n",
       "      quickchartButtonEl.disabled = true;  // To prevent multiple clicks.\n",
       "      quickchartButtonEl.classList.add('colab-df-spinner');\n",
       "      try {\n",
       "        const charts = await google.colab.kernel.invokeFunction(\n",
       "            'suggestCharts', [key], {});\n",
       "      } catch (error) {\n",
       "        console.error('Error during call to suggestCharts:', error);\n",
       "      }\n",
       "      quickchartButtonEl.classList.remove('colab-df-spinner');\n",
       "      quickchartButtonEl.classList.add('colab-df-quickchart-complete');\n",
       "    }\n",
       "    (() => {\n",
       "      let quickchartButtonEl =\n",
       "        document.querySelector('#df-5f499dbd-e6d9-41af-b747-fc74c0cdda2c button');\n",
       "      quickchartButtonEl.style.display =\n",
       "        google.colab.kernel.accessAllowed ? 'block' : 'none';\n",
       "    })();\n",
       "  </script>\n",
       "</div>\n",
       "    </div>\n",
       "  </div>\n"
      ],
      "text/plain": [
       "              x         y         z     table     depth     carat\n",
       "x      1.000000  0.998954  0.991859  0.195853 -0.023730  0.974184\n",
       "y      0.998954  1.000000  0.991165  0.192414 -0.029630  0.973208\n",
       "z      0.991859  0.991165  1.000000  0.156844  0.099429  0.973168\n",
       "table  0.195853  0.192414  0.156844  1.000000 -0.297417  0.197204\n",
       "depth -0.023730 -0.029630  0.099429 -0.297417  1.000000  0.028023\n",
       "carat  0.974184  0.973208  0.973168  0.197204  0.028023  1.000000"
      ]
     },
     "execution_count": 308,
     "metadata": {},
     "output_type": "execute_result"
    }
   ],
   "source": [
    "data.corr()"
   ]
  },
  {
   "cell_type": "markdown",
   "metadata": {
    "id": "IoQjpfakPQ5o"
   },
   "source": [
    "# Data standardization"
   ]
  },
  {
   "cell_type": "code",
   "execution_count": null,
   "metadata": {
    "colab": {
     "base_uri": "https://localhost:8080/",
     "height": 272
    },
    "id": "olYo_gCeaaVt",
    "outputId": "ed5d27ef-519e-468f-b1d8-7cff8ed02890"
   },
   "outputs": [
    {
     "data": {
      "text/html": [
       "<div>\n",
       "<style scoped>\n",
       "    .dataframe tbody tr th:only-of-type {\n",
       "        vertical-align: middle;\n",
       "    }\n",
       "\n",
       "    .dataframe tbody tr th {\n",
       "        vertical-align: top;\n",
       "    }\n",
       "\n",
       "    .dataframe thead th {\n",
       "        text-align: right;\n",
       "    }\n",
       "</style>\n",
       "<table border=\"1\" class=\"dataframe\">\n",
       "  <thead>\n",
       "    <tr style=\"text-align: right;\">\n",
       "      <th></th>\n",
       "      <th>0</th>\n",
       "    </tr>\n",
       "  </thead>\n",
       "  <tbody>\n",
       "    <tr>\n",
       "      <th>x</th>\n",
       "      <td>5.66340</td>\n",
       "    </tr>\n",
       "    <tr>\n",
       "      <th>y</th>\n",
       "      <td>5.66555</td>\n",
       "    </tr>\n",
       "    <tr>\n",
       "      <th>z</th>\n",
       "      <td>3.48930</td>\n",
       "    </tr>\n",
       "    <tr>\n",
       "      <th>table</th>\n",
       "      <td>57.50425</td>\n",
       "    </tr>\n",
       "    <tr>\n",
       "      <th>depth</th>\n",
       "      <td>61.60975</td>\n",
       "    </tr>\n",
       "    <tr>\n",
       "      <th>carat</th>\n",
       "      <td>0.76910</td>\n",
       "    </tr>\n",
       "  </tbody>\n",
       "</table>\n",
       "</div><br><label><b>dtype:</b> float64</label>"
      ],
      "text/plain": [
       "x         5.66340\n",
       "y         5.66555\n",
       "z         3.48930\n",
       "table    57.50425\n",
       "depth    61.60975\n",
       "carat     0.76910\n",
       "dtype: float64"
      ]
     },
     "execution_count": 309,
     "metadata": {},
     "output_type": "execute_result"
    }
   ],
   "source": [
    "means = data.mean(axis=0)\n",
    "means"
   ]
  },
  {
   "cell_type": "code",
   "execution_count": null,
   "metadata": {
    "colab": {
     "base_uri": "https://localhost:8080/",
     "height": 272
    },
    "id": "23QwrsszamuA",
    "outputId": "7df56400-5133-4cb4-9980-b8c032ed0153"
   },
   "outputs": [
    {
     "data": {
      "text/html": [
       "<div>\n",
       "<style scoped>\n",
       "    .dataframe tbody tr th:only-of-type {\n",
       "        vertical-align: middle;\n",
       "    }\n",
       "\n",
       "    .dataframe tbody tr th {\n",
       "        vertical-align: top;\n",
       "    }\n",
       "\n",
       "    .dataframe thead th {\n",
       "        text-align: right;\n",
       "    }\n",
       "</style>\n",
       "<table border=\"1\" class=\"dataframe\">\n",
       "  <thead>\n",
       "    <tr style=\"text-align: right;\">\n",
       "      <th></th>\n",
       "      <th>0</th>\n",
       "    </tr>\n",
       "  </thead>\n",
       "  <tbody>\n",
       "    <tr>\n",
       "      <th>x</th>\n",
       "      <td>1.126584</td>\n",
       "    </tr>\n",
       "    <tr>\n",
       "      <th>y</th>\n",
       "      <td>1.116961</td>\n",
       "    </tr>\n",
       "    <tr>\n",
       "      <th>z</th>\n",
       "      <td>0.693352</td>\n",
       "    </tr>\n",
       "    <tr>\n",
       "      <th>table</th>\n",
       "      <td>2.051103</td>\n",
       "    </tr>\n",
       "    <tr>\n",
       "      <th>depth</th>\n",
       "      <td>1.460072</td>\n",
       "    </tr>\n",
       "    <tr>\n",
       "      <th>carat</th>\n",
       "      <td>0.469420</td>\n",
       "    </tr>\n",
       "  </tbody>\n",
       "</table>\n",
       "</div><br><label><b>dtype:</b> float64</label>"
      ],
      "text/plain": [
       "x        1.126584\n",
       "y        1.116961\n",
       "z        0.693352\n",
       "table    2.051103\n",
       "depth    1.460072\n",
       "carat    0.469420\n",
       "dtype: float64"
      ]
     },
     "execution_count": 310,
     "metadata": {},
     "output_type": "execute_result"
    }
   ],
   "source": [
    "stds = data.std(axis=0)\n",
    "stds"
   ]
  },
  {
   "cell_type": "code",
   "execution_count": null,
   "metadata": {
    "colab": {
     "base_uri": "https://localhost:8080/",
     "height": 272
    },
    "id": "gLcJkWUrhicB",
    "outputId": "0af4fa0e-d698-44d5-ec73-6aac2f1b35ba"
   },
   "outputs": [
    {
     "data": {
      "text/html": [
       "<div>\n",
       "<style scoped>\n",
       "    .dataframe tbody tr th:only-of-type {\n",
       "        vertical-align: middle;\n",
       "    }\n",
       "\n",
       "    .dataframe tbody tr th {\n",
       "        vertical-align: top;\n",
       "    }\n",
       "\n",
       "    .dataframe thead th {\n",
       "        text-align: right;\n",
       "    }\n",
       "</style>\n",
       "<table border=\"1\" class=\"dataframe\">\n",
       "  <thead>\n",
       "    <tr style=\"text-align: right;\">\n",
       "      <th></th>\n",
       "      <th>0</th>\n",
       "    </tr>\n",
       "  </thead>\n",
       "  <tbody>\n",
       "    <tr>\n",
       "      <th>x</th>\n",
       "      <td>5.26</td>\n",
       "    </tr>\n",
       "    <tr>\n",
       "      <th>y</th>\n",
       "      <td>5.08</td>\n",
       "    </tr>\n",
       "    <tr>\n",
       "      <th>z</th>\n",
       "      <td>3.29</td>\n",
       "    </tr>\n",
       "    <tr>\n",
       "      <th>table</th>\n",
       "      <td>12.00</td>\n",
       "    </tr>\n",
       "    <tr>\n",
       "      <th>depth</th>\n",
       "      <td>11.50</td>\n",
       "    </tr>\n",
       "    <tr>\n",
       "      <th>carat</th>\n",
       "      <td>2.78</td>\n",
       "    </tr>\n",
       "  </tbody>\n",
       "</table>\n",
       "</div><br><label><b>dtype:</b> float64</label>"
      ],
      "text/plain": [
       "x         5.26\n",
       "y         5.08\n",
       "z         3.29\n",
       "table    12.00\n",
       "depth    11.50\n",
       "carat     2.78\n",
       "dtype: float64"
      ]
     },
     "execution_count": 311,
     "metadata": {},
     "output_type": "execute_result"
    }
   ],
   "source": [
    "ranges = data.max(axis=0) - data.min(axis=0)\n",
    "ranges"
   ]
  },
  {
   "cell_type": "code",
   "execution_count": null,
   "metadata": {
    "id": "IR6I-5pObXj0"
   },
   "outputs": [],
   "source": [
    "# Z-score normalization\n",
    "data_zs = (data - means) / stds\n",
    "\n",
    "# Range normalization\n",
    "data_rd = (data - means) / ranges\n",
    "\n",
    "# Ranking normalization\n",
    "data_rn = 100.0 * (data - data.min(axis=0)) / ranges"
   ]
  },
  {
   "cell_type": "code",
   "execution_count": null,
   "metadata": {
    "colab": {
     "base_uri": "https://localhost:8080/"
    },
    "id": "rRB_Av-LiBxt",
    "outputId": "4ffe6364-e0d2-436a-ed2e-64f68327c776"
   },
   "outputs": [
    {
     "name": "stdout",
     "output_type": "stream",
     "text": [
      "Singular values for z-score normalization: [39.9 22.6 16.5  3.8  0.6  0.4]\n",
      "Singular values for range normalization: [8.2 3.5 2.3 0.7 0.1 0.1]\n",
      "Singular values for ranking normalization: [1794.6  505.8  343.3   77.4   25.9   13.8]\n",
      "Singular values for no standardization: [1694.9   41.3   34.3    2.2    1.     0.7]\n"
     ]
    }
   ],
   "source": [
    "# Performing singular value decomposition\n",
    "uzs, szs, vzs = np.linalg.svd(data_zs)\n",
    "urd, srd, vrd = np.linalg.svd(data_rd)\n",
    "urn, srn, vrn = np.linalg.svd(data_rn)\n",
    "uns, snss, vns = np.linalg.svd(data)\n",
    "\n",
    "print(\"Singular values for z-score normalization:\", szs.round(1))\n",
    "print(\"Singular values for range normalization:\", srd.round(1))\n",
    "print(\"Singular values for ranking normalization:\", srn.round(1))\n",
    "print(\"Singular values for no standardization:\", snss.round(1))"
   ]
  },
  {
   "cell_type": "code",
   "execution_count": null,
   "metadata": {
    "colab": {
     "base_uri": "https://localhost:8080/"
    },
    "id": "z1Kokxs7qO4L",
    "outputId": "6f70aeef-bb09-47d0-e505-fafea6a55af1"
   },
   "outputs": [
    {
     "name": "stdout",
     "output_type": "stream",
     "text": [
      "PC natural contributions (z-score normalization): [1594.93  512.65  271.48   14.4     0.4     0.14]\n",
      "PC natural contributions (range normalization): [66.5  12.38  5.43  0.45  0.02  0.01]\n",
      "PC natural contributions (ranking normalization): [3220431.16  255844.96  117845.97    5992.18     672.25     189.67]\n",
      "PC natural contributions (no standardization): [2872698.57    1706.5     1177.21       4.99       1.09       0.5 ]\n"
     ]
    }
   ],
   "source": [
    "contrib_zs = np.square(szs)\n",
    "contrib_rd = np.square(srd)\n",
    "contrib_rn = np.square(srn)\n",
    "contrib_ns = np.square(snss)\n",
    "\n",
    "print(\"PC natural contributions (z-score normalization):\", contrib_zs.round(2))\n",
    "print(\"PC natural contributions (range normalization):\", contrib_rd.round(2))\n",
    "print(\"PC natural contributions (ranking normalization):\", contrib_rn.round(2))\n",
    "print(\"PC natural contributions (no standardization):\", contrib_ns.round(2))"
   ]
  },
  {
   "cell_type": "code",
   "execution_count": null,
   "metadata": {
    "colab": {
     "base_uri": "https://localhost:8080/"
    },
    "id": "g1lHOnMXq_Pb",
    "outputId": "607376f1-8b4e-4d35-b10c-443835bbf94b"
   },
   "outputs": [
    {
     "name": "stdout",
     "output_type": "stream",
     "text": [
      "Data scatter by definition (z-score normalization): 2394.0000\n",
      "Data scatter by definition (range normalization): 84.7789\n",
      "Data scatter by definition (ranking normalization): 3600976.1901\n",
      "Data scatter by definition (no standardization): 2875588.8702\n"
     ]
    }
   ],
   "source": [
    "ds_zs = np.square(data_zs).to_numpy().sum()\n",
    "ds_rd = np.square(data_rd).to_numpy().sum()\n",
    "ds_rn = np.square(data_rn).to_numpy().sum()\n",
    "ds_ns = np.square(data).to_numpy().sum()\n",
    "\n",
    "print(\"Data scatter by definition (z-score normalization): %.4f\" % ds_zs)\n",
    "print(\"Data scatter by definition (range normalization): %.4f\" % ds_rd)\n",
    "print(\"Data scatter by definition (ranking normalization): %.4f\" % ds_rn)\n",
    "print(\"Data scatter by definition (no standardization): %.4f\" % ds_ns)"
   ]
  },
  {
   "cell_type": "code",
   "execution_count": null,
   "metadata": {
    "colab": {
     "base_uri": "https://localhost:8080/"
    },
    "id": "pcCwzyzFsHN7",
    "outputId": "3503d149-1933-4710-a063-1db8b659ffb5"
   },
   "outputs": [
    {
     "name": "stdout",
     "output_type": "stream",
     "text": [
      "Data scatter from contributions (z-score normalization): 2394.0000\n",
      "Data scatter from contributions (range normalization): 84.7789\n",
      "Data scatter from contributions (ranking normalization): 3600976.1901\n",
      "Data scatter from contributions (no standardization): 2875588.8702\n"
     ]
    }
   ],
   "source": [
    "ds_contib_zs = contrib_zs.sum()\n",
    "ds_contib_rd = contrib_rd.sum()\n",
    "ds_contib_rn = contrib_rn.sum()\n",
    "ds_contib_ns = contrib_ns.sum()\n",
    "\n",
    "print(\"Data scatter from contributions (z-score normalization): %.4f\" % ds_contib_zs)\n",
    "print(\"Data scatter from contributions (range normalization): %.4f\" % ds_contib_rd)\n",
    "print(\"Data scatter from contributions (ranking normalization): %.4f\" % ds_contib_rn)\n",
    "print(\"Data scatter from contributions (no standardization): %.4f\" % ds_contib_ns)"
   ]
  },
  {
   "cell_type": "markdown",
   "metadata": {
    "id": "m1LhPIlRPrNi"
   },
   "source": [
    "From the results one can see that the calculated data scatter is the same for all versions of standardization, which is consistent with the theory."
   ]
  },
  {
   "cell_type": "code",
   "execution_count": null,
   "metadata": {
    "colab": {
     "base_uri": "https://localhost:8080/"
    },
    "id": "rN3DHWgtuN4g",
    "outputId": "86b9dbc2-22bf-4581-a65d-6df80368d0a5"
   },
   "outputs": [
    {
     "name": "stdout",
     "output_type": "stream",
     "text": [
      "PC percentage contributions (z-score normalization): [66.62 21.41 11.34  0.6   0.02  0.01]\n",
      "PC percentage contributions (range normalization): [78.43 14.6   6.4   0.53  0.02  0.01]\n",
      "PC percentage contributions (ranking normalization): [89.43  7.1   3.27  0.17  0.02  0.01]\n",
      "PC percentage contributions (no standardization): [99.9   0.06  0.04  0.    0.    0.  ]\n"
     ]
    }
   ],
   "source": [
    "contrib_zs_percent = 100.0 * contrib_zs / ds_zs\n",
    "contrib_rd_percent = 100.0 * contrib_rd / ds_rd\n",
    "contrib_rn_percent = 100.0 * contrib_rn / ds_rn\n",
    "contrib_ns_percent = 100.0 * contrib_ns / ds_ns\n",
    "\n",
    "print(\"PC percentage contributions (z-score normalization):\", contrib_zs_percent.round(2))\n",
    "print(\"PC percentage contributions (range normalization):\", contrib_rd_percent.round(2))\n",
    "print(\"PC percentage contributions (ranking normalization):\", contrib_rn_percent.round(2))\n",
    "print(\"PC percentage contributions (no standardization):\", contrib_ns_percent.round(2))"
   ]
  },
  {
   "cell_type": "code",
   "execution_count": null,
   "metadata": {
    "colab": {
     "base_uri": "https://localhost:8080/"
    },
    "id": "Vgd5-Je9rWT6",
    "outputId": "f9811d74-4b57-4f7a-dad5-19ddfcdadfec"
   },
   "outputs": [
    {
     "name": "stdout",
     "output_type": "stream",
     "text": [
      "-0.446 & -0.452 & -0.436 & -0.409 & -0.408 & -0.270\n",
      "-0.288 & -0.306 & -0.268 & 0.558 & 0.586 & -0.310\n",
      "-0.021 & -0.025 & 0.091 & -0.718 & 0.689 & -0.023\n",
      "0.296 & 0.322 & 0.048 & -0.061 & -0.079 & -0.893\n",
      "0.342 & 0.335 & -0.853 & -0.046 & 0.093 & 0.183\n",
      "0.716 & -0.697 & 0.010 & -0.005 & -0.010 & -0.012\n"
     ]
    }
   ],
   "source": [
    "for i in range(6):\n",
    "    x_arrstr = np.char.mod('%.3f', vrn[i].round(3))\n",
    "    #combine to a string\n",
    "    print(\" & \".join(x_arrstr))"
   ]
  },
  {
   "cell_type": "code",
   "execution_count": null,
   "metadata": {
    "colab": {
     "base_uri": "https://localhost:8080/"
    },
    "id": "lcqJEubdDRPT",
    "outputId": "f092c283-eca4-48da-ccbe-23393d09358c"
   },
   "outputs": [
    {
     "data": {
      "text/plain": [
       "array([[ 0.49823827,  0.49792599,  0.49593875,  0.12289055, -0.00000285,\n",
       "         0.49271797],\n",
       "       [ 0.01209018,  0.01041299,  0.10336588, -0.66815574,  0.73555414,\n",
       "         0.03986112],\n",
       "       [ 0.07763209,  0.08713309, -0.00347358, -0.73345218, -0.66934454,\n",
       "         0.01986938],\n",
       "       [ 0.27995731,  0.29320632,  0.28219545,  0.02230075,  0.01894146,\n",
       "        -0.86900149],\n",
       "       [ 0.72965581, -0.68265693, -0.03877301, -0.0039043 ,  0.0000043 ,\n",
       "        -0.00795786],\n",
       "       [-0.36716755, -0.43860994,  0.81376321, -0.00107394, -0.10285527,\n",
       "        -0.00428808]])"
      ]
     },
     "execution_count": 319,
     "metadata": {},
     "output_type": "execute_result"
    }
   ],
   "source": [
    "vzs"
   ]
  },
  {
   "cell_type": "markdown",
   "metadata": {
    "id": "tbiXJXASQGsN"
   },
   "source": [
    "Here we see that the contrast between principle component contributions is  starker for range normalization - 78% PC1 contribution for r-standardization vs. 67% PC1 contribution for z-standardization.\n",
    "\n",
    "Ranking normalization brings PC1 contribution even further up to 89%, closer to the non-standardizaed contribution distribution."
   ]
  },
  {
   "cell_type": "markdown",
   "metadata": {
    "id": "7XzmCTpyQofk"
   },
   "source": [
    "# Principal components visualization\n",
    "\n",
    "For the purpose of visualizing two first principal components and the differences between them, let us use two features to define two separate groups of dataset instances: `depth` and `carat`.\n",
    "\n",
    "The first group are diamonds with small depth ratios (< 58.5, as shown below). The second group are diamonds of large weight (> 2.1 carats, as shown below)."
   ]
  },
  {
   "cell_type": "markdown",
   "metadata": {
    "id": "62LNJDKJSQ2M"
   },
   "source": [
    "## Defining instance groups"
   ]
  },
  {
   "cell_type": "code",
   "execution_count": null,
   "metadata": {
    "colab": {
     "base_uri": "https://localhost:8080/",
     "height": 491
    },
    "id": "tGWb9eOavDj0",
    "outputId": "59fc39e8-2d50-43df-a125-3aa76aa800e5"
   },
   "outputs": [
    {
     "data": {
      "text/plain": [
       "Text(0.5, 1.0, 'Depth distribution')"
      ]
     },
     "execution_count": 320,
     "metadata": {},
     "output_type": "execute_result"
    },
    {
     "data": {
      "image/png": "[encoded data removed]",
      "text/plain": [
       "<Figure size 640x480 with 1 Axes>"
      ]
     },
     "metadata": {},
     "output_type": "display_data"
    }
   ],
   "source": [
    "sns.histplot(data['depth']).set_title('Depth distribution')"
   ]
  },
  {
   "cell_type": "code",
   "execution_count": null,
   "metadata": {
    "colab": {
     "base_uri": "https://localhost:8080/"
    },
    "id": "FwuQkkAAz0Oa",
    "outputId": "0ca679a0-100c-41df-c4e8-56e62f820880"
   },
   "outputs": [
    {
     "data": {
      "text/plain": [
       "(9, 10)"
      ]
     },
     "execution_count": 321,
     "metadata": {},
     "output_type": "execute_result"
    }
   ],
   "source": [
    "# Diamonds with small depth ratios\n",
    "depth_group = df[df['depth'] < 58.5]\n",
    "depth_group.shape"
   ]
  },
  {
   "cell_type": "code",
   "execution_count": null,
   "metadata": {
    "colab": {
     "base_uri": "https://localhost:8080/",
     "height": 491
    },
    "id": "oo4QwG65zrAg",
    "outputId": "1a70c699-c6a3-4dd8-dc2e-66fdb3406567"
   },
   "outputs": [
    {
     "data": {
      "text/plain": [
       "Text(0.5, 1.0, 'Carat distribution')"
      ]
     },
     "execution_count": 322,
     "metadata": {},
     "output_type": "execute_result"
    },
    {
     "data": {
      "image/png": "[encoded data removed]",
      "text/plain": [
       "<Figure size 640x480 with 1 Axes>"
      ]
     },
     "metadata": {},
     "output_type": "display_data"
    }
   ],
   "source": [
    "sns.histplot(data['carat']).set_title('Carat distribution')"
   ]
  },
  {
   "cell_type": "code",
   "execution_count": null,
   "metadata": {
    "colab": {
     "base_uri": "https://localhost:8080/"
    },
    "id": "YrC8APXsztLm",
    "outputId": "c83a7e21-13b8-4d23-f537-1dd652426a44"
   },
   "outputs": [
    {
     "data": {
      "text/plain": [
       "(7, 10)"
      ]
     },
     "execution_count": 323,
     "metadata": {},
     "output_type": "execute_result"
    }
   ],
   "source": [
    "# Diamonds with large weight\n",
    "carat_group = df[df['carat'] > 2.1]\n",
    "carat_group.shape"
   ]
  },
  {
   "cell_type": "code",
   "execution_count": null,
   "metadata": {
    "colab": {
     "base_uri": "https://localhost:8080/"
    },
    "id": "rl3gsxND0ZFY",
    "outputId": "600c309c-512b-4939-d707-50f1396637d7"
   },
   "outputs": [
    {
     "data": {
      "text/plain": [
       "Index([], dtype='int64')"
      ]
     },
     "execution_count": 324,
     "metadata": {},
     "output_type": "execute_result"
    }
   ],
   "source": [
    "depth_group.index.intersection(carat_group.index)"
   ]
  },
  {
   "cell_type": "markdown",
   "metadata": {
    "id": "CWBNYtdASHPt"
   },
   "source": [
    "As one can see, the two groups do not overlap."
   ]
  },
  {
   "cell_type": "code",
   "execution_count": null,
   "metadata": {
    "id": "c95RgxkCB2km"
   },
   "outputs": [],
   "source": [
    "carat_group_indices = df.index.get_indexer(carat_group.index.tolist())\n",
    "depth_group_indices = df.index.get_indexer(depth_group.index.tolist())"
   ]
  },
  {
   "cell_type": "markdown",
   "metadata": {
    "id": "-2VYDplHSVF9"
   },
   "source": [
    "## Calculating principal components"
   ]
  },
  {
   "cell_type": "markdown",
   "metadata": {
    "id": "Pdpr-sY3SfL4"
   },
   "source": [
    "### Z-score normalized data PCs"
   ]
  },
  {
   "cell_type": "code",
   "execution_count": null,
   "metadata": {
    "colab": {
     "base_uri": "https://localhost:8080/"
    },
    "id": "12bTCRGj2F5t",
    "outputId": "24fb3fec-04a1-4590-a90a-cf255c489bcd"
   },
   "outputs": [
    {
     "data": {
      "text/plain": [
       "array([ 0.49823827,  0.49792599,  0.49593875,  0.12289055, -0.00000285,\n",
       "        0.49271797])"
      ]
     },
     "execution_count": 326,
     "metadata": {},
     "output_type": "execute_result"
    }
   ],
   "source": [
    "pcs1_zs = vzs[0]\n",
    "pcs1_zs"
   ]
  },
  {
   "cell_type": "markdown",
   "metadata": {
    "id": "tm7zIN72Snak"
   },
   "source": [
    "Larger loading components are positive, thus the sign for factors remains unchanged."
   ]
  },
  {
   "cell_type": "code",
   "execution_count": null,
   "metadata": {
    "id": "q9vXRwSqFZRu"
   },
   "outputs": [],
   "source": [
    "pc1_zs = uzs[:, 0] * np.sqrt(szs[0])"
   ]
  },
  {
   "cell_type": "code",
   "execution_count": null,
   "metadata": {
    "colab": {
     "base_uri": "https://localhost:8080/"
    },
    "id": "xXdSk9Qu5s1K",
    "outputId": "8d8ee84c-524c-4a80-b251-d8b83a73a933"
   },
   "outputs": [
    {
     "data": {
      "text/plain": [
       "array([ 0.01209018,  0.01041299,  0.10336588, -0.66815574,  0.73555414,\n",
       "        0.03986112])"
      ]
     },
     "execution_count": 328,
     "metadata": {},
     "output_type": "execute_result"
    }
   ],
   "source": [
    "pcs2_zs = vzs[1]\n",
    "pcs2_zs"
   ]
  },
  {
   "cell_type": "markdown",
   "metadata": {
    "id": "RfURL-4mS9wl"
   },
   "source": [
    "Larger loading components are negative, thus the sign for factors is changed to negative."
   ]
  },
  {
   "cell_type": "code",
   "execution_count": null,
   "metadata": {
    "id": "w1Ia5E1YFmhi"
   },
   "outputs": [],
   "source": [
    "pc2_zs = uzs[:, 1] * np.sqrt(szs[1])"
   ]
  },
  {
   "cell_type": "markdown",
   "metadata": {
    "id": "wT5DWJQ0TA07"
   },
   "source": [
    "### Range normalized data PCs"
   ]
  },
  {
   "cell_type": "code",
   "execution_count": null,
   "metadata": {
    "colab": {
     "base_uri": "https://localhost:8080/"
    },
    "id": "9xpd_19-36KK",
    "outputId": "7b27a8b0-5447-45a4-84cb-f125f89b583e"
   },
   "outputs": [
    {
     "data": {
      "text/plain": [
       "array([0.5235558 , 0.53722342, 0.51310964, 0.09343617, 0.00148823,\n",
       "       0.40652957])"
      ]
     },
     "execution_count": 330,
     "metadata": {},
     "output_type": "execute_result"
    }
   ],
   "source": [
    "pcs1_rd = vrd[0]\n",
    "pcs1_rd"
   ]
  },
  {
   "cell_type": "markdown",
   "metadata": {
    "id": "ZX2rQ7_zTJjm"
   },
   "source": [
    "Larger loading components are positive, thus the sign for factors remains unchanged."
   ]
  },
  {
   "cell_type": "code",
   "execution_count": null,
   "metadata": {
    "id": "1U2ZGEQfGCEk"
   },
   "outputs": [],
   "source": [
    "pc1_rd = urd[:, 0] * np.sqrt(srd[0])"
   ]
  },
  {
   "cell_type": "code",
   "execution_count": null,
   "metadata": {
    "colab": {
     "base_uri": "https://localhost:8080/"
    },
    "id": "6IV0fws7GIHW",
    "outputId": "fd280498-f66e-4a0a-cec5-bbc8d1d662ad"
   },
   "outputs": [
    {
     "data": {
      "text/plain": [
       "array([ 0.01847519,  0.02043035,  0.10344037, -0.90554671,  0.40974082,\n",
       "        0.02527818])"
      ]
     },
     "execution_count": 332,
     "metadata": {},
     "output_type": "execute_result"
    }
   ],
   "source": [
    "pcs2_rd = vrd[1]\n",
    "pcs2_rd"
   ]
  },
  {
   "cell_type": "markdown",
   "metadata": {
    "id": "_qbCZu3CTK2k"
   },
   "source": [
    "Larger loading components are negative, thus the sign for factors is changed to negative."
   ]
  },
  {
   "cell_type": "code",
   "execution_count": null,
   "metadata": {
    "id": "S4uh9X3GFwqf"
   },
   "outputs": [],
   "source": [
    "pc2_rd = -urd[:, 1] * np.sqrt(srd[1])"
   ]
  },
  {
   "cell_type": "markdown",
   "metadata": {
    "id": "pcRKS7beTSIW"
   },
   "source": [
    "## Visualization"
   ]
  },
  {
   "cell_type": "code",
   "execution_count": null,
   "metadata": {
    "colab": {
     "base_uri": "https://localhost:8080/",
     "height": 487
    },
    "id": "ubXzhSOS4CBQ",
    "outputId": "6abebd3f-b669-43f0-f085-9dff163d6a48"
   },
   "outputs": [
    {
     "data": {
      "text/plain": [
       "<Axes: title={'center': 'PCs - range normalization SVD'}>"
      ]
     },
     "execution_count": 334,
     "metadata": {},
     "output_type": "execute_result"
    },
    {
     "data": {
      "image/png": "[encoded data removed]",
      "text/plain": [
       "<Figure size 1000x500 with 2 Axes>"
      ]
     },
     "metadata": {},
     "output_type": "display_data"
    }
   ],
   "source": [
    "fig, axs = plt.subplots(1, 2, figsize=(10,5))\n",
    "\n",
    "axs[0].set_title('PCs - z-scoring SVD')\n",
    "sns.scatterplot(x=pc1_zs, y=pc2_zs, s=80, color=\"black\", marker=\".\", alpha=0.4, ax=axs[0])\n",
    "sns.scatterplot(x=pc1_zs[carat_group_indices], y=pc2_zs[carat_group_indices], label='Carat > 2.1', ax=axs[0])\n",
    "sns.scatterplot(x=pc1_zs[depth_group_indices], y=pc2_zs[depth_group_indices], label='Depth < 58.5', ax=axs[0])\n",
    "\n",
    "axs[1].set_title('PCs - range normalization SVD')\n",
    "sns.scatterplot(x=pc1_rd, y=pc2_rd, s=80, color=\"black\", marker=\".\", alpha=0.4, ax=axs[1])\n",
    "sns.scatterplot(x=pc1_rd[carat_group_indices], y=pc2_rd[carat_group_indices], label='Carat > 2.1', ax=axs[1])\n",
    "sns.scatterplot(x=pc1_rd[depth_group_indices], y=pc2_rd[depth_group_indices], label='Depth < 58.5', ax=axs[1])"
   ]
  },
  {
   "cell_type": "markdown",
   "metadata": {
    "id": "T7Fg2rz9TXMC"
   },
   "source": [
    "On the resulting plots one can see that overall the visualization for both normalization techniques share many similarities in the overall distribution of instances.\n",
    "\n",
    "As for the groups, it seems that larger weight in carat coincides with larger values of PC1, while smaller depth ratios coincide with lesser PC2 values. This follows from the observation that both groups seem to denote the outliers in the respective axes."
   ]
  },
  {
   "cell_type": "markdown",
   "metadata": {
    "id": "4PXYCG-5Ub9_"
   },
   "source": [
    "# Conventional PCA"
   ]
  },
  {
   "cell_type": "code",
   "execution_count": null,
   "metadata": {
    "colab": {
     "base_uri": "https://localhost:8080/",
     "height": 238
    },
    "id": "4Xx5TZChRB-X",
    "outputId": "e0969d32-5ea6-4ab3-95ce-4c4526b4baf5"
   },
   "outputs": [
    {
     "data": {
      "application/vnd.google.colaboratory.intrinsic+json": {
       "summary": "{\n  \"name\": \"cov\",\n  \"rows\": 6,\n  \"fields\": [\n    {\n      \"column\": \"x\",\n      \"properties\": {\n        \"dtype\": \"number\",\n        \"std\": 0.47265695616623754,\n        \"min\": -0.023729951715165336,\n        \"max\": 0.9999999999999996,\n        \"num_unique_values\": 6,\n        \"samples\": [\n          0.9999999999999996,\n          0.9989539508549417,\n          0.9741842551002025\n        ],\n        \"semantic_type\": \"\",\n        \"description\": \"\"\n      }\n    },\n    {\n      \"column\": \"y\",\n      \"properties\": {\n        \"dtype\": \"number\",\n        \"std\": 0.4749499270001738,\n        \"min\": -0.02963033016643401,\n        \"max\": 1.0000000000000013,\n        \"num_unique_values\": 6,\n        \"samples\": [\n          0.9989539508549417,\n          1.0000000000000013,\n          0.9732076390146583\n        ],\n        \"semantic_type\": \"\",\n        \"description\": \"\"\n      }\n    },\n    {\n      \"column\": \"z\",\n      \"properties\": {\n        \"dtype\": \"number\",\n        \"std\": 0.44502999221253975,\n        \"min\": 0.09942871862150274,\n        \"max\": 1.0000000000000007,\n        \"num_unique_values\": 6,\n        \"samples\": [\n          0.9918593869277794,\n          0.9911654032259885,\n          0.973167749957079\n        ],\n        \"semantic_type\": \"\",\n        \"description\": \"\"\n      }\n    },\n    {\n      \"column\": \"table\",\n      \"properties\": {\n        \"dtype\": \"number\",\n        \"std\": 0.41937415178822623,\n        \"min\": -0.2974174249057941,\n        \"max\": 0.9999999999999966,\n        \"num_unique_values\": 6,\n        \"samples\": [\n          0.19585264835653302,\n          0.19241403237499177,\n          0.1972035961210475\n        ],\n        \"semantic_type\": \"\",\n        \"description\": \"\"\n      }\n    },\n    {\n      \"column\": \"depth\",\n      \"properties\": {\n        \"dtype\": \"number\",\n        \"std\": 0.4472208428398944,\n        \"min\": -0.2974174249057941,\n        \"max\": 0.9999999999999989,\n        \"num_unique_values\": 6,\n        \"samples\": [\n          -0.023729951715165336,\n          -0.02963033016643401,\n          0.02802325733396137\n        ],\n        \"semantic_type\": \"\",\n        \"description\": \"\"\n      }\n    },\n    {\n      \"column\": \"carat\",\n      \"properties\": {\n        \"dtype\": \"number\",\n        \"std\": 0.451288633841661,\n        \"min\": 0.02802325733396137,\n        \"max\": 1.0000000000000002,\n        \"num_unique_values\": 6,\n        \"samples\": [\n          0.9741842551002025,\n          0.9732076390146583,\n          1.0000000000000002\n        ],\n        \"semantic_type\": \"\",\n        \"description\": \"\"\n      }\n    }\n  ]\n}",
       "type": "dataframe",
       "variable_name": "cov"
      },
      "text/html": [
       "\n",
       "  <div id=\"df-b334ede0-1a8c-4c4f-8f5e-fa23797fd2fb\" class=\"colab-df-container\">\n",
       "    <div>\n",
       "<style scoped>\n",
       "    .dataframe tbody tr th:only-of-type {\n",
       "        vertical-align: middle;\n",
       "    }\n",
       "\n",
       "    .dataframe tbody tr th {\n",
       "        vertical-align: top;\n",
       "    }\n",
       "\n",
       "    .dataframe thead th {\n",
       "        text-align: right;\n",
       "    }\n",
       "</style>\n",
       "<table border=\"1\" class=\"dataframe\">\n",
       "  <thead>\n",
       "    <tr style=\"text-align: right;\">\n",
       "      <th></th>\n",
       "      <th>x</th>\n",
       "      <th>y</th>\n",
       "      <th>z</th>\n",
       "      <th>table</th>\n",
       "      <th>depth</th>\n",
       "      <th>carat</th>\n",
       "    </tr>\n",
       "  </thead>\n",
       "  <tbody>\n",
       "    <tr>\n",
       "      <th>x</th>\n",
       "      <td>1.000000</td>\n",
       "      <td>0.998954</td>\n",
       "      <td>0.991859</td>\n",
       "      <td>0.195853</td>\n",
       "      <td>-0.023730</td>\n",
       "      <td>0.974184</td>\n",
       "    </tr>\n",
       "    <tr>\n",
       "      <th>y</th>\n",
       "      <td>0.998954</td>\n",
       "      <td>1.000000</td>\n",
       "      <td>0.991165</td>\n",
       "      <td>0.192414</td>\n",
       "      <td>-0.029630</td>\n",
       "      <td>0.973208</td>\n",
       "    </tr>\n",
       "    <tr>\n",
       "      <th>z</th>\n",
       "      <td>0.991859</td>\n",
       "      <td>0.991165</td>\n",
       "      <td>1.000000</td>\n",
       "      <td>0.156844</td>\n",
       "      <td>0.099429</td>\n",
       "      <td>0.973168</td>\n",
       "    </tr>\n",
       "    <tr>\n",
       "      <th>table</th>\n",
       "      <td>0.195853</td>\n",
       "      <td>0.192414</td>\n",
       "      <td>0.156844</td>\n",
       "      <td>1.000000</td>\n",
       "      <td>-0.297417</td>\n",
       "      <td>0.197204</td>\n",
       "    </tr>\n",
       "    <tr>\n",
       "      <th>depth</th>\n",
       "      <td>-0.023730</td>\n",
       "      <td>-0.029630</td>\n",
       "      <td>0.099429</td>\n",
       "      <td>-0.297417</td>\n",
       "      <td>1.000000</td>\n",
       "      <td>0.028023</td>\n",
       "    </tr>\n",
       "    <tr>\n",
       "      <th>carat</th>\n",
       "      <td>0.974184</td>\n",
       "      <td>0.973208</td>\n",
       "      <td>0.973168</td>\n",
       "      <td>0.197204</td>\n",
       "      <td>0.028023</td>\n",
       "      <td>1.000000</td>\n",
       "    </tr>\n",
       "  </tbody>\n",
       "</table>\n",
       "</div>\n",
       "    <div class=\"colab-df-buttons\">\n",
       "\n",
       "  <div class=\"colab-df-container\">\n",
       "    <button class=\"colab-df-convert\" onclick=\"convertToInteractive('df-b334ede0-1a8c-4c4f-8f5e-fa23797fd2fb')\"\n",
       "            title=\"Convert this dataframe to an interactive table.\"\n",
       "            style=\"display:none;\">\n",
       "\n",
       "  <svg xmlns=\"http://www.w3.org/2000/svg\" height=\"24px\" viewBox=\"0 -960 960 960\">\n",
       "    <path d=\"M120-120v-720h720v720H120Zm60-500h600v-160H180v160Zm220 220h160v-160H400v160Zm0 220h160v-160H400v160ZM180-400h160v-160H180v160Zm440 0h160v-160H620v160ZM180-180h160v-160H180v160Zm440 0h160v-160H620v160Z\"/>\n",
       "  </svg>\n",
       "    </button>\n",
       "\n",
       "  <style>\n",
       "    .colab-df-container {\n",
       "      display:flex;\n",
       "      gap: 12px;\n",
       "    }\n",
       "\n",
       "    .colab-df-convert {\n",
       "      background-color: #E8F0FE;\n",
       "      border: none;\n",
       "      border-radius: 50%;\n",
       "      cursor: pointer;\n",
       "      display: none;\n",
       "      fill: #1967D2;\n",
       "      height: 32px;\n",
       "      padding: 0 0 0 0;\n",
       "      width: 32px;\n",
       "    }\n",
       "\n",
       "    .colab-df-convert:hover {\n",
       "      background-color: #E2EBFA;\n",
       "      box-shadow: 0px 1px 2px rgba(60, 64, 67, 0.3), 0px 1px 3px 1px rgba(60, 64, 67, 0.15);\n",
       "      fill: #174EA6;\n",
       "    }\n",
       "\n",
       "    .colab-df-buttons div {\n",
       "      margin-bottom: 4px;\n",
       "    }\n",
       "\n",
       "    [theme=dark] .colab-df-convert {\n",
       "      background-color: #3B4455;\n",
       "      fill: #D2E3FC;\n",
       "    }\n",
       "\n",
       "    [theme=dark] .colab-df-convert:hover {\n",
       "      background-color: #434B5C;\n",
       "      box-shadow: 0px 1px 3px 1px rgba(0, 0, 0, 0.15);\n",
       "      filter: drop-shadow(0px 1px 2px rgba(0, 0, 0, 0.3));\n",
       "      fill: #FFFFFF;\n",
       "    }\n",
       "  </style>\n",
       "\n",
       "    <script>\n",
       "      const buttonEl =\n",
       "        document.querySelector('#df-b334ede0-1a8c-4c4f-8f5e-fa23797fd2fb button.colab-df-convert');\n",
       "      buttonEl.style.display =\n",
       "        google.colab.kernel.accessAllowed ? 'block' : 'none';\n",
       "\n",
       "      async function convertToInteractive(key) {\n",
       "        const element = document.querySelector('#df-b334ede0-1a8c-4c4f-8f5e-fa23797fd2fb');\n",
       "        const dataTable =\n",
       "          await google.colab.kernel.invokeFunction('convertToInteractive',\n",
       "                                                    [key], {});\n",
       "        if (!dataTable) return;\n",
       "\n",
       "        const docLinkHtml = 'Like what you see? Visit the ' +\n",
       "          '<a target=\"_blank\" href=https://colab.research.google.com/notebooks/data_table.ipynb>data table notebook</a>'\n",
       "          + ' to learn more about interactive tables.';\n",
       "        element.innerHTML = '';\n",
       "        dataTable['output_type'] = 'display_data';\n",
       "        await google.colab.output.renderOutput(dataTable, element);\n",
       "        const docLink = document.createElement('div');\n",
       "        docLink.innerHTML = docLinkHtml;\n",
       "        element.appendChild(docLink);\n",
       "      }\n",
       "    </script>\n",
       "  </div>\n",
       "\n",
       "\n",
       "<div id=\"df-2107765b-86b2-402e-8ae6-0202d644ac9f\">\n",
       "  <button class=\"colab-df-quickchart\" onclick=\"quickchart('df-2107765b-86b2-402e-8ae6-0202d644ac9f')\"\n",
       "            title=\"Suggest charts\"\n",
       "            style=\"display:none;\">\n",
       "\n",
       "<svg xmlns=\"http://www.w3.org/2000/svg\" height=\"24px\"viewBox=\"0 0 24 24\"\n",
       "     width=\"24px\">\n",
       "    <g>\n",
       "        <path d=\"M19 3H5c-1.1 0-2 .9-2 2v14c0 1.1.9 2 2 2h14c1.1 0 2-.9 2-2V5c0-1.1-.9-2-2-2zM9 17H7v-7h2v7zm4 0h-2V7h2v10zm4 0h-2v-4h2v4z\"/>\n",
       "    </g>\n",
       "</svg>\n",
       "  </button>\n",
       "\n",
       "<style>\n",
       "  .colab-df-quickchart {\n",
       "      --bg-color: #E8F0FE;\n",
       "      --fill-color: #1967D2;\n",
       "      --hover-bg-color: #E2EBFA;\n",
       "      --hover-fill-color: #174EA6;\n",
       "      --disabled-fill-color: #AAA;\n",
       "      --disabled-bg-color: #DDD;\n",
       "  }\n",
       "\n",
       "  [theme=dark] .colab-df-quickchart {\n",
       "      --bg-color: #3B4455;\n",
       "      --fill-color: #D2E3FC;\n",
       "      --hover-bg-color: #434B5C;\n",
       "      --hover-fill-color: #FFFFFF;\n",
       "      --disabled-bg-color: #3B4455;\n",
       "      --disabled-fill-color: #666;\n",
       "  }\n",
       "\n",
       "  .colab-df-quickchart {\n",
       "    background-color: var(--bg-color);\n",
       "    border: none;\n",
       "    border-radius: 50%;\n",
       "    cursor: pointer;\n",
       "    display: none;\n",
       "    fill: var(--fill-color);\n",
       "    height: 32px;\n",
       "    padding: 0;\n",
       "    width: 32px;\n",
       "  }\n",
       "\n",
       "  .colab-df-quickchart:hover {\n",
       "    background-color: var(--hover-bg-color);\n",
       "    box-shadow: 0 1px 2px rgba(60, 64, 67, 0.3), 0 1px 3px 1px rgba(60, 64, 67, 0.15);\n",
       "    fill: var(--button-hover-fill-color);\n",
       "  }\n",
       "\n",
       "  .colab-df-quickchart-complete:disabled,\n",
       "  .colab-df-quickchart-complete:disabled:hover {\n",
       "    background-color: var(--disabled-bg-color);\n",
       "    fill: var(--disabled-fill-color);\n",
       "    box-shadow: none;\n",
       "  }\n",
       "\n",
       "  .colab-df-spinner {\n",
       "    border: 2px solid var(--fill-color);\n",
       "    border-color: transparent;\n",
       "    border-bottom-color: var(--fill-color);\n",
       "    animation:\n",
       "      spin 1s steps(1) infinite;\n",
       "  }\n",
       "\n",
       "  @keyframes spin {\n",
       "    0% {\n",
       "      border-color: transparent;\n",
       "      border-bottom-color: var(--fill-color);\n",
       "      border-left-color: var(--fill-color);\n",
       "    }\n",
       "    20% {\n",
       "      border-color: transparent;\n",
       "      border-left-color: var(--fill-color);\n",
       "      border-top-color: var(--fill-color);\n",
       "    }\n",
       "    30% {\n",
       "      border-color: transparent;\n",
       "      border-left-color: var(--fill-color);\n",
       "      border-top-color: var(--fill-color);\n",
       "      border-right-color: var(--fill-color);\n",
       "    }\n",
       "    40% {\n",
       "      border-color: transparent;\n",
       "      border-right-color: var(--fill-color);\n",
       "      border-top-color: var(--fill-color);\n",
       "    }\n",
       "    60% {\n",
       "      border-color: transparent;\n",
       "      border-right-color: var(--fill-color);\n",
       "    }\n",
       "    80% {\n",
       "      border-color: transparent;\n",
       "      border-right-color: var(--fill-color);\n",
       "      border-bottom-color: var(--fill-color);\n",
       "    }\n",
       "    90% {\n",
       "      border-color: transparent;\n",
       "      border-bottom-color: var(--fill-color);\n",
       "    }\n",
       "  }\n",
       "</style>\n",
       "\n",
       "  <script>\n",
       "    async function quickchart(key) {\n",
       "      const quickchartButtonEl =\n",
       "        document.querySelector('#' + key + ' button');\n",
       "      quickchartButtonEl.disabled = true;  // To prevent multiple clicks.\n",
       "      quickchartButtonEl.classList.add('colab-df-spinner');\n",
       "      try {\n",
       "        const charts = await google.colab.kernel.invokeFunction(\n",
       "            'suggestCharts', [key], {});\n",
       "      } catch (error) {\n",
       "        console.error('Error during call to suggestCharts:', error);\n",
       "      }\n",
       "      quickchartButtonEl.classList.remove('colab-df-spinner');\n",
       "      quickchartButtonEl.classList.add('colab-df-quickchart-complete');\n",
       "    }\n",
       "    (() => {\n",
       "      let quickchartButtonEl =\n",
       "        document.querySelector('#df-2107765b-86b2-402e-8ae6-0202d644ac9f button');\n",
       "      quickchartButtonEl.style.display =\n",
       "        google.colab.kernel.accessAllowed ? 'block' : 'none';\n",
       "    })();\n",
       "  </script>\n",
       "</div>\n",
       "    </div>\n",
       "  </div>\n"
      ],
      "text/plain": [
       "              x         y         z     table     depth     carat\n",
       "x      1.000000  0.998954  0.991859  0.195853 -0.023730  0.974184\n",
       "y      0.998954  1.000000  0.991165  0.192414 -0.029630  0.973208\n",
       "z      0.991859  0.991165  1.000000  0.156844  0.099429  0.973168\n",
       "table  0.195853  0.192414  0.156844  1.000000 -0.297417  0.197204\n",
       "depth -0.023730 -0.029630  0.099429 -0.297417  1.000000  0.028023\n",
       "carat  0.974184  0.973208  0.973168  0.197204  0.028023  1.000000"
      ]
     },
     "execution_count": 335,
     "metadata": {},
     "output_type": "execute_result"
    }
   ],
   "source": [
    "# The covariance matrix\n",
    "cov = (data_zs.T @ data_zs) / (data_zs.shape[0] - 1)\n",
    "cov"
   ]
  },
  {
   "cell_type": "code",
   "execution_count": null,
   "metadata": {
    "id": "0pAEN7spkg58"
   },
   "outputs": [],
   "source": [
    "# Performing spectral decomposition\n",
    "la, c = np.linalg.eig(cov)"
   ]
  },
  {
   "cell_type": "code",
   "execution_count": null,
   "metadata": {
    "colab": {
     "base_uri": "https://localhost:8080/"
    },
    "id": "raHaZjfPkxom",
    "outputId": "edf73f10-9a42-40cc-b035-e5353030776e"
   },
   "outputs": [
    {
     "name": "stdout",
     "output_type": "stream",
     "text": [
      "Eigenvalues: [3.9973074  1.28484687 0.68039046 0.03609746 0.00101201 0.0003458 ]\n"
     ]
    }
   ],
   "source": [
    "print('Eigenvalues:', la)"
   ]
  },
  {
   "cell_type": "code",
   "execution_count": null,
   "metadata": {
    "colab": {
     "base_uri": "https://localhost:8080/"
    },
    "id": "RQjXsjxjlN0x",
    "outputId": "5a9dcca2-da5e-42f2-d126-21bad8e0bc9f"
   },
   "outputs": [
    {
     "name": "stdout",
     "output_type": "stream",
     "text": [
      "Eigenvectors: [[ 0.49823827  0.01209018  0.07763209 -0.27995731 -0.72965581 -0.36716755]\n",
      " [ 0.49792599  0.01041299  0.08713309 -0.29320632  0.68265693 -0.43860994]\n",
      " [ 0.49593875  0.10336588 -0.00347358 -0.28219545  0.03877301  0.81376321]\n",
      " [ 0.12289055 -0.66815574 -0.73345218 -0.02230075  0.0039043  -0.00107394]\n",
      " [-0.00000285  0.73555414 -0.66934454 -0.01894146 -0.0000043  -0.10285527]\n",
      " [ 0.49271797  0.03986112  0.01986938  0.86900149  0.00795786 -0.00428808]]\n"
     ]
    }
   ],
   "source": [
    "print('Eigenvectors:', c)"
   ]
  },
  {
   "cell_type": "markdown",
   "metadata": {
    "id": "zh2CY_VgVCSk"
   },
   "source": [
    "The eigenvalues and the corresponding eigen vectors are already correctly ordered. Let us now compute the first two principal components."
   ]
  },
  {
   "cell_type": "code",
   "execution_count": null,
   "metadata": {
    "colab": {
     "base_uri": "https://localhost:8080/"
    },
    "id": "c3lBbBgPkzWt",
    "outputId": "2adc1447-85be-404e-a9f5-b62834d3bf1b"
   },
   "outputs": [
    {
     "name": "stdout",
     "output_type": "stream",
     "text": [
      "Eigenvector 1: [ 0.49823827  0.49792599  0.49593875  0.12289055 -0.00000285  0.49271797]\n"
     ]
    }
   ],
   "source": [
    "c1 = c[:, 0]\n",
    "\n",
    "print('Eigenvector 1:', c1)"
   ]
  },
  {
   "cell_type": "code",
   "execution_count": null,
   "metadata": {
    "colab": {
     "base_uri": "https://localhost:8080/"
    },
    "id": "eNgAVHBxlLAW",
    "outputId": "0a7d26ec-0142-4d7f-835c-b896d46709de"
   },
   "outputs": [
    {
     "name": "stdout",
     "output_type": "stream",
     "text": [
      "Eigenvector 2: [ 0.01209018  0.01041299  0.10336588 -0.66815574  0.73555414  0.03986112]\n"
     ]
    }
   ],
   "source": [
    "c2 = c[:, 1]\n",
    "\n",
    "print('Eigenvector 2:', c2)"
   ]
  },
  {
   "cell_type": "markdown",
   "metadata": {
    "id": "SKlZK4TUVafu"
   },
   "source": [
    "Largest components in both eigenvectors are positive, thus we don't need to invert the signs on the corresponding factors."
   ]
  },
  {
   "cell_type": "code",
   "execution_count": null,
   "metadata": {
    "id": "KdWdy7JClXRI"
   },
   "outputs": [],
   "source": [
    "z1 = (data_zs @ c1) / np.sqrt(la[0] * (data_zs.shape[0] - 1))\n",
    "z2 = (data_zs @ c2) / np.sqrt(la[1] * (data_zs.shape[0] - 1))"
   ]
  },
  {
   "cell_type": "code",
   "execution_count": null,
   "metadata": {
    "id": "5edtG0Xsn1z0"
   },
   "outputs": [],
   "source": [
    "z1 = z1.to_numpy()\n",
    "z2 = z2.to_numpy()"
   ]
  },
  {
   "cell_type": "code",
   "execution_count": null,
   "metadata": {
    "colab": {
     "base_uri": "https://localhost:8080/",
     "height": 487
    },
    "id": "u-LAgKr8rypB",
    "outputId": "acc5a817-0add-483f-a386-6f1e5fd2a549"
   },
   "outputs": [
    {
     "data": {
      "text/plain": [
       "<Axes: title={'center': 'PCs - range normalization SVD'}>"
      ]
     },
     "execution_count": 343,
     "metadata": {},
     "output_type": "execute_result"
    },
    {
     "data": {
      "image/png": "[encoded data removed]",
      "text/plain": [
       "<Figure size 1500x500 with 3 Axes>"
      ]
     },
     "metadata": {},
     "output_type": "display_data"
    }
   ],
   "source": [
    "fig, axs = plt.subplots(1, 3, figsize=(15,5))\n",
    "\n",
    "axs[0].set_title('PCs - z-scoring conventional PCA')\n",
    "sns.scatterplot(x=z1, y=z2, s=80, color=\".2\", marker=\".\", ax=axs[0], alpha=0.4)\n",
    "sns.scatterplot(x=z1[carat_group_indices], y=z2[carat_group_indices], ax=axs[0], label='Carat > 2.1')\n",
    "sns.scatterplot(x=z1[depth_group_indices], y=z2[depth_group_indices], ax=axs[0], label='Depth < 58.5')\n",
    "\n",
    "axs[1].set_title('PCs - z-scoring SVD')\n",
    "sns.scatterplot(x=pc1_zs, y=pc2_zs, s=80, color=\".2\", marker=\".\", ax=axs[1], alpha=0.4)\n",
    "sns.scatterplot(x=pc1_zs[carat_group_indices], y=pc2_zs[carat_group_indices], ax=axs[1], label='Carat > 2.1')\n",
    "sns.scatterplot(x=pc1_zs[depth_group_indices], y=pc2_zs[depth_group_indices], ax=axs[1], label='Depth < 58.5')\n",
    "\n",
    "axs[2].set_title('PCs - range normalization SVD')\n",
    "sns.scatterplot(x=pc1_rd, y=pc2_rd, s=80, color=\".2\", marker=\".\", ax=axs[2], alpha=0.4)\n",
    "sns.scatterplot(x=pc1_rd[carat_group_indices], y=pc2_rd[carat_group_indices], ax=axs[2], label='Carat > 2.1')\n",
    "sns.scatterplot(x=pc1_rd[depth_group_indices], y=pc2_rd[depth_group_indices], ax=axs[2], label='Depth < 58.5')"
   ]
  },
  {
   "cell_type": "markdown",
   "metadata": {
    "id": "8A2A3DkkVo6D"
   },
   "source": [
    "The resulting figures are very similar, the differences in coordinates are mostly caused from the use of different normalization techniques."
   ]
  },
  {
   "cell_type": "markdown",
   "metadata": {
    "id": "kPCt2kJ8wCpP"
   },
   "source": [
    "# Hidden ranking factor"
   ]
  },
  {
   "cell_type": "code",
   "execution_count": null,
   "metadata": {
    "colab": {
     "base_uri": "https://localhost:8080/"
    },
    "id": "YH0NmMUp1jEJ",
    "outputId": "b0fd94a9-e30c-445d-f6a9-9df127eb8744"
   },
   "outputs": [
    {
     "data": {
      "text/plain": [
       "array([-0.44639956, -0.45157731, -0.43595029, -0.40938324, -0.4077707 ,\n",
       "       -0.26996505])"
      ]
     },
     "execution_count": 344,
     "metadata": {},
     "output_type": "execute_result"
    }
   ],
   "source": [
    "pcs1_rn = vrn[0]\n",
    "pcs1_rn"
   ]
  },
  {
   "cell_type": "markdown",
   "metadata": {
    "id": "tOrzAeJCWoCt"
   },
   "source": [
    "Larger loading components are negative, thus the sign for factors is changed to negative."
   ]
  },
  {
   "cell_type": "code",
   "execution_count": null,
   "metadata": {
    "colab": {
     "base_uri": "https://localhost:8080/"
    },
    "id": "J0CyQXuFOIgs",
    "outputId": "c29d3c7f-181f-4113-906d-29b78b865601"
   },
   "outputs": [
    {
     "data": {
      "text/plain": [
       "array([0.44639956, 0.45157731, 0.43595029, 0.40938324, 0.4077707 ,\n",
       "       0.26996505])"
      ]
     },
     "execution_count": 345,
     "metadata": {},
     "output_type": "execute_result"
    }
   ],
   "source": [
    "pcs1_rn = -vrn[0]\n",
    "pcs1_rn"
   ]
  },
  {
   "cell_type": "code",
   "execution_count": null,
   "metadata": {
    "id": "TvRH2sfx14FC"
   },
   "outputs": [],
   "source": [
    "pc1_rn = -urn[:, 0]"
   ]
  },
  {
   "cell_type": "code",
   "execution_count": null,
   "metadata": {
    "id": "cypWM_br2JZs"
   },
   "outputs": [],
   "source": [
    "# Percentage scaling\n",
    "pc1_rn_m = 100 * pc1_rn / np.max(pc1_rn)"
   ]
  },
  {
   "cell_type": "code",
   "execution_count": null,
   "metadata": {
    "colab": {
     "base_uri": "https://localhost:8080/",
     "height": 471
    },
    "id": "TzjVaWmC2kTl",
    "outputId": "13abeeda-5d31-462f-c2af-4bd061e96ae4"
   },
   "outputs": [
    {
     "data": {
      "text/plain": [
       "Text(0.5, 1.0, 'Hidden factors, scaled to 0-100')"
      ]
     },
     "execution_count": 348,
     "metadata": {},
     "output_type": "execute_result"
    },
    {
     "data": {
      "image/png": "[encoded data removed]",
      "text/plain": [
       "<Figure size 640x480 with 1 Axes>"
      ]
     },
     "metadata": {},
     "output_type": "display_data"
    }
   ],
   "source": [
    "sns.histplot(pc1_rn_m).set_title(\"Hidden factors, scaled to 0-100\")"
   ]
  },
  {
   "cell_type": "markdown",
   "metadata": {
    "id": "9ub6SdUaW7Tw"
   },
   "source": [
    "Now, let's take the best instances in terms of their hidden factor:"
   ]
  },
  {
   "cell_type": "code",
   "execution_count": 352,
   "metadata": {
    "id": "N0UezPM0sUHJ"
   },
   "outputs": [],
   "source": [
    "sub_df = df.loc[data.index.tolist()][['x', 'y', 'z', 'carat', 'table', 'depth']]"
   ]
  },
  {
   "cell_type": "code",
   "execution_count": 353,
   "metadata": {
    "id": "QD5OycFHsg8S"
   },
   "outputs": [],
   "source": [
    "sub_df['score'] = pc1_rn_m"
   ]
  },
  {
   "cell_type": "code",
   "execution_count": 354,
   "metadata": {
    "colab": {
     "base_uri": "https://localhost:8080/",
     "height": 677
    },
    "id": "0MVRZirKsl6Y",
    "outputId": "6d3ac4a3-3d35-440b-ad6b-8d37596f43b4"
   },
   "outputs": [
    {
     "data": {
      "application/vnd.google.colaboratory.intrinsic+json": {
       "summary": "{\n  \"name\": \"sub_df\",\n  \"rows\": 20,\n  \"fields\": [\n    {\n      \"column\": \"x\",\n      \"properties\": {\n        \"dtype\": \"number\",\n        \"std\": 0.5555926186467354,\n        \"min\": 7.2,\n        \"max\": 9.1,\n        \"num_unique_values\": 19,\n        \"samples\": [\n          9.1,\n          7.89,\n          8.26\n        ],\n        \"semantic_type\": \"\",\n        \"description\": \"\"\n      }\n    },\n    {\n      \"column\": \"y\",\n      \"properties\": {\n        \"dtype\": \"number\",\n        \"std\": 0.5156995759466737,\n        \"min\": 7.16,\n        \"max\": 8.97,\n        \"num_unique_values\": 20,\n        \"samples\": [\n          8.97,\n          7.9,\n          7.27\n        ],\n        \"semantic_type\": \"\",\n        \"description\": \"\"\n      }\n    },\n    {\n      \"column\": \"z\",\n      \"properties\": {\n        \"dtype\": \"number\",\n        \"std\": 0.30523976770642725,\n        \"min\": 4.55,\n        \"max\": 5.67,\n        \"num_unique_values\": 17,\n        \"samples\": [\n          5.67,\n          5.45,\n          5.04\n        ],\n        \"semantic_type\": \"\",\n        \"description\": \"\"\n      }\n    },\n    {\n      \"column\": \"carat\",\n      \"properties\": {\n        \"dtype\": \"number\",\n        \"std\": 0.3933580129040076,\n        \"min\": 1.5,\n        \"max\": 3.01,\n        \"num_unique_values\": 18,\n        \"samples\": [\n          3.01,\n          2.65,\n          2.08\n        ],\n        \"semantic_type\": \"\",\n        \"description\": \"\"\n      }\n    },\n    {\n      \"column\": \"table\",\n      \"properties\": {\n        \"dtype\": \"number\",\n        \"std\": 1.9540780569443936,\n        \"min\": 55.0,\n        \"max\": 64.0,\n        \"num_unique_values\": 8,\n        \"samples\": [\n          61.0,\n          57.0,\n          58.0\n        ],\n        \"semantic_type\": \"\",\n        \"description\": \"\"\n      }\n    },\n    {\n      \"column\": \"depth\",\n      \"properties\": {\n        \"dtype\": \"number\",\n        \"std\": 1.7768318938344634,\n        \"min\": 57.7,\n        \"max\": 64.2,\n        \"num_unique_values\": 14,\n        \"samples\": [\n          61.2,\n          62.8,\n          62.7\n        ],\n        \"semantic_type\": \"\",\n        \"description\": \"\"\n      }\n    },\n    {\n      \"column\": \"score\",\n      \"properties\": {\n        \"dtype\": \"number\",\n        \"std\": 8.175961049307308,\n        \"min\": 70.84326487075678,\n        \"max\": 100.0,\n        \"num_unique_values\": 20,\n        \"samples\": [\n          100.0,\n          72.72663493887838,\n          74.19924305365856\n        ],\n        \"semantic_type\": \"\",\n        \"description\": \"\"\n      }\n    }\n  ]\n}",
       "type": "dataframe"
      },
      "text/html": [
       "\n",
       "  <div id=\"df-a6a12e43-29b6-4741-ac86-0443e90d7449\" class=\"colab-df-container\">\n",
       "    <div>\n",
       "<style scoped>\n",
       "    .dataframe tbody tr th:only-of-type {\n",
       "        vertical-align: middle;\n",
       "    }\n",
       "\n",
       "    .dataframe tbody tr th {\n",
       "        vertical-align: top;\n",
       "    }\n",
       "\n",
       "    .dataframe thead th {\n",
       "        text-align: right;\n",
       "    }\n",
       "</style>\n",
       "<table border=\"1\" class=\"dataframe\">\n",
       "  <thead>\n",
       "    <tr style=\"text-align: right;\">\n",
       "      <th></th>\n",
       "      <th>x</th>\n",
       "      <th>y</th>\n",
       "      <th>z</th>\n",
       "      <th>carat</th>\n",
       "      <th>table</th>\n",
       "      <th>depth</th>\n",
       "      <th>score</th>\n",
       "    </tr>\n",
       "  </thead>\n",
       "  <tbody>\n",
       "    <tr>\n",
       "      <th>17893</th>\n",
       "      <td>9.10</td>\n",
       "      <td>8.97</td>\n",
       "      <td>5.67</td>\n",
       "      <td>3.01</td>\n",
       "      <td>58.0</td>\n",
       "      <td>62.7</td>\n",
       "      <td>100.000000</td>\n",
       "    </tr>\n",
       "    <tr>\n",
       "      <th>24669</th>\n",
       "      <td>8.82</td>\n",
       "      <td>8.75</td>\n",
       "      <td>5.45</td>\n",
       "      <td>2.65</td>\n",
       "      <td>61.0</td>\n",
       "      <td>62.0</td>\n",
       "      <td>98.484294</td>\n",
       "    </tr>\n",
       "    <tr>\n",
       "      <th>24148</th>\n",
       "      <td>8.85</td>\n",
       "      <td>8.76</td>\n",
       "      <td>5.17</td>\n",
       "      <td>2.41</td>\n",
       "      <td>61.0</td>\n",
       "      <td>58.7</td>\n",
       "      <td>89.666102</td>\n",
       "    </tr>\n",
       "    <tr>\n",
       "      <th>21879</th>\n",
       "      <td>8.60</td>\n",
       "      <td>8.56</td>\n",
       "      <td>5.24</td>\n",
       "      <td>2.33</td>\n",
       "      <td>58.0</td>\n",
       "      <td>61.1</td>\n",
       "      <td>86.891979</td>\n",
       "    </tr>\n",
       "    <tr>\n",
       "      <th>23537</th>\n",
       "      <td>8.33</td>\n",
       "      <td>8.28</td>\n",
       "      <td>5.21</td>\n",
       "      <td>2.22</td>\n",
       "      <td>58.0</td>\n",
       "      <td>62.7</td>\n",
       "      <td>86.601659</td>\n",
       "    </tr>\n",
       "    <tr>\n",
       "      <th>20304</th>\n",
       "      <td>7.89</td>\n",
       "      <td>7.81</td>\n",
       "      <td>5.04</td>\n",
       "      <td>2.00</td>\n",
       "      <td>60.0</td>\n",
       "      <td>64.2</td>\n",
       "      <td>86.520889</td>\n",
       "    </tr>\n",
       "    <tr>\n",
       "      <th>24712</th>\n",
       "      <td>7.97</td>\n",
       "      <td>7.86</td>\n",
       "      <td>5.03</td>\n",
       "      <td>2.04</td>\n",
       "      <td>60.0</td>\n",
       "      <td>63.6</td>\n",
       "      <td>86.141693</td>\n",
       "    </tr>\n",
       "    <tr>\n",
       "      <th>24279</th>\n",
       "      <td>8.22</td>\n",
       "      <td>8.30</td>\n",
       "      <td>5.08</td>\n",
       "      <td>2.11</td>\n",
       "      <td>60.0</td>\n",
       "      <td>61.5</td>\n",
       "      <td>86.105723</td>\n",
       "    </tr>\n",
       "    <tr>\n",
       "      <th>24468</th>\n",
       "      <td>8.22</td>\n",
       "      <td>8.16</td>\n",
       "      <td>5.10</td>\n",
       "      <td>2.08</td>\n",
       "      <td>59.0</td>\n",
       "      <td>62.3</td>\n",
       "      <td>85.170271</td>\n",
       "    </tr>\n",
       "    <tr>\n",
       "      <th>22021</th>\n",
       "      <td>8.39</td>\n",
       "      <td>8.31</td>\n",
       "      <td>4.82</td>\n",
       "      <td>2.04</td>\n",
       "      <td>64.0</td>\n",
       "      <td>57.7</td>\n",
       "      <td>84.878480</td>\n",
       "    </tr>\n",
       "    <tr>\n",
       "      <th>23921</th>\n",
       "      <td>8.06</td>\n",
       "      <td>8.14</td>\n",
       "      <td>4.96</td>\n",
       "      <td>2.01</td>\n",
       "      <td>60.0</td>\n",
       "      <td>61.2</td>\n",
       "      <td>82.859405</td>\n",
       "    </tr>\n",
       "    <tr>\n",
       "      <th>24381</th>\n",
       "      <td>8.05</td>\n",
       "      <td>8.00</td>\n",
       "      <td>5.03</td>\n",
       "      <td>2.02</td>\n",
       "      <td>57.0</td>\n",
       "      <td>62.7</td>\n",
       "      <td>80.213461</td>\n",
       "    </tr>\n",
       "    <tr>\n",
       "      <th>22915</th>\n",
       "      <td>8.26</td>\n",
       "      <td>8.21</td>\n",
       "      <td>5.16</td>\n",
       "      <td>2.14</td>\n",
       "      <td>55.0</td>\n",
       "      <td>62.7</td>\n",
       "      <td>80.068417</td>\n",
       "    </tr>\n",
       "    <tr>\n",
       "      <th>22985</th>\n",
       "      <td>8.12</td>\n",
       "      <td>8.05</td>\n",
       "      <td>5.09</td>\n",
       "      <td>2.03</td>\n",
       "      <td>56.0</td>\n",
       "      <td>63.0</td>\n",
       "      <td>80.002067</td>\n",
       "    </tr>\n",
       "    <tr>\n",
       "      <th>21856</th>\n",
       "      <td>7.36</td>\n",
       "      <td>7.44</td>\n",
       "      <td>4.65</td>\n",
       "      <td>1.57</td>\n",
       "      <td>60.0</td>\n",
       "      <td>62.8</td>\n",
       "      <td>75.322572</td>\n",
       "    </tr>\n",
       "    <tr>\n",
       "      <th>20964</th>\n",
       "      <td>7.20</td>\n",
       "      <td>7.27</td>\n",
       "      <td>4.59</td>\n",
       "      <td>1.50</td>\n",
       "      <td>60.0</td>\n",
       "      <td>63.4</td>\n",
       "      <td>74.199243</td>\n",
       "    </tr>\n",
       "    <tr>\n",
       "      <th>21235</th>\n",
       "      <td>7.22</td>\n",
       "      <td>7.16</td>\n",
       "      <td>4.62</td>\n",
       "      <td>1.51</td>\n",
       "      <td>59.0</td>\n",
       "      <td>64.2</td>\n",
       "      <td>73.749013</td>\n",
       "    </tr>\n",
       "    <tr>\n",
       "      <th>21123</th>\n",
       "      <td>7.84</td>\n",
       "      <td>7.90</td>\n",
       "      <td>4.62</td>\n",
       "      <td>1.74</td>\n",
       "      <td>60.0</td>\n",
       "      <td>58.7</td>\n",
       "      <td>72.726635</td>\n",
       "    </tr>\n",
       "    <tr>\n",
       "      <th>22018</th>\n",
       "      <td>7.44</td>\n",
       "      <td>7.50</td>\n",
       "      <td>4.65</td>\n",
       "      <td>1.60</td>\n",
       "      <td>58.0</td>\n",
       "      <td>62.2</td>\n",
       "      <td>71.548220</td>\n",
       "    </tr>\n",
       "    <tr>\n",
       "      <th>21724</th>\n",
       "      <td>7.28</td>\n",
       "      <td>7.32</td>\n",
       "      <td>4.55</td>\n",
       "      <td>1.51</td>\n",
       "      <td>59.0</td>\n",
       "      <td>62.3</td>\n",
       "      <td>70.843265</td>\n",
       "    </tr>\n",
       "  </tbody>\n",
       "</table>\n",
       "</div>\n",
       "    <div class=\"colab-df-buttons\">\n",
       "\n",
       "  <div class=\"colab-df-container\">\n",
       "    <button class=\"colab-df-convert\" onclick=\"convertToInteractive('df-a6a12e43-29b6-4741-ac86-0443e90d7449')\"\n",
       "            title=\"Convert this dataframe to an interactive table.\"\n",
       "            style=\"display:none;\">\n",
       "\n",
       "  <svg xmlns=\"http://www.w3.org/2000/svg\" height=\"24px\" viewBox=\"0 -960 960 960\">\n",
       "    <path d=\"M120-120v-720h720v720H120Zm60-500h600v-160H180v160Zm220 220h160v-160H400v160Zm0 220h160v-160H400v160ZM180-400h160v-160H180v160Zm440 0h160v-160H620v160ZM180-180h160v-160H180v160Zm440 0h160v-160H620v160Z\"/>\n",
       "  </svg>\n",
       "    </button>\n",
       "\n",
       "  <style>\n",
       "    .colab-df-container {\n",
       "      display:flex;\n",
       "      gap: 12px;\n",
       "    }\n",
       "\n",
       "    .colab-df-convert {\n",
       "      background-color: #E8F0FE;\n",
       "      border: none;\n",
       "      border-radius: 50%;\n",
       "      cursor: pointer;\n",
       "      display: none;\n",
       "      fill: #1967D2;\n",
       "      height: 32px;\n",
       "      padding: 0 0 0 0;\n",
       "      width: 32px;\n",
       "    }\n",
       "\n",
       "    .colab-df-convert:hover {\n",
       "      background-color: #E2EBFA;\n",
       "      box-shadow: 0px 1px 2px rgba(60, 64, 67, 0.3), 0px 1px 3px 1px rgba(60, 64, 67, 0.15);\n",
       "      fill: #174EA6;\n",
       "    }\n",
       "\n",
       "    .colab-df-buttons div {\n",
       "      margin-bottom: 4px;\n",
       "    }\n",
       "\n",
       "    [theme=dark] .colab-df-convert {\n",
       "      background-color: #3B4455;\n",
       "      fill: #D2E3FC;\n",
       "    }\n",
       "\n",
       "    [theme=dark] .colab-df-convert:hover {\n",
       "      background-color: #434B5C;\n",
       "      box-shadow: 0px 1px 3px 1px rgba(0, 0, 0, 0.15);\n",
       "      filter: drop-shadow(0px 1px 2px rgba(0, 0, 0, 0.3));\n",
       "      fill: #FFFFFF;\n",
       "    }\n",
       "  </style>\n",
       "\n",
       "    <script>\n",
       "      const buttonEl =\n",
       "        document.querySelector('#df-a6a12e43-29b6-4741-ac86-0443e90d7449 button.colab-df-convert');\n",
       "      buttonEl.style.display =\n",
       "        google.colab.kernel.accessAllowed ? 'block' : 'none';\n",
       "\n",
       "      async function convertToInteractive(key) {\n",
       "        const element = document.querySelector('#df-a6a12e43-29b6-4741-ac86-0443e90d7449');\n",
       "        const dataTable =\n",
       "          await google.colab.kernel.invokeFunction('convertToInteractive',\n",
       "                                                    [key], {});\n",
       "        if (!dataTable) return;\n",
       "\n",
       "        const docLinkHtml = 'Like what you see? Visit the ' +\n",
       "          '<a target=\"_blank\" href=https://colab.research.google.com/notebooks/data_table.ipynb>data table notebook</a>'\n",
       "          + ' to learn more about interactive tables.';\n",
       "        element.innerHTML = '';\n",
       "        dataTable['output_type'] = 'display_data';\n",
       "        await google.colab.output.renderOutput(dataTable, element);\n",
       "        const docLink = document.createElement('div');\n",
       "        docLink.innerHTML = docLinkHtml;\n",
       "        element.appendChild(docLink);\n",
       "      }\n",
       "    </script>\n",
       "  </div>\n",
       "\n",
       "\n",
       "<div id=\"df-36d68c2c-d29a-40f3-87a2-98c126cdfa17\">\n",
       "  <button class=\"colab-df-quickchart\" onclick=\"quickchart('df-36d68c2c-d29a-40f3-87a2-98c126cdfa17')\"\n",
       "            title=\"Suggest charts\"\n",
       "            style=\"display:none;\">\n",
       "\n",
       "<svg xmlns=\"http://www.w3.org/2000/svg\" height=\"24px\"viewBox=\"0 0 24 24\"\n",
       "     width=\"24px\">\n",
       "    <g>\n",
       "        <path d=\"M19 3H5c-1.1 0-2 .9-2 2v14c0 1.1.9 2 2 2h14c1.1 0 2-.9 2-2V5c0-1.1-.9-2-2-2zM9 17H7v-7h2v7zm4 0h-2V7h2v10zm4 0h-2v-4h2v4z\"/>\n",
       "    </g>\n",
       "</svg>\n",
       "  </button>\n",
       "\n",
       "<style>\n",
       "  .colab-df-quickchart {\n",
       "      --bg-color: #E8F0FE;\n",
       "      --fill-color: #1967D2;\n",
       "      --hover-bg-color: #E2EBFA;\n",
       "      --hover-fill-color: #174EA6;\n",
       "      --disabled-fill-color: #AAA;\n",
       "      --disabled-bg-color: #DDD;\n",
       "  }\n",
       "\n",
       "  [theme=dark] .colab-df-quickchart {\n",
       "      --bg-color: #3B4455;\n",
       "      --fill-color: #D2E3FC;\n",
       "      --hover-bg-color: #434B5C;\n",
       "      --hover-fill-color: #FFFFFF;\n",
       "      --disabled-bg-color: #3B4455;\n",
       "      --disabled-fill-color: #666;\n",
       "  }\n",
       "\n",
       "  .colab-df-quickchart {\n",
       "    background-color: var(--bg-color);\n",
       "    border: none;\n",
       "    border-radius: 50%;\n",
       "    cursor: pointer;\n",
       "    display: none;\n",
       "    fill: var(--fill-color);\n",
       "    height: 32px;\n",
       "    padding: 0;\n",
       "    width: 32px;\n",
       "  }\n",
       "\n",
       "  .colab-df-quickchart:hover {\n",
       "    background-color: var(--hover-bg-color);\n",
       "    box-shadow: 0 1px 2px rgba(60, 64, 67, 0.3), 0 1px 3px 1px rgba(60, 64, 67, 0.15);\n",
       "    fill: var(--button-hover-fill-color);\n",
       "  }\n",
       "\n",
       "  .colab-df-quickchart-complete:disabled,\n",
       "  .colab-df-quickchart-complete:disabled:hover {\n",
       "    background-color: var(--disabled-bg-color);\n",
       "    fill: var(--disabled-fill-color);\n",
       "    box-shadow: none;\n",
       "  }\n",
       "\n",
       "  .colab-df-spinner {\n",
       "    border: 2px solid var(--fill-color);\n",
       "    border-color: transparent;\n",
       "    border-bottom-color: var(--fill-color);\n",
       "    animation:\n",
       "      spin 1s steps(1) infinite;\n",
       "  }\n",
       "\n",
       "  @keyframes spin {\n",
       "    0% {\n",
       "      border-color: transparent;\n",
       "      border-bottom-color: var(--fill-color);\n",
       "      border-left-color: var(--fill-color);\n",
       "    }\n",
       "    20% {\n",
       "      border-color: transparent;\n",
       "      border-left-color: var(--fill-color);\n",
       "      border-top-color: var(--fill-color);\n",
       "    }\n",
       "    30% {\n",
       "      border-color: transparent;\n",
       "      border-left-color: var(--fill-color);\n",
       "      border-top-color: var(--fill-color);\n",
       "      border-right-color: var(--fill-color);\n",
       "    }\n",
       "    40% {\n",
       "      border-color: transparent;\n",
       "      border-right-color: var(--fill-color);\n",
       "      border-top-color: var(--fill-color);\n",
       "    }\n",
       "    60% {\n",
       "      border-color: transparent;\n",
       "      border-right-color: var(--fill-color);\n",
       "    }\n",
       "    80% {\n",
       "      border-color: transparent;\n",
       "      border-right-color: var(--fill-color);\n",
       "      border-bottom-color: var(--fill-color);\n",
       "    }\n",
       "    90% {\n",
       "      border-color: transparent;\n",
       "      border-bottom-color: var(--fill-color);\n",
       "    }\n",
       "  }\n",
       "</style>\n",
       "\n",
       "  <script>\n",
       "    async function quickchart(key) {\n",
       "      const quickchartButtonEl =\n",
       "        document.querySelector('#' + key + ' button');\n",
       "      quickchartButtonEl.disabled = true;  // To prevent multiple clicks.\n",
       "      quickchartButtonEl.classList.add('colab-df-spinner');\n",
       "      try {\n",
       "        const charts = await google.colab.kernel.invokeFunction(\n",
       "            'suggestCharts', [key], {});\n",
       "      } catch (error) {\n",
       "        console.error('Error during call to suggestCharts:', error);\n",
       "      }\n",
       "      quickchartButtonEl.classList.remove('colab-df-spinner');\n",
       "      quickchartButtonEl.classList.add('colab-df-quickchart-complete');\n",
       "    }\n",
       "    (() => {\n",
       "      let quickchartButtonEl =\n",
       "        document.querySelector('#df-36d68c2c-d29a-40f3-87a2-98c126cdfa17 button');\n",
       "      quickchartButtonEl.style.display =\n",
       "        google.colab.kernel.accessAllowed ? 'block' : 'none';\n",
       "    })();\n",
       "  </script>\n",
       "</div>\n",
       "    </div>\n",
       "  </div>\n"
      ],
      "text/plain": [
       "          x     y     z  carat  table  depth       score\n",
       "17893  9.10  8.97  5.67   3.01   58.0   62.7  100.000000\n",
       "24669  8.82  8.75  5.45   2.65   61.0   62.0   98.484294\n",
       "24148  8.85  8.76  5.17   2.41   61.0   58.7   89.666102\n",
       "21879  8.60  8.56  5.24   2.33   58.0   61.1   86.891979\n",
       "23537  8.33  8.28  5.21   2.22   58.0   62.7   86.601659\n",
       "20304  7.89  7.81  5.04   2.00   60.0   64.2   86.520889\n",
       "24712  7.97  7.86  5.03   2.04   60.0   63.6   86.141693\n",
       "24279  8.22  8.30  5.08   2.11   60.0   61.5   86.105723\n",
       "24468  8.22  8.16  5.10   2.08   59.0   62.3   85.170271\n",
       "22021  8.39  8.31  4.82   2.04   64.0   57.7   84.878480\n",
       "23921  8.06  8.14  4.96   2.01   60.0   61.2   82.859405\n",
       "24381  8.05  8.00  5.03   2.02   57.0   62.7   80.213461\n",
       "22915  8.26  8.21  5.16   2.14   55.0   62.7   80.068417\n",
       "22985  8.12  8.05  5.09   2.03   56.0   63.0   80.002067\n",
       "21856  7.36  7.44  4.65   1.57   60.0   62.8   75.322572\n",
       "20964  7.20  7.27  4.59   1.50   60.0   63.4   74.199243\n",
       "21235  7.22  7.16  4.62   1.51   59.0   64.2   73.749013\n",
       "21123  7.84  7.90  4.62   1.74   60.0   58.7   72.726635\n",
       "22018  7.44  7.50  4.65   1.60   58.0   62.2   71.548220\n",
       "21724  7.28  7.32  4.55   1.51   59.0   62.3   70.843265"
      ]
     },
     "execution_count": 354,
     "metadata": {},
     "output_type": "execute_result"
    }
   ],
   "source": [
    "sub_df.sort_values('score', ascending=False)[:20]"
   ]
  },
  {
   "cell_type": "markdown",
   "metadata": {
    "id": "Y8p7MHTvbgBR"
   },
   "source": [
    "Looking at the table, it is easy to see that the score is naturally correlated with diamond's dimensions and weight. Intuitively it follows that the hidden factor describes how large a diamond is."
   ]
  }
 ],
 "metadata": {
  "colab": {
   "provenance": []
  },
  "kernelspec": {
   "display_name": "Python 3 (ipykernel)",
   "language": "python",
   "name": "python3"
  },
  "language_info": {
   "codemirror_mode": {
    "name": "ipython",
    "version": 3
   },
   "file_extension": ".py",
   "mimetype": "text/x-python",
   "name": "python",
   "nbconvert_exporter": "python",
   "pygments_lexer": "ipython3",
   "version": "3.12.7"
  }
 },
 "nbformat": 4,
 "nbformat_minor": 4
}
