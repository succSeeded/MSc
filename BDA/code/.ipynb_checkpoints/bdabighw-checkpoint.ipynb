{
 "cells": [
  {
   "cell_type": "code",
   "execution_count": 1,
   "id": "996fb1b5-5cc9-4782-b6de-dbd62e9f5a21",
   "metadata": {},
   "outputs": [],
   "source": [
    "%load_ext jupyter_black"
   ]
  },
  {
   "cell_type": "code",
   "execution_count": 2,
   "id": "b88c9ad6-3aaa-4857-a430-4d3b559ffba6",
   "metadata": {},
   "outputs": [],
   "source": [
    "import pandas as pd\n",
    "import numpy as np"
   ]
  },
  {
   "cell_type": "code",
   "execution_count": 3,
   "id": "2857e939-5136-4d92-adff-2410b68c79d2",
   "metadata": {},
   "outputs": [
    {
     "name": "stdout",
     "output_type": "stream",
     "text": [
      "(1000, 7)\n"
     ]
    },
    {
     "data": {
      "text/html": [
       "<div>\n",
       "<style scoped>\n",
       "    .dataframe tbody tr th:only-of-type {\n",
       "        vertical-align: middle;\n",
       "    }\n",
       "\n",
       "    .dataframe tbody tr th {\n",
       "        vertical-align: top;\n",
       "    }\n",
       "\n",
       "    .dataframe thead th {\n",
       "        text-align: right;\n",
       "    }\n",
       "</style>\n",
       "<table border=\"1\" class=\"dataframe\">\n",
       "  <thead>\n",
       "    <tr style=\"text-align: right;\">\n",
       "      <th></th>\n",
       "      <th>carat</th>\n",
       "      <th>depth</th>\n",
       "      <th>table</th>\n",
       "      <th>price</th>\n",
       "      <th>x</th>\n",
       "      <th>y</th>\n",
       "      <th>z</th>\n",
       "    </tr>\n",
       "  </thead>\n",
       "  <tbody>\n",
       "    <tr>\n",
       "      <th>33553</th>\n",
       "      <td>0.61</td>\n",
       "      <td>61.2</td>\n",
       "      <td>57.2</td>\n",
       "      <td>931</td>\n",
       "      <td>5.44</td>\n",
       "      <td>5.49</td>\n",
       "      <td>3.34</td>\n",
       "    </tr>\n",
       "    <tr>\n",
       "      <th>9427</th>\n",
       "      <td>0.91</td>\n",
       "      <td>64.1</td>\n",
       "      <td>60.0</td>\n",
       "      <td>4744</td>\n",
       "      <td>6.11</td>\n",
       "      <td>6.06</td>\n",
       "      <td>3.90</td>\n",
       "    </tr>\n",
       "    <tr>\n",
       "      <th>199</th>\n",
       "      <td>0.77</td>\n",
       "      <td>62.2</td>\n",
       "      <td>56.0</td>\n",
       "      <td>2781</td>\n",
       "      <td>5.83</td>\n",
       "      <td>5.88</td>\n",
       "      <td>3.64</td>\n",
       "    </tr>\n",
       "    <tr>\n",
       "      <th>12447</th>\n",
       "      <td>1.13</td>\n",
       "      <td>60.7</td>\n",
       "      <td>58.0</td>\n",
       "      <td>5531</td>\n",
       "      <td>6.72</td>\n",
       "      <td>6.75</td>\n",
       "      <td>4.09</td>\n",
       "    </tr>\n",
       "    <tr>\n",
       "      <th>39489</th>\n",
       "      <td>0.32</td>\n",
       "      <td>63.1</td>\n",
       "      <td>55.0</td>\n",
       "      <td>505</td>\n",
       "      <td>4.33</td>\n",
       "      <td>4.36</td>\n",
       "      <td>2.74</td>\n",
       "    </tr>\n",
       "    <tr>\n",
       "      <th>42724</th>\n",
       "      <td>0.56</td>\n",
       "      <td>60.6</td>\n",
       "      <td>59.0</td>\n",
       "      <td>1743</td>\n",
       "      <td>5.33</td>\n",
       "      <td>5.29</td>\n",
       "      <td>3.22</td>\n",
       "    </tr>\n",
       "    <tr>\n",
       "      <th>10822</th>\n",
       "      <td>0.34</td>\n",
       "      <td>61.7</td>\n",
       "      <td>56.0</td>\n",
       "      <td>596</td>\n",
       "      <td>4.48</td>\n",
       "      <td>4.53</td>\n",
       "      <td>2.78</td>\n",
       "    </tr>\n",
       "    <tr>\n",
       "      <th>49498</th>\n",
       "      <td>0.76</td>\n",
       "      <td>62.7</td>\n",
       "      <td>57.0</td>\n",
       "      <td>2668</td>\n",
       "      <td>5.82</td>\n",
       "      <td>5.86</td>\n",
       "      <td>3.66</td>\n",
       "    </tr>\n",
       "  </tbody>\n",
       "</table>\n",
       "</div>"
      ],
      "text/plain": [
       "       carat  depth  table  price     x     y     z\n",
       "33553   0.61   61.2   57.2    931  5.44  5.49  3.34\n",
       "9427    0.91   64.1   60.0   4744  6.11  6.06  3.90\n",
       "199     0.77   62.2   56.0   2781  5.83  5.88  3.64\n",
       "12447   1.13   60.7   58.0   5531  6.72  6.75  4.09\n",
       "39489   0.32   63.1   55.0    505  4.33  4.36  2.74\n",
       "42724   0.56   60.6   59.0   1743  5.33  5.29  3.22\n",
       "10822   0.34   61.7   56.0    596  4.48  4.53  2.78\n",
       "49498   0.76   62.7   57.0   2668  5.82  5.86  3.66"
      ]
     },
     "execution_count": 3,
     "metadata": {},
     "output_type": "execute_result"
    }
   ],
   "source": [
    "from platform import system\n",
    "\n",
    "source = (\"data\\\\\" if system() == \"Windows\" else \"data/\") + \"diamonds.csv\"\n",
    "\n",
    "N = 1000\n",
    "\n",
    "df = (\n",
    "    pd.read_csv(source)\n",
    "    .drop(columns=[\"cut\", \"color\", \"clarity\"])\n",
    "    .sample(n=N, random_state=42)\n",
    ")\n",
    "\n",
    "print(df.shape)\n",
    "df.head(8)"
   ]
  },
  {
   "cell_type": "code",
   "execution_count": 4,
   "id": "4d1f2702-a0f9-4fb0-8224-7111a715d7c8",
   "metadata": {},
   "outputs": [],
   "source": [
    "Y = (df - df.mean()) / df.std()"
   ]
  },
  {
   "cell_type": "code",
   "execution_count": 5,
   "id": "a2d7ad13-98f2-4793-80f0-4e3992dca1d3",
   "metadata": {},
   "outputs": [
    {
     "data": {
      "text/html": [
       "<div>\n",
       "<style scoped>\n",
       "    .dataframe tbody tr th:only-of-type {\n",
       "        vertical-align: middle;\n",
       "    }\n",
       "\n",
       "    .dataframe tbody tr th {\n",
       "        vertical-align: top;\n",
       "    }\n",
       "\n",
       "    .dataframe thead th {\n",
       "        text-align: right;\n",
       "    }\n",
       "</style>\n",
       "<table border=\"1\" class=\"dataframe\">\n",
       "  <thead>\n",
       "    <tr style=\"text-align: right;\">\n",
       "      <th></th>\n",
       "      <th>carat</th>\n",
       "      <th>depth</th>\n",
       "      <th>table</th>\n",
       "      <th>price</th>\n",
       "      <th>x</th>\n",
       "      <th>y</th>\n",
       "      <th>z</th>\n",
       "    </tr>\n",
       "  </thead>\n",
       "  <tbody>\n",
       "    <tr>\n",
       "      <th>carat</th>\n",
       "      <td>1.000000</td>\n",
       "      <td>0.015282</td>\n",
       "      <td>0.184328</td>\n",
       "      <td>0.921672</td>\n",
       "      <td>0.976714</td>\n",
       "      <td>0.976382</td>\n",
       "      <td>0.975922</td>\n",
       "    </tr>\n",
       "    <tr>\n",
       "      <th>depth</th>\n",
       "      <td>0.015282</td>\n",
       "      <td>1.000000</td>\n",
       "      <td>-0.281209</td>\n",
       "      <td>-0.026919</td>\n",
       "      <td>-0.036136</td>\n",
       "      <td>-0.039698</td>\n",
       "      <td>0.082521</td>\n",
       "    </tr>\n",
       "    <tr>\n",
       "      <th>table</th>\n",
       "      <td>0.184328</td>\n",
       "      <td>-0.281209</td>\n",
       "      <td>1.000000</td>\n",
       "      <td>0.153673</td>\n",
       "      <td>0.182440</td>\n",
       "      <td>0.178267</td>\n",
       "      <td>0.146316</td>\n",
       "    </tr>\n",
       "    <tr>\n",
       "      <th>price</th>\n",
       "      <td>0.921672</td>\n",
       "      <td>-0.026919</td>\n",
       "      <td>0.153673</td>\n",
       "      <td>1.000000</td>\n",
       "      <td>0.886321</td>\n",
       "      <td>0.889450</td>\n",
       "      <td>0.881673</td>\n",
       "    </tr>\n",
       "    <tr>\n",
       "      <th>x</th>\n",
       "      <td>0.976714</td>\n",
       "      <td>-0.036136</td>\n",
       "      <td>0.182440</td>\n",
       "      <td>0.886321</td>\n",
       "      <td>1.000000</td>\n",
       "      <td>0.998956</td>\n",
       "      <td>0.992352</td>\n",
       "    </tr>\n",
       "    <tr>\n",
       "      <th>y</th>\n",
       "      <td>0.976382</td>\n",
       "      <td>-0.039698</td>\n",
       "      <td>0.178267</td>\n",
       "      <td>0.889450</td>\n",
       "      <td>0.998956</td>\n",
       "      <td>1.000000</td>\n",
       "      <td>0.991945</td>\n",
       "    </tr>\n",
       "    <tr>\n",
       "      <th>z</th>\n",
       "      <td>0.975922</td>\n",
       "      <td>0.082521</td>\n",
       "      <td>0.146316</td>\n",
       "      <td>0.881673</td>\n",
       "      <td>0.992352</td>\n",
       "      <td>0.991945</td>\n",
       "      <td>1.000000</td>\n",
       "    </tr>\n",
       "  </tbody>\n",
       "</table>\n",
       "</div>"
      ],
      "text/plain": [
       "          carat     depth     table     price         x         y         z\n",
       "carat  1.000000  0.015282  0.184328  0.921672  0.976714  0.976382  0.975922\n",
       "depth  0.015282  1.000000 -0.281209 -0.026919 -0.036136 -0.039698  0.082521\n",
       "table  0.184328 -0.281209  1.000000  0.153673  0.182440  0.178267  0.146316\n",
       "price  0.921672 -0.026919  0.153673  1.000000  0.886321  0.889450  0.881673\n",
       "x      0.976714 -0.036136  0.182440  0.886321  1.000000  0.998956  0.992352\n",
       "y      0.976382 -0.039698  0.178267  0.889450  0.998956  1.000000  0.991945\n",
       "z      0.975922  0.082521  0.146316  0.881673  0.992352  0.991945  1.000000"
      ]
     },
     "execution_count": 5,
     "metadata": {},
     "output_type": "execute_result"
    }
   ],
   "source": [
    "Y.corr()"
   ]
  },
  {
   "cell_type": "code",
   "execution_count": 6,
   "id": "d80534aa-ca84-4b17-82d3-1b4963573646",
   "metadata": {},
   "outputs": [],
   "source": [
    "Y = Y.to_numpy()"
   ]
  },
  {
   "cell_type": "code",
   "execution_count": 39,
   "id": "ec443853-419c-4a5b-8feb-fec4ad0bc8a3",
   "metadata": {},
   "outputs": [],
   "source": [
    "ds = np.sum(Y * Y)"
   ]
  },
  {
   "cell_type": "code",
   "execution_count": 40,
   "id": "033a2a53-d034-48b7-baac-0ded346392f7",
   "metadata": {},
   "outputs": [
    {
     "data": {
      "text/plain": [
       "6993.0"
      ]
     },
     "execution_count": 40,
     "metadata": {},
     "output_type": "execute_result"
    }
   ],
   "source": [
    "ds"
   ]
  },
  {
   "cell_type": "code",
   "execution_count": 10,
   "id": "8b1bf166-2111-4c9d-a1eb-532e88d735f9",
   "metadata": {},
   "outputs": [],
   "source": [
    "B = np.matmul(Y.T, Y) / N"
   ]
  },
  {
   "cell_type": "code",
   "execution_count": 11,
   "id": "cba1f4fa-de3c-4853-b3a0-81be24dbdf70",
   "metadata": {},
   "outputs": [
    {
     "name": "stdout",
     "output_type": "stream",
     "text": [
      "[[ 0.999     0.015267  0.184143  0.92075   0.975737  0.975405  0.974946]\n",
      " [ 0.015267  0.999    -0.280927 -0.026892 -0.036099 -0.039658  0.082439]\n",
      " [ 0.184143 -0.280927  0.999     0.15352   0.182257  0.178089  0.14617 ]\n",
      " [ 0.92075  -0.026892  0.15352   0.999     0.885435  0.88856   0.880791]\n",
      " [ 0.975737 -0.036099  0.182257  0.885435  0.999     0.997957  0.991359]\n",
      " [ 0.975405 -0.039658  0.178089  0.88856   0.997957  0.999     0.990953]\n",
      " [ 0.974946  0.082439  0.14617   0.880791  0.991359  0.990953  0.999   ]]\n"
     ]
    }
   ],
   "source": [
    "with np.printoptions(precision=6, suppress=True):\n",
    "    print(B)"
   ]
  },
  {
   "cell_type": "code",
   "execution_count": 12,
   "id": "a62f784d-495c-4da1-b4d7-c7d0d8a9e14a",
   "metadata": {},
   "outputs": [],
   "source": [
    "eigvals, eigvects = np.linalg.eig(B)"
   ]
  },
  {
   "cell_type": "code",
   "execution_count": 13,
   "id": "9f9eae90-4bdb-4443-84ad-2960270f87c7",
   "metadata": {},
   "outputs": [],
   "source": [
    "L_1 = eigvals[0]\n",
    "c_1 = eigvects[:, 0]"
   ]
  },
  {
   "cell_type": "code",
   "execution_count": 14,
   "id": "f9475981-fd76-40a1-9a4e-e67c2987779d",
   "metadata": {},
   "outputs": [
    {
     "name": "stdout",
     "output_type": "stream",
     "text": [
      "Largest eigenvalue = 4.831786863283652,\n",
      " its eigenvector = [-0.450187  0.007673 -0.098669 -0.423931 -0.450763 -0.450889 -0.4487  ]\n"
     ]
    }
   ],
   "source": [
    "with np.printoptions(precision=6, suppress=True):\n",
    "    print(f\"Largest eigenvalue = {L_1},\\n its eigenvector = {c_1}\")"
   ]
  },
  {
   "cell_type": "code",
   "execution_count": 15,
   "id": "4c873de5-0c14-4e74-b064-d51c057a9002",
   "metadata": {},
   "outputs": [],
   "source": [
    "z_1 = np.matmul(Y, c_1.reshape((7, 1))) / np.sqrt(N * L_1)"
   ]
  },
  {
   "cell_type": "code",
   "execution_count": 16,
   "id": "256414a2-4be2-4715-84a8-ec8ca7917d73",
   "metadata": {},
   "outputs": [],
   "source": [
    "B = B - L_1 * np.matmul(c_1.reshape((1, 7)), c_1.reshape((7, 1)))"
   ]
  },
  {
   "cell_type": "code",
   "execution_count": 17,
   "id": "eaf8aa42-5852-4adb-afe4-91f39f217380",
   "metadata": {},
   "outputs": [],
   "source": [
    "eigvals, eigvects = np.linalg.eig(B)"
   ]
  },
  {
   "cell_type": "code",
   "execution_count": 18,
   "id": "0e58546c-9187-4cfe-af25-683a1e48fac3",
   "metadata": {},
   "outputs": [
    {
     "data": {
      "text/plain": [
       "array([-3.00508791e+01,  1.78779685e+00,  1.23783756e+00,  1.67662676e-01,\n",
       "        2.39756730e-02,  3.11115214e-03,  9.87094684e-04])"
      ]
     },
     "execution_count": 18,
     "metadata": {},
     "output_type": "execute_result"
    }
   ],
   "source": [
    "eigvals"
   ]
  },
  {
   "cell_type": "code",
   "execution_count": 19,
   "id": "d967fa14-476d-4703-8c85-7b5bb2196971",
   "metadata": {},
   "outputs": [],
   "source": [
    "L_2 = eigvals[1]\n",
    "c_2 = eigvects[:, 1]"
   ]
  },
  {
   "cell_type": "code",
   "execution_count": 20,
   "id": "e524816e-cd46-49be-a44f-e06bf9e47de6",
   "metadata": {},
   "outputs": [
    {
     "data": {
      "text/plain": [
       "1.7877968523268786"
      ]
     },
     "execution_count": 20,
     "metadata": {},
     "output_type": "execute_result"
    }
   ],
   "source": [
    "L_2"
   ]
  },
  {
   "cell_type": "code",
   "execution_count": 21,
   "id": "8736d5d2-780a-40db-b557-921452f01621",
   "metadata": {},
   "outputs": [
    {
     "data": {
      "text/plain": [
       "array([-0.2455008 ,  0.7599983 ,  0.33659671, -0.22997104, -0.26892999,\n",
       "       -0.27153454, -0.22336869])"
      ]
     },
     "execution_count": 21,
     "metadata": {},
     "output_type": "execute_result"
    }
   ],
   "source": [
    "c_2"
   ]
  },
  {
   "cell_type": "code",
   "execution_count": 22,
   "id": "b9a92fdc-2eed-4c8f-9012-8463dff02aeb",
   "metadata": {},
   "outputs": [],
   "source": [
    "z_2 = np.matmul(Y, c_2.reshape((7, 1))) / np.sqrt(N * L_2)"
   ]
  },
  {
   "cell_type": "code",
   "execution_count": 23,
   "id": "2d71d8a9-6683-432f-b150-b963ee8e9b4b",
   "metadata": {},
   "outputs": [
    {
     "data": {
      "image/png": "[encoded data removed]",
      "text/plain": [
       "<Figure size 640x480 with 1 Axes>"
      ]
     },
     "metadata": {},
     "output_type": "display_data"
    }
   ],
   "source": [
    "import matplotlib.pyplot as plt\n",
    "\n",
    "fig, ax = plt.subplots()\n",
    "\n",
    "ax.scatter(z_1, z_2, s=0.5)\n",
    "ax.grid()"
   ]
  },
  {
   "cell_type": "code",
   "execution_count": 36,
   "id": "c158facc-510f-4db3-8894-9d0fa9608f22",
   "metadata": {},
   "outputs": [
    {
     "data": {
      "text/plain": [
       "6692.2427537341455"
      ]
     },
     "execution_count": 36,
     "metadata": {},
     "output_type": "execute_result"
    }
   ],
   "source": [
    "np.linalg.norm(\n",
    "    Y - np.sqrt(L_1) * np.matmul(z_1.reshape(N, 1), c_1.reshape(1, 7)), ord=\"fro\"\n",
    ") ** 2"
   ]
  },
  {
   "cell_type": "code",
   "execution_count": 29,
   "id": "59aef47f-fbaa-4845-add9-79c45865eab7",
   "metadata": {},
   "outputs": [
    {
     "data": {
      "text/plain": [
       "81.10174891660087"
      ]
     },
     "execution_count": 29,
     "metadata": {},
     "output_type": "execute_result"
    }
   ],
   "source": [
    "np.linalg.norm(\n",
    "    Y\n",
    "    - np.sqrt(L_1) * np.matmul(z_1.reshape(N, 1), c_1.reshape(1, 7))\n",
    "    - np.sqrt(L_2) * np.matmul(z_2.reshape(N, 1), c_2.reshape(1, 7)),\n",
    "    ord=\"fro\",\n",
    ")**2"
   ]
  },
  {
   "cell_type": "code",
   "execution_count": 34,
   "id": "28a55dad-9f31-4366-b616-45976130fcac",
   "metadata": {},
   "outputs": [
    {
     "data": {
      "text/plain": [
       "1.886201783644856"
      ]
     },
     "execution_count": 34,
     "metadata": {},
     "output_type": "execute_result"
    }
   ],
   "source": [
    "np.linalg.norm(\n",
    "    np.sqrt(L_2) * np.matmul(z_2.reshape(N, 1), c_2.reshape(1, 7)), ord=\"fro\"\n",
    ") ** 2"
   ]
  },
  {
   "cell_type": "code",
   "execution_count": 35,
   "id": "5b78d7a2-45a3-4ef1-af81-2a0453c12bd7",
   "metadata": {},
   "outputs": [
    {
     "data": {
      "text/plain": [
       "4.831786863283655"
      ]
     },
     "execution_count": 35,
     "metadata": {},
     "output_type": "execute_result"
    }
   ],
   "source": [
    "np.linalg.norm(\n",
    "    np.sqrt(L_1) * np.matmul(z_1.reshape(N, 1), c_1.reshape(1, 7)), ord=\"fro\"\n",
    ") ** 2"
   ]
  },
  {
   "cell_type": "code",
   "execution_count": 37,
   "id": "0ecb8c5d-1c34-44d3-bc62-1cd3a77b644a",
   "metadata": {},
   "outputs": [
    {
     "data": {
      "text/plain": [
       "6992.999999999996"
      ]
     },
     "execution_count": 37,
     "metadata": {},
     "output_type": "execute_result"
    }
   ],
   "source": [
    "np.linalg.norm(Y) ** 2"
   ]
  },
  {
   "cell_type": "code",
   "execution_count": null,
   "id": "e6e0d889-11f7-4e68-bf03-3eb1583d4ff9",
   "metadata": {},
   "outputs": [],
   "source": []
  }
 ],
 "metadata": {
  "kernelspec": {
   "display_name": "Python 3 (ipykernel)",
   "language": "python",
   "name": "python3"
  },
  "language_info": {
   "codemirror_mode": {
    "name": "ipython",
    "version": 3
   },
   "file_extension": ".py",
   "mimetype": "text/x-python",
   "name": "python",
   "nbconvert_exporter": "python",
   "pygments_lexer": "ipython3",
   "version": "3.12.3"
  }
 },
 "nbformat": 4,
 "nbformat_minor": 5
}
