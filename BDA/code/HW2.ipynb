{
 "cells": [
  {
   "cell_type": "code",
   "execution_count": 1,
   "id": "996fb1b5-5cc9-4782-b6de-dbd62e9f5a21",
   "metadata": {},
   "outputs": [],
   "source": [
    "%load_ext jupyter_black"
   ]
  },
  {
   "cell_type": "code",
   "execution_count": 2,
   "id": "b88c9ad6-3aaa-4857-a430-4d3b559ffba6",
   "metadata": {},
   "outputs": [],
   "source": [
    "import pandas as pd\n",
    "import numpy as np"
   ]
  },
  {
   "cell_type": "code",
   "execution_count": 29,
   "id": "2857e939-5136-4d92-adff-2410b68c79d2",
   "metadata": {},
   "outputs": [
    {
     "name": "stdout",
     "output_type": "stream",
     "text": [
      "(1000, 3)\n"
     ]
    },
    {
     "data": {
      "text/html": [
       "<div>\n",
       "<style scoped>\n",
       "    .dataframe tbody tr th:only-of-type {\n",
       "        vertical-align: middle;\n",
       "    }\n",
       "\n",
       "    .dataframe tbody tr th {\n",
       "        vertical-align: top;\n",
       "    }\n",
       "\n",
       "    .dataframe thead th {\n",
       "        text-align: right;\n",
       "    }\n",
       "</style>\n",
       "<table border=\"1\" class=\"dataframe\">\n",
       "  <thead>\n",
       "    <tr style=\"text-align: right;\">\n",
       "      <th></th>\n",
       "      <th>carat</th>\n",
       "      <th>depth</th>\n",
       "      <th>price</th>\n",
       "    </tr>\n",
       "  </thead>\n",
       "  <tbody>\n",
       "    <tr>\n",
       "      <th>33553</th>\n",
       "      <td>0.61</td>\n",
       "      <td>61.2</td>\n",
       "      <td>931</td>\n",
       "    </tr>\n",
       "    <tr>\n",
       "      <th>9427</th>\n",
       "      <td>0.91</td>\n",
       "      <td>64.1</td>\n",
       "      <td>4744</td>\n",
       "    </tr>\n",
       "    <tr>\n",
       "      <th>199</th>\n",
       "      <td>0.77</td>\n",
       "      <td>62.2</td>\n",
       "      <td>2781</td>\n",
       "    </tr>\n",
       "    <tr>\n",
       "      <th>12447</th>\n",
       "      <td>1.13</td>\n",
       "      <td>60.7</td>\n",
       "      <td>5531</td>\n",
       "    </tr>\n",
       "    <tr>\n",
       "      <th>39489</th>\n",
       "      <td>0.32</td>\n",
       "      <td>63.1</td>\n",
       "      <td>505</td>\n",
       "    </tr>\n",
       "    <tr>\n",
       "      <th>42724</th>\n",
       "      <td>0.56</td>\n",
       "      <td>60.6</td>\n",
       "      <td>1743</td>\n",
       "    </tr>\n",
       "    <tr>\n",
       "      <th>10822</th>\n",
       "      <td>0.34</td>\n",
       "      <td>61.7</td>\n",
       "      <td>596</td>\n",
       "    </tr>\n",
       "    <tr>\n",
       "      <th>49498</th>\n",
       "      <td>0.76</td>\n",
       "      <td>62.7</td>\n",
       "      <td>2668</td>\n",
       "    </tr>\n",
       "  </tbody>\n",
       "</table>\n",
       "</div>"
      ],
      "text/plain": [
       "       carat  depth  price\n",
       "33553   0.61   61.2    931\n",
       "9427    0.91   64.1   4744\n",
       "199     0.77   62.2   2781\n",
       "12447   1.13   60.7   5531\n",
       "39489   0.32   63.1    505\n",
       "42724   0.56   60.6   1743\n",
       "10822   0.34   61.7    596\n",
       "49498   0.76   62.7   2668"
      ]
     },
     "execution_count": 29,
     "metadata": {},
     "output_type": "execute_result"
    }
   ],
   "source": [
    "from platform import system\n",
    "\n",
    "source = (\"data\\\\\" if system() == \"Windows\" else \"data/\") + \"diamonds.csv\"\n",
    "\n",
    "N = 1000\n",
    "\n",
    "df = (\n",
    "    pd.read_csv(source)\n",
    "    .drop(columns=[\"cut\", \"color\", \"clarity\", \"table\", \"x\", \"y\", \"z\"])\n",
    "    .sample(n=N, random_state=42)\n",
    ")\n",
    "\n",
    "print(df.shape)\n",
    "df.head(8)"
   ]
  },
  {
   "cell_type": "code",
   "execution_count": 66,
   "id": "33aa2a98-8ea2-4f96-935e-b38449b05051",
   "metadata": {},
   "outputs": [
    {
     "data": {
      "text/plain": [
       "<Axes: >"
      ]
     },
     "execution_count": 66,
     "metadata": {},
     "output_type": "execute_result"
    },
    {
     "data": {
      "image/png": "[encoded data removed]",
      "text/plain": [
       "<Figure size 640x480 with 1 Axes>"
      ]
     },
     "metadata": {},
     "output_type": "display_data"
    }
   ],
   "source": [
    "df[\"price\"].hist()"
   ]
  },
  {
   "cell_type": "code",
   "execution_count": 76,
   "id": "b99b7e47-1109-4bd4-9757-53eadf0ac176",
   "metadata": {},
   "outputs": [
    {
     "data": {
      "text/plain": [
       "array([False, False, False,  True, False, False, False, False, False,\n",
       "       False, False, False, False, False,  True, False,  True, False,\n",
       "        True,  True, False,  True, False, False,  True, False, False,\n",
       "       False, False, False, False,  True, False, False, False,  True,\n",
       "       False, False, False,  True, False,  True, False, False, False,\n",
       "       False,  True, False, False,  True,  True, False, False, False,\n",
       "        True, False, False, False, False,  True, False, False,  True,\n",
       "       False, False,  True,  True,  True, False, False, False,  True,\n",
       "       False, False, False, False, False, False,  True, False,  True,\n",
       "        True, False, False, False, False, False, False, False, False,\n",
       "       False, False, False, False,  True, False, False,  True,  True,\n",
       "       False, False, False, False, False, False, False, False,  True,\n",
       "       False, False,  True, False, False, False, False, False, False,\n",
       "       False,  True, False, False, False, False, False,  True,  True,\n",
       "        True, False, False, False,  True, False,  True, False, False,\n",
       "       False, False, False, False, False, False, False, False, False,\n",
       "        True,  True, False, False, False, False, False, False, False,\n",
       "       False, False, False,  True, False, False, False, False,  True,\n",
       "       False, False, False, False, False, False,  True, False, False,\n",
       "       False,  True, False, False, False,  True, False,  True,  True,\n",
       "        True,  True, False,  True, False,  True, False,  True,  True,\n",
       "       False,  True, False, False, False, False, False, False, False,\n",
       "        True, False,  True,  True, False, False, False, False, False,\n",
       "       False, False, False, False, False, False, False, False, False,\n",
       "       False, False, False,  True, False, False, False,  True, False,\n",
       "       False, False,  True, False, False, False,  True, False, False,\n",
       "       False, False,  True, False, False, False, False, False, False,\n",
       "        True, False, False, False, False,  True,  True, False, False,\n",
       "       False, False, False, False,  True, False, False,  True,  True,\n",
       "       False, False, False, False,  True, False, False, False, False,\n",
       "        True, False,  True, False, False, False, False,  True, False,\n",
       "       False, False, False, False, False, False, False, False, False,\n",
       "       False, False, False, False, False, False, False, False,  True,\n",
       "       False, False, False, False, False, False, False, False, False,\n",
       "        True, False, False, False, False, False, False,  True, False,\n",
       "       False,  True, False, False, False, False,  True,  True, False,\n",
       "       False,  True, False,  True,  True, False, False, False, False,\n",
       "       False, False, False, False,  True, False,  True, False, False,\n",
       "        True, False, False, False, False, False, False,  True, False,\n",
       "       False, False, False, False, False, False, False, False,  True,\n",
       "       False,  True, False,  True, False, False, False, False,  True,\n",
       "       False, False, False, False, False,  True, False, False, False,\n",
       "       False, False,  True, False, False, False, False, False, False,\n",
       "        True, False, False, False, False, False, False, False,  True,\n",
       "       False,  True, False,  True, False, False, False, False, False,\n",
       "       False,  True, False, False,  True, False,  True,  True, False,\n",
       "        True, False, False, False, False,  True, False, False,  True,\n",
       "        True, False, False,  True, False, False, False,  True, False,\n",
       "       False,  True,  True, False, False, False,  True, False, False,\n",
       "        True, False, False,  True, False, False, False,  True,  True,\n",
       "       False, False, False, False, False, False, False,  True, False,\n",
       "       False, False,  True,  True, False,  True, False, False, False,\n",
       "       False, False,  True, False,  True, False, False, False,  True,\n",
       "       False, False, False,  True,  True, False, False, False, False,\n",
       "       False,  True, False, False, False,  True, False, False, False,\n",
       "       False,  True, False, False, False,  True, False, False, False,\n",
       "       False, False, False, False,  True, False, False, False,  True,\n",
       "       False, False, False,  True, False,  True,  True,  True,  True,\n",
       "       False, False, False, False,  True, False,  True, False,  True,\n",
       "       False,  True, False, False, False, False, False, False, False,\n",
       "       False,  True, False, False,  True,  True, False, False,  True,\n",
       "       False, False, False, False,  True, False, False, False, False,\n",
       "       False, False, False, False, False, False, False, False,  True,\n",
       "       False,  True, False, False, False, False, False, False, False,\n",
       "        True, False,  True,  True, False,  True, False,  True,  True,\n",
       "       False, False, False, False, False, False, False, False,  True,\n",
       "       False, False, False,  True,  True, False,  True, False, False,\n",
       "       False, False,  True, False, False, False, False, False,  True,\n",
       "       False,  True,  True, False, False, False, False, False,  True,\n",
       "       False, False, False, False, False, False,  True, False, False,\n",
       "       False, False, False, False, False, False,  True, False,  True,\n",
       "       False,  True,  True, False, False, False, False, False, False,\n",
       "       False, False, False, False, False, False, False,  True,  True,\n",
       "        True, False, False, False, False, False, False,  True, False,\n",
       "       False,  True, False,  True, False, False, False, False, False,\n",
       "        True,  True,  True, False, False, False,  True, False, False,\n",
       "       False, False, False,  True, False, False, False,  True, False,\n",
       "       False, False,  True,  True, False, False, False,  True, False,\n",
       "       False, False,  True, False, False, False, False,  True,  True,\n",
       "       False,  True, False,  True, False,  True,  True, False, False,\n",
       "        True,  True, False, False,  True, False, False, False,  True,\n",
       "       False,  True, False, False, False,  True,  True,  True, False,\n",
       "       False, False, False,  True, False,  True, False,  True,  True,\n",
       "       False,  True, False, False, False, False, False, False, False,\n",
       "       False,  True, False, False, False, False,  True,  True, False,\n",
       "        True, False, False,  True,  True,  True, False, False, False,\n",
       "        True, False, False,  True,  True, False, False,  True, False,\n",
       "       False,  True,  True,  True, False, False,  True, False, False,\n",
       "       False, False, False,  True, False,  True, False, False, False,\n",
       "       False, False, False, False, False, False, False, False,  True,\n",
       "        True,  True,  True, False,  True, False,  True, False,  True,\n",
       "        True, False, False, False, False, False,  True, False,  True,\n",
       "       False, False, False, False, False, False, False,  True, False,\n",
       "       False,  True,  True,  True,  True, False, False,  True, False,\n",
       "       False,  True,  True, False, False,  True, False, False, False,\n",
       "       False, False, False, False, False, False,  True, False, False,\n",
       "        True,  True, False, False, False, False, False, False, False,\n",
       "        True,  True, False, False,  True,  True,  True,  True, False,\n",
       "       False,  True, False, False, False,  True, False, False,  True,\n",
       "        True, False, False, False, False, False,  True, False, False,\n",
       "       False,  True,  True,  True,  True, False, False, False, False,\n",
       "       False, False, False, False, False, False, False,  True, False,\n",
       "       False,  True, False, False, False, False, False,  True, False,\n",
       "       False, False, False, False,  True, False, False, False, False,\n",
       "       False, False,  True, False,  True,  True, False,  True,  True,\n",
       "        True, False, False, False,  True, False,  True, False, False,\n",
       "        True, False,  True, False, False, False,  True, False, False,\n",
       "        True, False, False, False, False, False, False,  True, False,\n",
       "        True, False, False, False,  True, False, False, False, False,\n",
       "        True, False,  True,  True, False,  True, False,  True,  True,\n",
       "        True, False, False, False, False, False, False,  True, False,\n",
       "        True])"
      ]
     },
     "execution_count": 76,
     "metadata": {},
     "output_type": "execute_result"
    }
   ],
   "source": [
    "(df.price > 5000).to_numpy()"
   ]
  },
  {
   "cell_type": "code",
   "execution_count": 30,
   "id": "4d1f2702-a0f9-4fb0-8224-7111a715d7c8",
   "metadata": {},
   "outputs": [],
   "source": [
    "Y = (df - df.mean()) / df.std()"
   ]
  },
  {
   "cell_type": "code",
   "execution_count": 31,
   "id": "a2d7ad13-98f2-4793-80f0-4e3992dca1d3",
   "metadata": {},
   "outputs": [
    {
     "data": {
      "text/html": [
       "<div>\n",
       "<style scoped>\n",
       "    .dataframe tbody tr th:only-of-type {\n",
       "        vertical-align: middle;\n",
       "    }\n",
       "\n",
       "    .dataframe tbody tr th {\n",
       "        vertical-align: top;\n",
       "    }\n",
       "\n",
       "    .dataframe thead th {\n",
       "        text-align: right;\n",
       "    }\n",
       "</style>\n",
       "<table border=\"1\" class=\"dataframe\">\n",
       "  <thead>\n",
       "    <tr style=\"text-align: right;\">\n",
       "      <th></th>\n",
       "      <th>carat</th>\n",
       "      <th>depth</th>\n",
       "      <th>price</th>\n",
       "    </tr>\n",
       "  </thead>\n",
       "  <tbody>\n",
       "    <tr>\n",
       "      <th>carat</th>\n",
       "      <td>1.000000</td>\n",
       "      <td>0.015282</td>\n",
       "      <td>0.921672</td>\n",
       "    </tr>\n",
       "    <tr>\n",
       "      <th>depth</th>\n",
       "      <td>0.015282</td>\n",
       "      <td>1.000000</td>\n",
       "      <td>-0.026919</td>\n",
       "    </tr>\n",
       "    <tr>\n",
       "      <th>price</th>\n",
       "      <td>0.921672</td>\n",
       "      <td>-0.026919</td>\n",
       "      <td>1.000000</td>\n",
       "    </tr>\n",
       "  </tbody>\n",
       "</table>\n",
       "</div>"
      ],
      "text/plain": [
       "          carat     depth     price\n",
       "carat  1.000000  0.015282  0.921672\n",
       "depth  0.015282  1.000000 -0.026919\n",
       "price  0.921672 -0.026919  1.000000"
      ]
     },
     "execution_count": 31,
     "metadata": {},
     "output_type": "execute_result"
    }
   ],
   "source": [
    "Y.corr()"
   ]
  },
  {
   "cell_type": "code",
   "execution_count": 32,
   "id": "904055e3-edb4-45d9-910a-9a5bb87e0544",
   "metadata": {},
   "outputs": [
    {
     "data": {
      "text/html": [
       "<div>\n",
       "<style scoped>\n",
       "    .dataframe tbody tr th:only-of-type {\n",
       "        vertical-align: middle;\n",
       "    }\n",
       "\n",
       "    .dataframe tbody tr th {\n",
       "        vertical-align: top;\n",
       "    }\n",
       "\n",
       "    .dataframe thead th {\n",
       "        text-align: right;\n",
       "    }\n",
       "</style>\n",
       "<table border=\"1\" class=\"dataframe\">\n",
       "  <thead>\n",
       "    <tr style=\"text-align: right;\">\n",
       "      <th></th>\n",
       "      <th>carat</th>\n",
       "      <th>depth</th>\n",
       "      <th>price</th>\n",
       "    </tr>\n",
       "  </thead>\n",
       "  <tbody>\n",
       "    <tr>\n",
       "      <th>carat</th>\n",
       "      <td>1.000000</td>\n",
       "      <td>0.015282</td>\n",
       "      <td>0.921672</td>\n",
       "    </tr>\n",
       "    <tr>\n",
       "      <th>depth</th>\n",
       "      <td>0.015282</td>\n",
       "      <td>1.000000</td>\n",
       "      <td>-0.026919</td>\n",
       "    </tr>\n",
       "    <tr>\n",
       "      <th>price</th>\n",
       "      <td>0.921672</td>\n",
       "      <td>-0.026919</td>\n",
       "      <td>1.000000</td>\n",
       "    </tr>\n",
       "  </tbody>\n",
       "</table>\n",
       "</div>"
      ],
      "text/plain": [
       "          carat     depth     price\n",
       "carat  1.000000  0.015282  0.921672\n",
       "depth  0.015282  1.000000 -0.026919\n",
       "price  0.921672 -0.026919  1.000000"
      ]
     },
     "execution_count": 32,
     "metadata": {},
     "output_type": "execute_result"
    }
   ],
   "source": [
    "df.corr()"
   ]
  },
  {
   "cell_type": "code",
   "execution_count": 33,
   "id": "d80534aa-ca84-4b17-82d3-1b4963573646",
   "metadata": {},
   "outputs": [],
   "source": [
    "Y = Y.to_numpy()"
   ]
  },
  {
   "cell_type": "code",
   "execution_count": 34,
   "id": "ec443853-419c-4a5b-8feb-fec4ad0bc8a3",
   "metadata": {},
   "outputs": [],
   "source": [
    "ds = np.sum(Y * Y)"
   ]
  },
  {
   "cell_type": "code",
   "execution_count": 35,
   "id": "033a2a53-d034-48b7-baac-0ded346392f7",
   "metadata": {},
   "outputs": [
    {
     "data": {
      "text/plain": [
       "2997.0"
      ]
     },
     "execution_count": 35,
     "metadata": {},
     "output_type": "execute_result"
    }
   ],
   "source": [
    "ds"
   ]
  },
  {
   "cell_type": "code",
   "execution_count": 36,
   "id": "8b1bf166-2111-4c9d-a1eb-532e88d735f9",
   "metadata": {},
   "outputs": [],
   "source": [
    "B = np.matmul(Y.T, Y) / N"
   ]
  },
  {
   "cell_type": "code",
   "execution_count": 37,
   "id": "cba1f4fa-de3c-4853-b3a0-81be24dbdf70",
   "metadata": {},
   "outputs": [
    {
     "name": "stdout",
     "output_type": "stream",
     "text": [
      "[[ 0.999     0.015267  0.92075 ]\n",
      " [ 0.015267  0.999    -0.026892]\n",
      " [ 0.92075  -0.026892  0.999   ]]\n"
     ]
    }
   ],
   "source": [
    "with np.printoptions(precision=6, suppress=True):\n",
    "    print(B)"
   ]
  },
  {
   "cell_type": "code",
   "execution_count": 38,
   "id": "a62f784d-495c-4da1-b4d7-c7d0d8a9e14a",
   "metadata": {},
   "outputs": [],
   "source": [
    "eigvals, eigvects = np.linalg.eig(B)"
   ]
  },
  {
   "cell_type": "code",
   "execution_count": 39,
   "id": "9f9eae90-4bdb-4443-84ad-2960270f87c7",
   "metadata": {},
   "outputs": [],
   "source": [
    "L_1 = eigvals[np.argmax(eigvals)]\n",
    "c_1 = eigvects[:, np.argmax(eigvals)]"
   ]
  },
  {
   "cell_type": "code",
   "execution_count": 40,
   "id": "f9475981-fd76-40a1-9a4e-e67c2987779d",
   "metadata": {},
   "outputs": [
    {
     "name": "stdout",
     "output_type": "stream",
     "text": [
      "Largest eigenvalue = 1.9198237949901458,\n",
      " its eigenvector = [ 0.706976 -0.008932  0.707181]\n"
     ]
    }
   ],
   "source": [
    "with np.printoptions(precision=6, suppress=True):\n",
    "    print(f\"Largest eigenvalue = {L_1},\\n its eigenvector = {c_1}\")"
   ]
  },
  {
   "cell_type": "code",
   "execution_count": 42,
   "id": "4c873de5-0c14-4e74-b064-d51c057a9002",
   "metadata": {},
   "outputs": [],
   "source": [
    "z_1 = np.matmul(Y, c_1.reshape((3, 1))) / np.sqrt(N * L_1)"
   ]
  },
  {
   "cell_type": "code",
   "execution_count": 43,
   "id": "256414a2-4be2-4715-84a8-ec8ca7917d73",
   "metadata": {},
   "outputs": [],
   "source": [
    "B = B - L_1 * np.matmul(c_1.reshape((1, 3)), c_1.reshape((3, 1)))"
   ]
  },
  {
   "cell_type": "code",
   "execution_count": 44,
   "id": "eaf8aa42-5852-4adb-afe4-91f39f217380",
   "metadata": {},
   "outputs": [],
   "source": [
    "eigvals, eigvects = np.linalg.eig(B)"
   ]
  },
  {
   "cell_type": "code",
   "execution_count": 45,
   "id": "0e58546c-9187-4cfe-af25-683a1e48fac3",
   "metadata": {},
   "outputs": [
    {
     "data": {
      "text/plain": [
       "array([-4.18914405,  0.07792211,  1.34875056])"
      ]
     },
     "execution_count": 45,
     "metadata": {},
     "output_type": "execute_result"
    }
   ],
   "source": [
    "eigvals"
   ]
  },
  {
   "cell_type": "code",
   "execution_count": 46,
   "id": "d967fa14-476d-4703-8c85-7b5bb2196971",
   "metadata": {},
   "outputs": [],
   "source": [
    "L_2 = eigvals[np.argmax(eigvals)]\n",
    "c_2 = eigvects[:, np.argmax(eigvals)]"
   ]
  },
  {
   "cell_type": "code",
   "execution_count": 47,
   "id": "e524816e-cd46-49be-a44f-e06bf9e47de6",
   "metadata": {},
   "outputs": [
    {
     "data": {
      "text/plain": [
       "1.3487505602838907"
      ]
     },
     "execution_count": 47,
     "metadata": {},
     "output_type": "execute_result"
    }
   ],
   "source": [
    "L_2"
   ]
  },
  {
   "cell_type": "code",
   "execution_count": 48,
   "id": "8736d5d2-780a-40db-b557-921452f01621",
   "metadata": {},
   "outputs": [
    {
     "data": {
      "text/plain": [
       "array([ 0.43980007, -0.76816718,  0.46529032])"
      ]
     },
     "execution_count": 48,
     "metadata": {},
     "output_type": "execute_result"
    }
   ],
   "source": [
    "c_2"
   ]
  },
  {
   "cell_type": "code",
   "execution_count": 50,
   "id": "b9a92fdc-2eed-4c8f-9012-8463dff02aeb",
   "metadata": {},
   "outputs": [],
   "source": [
    "z_2 = np.matmul(Y, c_2.reshape((3, 1))) / np.sqrt(N * L_2)"
   ]
  },
  {
   "cell_type": "code",
   "execution_count": 52,
   "id": "5c1ce72a-4934-45ea-b622-bedd655d88be",
   "metadata": {},
   "outputs": [],
   "source": [
    "B = B - L_2 * np.matmul(c_2.reshape((1, 3)), c_2.reshape((3, 1)))"
   ]
  },
  {
   "cell_type": "code",
   "execution_count": 53,
   "id": "82a39313-41a5-4b6d-bc89-050cdcd8eedf",
   "metadata": {},
   "outputs": [],
   "source": [
    "eigvals, eigvects = np.linalg.eig(B)"
   ]
  },
  {
   "cell_type": "code",
   "execution_count": 54,
   "id": "ab6b750c-b0c9-431c-90ec-eb3bdcc9f424",
   "metadata": {},
   "outputs": [],
   "source": [
    "L_3 = eigvals[np.argmax(eigvals)]\n",
    "c_3 = eigvects[:, np.argmax(eigvals)]"
   ]
  },
  {
   "cell_type": "code",
   "execution_count": 56,
   "id": "63b40c82-e8ba-4ccb-ad85-b76d3a3854b7",
   "metadata": {},
   "outputs": [],
   "source": [
    "z_3 = np.matmul(Y, c_3.reshape((3, 1))) / np.sqrt(N * L_3)"
   ]
  },
  {
   "cell_type": "code",
   "execution_count": 92,
   "id": "2d71d8a9-6683-432f-b150-b963ee8e9b4b",
   "metadata": {},
   "outputs": [
    {
     "data": {
      "image/png": "[encoded data removed]",
      "text/plain": [
       "<Figure size 640x480 with 1 Axes>"
      ]
     },
     "metadata": {},
     "output_type": "display_data"
    }
   ],
   "source": [
    "import matplotlib as mpl\n",
    "import matplotlib.pyplot as plt\n",
    "\n",
    "matplotlib.rcParams.update({\"font.size\": 14})\n",
    "mpl.rcParams[\"text.usetex\"] = True\n",
    "\n",
    "fig, ax = plt.subplots()\n",
    "\n",
    "ax.scatter(\n",
    "    z_1[(df.price <= 5000).to_numpy()], z_2[(df.price <= 5000).to_numpy()], s=0.5\n",
    ")\n",
    "ax.scatter(\n",
    "    z_1[(df.price > 5000).to_numpy()], z_2[(df.price > 5000).to_numpy()], s=0.5, c=\"r\"\n",
    ")\n",
    "ax.scatter(\n",
    "    z_1[(df.price > 10000).to_numpy()],\n",
    "    z_2[(df.price > 10000).to_numpy()],\n",
    "    s=0.5,\n",
    "    c=\"g\",\n",
    ")\n",
    "ax.grid()\n",
    "ax.set_xlabel(\"$z_1$\")\n",
    "ax.set_ylabel(\"$z_2$\", rotation=0)\n",
    "plt.show()"
   ]
  },
  {
   "cell_type": "code",
   "execution_count": 58,
   "id": "fb2c6313-6005-47cd-a758-09dd210dd5df",
   "metadata": {},
   "outputs": [
    {
     "data": {
      "image/png": "[encoded data removed]",
      "text/plain": [
       "<Figure size 640x480 with 1 Axes>"
      ]
     },
     "metadata": {},
     "output_type": "display_data"
    }
   ],
   "source": [
    "_, ax = plt.subplots()\n",
    "\n",
    "ax.scatter(z_2, z_3, s=0.5)\n",
    "ax.grid()"
   ]
  },
  {
   "cell_type": "code",
   "execution_count": 59,
   "id": "514260b6-e31e-41b7-949f-82df3b2c4fb5",
   "metadata": {},
   "outputs": [
    {
     "data": {
      "image/png": "[encoded data removed]",
      "text/plain": [
       "<Figure size 640x480 with 1 Axes>"
      ]
     },
     "metadata": {},
     "output_type": "display_data"
    }
   ],
   "source": [
    "_, ax = plt.subplots()\n",
    "\n",
    "ax.scatter(z_1, z_3, s=0.5)\n",
    "ax.grid()"
   ]
  },
  {
   "cell_type": "code",
   "execution_count": 61,
   "id": "c158facc-510f-4db3-8894-9d0fa9608f22",
   "metadata": {},
   "outputs": [
    {
     "data": {
      "text/plain": [
       "2877.49950582785"
      ]
     },
     "execution_count": 61,
     "metadata": {},
     "output_type": "execute_result"
    }
   ],
   "source": [
    "np.linalg.norm(\n",
    "    Y - np.sqrt(L_1) * np.matmul(z_1.reshape(N, 1), c_1.reshape(1, 3)), ord=\"fro\"\n",
    ") ** 2"
   ]
  },
  {
   "cell_type": "code",
   "execution_count": 62,
   "id": "59aef47f-fbaa-4845-add9-79c45865eab7",
   "metadata": {},
   "outputs": [
    {
     "data": {
      "text/plain": [
       "2792.911874695407"
      ]
     },
     "execution_count": 62,
     "metadata": {},
     "output_type": "execute_result"
    }
   ],
   "source": [
    "np.linalg.norm(\n",
    "    Y\n",
    "    - np.sqrt(L_1) * np.matmul(z_1.reshape(N, 1), c_1.reshape(1, 3))\n",
    "    - np.sqrt(L_2) * np.matmul(z_2.reshape(N, 1), c_2.reshape(1, 3)),\n",
    "    ord=\"fro\",\n",
    ") ** 2"
   ]
  },
  {
   "cell_type": "code",
   "execution_count": 64,
   "id": "6df333fa-984b-4369-a420-8ed9709734f7",
   "metadata": {},
   "outputs": [
    {
     "data": {
      "text/plain": [
       "2712.8099357025458"
      ]
     },
     "execution_count": 64,
     "metadata": {},
     "output_type": "execute_result"
    }
   ],
   "source": [
    "np.linalg.norm(\n",
    "    Y\n",
    "    - np.sqrt(L_1) * np.matmul(z_1.reshape(N, 1), c_1.reshape(1, 3))\n",
    "    - np.sqrt(L_2) * np.matmul(z_2.reshape(N, 1), c_2.reshape(1, 3))\n",
    "    - np.sqrt(L_3) * np.matmul(z_3.reshape(N, 1), c_3.reshape(1, 3)),\n",
    "    ord=\"fro\",\n",
    ") ** 2"
   ]
  },
  {
   "cell_type": "code",
   "execution_count": 63,
   "id": "0ecb8c5d-1c34-44d3-bc62-1cd3a77b644a",
   "metadata": {},
   "outputs": [
    {
     "data": {
      "text/plain": [
       "2997.0000000000005"
      ]
     },
     "execution_count": 63,
     "metadata": {},
     "output_type": "execute_result"
    }
   ],
   "source": [
    "np.linalg.norm(Y) ** 2"
   ]
  },
  {
   "cell_type": "code",
   "execution_count": 65,
   "id": "43aa82aa-7b3a-4493-ab54-57106f21e268",
   "metadata": {},
   "outputs": [
    {
     "data": {
      "text/plain": [
       "10.482502570576328"
      ]
     },
     "execution_count": 65,
     "metadata": {},
     "output_type": "execute_result"
    }
   ],
   "source": [
    "np.linalg.norm(\n",
    "    np.sqrt(L_1) * np.matmul(z_1.reshape(N, 1), c_1.reshape(1, 3))\n",
    "    + np.sqrt(L_2) * np.matmul(z_2.reshape(N, 1), c_2.reshape(1, 3))\n",
    "    + np.sqrt(L_3) * np.matmul(z_3.reshape(N, 1), c_3.reshape(1, 3)),\n",
    "    ord=\"fro\",\n",
    ") ** 2"
   ]
  },
  {
   "cell_type": "code",
   "execution_count": null,
   "id": "f4b970b0-7896-4cd4-8a55-0d9490f0b898",
   "metadata": {},
   "outputs": [],
   "source": []
  }
 ],
 "metadata": {
  "kernelspec": {
   "display_name": "Python 3 (ipykernel)",
   "language": "python",
   "name": "python3"
  },
  "language_info": {
   "codemirror_mode": {
    "name": "ipython",
    "version": 3
   },
   "file_extension": ".py",
   "mimetype": "text/x-python",
   "name": "python",
   "nbconvert_exporter": "python",
   "pygments_lexer": "ipython3",
   "version": "3.12.3"
  }
 },
 "nbformat": 4,
 "nbformat_minor": 5
}
