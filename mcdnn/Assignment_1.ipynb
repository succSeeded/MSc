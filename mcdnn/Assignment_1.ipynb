{
  "nbformat": 4,
  "nbformat_minor": 0,
  "metadata": {
    "colab": {
      "provenance": [],
      "authorship_tag": "ABX9TyPujZ2a2f2Cstf+pC9r0Ws4",
      "include_colab_link": true
    },
    "kernelspec": {
      "name": "python3",
      "display_name": "Python 3"
    },
    "language_info": {
      "name": "python"
    }
  },
  "cells": [
    {
      "cell_type": "markdown",
      "metadata": {
        "id": "view-in-github",
        "colab_type": "text"
      },
      "source": [
        "<a href=\"https://colab.research.google.com/github/succSeeded/MSc/blob/main/mcdnn/Assignment_1.ipynb\" target=\"_parent\"><img src=\"https://colab.research.google.com/assets/colab-badge.svg\" alt=\"Open In Colab\"/></a>"
      ]
    },
    {
      "cell_type": "markdown",
      "source": [
        "Notebook made by: **Kirdin Matvei**, e-mail: `mdkirdin@student.hse.ru`"
      ],
      "metadata": {
        "id": "85TMTuHr7Vst"
      }
    },
    {
      "cell_type": "code",
      "source": [],
      "metadata": {
        "id": "fhwVroVG81wl"
      },
      "execution_count": null,
      "outputs": []
    }
  ]
}