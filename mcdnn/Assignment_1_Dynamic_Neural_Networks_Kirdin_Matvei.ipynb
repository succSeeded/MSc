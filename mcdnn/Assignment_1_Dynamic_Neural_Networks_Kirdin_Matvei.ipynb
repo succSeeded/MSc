{
 "cells": [
  {
   "cell_type": "markdown",
   "metadata": {
    "id": "85TMTuHr7Vst"
   },
   "source": [
    "Notebook made by: **Kirdin Matvei**, \n",
    "\n",
    "e-mail: mdkirdin@student.hse.ru"
   ]
  },
  {
   "cell_type": "code",
   "execution_count": 1,
   "metadata": {},
   "outputs": [],
   "source": [
    "import collections\n",
    "import random\n",
    "import re\n",
    "import string\n",
    "import time\n",
    "import math\n",
    "\n",
    "import nltk\n",
    "import numpy as np\n",
    "import pandas as pd\n",
    "import seaborn as sns\n",
    "import matplotlib.pyplot as plt\n",
    "import torch\n",
    "import torch.optim as optim\n",
    "from torch import nn\n",
    "from torch.utils.data import DataLoader, TensorDataset\n",
    "from torchvision import datasets\n",
    "from torchvision.transforms import ToTensor\n",
    "from torchvision.datasets import FashionMNIST\n",
    "from torchsummary import summary\n",
    "from nltk.corpus import stopwords\n",
    "from nltk.stem.wordnet import WordNetLemmatizer\n",
    "from nltk.tokenize import word_tokenize\n",
    "from sklearn import datasets\n",
    "from sklearn.model_selection import train_test_split\n",
    "from tqdm.notebook import tqdm\n",
    "\n",
    "tqdm.pandas()"
   ]
  },
  {
   "cell_type": "markdown",
   "metadata": {},
   "source": [
    "Fix the random generator for the purpose of reproducability."
   ]
  },
  {
   "cell_type": "code",
   "execution_count": 6,
   "metadata": {},
   "outputs": [
    {
     "data": {
      "text/plain": [
       "<torch._C.Generator at 0x2453199b030>"
      ]
     },
     "execution_count": 6,
     "metadata": {},
     "output_type": "execute_result"
    }
   ],
   "source": [
    "random_seed = 12\n",
    "np.random.seed(random_seed)\n",
    "random.seed(random_seed)\n",
    "torch.manual_seed(random_seed)"
   ]
  },
  {
   "cell_type": "code",
   "execution_count": 3,
   "metadata": {},
   "outputs": [
    {
     "name": "stdout",
     "output_type": "stream",
     "text": [
      "Using cpu device\n"
     ]
    }
   ],
   "source": [
    "device = \"cuda\" if torch.cuda.is_available() else \"cpu\"\n",
    "\n",
    "print(f\"Using {device} device\")"
   ]
  },
  {
   "cell_type": "markdown",
   "metadata": {
    "id": "4wmKzwzP9jcn"
   },
   "source": [
    "# Question 1.\n",
    "\n",
    "**Build and Train a Simple Neural Network.**\n",
    "\n",
    "* Create a basic neural network from scratch using Python and a library of your choice (e.g., TensorFlow, PyTorch, or Keras).\n",
    "* Explain the importance of layers, activation functions, and a training loop for backpropagation and Gradient descent.\n",
    "* Document your code, explain each layer's purpose, and discuss the network's performance. You can use any dataset for explaining."
   ]
  },
  {
   "cell_type": "markdown",
   "metadata": {},
   "source": [
    "In this example I will use the ```Fashion MNIST``` dataset, as it is readily available and comes with PyTorch. It contains 28x28 images of clothing, which are to be classified into 10 categories: \n",
    "* T-shirt/top $-$ 0,\n",
    "* Trouser $-$ 1,\n",
    "* Pullover $-$ 2,\n",
    "* Dress $-$ 3,\n",
    "* Coat $-$ 4,\n",
    "* Sandal $-$ 5,\n",
    "* Shirt $-$ 6,\n",
    "* Sneaker $-$ 7,\n",
    "* Bag $-$ 8,\n",
    "* Ankle boot $-$ 9."
   ]
  },
  {
   "cell_type": "code",
   "execution_count": 7,
   "metadata": {},
   "outputs": [],
   "source": [
    "training_data = FashionMNIST(\n",
    "    root=\"data\",\n",
    "    train=True,\n",
    "    download=True,\n",
    "    transform=ToTensor(),\n",
    ")\n",
    "\n",
    "test_data = FashionMNIST(\n",
    "    root=\"data\",\n",
    "    train=False,\n",
    "    download=True,\n",
    "    transform=ToTensor(),\n",
    ")"
   ]
  },
  {
   "cell_type": "markdown",
   "metadata": {},
   "source": [
    "Create data loaders and slice data up into batches of 64 instances on which the gradient is to be computed."
   ]
  },
  {
   "cell_type": "code",
   "execution_count": 8,
   "metadata": {},
   "outputs": [
    {
     "name": "stdout",
     "output_type": "stream",
     "text": [
      "Shape of X [N, C, H, W]: torch.Size([1024, 1, 28, 28])\n",
      "Shape of y: torch.Size([1024]) torch.int64\n",
      "Number of train batches: 469\n",
      "Number of test batches: 10\n"
     ]
    }
   ],
   "source": [
    "train_batch_size = 128\n",
    "test_batch_size = 1024\n",
    "\n",
    "train_dataloader = DataLoader(training_data, batch_size=train_batch_size)\n",
    "test_dataloader = DataLoader(test_data, batch_size=test_batch_size)\n",
    "\n",
    "for X, y in test_dataloader:\n",
    "    print(f\"Shape of X [N, C, H, W]: {X.shape}\")\n",
    "    print(f\"Shape of y: {y.shape} {y.dtype}\")\n",
    "    print(f\"Number of train batches: {len(train_dataloader)}\")\n",
    "    print(f\"Number of test batches: {len(test_dataloader)}\")\n",
    "    break"
   ]
  },
  {
   "cell_type": "markdown",
   "metadata": {},
   "source": [
    "In this example I decided to use ReLU activation function to prevent the issue of vanishing gradients during the backpropogation. This network consists of 3 layers:\n",
    "\n",
    "* Pooling layer, that downsizes the data to be 512-dimensional.\n",
    "* Dense (fully connected) layer.\n",
    "* Output layer."
   ]
  },
  {
   "cell_type": "code",
   "execution_count": 9,
   "metadata": {},
   "outputs": [],
   "source": [
    "class NeuralNetwork(nn.Module):\n",
    "    def __init__(self):\n",
    "        super().__init__()\n",
    "\n",
    "        # Transform 28*28 images into flat 1*784 arrays\n",
    "        self.flatten = nn.Flatten()\n",
    "\n",
    "        self.linear_relu_stack = nn.Sequential(\n",
    "            nn.Linear(28 * 28, 512),\n",
    "            nn.ReLU(),\n",
    "            nn.Linear(512, 512),\n",
    "            nn.ReLU(),\n",
    "            nn.Linear(512, 10),\n",
    "        )\n",
    "\n",
    "    def forward(self, x):\n",
    "        x = self.flatten(x)\n",
    "        logits = self.linear_relu_stack(x)\n",
    "        return logits"
   ]
  },
  {
   "cell_type": "markdown",
   "metadata": {},
   "source": [
    "Let's create the network object and display its overall structure:"
   ]
  },
  {
   "cell_type": "code",
   "execution_count": 10,
   "metadata": {},
   "outputs": [
    {
     "name": "stdout",
     "output_type": "stream",
     "text": [
      "----------------------------------------------------------------\n",
      "        Layer (type)               Output Shape         Param #\n",
      "================================================================\n",
      "           Flatten-1                  [-1, 784]               0\n",
      "            Linear-2                  [-1, 512]         401,920\n",
      "              ReLU-3                  [-1, 512]               0\n",
      "            Linear-4                  [-1, 512]         262,656\n",
      "              ReLU-5                  [-1, 512]               0\n",
      "            Linear-6                   [-1, 10]           5,130\n",
      "================================================================\n",
      "Total params: 669,706\n",
      "Trainable params: 669,706\n",
      "Non-trainable params: 0\n",
      "----------------------------------------------------------------\n",
      "Input size (MB): 0.00\n",
      "Forward/backward pass size (MB): 0.02\n",
      "Params size (MB): 2.55\n",
      "Estimated Total Size (MB): 2.58\n",
      "----------------------------------------------------------------\n"
     ]
    }
   ],
   "source": [
    "model = NeuralNetwork()\n",
    "summary(model, (1, 28, 28))"
   ]
  },
  {
   "cell_type": "markdown",
   "metadata": {},
   "source": [
    "Here we use cross-entropy loss function and do the backpropogation with stochastic gradient descend."
   ]
  },
  {
   "cell_type": "code",
   "execution_count": 11,
   "metadata": {},
   "outputs": [],
   "source": [
    "loss_fn = nn.CrossEntropyLoss()\n",
    "optimizer = optim.SGD(model.parameters(), lr=1e-3)"
   ]
  },
  {
   "cell_type": "code",
   "execution_count": 12,
   "metadata": {},
   "outputs": [],
   "source": [
    "def train(dataloader, model, loss_fn, optimizer):\n",
    "    size = len(dataloader.dataset)\n",
    "    model.train()\n",
    "    for batch, (X, y) in enumerate(dataloader):\n",
    "\n",
    "        # Compute prediction error\n",
    "        pred = model(X)\n",
    "        loss = loss_fn(pred, y)\n",
    "\n",
    "        # Backpropagation\n",
    "        loss.backward()\n",
    "        optimizer.step()\n",
    "        optimizer.zero_grad()\n",
    "\n",
    "        if batch % 100 == 0:\n",
    "            loss, current = loss.item(), (batch + 1) * len(X)\n",
    "            print(f\"loss: {loss:>7f}  [{current:>5d}/{size:>5d}]\")"
   ]
  },
  {
   "cell_type": "code",
   "execution_count": 13,
   "metadata": {},
   "outputs": [],
   "source": [
    "def test(dataloader, model, loss_fn):\n",
    "    size = len(dataloader.dataset)\n",
    "    num_batches = len(dataloader)\n",
    "    model.eval()\n",
    "    test_loss, correct = 0, 0\n",
    "    with torch.no_grad():\n",
    "        for X, y in dataloader:\n",
    "            pred = model(X)\n",
    "            test_loss += loss_fn(pred, y).item()\n",
    "            correct += (pred.argmax(1) == y).type(torch.float).sum().item()\n",
    "    test_loss /= num_batches\n",
    "    correct /= size\n",
    "    print(\n",
    "        f\"Test Error:\\n  Accuracy: {(100*correct):>0.1f}%, Avg loss: {test_loss:>8f} \\n\"\n",
    "    )\n",
    "    return correct"
   ]
  },
  {
   "cell_type": "code",
   "execution_count": 14,
   "metadata": {},
   "outputs": [
    {
     "name": "stdout",
     "output_type": "stream",
     "text": [
      "Epoch 1\n",
      "-------------------------------\n",
      "loss: 2.304436  [  128/60000]\n",
      "loss: 2.288648  [12928/60000]\n",
      "loss: 2.270493  [25728/60000]\n",
      "loss: 2.255106  [38528/60000]\n",
      "loss: 2.244851  [51328/60000]\n",
      "Test Error:\n",
      "  Accuracy: 36.5%, Avg loss: 2.231294 \n",
      "\n",
      "Epoch 2\n",
      "-------------------------------\n",
      "loss: 2.236107  [  128/60000]\n",
      "loss: 2.212313  [12928/60000]\n",
      "loss: 2.196492  [25728/60000]\n",
      "loss: 2.182191  [38528/60000]\n",
      "loss: 2.166003  [51328/60000]\n",
      "Test Error:\n",
      "  Accuracy: 47.1%, Avg loss: 2.148890 \n",
      "\n",
      "Epoch 3\n",
      "-------------------------------\n",
      "loss: 2.154203  [  128/60000]\n",
      "loss: 2.118073  [12928/60000]\n",
      "loss: 2.098394  [25728/60000]\n",
      "loss: 2.078293  [38528/60000]\n",
      "loss: 2.054468  [51328/60000]\n",
      "Test Error:\n",
      "  Accuracy: 53.4%, Avg loss: 2.029860 \n",
      "\n",
      "Epoch 4\n",
      "-------------------------------\n",
      "loss: 2.032896  [  128/60000]\n",
      "loss: 1.980168  [12928/60000]\n",
      "loss: 1.955227  [25728/60000]\n",
      "loss: 1.923157  [38528/60000]\n",
      "loss: 1.895604  [51328/60000]\n",
      "Test Error:\n",
      "  Accuracy: 55.2%, Avg loss: 1.862541 \n",
      "\n",
      "Epoch 5\n",
      "-------------------------------\n",
      "loss: 1.859460  [  128/60000]\n",
      "loss: 1.794364  [12928/60000]\n",
      "loss: 1.767984  [25728/60000]\n",
      "loss: 1.725912  [38528/60000]\n",
      "loss: 1.707660  [51328/60000]\n",
      "Test Error:\n",
      "  Accuracy: 57.7%, Avg loss: 1.670231 \n",
      "\n",
      "Done!\n"
     ]
    }
   ],
   "source": [
    "epochs = 5\n",
    "test_acc1 = []\n",
    "for t in range(epochs):\n",
    "    print(f\"Epoch {t+1}\\n-------------------------------\")\n",
    "    train(train_dataloader, model, loss_fn, optimizer)\n",
    "    test_acc1 += [test(test_dataloader, model, loss_fn)]\n",
    "print(\"Done!\")"
   ]
  },
  {
   "cell_type": "markdown",
   "metadata": {},
   "source": [
    "# Question 2.\n",
    "\n",
    "**Implement Dynamic Routing in a Capsule Network.**\n",
    "\n",
    "* Design a small capsule network with dynamic routing to classify images from the CIFAR-10 or MNIST dataset.\n",
    "* Implement dynamic routing between the primary and digit capsules.\n",
    "* Explain the difference in performance when using dynamic routing versus traditional layers.\n",
    "\n",
    "For this task, I will use ```FashionMNIST``` dataset as well."
   ]
  },
  {
   "cell_type": "markdown",
   "metadata": {},
   "source": [
    "Let's define the squash function, which will be used in dynamic routing instead of ReLU"
   ]
  },
  {
   "cell_type": "code",
   "execution_count": 12,
   "metadata": {},
   "outputs": [],
   "source": [
    "def squash(s):\n",
    "    lengths2 = s.pow(2).sum(dim=2)\n",
    "    lengths = lengths2.sqrt()\n",
    "    s = s * (lengths2 / (1 + lengths2**2) / lengths).view(s.size(0), s.size(1), 1)\n",
    "    return s"
   ]
  },
  {
   "cell_type": "markdown",
   "metadata": {},
   "source": [
    "Then, we can define the dynamic algorythm itself. It takes in the number of capsules in previous layer and in current layer, as well as the number of iterations of routing process. Coefficients b_ij are initialized as zeroes. "
   ]
  },
  {
   "cell_type": "code",
   "execution_count": 13,
   "metadata": {},
   "outputs": [],
   "source": [
    "class Routing(nn.Module):\n",
    "    def __init__(self, input_caps, output_caps, n_iterations):\n",
    "        super(Routing, self).__init__()\n",
    "        self.n_iterations = n_iterations\n",
    "        self.b = nn.Parameter(torch.zeros((input_caps, output_caps)))\n",
    "\n",
    "    def forward(self, u_predict):\n",
    "        batch_size, input_caps, output_caps, output_dim = u_predict.size()\n",
    "\n",
    "        c = nn.functional.softmax(self.b, dim=1)\n",
    "        s = (c.unsqueeze(2) * u_predict).sum(dim=1)\n",
    "        v = squash(s)\n",
    "\n",
    "        if self.n_iterations > 0:\n",
    "            b_batch = self.b.expand((batch_size, input_caps, output_caps))\n",
    "            for r in range(self.n_iterations):\n",
    "                v = v.unsqueeze(1)\n",
    "                b_batch = b_batch + (u_predict * v).sum(-1)\n",
    "\n",
    "                c = nn.functional.softmax(b_batch.view(-1, output_caps), 1).view(\n",
    "                    -1, input_caps, output_caps, 1\n",
    "                )\n",
    "                s = (c * u_predict).sum(dim=1)\n",
    "                v = squash(s)\n",
    "\n",
    "        return v"
   ]
  },
  {
   "cell_type": "markdown",
   "metadata": {},
   "source": [
    "Here, we define primary and digit capsule layers. All layers containing capsules(except for the first one) will be of digit layers. We randomly initialize weights for each capsule in digit layer, and do all the neccessary calculations on their output."
   ]
  },
  {
   "cell_type": "code",
   "execution_count": 14,
   "metadata": {},
   "outputs": [],
   "source": [
    "class PrimaryCapsLayer(nn.Module):\n",
    "    def __init__(self, input_channels, output_caps, output_dim, kernel_size, stride):\n",
    "        super(PrimaryCapsLayer, self).__init__()\n",
    "        self.conv = nn.Conv2d(\n",
    "            input_channels,\n",
    "            output_caps * output_dim,\n",
    "            kernel_size=kernel_size,\n",
    "            stride=stride,\n",
    "        )\n",
    "        self.input_channels = input_channels\n",
    "        self.output_caps = output_caps\n",
    "        self.output_dim = output_dim\n",
    "\n",
    "    def forward(self, input):\n",
    "        out = self.conv(input)\n",
    "        N, C, H, W = out.size()\n",
    "        out = out.view(N, self.output_caps, self.output_dim, H, W)\n",
    "\n",
    "        # will output N x OUT_CAPS x OUT_DIM\n",
    "        out = out.permute(0, 1, 3, 4, 2).contiguous()\n",
    "        out = out.view(out.size(0), -1, out.size(4))\n",
    "        out = squash(out)\n",
    "        return out"
   ]
  },
  {
   "cell_type": "code",
   "execution_count": 15,
   "metadata": {},
   "outputs": [],
   "source": [
    "class DigitCapsLayer(nn.Module):\n",
    "    def __init__(self, input_caps, input_dim, output_caps, output_dim, routing_module):\n",
    "        super(DigitCapsLayer, self).__init__()\n",
    "        self.input_dim = input_dim\n",
    "        self.input_caps = input_caps\n",
    "        self.output_dim = output_dim\n",
    "        self.output_caps = output_caps\n",
    "        self.weights = nn.Parameter(\n",
    "            torch.Tensor(input_caps, input_dim, output_caps * output_dim)\n",
    "        )\n",
    "        self.routing_module = routing_module\n",
    "        self.reset_parameters()\n",
    "\n",
    "    def reset_parameters(self):\n",
    "        stdv = 1.0 / math.sqrt(self.input_caps)\n",
    "        self.weights.data.uniform_(-stdv, stdv)\n",
    "\n",
    "    def forward(self, caps_output):\n",
    "        caps_output = caps_output.unsqueeze(2)\n",
    "        u_predict = caps_output.matmul(self.weights)\n",
    "        u_predict = u_predict.view(\n",
    "            u_predict.size(0), self.input_caps, self.output_caps, self.output_dim\n",
    "        )\n",
    "        v = self.routing_module(u_predict)\n",
    "        return v"
   ]
  },
  {
   "cell_type": "markdown",
   "metadata": {},
   "source": [
    "The CNN itself consists of a convolutional and pooling layers to cut down on calculational costs and capsule layers after that."
   ]
  },
  {
   "cell_type": "code",
   "execution_count": 16,
   "metadata": {},
   "outputs": [],
   "source": [
    "class CapsuleNetwork(nn.Module):\n",
    "    def __init__(self, routing_iterations, n_classes=10):\n",
    "        super(CapsuleNetwork, self).__init__()\n",
    "        self.num_primaryCaps = 32 * 6 * 6\n",
    "        routing_module = Routing(self.num_primaryCaps, n_classes, routing_iterations)\n",
    "        self.CNN_stack = nn.Sequential(\n",
    "            nn.Conv2d(1, 256, kernel_size=3, stride=1),\n",
    "            nn.ReLU(),\n",
    "            nn.MaxPool2d((2, 2)),\n",
    "            PrimaryCapsLayer(256, 32, 8, kernel_size=3, stride=2),  # outputs 6*6\n",
    "            DigitCapsLayer(self.num_primaryCaps, 8, n_classes, 16, routing_module),\n",
    "        )\n",
    "\n",
    "    def forward(self, x):\n",
    "        x = self.CNN_stack(x)\n",
    "        probs = x.pow(2).sum(dim=2).sqrt()\n",
    "        return x, probs"
   ]
  },
  {
   "cell_type": "code",
   "execution_count": 17,
   "metadata": {},
   "outputs": [],
   "source": [
    "model = CapsuleNetwork(3)"
   ]
  },
  {
   "cell_type": "code",
   "execution_count": 18,
   "metadata": {},
   "outputs": [
    {
     "name": "stdout",
     "output_type": "stream",
     "text": [
      "----------------------------------------------------------------\n",
      "        Layer (type)               Output Shape         Param #\n",
      "================================================================\n",
      "            Conv2d-1          [-1, 256, 26, 26]           2,560\n",
      "              ReLU-2          [-1, 256, 26, 26]               0\n",
      "         MaxPool2d-3          [-1, 256, 13, 13]               0\n",
      "            Conv2d-4            [-1, 256, 6, 6]         590,080\n",
      "  PrimaryCapsLayer-5              [-1, 1152, 8]               0\n",
      "           Routing-6               [-1, 10, 16]               0\n",
      "    DigitCapsLayer-7               [-1, 10, 16]               0\n",
      "================================================================\n",
      "Total params: 592,640\n",
      "Trainable params: 592,640\n",
      "Non-trainable params: 0\n",
      "----------------------------------------------------------------\n",
      "Input size (MB): 0.00\n",
      "Forward/backward pass size (MB): 3.11\n",
      "Params size (MB): 2.26\n",
      "Estimated Total Size (MB): 5.38\n",
      "----------------------------------------------------------------\n"
     ]
    }
   ],
   "source": [
    "summary(model, (1, 28, 28))"
   ]
  },
  {
   "cell_type": "markdown",
   "metadata": {},
   "source": [
    "Let's define loss for this model as it was defined in the original paper."
   ]
  },
  {
   "cell_type": "code",
   "execution_count": 19,
   "metadata": {},
   "outputs": [],
   "source": [
    "class MarginLoss(nn.Module):\n",
    "    def __init__(self, m_pos, m_neg, lambda_):\n",
    "        super(MarginLoss, self).__init__()\n",
    "        self.m_pos = m_pos\n",
    "        self.m_neg = m_neg\n",
    "        self.lambda_ = lambda_\n",
    "\n",
    "    def forward(self, lengths, targets):\n",
    "        t = torch.zeros(lengths.size()).long()\n",
    "        t = t.scatter_(1, targets.data.view(-1, 1), 1)\n",
    "        targets = torch.autograd.Variable(t)\n",
    "        losses = targets.float() * nn.functional.relu(self.m_pos - lengths).pow(\n",
    "            2\n",
    "        ) + self.lambda_ * (1.0 - targets.float()) * nn.functional.relu(\n",
    "            lengths - self.m_neg\n",
    "        ).pow(\n",
    "            2\n",
    "        )\n",
    "        return losses.sum()"
   ]
  },
  {
   "cell_type": "code",
   "execution_count": 20,
   "metadata": {},
   "outputs": [],
   "source": [
    "loss_fn = MarginLoss(0.9, 0.1, 0.5)\n",
    "optimizer = optim.Adam(model.parameters(), lr=1e-6)"
   ]
  },
  {
   "cell_type": "code",
   "execution_count": 21,
   "metadata": {},
   "outputs": [],
   "source": [
    "def train(dataloader, model, loss_fn, optimizer):\n",
    "    size = len(dataloader.dataset)\n",
    "    model.train()\n",
    "    for batch, (X, y) in enumerate(dataloader):\n",
    "\n",
    "        X, y = torch.autograd.Variable(X), torch.autograd.Variable(\n",
    "            y, requires_grad=False\n",
    "        )\n",
    "        optimizer.zero_grad()\n",
    "\n",
    "        # Compute prediction error\n",
    "        output, probs = model(X)\n",
    "        loss = loss_fn(probs, y)\n",
    "\n",
    "        # Backpropagation\n",
    "        loss.backward()\n",
    "        optimizer.step()\n",
    "\n",
    "        if batch % 100 == 0:\n",
    "            loss, current = loss.data, (batch + 1) * len(X)\n",
    "            print(f\"loss: {loss:>7f}  [{current:>5d}/{size:>5d}]\")"
   ]
  },
  {
   "cell_type": "code",
   "execution_count": 22,
   "metadata": {},
   "outputs": [],
   "source": [
    "def test(dataloader, model, loss_fn):\n",
    "    size = len(dataloader.dataset)\n",
    "    num_batches = len(dataloader)\n",
    "    model.eval()\n",
    "    test_loss, correct = 0, 0\n",
    "    with torch.no_grad():\n",
    "        for X, y in dataloader:\n",
    "            X, y = torch.autograd.Variable(X), torch.autograd.Variable(y)\n",
    "            output, probs = model(X)\n",
    "            test_loss += loss_fn(probs, y)\n",
    "            correct += (probs.argmax(1) == y).type(torch.float).sum().item()\n",
    "    test_loss /= num_batches\n",
    "    correct /= size\n",
    "    print(\n",
    "        f\"\\nTesting:\\n  Accuracy: {100.0 * correct:>0.1f}%, Avg loss: {test_loss:>4f}\\n\"\n",
    "    )\n",
    "    return correct"
   ]
  },
  {
   "cell_type": "code",
   "execution_count": 23,
   "metadata": {},
   "outputs": [
    {
     "name": "stdout",
     "output_type": "stream",
     "text": [
      "Epoch 1\n",
      "-------------------------------\n",
      "loss: 103.111916  [  128/60000]\n",
      "loss: 28.666084  [12928/60000]\n",
      "loss: 27.120028  [25728/60000]\n",
      "loss: 26.818317  [38528/60000]\n",
      "loss: 27.644203  [51328/60000]\n",
      "\n",
      "Testing:\n",
      "  Accuracy: 87.5%, Avg loss: 214.574127\n",
      "\n",
      "Epoch 2\n",
      "-------------------------------\n",
      "loss: 25.551641  [  128/60000]\n",
      "loss: 25.506222  [12928/60000]\n",
      "loss: 25.551483  [25728/60000]\n",
      "loss: 24.966291  [38528/60000]\n",
      "loss: 26.088415  [51328/60000]\n",
      "\n",
      "Testing:\n",
      "  Accuracy: 89.7%, Avg loss: 210.610474\n",
      "\n",
      "Epoch 3\n",
      "-------------------------------\n",
      "loss: 25.054024  [  128/60000]\n",
      "loss: 24.486589  [12928/60000]\n",
      "loss: 24.991865  [25728/60000]\n",
      "loss: 24.465712  [38528/60000]\n",
      "loss: 25.133774  [51328/60000]\n",
      "\n",
      "Testing:\n",
      "  Accuracy: 90.3%, Avg loss: 206.851883\n",
      "\n",
      "Epoch 4\n",
      "-------------------------------\n",
      "loss: 24.518568  [  128/60000]\n",
      "loss: 23.979134  [12928/60000]\n",
      "loss: 24.666954  [25728/60000]\n",
      "loss: 23.998575  [38528/60000]\n",
      "loss: 24.325760  [51328/60000]\n",
      "\n",
      "Testing:\n",
      "  Accuracy: 90.9%, Avg loss: 204.323059\n",
      "\n",
      "Epoch 5\n",
      "-------------------------------\n",
      "loss: 23.822235  [  128/60000]\n",
      "loss: 23.481947  [12928/60000]\n",
      "loss: 24.376900  [25728/60000]\n",
      "loss: 23.661760  [38528/60000]\n",
      "loss: 23.888821  [51328/60000]\n",
      "\n",
      "Testing:\n",
      "  Accuracy: 91.1%, Avg loss: 203.861649\n",
      "\n",
      "Done!\n"
     ]
    }
   ],
   "source": [
    "epochs = 5\n",
    "test_acc2 = []\n",
    "for t in range(epochs):\n",
    "    print(f\"Epoch {t+1}\\n-------------------------------\")\n",
    "    train(train_dataloader, model, loss_fn, optimizer)\n",
    "    test_acc2 += [test(test_dataloader, model, loss_fn)]\n",
    "print(\"Done!\")"
   ]
  },
  {
   "cell_type": "markdown",
   "metadata": {},
   "source": [
    "Let's compare performances of a regular neural network and CNN in terms of accuracy achieved in testing."
   ]
  },
  {
   "cell_type": "code",
   "execution_count": 24,
   "metadata": {},
   "outputs": [
    {
     "data": {
      "image/png": "[encoded data removed]",
      "text/plain": [
       "<Figure size 640x480 with 1 Axes>"
      ]
     },
     "metadata": {},
     "output_type": "display_data"
    }
   ],
   "source": [
    "plt.subplot()\n",
    "plt.xlabel(\"Epoch\")\n",
    "plt.ylabel(\"Accuracy\")\n",
    "X = np.arange(1, 6)\n",
    "plt.xticks(X)\n",
    "plt.plot(X, np.array(test_acc1).T, c=\"blue\", label=\"Regular NN\")\n",
    "plt.scatter(X, np.array(test_acc1).T, c=\"blue\")\n",
    "plt.plot(X, np.array(test_acc2).T, c=\"orange\", label=\"CNN\")\n",
    "plt.scatter(X, np.array(test_acc2).T, c=\"orange\")\n",
    "plt.legend()\n",
    "plt.grid()\n",
    "plt.show()"
   ]
  },
  {
   "cell_type": "markdown",
   "metadata": {},
   "source": [
    "# Question 4.\n",
    "\n",
    "**RNN, LSTM, and GRU Comparison for Sequential Data.**\n",
    "\n",
    "* Create three models: an RNN, an LSTM, and a GRU using a sequential dataset (e.g., a text dataset like IMDB for sentiment analysis or **any time series data**).\n",
    "* Train each model and evaluate its performance in terms of accuracy, training time, and ability to handle long sequences.\n",
    "* Provide a comparison report with plots showing each model's loss and accuracy over time."
   ]
  },
  {
   "cell_type": "code",
   "execution_count": 1,
   "metadata": {
    "ExecuteTime": {
     "end_time": "2024-11-02T20:46:47.578285Z",
     "start_time": "2024-11-02T20:46:47.574475Z"
    },
    "colab": {
     "base_uri": "https://localhost:8080/"
    },
    "id": "sEHTOvDyxYED",
    "outputId": "e39ab5e9-1a5b-48b8-85a8-27e863432cfb"
   },
   "outputs": [
    {
     "name": "stderr",
     "output_type": "stream",
     "text": [
      "'wget' is not recognized as an internal or external command,\n",
      "operable program or batch file.\n",
      "'unzip' is not recognized as an internal or external command,\n",
      "operable program or batch file.\n"
     ]
    }
   ],
   "source": [
    "# Download the dataset\n",
    "\n",
    "# !wget -O imdb.zip https://www.kaggle.com/api/v1/datasets/download/lakshmi25npathi/imdb-dataset-of-50k-movie-reviews\n",
    "\n",
    "# !unzip imdb.zip"
   ]
  },
  {
   "cell_type": "code",
   "execution_count": 26,
   "metadata": {
    "ExecuteTime": {
     "end_time": "2024-11-02T20:46:48.067053Z",
     "start_time": "2024-11-02T20:46:47.873311Z"
    },
    "colab": {
     "base_uri": "https://localhost:8080/"
    },
    "id": "TM1Wy6Zx2QBg",
    "outputId": "9ea15760-cad9-42f0-dce9-17de6f43a598"
   },
   "outputs": [
    {
     "name": "stderr",
     "output_type": "stream",
     "text": [
      "[nltk_data] Downloading package stopwords to\n",
      "[nltk_data]     C:\\Users\\anaki\\AppData\\Roaming\\nltk_data...\n",
      "[nltk_data]   Package stopwords is already up-to-date!\n",
      "[nltk_data] Downloading package wordnet to\n",
      "[nltk_data]     C:\\Users\\anaki\\AppData\\Roaming\\nltk_data...\n",
      "[nltk_data]   Package wordnet is already up-to-date!\n",
      "[nltk_data] Downloading package punkt to\n",
      "[nltk_data]     C:\\Users\\anaki\\AppData\\Roaming\\nltk_data...\n",
      "[nltk_data]   Package punkt is already up-to-date!\n",
      "[nltk_data] Downloading package punkt_tab to\n",
      "[nltk_data]     C:\\Users\\anaki\\AppData\\Roaming\\nltk_data...\n",
      "[nltk_data]   Package punkt_tab is already up-to-date!\n"
     ]
    },
    {
     "data": {
      "text/plain": [
       "True"
      ]
     },
     "execution_count": 26,
     "metadata": {},
     "output_type": "execute_result"
    }
   ],
   "source": [
    "# Downloading packages for nltk - a natural language processing library we'll use for tokenization and lemmatization\n",
    "\n",
    "nltk.download('stopwords')\n",
    "nltk.download('wordnet')\n",
    "nltk.download('punkt')\n",
    "nltk.download('punkt_tab')"
   ]
  },
  {
   "cell_type": "code",
   "execution_count": 4,
   "metadata": {
    "ExecuteTime": {
     "end_time": "2024-11-02T20:46:48.472438Z",
     "start_time": "2024-11-02T20:46:48.084691Z"
    },
    "colab": {
     "base_uri": "https://localhost:8080/",
     "height": 206
    },
    "id": "SoSCLqW_yPDm",
    "outputId": "a77ed201-a8a6-4d1d-896d-0339f4169858"
   },
   "outputs": [
    {
     "data": {
      "text/html": [
       "<div>\n",
       "<style scoped>\n",
       "    .dataframe tbody tr th:only-of-type {\n",
       "        vertical-align: middle;\n",
       "    }\n",
       "\n",
       "    .dataframe tbody tr th {\n",
       "        vertical-align: top;\n",
       "    }\n",
       "\n",
       "    .dataframe thead th {\n",
       "        text-align: right;\n",
       "    }\n",
       "</style>\n",
       "<table border=\"1\" class=\"dataframe\">\n",
       "  <thead>\n",
       "    <tr style=\"text-align: right;\">\n",
       "      <th></th>\n",
       "      <th>review</th>\n",
       "      <th>sentiment</th>\n",
       "    </tr>\n",
       "  </thead>\n",
       "  <tbody>\n",
       "    <tr>\n",
       "      <th>0</th>\n",
       "      <td>One of the other reviewers has mentioned that ...</td>\n",
       "      <td>positive</td>\n",
       "    </tr>\n",
       "    <tr>\n",
       "      <th>1</th>\n",
       "      <td>A wonderful little production. &lt;br /&gt;&lt;br /&gt;The...</td>\n",
       "      <td>positive</td>\n",
       "    </tr>\n",
       "    <tr>\n",
       "      <th>2</th>\n",
       "      <td>I thought this was a wonderful way to spend ti...</td>\n",
       "      <td>positive</td>\n",
       "    </tr>\n",
       "    <tr>\n",
       "      <th>3</th>\n",
       "      <td>Basically there's a family where a little boy ...</td>\n",
       "      <td>negative</td>\n",
       "    </tr>\n",
       "    <tr>\n",
       "      <th>4</th>\n",
       "      <td>Petter Mattei's \"Love in the Time of Money\" is...</td>\n",
       "      <td>positive</td>\n",
       "    </tr>\n",
       "  </tbody>\n",
       "</table>\n",
       "</div>"
      ],
      "text/plain": [
       "                                              review sentiment\n",
       "0  One of the other reviewers has mentioned that ...  positive\n",
       "1  A wonderful little production. <br /><br />The...  positive\n",
       "2  I thought this was a wonderful way to spend ti...  positive\n",
       "3  Basically there's a family where a little boy ...  negative\n",
       "4  Petter Mattei's \"Love in the Time of Money\" is...  positive"
      ]
     },
     "execution_count": 4,
     "metadata": {},
     "output_type": "execute_result"
    }
   ],
   "source": [
    "# Reading the dataset from the downloaded file\n",
    "df = pd.read_csv('IMDB Dataset.csv')\n",
    "\n",
    "df.head()"
   ]
  },
  {
   "cell_type": "markdown",
   "metadata": {},
   "source": [
    "In the dataset we have two columns:\n",
    "- `review` - movie review texts;\n",
    "- `sentiment` - a review's sentiment - either `positive` or `negative`. This is the target feature we'll try to predict.\n",
    "\n",
    "Let's check the target feature's value distribution."
   ]
  },
  {
   "cell_type": "code",
   "execution_count": 5,
   "metadata": {
    "ExecuteTime": {
     "end_time": "2024-11-02T20:46:48.783326Z",
     "start_time": "2024-11-02T20:46:48.778016Z"
    },
    "colab": {
     "base_uri": "https://localhost:8080/",
     "height": 178
    },
    "id": "WTxpUiI92hic",
    "outputId": "b0772ba2-497b-4508-dc52-8d418dfaf867"
   },
   "outputs": [
    {
     "data": {
      "text/plain": [
       "sentiment\n",
       "positive    25000\n",
       "negative    25000\n",
       "Name: count, dtype: int64"
      ]
     },
     "execution_count": 5,
     "metadata": {},
     "output_type": "execute_result"
    }
   ],
   "source": [
    "df['sentiment'].value_counts()"
   ]
  },
  {
   "cell_type": "markdown",
   "metadata": {},
   "source": [
    "As one can see, the two target classes are of the same size - the data is balanced.\n",
    "\n",
    "Let's do a rough analysis of the lengths of reviews. To do this, we'll 'tokenize' reviews by splitting them by whitespaces."
   ]
  },
  {
   "cell_type": "code",
   "execution_count": 6,
   "metadata": {
    "ExecuteTime": {
     "end_time": "2024-11-02T20:46:50.058921Z",
     "start_time": "2024-11-02T20:46:48.830928Z"
    },
    "id": "YRR38FZ83ihf"
   },
   "outputs": [],
   "source": [
    "df['token_len'] = df['review'].str.split(' ').apply(lambda x: len(x))"
   ]
  },
  {
   "cell_type": "code",
   "execution_count": 7,
   "metadata": {
    "ExecuteTime": {
     "end_time": "2024-11-02T20:46:50.411385Z",
     "start_time": "2024-11-02T20:46:50.111284Z"
    },
    "colab": {
     "base_uri": "https://localhost:8080/",
     "height": 523
    },
    "id": "0q-EOqOE3uc-",
    "outputId": "670a250e-8745-4a4d-b141-189def71009e"
   },
   "outputs": [
    {
     "data": {
      "text/plain": [
       "<seaborn.axisgrid.FacetGrid at 0x2189f14cf80>"
      ]
     },
     "execution_count": 7,
     "metadata": {},
     "output_type": "execute_result"
    },
    {
     "data": {
      "image/png": "[encoded data removed]",
      "text/plain": [
       "<Figure size 500x500 with 1 Axes>"
      ]
     },
     "metadata": {},
     "output_type": "display_data"
    }
   ],
   "source": [
    "sns.displot(data=df, x='token_len')"
   ]
  },
  {
   "cell_type": "markdown",
   "metadata": {},
   "source": [
    "As one can see, most reviews are no more than 500 tokens long."
   ]
  },
  {
   "cell_type": "code",
   "execution_count": 8,
   "metadata": {
    "ExecuteTime": {
     "end_time": "2024-11-02T20:46:50.452808Z",
     "start_time": "2024-11-02T20:46:50.445683Z"
    },
    "colab": {
     "base_uri": "https://localhost:8080/",
     "height": 206
    },
    "id": "ihaMFNG82mVM",
    "outputId": "e55c1407-69b5-455d-ab3a-be908c772e44"
   },
   "outputs": [
    {
     "data": {
      "text/html": [
       "<div>\n",
       "<style scoped>\n",
       "    .dataframe tbody tr th:only-of-type {\n",
       "        vertical-align: middle;\n",
       "    }\n",
       "\n",
       "    .dataframe tbody tr th {\n",
       "        vertical-align: top;\n",
       "    }\n",
       "\n",
       "    .dataframe thead th {\n",
       "        text-align: right;\n",
       "    }\n",
       "</style>\n",
       "<table border=\"1\" class=\"dataframe\">\n",
       "  <thead>\n",
       "    <tr style=\"text-align: right;\">\n",
       "      <th></th>\n",
       "      <th>review</th>\n",
       "      <th>sentiment</th>\n",
       "      <th>token_len</th>\n",
       "    </tr>\n",
       "  </thead>\n",
       "  <tbody>\n",
       "    <tr>\n",
       "      <th>0</th>\n",
       "      <td>One of the other reviewers has mentioned that ...</td>\n",
       "      <td>1</td>\n",
       "      <td>307</td>\n",
       "    </tr>\n",
       "    <tr>\n",
       "      <th>1</th>\n",
       "      <td>A wonderful little production. &lt;br /&gt;&lt;br /&gt;The...</td>\n",
       "      <td>1</td>\n",
       "      <td>162</td>\n",
       "    </tr>\n",
       "    <tr>\n",
       "      <th>2</th>\n",
       "      <td>I thought this was a wonderful way to spend ti...</td>\n",
       "      <td>1</td>\n",
       "      <td>166</td>\n",
       "    </tr>\n",
       "    <tr>\n",
       "      <th>3</th>\n",
       "      <td>Basically there's a family where a little boy ...</td>\n",
       "      <td>0</td>\n",
       "      <td>138</td>\n",
       "    </tr>\n",
       "    <tr>\n",
       "      <th>4</th>\n",
       "      <td>Petter Mattei's \"Love in the Time of Money\" is...</td>\n",
       "      <td>1</td>\n",
       "      <td>230</td>\n",
       "    </tr>\n",
       "  </tbody>\n",
       "</table>\n",
       "</div>"
      ],
      "text/plain": [
       "                                              review  sentiment  token_len\n",
       "0  One of the other reviewers has mentioned that ...          1        307\n",
       "1  A wonderful little production. <br /><br />The...          1        162\n",
       "2  I thought this was a wonderful way to spend ti...          1        166\n",
       "3  Basically there's a family where a little boy ...          0        138\n",
       "4  Petter Mattei's \"Love in the Time of Money\" is...          1        230"
      ]
     },
     "execution_count": 8,
     "metadata": {},
     "output_type": "execute_result"
    }
   ],
   "source": [
    "# Turning sentiment into integers via ordinal binary encoding\n",
    "sentiment_encoding = {'positive': 1, 'negative': 0}\n",
    "df['sentiment'] = df['sentiment'].map(sentiment_encoding)\n",
    "\n",
    "df.head()"
   ]
  },
  {
   "cell_type": "code",
   "execution_count": 9,
   "metadata": {
    "ExecuteTime": {
     "end_time": "2024-11-02T20:46:50.745867Z",
     "start_time": "2024-11-02T20:46:50.742842Z"
    },
    "id": "LvOZtfe8y4h3"
   },
   "outputs": [],
   "source": [
    "# Splitting data into features & target\n",
    "X, y = df['review'], df['sentiment']"
   ]
  },
  {
   "cell_type": "code",
   "execution_count": 10,
   "metadata": {
    "ExecuteTime": {
     "end_time": "2024-11-02T20:46:50.848280Z",
     "start_time": "2024-11-02T20:46:50.787410Z"
    },
    "colab": {
     "base_uri": "https://localhost:8080/",
     "height": 241
    },
    "id": "c8bZS8AlBGCk",
    "outputId": "2194f6a9-08be-44c5-97f4-52f67fec591b"
   },
   "outputs": [
    {
     "data": {
      "text/plain": [
       "0    one of the other reviewers has mentioned that ...\n",
       "1    a wonderful little production. <br /><br />the...\n",
       "2    i thought this was a wonderful way to spend ti...\n",
       "3    basically there's a family where a little boy ...\n",
       "4    petter mattei's \"love in the time of money\" is...\n",
       "Name: review, dtype: object"
      ]
     },
     "execution_count": 10,
     "metadata": {},
     "output_type": "execute_result"
    }
   ],
   "source": [
    "# Converting all letters to lowercase\n",
    "X = X.str.lower()\n",
    "\n",
    "X.head()"
   ]
  },
  {
   "cell_type": "code",
   "execution_count": 11,
   "metadata": {
    "ExecuteTime": {
     "end_time": "2024-11-02T20:46:50.875602Z",
     "start_time": "2024-11-02T20:46:50.872098Z"
    },
    "id": "3qs_Nd3TB4jw"
   },
   "outputs": [],
   "source": [
    "# Removing HTML tags via regex\n",
    "def remove_html_tags(text):\n",
    "    pattern = re.compile('<.*?>')\n",
    "    return pattern.sub('', text)"
   ]
  },
  {
   "cell_type": "code",
   "execution_count": 12,
   "metadata": {
    "ExecuteTime": {
     "end_time": "2024-11-02T20:46:50.931196Z",
     "start_time": "2024-11-02T20:46:50.928166Z"
    },
    "id": "r7aV152oB5TE"
   },
   "outputs": [],
   "source": [
    "# Removing URLs via regex\n",
    "def remove_url(text):\n",
    "    pattern=re.compile(r'https?://\\S+|www\\.\\S+')\n",
    "    return pattern.sub(r'',text)"
   ]
  },
  {
   "cell_type": "code",
   "execution_count": 13,
   "metadata": {
    "ExecuteTime": {
     "end_time": "2024-11-02T20:46:50.996792Z",
     "start_time": "2024-11-02T20:46:50.993334Z"
    },
    "id": "Pq_x-yCFB7Ok"
   },
   "outputs": [],
   "source": [
    "# Removing punctuation using string.punctuation\n",
    "def remove_punc(text):\n",
    "    return text.translate(str.maketrans('','', string.punctuation))"
   ]
  },
  {
   "cell_type": "code",
   "execution_count": 14,
   "metadata": {
    "ExecuteTime": {
     "end_time": "2024-11-02T20:46:51.323452Z",
     "start_time": "2024-11-02T20:46:51.319585Z"
    },
    "id": "jNgKgHSTCtGy"
   },
   "outputs": [],
   "source": [
    "# Removing stop words (commonly used English words with little value)\n",
    "def remove_stopwords(tokens):\n",
    "    return filter(lambda x: x not in stopwords.words('english'), tokens)"
   ]
  },
  {
   "cell_type": "code",
   "execution_count": 15,
   "metadata": {
    "ExecuteTime": {
     "end_time": "2024-11-02T20:46:51.606908Z",
     "start_time": "2024-11-02T20:46:51.603442Z"
    },
    "id": "BaP2iuGhCuc4"
   },
   "outputs": [],
   "source": [
    "# Removing emojis via regex\n",
    "def remove_emoji(text):\n",
    "    emoji_pattern=re.compile(\"[\"\n",
    "                             u\"\\U0001F600-\\U0001F64F\" #emoticons\n",
    "                             u\"\\U0001F300-\\U0001F5FF\" #symbols, pictograph\n",
    "                              u\"\\U0001F680-\\U0001F6FF\" #transport and map symbol\n",
    "                              u\"\\U0001F1E0-\\U0001F1FF\" # flags(IOS)\n",
    "                              u\"\\U00002702-\\U000027B0\"\n",
    "                              u\"\\U00002FC2-\\U0001F251\"\n",
    "                             \"]+\",flags=re.UNICODE)\n",
    "    return emoji_pattern.sub(r'',text)"
   ]
  },
  {
   "cell_type": "code",
   "execution_count": 16,
   "metadata": {
    "ExecuteTime": {
     "end_time": "2024-11-02T20:46:51.872777Z",
     "start_time": "2024-11-02T20:46:51.868977Z"
    },
    "id": "q8zvO0AoIElf"
   },
   "outputs": [],
   "source": [
    "# Tokenizing the text via nltk's word_tokenize\n",
    "def tokenize(text):\n",
    "    return word_tokenize(text)"
   ]
  },
  {
   "cell_type": "code",
   "execution_count": 17,
   "metadata": {
    "ExecuteTime": {
     "end_time": "2024-11-02T20:46:52.152838Z",
     "start_time": "2024-11-02T20:46:52.149570Z"
    },
    "id": "rTkulFfpJMqa"
   },
   "outputs": [],
   "source": [
    "# Lemmatizing words in the text (reducing words to their base form)\n",
    "def lemmatize(text, lemmatizer):\n",
    "    return lemmatizer.lemmatize(text)"
   ]
  },
  {
   "cell_type": "code",
   "execution_count": 18,
   "metadata": {
    "ExecuteTime": {
     "end_time": "2024-11-02T20:46:52.431122Z",
     "start_time": "2024-11-02T20:46:52.428444Z"
    },
    "id": "tjCB7RBbGUYt"
   },
   "outputs": [],
   "source": [
    "# Unified text processing pipeline function\n",
    "def process_text(text, lemmatizer=None):\n",
    "    text = remove_html_tags(text)\n",
    "    text = remove_url(text)\n",
    "    text = remove_punc(text)\n",
    "    text = remove_emoji(text)\n",
    "    tokens = tokenize(text)\n",
    "    tokens = remove_stopwords(tokens)\n",
    "\n",
    "    if lemmatizer is not None:\n",
    "        tokens = list(map(lemmatizer.lemmatize, tokens))\n",
    "\n",
    "    return list(filter(None, tokens))"
   ]
  },
  {
   "cell_type": "code",
   "execution_count": 19,
   "metadata": {
    "ExecuteTime": {
     "end_time": "2024-11-02T20:46:52.709551Z",
     "start_time": "2024-11-02T20:46:52.706544Z"
    },
    "id": "NcVmeBZQJZtC"
   },
   "outputs": [],
   "source": [
    "wnl = WordNetLemmatizer()"
   ]
  },
  {
   "cell_type": "code",
   "execution_count": 20,
   "metadata": {
    "ExecuteTime": {
     "end_time": "2024-11-02T21:15:00.778330Z",
     "start_time": "2024-11-02T20:46:52.984387Z"
    },
    "colab": {
     "base_uri": "https://localhost:8080/",
     "height": 490,
     "referenced_widgets": [
      "a3038d81396e4719a709ab5f5c83ad2e",
      "e6f7f974508c4c8ba90229af6ce3fdcd",
      "bc03bf5ffd164271909d250bf13c666c",
      "e6f3e9e390e84c199c2e057e338d39bd",
      "7a19ca83f7c44411bc49039a64bb5ce0",
      "8baa3322523f486e849816b5200f2798",
      "242539a2e0da442b8c525b7b76bba593",
      "60822fcd2798401eb61fabff06091118",
      "833539f9bd804eb3aad0c2473a59db8b",
      "3e4c119bd66a47e9bb678447ec70de2d",
      "fe32dff9d77c42bdb9a04765a8f359c7"
     ]
    },
    "id": "6IzeFPrJ_-JW",
    "outputId": "11233b82-addb-433c-b075-66b70e4e4390"
   },
   "outputs": [
    {
     "data": {
      "application/vnd.jupyter.widget-view+json": {
       "model_id": "6b29b3cd649a44e884584309708fcc9a",
       "version_major": 2,
       "version_minor": 0
      },
      "text/plain": [
       "  0%|          | 0/50000 [00:00<?, ?it/s]"
      ]
     },
     "metadata": {},
     "output_type": "display_data"
    },
    {
     "data": {
      "text/plain": [
       "0        [one, reviewer, mentioned, watching, 1, oz, ep...\n",
       "1        [wonderful, little, production, filming, techn...\n",
       "2        [thought, wonderful, way, spend, time, hot, su...\n",
       "3        [basically, there, family, little, boy, jake, ...\n",
       "4        [petter, matteis, love, time, money, visually,...\n",
       "                               ...                        \n",
       "49995    [thought, movie, right, good, job, wasnt, crea...\n",
       "49996    [bad, plot, bad, dialogue, bad, acting, idioti...\n",
       "49997    [catholic, taught, parochial, elementary, scho...\n",
       "49998    [im, going, disagree, previous, comment, side,...\n",
       "49999    [one, expects, star, trek, movie, high, art, f...\n",
       "Name: review, Length: 50000, dtype: object"
      ]
     },
     "execution_count": 20,
     "metadata": {},
     "output_type": "execute_result"
    }
   ],
   "source": [
    "# Turning reviews into lists of tokens\n",
    "X = X.progress_apply(lambda x: process_text(x, wnl))\n",
    "\n",
    "X"
   ]
  },
  {
   "cell_type": "code",
   "execution_count": 21,
   "metadata": {
    "ExecuteTime": {
     "end_time": "2024-11-02T21:15:02.201822Z",
     "start_time": "2024-11-02T21:15:01.089903Z"
    },
    "id": "cehZrsYJqyEk"
   },
   "outputs": [],
   "source": [
    "# Counting all words present in reviews\n",
    "words = X.explode().values.tolist()\n",
    "counter = collections.Counter(words)\n",
    "\n",
    "# Creating a dictionary, where values are words, and keys are their integer encodings\n",
    "# Frequent words are assigned to smaller numbers\n",
    "vocab = sorted(counter, key=counter.get, reverse=True)\n",
    "int2word = dict(enumerate(vocab, 1))\n",
    "\n",
    "# Padding token encoding\n",
    "padding_id = 0\n",
    "int2word[padding_id] = '<PAD>'\n",
    "\n",
    "# A dictionary of encodings for each word\n",
    "word2int = {word: id for id, word in int2word.items()}"
   ]
  },
  {
   "cell_type": "code",
   "execution_count": 22,
   "metadata": {
    "ExecuteTime": {
     "end_time": "2024-11-02T21:15:02.267195Z",
     "start_time": "2024-11-02T21:15:02.263628Z"
    },
    "id": "T0Yz8RdbumHy"
   },
   "outputs": [],
   "source": [
    "def encode_tokens(token_list, word2int):\n",
    "    return list(map(word2int.get, token_list))"
   ]
  },
  {
   "cell_type": "code",
   "execution_count": 23,
   "metadata": {
    "ExecuteTime": {
     "end_time": "2024-11-02T21:15:02.989436Z",
     "start_time": "2024-11-02T21:15:02.278209Z"
    },
    "colab": {
     "base_uri": "https://localhost:8080/",
     "height": 49,
     "referenced_widgets": [
      "036635a76c1242c9b58b5a3156a1613b",
      "9643e8b3dfdb40899938600a46e61a97",
      "0f44004d42d2403e939c5375a430662b",
      "04ec11d7237b415e845a1e0ce047b8df",
      "ec6e65f9150b4207b909ceaf1832f88d",
      "079ff94fd47d46f89b8a5cd84f0bebae",
      "8be947ec13744800988d6417021b61b8",
      "9790d1576d084ce48963993ba650ed0e",
      "bf60ed66fc454a8588aa1dea2c82a3c8",
      "6d5884f90b564ab19eddde01e05bf1e9",
      "5db452f65e484f179a8e430afdb4e658"
     ]
    },
    "id": "AWQhWYnJuTeh",
    "outputId": "ecff8169-88e7-4ae3-947e-9f8be8b639af"
   },
   "outputs": [
    {
     "data": {
      "application/vnd.jupyter.widget-view+json": {
       "model_id": "b4091c91032046f2ab6be8fa4f7c6d07",
       "version_major": 2,
       "version_minor": 0
      },
      "text/plain": [
       "  0%|          | 0/50000 [00:00<?, ?it/s]"
      ]
     },
     "metadata": {},
     "output_type": "display_data"
    }
   ],
   "source": [
    "# Encoding tokens\n",
    "X = X.progress_apply(encode_tokens, word2int=word2int)"
   ]
  },
  {
   "cell_type": "code",
   "execution_count": 24,
   "metadata": {
    "ExecuteTime": {
     "end_time": "2024-11-02T21:16:35.779028Z",
     "start_time": "2024-11-02T21:16:35.774550Z"
    },
    "colab": {
     "base_uri": "https://localhost:8080/",
     "height": 241
    },
    "id": "qkCF6M7cvK3k",
    "outputId": "556e03f7-9dc7-4be3-aaab-2408b43c838b"
   },
   "outputs": [
    {
     "data": {
      "text/plain": [
       "0    [3, 1020, 944, 66, 414, 3107, 174, 367, 2916, ...\n",
       "1    [291, 45, 238, 1234, 1610, 15994, 75219, 1356,...\n",
       "2    [95, 291, 25, 991, 5, 785, 1303, 2214, 1075, 7...\n",
       "3    [582, 131, 123, 45, 204, 3362, 29, 131, 522, 3...\n",
       "4    [75224, 30033, 34, 5, 197, 1975, 1250, 2, 33, ...\n",
       "Name: review, dtype: object"
      ]
     },
     "execution_count": 24,
     "metadata": {},
     "output_type": "execute_result"
    }
   ],
   "source": [
    "X.head()"
   ]
  },
  {
   "cell_type": "code",
   "execution_count": 25,
   "metadata": {
    "ExecuteTime": {
     "end_time": "2024-11-02T21:16:36.077891Z",
     "start_time": "2024-11-02T21:16:36.075062Z"
    },
    "id": "_JeDh1JX3s0N"
   },
   "outputs": [],
   "source": [
    "X = X.to_numpy()"
   ]
  },
  {
   "cell_type": "code",
   "execution_count": 26,
   "metadata": {
    "ExecuteTime": {
     "end_time": "2024-11-02T21:16:36.123343Z",
     "start_time": "2024-11-02T21:16:36.120654Z"
    },
    "id": "Z2A0cxqT22gw"
   },
   "outputs": [],
   "source": [
    "# Reducing token lists to a common length\n",
    "def pad_features(data, padding_id, seq_len=128):\n",
    "    features = np.full((len(data), seq_len), padding_id, dtype=int)\n",
    "\n",
    "    for i, row in enumerate(data):\n",
    "        features[i, :len(row)] = np.array(row)[:seq_len]\n",
    "\n",
    "    return features"
   ]
  },
  {
   "cell_type": "code",
   "execution_count": 27,
   "metadata": {
    "ExecuteTime": {
     "end_time": "2024-11-02T21:16:36.392761Z",
     "start_time": "2024-11-02T21:16:36.150376Z"
    },
    "id": "HSerQTip35zD"
   },
   "outputs": [],
   "source": [
    "X = pad_features(X, padding_id, seq_len=256)"
   ]
  },
  {
   "cell_type": "code",
   "execution_count": 28,
   "metadata": {
    "ExecuteTime": {
     "end_time": "2024-11-02T21:16:36.727910Z",
     "start_time": "2024-11-02T21:16:36.719692Z"
    },
    "colab": {
     "base_uri": "https://localhost:8080/"
    },
    "id": "SJRnM_fx5HTb",
    "outputId": "a571b541-894c-42c2-ec11-df4e1bedd8c3"
   },
   "outputs": [
    {
     "data": {
      "text/plain": [
       "(50000, 256)"
      ]
     },
     "execution_count": 28,
     "metadata": {},
     "output_type": "execute_result"
    }
   ],
   "source": [
    "X.shape"
   ]
  },
  {
   "cell_type": "code",
   "execution_count": 29,
   "metadata": {
    "ExecuteTime": {
     "end_time": "2024-11-02T21:16:36.998940Z",
     "start_time": "2024-11-02T21:16:36.996600Z"
    },
    "id": "57-muwz55OQv"
   },
   "outputs": [],
   "source": [
    "y = y.to_numpy()"
   ]
  },
  {
   "cell_type": "code",
   "execution_count": 33,
   "metadata": {
    "ExecuteTime": {
     "end_time": "2024-11-02T21:16:37.299015Z",
     "start_time": "2024-11-02T21:16:37.271940Z"
    },
    "id": "AMbiNmil5T47"
   },
   "outputs": [],
   "source": [
    "# Splitting data into training, testing and validation data\n",
    "X_train, X_rest, y_train, y_rest = train_test_split(X, y, test_size=0.4, stratify=y, random_state=random_seed)\n",
    "X_test, X_val, y_test, y_val = train_test_split(X_rest, y_rest, test_size=0.5, stratify=y_rest, random_state=random_seed)"
   ]
  },
  {
   "cell_type": "code",
   "execution_count": 36,
   "metadata": {
    "ExecuteTime": {
     "end_time": "2024-11-02T21:16:37.546403Z",
     "start_time": "2024-11-02T21:16:37.542437Z"
    },
    "id": "3eyPs6is6LmF"
   },
   "outputs": [],
   "source": [
    "# Creating dataloaders\n",
    "\n",
    "train_dataset = TensorDataset(torch.from_numpy(X_train), torch.from_numpy(y_train))\n",
    "val_dataset = TensorDataset(torch.from_numpy(X_val), torch.from_numpy(y_val))\n",
    "test_dataset = TensorDataset(torch.from_numpy(X_test), torch.from_numpy(y_test))\n",
    "\n",
    "batch_size = 128\n",
    "\n",
    "train_loader = DataLoader(train_dataset, shuffle=True, batch_size=batch_size, drop_last=True)\n",
    "val_loader = DataLoader(val_dataset, shuffle=True, batch_size=batch_size, drop_last=True)\n",
    "test_loader = DataLoader(test_dataset, shuffle=True, batch_size=batch_size, drop_last=True)"
   ]
  },
  {
   "cell_type": "markdown",
   "metadata": {},
   "source": [
    "As per requirements of this task, three RNN models will be trained on given data. These models are:\n",
    "- a vanilla RNN model;\n",
    "- an LSTM model;\n",
    "- a GRU model.\n",
    "\n",
    "For these models I created a PyTorch module - `RNNModel`. Instead of creating separate modules for each RNN type, I used this class as a common base with customizable architecture. The architecture consists of the following layers:\n",
    "1. An embedding layer - a trainable embedding lookup table.\n",
    "2. An RNN layer - recurrent neural network with 2 layers (by default). The type of RNN used at this layer is chosen by specifying the `rnn_type` argument when initializing the model. Options available are: `vanilla` (vanilla RNN), `lstm` (LSTM), and `gru` (GRU).\n",
    "3. A dropout layer - a layer that randomly zeroes some elements of the input with set probability $p$ (0.3 by default) during training.\n",
    "4. A linear layer - a linear transformation layer used to transform RNN output into a single value.\n",
    "5. A sigmoid layer - a layer that uses the sigmoid function to convert the output value to a probability value (a real value between 0 and 1)."
   ]
  },
  {
   "cell_type": "code",
   "execution_count": 37,
   "metadata": {
    "ExecuteTime": {
     "end_time": "2024-11-02T21:16:37.800557Z",
     "start_time": "2024-11-02T21:16:37.795627Z"
    },
    "id": "hQXRWtNFWL60"
   },
   "outputs": [],
   "source": [
    "class RNNModel(nn.Module):\n",
    "    def __init__(self, input_size, output_size, hidden_size=512, embedding_size=256, n_layers=2, dropout=0.25, rnn_type='vanilla'):\n",
    "        super(RNNModel, self).__init__()\n",
    "\n",
    "        rnn_types = {\n",
    "            'vanilla': nn.RNN,\n",
    "            'lstm': nn.LSTM,\n",
    "            'gru': nn.GRU\n",
    "        }\n",
    "\n",
    "        if rnn_type not in rnn_types:\n",
    "            raise ValueError(f\"architecture must be one of {rnn_types.keys()}\")\n",
    "\n",
    "        self.n_layers = n_layers\n",
    "        self.input_size = input_size\n",
    "        self.hidden_size = hidden_size\n",
    "        \n",
    "        # The RNN layer, chosen from the rnn_types dictionary\n",
    "        self.rnn = rnn_types[rnn_type](embedding_size, hidden_size, n_layers, dropout=dropout, batch_first=True)\n",
    "\n",
    "        self.embedding = nn.Embedding(input_size, embedding_size) # The embedding layer\n",
    "        self.dropout = nn.Dropout(0.3) # The dropout layer\n",
    "        self.fc = nn.Linear(hidden_size, output_size) # The linear layer\n",
    "        self.sigmoid = nn.Sigmoid() # The sigmoid layer\n",
    "\n",
    "    def forward(self, x):\n",
    "        # The network's forward pass\n",
    "        x = x.long()\n",
    "        x = self.embedding(x)\n",
    "\n",
    "        # Here we discard the hidden state\n",
    "        # This way we reinitialize the hidden state with each new batch\n",
    "        out, _ = self.rnn(x)\n",
    "        out = out[:, -1, :]\n",
    "\n",
    "        out = self.dropout(out)\n",
    "        out = self.fc(out)\n",
    "        out = self.sigmoid(out)\n",
    "\n",
    "        return out"
   ]
  },
  {
   "cell_type": "markdown",
   "metadata": {},
   "source": [
    "The general approach to training the model is similar to that specified in Question 1. The main differences here are:\n",
    "- The use of batches - each epoch we train the model on a sequence of groups of features, called batches. Between each batch, the model's hidden state is reset.\n",
    "- A different optimizer - instead of stochastic gradient descent, I used the Adam algorithm for these models due to its faster convergence.\n",
    "- A different loss function - because this is a binary classification problem, I used binary cross-entropy (BCE)."
   ]
  },
  {
   "cell_type": "code",
   "execution_count": 38,
   "metadata": {
    "ExecuteTime": {
     "end_time": "2024-11-02T21:16:55.563857Z",
     "start_time": "2024-11-02T21:16:55.556763Z"
    },
    "id": "Cz9X-y3bIi8s"
   },
   "outputs": [],
   "source": [
    "# The training \n",
    "def train_model(model, epochs, train_loader, val_loader, optimizer, criterion, history, rnn_type_name):\n",
    "    epoch_loop = tqdm(range(epochs), position=0, desc='Training', leave=True)\n",
    "    \n",
    "    train_hist = {\n",
    "        'train_loss': [],\n",
    "        'train_acc': [],\n",
    "        'val_loss': [],\n",
    "        'val_acc': []\n",
    "    }\n",
    "\n",
    "    val_loss_min = torch.inf\n",
    "\n",
    "    for e in epoch_loop:\n",
    "        # Set the model mode to train\n",
    "        model.train()\n",
    "\n",
    "        train_loss = 0\n",
    "        train_acc = 0\n",
    "\n",
    "        for id, (feature, target) in enumerate(train_loader):\n",
    "            epoch_loop.set_postfix_str(f'Training batch {id}/{len(train_loader)}')\n",
    "            feature, target = feature.to(device), target.to(device)\n",
    "\n",
    "            # Resetting the gradients of model parameters after the previous epoch\n",
    "            optimizer.zero_grad()\n",
    "\n",
    "            \n",
    "            out = model(feature)\n",
    "\n",
    "            # Calculating accuracy on training data\n",
    "            preds = torch.tensor([1 if i == True else 0 for i in out > 0.5], device=device)\n",
    "            equals = preds == target\n",
    "            acc = torch.mean(equals.type(torch.FloatTensor))\n",
    "            train_acc += acc.item()\n",
    "\n",
    "            # Calculating the loss (cost) function on training data\n",
    "            loss = criterion(out.squeeze(), target.float())\n",
    "            train_loss += loss.item()\n",
    "\n",
    "            # Performing loss backpropagation - computing the gradient of the loss function w. r. t. model parameters\n",
    "            loss.backward()\n",
    "    \n",
    "            # Clipping the gradient norm to prevent exploding gradients\n",
    "            nn.utils.clip_grad_norm_(model.parameters(), 5)\n",
    "\n",
    "            # Adjusting the parameters after the backward pass\n",
    "            optimizer.step()\n",
    "            \n",
    "            del feature, target, preds\n",
    "\n",
    "        # Saving training loss on each epoch for visualization\n",
    "        train_hist['train_loss'].append(train_loss / len(train_loader))\n",
    "        train_hist['train_acc'].append(train_acc / len(train_loader))\n",
    "\n",
    "        # Set the model mode to evaluation\n",
    "        model.eval()\n",
    "\n",
    "        val_loss = 0\n",
    "        val_acc = 0\n",
    "\n",
    "        # Calculating the loss function and accuracy on validation data\n",
    "        with torch.no_grad():\n",
    "            for id, (feature, target) in enumerate(val_loader):\n",
    "                epoch_loop.set_postfix_str(f'Validation batch {id}/{len(val_loader)}')\n",
    "                feature, target = feature.to(device), target.to(device)\n",
    "\n",
    "                out = model(feature)\n",
    "\n",
    "                preds = torch.tensor([1 if i == True else 0 for i in out > 0.5], device=device)\n",
    "                equals = preds == target\n",
    "                acc = torch.mean(equals.type(torch.FloatTensor))\n",
    "                val_acc += acc.item()\n",
    "\n",
    "                loss = criterion(out.squeeze(), target.float())\n",
    "                val_loss += loss.item()\n",
    "\n",
    "                del feature, target, preds\n",
    "\n",
    "            # Saving validation loss on each epoch for visualization\n",
    "            train_hist['val_loss'].append(val_loss / len(val_loader))\n",
    "            train_hist['val_acc'].append(val_acc / len(val_loader))\n",
    "\n",
    "        # Set the model mode to train\n",
    "        model.train()\n",
    "\n",
    "        epoch_loop.set_postfix_str(f'Val Loss: {val_loss / len(val_loader):.3f} | Val Acc: {val_acc / len(val_loader):.3f}')\n",
    "\n",
    "        epoch_loop.write(f'Epoch {e+1}/{epochs} | Train Loss: {train_loss / len(train_loader):.3f} Train Acc: {train_acc / len(train_loader):.3f} | Val Loss: {val_loss / len(val_loader):.3f} Val Acc: {val_acc / len(val_loader):.3f}')\n",
    "        epoch_loop.update()\n",
    "\n",
    "        # Saving the model's parameters if its current validation loss is lower than the previous minimum\n",
    "        if val_loss / len(val_loader) <= val_loss_min:\n",
    "            torch.save(model.state_dict(), f'./{rnn_type_name}.pt')\n",
    "            val_loss_min = val_loss / len(val_loader)\n",
    "        \n",
    "    history[rnn_type_name] = train_hist"
   ]
  },
  {
   "cell_type": "code",
   "execution_count": 43,
   "metadata": {
    "ExecuteTime": {
     "end_time": "2024-11-02T21:31:23.915303Z",
     "start_time": "2024-11-02T21:24:35.457442Z"
    }
   },
   "outputs": [
    {
     "name": "stdout",
     "output_type": "stream",
     "text": [
      "vanilla\n",
      "RNNModel(\n",
      "  (rnn): RNN(256, 512, num_layers=2, batch_first=True, dropout=0.25)\n",
      "  (embedding): Embedding(211092, 256)\n",
      "  (dropout): Dropout(p=0.3, inplace=False)\n",
      "  (fc): Linear(in_features=512, out_features=1, bias=True)\n",
      "  (sigmoid): Sigmoid()\n",
      ")\n",
      "\n"
     ]
    },
    {
     "data": {
      "application/vnd.jupyter.widget-view+json": {
       "model_id": "4b4ef26af8f040c7834ad8c880a24d42",
       "version_major": 2,
       "version_minor": 0
      },
      "text/plain": [
       "Training:   0%|          | 0/8 [00:00<?, ?it/s]"
      ]
     },
     "metadata": {},
     "output_type": "display_data"
    },
    {
     "name": "stdout",
     "output_type": "stream",
     "text": [
      "Epoch 1/8 | Train Loss: 0.712 Train Acc: 0.499 | Val Loss: 0.695 Val Acc: 0.505\n",
      "Epoch 2/8 | Train Loss: 0.702 Train Acc: 0.507 | Val Loss: 0.698 Val Acc: 0.501\n",
      "Epoch 3/8 | Train Loss: 0.701 Train Acc: 0.502 | Val Loss: 0.695 Val Acc: 0.505\n",
      "Epoch 4/8 | Train Loss: 0.698 Train Acc: 0.501 | Val Loss: 0.693 Val Acc: 0.502\n",
      "Epoch 5/8 | Train Loss: 0.697 Train Acc: 0.503 | Val Loss: 0.708 Val Acc: 0.495\n",
      "Epoch 6/8 | Train Loss: 0.700 Train Acc: 0.496 | Val Loss: 0.693 Val Acc: 0.515\n",
      "Epoch 7/8 | Train Loss: 0.697 Train Acc: 0.502 | Val Loss: 0.694 Val Acc: 0.499\n",
      "Epoch 8/8 | Train Loss: 0.698 Train Acc: 0.503 | Val Loss: 0.700 Val Acc: 0.508\n",
      "vanilla training time: 1347.325 seconds\n",
      "\n",
      "lstm\n",
      "RNNModel(\n",
      "  (rnn): LSTM(256, 512, num_layers=2, batch_first=True, dropout=0.25)\n",
      "  (embedding): Embedding(211092, 256)\n",
      "  (dropout): Dropout(p=0.3, inplace=False)\n",
      "  (fc): Linear(in_features=512, out_features=1, bias=True)\n",
      "  (sigmoid): Sigmoid()\n",
      ")\n",
      "\n"
     ]
    },
    {
     "data": {
      "application/vnd.jupyter.widget-view+json": {
       "model_id": "d84c4ade34ec49ae8a6a463150cadfae",
       "version_major": 2,
       "version_minor": 0
      },
      "text/plain": [
       "Training:   0%|          | 0/8 [00:00<?, ?it/s]"
      ]
     },
     "metadata": {},
     "output_type": "display_data"
    },
    {
     "name": "stdout",
     "output_type": "stream",
     "text": [
      "Epoch 1/8 | Train Loss: 0.694 Train Acc: 0.504 | Val Loss: 0.695 Val Acc: 0.500\n",
      "Epoch 2/8 | Train Loss: 0.693 Train Acc: 0.502 | Val Loss: 0.694 Val Acc: 0.501\n",
      "Epoch 3/8 | Train Loss: 0.694 Train Acc: 0.499 | Val Loss: 0.693 Val Acc: 0.509\n",
      "Epoch 4/8 | Train Loss: 0.692 Train Acc: 0.508 | Val Loss: 0.693 Val Acc: 0.510\n",
      "Epoch 5/8 | Train Loss: 0.682 Train Acc: 0.523 | Val Loss: 0.671 Val Acc: 0.627\n",
      "Epoch 6/8 | Train Loss: 0.644 Train Acc: 0.585 | Val Loss: 0.660 Val Acc: 0.683\n",
      "Epoch 7/8 | Train Loss: 0.571 Train Acc: 0.704 | Val Loss: 0.548 Val Acc: 0.745\n",
      "Epoch 8/8 | Train Loss: 0.419 Train Acc: 0.823 | Val Loss: 0.441 Val Acc: 0.819\n",
      "lstm training time: 3640.252 seconds\n",
      "\n",
      "gru\n",
      "RNNModel(\n",
      "  (rnn): GRU(256, 512, num_layers=2, batch_first=True, dropout=0.25)\n",
      "  (embedding): Embedding(211092, 256)\n",
      "  (dropout): Dropout(p=0.3, inplace=False)\n",
      "  (fc): Linear(in_features=512, out_features=1, bias=True)\n",
      "  (sigmoid): Sigmoid()\n",
      ")\n",
      "\n"
     ]
    },
    {
     "data": {
      "application/vnd.jupyter.widget-view+json": {
       "model_id": "28d2890b6ac946db89021274cc3a0b81",
       "version_major": 2,
       "version_minor": 0
      },
      "text/plain": [
       "Training:   0%|          | 0/8 [00:00<?, ?it/s]"
      ]
     },
     "metadata": {},
     "output_type": "display_data"
    },
    {
     "name": "stdout",
     "output_type": "stream",
     "text": [
      "Epoch 1/8 | Train Loss: 0.708 Train Acc: 0.501 | Val Loss: 0.693 Val Acc: 0.508\n",
      "Epoch 2/8 | Train Loss: 0.596 Train Acc: 0.655 | Val Loss: 0.395 Val Acc: 0.827\n",
      "Epoch 3/8 | Train Loss: 0.297 Train Acc: 0.879 | Val Loss: 0.292 Val Acc: 0.877\n",
      "Epoch 4/8 | Train Loss: 0.147 Train Acc: 0.948 | Val Loss: 0.333 Val Acc: 0.873\n",
      "Epoch 5/8 | Train Loss: 0.052 Train Acc: 0.985 | Val Loss: 0.474 Val Acc: 0.872\n",
      "Epoch 6/8 | Train Loss: 0.029 Train Acc: 0.991 | Val Loss: 0.501 Val Acc: 0.869\n",
      "Epoch 7/8 | Train Loss: 0.016 Train Acc: 0.995 | Val Loss: 0.618 Val Acc: 0.866\n",
      "Epoch 8/8 | Train Loss: 0.011 Train Acc: 0.996 | Val Loss: 0.655 Val Acc: 0.865\n",
      "gru training time: 3425.852 seconds\n",
      "\n"
     ]
    }
   ],
   "source": [
    "rnn_types = ['vanilla', 'lstm', 'gru']\n",
    "models = []\n",
    "history = {}\n",
    "training_times = {}\n",
    "epochs = 8\n",
    "input_size = len(word2int)\n",
    "output_size = 1\n",
    "\n",
    "for rnn_type in rnn_types:\n",
    "    model = RNNModel(input_size, output_size, rnn_type=rnn_type).to(device)\n",
    "    print(rnn_type)\n",
    "    print(model)\n",
    "    print()\n",
    "\n",
    "    # Initializing the binary cross-entropy loss function criterion\n",
    "    criterion = nn.BCELoss()\n",
    "    # Initializing the Adam optimizer\n",
    "    optimizer = optim.Adam(model.parameters(), lr=0.001)\n",
    "\n",
    "    st = time.time()\n",
    "    # Training the model\n",
    "    train_model(model, epochs, train_loader, val_loader, optimizer, criterion, history, rnn_type)\n",
    "    et = time.time()\n",
    "\n",
    "    training_time = et - st\n",
    "    training_times[rnn_type] = training_time\n",
    "    print(f'{rnn_type} training time: {training_time:.3f} seconds')\n",
    "    print()\n",
    "\n",
    "    models.append(model)"
   ]
  },
  {
   "cell_type": "markdown",
   "metadata": {},
   "source": [
    "As one can see, the training time for vanilla RNN is much less than that for LSTM and GRU, and among the latter two GRU is a bit faster to train, which is due to it being a simplified version of LSTM."
   ]
  },
  {
   "cell_type": "code",
   "execution_count": 44,
   "metadata": {
    "ExecuteTime": {
     "end_time": "2024-11-02T21:31:34.642528Z",
     "start_time": "2024-11-02T21:31:34.296825Z"
    }
   },
   "outputs": [
    {
     "data": {
      "image/png": "[encoded data removed]",
      "text/plain": [
       "<Figure size 1500x500 with 3 Axes>"
      ]
     },
     "metadata": {},
     "output_type": "display_data"
    }
   ],
   "source": [
    "fig, axes = plt.subplots(1, 3, figsize=(15, 5))\n",
    "\n",
    "axes[0].plot(history['vanilla']['train_loss'], label='Train loss')\n",
    "axes[0].plot(history['vanilla']['val_loss'], label='Validation loss')\n",
    "axes[0].set(xlabel='Epoch', ylabel='Loss (BCE)')\n",
    "axes[0].legend()\n",
    "_ = axes[0].set_title('RNN loss')\n",
    "\n",
    "axes[1].plot(history['lstm']['train_loss'], label='Train loss')\n",
    "axes[1].plot(history['lstm']['val_loss'], label='Validation loss')\n",
    "axes[1].set(xlabel='Epoch', ylabel='Loss (BCE)')\n",
    "axes[1].legend()\n",
    "_ = axes[1].set_title('LSTM loss')\n",
    "\n",
    "axes[2].plot(history['gru']['train_loss'], label='Train loss')\n",
    "axes[2].plot(history['gru']['val_loss'], label='Validation loss')\n",
    "axes[2].set(xlabel='Epoch', ylabel='Loss (BCE)')\n",
    "axes[2].legend()\n",
    "_ = axes[2].set_title('GRU loss')"
   ]
  },
  {
   "cell_type": "markdown",
   "metadata": {},
   "source": [
    "Here one can see that RNN has barely been able to train on given data. It's train loss has only dropped by about 0.01, and after that the training process reached a plateau. That might be due to RNN's difficulties with retain long-term dependencies in data.\n",
    "\n",
    "In contrast, LSTM and GRU show much better results, with both models' BCE loss dropping by more than 0.5. The training process of GRU went noticeably faster, but by epoch 6, it started to show signs of overfitting as validation loss started to grow."
   ]
  },
  {
   "cell_type": "code",
   "execution_count": 45,
   "metadata": {
    "ExecuteTime": {
     "end_time": "2024-11-02T21:31:48.929267Z",
     "start_time": "2024-11-02T21:31:48.612079Z"
    }
   },
   "outputs": [
    {
     "data": {
      "image/png": "[encoded data removed]",
      "text/plain": [
       "<Figure size 1500x300 with 3 Axes>"
      ]
     },
     "metadata": {},
     "output_type": "display_data"
    }
   ],
   "source": [
    "fig, axes = plt.subplots(1, 3, figsize=(15, 3))\n",
    "\n",
    "axes[0].plot(history['vanilla']['train_acc'], label='Train accuracy')\n",
    "axes[0].plot(history['vanilla']['val_acc'], label='Validation accuracy')\n",
    "axes[0].set(xlabel='Epoch', ylabel='Accuracy')\n",
    "axes[0].legend()\n",
    "_ = axes[0].set_title('RNN accuracy')\n",
    "\n",
    "axes[1].plot(history['lstm']['train_acc'], label='Train accuracy')\n",
    "axes[1].plot(history['lstm']['val_acc'], label='Validation accuracy')\n",
    "axes[1].set(xlabel='Epoch', ylabel='Accuracy')\n",
    "axes[1].legend()\n",
    "_ = axes[1].set_title('LSTM accuracy')\n",
    "\n",
    "axes[2].plot(history['gru']['train_acc'], label='Train accuracy')\n",
    "axes[2].plot(history['gru']['val_acc'], label='Validation accuracy')\n",
    "axes[2].set(xlabel='Epoch', ylabel='Accuracy')\n",
    "axes[2].legend()\n",
    "_ = axes[2].set_title('GRU accuracy')"
   ]
  },
  {
   "cell_type": "markdown",
   "metadata": {},
   "source": [
    "Accuracy plots show that the vanilla RNN model indeed failed to train, with its accuracy staying around 0.5 throughout the entire training process.\n",
    "\n",
    "LSTM and GRU, however, managed to reach decent results, with GRU being faster to train once again."
   ]
  },
  {
   "cell_type": "code",
   "execution_count": 46,
   "metadata": {
    "ExecuteTime": {
     "end_time": "2024-11-02T21:32:00.022668Z",
     "start_time": "2024-11-02T21:32:00.018437Z"
    },
    "id": "1a2KWPJDI-La"
   },
   "outputs": [],
   "source": [
    "def test_model(model, criterion, test_loader):\n",
    "    # Set the model mode to evaluation\n",
    "    model.eval()\n",
    "\n",
    "    test_loss = 0\n",
    "    test_acc = 0\n",
    "\n",
    "    true_list = []\n",
    "    pred_list = []\n",
    "\n",
    "    testloop = tqdm(test_loader, leave=True, desc='Inference')\n",
    "    \n",
    "    # Calculating loss and accuracy on test data\n",
    "    with torch.no_grad():\n",
    "        for feature, target in testloop:\n",
    "            feature, target = feature.to(device), target.to(device)\n",
    "\n",
    "            out = model(feature)\n",
    "\n",
    "            preds = torch.tensor([1 if i == True else 0 for i in out > 0.5], device=device)\n",
    "            equals = preds == target\n",
    "            acc = torch.mean(equals.type(torch.FloatTensor))\n",
    "            test_acc += acc.item()\n",
    "\n",
    "            loss = criterion(out.squeeze(), target.float())\n",
    "            test_loss += loss.item()\n",
    "\n",
    "            true_list.extend(target.cpu().numpy())\n",
    "            pred_list.extend(preds.cpu().numpy())\n",
    "\n",
    "        print(f'Accuracy: {test_acc/len(test_loader):.3f}, loss: {test_loss/len(test_loader):.3f}')"
   ]
  },
  {
   "cell_type": "code",
   "execution_count": 47,
   "metadata": {
    "ExecuteTime": {
     "end_time": "2024-11-02T21:32:04.939955Z",
     "start_time": "2024-11-02T21:32:03.684940Z"
    }
   },
   "outputs": [
    {
     "data": {
      "text/plain": [
       "<All keys matched successfully>"
      ]
     },
     "execution_count": 47,
     "metadata": {},
     "output_type": "execute_result"
    }
   ],
   "source": [
    "# Loading best parameters for each model architecture\n",
    "\n",
    "best_rnn = RNNModel(input_size, output_size, rnn_type='vanilla').to(device)\n",
    "best_rnn.load_state_dict(torch.load(f'./vanilla.pt', weights_only=True))\n",
    "\n",
    "best_lstm = RNNModel(input_size, output_size, rnn_type='lstm').to(device)\n",
    "best_lstm.load_state_dict(torch.load(f'./lstm.pt', weights_only=True))\n",
    "\n",
    "best_gru = RNNModel(input_size, output_size, rnn_type='gru').to(device)\n",
    "best_gru.load_state_dict(torch.load(f'./gru.pt', weights_only=True))"
   ]
  },
  {
   "cell_type": "code",
   "execution_count": 48,
   "metadata": {
    "ExecuteTime": {
     "end_time": "2024-11-02T21:32:11.396789Z",
     "start_time": "2024-11-02T21:32:06.302858Z"
    },
    "id": "1PmgA8QVObge"
   },
   "outputs": [
    {
     "name": "stdout",
     "output_type": "stream",
     "text": [
      "RNN test accuracy:\n"
     ]
    },
    {
     "data": {
      "application/vnd.jupyter.widget-view+json": {
       "model_id": "2acf336e97a14e93aab8fb441a1a4e0f",
       "version_major": 2,
       "version_minor": 0
      },
      "text/plain": [
       "Inference:   0%|          | 0/78 [00:00<?, ?it/s]"
      ]
     },
     "metadata": {},
     "output_type": "display_data"
    },
    {
     "name": "stdout",
     "output_type": "stream",
     "text": [
      "Accuracy: 0.508, loss: 0.693\n",
      "\n",
      "LSTM test accuracy:\n"
     ]
    },
    {
     "data": {
      "application/vnd.jupyter.widget-view+json": {
       "model_id": "9fd20c0abbce40a3ace24afd16be859f",
       "version_major": 2,
       "version_minor": 0
      },
      "text/plain": [
       "Inference:   0%|          | 0/78 [00:00<?, ?it/s]"
      ]
     },
     "metadata": {},
     "output_type": "display_data"
    },
    {
     "name": "stdout",
     "output_type": "stream",
     "text": [
      "Accuracy: 0.823, loss: 0.439\n",
      "\n",
      "GRU test accuracy:\n"
     ]
    },
    {
     "data": {
      "application/vnd.jupyter.widget-view+json": {
       "model_id": "a22b90ee49594ba8b2410e17d45723c7",
       "version_major": 2,
       "version_minor": 0
      },
      "text/plain": [
       "Inference:   0%|          | 0/78 [00:00<?, ?it/s]"
      ]
     },
     "metadata": {},
     "output_type": "display_data"
    },
    {
     "name": "stdout",
     "output_type": "stream",
     "text": [
      "Accuracy: 0.874, loss: 0.297\n"
     ]
    }
   ],
   "source": [
    "criterion = nn.BCELoss()\n",
    "\n",
    "print(\"RNN test accuracy:\")\n",
    "test_model(best_rnn, criterion, test_loader)\n",
    "\n",
    "print()\n",
    "\n",
    "print(\"LSTM test accuracy:\")\n",
    "test_model(best_lstm, criterion, test_loader)\n",
    "\n",
    "print()\n",
    "\n",
    "print(\"GRU test accuracy:\")\n",
    "test_model(best_gru, criterion, test_loader)"
   ]
  },
  {
   "cell_type": "markdown",
   "metadata": {},
   "source": [
    "In conclusion, the best accuracy was achieved by the GRU model, with LSTM falling just 1 percent short. RNN's accuracy is just 0.5, which, in the context of binary classification, is practically equivalent to a model that chooses its prediction randomly."
   ]
  }
 ],
 "metadata": {
  "colab": {
   "authorship_tag": "ABX9TyPjhe2WtCOgLZQeXK/m5pHG",
   "include_colab_link": true,
   "provenance": []
  },
  "kernelspec": {
   "display_name": "Python 3 (ipykernel)",
   "language": "python",
   "name": "python3"
  },
  "language_info": {
   "codemirror_mode": {
    "name": "ipython",
    "version": 3
   },
   "file_extension": ".py",
   "mimetype": "text/x-python",
   "name": "python",
   "nbconvert_exporter": "python",
   "pygments_lexer": "ipython3",
   "version": "3.12.7"
  }
 },
 "nbformat": 4,
 "nbformat_minor": 4
}
