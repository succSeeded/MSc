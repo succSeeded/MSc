{
  "nbformat": 4,
  "nbformat_minor": 0,
  "metadata": {
    "colab": {
      "provenance": [],
      "authorship_tag": "ABX9TyPjhe2WtCOgLZQeXK/m5pHG",
      "include_colab_link": true
    },
    "kernelspec": {
      "name": "python3",
      "display_name": "Python 3"
    },
    "language_info": {
      "name": "python"
    }
  },
  "cells": [
    {
      "cell_type": "markdown",
      "metadata": {
        "id": "view-in-github",
        "colab_type": "text"
      },
      "source": [
        "<a href=\"https://colab.research.google.com/github/succSeeded/MSc/blob/main/mcdnn/Assignment%201%20-%20Dynamic%20Neural%20Networks%20-%20Kirdin%20Matvei.ipynb\" target=\"_parent\"><img src=\"https://colab.research.google.com/assets/colab-badge.svg\" alt=\"Open In Colab\"/></a>"
      ]
    },
    {
      "cell_type": "markdown",
      "source": [
        "Notebook made by: **Kirdin Matvei**, e-mail: `mdkirdin@student.hse.ru`"
      ],
      "metadata": {
        "id": "85TMTuHr7Vst"
      }
    },
    {
      "cell_type": "code",
      "source": [],
      "metadata": {
        "id": "fhwVroVG81wl"
      },
      "execution_count": null,
      "outputs": []
    },
    {
      "cell_type": "markdown",
      "source": [
        "gbfgbn[fgprn,n\n",
        "rtbhp[orbm,prw]obmp[]bmtp[]rbmom opk3rfg]l3e\\=fl34e\\=fgl er3-pg,dbfk m 9q34fhjwdcikljab dsohebrvaeybv hkagsxckamshdbfv qewfghjk sdmnbc adkcahvdfkjbhvwdfouqwy ef ouwefeqwdfloubgas dlcvabsdlvadsbvajklsdhbfvaeilouubfhvaeilod fvadilsuvbhasdkljvasdklvjbads aqrv aeidhv afiub aefirhuv aedfivblvjbcdsvlia udghv iqeufhpeiwdhvaeilo duvbgaldfivug"
      ],
      "metadata": {
        "id": "4wmKzwzP9jcn"
      }
    },
    {
      "cell_type": "code",
      "source": [],
      "metadata": {
        "id": "nlWIghz79nTL"
      },
      "execution_count": null,
      "outputs": []
    }
  ]
}