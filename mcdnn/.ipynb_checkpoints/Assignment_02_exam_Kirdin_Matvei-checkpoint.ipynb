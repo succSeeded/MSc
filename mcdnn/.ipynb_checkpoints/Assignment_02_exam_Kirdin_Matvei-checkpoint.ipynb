{
 "cells": [
  {
   "cell_type": "markdown",
   "id": "fa433999-7e74-4b6c-aab5-a52a0b44590e",
   "metadata": {
    "id": "85TMTuHr7Vst"
   },
   "source": [
    "Notebook made by: **Kirdin Matvei**, \n",
    "\n",
    "e-mail: mdkirdin@student.hse.ru"
   ]
  },
  {
   "cell_type": "code",
   "execution_count": 1,
   "id": "146affab-5331-4300-b969-458c31a937a3",
   "metadata": {},
   "outputs": [],
   "source": [
    "import random\n",
    "import numpy as np\n",
    "import pandas as pd\n",
    "import seaborn as sns\n",
    "import matplotlib.pyplot as plt\n",
    "from sklearn import datasets\n",
    "from sklearn.model_selection import train_test_split\n",
    "from tqdm.notebook import tqdm\n",
    "\n",
    "tqdm.pandas()"
   ]
  },
  {
   "cell_type": "markdown",
   "id": "c30a0440-353d-42c3-adef-b35c54c29d53",
   "metadata": {},
   "source": [
    "Fix the random generator for the purpose of reproducability."
   ]
  },
  {
   "cell_type": "code",
   "execution_count": 2,
   "id": "499abb20-ffb3-449a-b58c-b850751d6215",
   "metadata": {},
   "outputs": [],
   "source": [
    "random_seed = 12\n",
    "np.random.seed(random_seed)\n",
    "random.seed(random_seed)"
   ]
  },
  {
   "cell_type": "markdown",
   "id": "e941d8af-d57e-447e-ac89-03c3d810c454",
   "metadata": {
    "id": "4wmKzwzP9jcn"
   },
   "source": [
    "# Question 1.\n",
    "\n",
    "**Implement a simple feedforward neural network from scratch using Python (without a deep learning library like TensorFlow or PyTorch).**\n",
    "\n",
    "**Details:** Train your network on a small dataset (e.g., XOR dataset or Iris dataset) and include backpropagation for weight updates. Compare the results with an equivalent implementation using a library like TensorFlow/Keras."
   ]
  },
  {
   "cell_type": "markdown",
   "id": "aab6f567-2419-4913-b5c5-dde7f2d929e4",
   "metadata": {},
   "source": [
    "In this task I will use the ```Iris``` dataset due to its simplicity."
   ]
  },
  {
   "cell_type": "code",
   "execution_count": 3,
   "id": "bdb14a8d-6f78-4ecf-abf4-a2227ca34caf",
   "metadata": {},
   "outputs": [
    {
     "data": {
      "text/html": [
       "<div>\n",
       "<style scoped>\n",
       "    .dataframe tbody tr th:only-of-type {\n",
       "        vertical-align: middle;\n",
       "    }\n",
       "\n",
       "    .dataframe tbody tr th {\n",
       "        vertical-align: top;\n",
       "    }\n",
       "\n",
       "    .dataframe thead th {\n",
       "        text-align: right;\n",
       "    }\n",
       "</style>\n",
       "<table border=\"1\" class=\"dataframe\">\n",
       "  <thead>\n",
       "    <tr style=\"text-align: right;\">\n",
       "      <th></th>\n",
       "      <th>Id</th>\n",
       "      <th>SepalLengthCm</th>\n",
       "      <th>SepalWidthCm</th>\n",
       "      <th>PetalLengthCm</th>\n",
       "      <th>PetalWidthCm</th>\n",
       "      <th>Species</th>\n",
       "    </tr>\n",
       "  </thead>\n",
       "  <tbody>\n",
       "    <tr>\n",
       "      <th>0</th>\n",
       "      <td>1</td>\n",
       "      <td>5.1</td>\n",
       "      <td>3.5</td>\n",
       "      <td>1.4</td>\n",
       "      <td>0.2</td>\n",
       "      <td>Iris-setosa</td>\n",
       "    </tr>\n",
       "    <tr>\n",
       "      <th>1</th>\n",
       "      <td>2</td>\n",
       "      <td>4.9</td>\n",
       "      <td>3.0</td>\n",
       "      <td>1.4</td>\n",
       "      <td>0.2</td>\n",
       "      <td>Iris-setosa</td>\n",
       "    </tr>\n",
       "    <tr>\n",
       "      <th>2</th>\n",
       "      <td>3</td>\n",
       "      <td>4.7</td>\n",
       "      <td>3.2</td>\n",
       "      <td>1.3</td>\n",
       "      <td>0.2</td>\n",
       "      <td>Iris-setosa</td>\n",
       "    </tr>\n",
       "    <tr>\n",
       "      <th>3</th>\n",
       "      <td>4</td>\n",
       "      <td>4.6</td>\n",
       "      <td>3.1</td>\n",
       "      <td>1.5</td>\n",
       "      <td>0.2</td>\n",
       "      <td>Iris-setosa</td>\n",
       "    </tr>\n",
       "    <tr>\n",
       "      <th>4</th>\n",
       "      <td>5</td>\n",
       "      <td>5.0</td>\n",
       "      <td>3.6</td>\n",
       "      <td>1.4</td>\n",
       "      <td>0.2</td>\n",
       "      <td>Iris-setosa</td>\n",
       "    </tr>\n",
       "  </tbody>\n",
       "</table>\n",
       "</div>"
      ],
      "text/plain": [
       "   Id  SepalLengthCm  SepalWidthCm  PetalLengthCm  PetalWidthCm      Species\n",
       "0   1            5.1           3.5            1.4           0.2  Iris-setosa\n",
       "1   2            4.9           3.0            1.4           0.2  Iris-setosa\n",
       "2   3            4.7           3.2            1.3           0.2  Iris-setosa\n",
       "3   4            4.6           3.1            1.5           0.2  Iris-setosa\n",
       "4   5            5.0           3.6            1.4           0.2  Iris-setosa"
      ]
     },
     "execution_count": 3,
     "metadata": {},
     "output_type": "execute_result"
    }
   ],
   "source": [
    "df = pd.read_csv(\"data/Iris.csv\")\n",
    "df.head()"
   ]
  },
  {
   "cell_type": "markdown",
   "id": "3a119967-3ab5-4d61-b057-4ebf12b80521",
   "metadata": {},
   "source": [
    "Preprocess the data to make this a binary classification task."
   ]
  },
  {
   "cell_type": "code",
   "execution_count": 4,
   "id": "255c7415-5e93-498a-aa2b-7e7b057a66e5",
   "metadata": {},
   "outputs": [
    {
     "data": {
      "text/html": [
       "<div>\n",
       "<style scoped>\n",
       "    .dataframe tbody tr th:only-of-type {\n",
       "        vertical-align: middle;\n",
       "    }\n",
       "\n",
       "    .dataframe tbody tr th {\n",
       "        vertical-align: top;\n",
       "    }\n",
       "\n",
       "    .dataframe thead th {\n",
       "        text-align: right;\n",
       "    }\n",
       "</style>\n",
       "<table border=\"1\" class=\"dataframe\">\n",
       "  <thead>\n",
       "    <tr style=\"text-align: right;\">\n",
       "      <th></th>\n",
       "      <th>SepalLengthCm</th>\n",
       "      <th>SepalWidthCm</th>\n",
       "      <th>PetalLengthCm</th>\n",
       "      <th>PetalWidthCm</th>\n",
       "      <th>Species</th>\n",
       "    </tr>\n",
       "  </thead>\n",
       "  <tbody>\n",
       "    <tr>\n",
       "      <th>0</th>\n",
       "      <td>5.1</td>\n",
       "      <td>3.5</td>\n",
       "      <td>1.4</td>\n",
       "      <td>0.2</td>\n",
       "      <td>1.0</td>\n",
       "    </tr>\n",
       "    <tr>\n",
       "      <th>1</th>\n",
       "      <td>4.9</td>\n",
       "      <td>3.0</td>\n",
       "      <td>1.4</td>\n",
       "      <td>0.2</td>\n",
       "      <td>1.0</td>\n",
       "    </tr>\n",
       "    <tr>\n",
       "      <th>2</th>\n",
       "      <td>4.7</td>\n",
       "      <td>3.2</td>\n",
       "      <td>1.3</td>\n",
       "      <td>0.2</td>\n",
       "      <td>1.0</td>\n",
       "    </tr>\n",
       "    <tr>\n",
       "      <th>3</th>\n",
       "      <td>4.6</td>\n",
       "      <td>3.1</td>\n",
       "      <td>1.5</td>\n",
       "      <td>0.2</td>\n",
       "      <td>1.0</td>\n",
       "    </tr>\n",
       "    <tr>\n",
       "      <th>4</th>\n",
       "      <td>5.0</td>\n",
       "      <td>3.6</td>\n",
       "      <td>1.4</td>\n",
       "      <td>0.2</td>\n",
       "      <td>1.0</td>\n",
       "    </tr>\n",
       "  </tbody>\n",
       "</table>\n",
       "</div>"
      ],
      "text/plain": [
       "   SepalLengthCm  SepalWidthCm  PetalLengthCm  PetalWidthCm  Species\n",
       "0            5.1           3.5            1.4           0.2      1.0\n",
       "1            4.9           3.0            1.4           0.2      1.0\n",
       "2            4.7           3.2            1.3           0.2      1.0\n",
       "3            4.6           3.1            1.5           0.2      1.0\n",
       "4            5.0           3.6            1.4           0.2      1.0"
      ]
     },
     "execution_count": 4,
     "metadata": {},
     "output_type": "execute_result"
    }
   ],
   "source": [
    "df = df.drop(\"Id\", axis=1)\n",
    "df.Species = df.Species.map(lambda x: 1.0 if x == \"Iris-setosa\" else 0.0)\n",
    "df = df.astype(np.float64)\n",
    "df.head()"
   ]
  },
  {
   "cell_type": "markdown",
   "id": "ecf2f020-b67a-49e1-a5ac-6c3ecc8cb104",
   "metadata": {},
   "source": [
    "Let us split the data into training and testing"
   ]
  },
  {
   "cell_type": "code",
   "execution_count": 5,
   "id": "90a7c376-aff3-4f83-b68d-147f0ca9386d",
   "metadata": {},
   "outputs": [],
   "source": [
    "x_train, x_test, y_train, y_test = train_test_split(np.array(df.drop(\"Species\", axis=1)), np.array(df[\"Species\"]))"
   ]
  },
  {
   "cell_type": "markdown",
   "id": "113ffba7-fa07-484e-a390-0f81c0426247",
   "metadata": {},
   "source": [
    "Now let us initialize the weights:"
   ]
  },
  {
   "cell_type": "code",
   "execution_count": 6,
   "id": "d13e77c6-e97c-48b2-9428-5b18308ec467",
   "metadata": {},
   "outputs": [],
   "source": [
    "# Dataset dimensions\n",
    "n, m = x_train.shape\n",
    "\n",
    "# Number of neurons in the hidden layer\n",
    "v = 10"
   ]
  },
  {
   "cell_type": "code",
   "execution_count": 7,
   "id": "128fec84-a019-4145-a4d7-d090b0508955",
   "metadata": {},
   "outputs": [],
   "source": [
    "w = np.random.randn(m,v)/np.sqrt(m+v)\n",
    "b = np.zeros(v, dtype=np.float64)\n",
    "v = np.random.randn(v,1)/np.sqrt(v+1)\n",
    "k = 0.0"
   ]
  },
  {
   "cell_type": "markdown",
   "id": "fa04c9f8-dd43-4edd-a062-74099e95119d",
   "metadata": {},
   "source": [
    "Now lets us define the loss, activation function and its derivative."
   ]
  },
  {
   "cell_type": "code",
   "execution_count": 8,
   "id": "afdb0bc7-e681-4c5d-8a97-a051a7940c67",
   "metadata": {},
   "outputs": [],
   "source": [
    "def sigmoid(x):\n",
    "    return 1.0 / (1.0 + np.exp(-x))\n",
    "\n",
    "def sigmoid_prime(x):\n",
    "    return sigmoid(x) * (1.0 - sigmoid(x)) "
   ]
  },
  {
   "cell_type": "code",
   "execution_count": 9,
   "id": "e4588b6e-a3d4-481b-96fb-4089778cadd2",
   "metadata": {},
   "outputs": [],
   "source": [
    "def forward(x, w, b, v, k):\n",
    "    return sigmoid(x.dot(w)+b), sigmoid((sigmoid(x.dot(w)+b)).dot(v)+k)"
   ]
  },
  {
   "cell_type": "code",
   "execution_count": 10,
   "id": "58f53f23-0497-42cf-a5db-8afec7cdda60",
   "metadata": {},
   "outputs": [],
   "source": [
    "def CE_loss(T,Y):\n",
    "    return -np.mean(T*np.log(Y) + (1.0-T)*np.log(1-Y))"
   ]
  },
  {
   "cell_type": "code",
   "execution_count": 11,
   "id": "29880034-e55d-47ea-8b36-529f541814c6",
   "metadata": {},
   "outputs": [],
   "source": [
    "train_losses = []\n",
    "test_losses = []\n",
    "\n",
    "# Define the learning rate\n",
    "lr = 0.001"
   ]
  },
  {
   "cell_type": "markdown",
   "id": "5765f743-d04c-411a-bc12-9ac2eda70a6d",
   "metadata": {},
   "source": [
    "Training with backpropagation"
   ]
  },
  {
   "cell_type": "code",
   "execution_count": 12,
   "id": "16bb2926-4368-4c01-8286-bad3874cae1e",
   "metadata": {},
   "outputs": [],
   "source": [
    "y_train = y_train.reshape(-1,1)\n",
    "y_test = y_test.reshape(-1,1)"
   ]
  },
  {
   "cell_type": "code",
   "execution_count": 13,
   "id": "93b3feb7-6c17-4f6d-9df4-2d9b20e0e141",
   "metadata": {},
   "outputs": [
    {
     "name": "stdout",
     "output_type": "stream",
     "text": [
      "train loss: 0.8418550616252677\n",
      "test loss: 0.8418550616252677\n",
      "train loss: 0.3837768257415195\n",
      "test loss: 0.3837768257415195\n",
      "train loss: 0.20006158288365405\n",
      "test loss: 0.20006158288365405\n",
      "train loss: 0.1276196552371797\n",
      "test loss: 0.1276196552371797\n",
      "train loss: 0.09883479443121956\n",
      "test loss: 0.09883479443121956\n",
      "train loss: 0.08310742215298197\n",
      "test loss: 0.08310742215298197\n",
      "train loss: 0.07259452618120947\n",
      "test loss: 0.07259452618120947\n",
      "train loss: 0.06473002783000335\n",
      "test loss: 0.06473002783000335\n",
      "train loss: 0.05847098751514488\n",
      "test loss: 0.05847098751514488\n",
      "train loss: 0.05330483995921333\n",
      "test loss: 0.05330483995921333\n"
     ]
    }
   ],
   "source": [
    "for i in range(100000):\n",
    "\n",
    "    z_train, y_est_train = forward(x_train, w, b, v, k)\n",
    "    loss_train = CE_loss(y_train, y_est_train)\n",
    "\n",
    "    z_test, y_est_test = forward(x_test, w, b, v, k)\n",
    "    loss_train = CE_loss(y_test, y_est_test)\n",
    "\n",
    "    if i%10000 == 0:\n",
    "        print(f'train loss: {loss_train}')\n",
    "        print(f'test loss: {loss_train}')\n",
    "\n",
    "    test_losses.append(CE_loss(y_test, y_est_test))\n",
    "    train_losses.append(CE_loss(y_train, y_est_train))\n",
    "\n",
    "    # Let us find the error\n",
    "    e = y_est_train-y_train\n",
    "\n",
    "    # Start error backpropagation from the output layer\n",
    "    v -= lr*(z_train.T.dot(e)/(x_train.shape[0]))\n",
    "    k -= lr*(e.sum()/(x_train.shape[0]))\n",
    "\n",
    "    # Hidden layer output for backpropagation\n",
    "    dz = e.dot(v.T)*sigmoid_prime(z_train)\n",
    "\n",
    "    w -= lr*(x_train.T.dot(dz)/len(x_train))\n",
    "    b -= lr*(dz.sum()/len(x_train))"
   ]
  },
  {
   "cell_type": "markdown",
   "id": "1683a619-a695-45cb-a11d-5d4531692d3c",
   "metadata": {},
   "source": [
    "Train and test losses as functions over # of iterations."
   ]
  },
  {
   "cell_type": "code",
   "execution_count": 14,
   "id": "647e1b3b-a419-4262-b3d5-858d96de6078",
   "metadata": {},
   "outputs": [
    {
     "data": {
      "text/plain": [
       "<matplotlib.legend.Legend at 0x2356b658410>"
      ]
     },
     "execution_count": 14,
     "metadata": {},
     "output_type": "execute_result"
    },
    {
     "data": {
      "image/png": "[encoded data removed]",
      "text/plain": [
       "<Figure size 640x480 with 1 Axes>"
      ]
     },
     "metadata": {},
     "output_type": "display_data"
    }
   ],
   "source": [
    "plt.plot(train_losses, 'r', label=\"Train loss\")\n",
    "plt.plot(test_losses, 'g', label=\"Test loss\")\n",
    "plt.title(\"Loss over time\")\n",
    "plt.xlabel(\"# of iterations\")\n",
    "plt.ylabel(\"loss\")\n",
    "plt.grid()\n",
    "plt.legend()"
   ]
  },
  {
   "cell_type": "markdown",
   "id": "b152f8f3-fad5-4654-b54c-3d3bcd1d2db2",
   "metadata": {},
   "source": [
    "# Question 3.\n",
    "\n",
    "**Implement a network pruning technique to optimise a pre-trained neural network.**\n",
    "\n",
    "**Details:** Train a simple dense neural network on a dataset (e.g., Fashion-MNIST) and prune weights below a certain threshold. Compare the performance and efficiency of the pruned network with the original."
   ]
  },
  {
   "cell_type": "code",
   "execution_count": 15,
   "id": "401652a4-81b6-4b74-8348-51915758cc2e",
   "metadata": {},
   "outputs": [],
   "source": [
    "import collections\n",
    "import random\n",
    "import re\n",
    "import string\n",
    "import time\n",
    "import math\n",
    "\n",
    "import nltk\n",
    "import torch\n",
    "import torch.optim as optim\n",
    "from torch import nn\n",
    "import torch.nn.utils.prune as prune\n",
    "import torch.nn.functional as F\n",
    "from torch.utils.data import DataLoader, TensorDataset\n",
    "from torchvision import datasets\n",
    "from torchvision.transforms import ToTensor\n",
    "from torchvision.datasets import FashionMNIST\n",
    "from torchsummary import summary\n",
    "from nltk.corpus import stopwords\n",
    "from nltk.stem.wordnet import WordNetLemmatizer\n",
    "from nltk.tokenize import word_tokenize\n",
    "from sklearn import datasets\n",
    "\n",
    "tqdm.pandas()"
   ]
  },
  {
   "cell_type": "code",
   "execution_count": 16,
   "id": "c6a4155b-4eb5-4591-ba7d-7e78daa01c5a",
   "metadata": {},
   "outputs": [],
   "source": [
    "device = torch.device(\"cuda\" if torch.cuda.is_available() else \"cpu\")"
   ]
  },
  {
   "cell_type": "code",
   "execution_count": 17,
   "id": "25bd1a14-b690-4518-8a33-c3bdc0c6f115",
   "metadata": {},
   "outputs": [],
   "source": [
    "training_data = FashionMNIST(\n",
    "    root=\"data\",\n",
    "    train=True,\n",
    "    download=True,\n",
    "    transform=ToTensor(),\n",
    ")\n",
    "\n",
    "test_data = FashionMNIST(\n",
    "    root=\"data\",\n",
    "    train=False,\n",
    "    download=True,\n",
    "    transform=ToTensor(),\n",
    ")"
   ]
  },
  {
   "cell_type": "markdown",
   "id": "dd38ecad-583a-48dc-92fe-d2abca0cb3eb",
   "metadata": {},
   "source": [
    "Create data loaders and slice data up into batches of 64 instances on which the gradient is to be computed."
   ]
  },
  {
   "cell_type": "code",
   "execution_count": 18,
   "id": "541d6694-d1d7-4cf7-9f19-bb2fce06fa86",
   "metadata": {},
   "outputs": [
    {
     "name": "stdout",
     "output_type": "stream",
     "text": [
      "Shape of X [N, C, H, W]: torch.Size([1024, 1, 28, 28])\n",
      "Shape of y: torch.Size([1024]) torch.int64\n",
      "Number of train batches: 469\n",
      "Number of test batches: 10\n"
     ]
    }
   ],
   "source": [
    "train_batch_size = 128\n",
    "test_batch_size = 1024\n",
    "\n",
    "train_dataloader = DataLoader(training_data, batch_size=train_batch_size)\n",
    "test_dataloader = DataLoader(test_data, batch_size=test_batch_size)\n",
    "\n",
    "for X, y in test_dataloader:\n",
    "    print(f\"Shape of X [N, C, H, W]: {X.shape}\")\n",
    "    print(f\"Shape of y: {y.shape} {y.dtype}\")\n",
    "    print(f\"Number of train batches: {len(train_dataloader)}\")\n",
    "    print(f\"Number of test batches: {len(test_dataloader)}\")\n",
    "    break"
   ]
  },
  {
   "cell_type": "markdown",
   "id": "0fe8bb6d-dcfb-45b9-b51a-66b641194123",
   "metadata": {},
   "source": [
    "In this example I decided to use ReLU activation function to prevent the issue of vanishing gradients during the backpropogation. This network consists of 3 layers:\n",
    "\n",
    "* Pooling layer, that downsizes the data to be 512-dimensional.\n",
    "* Dense (fully connected) layer.\n",
    "* Output layer."
   ]
  },
  {
   "cell_type": "code",
   "execution_count": 19,
   "id": "09346ae2-6c44-4767-a693-6e6144ba5288",
   "metadata": {},
   "outputs": [],
   "source": [
    "class NeuralNetwork(nn.Module):\n",
    "    def __init__(self):\n",
    "        super().__init__()\n",
    "\n",
    "        # Transform 28*28 images into flat 1*784 arrays\n",
    "        self.flatten = nn.Flatten()\n",
    "        self.relu = nn.ReLU()\n",
    "        self.lin1 = nn.Linear(28 * 28, 512)\n",
    "        self.lin2 = nn.Linear(512, 512)\n",
    "        self.lin3 = nn.Linear(512, 10)\n",
    "\n",
    "    def forward(self, x):\n",
    "        logits = self.flatten(x)\n",
    "        logits = self.relu(self.lin1(logits))\n",
    "        logits = self.relu(self.lin2(logits))\n",
    "        logits = self.lin3(logits)\n",
    "        return logits"
   ]
  },
  {
   "cell_type": "markdown",
   "id": "ccb95445-e910-4ed5-aa24-8691666ecfe7",
   "metadata": {},
   "source": [
    "Let's create the network object and display its overall structure:"
   ]
  },
  {
   "cell_type": "code",
   "execution_count": 20,
   "id": "d04d8bc6-eb0f-4709-a04b-e2d4833ab88e",
   "metadata": {},
   "outputs": [
    {
     "name": "stdout",
     "output_type": "stream",
     "text": [
      "----------------------------------------------------------------\n",
      "        Layer (type)               Output Shape         Param #\n",
      "================================================================\n",
      "           Flatten-1                  [-1, 784]               0\n",
      "            Linear-2                  [-1, 512]         401,920\n",
      "              ReLU-3                  [-1, 512]               0\n",
      "            Linear-4                  [-1, 512]         262,656\n",
      "              ReLU-5                  [-1, 512]               0\n",
      "            Linear-6                   [-1, 10]           5,130\n",
      "================================================================\n",
      "Total params: 669,706\n",
      "Trainable params: 669,706\n",
      "Non-trainable params: 0\n",
      "----------------------------------------------------------------\n",
      "Input size (MB): 0.00\n",
      "Forward/backward pass size (MB): 0.02\n",
      "Params size (MB): 2.55\n",
      "Estimated Total Size (MB): 2.58\n",
      "----------------------------------------------------------------\n"
     ]
    }
   ],
   "source": [
    "model = NeuralNetwork().to(device=device)\n",
    "summary(model, (1, 28, 28))"
   ]
  },
  {
   "cell_type": "code",
   "execution_count": 21,
   "id": "7dd033a2-2162-42c7-be8a-d210a11368fb",
   "metadata": {},
   "outputs": [
    {
     "data": {
      "text/plain": [
       "{'training': True,\n",
       " '_parameters': {},\n",
       " '_buffers': {},\n",
       " '_non_persistent_buffers_set': set(),\n",
       " '_backward_pre_hooks': OrderedDict(),\n",
       " '_backward_hooks': OrderedDict(),\n",
       " '_is_full_backward_hook': None,\n",
       " '_forward_hooks': OrderedDict(),\n",
       " '_forward_hooks_with_kwargs': OrderedDict(),\n",
       " '_forward_hooks_always_called': OrderedDict(),\n",
       " '_forward_pre_hooks': OrderedDict(),\n",
       " '_forward_pre_hooks_with_kwargs': OrderedDict(),\n",
       " '_state_dict_hooks': OrderedDict(),\n",
       " '_state_dict_pre_hooks': OrderedDict(),\n",
       " '_load_state_dict_pre_hooks': OrderedDict(),\n",
       " '_load_state_dict_post_hooks': OrderedDict(),\n",
       " '_modules': {'flatten': Flatten(start_dim=1, end_dim=-1),\n",
       "  'relu': ReLU(),\n",
       "  'lin1': Linear(in_features=784, out_features=512, bias=True),\n",
       "  'lin2': Linear(in_features=512, out_features=512, bias=True),\n",
       "  'lin3': Linear(in_features=512, out_features=10, bias=True)}}"
      ]
     },
     "execution_count": 21,
     "metadata": {},
     "output_type": "execute_result"
    }
   ],
   "source": [
    "model.__dict__"
   ]
  },
  {
   "cell_type": "markdown",
   "id": "35acbc8f-26f1-4466-bcc1-5909bb5fe591",
   "metadata": {},
   "source": [
    "Here we use cross-entropy loss function and do the backpropogation with stochastic gradient descend."
   ]
  },
  {
   "cell_type": "code",
   "execution_count": 11,
   "id": "54629ca5-ec40-4dd6-90e4-989464012acb",
   "metadata": {},
   "outputs": [],
   "source": [
    "loss_fn = nn.CrossEntropyLoss()\n",
    "optimizer = optim.SGD(model.parameters(), lr=1e-3)"
   ]
  },
  {
   "cell_type": "code",
   "execution_count": 12,
   "id": "0fce0b36-7d71-4b10-bc95-bef2c3de3a02",
   "metadata": {},
   "outputs": [],
   "source": [
    "def train(dataloader, model, loss_fn, optimizer):\n",
    "    size = len(dataloader.dataset)\n",
    "    model.train()\n",
    "    for batch, (X, y) in enumerate(dataloader):\n",
    "\n",
    "        # Compute prediction error\n",
    "        pred = model(X)\n",
    "        loss = loss_fn(pred, y)\n",
    "\n",
    "        # Backpropagation\n",
    "        loss.backward()\n",
    "        optimizer.step()\n",
    "        optimizer.zero_grad()\n",
    "\n",
    "        if batch % 100 == 0:\n",
    "            loss, current = loss.item(), (batch + 1) * len(X)\n",
    "            print(f\"loss: {loss:>7f}  [{current:>5d}/{size:>5d}]\")"
   ]
  },
  {
   "cell_type": "code",
   "execution_count": 13,
   "id": "fc4dd1a3-551c-45ca-adff-375cb106ef83",
   "metadata": {},
   "outputs": [],
   "source": [
    "def test(dataloader, model, loss_fn):\n",
    "    size = len(dataloader.dataset)\n",
    "    num_batches = len(dataloader)\n",
    "    model.eval()\n",
    "    test_loss, correct = 0, 0\n",
    "    with torch.no_grad():\n",
    "        for X, y in dataloader:\n",
    "            pred = model(X)\n",
    "            test_loss += loss_fn(pred, y).item()\n",
    "            correct += (pred.argmax(1) == y).type(torch.float).sum().item()\n",
    "    test_loss /= num_batches\n",
    "    correct /= size\n",
    "    print(\n",
    "        f\"Test Error:\\n  Accuracy: {(100*correct):>0.1f}%, Avg loss: {test_loss:>8f} \\n\"\n",
    "    )\n",
    "    return correct"
   ]
  },
  {
   "cell_type": "code",
   "execution_count": 14,
   "id": "d5a76c9d-a7a9-4052-bc91-ccb9197b3100",
   "metadata": {},
   "outputs": [
    {
     "name": "stdout",
     "output_type": "stream",
     "text": [
      "Epoch 1\n",
      "-------------------------------\n",
      "loss: 2.304436  [  128/60000]\n",
      "loss: 2.288648  [12928/60000]\n",
      "loss: 2.270493  [25728/60000]\n",
      "loss: 2.255106  [38528/60000]\n",
      "loss: 2.244851  [51328/60000]\n",
      "Test Error:\n",
      "  Accuracy: 36.5%, Avg loss: 2.231294 \n",
      "\n",
      "Epoch 2\n",
      "-------------------------------\n",
      "loss: 2.236107  [  128/60000]\n",
      "loss: 2.212313  [12928/60000]\n",
      "loss: 2.196492  [25728/60000]\n",
      "loss: 2.182191  [38528/60000]\n",
      "loss: 2.166003  [51328/60000]\n",
      "Test Error:\n",
      "  Accuracy: 47.1%, Avg loss: 2.148890 \n",
      "\n",
      "Epoch 3\n",
      "-------------------------------\n",
      "loss: 2.154203  [  128/60000]\n",
      "loss: 2.118073  [12928/60000]\n",
      "loss: 2.098394  [25728/60000]\n",
      "loss: 2.078293  [38528/60000]\n",
      "loss: 2.054468  [51328/60000]\n",
      "Test Error:\n",
      "  Accuracy: 53.4%, Avg loss: 2.029860 \n",
      "\n",
      "Epoch 4\n",
      "-------------------------------\n",
      "loss: 2.032896  [  128/60000]\n",
      "loss: 1.980168  [12928/60000]\n",
      "loss: 1.955227  [25728/60000]\n",
      "loss: 1.923157  [38528/60000]\n",
      "loss: 1.895604  [51328/60000]\n",
      "Test Error:\n",
      "  Accuracy: 55.2%, Avg loss: 1.862541 \n",
      "\n",
      "Epoch 5\n",
      "-------------------------------\n",
      "loss: 1.859460  [  128/60000]\n",
      "loss: 1.794364  [12928/60000]\n",
      "loss: 1.767984  [25728/60000]\n",
      "loss: 1.725912  [38528/60000]\n",
      "loss: 1.707660  [51328/60000]\n",
      "Test Error:\n",
      "  Accuracy: 57.7%, Avg loss: 1.670231 \n",
      "\n",
      "Done!\n"
     ]
    }
   ],
   "source": [
    "epochs = 5\n",
    "test_acc1 = []\n",
    "for t in range(epochs):\n",
    "    print(f\"Epoch {t+1}\\n-------------------------------\")\n",
    "    train(train_dataloader, model, loss_fn, optimizer)\n",
    "    test_acc1 += [test(test_dataloader, model, loss_fn)]\n",
    "print(\"Done!\")"
   ]
  },
  {
   "cell_type": "raw",
   "id": "6b564db4-9457-48c9-b1f3-b9771c009580",
   "metadata": {},
   "source": [
    "prune.random_unstructured(model.lin1, name=\"weight\", amount=0.3)"
   ]
  }
 ],
 "metadata": {
  "kernelspec": {
   "display_name": "Python 3 (ipykernel)",
   "language": "python",
   "name": "python3"
  },
  "language_info": {
   "codemirror_mode": {
    "name": "ipython",
    "version": 3
   },
   "file_extension": ".py",
   "mimetype": "text/x-python",
   "name": "python",
   "nbconvert_exporter": "python",
   "pygments_lexer": "ipython3",
   "version": "3.12.7"
  }
 },
 "nbformat": 4,
 "nbformat_minor": 5
}
