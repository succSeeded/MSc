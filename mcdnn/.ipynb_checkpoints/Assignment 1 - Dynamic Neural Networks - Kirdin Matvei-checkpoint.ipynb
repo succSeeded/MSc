{
 "cells": [
  {
   "cell_type": "markdown",
   "metadata": {
    "colab_type": "text",
    "id": "view-in-github"
   },
   "source": [
    "<a href=\"https://colab.research.google.com/github/succSeeded/MSc/blob/main/mcdnn/Assignment%201%20-%20Dynamic%20Neural%20Networks%20-%20Kirdin%20Matvei.ipynb\" target=\"_parent\"><img src=\"https://colab.research.google.com/assets/colab-badge.svg\" alt=\"Open In Colab\"/></a>"
   ]
  },
  {
   "cell_type": "markdown",
   "metadata": {
    "id": "85TMTuHr7Vst"
   },
   "source": [
    "Notebook made by: **Kirdin Matvei**, e-mail: `mdkirdin@student.hse.ru`"
   ]
  },
  {
   "cell_type": "markdown",
   "metadata": {
    "id": "4wmKzwzP9jcn"
   },
   "source": [
    "# Question 1.\n",
    "\n",
    "**Build and Train a Simple Neural Network.**\n",
    "\n",
    "* Create a basic neural network from scratch using Python and a library of your choice (e.g., TensorFlow, PyTorch, or Keras).\n",
    "* Explain the importance of layers, activation functions, and a training loop for backpropagation and Gradient descent.\n",
    "* Document your code, explain each layer's purpose, and discuss the network's performance. You can use any dataset for explaining."
   ]
  },
  {
   "cell_type": "code",
   "execution_count": 1,
   "metadata": {},
   "outputs": [],
   "source": [
    "%load_ext jupyter_black"
   ]
  },
  {
   "cell_type": "code",
   "execution_count": 2,
   "metadata": {},
   "outputs": [],
   "source": [
    "import math\n",
    "import torch\n",
    "import numpy as np\n",
    "from torch import nn\n",
    "from torch.utils.data import DataLoader\n",
    "from torchvision import datasets\n",
    "from torchvision.transforms import ToTensor\n",
    "from torchvision.datasets import FashionMNIST\n",
    "from torchsummary import summary\n",
    "import matplotlib.pyplot as plt"
   ]
  },
  {
   "cell_type": "markdown",
   "metadata": {},
   "source": [
    "Fix the random generator for the purpose of reproducability."
   ]
  },
  {
   "cell_type": "code",
   "execution_count": 3,
   "metadata": {},
   "outputs": [
    {
     "data": {
      "text/plain": [
       "<torch._C.Generator at 0x28e0c9faa30>"
      ]
     },
     "execution_count": 3,
     "metadata": {},
     "output_type": "execute_result"
    }
   ],
   "source": [
    "random_seed = 42\n",
    "rng = torch.Generator()\n",
    "rng.manual_seed(random_seed)"
   ]
  },
  {
   "cell_type": "markdown",
   "metadata": {},
   "source": [
    "In this example I will use the ```Fashion MNIST``` dataset, as it is readily available and comes with PyTorch. It contains 28x28 images of clothing, which are to be classified into 10 categories: \n",
    "* T-shirt/top &#150; 0,\n",
    "* Trouser &#150; 1,\n",
    "* Pullover &#150; 2,\n",
    "* Dress &#150; 3,\n",
    "* Coat &#150; 4,\n",
    "* Sandal &#150; 5,\n",
    "* Shirt &#150; 6,\n",
    "* Sneaker &#150; 7,\n",
    "* Bag &#150; 8,\n",
    "* Ankle boot &#150; 9."
   ]
  },
  {
   "cell_type": "code",
   "execution_count": 4,
   "metadata": {},
   "outputs": [],
   "source": [
    "training_data = datasets.FashionMNIST(\n",
    "    root=\"data\",\n",
    "    train=True,\n",
    "    download=True,\n",
    "    transform=ToTensor(),\n",
    ")\n",
    "\n",
    "test_data = datasets.FashionMNIST(\n",
    "    root=\"data\",\n",
    "    train=False,\n",
    "    download=True,\n",
    "    transform=ToTensor(),\n",
    ")"
   ]
  },
  {
   "cell_type": "markdown",
   "metadata": {},
   "source": [
    "Create data loaders and slice data up into batches of 64 instances on which the gradient is to be computed."
   ]
  },
  {
   "cell_type": "code",
   "execution_count": 5,
   "metadata": {},
   "outputs": [
    {
     "name": "stdout",
     "output_type": "stream",
     "text": [
      "Shape of X [N, C, H, W]: torch.Size([1024, 1, 28, 28])\n",
      "Shape of y: torch.Size([1024]) torch.int64\n"
     ]
    }
   ],
   "source": [
    "train_batch_size = 128\n",
    "test_batch_size = 1024\n",
    "\n",
    "train_dataloader = DataLoader(training_data, batch_size=train_batch_size, generator=rng)\n",
    "test_dataloader = DataLoader(test_data, batch_size=test_batch_size, generator=rng)\n",
    "\n",
    "for X, y in test_dataloader:\n",
    "    print(f\"Shape of X [N, C, H, W]: {X.shape}\")\n",
    "    print(f\"Shape of y: {y.shape} {y.dtype}\")\n",
    "    break"
   ]
  },
  {
   "cell_type": "markdown",
   "metadata": {},
   "source": [
    "In this example I decided to use ReLU activation function to prevent the issue of vanishing gradients during the backpropogation. This network consists of 3 layers:\n",
    "\n",
    "* Pooling layer, that downsizes the data to be 512-dimensional.\n",
    "* Dense (fully connected) layer.\n",
    "* Output layer."
   ]
  },
  {
   "cell_type": "code",
   "execution_count": 6,
   "metadata": {},
   "outputs": [],
   "source": [
    "class NeuralNetwork(nn.Module):\n",
    "    def __init__(self):\n",
    "        super().__init__()\n",
    "\n",
    "        # Transform 28*28 images into flat 1*784 arrays\n",
    "        self.flatten = nn.Flatten()\n",
    "\n",
    "        self.linear_relu_stack = nn.Sequential(\n",
    "            nn.Linear(28 * 28, 512),\n",
    "            nn.ReLU(),\n",
    "            nn.Linear(512, 512),\n",
    "            nn.ReLU(),\n",
    "            nn.Linear(512, 10),\n",
    "        )\n",
    "\n",
    "    def forward(self, x):\n",
    "        x = self.flatten(x)\n",
    "        logits = self.linear_relu_stack(x)\n",
    "        return logits"
   ]
  },
  {
   "cell_type": "markdown",
   "metadata": {},
   "source": [
    "Let's create the network object and display its overall structure:"
   ]
  },
  {
   "cell_type": "code",
   "execution_count": 7,
   "metadata": {},
   "outputs": [
    {
     "name": "stdout",
     "output_type": "stream",
     "text": [
      "----------------------------------------------------------------\n",
      "        Layer (type)               Output Shape         Param #\n",
      "================================================================\n",
      "           Flatten-1                  [-1, 784]               0\n",
      "            Linear-2                  [-1, 512]         401,920\n",
      "              ReLU-3                  [-1, 512]               0\n",
      "            Linear-4                  [-1, 512]         262,656\n",
      "              ReLU-5                  [-1, 512]               0\n",
      "            Linear-6                   [-1, 10]           5,130\n",
      "================================================================\n",
      "Total params: 669,706\n",
      "Trainable params: 669,706\n",
      "Non-trainable params: 0\n",
      "----------------------------------------------------------------\n",
      "Input size (MB): 0.00\n",
      "Forward/backward pass size (MB): 0.02\n",
      "Params size (MB): 2.55\n",
      "Estimated Total Size (MB): 2.58\n",
      "----------------------------------------------------------------\n"
     ]
    }
   ],
   "source": [
    "model = NeuralNetwork()\n",
    "summary(model, (1, 28, 28))"
   ]
  },
  {
   "cell_type": "markdown",
   "metadata": {},
   "source": [
    "Here we use cross-entropy loss function and do the backpropogation with stochastic gradient descend."
   ]
  },
  {
   "cell_type": "code",
   "execution_count": 8,
   "metadata": {},
   "outputs": [],
   "source": [
    "loss_fn = nn.CrossEntropyLoss()\n",
    "optimizer = torch.optim.SGD(model.parameters(), lr=1e-3)"
   ]
  },
  {
   "cell_type": "code",
   "execution_count": 9,
   "metadata": {},
   "outputs": [],
   "source": [
    "def train(dataloader, model, loss_fn, optimizer):\n",
    "    size = len(dataloader.dataset)\n",
    "    model.train()\n",
    "    for batch, (X, y) in enumerate(dataloader):\n",
    "\n",
    "        # Compute prediction error\n",
    "        pred = model(X)\n",
    "        loss = loss_fn(pred, y)\n",
    "\n",
    "        # Backpropagation\n",
    "        loss.backward()\n",
    "        optimizer.step()\n",
    "        optimizer.zero_grad()\n",
    "\n",
    "        if batch % 100 == 0:\n",
    "            loss, current = loss.item(), (batch + 1) * len(X)\n",
    "            print(f\"loss: {loss:>7f}  [{current:>5d}/{size:>5d}]\")"
   ]
  },
  {
   "cell_type": "code",
   "execution_count": 10,
   "metadata": {},
   "outputs": [],
   "source": [
    "def test(dataloader, model, loss_fn):\n",
    "    size = len(dataloader.dataset)\n",
    "    num_batches = len(dataloader)\n",
    "    model.eval()\n",
    "    test_loss, correct = 0, 0\n",
    "    with torch.no_grad():\n",
    "        for X, y in dataloader:\n",
    "            pred = model(X)\n",
    "            test_loss += loss_fn(pred, y).item()\n",
    "            correct += (pred.argmax(1) == y).type(torch.float).sum().item()\n",
    "    test_loss /= num_batches\n",
    "    correct /= size\n",
    "    print(\n",
    "        f\"Test Error:\\n  Accuracy: {(100*correct):>0.1f}%, Avg loss: {test_loss:>8f} \\n\"\n",
    "    )\n",
    "    return correct"
   ]
  },
  {
   "cell_type": "code",
   "execution_count": 11,
   "metadata": {},
   "outputs": [
    {
     "name": "stdout",
     "output_type": "stream",
     "text": [
      "Epoch 1\n",
      "-------------------------------\n",
      "loss: 2.296760  [  128/60000]\n",
      "loss: 2.278818  [12928/60000]\n",
      "loss: 2.280411  [25728/60000]\n",
      "loss: 2.270170  [38528/60000]\n",
      "loss: 2.244569  [51328/60000]\n",
      "Test Error:\n",
      "  Accuracy: 32.6%, Avg loss: 2.238836 \n",
      "\n",
      "Epoch 2\n",
      "-------------------------------\n",
      "loss: 2.236032  [  128/60000]\n",
      "loss: 2.210918  [12928/60000]\n",
      "loss: 2.213142  [25728/60000]\n",
      "loss: 2.203188  [38528/60000]\n",
      "loss: 2.170315  [51328/60000]\n",
      "Test Error:\n",
      "  Accuracy: 43.1%, Avg loss: 2.161447 \n",
      "\n",
      "Epoch 3\n",
      "-------------------------------\n",
      "loss: 2.160761  [  128/60000]\n",
      "loss: 2.123993  [12928/60000]\n",
      "loss: 2.123912  [25728/60000]\n",
      "loss: 2.110413  [38528/60000]\n",
      "loss: 2.068359  [51328/60000]\n",
      "Test Error:\n",
      "  Accuracy: 56.7%, Avg loss: 2.053065 \n",
      "\n",
      "Epoch 4\n",
      "-------------------------------\n",
      "loss: 2.052167  [  128/60000]\n",
      "loss: 1.999121  [12928/60000]\n",
      "loss: 1.994293  [25728/60000]\n",
      "loss: 1.973079  [38528/60000]\n",
      "loss: 1.925820  [51328/60000]\n",
      "Test Error:\n",
      "  Accuracy: 62.3%, Avg loss: 1.900475 \n",
      "\n",
      "Epoch 5\n",
      "-------------------------------\n",
      "loss: 1.894767  [  128/60000]\n",
      "loss: 1.825074  [12928/60000]\n",
      "loss: 1.817431  [25728/60000]\n",
      "loss: 1.786273  [38528/60000]\n",
      "loss: 1.746906  [51328/60000]\n",
      "Test Error:\n",
      "  Accuracy: 63.1%, Avg loss: 1.710935 \n",
      "\n",
      "Done!\n"
     ]
    }
   ],
   "source": [
    "epochs = 5\n",
    "test_acc1 = []\n",
    "for t in range(epochs):\n",
    "    print(f\"Epoch {t+1}\\n-------------------------------\")\n",
    "    train(train_dataloader, model, loss_fn, optimizer)\n",
    "    test_acc1 += [test(test_dataloader, model, loss_fn)]\n",
    "print(\"Done!\")"
   ]
  },
  {
   "cell_type": "markdown",
   "metadata": {},
   "source": [
    "# Question 2.\n",
    "\n",
    "**Implement Dynamic Routing in a Capsule Network.**\n",
    "\n",
    "* Design a small capsule network with dynamic routing to classify images from the CIFAR-10 or MNIST dataset.\n",
    "* Implement dynamic routing between the primary and digit capsules.\n",
    "* Explain the difference in performance when using dynamic routing versus traditional layers.\n",
    "\n",
    "For this task, I will use ```FashionMNIST``` dataset as well."
   ]
  },
  {
   "cell_type": "markdown",
   "metadata": {},
   "source": [
    "Let's define the squash function, which will be used in dynamic routing instead of ReLU"
   ]
  },
  {
   "cell_type": "code",
   "execution_count": 12,
   "metadata": {},
   "outputs": [],
   "source": [
    "def squash(s):\n",
    "    lengths2 = s.pow(2).sum(dim=2)\n",
    "    lengths = lengths2.sqrt()\n",
    "    s = s * (lengths2 / (1 + lengths2**2) / lengths).view(s.size(0), s.size(1), 1)\n",
    "    return s"
   ]
  },
  {
   "cell_type": "markdown",
   "metadata": {},
   "source": [
    "Then, we can define the dynamic algorythm itself. It takes in the number of capsules in previous layer and in current layer, as well as the number of iterations of routing process. Coefficients b_ij are initialized as zeroes. "
   ]
  },
  {
   "cell_type": "code",
   "execution_count": 13,
   "metadata": {},
   "outputs": [],
   "source": [
    "class Routing(nn.Module):\n",
    "    def __init__(self, input_caps, output_caps, n_iterations):\n",
    "        super(Routing, self).__init__()\n",
    "        self.n_iterations = n_iterations\n",
    "        self.b = nn.Parameter(torch.zeros((input_caps, output_caps)))\n",
    "\n",
    "    def forward(self, u_predict):\n",
    "        batch_size, input_caps, output_caps, output_dim = u_predict.size()\n",
    "\n",
    "        c = nn.functional.softmax(self.b, dim=1)\n",
    "        s = (c.unsqueeze(2) * u_predict).sum(dim=1)\n",
    "        v = squash(s)\n",
    "\n",
    "        if self.n_iterations > 0:\n",
    "            b_batch = self.b.expand((batch_size, input_caps, output_caps))\n",
    "            for r in range(self.n_iterations):\n",
    "                v = v.unsqueeze(1)\n",
    "                b_batch = b_batch + (u_predict * v).sum(-1)\n",
    "\n",
    "                c = nn.functional.softmax(b_batch.view(-1, output_caps), 1).view(\n",
    "                    -1, input_caps, output_caps, 1\n",
    "                )\n",
    "                s = (c * u_predict).sum(dim=1)\n",
    "                v = squash(s)\n",
    "\n",
    "        return v"
   ]
  },
  {
   "cell_type": "markdown",
   "metadata": {},
   "source": [
    "Here, we define primary and digit capsule layers. All layers containing capsules(except for the first one) will be of digit layers. We randomly initialize weights for each capsule in digit layer, and do all the neccessary calculations on their output."
   ]
  },
  {
   "cell_type": "code",
   "execution_count": 14,
   "metadata": {},
   "outputs": [],
   "source": [
    "class PrimaryCapsLayer(nn.Module):\n",
    "    def __init__(self, input_channels, output_caps, output_dim, kernel_size, stride):\n",
    "        super(PrimaryCapsLayer, self).__init__()\n",
    "        self.conv = nn.Conv2d(\n",
    "            input_channels,\n",
    "            output_caps * output_dim,\n",
    "            kernel_size=kernel_size,\n",
    "            stride=stride,\n",
    "        )\n",
    "        self.input_channels = input_channels\n",
    "        self.output_caps = output_caps\n",
    "        self.output_dim = output_dim\n",
    "\n",
    "    def forward(self, input):\n",
    "        out = self.conv(input)\n",
    "        N, C, H, W = out.size()\n",
    "        out = out.view(N, self.output_caps, self.output_dim, H, W)\n",
    "\n",
    "        # will output N x OUT_CAPS x OUT_DIM\n",
    "        out = out.permute(0, 1, 3, 4, 2).contiguous()\n",
    "        out = out.view(out.size(0), -1, out.size(4))\n",
    "        out = squash(out)\n",
    "        return out"
   ]
  },
  {
   "cell_type": "code",
   "execution_count": 15,
   "metadata": {},
   "outputs": [],
   "source": [
    "class DigitCapsLayer(nn.Module):\n",
    "    def __init__(self, input_caps, input_dim, output_caps, output_dim, routing_module):\n",
    "        super(DigitCapsLayer, self).__init__()\n",
    "        self.input_dim = input_dim\n",
    "        self.input_caps = input_caps\n",
    "        self.output_dim = output_dim\n",
    "        self.output_caps = output_caps\n",
    "        self.weights = nn.Parameter(\n",
    "            torch.Tensor(input_caps, input_dim, output_caps * output_dim)\n",
    "        )\n",
    "        self.routing_module = routing_module\n",
    "        self.reset_parameters()\n",
    "\n",
    "    def reset_parameters(self):\n",
    "        stdv = 1.0 / math.sqrt(self.input_caps)\n",
    "        self.weights.data.uniform_(-stdv, stdv)\n",
    "\n",
    "    def forward(self, caps_output):\n",
    "        caps_output = caps_output.unsqueeze(2)\n",
    "        u_predict = caps_output.matmul(self.weights)\n",
    "        u_predict = u_predict.view(\n",
    "            u_predict.size(0), self.input_caps, self.output_caps, self.output_dim\n",
    "        )\n",
    "        v = self.routing_module(u_predict)\n",
    "        return v"
   ]
  },
  {
   "cell_type": "markdown",
   "metadata": {},
   "source": [
    "The CNN itself consists of a convolutional and pooling layers to cut down on calculational costs and capuse layers after that."
   ]
  },
  {
   "cell_type": "code",
   "execution_count": 16,
   "metadata": {},
   "outputs": [],
   "source": [
    "class CapsuleNetwork(nn.Module):\n",
    "    def __init__(self, routing_iterations, n_classes=10):\n",
    "        super(CapsuleNetwork, self).__init__()\n",
    "        self.num_primaryCaps = 32 * 6 * 6\n",
    "        routing_module = Routing(self.num_primaryCaps, n_classes, routing_iterations)\n",
    "        self.CNN_stack = nn.Sequential(\n",
    "            nn.Conv2d(1, 256, kernel_size=3, stride=1),\n",
    "            nn.ReLU(),\n",
    "            nn.MaxPool2d((2, 2)),\n",
    "            PrimaryCapsLayer(256, 32, 8, kernel_size=3, stride=2),  # outputs 6*6\n",
    "            DigitCapsLayer(self.num_primaryCaps, 8, n_classes, 16, routing_module),\n",
    "        )\n",
    "\n",
    "    def forward(self, x):\n",
    "        x = self.CNN_stack(x)\n",
    "        probs = x.pow(2).sum(dim=2).sqrt()\n",
    "        return x, probs"
   ]
  },
  {
   "cell_type": "code",
   "execution_count": 17,
   "metadata": {},
   "outputs": [],
   "source": [
    "model = CapsuleNetwork(3)"
   ]
  },
  {
   "cell_type": "code",
   "execution_count": 18,
   "metadata": {},
   "outputs": [
    {
     "name": "stdout",
     "output_type": "stream",
     "text": [
      "----------------------------------------------------------------\n",
      "        Layer (type)               Output Shape         Param #\n",
      "================================================================\n",
      "            Conv2d-1          [-1, 256, 26, 26]           2,560\n",
      "              ReLU-2          [-1, 256, 26, 26]               0\n",
      "         MaxPool2d-3          [-1, 256, 13, 13]               0\n",
      "            Conv2d-4            [-1, 256, 6, 6]         590,080\n",
      "  PrimaryCapsLayer-5              [-1, 1152, 8]               0\n",
      "           Routing-6               [-1, 10, 16]               0\n",
      "    DigitCapsLayer-7               [-1, 10, 16]               0\n",
      "================================================================\n",
      "Total params: 592,640\n",
      "Trainable params: 592,640\n",
      "Non-trainable params: 0\n",
      "----------------------------------------------------------------\n",
      "Input size (MB): 0.00\n",
      "Forward/backward pass size (MB): 3.11\n",
      "Params size (MB): 2.26\n",
      "Estimated Total Size (MB): 5.38\n",
      "----------------------------------------------------------------\n"
     ]
    }
   ],
   "source": [
    "summary(model, (1, 28, 28))"
   ]
  },
  {
   "cell_type": "markdown",
   "metadata": {},
   "source": [
    "Let's define loss for this model as it was defined in the original paper."
   ]
  },
  {
   "cell_type": "code",
   "execution_count": 19,
   "metadata": {},
   "outputs": [],
   "source": [
    "class MarginLoss(nn.Module):\n",
    "    def __init__(self, m_pos, m_neg, lambda_):\n",
    "        super(MarginLoss, self).__init__()\n",
    "        self.m_pos = m_pos\n",
    "        self.m_neg = m_neg\n",
    "        self.lambda_ = lambda_\n",
    "\n",
    "    def forward(self, lengths, targets):\n",
    "        t = torch.zeros(lengths.size()).long()\n",
    "        t = t.scatter_(1, targets.data.view(-1, 1), 1)\n",
    "        targets = torch.autograd.Variable(t)\n",
    "        losses = targets.float() * nn.functional.relu(self.m_pos - lengths).pow(\n",
    "            2\n",
    "        ) + self.lambda_ * (1.0 - targets.float()) * nn.functional.relu(\n",
    "            lengths - self.m_neg\n",
    "        ).pow(\n",
    "            2\n",
    "        )\n",
    "        return losses.sum()"
   ]
  },
  {
   "cell_type": "code",
   "execution_count": 20,
   "metadata": {},
   "outputs": [],
   "source": [
    "loss_fn = MarginLoss(0.9, 0.1, 0.5)\n",
    "optimizer = torch.optim.Adam(model.parameters(), lr=1e-3)"
   ]
  },
  {
   "cell_type": "code",
   "execution_count": 21,
   "metadata": {},
   "outputs": [],
   "source": [
    "def train(dataloader, model, loss_fn, optimizer):\n",
    "    size = len(dataloader.dataset)\n",
    "    model.train()\n",
    "    for batch, (X, y) in enumerate(dataloader):\n",
    "\n",
    "        X, y = torch.autograd.Variable(X), torch.autograd.Variable(\n",
    "            y, requires_grad=False\n",
    "        )\n",
    "        optimizer.zero_grad()\n",
    "\n",
    "        # Compute prediction error\n",
    "        output, probs = model(X)\n",
    "        loss = loss_fn(probs, y)\n",
    "\n",
    "        # Backpropagation\n",
    "        loss.backward()\n",
    "        optimizer.step()\n",
    "\n",
    "        if batch % 100 == 0:\n",
    "            loss, current = loss.data, (batch + 1) * len(X)\n",
    "            print(f\"loss: {loss:>7f}  [{current:>5d}/{size:>5d}]\")"
   ]
  },
  {
   "cell_type": "code",
   "execution_count": 22,
   "metadata": {},
   "outputs": [],
   "source": [
    "def test(dataloader, model, loss_fn):\n",
    "    size = len(dataloader.dataset)\n",
    "    num_batches = len(dataloader)\n",
    "    model.eval()\n",
    "    test_loss, correct = 0, 0\n",
    "    with torch.no_grad():\n",
    "        for X, y in dataloader:\n",
    "            X, y = torch.autograd.Variable(X), torch.autograd.Variable(y)\n",
    "            output, probs = model(X)\n",
    "            test_loss += loss_fn(probs, y)\n",
    "            # pred = probs.data.max(1, keepdim=True)[\n",
    "            #     1\n",
    "            # ]  # get the index of the max probability\n",
    "            # correct += (\n",
    "            #     pred.eq(y.data.view_as(pred)).cpu().sum()\n",
    "            # )  # number of all correct classifications\n",
    "            correct += (probs.argmax(1) == y).type(torch.float).sum().item()\n",
    "    test_loss /= num_batches\n",
    "    correct /= size\n",
    "    print(\n",
    "        f\"\\nTesting:\\n  Accuracy: {100.0 * correct:>0.1f}%, Avg loss: {test_loss:>4f}\\n\"\n",
    "    )\n",
    "    return correct"
   ]
  },
  {
   "cell_type": "code",
   "execution_count": 23,
   "metadata": {},
   "outputs": [
    {
     "name": "stdout",
     "output_type": "stream",
     "text": [
      "Epoch 1\n",
      "-------------------------------\n",
      "loss: 103.260178  [  128/60000]\n",
      "loss: 28.245445  [12928/60000]\n",
      "loss: 27.956593  [25728/60000]\n",
      "loss: 26.425293  [38528/60000]\n",
      "loss: 27.989502  [51328/60000]\n",
      "\n",
      "Testing:\n",
      "  Accuracy: 87.9%, Avg loss: 213.582596\n",
      "\n",
      "Epoch 2\n",
      "-------------------------------\n",
      "loss: 25.175121  [  128/60000]\n",
      "loss: 25.243233  [12928/60000]\n",
      "loss: 25.300674  [25728/60000]\n",
      "loss: 24.915222  [38528/60000]\n",
      "loss: 26.195204  [51328/60000]\n",
      "\n",
      "Testing:\n",
      "  Accuracy: 89.8%, Avg loss: 208.513519\n",
      "\n",
      "Epoch 3\n",
      "-------------------------------\n",
      "loss: 24.477428  [  128/60000]\n",
      "loss: 24.346073  [12928/60000]\n",
      "loss: 24.553593  [25728/60000]\n",
      "loss: 24.456835  [38528/60000]\n",
      "loss: 25.065624  [51328/60000]\n",
      "\n",
      "Testing:\n",
      "  Accuracy: 90.7%, Avg loss: 204.317108\n",
      "\n",
      "Epoch 4\n",
      "-------------------------------\n",
      "loss: 23.898336  [  128/60000]\n",
      "loss: 23.773193  [12928/60000]\n",
      "loss: 24.169317  [25728/60000]\n",
      "loss: 24.097225  [38528/60000]\n",
      "loss: 24.390648  [51328/60000]\n",
      "\n",
      "Testing:\n",
      "  Accuracy: 91.2%, Avg loss: 201.009460\n",
      "\n",
      "Epoch 5\n",
      "-------------------------------\n",
      "loss: 23.423166  [  128/60000]\n",
      "loss: 23.324677  [12928/60000]\n",
      "loss: 23.751348  [25728/60000]\n",
      "loss: 23.643316  [38528/60000]\n",
      "loss: 23.864738  [51328/60000]\n",
      "\n",
      "Testing:\n",
      "  Accuracy: 91.4%, Avg loss: 200.336456\n",
      "\n",
      "Done!\n"
     ]
    }
   ],
   "source": [
    "epochs = 5\n",
    "test_acc2 = []\n",
    "for t in range(epochs):\n",
    "    print(f\"Epoch {t+1}\\n-------------------------------\")\n",
    "    train(train_dataloader, model, loss_fn, optimizer)\n",
    "    test_acc2 += [test(test_dataloader, model, loss_fn)]\n",
    "print(\"Done!\")"
   ]
  },
  {
   "cell_type": "markdown",
   "metadata": {},
   "source": [
    "Let's compate performances of a regular neural network and CNN in terms of accuracy achieved in testing."
   ]
  },
  {
   "cell_type": "code",
   "execution_count": 34,
   "metadata": {},
   "outputs": [
    {
     "data": {
      "image/png": "[encoded data removed]",
      "text/plain": [
       "<Figure size 640x480 with 1 Axes>"
      ]
     },
     "metadata": {},
     "output_type": "display_data"
    }
   ],
   "source": [
    "plt.subplot()\n",
    "plt.xlabel(\"Epoch\")\n",
    "plt.ylabel(\"Accuracy\")\n",
    "X = np.arange(1, 6)\n",
    "plt.xticks(X)\n",
    "plt.plot(X, np.array(test_acc1).T, c=\"blue\", label=\"Regular NN\")\n",
    "plt.scatter(X, np.array(test_acc1).T, c=\"blue\")\n",
    "plt.plot(X, np.array(test_acc2).T, c=\"orange\", label=\"CNN\")\n",
    "plt.scatter(X, np.array(test_acc2).T, c=\"orange\")\n",
    "plt.legend()\n",
    "plt.show()"
   ]
  },
  {
   "cell_type": "code",
   "execution_count": null,
   "metadata": {},
   "outputs": [],
   "source": []
  }
 ],
 "metadata": {
  "colab": {
   "authorship_tag": "ABX9TyPjhe2WtCOgLZQeXK/m5pHG",
   "include_colab_link": true,
   "provenance": []
  },
  "kernelspec": {
   "display_name": "Python 3 (ipykernel)",
   "language": "python",
   "name": "python3"
  },
  "language_info": {
   "codemirror_mode": {
    "name": "ipython",
    "version": 3
   },
   "file_extension": ".py",
   "mimetype": "text/x-python",
   "name": "python",
   "nbconvert_exporter": "python",
   "pygments_lexer": "ipython3",
   "version": "3.12.7"
  }
 },
 "nbformat": 4,
 "nbformat_minor": 4
}
