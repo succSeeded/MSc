{
 "cells": [
  {
   "cell_type": "markdown",
   "metadata": {
    "colab_type": "text",
    "id": "view-in-github"
   },
   "source": [
    "<a href=\"https://colab.research.google.com/github/succSeeded/MSc/blob/main/mcdnn/Assignment%201%20-%20Dynamic%20Neural%20Networks%20-%20Kirdin%20Matvei.ipynb\" target=\"_parent\"><img src=\"https://colab.research.google.com/assets/colab-badge.svg\" alt=\"Open In Colab\"/></a>"
   ]
  },
  {
   "cell_type": "markdown",
   "metadata": {
    "id": "85TMTuHr7Vst"
   },
   "source": [
    "Notebook made by: **Kirdin Matvei**, e-mail: `mdkirdin@student.hse.ru`"
   ]
  },
  {
   "cell_type": "markdown",
   "metadata": {
    "id": "4wmKzwzP9jcn"
   },
   "source": [
    "# Question 1.\n",
    "\n",
    "**Build and Train a Simple Neural Network.**\n",
    "\n",
    "* Create a basic neural network from scratch using Python and a library of your choice (e.g., TensorFlow, PyTorch, or Keras).\n",
    "* Explain the importance of layers, activation functions, and a training loop for backpropagation and Gradient descent.\n",
    "* Document your code, explain each layer's purpose, and discuss the network's performance. You can use any dataset for explaining."
   ]
  },
  {
   "cell_type": "code",
   "execution_count": 1,
   "metadata": {},
   "outputs": [],
   "source": [
    "%load_ext jupyter_black"
   ]
  },
  {
   "cell_type": "code",
   "execution_count": 2,
   "metadata": {},
   "outputs": [],
   "source": [
    "import torch\n",
    "from torch import nn\n",
    "from torch.utils.data import DataLoader\n",
    "from torchvision import datasets\n",
    "from torchvision.transforms import ToTensor\n",
    "from torchvision.datasets import FashionMNIST"
   ]
  },
  {
   "cell_type": "code",
   "execution_count": 3,
   "metadata": {},
   "outputs": [],
   "source": [
    "random_seed = 42"
   ]
  },
  {
   "cell_type": "code",
   "execution_count": 4,
   "metadata": {},
   "outputs": [],
   "source": [
    "# Download training data from open datasets.\n",
    "training_data = datasets.FashionMNIST(\n",
    "    root=\"data\",\n",
    "    train=True,\n",
    "    download=True,\n",
    "    transform=ToTensor(),\n",
    ")\n",
    "\n",
    "# Download test data from open datasets.\n",
    "test_data = datasets.FashionMNIST(\n",
    "    root=\"data\",\n",
    "    train=False,\n",
    "    download=True,\n",
    "    transform=ToTensor(),\n",
    ")"
   ]
  },
  {
   "cell_type": "code",
   "execution_count": 5,
   "metadata": {},
   "outputs": [
    {
     "name": "stdout",
     "output_type": "stream",
     "text": [
      "Shape of X [N, C, H, W]: torch.Size([64, 1, 28, 28])\n",
      "Shape of y: torch.Size([64]) torch.int64\n"
     ]
    }
   ],
   "source": [
    "batch_size = 64\n",
    "\n",
    "# Create data loaders and slice data up into slices.\n",
    "train_dataloader = DataLoader(training_data, batch_size=batch_size)\n",
    "test_dataloader = DataLoader(test_data, batch_size=batch_size)\n",
    "\n",
    "for X, y in test_dataloader:\n",
    "    print(f\"Shape of X [N, C, H, W]: {X.shape}\")\n",
    "    print(f\"Shape of y: {y.shape} {y.dtype}\")\n",
    "    break"
   ]
  },
  {
   "cell_type": "code",
   "execution_count": 35,
   "metadata": {},
   "outputs": [
    {
     "name": "stdout",
     "output_type": "stream",
     "text": [
      "NeuralNetwork(\n",
      "  (flatten): Flatten(start_dim=1, end_dim=-1)\n",
      "  (linear_relu_stack): Sequential(\n",
      "    (0): Linear(in_features=784, out_features=512, bias=True)\n",
      "    (1): ReLU()\n",
      "    (2): Linear(in_features=512, out_features=512, bias=True)\n",
      "    (3): ReLU()\n",
      "    (4): Linear(in_features=512, out_features=10, bias=True)\n",
      "  )\n",
      ")\n"
     ]
    }
   ],
   "source": [
    "# Define model\n",
    "class NeuralNetwork(nn.Module):\n",
    "    def __init__(self):\n",
    "        super().__init__()\n",
    "\n",
    "        # Transform images into flat arrays\n",
    "        self.flatten = nn.Flatten()\n",
    "\n",
    "        self.linear_relu_stack = nn.Sequential(\n",
    "            nn.Linear(28 * 28, 512),  # reduce image array size\n",
    "            nn.ReLU(),  # introducing nonlinearity\n",
    "            nn.Linear(512, 512),  # hidden layer\n",
    "            nn.ReLU(),  # introducing nonlinearity\n",
    "            nn.Linear(\n",
    "                512, 10\n",
    "            ),  # de-facto classifying layer, as dataset is supposed to have 10 bins\n",
    "        )\n",
    "\n",
    "    def forward(self, x):\n",
    "        x = self.flatten(x)\n",
    "        logits = self.linear_relu_stack(x)\n",
    "        return logits\n",
    "\n",
    "\n",
    "model = NeuralNetwork()\n",
    "print(model)"
   ]
  },
  {
   "cell_type": "code",
   "execution_count": 36,
   "metadata": {},
   "outputs": [],
   "source": [
    "# We use cros-entropy loss function and backpropogation with stochastic gradient descend\n",
    "loss_fn = nn.CrossEntropyLoss()\n",
    "optimizer = torch.optim.SGD(model.parameters(), lr=1e-3)"
   ]
  },
  {
   "cell_type": "code",
   "execution_count": 37,
   "metadata": {},
   "outputs": [],
   "source": [
    "def train(dataloader, model, loss_fn, optimizer):\n",
    "    size = len(dataloader.dataset)\n",
    "    model.train()\n",
    "    for batch, (X, y) in enumerate(dataloader):\n",
    "\n",
    "        # Compute prediction error\n",
    "        pred = model(X)\n",
    "        loss = loss_fn(pred, y)\n",
    "\n",
    "        # Backpropagation\n",
    "        loss.backward()\n",
    "        optimizer.step()\n",
    "        optimizer.zero_grad()\n",
    "\n",
    "        if batch % 100 == 0:\n",
    "            loss, current = loss.item(), (batch + 1) * len(X)\n",
    "            print(f\"loss: {loss:>7f}  [{current:>5d}/{size:>5d}]\")"
   ]
  },
  {
   "cell_type": "code",
   "execution_count": 38,
   "metadata": {},
   "outputs": [],
   "source": [
    "def test(dataloader, model, loss_fn):\n",
    "    size = len(dataloader.dataset)\n",
    "    num_batches = len(dataloader)\n",
    "    model.eval()\n",
    "    test_loss, correct = 0, 0\n",
    "    with torch.no_grad():\n",
    "        for X, y in dataloader:\n",
    "            pred = model(X)\n",
    "            test_loss += loss_fn(pred, y).item()\n",
    "            correct += (pred.argmax(1) == y).type(torch.float).sum().item()\n",
    "    test_loss /= num_batches\n",
    "    correct /= size\n",
    "    print(\n",
    "        f\"Test Error: \\n Accuracy: {(100*correct):>0.1f}%, Avg loss: {test_loss:>8f} \\n\"\n",
    "    )"
   ]
  },
  {
   "cell_type": "code",
   "execution_count": 39,
   "metadata": {},
   "outputs": [
    {
     "name": "stdout",
     "output_type": "stream",
     "text": [
      "Epoch 1\n",
      "-------------------------------\n",
      "loss: 2.299503  [   64/60000]\n",
      "loss: 2.283239  [ 6464/60000]\n",
      "loss: 2.271506  [12864/60000]\n",
      "loss: 2.263354  [19264/60000]\n",
      "loss: 2.249145  [25664/60000]\n",
      "loss: 2.221674  [32064/60000]\n",
      "loss: 2.226054  [38464/60000]\n",
      "loss: 2.194298  [44864/60000]\n",
      "loss: 2.198875  [51264/60000]\n",
      "loss: 2.158381  [57664/60000]\n",
      "Test Error: \n",
      " Accuracy: 47.7%, Avg loss: 2.152166 \n",
      "\n",
      "Epoch 2\n",
      "-------------------------------\n",
      "loss: 2.162576  [   64/60000]\n",
      "loss: 2.148843  [ 6464/60000]\n",
      "loss: 2.097007  [12864/60000]\n",
      "loss: 2.103142  [19264/60000]\n",
      "loss: 2.066339  [25664/60000]\n",
      "loss: 2.002612  [32064/60000]\n",
      "loss: 2.030028  [38464/60000]\n",
      "loss: 1.950078  [44864/60000]\n",
      "loss: 1.956626  [51264/60000]\n",
      "loss: 1.876451  [57664/60000]\n",
      "Test Error: \n",
      " Accuracy: 55.5%, Avg loss: 1.880451 \n",
      "\n",
      "Epoch 3\n",
      "-------------------------------\n",
      "loss: 1.912466  [   64/60000]\n",
      "loss: 1.881532  [ 6464/60000]\n",
      "loss: 1.771186  [12864/60000]\n",
      "loss: 1.796074  [19264/60000]\n",
      "loss: 1.706730  [25664/60000]\n",
      "loss: 1.652453  [32064/60000]\n",
      "loss: 1.670979  [38464/60000]\n",
      "loss: 1.569416  [44864/60000]\n",
      "loss: 1.597310  [51264/60000]\n",
      "loss: 1.489905  [57664/60000]\n",
      "Test Error: \n",
      " Accuracy: 60.1%, Avg loss: 1.514275 \n",
      "\n",
      "Epoch 4\n",
      "-------------------------------\n",
      "loss: 1.579088  [   64/60000]\n",
      "loss: 1.545527  [ 6464/60000]\n",
      "loss: 1.405562  [12864/60000]\n",
      "loss: 1.459445  [19264/60000]\n",
      "loss: 1.360655  [25664/60000]\n",
      "loss: 1.355422  [32064/60000]\n",
      "loss: 1.367530  [38464/60000]\n",
      "loss: 1.284137  [44864/60000]\n",
      "loss: 1.326579  [51264/60000]\n",
      "loss: 1.229839  [57664/60000]\n",
      "Test Error: \n",
      " Accuracy: 62.5%, Avg loss: 1.257108 \n",
      "\n",
      "Epoch 5\n",
      "-------------------------------\n",
      "loss: 1.334578  [   64/60000]\n",
      "loss: 1.314626  [ 6464/60000]\n",
      "loss: 1.159724  [12864/60000]\n",
      "loss: 1.243549  [19264/60000]\n",
      "loss: 1.136219  [25664/60000]\n",
      "loss: 1.165065  [32064/60000]\n",
      "loss: 1.186587  [38464/60000]\n",
      "loss: 1.110142  [44864/60000]\n",
      "loss: 1.156789  [51264/60000]\n",
      "loss: 1.078489  [57664/60000]\n",
      "Test Error: \n",
      " Accuracy: 64.1%, Avg loss: 1.097104 \n",
      "\n",
      "Done!\n"
     ]
    }
   ],
   "source": [
    "epochs = 5\n",
    "for t in range(epochs):\n",
    "    print(f\"Epoch {t+1}\\n-------------------------------\")\n",
    "    train(train_dataloader, model, loss_fn, optimizer)\n",
    "    test(test_dataloader, model, loss_fn)\n",
    "print(\"Done!\")"
   ]
  }
 ],
 "metadata": {
  "colab": {
   "authorship_tag": "ABX9TyPjhe2WtCOgLZQeXK/m5pHG",
   "include_colab_link": true,
   "provenance": []
  },
  "kernelspec": {
   "display_name": "Python 3 (ipykernel)",
   "language": "python",
   "name": "python3"
  },
  "language_info": {
   "codemirror_mode": {
    "name": "ipython",
    "version": 3
   },
   "file_extension": ".py",
   "mimetype": "text/x-python",
   "name": "python",
   "nbconvert_exporter": "python",
   "pygments_lexer": "ipython3",
   "version": "3.12.7"
  }
 },
 "nbformat": 4,
 "nbformat_minor": 4
}
