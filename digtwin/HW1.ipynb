{
 "cells": [
  {
   "cell_type": "markdown",
   "id": "7483c486-256e-4b36-a51f-fc1caa8ef823",
   "metadata": {},
   "source": [
    "# Домашнее задание #1\n",
    "\n",
    "Задачи:\n",
    "1) Отрисовать схему (достаточно 1 слайда) пайплайна работы цифрового двойника для имитационного моделирования изменений в процессе на основе \"соревновательной модели\"\n",
    "2) Написать скрипт на Python для реализации пайплайна работы цифрового двойника для имитационного моделирования изменений в процессе на основе \"соревновательной модели\"\n",
    "\n",
    "\n",
    "Что должен содержать пайплайн:\n",
    "1) Пользователь подает датасет с метриками на вход\n",
    "2) Запускается функция для факторного анализа, оценивающая, значимость влияния каждой метрики (фичи) на каждую метрику (таргет) на основе \"соревновательной модели\"\n",
    "3) Запускается функция AutoML построения ML-моделей для каждой метрики в датасете\n",
    "4) Пользователь задает метрику для изменения\n",
    "5) Функция из пункта 3 пересчитывает значения метрик датасета, при изменении метрики, которую ввёл пользователь\n",
    "6) Запускается функция с AutoML для прогноза (рассматривали на позапрошлом занятии), куда в качестве последних данных по \"факту\" добавляются значения метрик, рассчитанные в 5\n",
    "7) Рассчитываем прогноз показателей с помощью AutoML из пункта 6\n",
    "8) Возвращаемся к пункту 2"
   ]
  },
  {
   "cell_type": "code",
   "execution_count": 1,
   "id": "4442b599-6dda-4ad6-a36b-a74495c7f5e2",
   "metadata": {},
   "outputs": [],
   "source": [
    "import numpy as np\n",
    "import pandas as pd"
   ]
  },
  {
   "cell_type": "code",
   "execution_count": 2,
   "id": "0147d7e4-0955-48ec-93ac-c8165c63f90c",
   "metadata": {},
   "outputs": [],
   "source": [
    "seed = 42\n",
    "np.random.seed(seed)"
   ]
  },
  {
   "cell_type": "code",
   "execution_count": 5,
   "id": "2440cd73-6956-4a61-9488-34e394bf4690",
   "metadata": {},
   "outputs": [
    {
     "data": {
      "text/html": [
       "<div>\n",
       "<style scoped>\n",
       "    .dataframe tbody tr th:only-of-type {\n",
       "        vertical-align: middle;\n",
       "    }\n",
       "\n",
       "    .dataframe tbody tr th {\n",
       "        vertical-align: top;\n",
       "    }\n",
       "\n",
       "    .dataframe thead th {\n",
       "        text-align: right;\n",
       "    }\n",
       "</style>\n",
       "<table border=\"1\" class=\"dataframe\">\n",
       "  <thead>\n",
       "    <tr style=\"text-align: right;\">\n",
       "      <th></th>\n",
       "      <th>target</th>\n",
       "      <th>feature1</th>\n",
       "      <th>feature2</th>\n",
       "      <th>feature3</th>\n",
       "      <th>feature4</th>\n",
       "      <th>feature5</th>\n",
       "    </tr>\n",
       "  </thead>\n",
       "  <tbody>\n",
       "    <tr>\n",
       "      <th>0</th>\n",
       "      <td>37.454012</td>\n",
       "      <td>76.578567</td>\n",
       "      <td>156.550622</td>\n",
       "      <td>-25.033389</td>\n",
       "      <td>138.180529</td>\n",
       "      <td>12.804653</td>\n",
       "    </tr>\n",
       "    <tr>\n",
       "      <th>1</th>\n",
       "      <td>95.071431</td>\n",
       "      <td>742.099437</td>\n",
       "      <td>271.050346</td>\n",
       "      <td>90.508905</td>\n",
       "      <td>368.677414</td>\n",
       "      <td>14.414960</td>\n",
       "    </tr>\n",
       "    <tr>\n",
       "      <th>2</th>\n",
       "      <td>73.199394</td>\n",
       "      <td>1509.418237</td>\n",
       "      <td>223.309975</td>\n",
       "      <td>-20.405368</td>\n",
       "      <td>215.259009</td>\n",
       "      <td>89.052339</td>\n",
       "    </tr>\n",
       "    <tr>\n",
       "      <th>3</th>\n",
       "      <td>59.865848</td>\n",
       "      <td>788.701383</td>\n",
       "      <td>-185.456444</td>\n",
       "      <td>-81.280052</td>\n",
       "      <td>1223.119012</td>\n",
       "      <td>42.752762</td>\n",
       "    </tr>\n",
       "    <tr>\n",
       "      <th>4</th>\n",
       "      <td>15.601864</td>\n",
       "      <td>256.200664</td>\n",
       "      <td>72.327620</td>\n",
       "      <td>-83.803827</td>\n",
       "      <td>112.825236</td>\n",
       "      <td>10.403497</td>\n",
       "    </tr>\n",
       "  </tbody>\n",
       "</table>\n",
       "</div>"
      ],
      "text/plain": [
       "      target     feature1    feature2   feature3     feature4   feature5\n",
       "0  37.454012    76.578567  156.550622 -25.033389   138.180529  12.804653\n",
       "1  95.071431   742.099437  271.050346  90.508905   368.677414  14.414960\n",
       "2  73.199394  1509.418237  223.309975 -20.405368   215.259009  89.052339\n",
       "3  59.865848   788.701383 -185.456444 -81.280052  1223.119012  42.752762\n",
       "4  15.601864   256.200664   72.327620 -83.803827   112.825236  10.403497"
      ]
     },
     "execution_count": 5,
     "metadata": {},
     "output_type": "execute_result"
    }
   ],
   "source": [
    "import os\n",
    "import platform\n",
    "\n",
    "if platform.system() == \"Windows\":\n",
    "    prefix = \"data\\\\\"\n",
    "else:\n",
    "    prefix = \"data/\"\n",
    "\n",
    "if os.path.isfile(prefix + \"frame.csv\"):\n",
    "    df = pd.read_csv(prefix + \"frame.csv\")\n",
    "else:\n",
    "    cols = 20\n",
    "    rows = 1000\n",
    "    df = pd.DataFrame(np.random.rand(rows)*100, columns=['target'])\n",
    "    df[\"feature1\"] = df[\"target\"] * np.random.exponential(10, size=rows) - np.random.exponential(1/3, size=rows)\n",
    "    df[\"feature2\"] = df[\"target\"] * np.random.normal(1, scale=3, size=rows)\n",
    "    df[\"feature3\"] = np.random.uniform(low=df[\"target\"]-6*np.random.rand()*df[\"target\"].max(), high=df[\"target\"]+np.random.rand()*df[\"target\"].min(), size=rows)\n",
    "    df[\"feature4\"] = 1+6*np.random.exponential(df[\"target\"], size=rows)\n",
    "    df[\"feature5\"] = np.random.exponential(np.random.rand(rows)*100, size=rows)\n",
    "    df.to_csv(prefix+\"frame.csv\", index=False)\n",
    "\n",
    "df.head()"
   ]
  },
  {
   "cell_type": "code",
   "execution_count": 6,
   "id": "526d81e7-c6f2-4be9-b5f3-b7473d6b01ad",
   "metadata": {},
   "outputs": [
    {
     "data": {
      "text/plain": [
       "target      1.000000\n",
       "feature1    0.459641\n",
       "feature2    0.126822\n",
       "feature3    0.567200\n",
       "feature4    0.445551\n",
       "feature5    0.046214\n",
       "Name: target, dtype: float64"
      ]
     },
     "execution_count": 6,
     "metadata": {},
     "output_type": "execute_result"
    }
   ],
   "source": [
    "df.corr()['target']"
   ]
  },
  {
   "cell_type": "code",
   "execution_count": null,
   "id": "c3953c14-c3d7-462c-8273-58118e6739b5",
   "metadata": {},
   "outputs": [],
   "source": []
  }
 ],
 "metadata": {
  "kernelspec": {
   "display_name": "Python 3 (ipykernel)",
   "language": "python",
   "name": "python3"
  },
  "language_info": {
   "codemirror_mode": {
    "name": "ipython",
    "version": 3
   },
   "file_extension": ".py",
   "mimetype": "text/x-python",
   "name": "python",
   "nbconvert_exporter": "python",
   "pygments_lexer": "ipython3",
   "version": "3.10.10"
  }
 },
 "nbformat": 4,
 "nbformat_minor": 5
}
