{
 "cells": [
  {
   "cell_type": "code",
   "execution_count": 1,
   "id": "3dad53e7-c6dd-4a5f-b8db-323847e64328",
   "metadata": {},
   "outputs": [],
   "source": [
    "import numpy as np\n",
    "from sklearn.utils._param_validation import (\n",
    "    validate_params, StrOptions\n",
    ")"
   ]
  },
  {
   "cell_type": "code",
   "execution_count": 2,
   "id": "4bab1134-a6ee-400a-bc83-04a9d68af26e",
   "metadata": {},
   "outputs": [],
   "source": [
    "@validate_params(\n",
    "    {\"X\": [\"array-like\"],\n",
    "    \"labels\": [\"array_like\"]},\n",
    "    prefer_skip_nested_validation=True,\n",
    ")\n",
    "def interclust_sld(X, labels):\n",
    "    \"\"\"\n",
    "    Computes the single linkage distance between clusters.\n",
    "\n",
    "    Parameters:\n",
    "    X (array-like): Set of distances between each pair of instances (n_instances, n_instances).\n",
    "    labels (array-like): Set of labels for the vectors (n_instances, ).\n",
    "\n",
    "    Returns:\n",
    "    dist (array-like): Distances between each possible pair of vectors in provided set.\n",
    "    \"\"\"\n",
    "    \n",
    "    if X.shape[0] != labels.shape[0]:\n",
    "        raise ValueError(f\"Invalid label array shape. Must be {X.shape[0]}, got {labels.shape[0]}\")\n",
    "        \n",
    "    n = X.shape[0]\n",
    "    labels_unique = np.unique(labels)\n",
    "    labels_tiled = labels.reshape(-1,1).repeat(n, axis=1)\n",
    "    dist = np.zeros((labels_unique.shape[0], labels_unique.shape[0]))\n",
    "    for i in range(labels_unique.shape[0]):\n",
    "        for j in range(labels_unique.shape[0]):\n",
    "            dist[i, j] = np.min(X[np.logical_and(labels_unique[i] == labels_tiled, labels_unique[j] == labels_tiled.T)]) if i != j else np.inf\n",
    "    return dist"
   ]
  },
  {
   "cell_type": "code",
   "execution_count": 3,
   "id": "4a95eddb-b658-4333-8fbe-56cee95bef9b",
   "metadata": {},
   "outputs": [],
   "source": [
    "@validate_params(\n",
    "    {\"X\": [\"array-like\"],\n",
    "    \"labels\": [\"array_like\"]},\n",
    "    prefer_skip_nested_validation=True,\n",
    ")\n",
    "def intraclust_compdd(X, labels):\n",
    "    \"\"\"\n",
    "    Computes the complete diameter distance for a set cluster.\n",
    "\n",
    "    Parameters:\n",
    "    X (array-like): Set of distances between each pair of instances (n_instances, n_instances).\n",
    "    labels (array-like): Set of labels for the vectors (n_instances, ).\n",
    "\n",
    "    Returns:\n",
    "    dist (array-like): Distances between each possible pair of vectors in provided set.\n",
    "    \"\"\"\n",
    "    \n",
    "    if X.shape[0] != labels.shape[0]:\n",
    "        raise ValueError(f\"Invalid label array shape. Must be {X.shape[0]}, got {labels.shape[0]}\")\n",
    "        \n",
    "    n = X.shape[0]\n",
    "    labels_unique = np.unique(labels)\n",
    "    labels_tiled = labels.reshape(-1,1).repeat(n, axis=1)\n",
    "    dist = np.zeros((labels_unique.shape[0],))\n",
    "    for i in range(labels_unique.shape[0]):\n",
    "        dist[i] = np.max(X[np.logical_and(labels_unique[i] == labels_tiled, labels_unique[i] == labels_tiled.T)])\n",
    "    return dist"
   ]
  },
  {
   "cell_type": "code",
   "execution_count": 4,
   "id": "d2b064c6-4dac-4de5-afe7-8da9837c4c57",
   "metadata": {},
   "outputs": [],
   "source": [
    "from functools import partial\n",
    "\n",
    "\n",
    "@validate_params(\n",
    "    {\"X\": [\"array-like\"],\n",
    "    \"labels\": [\"array-like\"],\n",
    "    \"intraclust_dist\": [None, callable],\n",
    "    \"interclust_dist\": [None, callable],\n",
    "    \"metric\": [None, callable, StrOptions({\"precomputed\"})]},\n",
    "    prefer_skip_nested_validation=True,\n",
    "    )\n",
    "def dunn_score(X, labels, intraclust_dist=None, interclust_dist=None, metric=None):\n",
    "    \"\"\"\n",
    "    Compute the Dunn Index by given within-cluster distances (callable or precomputed) and\n",
    "    between-cluster distances(callable or precomputed).\n",
    "\n",
    "    Parameters:\n",
    "    X (array-like): Set of vectors (n_instances, n_features) or set of distances between vectors (n_instances, n_instances) of `metric` has value 'precomputed'.\n",
    "    labels (array-like): Class labels for each of the vectors(n_instances,).\n",
    "    intraclust_dist (callable): Function that calculates the distance between two objects belonging to same cluster.\n",
    "    interclust_dist (callable): Function that calculates the distance between two objects belonging to two different clusters.\n",
    "    metric (callable, str): The way vector norms are defined.\n",
    "\n",
    "    Returns:\n",
    "    dunn (float): Dunn score.\n",
    "    \"\"\"\n",
    "\n",
    "    if X.shape[0] != labels.shape[0]:\n",
    "        return ValueError(f\"Invalid label array shape. Must be {X.shape[0]}, got {labels.shape[0]}\")\n",
    "    \n",
    "    if metric != \"precomputed\":\n",
    "        n, m = X.shape \n",
    "        norm = metric if callable(metric) else partial(np.linalg.vector_norm, ord=2, axis=1)\n",
    "        distances = norm(X.reshape(n, m, 1).repeat(n, axis=2) - X.reshape(n, m, 1).repeat(n, axis=2).T)\n",
    "    else:\n",
    "        distances = metric\n",
    "\n",
    "    inter_dist = interclust_sld(distances, labels) if interclust_dist is None else interclust_dist(distances, labels)\n",
    "    intra_dist = intraclust_compdd(distances, labels) if intraclust_dist is None else intraclust_dist(distances, labels)\n",
    "    \n",
    "    dunn = np.min(inter_dist) / np.max(intra_dist)\n",
    "    return dunn"
   ]
  },
  {
   "cell_type": "code",
   "execution_count": 5,
   "id": "3fc3e052-1681-42aa-85ad-6ec0d8f04470",
   "metadata": {},
   "outputs": [],
   "source": [
    "from sklearn.datasets import make_blobs\n",
    "from sklearn.cluster import KMeans\n",
    "from sklearn import metrics\n",
    "import matplotlib.pyplot as plt\n",
    "from sklearn.datasets import make_blobs\n",
    "from sklearn.cluster import KMeans"
   ]
  },
  {
   "cell_type": "code",
   "execution_count": 6,
   "id": "bbe577ff-51d3-4736-83ff-4b0c9b59d2e3",
   "metadata": {},
   "outputs": [
    {
     "data": {
      "text/plain": [
       "np.float64(1.3200068371385423)"
      ]
     },
     "execution_count": 6,
     "metadata": {},
     "output_type": "execute_result"
    }
   ],
   "source": [
    "X, y = make_blobs(random_state=42)\n",
    "kmeans = KMeans(n_clusters=3, random_state=42)\n",
    "\n",
    "y_pred = kmeans.fit_predict(X)\n",
    "\n",
    "dunn_score(X, y_pred)"
   ]
  },
  {
   "cell_type": "code",
   "execution_count": 8,
   "id": "5d86785f-7234-49b6-8cd7-8baf5b29adff",
   "metadata": {},
   "outputs": [
    {
     "data": {
      "text/plain": [
       "array([[1, 2, 3],\n",
       "       [4, 5, 6],\n",
       "       [7, 8, 9]])"
      ]
     },
     "execution_count": 8,
     "metadata": {},
     "output_type": "execute_result"
    }
   ],
   "source": [
    "a = np.array([1, 2, 3, 4, 5, 6, 7, 8, 9])\n",
    "b = a.reshape((3, 3))\n",
    "b"
   ]
  },
  {
   "cell_type": "code",
   "execution_count": 9,
   "id": "68dc05ef-39a8-45b8-8fb7-239f7615e0a3",
   "metadata": {},
   "outputs": [
    {
     "data": {
      "text/plain": [
       "array([ 3.74165739,  8.77496439, 13.92838828])"
      ]
     },
     "execution_count": 9,
     "metadata": {},
     "output_type": "execute_result"
    }
   ],
   "source": [
    "np.linalg.norm(b, axis=1)"
   ]
  },
  {
   "cell_type": "code",
   "execution_count": null,
   "id": "1772e404-ab2e-4517-b8be-6e4563e8322c",
   "metadata": {},
   "outputs": [],
   "source": []
  }
 ],
 "metadata": {
  "kernelspec": {
   "display_name": "Python 3 (ipykernel)",
   "language": "python",
   "name": "python3"
  },
  "language_info": {
   "codemirror_mode": {
    "name": "ipython",
    "version": 3
   },
   "file_extension": ".py",
   "mimetype": "text/x-python",
   "name": "python",
   "nbconvert_exporter": "python",
   "pygments_lexer": "ipython3",
   "version": "3.12.7"
  }
 },
 "nbformat": 4,
 "nbformat_minor": 5
}
