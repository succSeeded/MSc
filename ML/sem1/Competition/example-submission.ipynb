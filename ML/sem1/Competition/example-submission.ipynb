{
 "cells": [
  {
   "cell_type": "markdown",
   "metadata": {
    "_cell_guid": "f454356f-b1a6-43a2-bab3-4b055afe317a",
    "_uuid": "67808f25-e4d8-4e50-88f8-0b1be31b3da5"
   },
   "source": [
    "# Brief overview of this study\n",
    "The data comes from the Austin Animal Center, a shelter, and spans from October 1, 2013, to March 2016.\n",
    "\n",
    "### Objective\n",
    "\n",
    "The task is to predict the fate of each animal based on available information. It's essentially a classification task. The classes are: Adoption, Died, Euthanasia, Return to owner, Transfer. \n",
    "\n",
    "We consider all classes equally important regardless of their representation in the dataset. Therefore, the prediction quality is assessed using the macro-averaged F1 score.\n",
    "\n",
    "---\n",
    "\n",
    "**Assignment**\n",
    "\n",
    "Using the exact scheme proposed in this template is optional, but within this notebook, you should develop:\n",
    "\n",
    "- Clear and clean,\n",
    "- Well-commented,\n",
    "- Reproducible (fix all possible random seeds),\n",
    "- Motivated\n",
    "\n",
    "**code** that **generates your best solution**. See competition rules for futher information.\n",
    "\n",
    "\n",
    "### Methods\n",
    "\n",
    "`TODO: Describe your feature preprocessing techniques`\n",
    "\n",
    "`TODO: List the models and parameters you have tried`\n",
    "\n",
    "\n",
    "### Results\n",
    "\n",
    "`TODO: Share observations, success stories, and futile efforts; what interesting things can you say about the dataset? what conclusions can you draw?`\n",
    "\n",
    "---\n"
   ]
  },
  {
   "cell_type": "code",
   "execution_count": 21,
   "metadata": {
    "_cell_guid": "5dfdd948-e8b5-47d6-8e92-f3f1b9dd6c93",
    "_uuid": "0daef8f6-349e-4cb4-a433-d49a4d17c876",
    "collapsed": false,
    "execution": {
     "iopub.execute_input": "2024-10-09T06:35:11.739522Z",
     "iopub.status.busy": "2024-10-09T06:35:11.737612Z",
     "iopub.status.idle": "2024-10-09T06:35:11.759240Z",
     "shell.execute_reply": "2024-10-09T06:35:11.757439Z",
     "shell.execute_reply.started": "2024-10-09T06:35:11.739305Z"
    },
    "jupyter": {
     "outputs_hidden": false
    }
   },
   "outputs": [],
   "source": [
    "# Import necessary libraries\n",
    "import pandas as pd\n",
    "import numpy as np\n",
    "import random\n",
    "import os\n",
    "\n",
    "from sklearn.dummy import DummyClassifier\n",
    "from sklearn.metrics import classification_report\n",
    "\n",
    "# Set fixed random seeds for reproducibility\n",
    "SEED = 42\n",
    "np.random.seed(SEED)\n",
    "random.seed(SEED)"
   ]
  },
  {
   "cell_type": "markdown",
   "metadata": {
    "_cell_guid": "7e144ec1-5107-48bb-81dd-d202845ee92f",
    "_uuid": "ccaa21de-40f1-4d0f-80af-a8db0b312128"
   },
   "source": [
    "## Configurations and Constants\n",
    "(avoid magic numbers in your code)"
   ]
  },
  {
   "cell_type": "code",
   "execution_count": 7,
   "metadata": {
    "_cell_guid": "33f734c7-5729-4e91-a22a-e29d5e0097f1",
    "_uuid": "d282383b-5c7c-4dbb-aed2-81ea120a9c40",
    "collapsed": false,
    "execution": {
     "iopub.execute_input": "2024-10-09T06:32:39.712995Z",
     "iopub.status.busy": "2024-10-09T06:32:39.711744Z",
     "iopub.status.idle": "2024-10-09T06:32:39.743447Z",
     "shell.execute_reply": "2024-10-09T06:32:39.741126Z",
     "shell.execute_reply.started": "2024-10-09T06:32:39.712930Z"
    },
    "jupyter": {
     "outputs_hidden": false
    }
   },
   "outputs": [],
   "source": [
    "OUTCOME2LABEL = {\n",
    "    \"Adoption\": 0,\n",
    "    \"Transfer\": 1,\n",
    "    \"Return_to_owner\": 2,\n",
    "    \"Euthanasia\": 3,\n",
    "    \"Died\": 4,\n",
    "}\n",
    "LABEL2OUTCOME = {v: k for k, v in OUTCOME2LABEL.items()}"
   ]
  },
  {
   "cell_type": "markdown",
   "metadata": {
    "_cell_guid": "268db640-8b8e-49d5-b37b-944b7cfbfd4a",
    "_uuid": "36d452b9-ec4e-45cf-adb7-193dc17e83c9"
   },
   "source": [
    "## Libraries\n",
    "(all imports should ideally be placed here)"
   ]
  },
  {
   "cell_type": "code",
   "execution_count": 8,
   "metadata": {
    "_cell_guid": "f3be76cf-8a28-4dd4-9921-82ae4ce4b240",
    "_uuid": "c20059ad-e28c-4895-93f1-682e9d047e1b",
    "collapsed": false,
    "execution": {
     "iopub.execute_input": "2024-10-09T06:32:39.746396Z",
     "iopub.status.busy": "2024-10-09T06:32:39.745495Z",
     "iopub.status.idle": "2024-10-09T06:32:40.406968Z",
     "shell.execute_reply": "2024-10-09T06:32:40.405616Z",
     "shell.execute_reply.started": "2024-10-09T06:32:39.746329Z"
    },
    "jupyter": {
     "outputs_hidden": false
    }
   },
   "outputs": [],
   "source": [
    "import sklearn\n",
    "import pandas as pd\n",
    "import numpy as np"
   ]
  },
  {
   "cell_type": "markdown",
   "metadata": {
    "_cell_guid": "86969d93-b3ef-41d2-8788-a619908fcfaf",
    "_uuid": "8bac774c-d4d5-458b-9326-f753c67ce6f6"
   },
   "source": [
    "Let's download and examine the data.\n",
    "\n",
    "#### Questions to Consider:\n",
    "- What kind of data transformations might we need?\n",
    "- What are the potential pitfalls in the data preprocessing stage?"
   ]
  },
  {
   "cell_type": "code",
   "execution_count": 9,
   "metadata": {
    "_cell_guid": "1572ca69-c5e0-4186-b080-4a7c886b50cd",
    "_uuid": "534d6d86-757a-490f-89d3-47eea42ab116",
    "collapsed": false,
    "execution": {
     "iopub.execute_input": "2024-10-09T06:32:40.411063Z",
     "iopub.status.busy": "2024-10-09T06:32:40.410458Z",
     "iopub.status.idle": "2024-10-09T06:32:40.576157Z",
     "shell.execute_reply": "2024-10-09T06:32:40.574776Z",
     "shell.execute_reply.started": "2024-10-09T06:32:40.411016Z"
    },
    "jupyter": {
     "outputs_hidden": false
    }
   },
   "outputs": [
    {
     "data": {
      "text/html": [
       "<div>\n",
       "<style scoped>\n",
       "    .dataframe tbody tr th:only-of-type {\n",
       "        vertical-align: middle;\n",
       "    }\n",
       "\n",
       "    .dataframe tbody tr th {\n",
       "        vertical-align: top;\n",
       "    }\n",
       "\n",
       "    .dataframe thead th {\n",
       "        text-align: right;\n",
       "    }\n",
       "</style>\n",
       "<table border=\"1\" class=\"dataframe\">\n",
       "  <thead>\n",
       "    <tr style=\"text-align: right;\">\n",
       "      <th></th>\n",
       "      <th>Name</th>\n",
       "      <th>SexuponOutcome</th>\n",
       "      <th>AnimalType</th>\n",
       "      <th>AgeuponOutcome</th>\n",
       "      <th>Breed</th>\n",
       "      <th>Color</th>\n",
       "      <th>DateTime</th>\n",
       "      <th>Outcome</th>\n",
       "      <th>ID</th>\n",
       "    </tr>\n",
       "  </thead>\n",
       "  <tbody>\n",
       "    <tr>\n",
       "      <th>0</th>\n",
       "      <td>Socks</td>\n",
       "      <td>Neutered Male</td>\n",
       "      <td>Cat</td>\n",
       "      <td>2 months</td>\n",
       "      <td>Domestic Shorthair Mix</td>\n",
       "      <td>Black/White</td>\n",
       "      <td>2014-06-11 14:36:00</td>\n",
       "      <td>0</td>\n",
       "      <td>0</td>\n",
       "    </tr>\n",
       "    <tr>\n",
       "      <th>1</th>\n",
       "      <td>Vera</td>\n",
       "      <td>Intact Female</td>\n",
       "      <td>Cat</td>\n",
       "      <td>1 month</td>\n",
       "      <td>Domestic Shorthair Mix</td>\n",
       "      <td>Tortie/White</td>\n",
       "      <td>2014-07-18 08:10:00</td>\n",
       "      <td>3</td>\n",
       "      <td>1</td>\n",
       "    </tr>\n",
       "    <tr>\n",
       "      <th>2</th>\n",
       "      <td>Biscuit</td>\n",
       "      <td>Neutered Male</td>\n",
       "      <td>Dog</td>\n",
       "      <td>3 months</td>\n",
       "      <td>Chihuahua Shorthair Mix</td>\n",
       "      <td>Yellow</td>\n",
       "      <td>2016-01-02 17:28:00</td>\n",
       "      <td>2</td>\n",
       "      <td>2</td>\n",
       "    </tr>\n",
       "    <tr>\n",
       "      <th>3</th>\n",
       "      <td>Kitten</td>\n",
       "      <td>Spayed Female</td>\n",
       "      <td>Cat</td>\n",
       "      <td>2 years</td>\n",
       "      <td>Domestic Shorthair Mix</td>\n",
       "      <td>Calico</td>\n",
       "      <td>2014-02-19 17:27:00</td>\n",
       "      <td>0</td>\n",
       "      <td>3</td>\n",
       "    </tr>\n",
       "    <tr>\n",
       "      <th>4</th>\n",
       "      <td>NaN</td>\n",
       "      <td>Neutered Male</td>\n",
       "      <td>Cat</td>\n",
       "      <td>2 months</td>\n",
       "      <td>Domestic Shorthair Mix</td>\n",
       "      <td>Orange Tabby</td>\n",
       "      <td>2014-07-21 17:34:00</td>\n",
       "      <td>0</td>\n",
       "      <td>4</td>\n",
       "    </tr>\n",
       "  </tbody>\n",
       "</table>\n",
       "</div>"
      ],
      "text/plain": [
       "      Name SexuponOutcome AnimalType AgeuponOutcome                    Breed  \\\n",
       "0    Socks  Neutered Male        Cat       2 months   Domestic Shorthair Mix   \n",
       "1     Vera  Intact Female        Cat        1 month   Domestic Shorthair Mix   \n",
       "2  Biscuit  Neutered Male        Dog       3 months  Chihuahua Shorthair Mix   \n",
       "3   Kitten  Spayed Female        Cat        2 years   Domestic Shorthair Mix   \n",
       "4      NaN  Neutered Male        Cat       2 months   Domestic Shorthair Mix   \n",
       "\n",
       "          Color             DateTime  Outcome  ID  \n",
       "0   Black/White  2014-06-11 14:36:00        0   0  \n",
       "1  Tortie/White  2014-07-18 08:10:00        3   1  \n",
       "2        Yellow  2016-01-02 17:28:00        2   2  \n",
       "3        Calico  2014-02-19 17:27:00        0   3  \n",
       "4  Orange Tabby  2014-07-21 17:34:00        0   4  "
      ]
     },
     "execution_count": 9,
     "metadata": {},
     "output_type": "execute_result"
    }
   ],
   "source": [
    "# Load the data\n",
    "df_train = pd.read_csv(\"/kaggle/input/animal-shelter-log/train.csv\", encoding=\"utf-8\")\n",
    "df_test = pd.read_csv(\"/kaggle/input/animal-shelter-log/test.csv\", encoding=\"utf-8\")\n",
    "df_train.head(5)"
   ]
  },
  {
   "cell_type": "markdown",
   "metadata": {},
   "source": [
    "### Exploratory Data Analysis"
   ]
  },
  {
   "cell_type": "code",
   "execution_count": 10,
   "metadata": {
    "execution": {
     "iopub.execute_input": "2024-10-09T06:32:40.578097Z",
     "iopub.status.busy": "2024-10-09T06:32:40.577715Z",
     "iopub.status.idle": "2024-10-09T06:32:40.585085Z",
     "shell.execute_reply": "2024-10-09T06:32:40.583600Z",
     "shell.execute_reply.started": "2024-10-09T06:32:40.578059Z"
    }
   },
   "outputs": [],
   "source": [
    "# TODO: explore the data, plot graphs, seek valuable insights, ..."
   ]
  },
  {
   "cell_type": "markdown",
   "metadata": {
    "_cell_guid": "9c9aced5-adca-4814-8d32-5cb5b5f8e8f3",
    "_uuid": "eecdb1ba-c329-4c10-887e-685d8839fece"
   },
   "source": [
    "## Feature Preparation\n",
    "\n",
    "#### Dates\n",
    "\n",
    "Convert date columns into a numerical format. What format is most suitable and why?"
   ]
  },
  {
   "cell_type": "code",
   "execution_count": 11,
   "metadata": {
    "_cell_guid": "eaef4327-6eb2-412f-b593-8bf5482a6119",
    "_uuid": "4be24ac9-6347-41f5-aa98-eae7c35846a4",
    "collapsed": false,
    "execution": {
     "iopub.execute_input": "2024-10-09T06:32:40.587276Z",
     "iopub.status.busy": "2024-10-09T06:32:40.586772Z",
     "iopub.status.idle": "2024-10-09T06:32:40.613838Z",
     "shell.execute_reply": "2024-10-09T06:32:40.612304Z",
     "shell.execute_reply.started": "2024-10-09T06:32:40.587217Z"
    },
    "jupyter": {
     "outputs_hidden": false
    }
   },
   "outputs": [
    {
     "data": {
      "text/plain": [
       "array([1607558400])"
      ]
     },
     "execution_count": 11,
     "metadata": {},
     "output_type": "execute_result"
    }
   ],
   "source": [
    "def pandas_dates2number(date_series: pd.Series):\n",
    "    return pd.to_datetime(date_series).values.astype(np.int64) // 10**9\n",
    "\n",
    "\n",
    "pandas_dates2number(pd.Series([\"2020-12-10\"]))"
   ]
  },
  {
   "cell_type": "markdown",
   "metadata": {},
   "source": [
    "#### Other Features\n",
    "\n",
    "Based on your EDA, preprocess other features."
   ]
  },
  {
   "cell_type": "code",
   "execution_count": 12,
   "metadata": {
    "execution": {
     "iopub.execute_input": "2024-10-09T06:32:40.616695Z",
     "iopub.status.busy": "2024-10-09T06:32:40.615707Z",
     "iopub.status.idle": "2024-10-09T06:32:40.625406Z",
     "shell.execute_reply": "2024-10-09T06:32:40.624311Z",
     "shell.execute_reply.started": "2024-10-09T06:32:40.616607Z"
    }
   },
   "outputs": [],
   "source": [
    "# TODO"
   ]
  },
  {
   "cell_type": "markdown",
   "metadata": {},
   "source": [
    "Combine everything, ensure same preprocessing or train and test. \n",
    "\n",
    "*HINT: use sklearn Pipeline of OneHorEncoder, ...* "
   ]
  },
  {
   "cell_type": "code",
   "execution_count": 13,
   "metadata": {
    "execution": {
     "iopub.execute_input": "2024-10-09T06:32:40.627379Z",
     "iopub.status.busy": "2024-10-09T06:32:40.627000Z",
     "iopub.status.idle": "2024-10-09T06:32:41.005150Z",
     "shell.execute_reply": "2024-10-09T06:32:41.003752Z",
     "shell.execute_reply.started": "2024-10-09T06:32:40.627338Z"
    }
   },
   "outputs": [],
   "source": [
    "# don't be silly, why would one place imports in the middle of his code\n",
    "from sklearn.preprocessing import LabelEncoder, StandardScaler, OneHotEncoder\n",
    "from sklearn.impute import SimpleImputer\n",
    "from sklearn.compose import ColumnTransformer"
   ]
  },
  {
   "cell_type": "code",
   "execution_count": 14,
   "metadata": {
    "execution": {
     "iopub.execute_input": "2024-10-09T06:32:41.007458Z",
     "iopub.status.busy": "2024-10-09T06:32:41.006941Z",
     "iopub.status.idle": "2024-10-09T06:32:41.109085Z",
     "shell.execute_reply": "2024-10-09T06:32:41.107703Z",
     "shell.execute_reply.started": "2024-10-09T06:32:41.007398Z"
    }
   },
   "outputs": [],
   "source": [
    "def prepare_features(df, preprocessor=None):\n",
    "    # apply feature exraction\n",
    "    df[\"DateTime\"] = pandas_dates2number(df[\"DateTime\"])\n",
    "    ...\n",
    "\n",
    "    # drop unsused columns\n",
    "    categorical_features = [\"AnimalType\"]\n",
    "    numerical_features = [\"DateTime\"]\n",
    "    target = None\n",
    "    if \"Outcome\" in df.columns:\n",
    "        target = df[\"Outcome\"]\n",
    "    features = df[categorical_features + numerical_features]\n",
    "\n",
    "    # preprocess\n",
    "    if preprocessor is None:\n",
    "        preprocessor = ColumnTransformer(\n",
    "            transformers=[\n",
    "                (\"num\", StandardScaler(), numerical_features),\n",
    "                (\"cat\", OneHotEncoder(handle_unknown=\"ignore\"), categorical_features),\n",
    "            ]\n",
    "        )\n",
    "        features = preprocessor.fit_transform(df)\n",
    "    else:\n",
    "        features = preprocessor.transform(df)\n",
    "\n",
    "    return features, target, preprocessor\n",
    "\n",
    "\n",
    "X_train, y_train, preprocessor = prepare_features(df_train)\n",
    "X_test, _, _ = prepare_features(df_test)"
   ]
  },
  {
   "cell_type": "code",
   "execution_count": 15,
   "metadata": {
    "execution": {
     "iopub.execute_input": "2024-10-09T06:32:41.110967Z",
     "iopub.status.busy": "2024-10-09T06:32:41.110555Z",
     "iopub.status.idle": "2024-10-09T06:32:41.121092Z",
     "shell.execute_reply": "2024-10-09T06:32:41.119841Z",
     "shell.execute_reply.started": "2024-10-09T06:32:41.110923Z"
    }
   },
   "outputs": [
    {
     "data": {
      "text/plain": [
       "array([[-0.77214914,  1.        ,  0.        ],\n",
       "       [-0.62379129,  1.        ,  0.        ],\n",
       "       [ 1.53052486,  0.        ,  1.        ],\n",
       "       ...,\n",
       "       [-0.05715149,  0.        ,  1.        ],\n",
       "       [-0.69902202,  0.        ,  1.        ],\n",
       "       [-1.45437534,  1.        ,  0.        ]])"
      ]
     },
     "execution_count": 15,
     "metadata": {},
     "output_type": "execute_result"
    }
   ],
   "source": [
    "X_train"
   ]
  },
  {
   "cell_type": "markdown",
   "metadata": {},
   "source": [
    "# Model"
   ]
  },
  {
   "cell_type": "markdown",
   "metadata": {},
   "source": [
    "**TODO:**\n",
    "* train-val split\n",
    "* cross calidation\n",
    "* advanced models and ensembling\n",
    "* hyperparameter tuning"
   ]
  },
  {
   "cell_type": "code",
   "execution_count": 16,
   "metadata": {
    "_cell_guid": "1810b12a-459c-48e3-bf51-dfdcd02be0ef",
    "_uuid": "35e980e2-75cb-456e-abc7-49ce952e4931",
    "collapsed": false,
    "execution": {
     "iopub.execute_input": "2024-10-09T06:32:41.123229Z",
     "iopub.status.busy": "2024-10-09T06:32:41.122820Z",
     "iopub.status.idle": "2024-10-09T06:32:41.148165Z",
     "shell.execute_reply": "2024-10-09T06:32:41.146547Z",
     "shell.execute_reply.started": "2024-10-09T06:32:41.123182Z"
    },
    "jupyter": {
     "outputs_hidden": false
    }
   },
   "outputs": [
    {
     "data": {
      "text/html": [
       "<style>#sk-container-id-1 {color: black;background-color: white;}#sk-container-id-1 pre{padding: 0;}#sk-container-id-1 div.sk-toggleable {background-color: white;}#sk-container-id-1 label.sk-toggleable__label {cursor: pointer;display: block;width: 100%;margin-bottom: 0;padding: 0.3em;box-sizing: border-box;text-align: center;}#sk-container-id-1 label.sk-toggleable__label-arrow:before {content: \"▸\";float: left;margin-right: 0.25em;color: #696969;}#sk-container-id-1 label.sk-toggleable__label-arrow:hover:before {color: black;}#sk-container-id-1 div.sk-estimator:hover label.sk-toggleable__label-arrow:before {color: black;}#sk-container-id-1 div.sk-toggleable__content {max-height: 0;max-width: 0;overflow: hidden;text-align: left;background-color: #f0f8ff;}#sk-container-id-1 div.sk-toggleable__content pre {margin: 0.2em;color: black;border-radius: 0.25em;background-color: #f0f8ff;}#sk-container-id-1 input.sk-toggleable__control:checked~div.sk-toggleable__content {max-height: 200px;max-width: 100%;overflow: auto;}#sk-container-id-1 input.sk-toggleable__control:checked~label.sk-toggleable__label-arrow:before {content: \"▾\";}#sk-container-id-1 div.sk-estimator input.sk-toggleable__control:checked~label.sk-toggleable__label {background-color: #d4ebff;}#sk-container-id-1 div.sk-label input.sk-toggleable__control:checked~label.sk-toggleable__label {background-color: #d4ebff;}#sk-container-id-1 input.sk-hidden--visually {border: 0;clip: rect(1px 1px 1px 1px);clip: rect(1px, 1px, 1px, 1px);height: 1px;margin: -1px;overflow: hidden;padding: 0;position: absolute;width: 1px;}#sk-container-id-1 div.sk-estimator {font-family: monospace;background-color: #f0f8ff;border: 1px dotted black;border-radius: 0.25em;box-sizing: border-box;margin-bottom: 0.5em;}#sk-container-id-1 div.sk-estimator:hover {background-color: #d4ebff;}#sk-container-id-1 div.sk-parallel-item::after {content: \"\";width: 100%;border-bottom: 1px solid gray;flex-grow: 1;}#sk-container-id-1 div.sk-label:hover label.sk-toggleable__label {background-color: #d4ebff;}#sk-container-id-1 div.sk-serial::before {content: \"\";position: absolute;border-left: 1px solid gray;box-sizing: border-box;top: 0;bottom: 0;left: 50%;z-index: 0;}#sk-container-id-1 div.sk-serial {display: flex;flex-direction: column;align-items: center;background-color: white;padding-right: 0.2em;padding-left: 0.2em;position: relative;}#sk-container-id-1 div.sk-item {position: relative;z-index: 1;}#sk-container-id-1 div.sk-parallel {display: flex;align-items: stretch;justify-content: center;background-color: white;position: relative;}#sk-container-id-1 div.sk-item::before, #sk-container-id-1 div.sk-parallel-item::before {content: \"\";position: absolute;border-left: 1px solid gray;box-sizing: border-box;top: 0;bottom: 0;left: 50%;z-index: -1;}#sk-container-id-1 div.sk-parallel-item {display: flex;flex-direction: column;z-index: 1;position: relative;background-color: white;}#sk-container-id-1 div.sk-parallel-item:first-child::after {align-self: flex-end;width: 50%;}#sk-container-id-1 div.sk-parallel-item:last-child::after {align-self: flex-start;width: 50%;}#sk-container-id-1 div.sk-parallel-item:only-child::after {width: 0;}#sk-container-id-1 div.sk-dashed-wrapped {border: 1px dashed gray;margin: 0 0.4em 0.5em 0.4em;box-sizing: border-box;padding-bottom: 0.4em;background-color: white;}#sk-container-id-1 div.sk-label label {font-family: monospace;font-weight: bold;display: inline-block;line-height: 1.2em;}#sk-container-id-1 div.sk-label-container {text-align: center;}#sk-container-id-1 div.sk-container {/* jupyter's `normalize.less` sets `[hidden] { display: none; }` but bootstrap.min.css set `[hidden] { display: none !important; }` so we also need the `!important` here to be able to override the default hidden behavior on the sphinx rendered scikit-learn.org. See: https://github.com/scikit-learn/scikit-learn/issues/21755 */display: inline-block !important;position: relative;}#sk-container-id-1 div.sk-text-repr-fallback {display: none;}</style><div id=\"sk-container-id-1\" class=\"sk-top-container\"><div class=\"sk-text-repr-fallback\"><pre>DummyClassifier(constant=4, strategy=&#x27;constant&#x27;)</pre><b>In a Jupyter environment, please rerun this cell to show the HTML representation or trust the notebook. <br />On GitHub, the HTML representation is unable to render, please try loading this page with nbviewer.org.</b></div><div class=\"sk-container\" hidden><div class=\"sk-item\"><div class=\"sk-estimator sk-toggleable\"><input class=\"sk-toggleable__control sk-hidden--visually\" id=\"sk-estimator-id-1\" type=\"checkbox\" checked><label for=\"sk-estimator-id-1\" class=\"sk-toggleable__label sk-toggleable__label-arrow\">DummyClassifier</label><div class=\"sk-toggleable__content\"><pre>DummyClassifier(constant=4, strategy=&#x27;constant&#x27;)</pre></div></div></div></div></div>"
      ],
      "text/plain": [
       "DummyClassifier(constant=4, strategy='constant')"
      ]
     },
     "execution_count": 16,
     "metadata": {},
     "output_type": "execute_result"
    }
   ],
   "source": [
    "\n",
    "model = DummyClassifier(\n",
    "    strategy=\"constant\",\n",
    "    constant=OUTCOME2LABEL[\"Died\"],  # memento mori\n",
    ")\n",
    "model.fit(X_train, y_train)"
   ]
  },
  {
   "cell_type": "code",
   "execution_count": 23,
   "metadata": {
    "execution": {
     "iopub.execute_input": "2024-10-09T06:35:34.227241Z",
     "iopub.status.busy": "2024-10-09T06:35:34.225882Z",
     "iopub.status.idle": "2024-10-09T06:35:34.293118Z",
     "shell.execute_reply": "2024-10-09T06:35:34.291984Z",
     "shell.execute_reply.started": "2024-10-09T06:35:34.227172Z"
    }
   },
   "outputs": [
    {
     "name": "stdout",
     "output_type": "stream",
     "text": [
      "              precision    recall  f1-score   support\n",
      "\n",
      "           0       0.00      0.00      0.00      7538\n",
      "           1       0.00      0.00      0.00      6595\n",
      "           2       0.00      0.00      0.00      3350\n",
      "           3       0.00      0.00      0.00      1089\n",
      "           4       0.01      1.00      0.01       138\n",
      "\n",
      "    accuracy                           0.01     18710\n",
      "   macro avg       0.00      0.20      0.00     18710\n",
      "weighted avg       0.00      0.01      0.00     18710\n",
      "\n"
     ]
    },
    {
     "name": "stderr",
     "output_type": "stream",
     "text": [
      "/opt/conda/lib/python3.10/site-packages/sklearn/metrics/_classification.py:1344: UndefinedMetricWarning: Precision and F-score are ill-defined and being set to 0.0 in labels with no predicted samples. Use `zero_division` parameter to control this behavior.\n",
      "  _warn_prf(average, modifier, msg_start, len(result))\n",
      "/opt/conda/lib/python3.10/site-packages/sklearn/metrics/_classification.py:1344: UndefinedMetricWarning: Precision and F-score are ill-defined and being set to 0.0 in labels with no predicted samples. Use `zero_division` parameter to control this behavior.\n",
      "  _warn_prf(average, modifier, msg_start, len(result))\n",
      "/opt/conda/lib/python3.10/site-packages/sklearn/metrics/_classification.py:1344: UndefinedMetricWarning: Precision and F-score are ill-defined and being set to 0.0 in labels with no predicted samples. Use `zero_division` parameter to control this behavior.\n",
      "  _warn_prf(average, modifier, msg_start, len(result))\n"
     ]
    }
   ],
   "source": [
    "y_pred = model.predict(X_train)\n",
    "print(classification_report(y_train, y_pred))"
   ]
  },
  {
   "cell_type": "markdown",
   "metadata": {},
   "source": [
    "finally, save test predictions of the best model to csv"
   ]
  },
  {
   "cell_type": "code",
   "execution_count": 17,
   "metadata": {
    "execution": {
     "iopub.execute_input": "2024-10-09T06:32:41.150601Z",
     "iopub.status.busy": "2024-10-09T06:32:41.150099Z",
     "iopub.status.idle": "2024-10-09T06:32:41.158729Z",
     "shell.execute_reply": "2024-10-09T06:32:41.157222Z",
     "shell.execute_reply.started": "2024-10-09T06:32:41.150555Z"
    }
   },
   "outputs": [],
   "source": [
    "preds = model.predict(X_test)"
   ]
  },
  {
   "cell_type": "code",
   "execution_count": 24,
   "metadata": {
    "_cell_guid": "e33b0326-6257-4425-bb72-6c3f983873ab",
    "_uuid": "cd0eb7ac-21ed-44ab-aef2-a8ac666065d6",
    "collapsed": false,
    "execution": {
     "iopub.execute_input": "2024-10-09T06:37:49.424292Z",
     "iopub.status.busy": "2024-10-09T06:37:49.423815Z",
     "iopub.status.idle": "2024-10-09T06:37:49.453221Z",
     "shell.execute_reply": "2024-10-09T06:37:49.451607Z",
     "shell.execute_reply.started": "2024-10-09T06:37:49.424246Z"
    },
    "jupyter": {
     "outputs_hidden": false
    }
   },
   "outputs": [],
   "source": [
    "# Create a submission using constant predictions\n",
    "submission = pd.DataFrame({\"ID\": df_test[\"ID\"], \"Outcome\": preds})\n",
    "\n",
    "# Save the submission\n",
    "submission.to_csv(\"submission.csv\", index=False)"
   ]
  },
  {
   "cell_type": "markdown",
   "metadata": {
    "_cell_guid": "9caa41a8-575e-4b0c-b1d9-5dedecbe26bf",
    "_uuid": "6ec7693d-1821-42f5-beac-00d0a853baaa"
   },
   "source": [
    "### Place for the feedack or meme\n",
    "\n",
    "..."
   ]
  }
 ],
 "metadata": {
  "kaggle": {
   "accelerator": "none",
   "dataSources": [
    {
     "databundleVersionId": 9793277,
     "sourceId": 86372,
     "sourceType": "competition"
    }
   ],
   "dockerImageVersionId": 30786,
   "isGpuEnabled": false,
   "isInternetEnabled": true,
   "language": "python",
   "sourceType": "notebook"
  },
  "kernelspec": {
   "display_name": "Python 3 (ipykernel)",
   "language": "python",
   "name": "python3"
  },
  "language_info": {
   "codemirror_mode": {
    "name": "ipython",
    "version": 3
   },
   "file_extension": ".py",
   "mimetype": "text/x-python",
   "name": "python",
   "nbconvert_exporter": "python",
   "pygments_lexer": "ipython3",
   "version": "3.13.0"
  }
 },
 "nbformat": 4,
 "nbformat_minor": 4
}
