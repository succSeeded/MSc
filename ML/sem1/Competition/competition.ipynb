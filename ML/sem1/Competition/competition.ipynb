{
 "cells": [
  {
   "cell_type": "code",
   "execution_count": 1,
   "id": "6d13e5fa",
   "metadata": {
    "papermill": {
     "duration": 3.053105,
     "end_time": "2024-11-04T12:05:30.916125",
     "exception": false,
     "start_time": "2024-11-04T12:05:27.863020",
     "status": "completed"
    },
    "tags": []
   },
   "outputs": [],
   "source": [
    "import pandas as pd\n",
    "import numpy as np\n",
    "import random\n",
    "import matplotlib.pyplot as plt\n",
    "from sklearn.compose import ColumnTransformer\n",
    "from sklearn.preprocessing import (\n",
    "    OrdinalEncoder,\n",
    "    StandardScaler,\n",
    "    QuantileTransformer,\n",
    ")\n",
    "from sklearn.ensemble import (\n",
    "    HistGradientBoostingClassifier,\n",
    "    RandomForestClassifier,\n",
    "    VotingClassifier,\n",
    ")\n",
    "from sklearn.pipeline import Pipeline\n",
    "from tqdm import tqdm\n",
    "from sklearn.metrics import (\n",
    "    confusion_matrix,\n",
    "    ConfusionMatrixDisplay,\n",
    "    accuracy_score,\n",
    "    classification_report,\n",
    ")\n",
    "import warnings\n",
    "\n",
    "warnings.filterwarnings(\"ignore\")"
   ]
  },
  {
   "cell_type": "code",
   "execution_count": 2,
   "id": "2fd99479",
   "metadata": {
    "papermill": {
     "duration": 0.018398,
     "end_time": "2024-11-04T12:05:30.948541",
     "exception": false,
     "start_time": "2024-11-04T12:05:30.930143",
     "status": "completed"
    },
    "tags": []
   },
   "outputs": [],
   "source": [
    "RANDOM_SEED = 42\n",
    "np.random.seed(RANDOM_SEED)\n",
    "random.seed(RANDOM_SEED)"
   ]
  },
  {
   "cell_type": "markdown",
   "id": "3b46abac",
   "metadata": {
    "papermill": {
     "duration": 0.007144,
     "end_time": "2024-11-04T12:05:30.963847",
     "exception": false,
     "start_time": "2024-11-04T12:05:30.956703",
     "status": "completed"
    },
    "tags": []
   },
   "source": [
    "Загрузим датасет и посмотрим, какие признаки он содержит."
   ]
  },
  {
   "cell_type": "code",
   "execution_count": 3,
   "id": "3700331d",
   "metadata": {
    "papermill": {
     "duration": 0.171524,
     "end_time": "2024-11-04T12:05:31.146345",
     "exception": false,
     "start_time": "2024-11-04T12:05:30.974821",
     "status": "completed"
    },
    "tags": []
   },
   "outputs": [
    {
     "data": {
      "text/html": [
       "<div>\n",
       "<style scoped>\n",
       "    .dataframe tbody tr th:only-of-type {\n",
       "        vertical-align: middle;\n",
       "    }\n",
       "\n",
       "    .dataframe tbody tr th {\n",
       "        vertical-align: top;\n",
       "    }\n",
       "\n",
       "    .dataframe thead th {\n",
       "        text-align: right;\n",
       "    }\n",
       "</style>\n",
       "<table border=\"1\" class=\"dataframe\">\n",
       "  <thead>\n",
       "    <tr style=\"text-align: right;\">\n",
       "      <th></th>\n",
       "      <th>Name</th>\n",
       "      <th>SexuponOutcome</th>\n",
       "      <th>AnimalType</th>\n",
       "      <th>AgeuponOutcome</th>\n",
       "      <th>Breed</th>\n",
       "      <th>Color</th>\n",
       "      <th>DateTime</th>\n",
       "      <th>Outcome</th>\n",
       "      <th>ID</th>\n",
       "    </tr>\n",
       "  </thead>\n",
       "  <tbody>\n",
       "    <tr>\n",
       "      <th>0</th>\n",
       "      <td>Socks</td>\n",
       "      <td>Neutered Male</td>\n",
       "      <td>Cat</td>\n",
       "      <td>2 months</td>\n",
       "      <td>Domestic Shorthair Mix</td>\n",
       "      <td>Black/White</td>\n",
       "      <td>2014-06-11 14:36:00</td>\n",
       "      <td>0</td>\n",
       "      <td>0</td>\n",
       "    </tr>\n",
       "    <tr>\n",
       "      <th>1</th>\n",
       "      <td>Vera</td>\n",
       "      <td>Intact Female</td>\n",
       "      <td>Cat</td>\n",
       "      <td>1 month</td>\n",
       "      <td>Domestic Shorthair Mix</td>\n",
       "      <td>Tortie/White</td>\n",
       "      <td>2014-07-18 08:10:00</td>\n",
       "      <td>3</td>\n",
       "      <td>1</td>\n",
       "    </tr>\n",
       "    <tr>\n",
       "      <th>2</th>\n",
       "      <td>Biscuit</td>\n",
       "      <td>Neutered Male</td>\n",
       "      <td>Dog</td>\n",
       "      <td>3 months</td>\n",
       "      <td>Chihuahua Shorthair Mix</td>\n",
       "      <td>Yellow</td>\n",
       "      <td>2016-01-02 17:28:00</td>\n",
       "      <td>2</td>\n",
       "      <td>2</td>\n",
       "    </tr>\n",
       "    <tr>\n",
       "      <th>3</th>\n",
       "      <td>Kitten</td>\n",
       "      <td>Spayed Female</td>\n",
       "      <td>Cat</td>\n",
       "      <td>2 years</td>\n",
       "      <td>Domestic Shorthair Mix</td>\n",
       "      <td>Calico</td>\n",
       "      <td>2014-02-19 17:27:00</td>\n",
       "      <td>0</td>\n",
       "      <td>3</td>\n",
       "    </tr>\n",
       "    <tr>\n",
       "      <th>4</th>\n",
       "      <td>NaN</td>\n",
       "      <td>Neutered Male</td>\n",
       "      <td>Cat</td>\n",
       "      <td>2 months</td>\n",
       "      <td>Domestic Shorthair Mix</td>\n",
       "      <td>Orange Tabby</td>\n",
       "      <td>2014-07-21 17:34:00</td>\n",
       "      <td>0</td>\n",
       "      <td>4</td>\n",
       "    </tr>\n",
       "  </tbody>\n",
       "</table>\n",
       "</div>"
      ],
      "text/plain": [
       "      Name SexuponOutcome AnimalType AgeuponOutcome                    Breed  \\\n",
       "0    Socks  Neutered Male        Cat       2 months   Domestic Shorthair Mix   \n",
       "1     Vera  Intact Female        Cat        1 month   Domestic Shorthair Mix   \n",
       "2  Biscuit  Neutered Male        Dog       3 months  Chihuahua Shorthair Mix   \n",
       "3   Kitten  Spayed Female        Cat        2 years   Domestic Shorthair Mix   \n",
       "4      NaN  Neutered Male        Cat       2 months   Domestic Shorthair Mix   \n",
       "\n",
       "          Color             DateTime  Outcome  ID  \n",
       "0   Black/White  2014-06-11 14:36:00        0   0  \n",
       "1  Tortie/White  2014-07-18 08:10:00        3   1  \n",
       "2        Yellow  2016-01-02 17:28:00        2   2  \n",
       "3        Calico  2014-02-19 17:27:00        0   3  \n",
       "4  Orange Tabby  2014-07-21 17:34:00        0   4  "
      ]
     },
     "execution_count": 3,
     "metadata": {},
     "output_type": "execute_result"
    }
   ],
   "source": [
    "prefix = \"/kaggle/input/animal-shelter-log/\"\n",
    "\n",
    "import platform\n",
    "\n",
    "if platform.system() == \"Windows\":\n",
    "    prefix = \"data/\"\n",
    "else:\n",
    "    prefix = \"data\\\\\"\n",
    "\n",
    "train = pd.read_csv(prefix + \"train.csv\", encoding=\"utf-8\")\n",
    "data_test = pd.read_csv(prefix + \"test.csv\", encoding=\"utf-8\")\n",
    "train.head(5)"
   ]
  },
  {
   "cell_type": "markdown",
   "id": "8c173faa",
   "metadata": {
    "papermill": {
     "duration": 0.01137,
     "end_time": "2024-11-04T12:05:31.169251",
     "exception": false,
     "start_time": "2024-11-04T12:05:31.157881",
     "status": "completed"
    },
    "tags": []
   },
   "source": [
    "Определим две функции для работы с временными данными: одна из них будет кодировать дату, а другая -- время исхода. Такой выбор основан на том, что могут быть сезоны(например, праздники) когда животных чаще забирают из приютов, а также на том, что исходы могут иметь свое распределение в пределах одного дня(мало кто захочет забрать/усыпить животное в 3 утра)."
   ]
  },
  {
   "cell_type": "code",
   "execution_count": 4,
   "id": "cfda2b31",
   "metadata": {
    "papermill": {
     "duration": 0.02312,
     "end_time": "2024-11-04T12:05:31.201467",
     "exception": false,
     "start_time": "2024-11-04T12:05:31.178347",
     "status": "completed"
    },
    "tags": []
   },
   "outputs": [],
   "source": [
    "def pandas_dates2number(date_series: pd.Series):\n",
    "    return pd.to_datetime(date_series).values.astype(np.int64) // 10**9"
   ]
  },
  {
   "cell_type": "code",
   "execution_count": 5,
   "id": "e22b7bce",
   "metadata": {
    "papermill": {
     "duration": 0.025802,
     "end_time": "2024-11-04T12:05:31.236016",
     "exception": false,
     "start_time": "2024-11-04T12:05:31.210214",
     "status": "completed"
    },
    "tags": []
   },
   "outputs": [],
   "source": [
    "def pandas_times2number(date_series: pd.Series):\n",
    "    dts = pd.to_datetime(date_series).dt\n",
    "    return dts.hour.values.astype(np.int64) * 3600 +  dts.minute.values.astype(np.int64) * 60 + dts.second.values.astype(np.int64)"
   ]
  },
  {
   "cell_type": "markdown",
   "id": "05b09c1f",
   "metadata": {
    "papermill": {
     "duration": 0.007837,
     "end_time": "2024-11-04T12:05:31.252038",
     "exception": false,
     "start_time": "2024-11-04T12:05:31.244201",
     "status": "completed"
    },
    "tags": []
   },
   "source": [
    "Будет логичным преобразовать возраст животного на момент исхода из строки в числа, так как у людей, забирающих животных из приютов, возможно есть предпочтения по возрасту."
   ]
  },
  {
   "cell_type": "code",
   "execution_count": 6,
   "id": "349591d9",
   "metadata": {
    "papermill": {
     "duration": 0.021231,
     "end_time": "2024-11-04T12:05:31.280919",
     "exception": false,
     "start_time": "2024-11-04T12:05:31.259688",
     "status": "completed"
    },
    "tags": []
   },
   "outputs": [],
   "source": [
    "def string_to_age(string):\n",
    "    if not isinstance(string, str):\n",
    "        return string\n",
    "    N, unit = string.split(\" \")\n",
    "    if unit == \"year\" or unit == \"years\":\n",
    "        unit = 365.0\n",
    "    elif unit == \"month\" or unit == \"months\":\n",
    "        unit = 30\n",
    "    elif unit == \"week\" or unit == \"weeks\":\n",
    "        unit = 7\n",
    "    else:\n",
    "        unit = 1\n",
    "    return float(N) * unit"
   ]
  },
  {
   "cell_type": "markdown",
   "id": "dc6b6026",
   "metadata": {
    "papermill": {
     "duration": 0.007225,
     "end_time": "2024-11-04T12:05:31.295819",
     "exception": false,
     "start_time": "2024-11-04T12:05:31.288594",
     "status": "completed"
    },
    "tags": []
   },
   "source": [
    "Будущим хозяевам также важно знать, способно ли животное производить потомство или нет, поэтому стоит создать отдельную фичу, отражающую эту информацию."
   ]
  },
  {
   "cell_type": "code",
   "execution_count": 7,
   "id": "f1b691b9",
   "metadata": {
    "papermill": {
     "duration": 0.020263,
     "end_time": "2024-11-04T12:05:31.323419",
     "exception": false,
     "start_time": "2024-11-04T12:05:31.303156",
     "status": "completed"
    },
    "tags": []
   },
   "outputs": [],
   "source": [
    "def fertility_check(string):\n",
    "    if string == \"Unknown\":\n",
    "        return False\n",
    "    str1 = string.split(\" \")[0]\n",
    "    if str1 == \"Intact\":\n",
    "        return True\n",
    "    else:\n",
    "        return False"
   ]
  },
  {
   "cell_type": "code",
   "execution_count": 8,
   "id": "fedcbf3f",
   "metadata": {
    "papermill": {
     "duration": 0.019189,
     "end_time": "2024-11-04T12:05:31.349863",
     "exception": false,
     "start_time": "2024-11-04T12:05:31.330674",
     "status": "completed"
    },
    "tags": []
   },
   "outputs": [],
   "source": [
    "def sex_check(string):\n",
    "    if string == \"Unknown\":\n",
    "        return string\n",
    "    return string.split(\" \")[1]"
   ]
  },
  {
   "cell_type": "code",
   "execution_count": 9,
   "id": "3f31e4a6",
   "metadata": {
    "papermill": {
     "duration": 0.034486,
     "end_time": "2024-11-04T12:05:31.391735",
     "exception": false,
     "start_time": "2024-11-04T12:05:31.357249",
     "status": "completed"
    },
    "tags": []
   },
   "outputs": [
    {
     "data": {
      "text/plain": [
       "Breed\n",
       "Domestic Shorthair Mix                          6153\n",
       "Pit Bull Mix                                    1318\n",
       "Chihuahua Shorthair Mix                         1225\n",
       "Labrador Retriever Mix                           984\n",
       "Domestic Medium Hair Mix                         590\n",
       "                                                ... \n",
       "Pekingese/Chihuahua Shorthair                      1\n",
       "English Shepherd Mix                               1\n",
       "Collie Rough/Chinese Sharpei                       1\n",
       "American Pit Bull Terrier/Labrador Retriever       1\n",
       "Chihuahua Longhair/West Highland                   1\n",
       "Name: count, Length: 1145, dtype: int64"
      ]
     },
     "execution_count": 9,
     "metadata": {},
     "output_type": "execute_result"
    }
   ],
   "source": [
    "train.Breed.value_counts()"
   ]
  },
  {
   "cell_type": "code",
   "execution_count": 10,
   "id": "04e2109f",
   "metadata": {
    "papermill": {
     "duration": 0.031365,
     "end_time": "2024-11-04T12:05:31.430550",
     "exception": false,
     "start_time": "2024-11-04T12:05:31.399185",
     "status": "completed"
    },
    "tags": []
   },
   "outputs": [
    {
     "data": {
      "text/plain": [
       "count\n",
       "1     597\n",
       "2     158\n",
       "3      68\n",
       "4      56\n",
       "5      44\n",
       "     ... \n",
       "55      1\n",
       "59      1\n",
       "76      1\n",
       "33      1\n",
       "29      1\n",
       "Name: count, Length: 77, dtype: int64"
      ]
     },
     "execution_count": 10,
     "metadata": {},
     "output_type": "execute_result"
    }
   ],
   "source": [
    "train.Breed.value_counts().value_counts()"
   ]
  },
  {
   "cell_type": "markdown",
   "id": "ae0b1f90",
   "metadata": {
    "papermill": {
     "duration": 0.007618,
     "end_time": "2024-11-04T12:05:31.445752",
     "exception": false,
     "start_time": "2024-11-04T12:05:31.438134",
     "status": "completed"
    },
    "tags": []
   },
   "source": [
    "Большое количество расцветок и пород у животных встречаются лишь единожды или дважды на всем датасете, поэтому было бы разумным убрать наименее распространенные окрасы и породы из наших данных."
   ]
  },
  {
   "cell_type": "code",
   "execution_count": 11,
   "id": "3f5c7d47",
   "metadata": {
    "papermill": {
     "duration": 0.036126,
     "end_time": "2024-11-04T12:05:31.489274",
     "exception": false,
     "start_time": "2024-11-04T12:05:31.453148",
     "status": "completed"
    },
    "tags": []
   },
   "outputs": [],
   "source": [
    "common_breeds = train.Breed.value_counts()[train.Breed.value_counts() > 2].index\n",
    "common_colors = train.Color.value_counts()[train.Color.value_counts() > 2].index"
   ]
  },
  {
   "cell_type": "code",
   "execution_count": 12,
   "id": "46e1a5d2",
   "metadata": {
    "papermill": {
     "duration": 0.027175,
     "end_time": "2024-11-04T12:05:31.526971",
     "exception": false,
     "start_time": "2024-11-04T12:05:31.499796",
     "status": "completed"
    },
    "tags": []
   },
   "outputs": [],
   "source": [
    "def clean_dataframe(df):\n",
    "\n",
    "    df.index = df.ID\n",
    "\n",
    "    df[\"Breed\"] = df.Breed.map(lambda x: x if x in common_breeds else \"Other\")\n",
    "    df[\"Color\"] = df.Color.map(lambda x: x if x in common_colors else \"Other\")\n",
    "\n",
    "    # У этого поля уже есть категория Unknown, поэтому все пропуски заполняем ей\n",
    "    df[\"SexuponOutcome\"].fillna(\"Unknown\", inplace=True)\n",
    "    \n",
    "    df[\"IsFertile\"] = df[\"SexuponOutcome\"].map(lambda x: fertility_check(x))\n",
    "    df[\"SexuponOutcome\"] = df[\"SexuponOutcome\"].map(lambda x: sex_check(x))\n",
    "\n",
    "    df[\"Time\"] = pandas_times2number(df.DateTime)\n",
    "    df[\"DateTime\"] = pandas_dates2number(df.DateTime)\n",
    "    df[\"AgeuponOutcome\"] = df.AgeuponOutcome.map(lambda x: string_to_age(x))\n",
    "    median = df[\"AgeuponOutcome\"][df[\"AgeuponOutcome\"].notna()].median()\n",
    "    df[\"AgeuponOutcome\"].fillna(median, inplace=True)\n",
    "\n",
    "    # Разделяем животных на возрастные группы. Кошки и собаки имеют примерно одинаковые\n",
    "    # продолжительности жизни и скорость взросления, поэтому за источник была взята\n",
    "    # таблица из сайта https://thecatdoctor.co.uk/cat-health/feline-life-stages/\n",
    "\n",
    "    bins = [-1, 180, 730, 3650, np.inf]\n",
    "    labels = [\"juvenile\", \"young\", \"adult\", \"old\"]\n",
    "    df[\"AgeGroup\"] = pd.cut(df[\"AgeuponOutcome\"], bins=bins, labels=labels)\n",
    "\n",
    "    return df.drop([\"ID\", \"Name\"], axis=1)"
   ]
  },
  {
   "cell_type": "code",
   "execution_count": 13,
   "id": "8792df09",
   "metadata": {
    "papermill": {
     "duration": 0.189953,
     "end_time": "2024-11-04T12:05:31.725216",
     "exception": false,
     "start_time": "2024-11-04T12:05:31.535263",
     "status": "completed"
    },
    "tags": []
   },
   "outputs": [],
   "source": [
    "train = clean_dataframe(train)\n",
    "data_test = clean_dataframe(data_test)"
   ]
  },
  {
   "cell_type": "code",
   "execution_count": 14,
   "id": "d7f85ca5",
   "metadata": {
    "papermill": {
     "duration": 0.03116,
     "end_time": "2024-11-04T12:05:31.768071",
     "exception": false,
     "start_time": "2024-11-04T12:05:31.736911",
     "status": "completed"
    },
    "tags": []
   },
   "outputs": [
    {
     "data": {
      "text/html": [
       "<div>\n",
       "<style scoped>\n",
       "    .dataframe tbody tr th:only-of-type {\n",
       "        vertical-align: middle;\n",
       "    }\n",
       "\n",
       "    .dataframe tbody tr th {\n",
       "        vertical-align: top;\n",
       "    }\n",
       "\n",
       "    .dataframe thead th {\n",
       "        text-align: right;\n",
       "    }\n",
       "</style>\n",
       "<table border=\"1\" class=\"dataframe\">\n",
       "  <thead>\n",
       "    <tr style=\"text-align: right;\">\n",
       "      <th></th>\n",
       "      <th>SexuponOutcome</th>\n",
       "      <th>AnimalType</th>\n",
       "      <th>AgeuponOutcome</th>\n",
       "      <th>Breed</th>\n",
       "      <th>Color</th>\n",
       "      <th>DateTime</th>\n",
       "      <th>Outcome</th>\n",
       "      <th>IsFertile</th>\n",
       "      <th>Time</th>\n",
       "      <th>AgeGroup</th>\n",
       "    </tr>\n",
       "    <tr>\n",
       "      <th>ID</th>\n",
       "      <th></th>\n",
       "      <th></th>\n",
       "      <th></th>\n",
       "      <th></th>\n",
       "      <th></th>\n",
       "      <th></th>\n",
       "      <th></th>\n",
       "      <th></th>\n",
       "      <th></th>\n",
       "      <th></th>\n",
       "    </tr>\n",
       "  </thead>\n",
       "  <tbody>\n",
       "    <tr>\n",
       "      <th>0</th>\n",
       "      <td>Male</td>\n",
       "      <td>Cat</td>\n",
       "      <td>60.0</td>\n",
       "      <td>Domestic Shorthair Mix</td>\n",
       "      <td>Black/White</td>\n",
       "      <td>1402497360</td>\n",
       "      <td>0</td>\n",
       "      <td>False</td>\n",
       "      <td>52560</td>\n",
       "      <td>juvenile</td>\n",
       "    </tr>\n",
       "    <tr>\n",
       "      <th>1</th>\n",
       "      <td>Female</td>\n",
       "      <td>Cat</td>\n",
       "      <td>30.0</td>\n",
       "      <td>Domestic Shorthair Mix</td>\n",
       "      <td>Tortie/White</td>\n",
       "      <td>1405671000</td>\n",
       "      <td>3</td>\n",
       "      <td>True</td>\n",
       "      <td>29400</td>\n",
       "      <td>juvenile</td>\n",
       "    </tr>\n",
       "    <tr>\n",
       "      <th>2</th>\n",
       "      <td>Male</td>\n",
       "      <td>Dog</td>\n",
       "      <td>90.0</td>\n",
       "      <td>Chihuahua Shorthair Mix</td>\n",
       "      <td>Yellow</td>\n",
       "      <td>1451755680</td>\n",
       "      <td>2</td>\n",
       "      <td>False</td>\n",
       "      <td>62880</td>\n",
       "      <td>juvenile</td>\n",
       "    </tr>\n",
       "    <tr>\n",
       "      <th>3</th>\n",
       "      <td>Female</td>\n",
       "      <td>Cat</td>\n",
       "      <td>730.0</td>\n",
       "      <td>Domestic Shorthair Mix</td>\n",
       "      <td>Calico</td>\n",
       "      <td>1392830820</td>\n",
       "      <td>0</td>\n",
       "      <td>False</td>\n",
       "      <td>62820</td>\n",
       "      <td>young</td>\n",
       "    </tr>\n",
       "    <tr>\n",
       "      <th>4</th>\n",
       "      <td>Male</td>\n",
       "      <td>Cat</td>\n",
       "      <td>60.0</td>\n",
       "      <td>Domestic Shorthair Mix</td>\n",
       "      <td>Orange Tabby</td>\n",
       "      <td>1405964040</td>\n",
       "      <td>0</td>\n",
       "      <td>False</td>\n",
       "      <td>63240</td>\n",
       "      <td>juvenile</td>\n",
       "    </tr>\n",
       "  </tbody>\n",
       "</table>\n",
       "</div>"
      ],
      "text/plain": [
       "   SexuponOutcome AnimalType  AgeuponOutcome                    Breed  \\\n",
       "ID                                                                      \n",
       "0            Male        Cat            60.0   Domestic Shorthair Mix   \n",
       "1          Female        Cat            30.0   Domestic Shorthair Mix   \n",
       "2            Male        Dog            90.0  Chihuahua Shorthair Mix   \n",
       "3          Female        Cat           730.0   Domestic Shorthair Mix   \n",
       "4            Male        Cat            60.0   Domestic Shorthair Mix   \n",
       "\n",
       "           Color    DateTime  Outcome  IsFertile   Time  AgeGroup  \n",
       "ID                                                                 \n",
       "0    Black/White  1402497360        0      False  52560  juvenile  \n",
       "1   Tortie/White  1405671000        3       True  29400  juvenile  \n",
       "2         Yellow  1451755680        2      False  62880  juvenile  \n",
       "3         Calico  1392830820        0      False  62820     young  \n",
       "4   Orange Tabby  1405964040        0      False  63240  juvenile  "
      ]
     },
     "execution_count": 14,
     "metadata": {},
     "output_type": "execute_result"
    }
   ],
   "source": [
    "train.head()"
   ]
  },
  {
   "cell_type": "code",
   "execution_count": 15,
   "id": "057b0d18",
   "metadata": {
    "papermill": {
     "duration": 0.027595,
     "end_time": "2024-11-04T12:05:31.806375",
     "exception": false,
     "start_time": "2024-11-04T12:05:31.778780",
     "status": "completed"
    },
    "tags": []
   },
   "outputs": [
    {
     "data": {
      "text/plain": [
       "Breed\n",
       "Domestic Shorthair Mix                        6153\n",
       "Pit Bull Mix                                  1318\n",
       "Chihuahua Shorthair Mix                       1225\n",
       "Labrador Retriever Mix                         984\n",
       "Other                                          913\n",
       "                                              ... \n",
       "Rat Terrier/Beagle                               3\n",
       "Jack Russell Terrier/Australian Cattle Dog       3\n",
       "Rat Terrier/Cardigan Welsh Corgi                 3\n",
       "Jindo Mix                                        3\n",
       "Siberian Husky/German Shepherd                   3\n",
       "Name: count, Length: 391, dtype: int64"
      ]
     },
     "execution_count": 15,
     "metadata": {},
     "output_type": "execute_result"
    }
   ],
   "source": [
    "train.Breed.value_counts()"
   ]
  },
  {
   "cell_type": "code",
   "execution_count": 16,
   "id": "03bd9bd2",
   "metadata": {
    "papermill": {
     "duration": 0.354054,
     "end_time": "2024-11-04T12:05:32.168741",
     "exception": false,
     "start_time": "2024-11-04T12:05:31.814687",
     "status": "completed"
    },
    "tags": []
   },
   "outputs": [
    {
     "data": {
      "text/plain": [
       "<Axes: >"
      ]
     },
     "execution_count": 16,
     "metadata": {},
     "output_type": "execute_result"
    },
    {
     "data": {
      "image/png": "[encoded data removed]",
      "text/plain": [
       "<Figure size 640x480 with 1 Axes>"
      ]
     },
     "metadata": {},
     "output_type": "display_data"
    }
   ],
   "source": [
    "train.AgeuponOutcome.hist()"
   ]
  },
  {
   "cell_type": "code",
   "execution_count": 17,
   "id": "c5b5c0f7",
   "metadata": {
    "papermill": {
     "duration": 0.021437,
     "end_time": "2024-11-04T12:05:32.199370",
     "exception": false,
     "start_time": "2024-11-04T12:05:32.177933",
     "status": "completed"
    },
    "tags": []
   },
   "outputs": [
    {
     "data": {
      "text/plain": [
       "np.float64(365.0)"
      ]
     },
     "execution_count": 17,
     "metadata": {},
     "output_type": "execute_result"
    }
   ],
   "source": [
    "train.AgeuponOutcome.median()"
   ]
  },
  {
   "cell_type": "code",
   "execution_count": 18,
   "id": "5a3810ac",
   "metadata": {
    "papermill": {
     "duration": 0.277345,
     "end_time": "2024-11-04T12:05:32.485087",
     "exception": false,
     "start_time": "2024-11-04T12:05:32.207742",
     "status": "completed"
    },
    "tags": []
   },
   "outputs": [
    {
     "data": {
      "text/plain": [
       "<Axes: >"
      ]
     },
     "execution_count": 18,
     "metadata": {},
     "output_type": "execute_result"
    },
    {
     "data": {
      "image/png": "[encoded data removed]",
      "text/plain": [
       "<Figure size 640x480 with 1 Axes>"
      ]
     },
     "metadata": {},
     "output_type": "display_data"
    }
   ],
   "source": [
    "train.AgeGroup.hist()"
   ]
  },
  {
   "cell_type": "code",
   "execution_count": 19,
   "id": "5a2f1648",
   "metadata": {
    "papermill": {
     "duration": 0.315303,
     "end_time": "2024-11-04T12:05:32.809269",
     "exception": false,
     "start_time": "2024-11-04T12:05:32.493966",
     "status": "completed"
    },
    "tags": []
   },
   "outputs": [
    {
     "data": {
      "text/plain": [
       "<Axes: >"
      ]
     },
     "execution_count": 19,
     "metadata": {},
     "output_type": "execute_result"
    },
    {
     "data": {
      "image/png": "[encoded data removed]",
      "text/plain": [
       "<Figure size 640x480 with 1 Axes>"
      ]
     },
     "metadata": {},
     "output_type": "display_data"
    }
   ],
   "source": [
    "train.Time.hist(bins=20)"
   ]
  },
  {
   "cell_type": "code",
   "execution_count": 20,
   "id": "fbf78584",
   "metadata": {
    "papermill": {
     "duration": 0.336061,
     "end_time": "2024-11-04T12:05:33.154996",
     "exception": false,
     "start_time": "2024-11-04T12:05:32.818935",
     "status": "completed"
    },
    "tags": []
   },
   "outputs": [
    {
     "data": {
      "text/plain": [
       "<Axes: >"
      ]
     },
     "execution_count": 20,
     "metadata": {},
     "output_type": "execute_result"
    },
    {
     "data": {
      "image/png": "[encoded data removed]",
      "text/plain": [
       "<Figure size 640x480 with 1 Axes>"
      ]
     },
     "metadata": {},
     "output_type": "display_data"
    }
   ],
   "source": [
    "train.DateTime.hist(bins=20)"
   ]
  },
  {
   "cell_type": "markdown",
   "id": "2f92c4b6",
   "metadata": {
    "papermill": {
     "duration": 0.012555,
     "end_time": "2024-11-04T12:05:33.178359",
     "exception": false,
     "start_time": "2024-11-04T12:05:33.165804",
     "status": "completed"
    },
    "tags": []
   },
   "source": [
    "Для преобразования дат используем ```QuantileTransformer```, т.к. эти данные имеют периодическую природу(т.е. распределены мультимодально), время исхода и возраст на момент исхода могут быть приведены к стандратному распределению. Остальные признаки были закодированы ординально, т.к. при таком кодировании ```HistGradientBoostingClassifier``` работает гораздо лучше([источник](https://scikit-learn.org/stable/auto_examples/ensemble/plot_gradient_boosting_categorical.html))."
   ]
  },
  {
   "cell_type": "code",
   "execution_count": 21,
   "id": "2ab7a4f4",
   "metadata": {
    "papermill": {
     "duration": 0.028922,
     "end_time": "2024-11-04T12:05:33.219871",
     "exception": false,
     "start_time": "2024-11-04T12:05:33.190949",
     "status": "completed"
    },
    "tags": []
   },
   "outputs": [],
   "source": [
    "cat_cols = [\"IsFertile\", \"SexuponOutcome\", \"AnimalType\", \"AgeGroup\", \"Breed\", \"Color\"]\n",
    "std_cols = [\"AgeuponOutcome\", \"Time\"]\n",
    "quantile_cols = [\"DateTime\"]\n",
    "\n",
    "column_transformer = ColumnTransformer(\n",
    "    transformers=[\n",
    "        (\n",
    "            \"ore\",\n",
    "            OrdinalEncoder(handle_unknown=\"use_encoded_value\", unknown_value=-1),\n",
    "            cat_cols,\n",
    "        ),\n",
    "        (\"standard_scaling\", StandardScaler(), std_cols),\n",
    "        (\"quantile_scaling\", QuantileTransformer(random_state=RANDOM_SEED), quantile_cols),\n",
    "    ],\n",
    "    remainder=\"passthrough\",\n",
    ")"
   ]
  },
  {
   "cell_type": "code",
   "execution_count": 22,
   "id": "e0a1b173",
   "metadata": {
    "papermill": {
     "duration": 0.024796,
     "end_time": "2024-11-04T12:05:33.255240",
     "exception": false,
     "start_time": "2024-11-04T12:05:33.230444",
     "status": "completed"
    },
    "tags": []
   },
   "outputs": [],
   "source": [
    "y_train = train[\"Outcome\"]\n",
    "data_train = train.drop([\"Outcome\"], axis=1)"
   ]
  },
  {
   "cell_type": "code",
   "execution_count": 23,
   "id": "5dbe5da5",
   "metadata": {
    "papermill": {
     "duration": 55.706687,
     "end_time": "2024-11-04T12:06:28.971849",
     "exception": false,
     "start_time": "2024-11-04T12:05:33.265162",
     "status": "completed"
    },
    "tags": []
   },
   "outputs": [
    {
     "name": "stderr",
     "output_type": "stream",
     "text": [
      "  File \"C:\\Users\\anaki\\AppData\\Local\\Programs\\Python\\Python312\\Lib\\site-packages\\joblib\\externals\\loky\\backend\\context.py\", line 282, in _count_physical_cores\n",
      "    raise ValueError(f\"found {cpu_count_physical} physical cores < 1\")\n"
     ]
    },
    {
     "name": "stdout",
     "output_type": "stream",
     "text": [
      "              precision    recall  f1-score   support\n",
      "\n",
      "           0       0.96      0.98      0.97      7538\n",
      "           1       0.98      0.95      0.96      6595\n",
      "           2       0.95      0.96      0.95      3350\n",
      "           3       0.91      0.95      0.93      1089\n",
      "           4       0.89      0.97      0.93       138\n",
      "\n",
      "    accuracy                           0.96     18710\n",
      "   macro avg       0.94      0.96      0.95     18710\n",
      "weighted avg       0.96      0.96      0.96     18710\n",
      "\n",
      "0.9637092463923036\n"
     ]
    },
    {
     "data": {
      "image/png": "[encoded data removed]",
      "text/plain": [
       "<Figure size 640x480 with 2 Axes>"
      ]
     },
     "metadata": {},
     "output_type": "display_data"
    }
   ],
   "source": [
    "hgb_pipeline = Pipeline(\n",
    "    steps=[\n",
    "        (\"preprocessor\", column_transformer),\n",
    "        (\n",
    "            \"classifier\",\n",
    "            HistGradientBoostingClassifier(\n",
    "                class_weight=\"balanced\",\n",
    "                random_state=RANDOM_SEED,\n",
    "            ),\n",
    "        ),\n",
    "    ]\n",
    ")\n",
    "\n",
    "rf_pipeline = Pipeline(\n",
    "    steps=[\n",
    "        (\"preprocessor\", column_transformer),\n",
    "        (\n",
    "            \"classifier\",\n",
    "            RandomForestClassifier(\n",
    "                class_weight=\"balanced\",\n",
    "                random_state=RANDOM_SEED,\n",
    "                n_estimators=1000,\n",
    "            ),\n",
    "        ),\n",
    "    ]\n",
    ")\n",
    "\n",
    "voting_model = VotingClassifier(\n",
    "    estimators=[\n",
    "        (\"hgb\", hgb_pipeline),\n",
    "        (\"rf\", rf_pipeline),\n",
    "    ],\n",
    "    voting=\"soft\",\n",
    "    n_jobs=-1,\n",
    ")\n",
    "\n",
    "y_pred = voting_model.fit(data_train, y_train).predict(data_train)\n",
    "print(classification_report(y_train, y_pred))\n",
    "print(accuracy_score(y_train, y_pred))\n",
    "disp = ConfusionMatrixDisplay(confusion_matrix(y_train, y_pred))\n",
    "\n",
    "disp.plot()\n",
    "plt.show()"
   ]
  },
  {
   "cell_type": "code",
   "execution_count": 24,
   "id": "44a4e8f8",
   "metadata": {
    "papermill": {
     "duration": 2.536211,
     "end_time": "2024-11-04T12:06:31.520293",
     "exception": false,
     "start_time": "2024-11-04T12:06:28.984082",
     "status": "completed"
    },
    "tags": []
   },
   "outputs": [],
   "source": [
    "preds = voting_model.predict(data_test)\n",
    "\n",
    "# Create a submission using constant predictions\n",
    "submission = pd.DataFrame({\"ID\": data_test.index, \"Outcome\": preds})\n",
    "\n",
    "# Save the submission\n",
    "submission.to_csv(\"submission.csv\", index=False)\n",
    "# submission.to_csv(\"/kaggle/working/submission.csv\", index=False)"
   ]
  }
 ],
 "metadata": {
  "kaggle": {
   "accelerator": "none",
   "dataSources": [
    {
     "databundleVersionId": 9793277,
     "sourceId": 86372,
     "sourceType": "competition"
    }
   ],
   "dockerImageVersionId": 30786,
   "isGpuEnabled": false,
   "isInternetEnabled": true,
   "language": "python",
   "sourceType": "notebook"
  },
  "kernelspec": {
   "display_name": "Python 3 (ipykernel)",
   "language": "python",
   "name": "python3"
  },
  "language_info": {
   "codemirror_mode": {
    "name": "ipython",
    "version": 3
   },
   "file_extension": ".py",
   "mimetype": "text/x-python",
   "name": "python",
   "nbconvert_exporter": "python",
   "pygments_lexer": "ipython3",
   "version": "3.12.7"
  },
  "papermill": {
   "default_parameters": {},
   "duration": 69.487444,
   "end_time": "2024-11-04T12:06:34.256090",
   "environment_variables": {},
   "exception": null,
   "input_path": "__notebook__.ipynb",
   "output_path": "__notebook__.ipynb",
   "parameters": {},
   "start_time": "2024-11-04T12:05:24.768646",
   "version": "2.6.0"
  }
 },
 "nbformat": 4,
 "nbformat_minor": 5
}
