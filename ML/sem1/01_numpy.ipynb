{
 "cells": [
  {
   "cell_type": "code",
   "execution_count": 185,
   "metadata": {},
   "outputs": [],
   "source": [
    "%load_ext jupyter_black"
   ]
  },
  {
   "cell_type": "markdown",
   "metadata": {
    "id": "CTcaw5mGOaTz"
   },
   "source": [
    "## NumPy - Numerical Python\n",
    "**библиотека для эффективных вычислений**\n",
    "\n",
    "Python -- высокоуровневый, интепретируемый и динамический язык. Списки в нём -- списки указателей на объекты (которые могут иметь любой тип), и при выполнении, например, \"векторных операций\" (с помощью циклов или list comprehensions) интерпретатор каждый раз проверяет, применим ли тип очередного элемента. \n",
    "\n",
    "\n",
    "*То, за счёт чего мы получает лаконичность кода и высокую скорость разработки, вынуждает наши программы работать медленнее.*\n",
    "\n",
    "\n",
    "В numpy:\n",
    "1. array должны быть одного типа, поэтому нет дополнительных вычислительных затрат на проверки.\n",
    "2. Часть операций реализована на C.\n",
    "\n",
    "\n",
    "Отсюда прирост в производительности на некоторых распространённых задачах -- в сотни раз.\n",
    "\n",
    "\n",
    "*Неформальное правило: если вы используете numpy и если при этом в вашем коде есть циклы, скорее всего, вы делаете что-то не так.*"
   ]
  },
  {
   "cell_type": "code",
   "execution_count": 2,
   "metadata": {
    "colab": {
     "base_uri": "https://localhost:8080/"
    },
    "id": "DEr1wtrjOaT5",
    "outputId": "4c39fe96-943c-4b57-8100-df1a666d9971"
   },
   "outputs": [
    {
     "name": "stdout",
     "output_type": "stream",
     "text": [
      "[1, 222, 33, 5]\n",
      "<class 'numpy.ndarray'>\n",
      "[  1. 222.  33.   5.]\n",
      "float64\n"
     ]
    }
   ],
   "source": [
    "import numpy as np\n",
    "\n",
    "\"\"\"\n",
    "Часто используемые alias'ы:\n",
    "np ~ numpy\n",
    "sp ~ scipy\n",
    "pd ~ pandas\n",
    "tf ~ tensorflow\n",
    "plt ~ matplotlib.pyplot\n",
    "...\n",
    "\"\"\"\n",
    "\n",
    "# numpy.ndarray -- это элементы ОДНОГО типа (в numpy их много)\n",
    "\n",
    "array = [1, 222, 33, 5]\n",
    "nparray = np.array(array, dtype='float')\n",
    "\n",
    "print(array)\n",
    "print(type(nparray))\n",
    "print(nparray)\n",
    "print(nparray.dtype)"
   ]
  },
  {
   "cell_type": "code",
   "execution_count": 9,
   "metadata": {
    "colab": {
     "base_uri": "https://localhost:8080/"
    },
    "id": "GQHutt0kOaT7",
    "outputId": "c2357c38-ad59-4b21-e53d-de5487d9458c"
   },
   "outputs": [
    {
     "name": "stdout",
     "output_type": "stream",
     "text": [
      "[  1. 222.  33.   5.]\n",
      "float64\n"
     ]
    }
   ],
   "source": [
    "array = [1, 222, 33, 5.0]\n",
    "nparray = np.array(array)\n",
    "\n",
    "print(nparray)\n",
    "print(nparray.dtype)"
   ]
  },
  {
   "cell_type": "code",
   "execution_count": 10,
   "metadata": {
    "colab": {
     "base_uri": "https://localhost:8080/"
    },
    "id": "WpnbmUXWPHju",
    "outputId": "f1db93b0-7ef3-4d70-c95f-cc19b369eaea"
   },
   "outputs": [
    {
     "name": "stdout",
     "output_type": "stream",
     "text": [
      "[1 222 33 '5.0' <__main__.M object at 0x7fe750028890>]\n",
      "object\n"
     ]
    }
   ],
   "source": [
    "class M(object):\n",
    "    def __init__(self):\n",
    "        pass\n",
    "\n",
    "array = [1, 222, 33, \"5.0\", M()]\n",
    "nparray = np.array(array)\n",
    "\n",
    "print(nparray)\n",
    "print(nparray.dtype)"
   ]
  },
  {
   "cell_type": "code",
   "execution_count": 12,
   "metadata": {},
   "outputs": [
    {
     "data": {
      "text/plain": [
       "(5,)"
      ]
     },
     "execution_count": 12,
     "metadata": {},
     "output_type": "execute_result"
    }
   ],
   "source": [
    "nparray.shape"
   ]
  },
  {
   "cell_type": "code",
   "execution_count": 14,
   "metadata": {},
   "outputs": [
    {
     "data": {
      "text/plain": [
       "(2, 2)"
      ]
     },
     "execution_count": 14,
     "metadata": {},
     "output_type": "execute_result"
    }
   ],
   "source": [
    "np.array([[1,2],[3,4]]).shape"
   ]
  },
  {
   "cell_type": "code",
   "execution_count": 17,
   "metadata": {
    "colab": {
     "base_uri": "https://localhost:8080/"
    },
    "id": "vn4mYSM8OaT7",
    "outputId": "ac1dcdf1-8cd6-44b6-ea02-4ba59251f37a"
   },
   "outputs": [
    {
     "name": "stdout",
     "output_type": "stream",
     "text": [
      "<class 'numpy.ndarray'>\n",
      "[[[ 0  1  2  3  4  5  6  7  8  9]\n",
      "  [10 11 12 13 14 15 16 17 18 19]]\n",
      "\n",
      " [[20 21 22 23 24 25 26 27 28 29]\n",
      "  [30 31 32 33 34 35 36 37 38 39]]]\n",
      "3\n",
      "(2, 2, 10)\n",
      "2\n",
      "[[[ 0.  1.  2.  3.  4.  5.  6.  7.  8.  9.]\n",
      "  [10. 11. 12. 13. 14. 15. 16. 17. 18. 19.]]\n",
      "\n",
      " [[20. 21. 22. 23. 24. 25. 26. 27. 28. 29.]\n",
      "  [30. 31. 32. 33. 34. 35. 36. 37. 38. 39.]]]\n",
      "float32\n"
     ]
    }
   ],
   "source": [
    "# arange -- генерация подряд идущих чисел\n",
    "# reshape -- приведение к нужной размерности\n",
    "array = np.arange(40).reshape(2, 2, 10)\n",
    "\n",
    "print(type(array))\n",
    "\n",
    "print(array)\n",
    "\n",
    "# размерности\n",
    "print(array.ndim)\n",
    "\n",
    "# как нумеруются оси\n",
    "# строки -- axis=0\n",
    "# столбцы -- axis=1\n",
    "print(array.shape)\n",
    "print(len(array))\n",
    "\n",
    "print(array.astype(np.float32))\n",
    "\n",
    "array = array.astype(np.float32)\n",
    "print(array.dtype)\n",
    "\n",
    "# также можно задавать многомерные массивы, передав в список списков [списков [списков [...]]"
   ]
  },
  {
   "cell_type": "code",
   "execution_count": 18,
   "metadata": {},
   "outputs": [
    {
     "name": "stdout",
     "output_type": "stream",
     "text": [
      "[[[ 0  1  2  3  4  5  6  7  8  9]\n",
      "  [10 11 12 13 14 15 16 17 18 19]]\n",
      "\n",
      " [[20 21 22 23 24 25 26 27 28 29]\n",
      "  [30 31 32 33 34 35 36 37 38 39]]]\n"
     ]
    }
   ],
   "source": [
    "print(np.arange(40).reshape(2, 2, 10))"
   ]
  },
  {
   "cell_type": "code",
   "execution_count": 19,
   "metadata": {},
   "outputs": [
    {
     "data": {
      "text/plain": [
       "3"
      ]
     },
     "execution_count": 19,
     "metadata": {},
     "output_type": "execute_result"
    }
   ],
   "source": [
    "np.arange(40).reshape(2, 2, 10).ndim"
   ]
  },
  {
   "cell_type": "code",
   "execution_count": 20,
   "metadata": {
    "colab": {
     "base_uri": "https://localhost:8080/"
    },
    "id": "x5wzYyk2OaT9",
    "outputId": "3d478b89-9b18-477c-ed65-dfbad4273f42"
   },
   "outputs": [
    {
     "name": "stdout",
     "output_type": "stream",
     "text": [
      "[0.  0.2 0.4 0.6 0.8 1. ] [0.         0.16666667 0.33333333 0.5        0.66666667 0.83333333]\n"
     ]
    }
   ],
   "source": [
    "# Другие методы создания array\n",
    "\n",
    "# от, до, сколько частей\n",
    "c = np.linspace(0, 1, 6)\n",
    "d = np.linspace(0, 1, 6, endpoint=False)\n",
    "print(c, d)"
   ]
  },
  {
   "cell_type": "code",
   "execution_count": 24,
   "metadata": {
    "colab": {
     "base_uri": "https://localhost:8080/"
    },
    "id": "x5wzYyk2OaT9",
    "outputId": "3d478b89-9b18-477c-ed65-dfbad4273f42"
   },
   "outputs": [
    {
     "name": "stdout",
     "output_type": "stream",
     "text": [
      "[[[[[False False]\n",
      "    [False False]]\n",
      "\n",
      "   [[False False]\n",
      "    [False False]]]\n",
      "\n",
      "\n",
      "  [[[False False]\n",
      "    [False False]]\n",
      "\n",
      "   [[False False]\n",
      "    [False False]]]\n",
      "\n",
      "\n",
      "  [[[False False]\n",
      "    [False False]]\n",
      "\n",
      "   [[False False]\n",
      "    [False False]]]]\n",
      "\n",
      "\n",
      "\n",
      " [[[[False False]\n",
      "    [False False]]\n",
      "\n",
      "   [[False False]\n",
      "    [False False]]]\n",
      "\n",
      "\n",
      "  [[[False False]\n",
      "    [False False]]\n",
      "\n",
      "   [[False False]\n",
      "    [False False]]]\n",
      "\n",
      "\n",
      "  [[[False False]\n",
      "    [False False]]\n",
      "\n",
      "   [[False False]\n",
      "    [False False]]]]]\n"
     ]
    }
   ],
   "source": [
    "# на вход -- размеры массивов\n",
    "e = np.zeros((2, 3,2,2,2), dtype=bool)\n",
    "print(e)"
   ]
  },
  {
   "cell_type": "code",
   "execution_count": 26,
   "metadata": {
    "colab": {
     "base_uri": "https://localhost:8080/"
    },
    "id": "x5wzYyk2OaT9",
    "outputId": "3d478b89-9b18-477c-ed65-dfbad4273f42"
   },
   "outputs": [
    {
     "name": "stdout",
     "output_type": "stream",
     "text": [
      "[[[[[False False]\n",
      "    [False False]]\n",
      "\n",
      "   [[False False]\n",
      "    [False False]]]\n",
      "\n",
      "\n",
      "  [[[False False]\n",
      "    [False False]]\n",
      "\n",
      "   [[False False]\n",
      "    [False False]]]\n",
      "\n",
      "\n",
      "  [[[False False]\n",
      "    [False False]]\n",
      "\n",
      "   [[False False]\n",
      "    [False False]]]]\n",
      "\n",
      "\n",
      "\n",
      " [[[[False False]\n",
      "    [False False]]\n",
      "\n",
      "   [[False False]\n",
      "    [False False]]]\n",
      "\n",
      "\n",
      "  [[[False False]\n",
      "    [False False]]\n",
      "\n",
      "   [[False False]\n",
      "    [False False]]]\n",
      "\n",
      "\n",
      "  [[[False False]\n",
      "    [False False]]\n",
      "\n",
      "   [[False False]\n",
      "    [False False]]]]]\n"
     ]
    }
   ],
   "source": [
    "ee = np.zeros_like(e)\n",
    "# np.zeros(e.shape)\n",
    "print(ee)"
   ]
  },
  {
   "cell_type": "code",
   "execution_count": 27,
   "metadata": {
    "colab": {
     "base_uri": "https://localhost:8080/"
    },
    "id": "x5wzYyk2OaT9",
    "outputId": "3d478b89-9b18-477c-ed65-dfbad4273f42"
   },
   "outputs": [
    {
     "name": "stdout",
     "output_type": "stream",
     "text": [
      "[[[1. 1. 1.]\n",
      "  [1. 1. 1.]]\n",
      "\n",
      " [[1. 1. 1.]\n",
      "  [1. 1. 1.]]]\n"
     ]
    }
   ],
   "source": [
    "f = np.ones((2, 2, 3))\n",
    "print(f)"
   ]
  },
  {
   "cell_type": "code",
   "execution_count": 28,
   "metadata": {
    "colab": {
     "base_uri": "https://localhost:8080/"
    },
    "id": "x5wzYyk2OaT9",
    "outputId": "3d478b89-9b18-477c-ed65-dfbad4273f42"
   },
   "outputs": [
    {
     "name": "stdout",
     "output_type": "stream",
     "text": [
      "[[1. 0. 0. 0.]\n",
      " [0. 1. 0. 0.]\n",
      " [0. 0. 1. 0.]\n",
      " [0. 0. 0. 1.]]\n"
     ]
    }
   ],
   "source": [
    "# # на вход -- длина диагонали квадратной матрицы\n",
    "g = np.eye(4)\n",
    "print(g)"
   ]
  },
  {
   "cell_type": "code",
   "execution_count": 29,
   "metadata": {
    "colab": {
     "base_uri": "https://localhost:8080/"
    },
    "id": "x5wzYyk2OaT9",
    "outputId": "3d478b89-9b18-477c-ed65-dfbad4273f42"
   },
   "outputs": [
    {
     "name": "stdout",
     "output_type": "stream",
     "text": [
      "[[0 0 0 0 0]\n",
      " [0 1 0 0 0]\n",
      " [0 0 2 0 0]\n",
      " [0 0 0 3 0]\n",
      " [0 0 0 0 4]]\n",
      "[[1. 0. 0.]\n",
      " [0. 1. 0.]\n",
      " [0. 0. 1.]]\n"
     ]
    }
   ],
   "source": [
    "h = np.diag(np.arange(5))\n",
    "i = np.diag(np.ones(3))\n",
    "print(h)\n",
    "print(i)\n",
    "\n",
    "# # etc"
   ]
  },
  {
   "cell_type": "markdown",
   "metadata": {},
   "source": [
    "---"
   ]
  },
  {
   "cell_type": "code",
   "execution_count": 31,
   "metadata": {},
   "outputs": [
    {
     "data": {
      "text/plain": [
       "array([4, 3, 5])"
      ]
     },
     "execution_count": 31,
     "metadata": {},
     "output_type": "execute_result"
    }
   ],
   "source": [
    "x = np.array([1, 2, 3])\n",
    "y = np.array([3, 1, 2])\n",
    "x + y"
   ]
  },
  {
   "cell_type": "code",
   "execution_count": 32,
   "metadata": {},
   "outputs": [
    {
     "data": {
      "text/plain": [
       "(2, 2, 3)"
      ]
     },
     "execution_count": 32,
     "metadata": {},
     "output_type": "execute_result"
    }
   ],
   "source": [
    "x = np.array([[[1,2,3],\n",
    "              [4,5,6]],\n",
    "              [[1,2,3],\n",
    "              [4,5,6]]])\n",
    "x.shape"
   ]
  },
  {
   "cell_type": "code",
   "execution_count": 33,
   "metadata": {},
   "outputs": [
    {
     "data": {
      "text/plain": [
       "(2, 3)"
      ]
     },
     "execution_count": 33,
     "metadata": {},
     "output_type": "execute_result"
    }
   ],
   "source": [
    "y = np.array([[1,2,3],\n",
    "              [4,5,6]])\n",
    "y.shape"
   ]
  },
  {
   "cell_type": "code",
   "execution_count": 35,
   "metadata": {},
   "outputs": [
    {
     "data": {
      "text/plain": [
       "array([1., 1., 1.])"
      ]
     },
     "execution_count": 35,
     "metadata": {},
     "output_type": "execute_result"
    }
   ],
   "source": [
    "np.ones(3)"
   ]
  },
  {
   "cell_type": "code",
   "execution_count": 37,
   "metadata": {
    "colab": {
     "base_uri": "https://localhost:8080/"
    },
    "id": "Ahm4UblSOaT-",
    "outputId": "71e8e4ab-89b1-4234-e364-74e2a6e5185b"
   },
   "outputs": [
    {
     "name": "stdout",
     "output_type": "stream",
     "text": [
      "[0.40768703 0.05536604 0.78853488 0.28730518]\n",
      "[[-1.84440103 -0.46700242  2.29249034  0.48881005  0.71026699  1.05553444\n",
      "   0.0540731   0.25795342  0.58828165  0.88524424 -1.01700702 -0.13369303\n",
      "  -0.4381855   0.49344349 -0.19900912 -1.27498361  0.29349415  0.10895031\n",
      "   0.03172679  1.27263986  1.0714479   0.41581801  1.55067923 -0.31137892\n",
      "  -1.37923991]\n",
      " [ 1.37140879  0.02771165 -0.32039958 -0.84617041 -0.43342892 -1.3370345\n",
      "   0.20917217 -1.4243213  -0.55347685  0.07479864 -0.50561983  1.05240778\n",
      "   0.97140041  0.07683154 -0.43500078  0.5529944   0.26671631  0.00898941\n",
      "   0.64110275 -0.17770716  0.69627761 -1.1887251  -0.33169686  0.03007614\n",
      "  -1.10791517]]\n"
     ]
    }
   ],
   "source": [
    "# Случайные числа из разных распределений\n",
    "import random\n",
    "# \"зерно\" для генератора случайных чисел -- для одних и тех же псвдослучайных генераций\n",
    "np.random.seed(40)\n",
    "\n",
    "# генерация сэмплов из равномерного распределения\n",
    "a = np.zeros(4)\n",
    "for i in range(4):\n",
    "    a[i] = random.random()\n",
    "    \n",
    "    \n",
    "a = np.random.rand(4)  \n",
    "print(a)\n",
    "\n",
    "# гауссовское распределение\n",
    "b = np.random.randn(50).reshape((2,25))\n",
    "print(b)\n",
    "\n",
    "# и есть несколько других полезных на практике, google it"
   ]
  },
  {
   "cell_type": "markdown",
   "metadata": {
    "id": "b_50oQz9OaT_"
   },
   "source": [
    "### Залог эффективных вычислений \n",
    "#### воспринимать рекомендации по работе с numpy \n",
    "*(ну или заглядывать в исходники, но это для джедаев)*\n",
    "\n",
    "**Numpy-way strategies**\n",
    "1. **Использование numpy ufuncs**\n",
    "2. **Использование numpy aggregate functions**\n",
    "3. **Slicing, masking, fancy indexing**\n",
    "4. ***Broadcasting**"
   ]
  },
  {
   "cell_type": "markdown",
   "metadata": {
    "id": "O4wNkTeROaT_"
   },
   "source": [
    "#### ufinc\n",
    "A **universal function** (or ufunc for short) is a function that operates on ndarrays in an element-by-element fashion, supporting array broadcasting, type casting, and several other standard features. That is, a ufunc is a “vectorized” wrapper for a function that takes a fixed number of specific inputs and produces a fixed number of specific outputs."
   ]
  },
  {
   "cell_type": "code",
   "execution_count": 40,
   "metadata": {
    "colab": {
     "base_uri": "https://localhost:8080/"
    },
    "id": "YOPEnP7-OaT_",
    "outputId": "bbc0c751-d1b6-410b-fbba-8c31ef59ca08"
   },
   "outputs": [
    {
     "name": "stdout",
     "output_type": "stream",
     "text": [
      "[[0 1 2]\n",
      " [3 4 5]] (2, 3)\n",
      "[[2 3 4]\n",
      " [5 6 7]]\n",
      "[[0.  0.5 1. ]\n",
      " [1.5 2.  2.5]]\n",
      "[[ 0  2  4]\n",
      " [ 6  8 10]]\n",
      "[[ 0  1  4]\n",
      " [ 9 16 25]]\n",
      "[[0 1 0]\n",
      " [1 0 1]]\n"
     ]
    }
   ],
   "source": [
    "# Нет ни одного шанса, что мы рассмотрим всё, что есть в numpy.\n",
    "# Поэтому если есть нужда в решении какой-нибудь задачи линейной алгебры, стоит погуглить,\n",
    "# наверняка в numpy/scipy есть готовое\n",
    "\n",
    "# Сейчас учимся, \"как делать правильно\", а конкретные необходимые вам методы придётся погуглить\n",
    "\n",
    "x = np.arange(6).reshape((2, 3))\n",
    "print(x, x.shape)\n",
    "print(x + 2)\n",
    "print(x / 2)\n",
    "print(x * 2)\n",
    "print(x ** 2)\n",
    "print(x % 2)"
   ]
  },
  {
   "cell_type": "code",
   "execution_count": 41,
   "metadata": {
    "id": "aJV-FPy9OaUA"
   },
   "outputs": [
    {
     "name": "stdout",
     "output_type": "stream",
     "text": [
      "[[ 0  2  4]\n",
      " [ 6  8 10]]\n",
      "[[0 0 0]\n",
      " [0 0 0]]\n"
     ]
    }
   ],
   "source": [
    "print(x + x)\n",
    "print(x - x)"
   ]
  },
  {
   "cell_type": "code",
   "execution_count": 42,
   "metadata": {
    "id": "aJV-FPy9OaUA"
   },
   "outputs": [
    {
     "name": "stdout",
     "output_type": "stream",
     "text": [
      "[[ 0  1  4]\n",
      " [ 9 16 25]]\n",
      "[[ 5 14]\n",
      " [14 50]]\n",
      "[[ 9 12 15]\n",
      " [12 17 22]\n",
      " [15 22 29]]\n"
     ]
    }
   ],
   "source": [
    "# NOTA BENE!\n",
    "print(x * x) # element-wise\n",
    "print(x.dot(x.T)) # multiplication\n",
    "print(x.T.dot(x)) # multiplication"
   ]
  },
  {
   "cell_type": "code",
   "execution_count": 43,
   "metadata": {},
   "outputs": [
    {
     "data": {
      "text/plain": [
       "array([[ 5, 14],\n",
       "       [14, 50]])"
      ]
     },
     "execution_count": 43,
     "metadata": {},
     "output_type": "execute_result"
    }
   ],
   "source": [
    "# а еще можно вот так\n",
    "x @ x.T"
   ]
  },
  {
   "cell_type": "code",
   "execution_count": 44,
   "metadata": {
    "id": "aJV-FPy9OaUA"
   },
   "outputs": [
    {
     "data": {
      "text/plain": [
       "array([[ True,  True,  True],\n",
       "       [False, False, False]])"
      ]
     },
     "execution_count": 44,
     "metadata": {},
     "output_type": "execute_result"
    }
   ],
   "source": [
    "# а давайте проверим\n",
    "x == x[0]"
   ]
  },
  {
   "cell_type": "code",
   "execution_count": 45,
   "metadata": {
    "id": "aJV-FPy9OaUA"
   },
   "outputs": [
    {
     "name": "stdout",
     "output_type": "stream",
     "text": [
      "[[0 1 2]\n",
      " [3 4 5]]\n",
      "[0 1 2]\n",
      "[[0 1 2]\n",
      " [0 1 2]]\n"
     ]
    },
    {
     "data": {
      "text/plain": [
       "((2, 3), (3,))"
      ]
     },
     "execution_count": 45,
     "metadata": {},
     "output_type": "execute_result"
    }
   ],
   "source": [
    "# Сюда же относятся очень эффективные\n",
    "# np.log\n",
    "# np.exp\n",
    "# Можете не писать питоновские лямбды -- не делайте этого\n",
    "\n",
    "print(x)\n",
    "print(x[0])\n",
    "print(np.array([[1, 1, 1], [1, 1, 1]]) * x[0])\n",
    "x.shape, x[0].shape"
   ]
  },
  {
   "cell_type": "code",
   "execution_count": 46,
   "metadata": {},
   "outputs": [
    {
     "data": {
      "text/plain": [
       "array([[  1.        ,   2.71828183,   7.3890561 ],\n",
       "       [ 20.08553692,  54.59815003, 148.4131591 ]])"
      ]
     },
     "execution_count": 46,
     "metadata": {},
     "output_type": "execute_result"
    }
   ],
   "source": [
    "np.exp(x)"
   ]
  },
  {
   "cell_type": "code",
   "execution_count": 47,
   "metadata": {
    "id": "PGDCplryOaUB"
   },
   "outputs": [
    {
     "name": "stdout",
     "output_type": "stream",
     "text": [
      "3.24 ms ± 139 μs per loop (mean ± std. dev. of 7 runs, 100 loops each)\n",
      "36.8 μs ± 2.77 μs per loop (mean ± std. dev. of 7 runs, 10,000 loops each)\n"
     ]
    }
   ],
   "source": [
    "# let's make sure numpy's ufuncs are cool\n",
    "arr = list(range(0, 60000))\n",
    "%timeit [v + 5 for v in arr]\n",
    "\n",
    "arr = np.arange(60000)\n",
    "%timeit arr + 5"
   ]
  },
  {
   "cell_type": "code",
   "execution_count": 50,
   "metadata": {},
   "outputs": [],
   "source": [
    "# можно обычную функцию перевести вектроризовать!\n",
    "import math\n",
    "\n",
    "\n",
    "def my_cos(val):\n",
    "    if val > 0:\n",
    "        return math.cos(val)\n",
    "    else:\n",
    "        return 123.\n",
    "\n",
    "\n",
    "my_cos_vectorized = np.vectorize(my_cos)"
   ]
  },
  {
   "cell_type": "code",
   "execution_count": 51,
   "metadata": {},
   "outputs": [
    {
     "data": {
      "text/plain": [
       "array([123.        ,   0.54030231,  -0.41614684, ...,   0.42077374,\n",
       "         0.99069857,   0.6497797 ])"
      ]
     },
     "execution_count": 51,
     "metadata": {},
     "output_type": "execute_result"
    }
   ],
   "source": [
    "my_cos_vectorized(arr)"
   ]
  },
  {
   "cell_type": "markdown",
   "metadata": {
    "colab": {
     "base_uri": "https://localhost:8080/",
     "height": 354
    },
    "id": "ya7oeq3COaUC",
    "outputId": "3fe8aefe-f3ed-4f71-cd4b-bc9ceb5b460a"
   },
   "source": [
    "#### II. Aggregate functions: берём коллекцию, вычисляем \"агрегат\""
   ]
  },
  {
   "cell_type": "code",
   "execution_count": 52,
   "metadata": {
    "colab": {
     "base_uri": "https://localhost:8080/",
     "height": 354
    },
    "id": "ya7oeq3COaUC",
    "outputId": "3fe8aefe-f3ed-4f71-cd4b-bc9ceb5b460a"
   },
   "outputs": [
    {
     "name": "stdout",
     "output_type": "stream",
     "text": [
      "[[ 0  1  2  3  4  5]\n",
      " [ 6  7  8  9 10 11]\n",
      " [12 13 14 15 16 17]\n",
      " [18 19 20 21 22 23]\n",
      " [24 25 26 27 28 29]\n",
      " [30 31 32 33 34 35]\n",
      " [36 37 38 39 40 41]\n",
      " [42 43 44 45 46 47]\n",
      " [48 49 50 51 52 53]\n",
      " [54 55 56 57 58 59]]\n"
     ]
    }
   ],
   "source": [
    "x = np.arange(60).reshape((10, 6))\n",
    "print(x)"
   ]
  },
  {
   "cell_type": "code",
   "execution_count": 53,
   "metadata": {
    "colab": {
     "base_uri": "https://localhost:8080/",
     "height": 354
    },
    "id": "ya7oeq3COaUC",
    "outputId": "3fe8aefe-f3ed-4f71-cd4b-bc9ceb5b460a"
   },
   "outputs": [
    {
     "name": "stdout",
     "output_type": "stream",
     "text": [
      "29.5\n",
      "[27. 28. 29. 30. 31. 32.]\n",
      "[ 2.5  8.5 14.5 20.5 26.5 32.5 38.5 44.5 50.5 56.5]\n"
     ]
    }
   ],
   "source": [
    "# среднее по разным измерениям\n",
    "print(np.mean(x))\n",
    "print(np.mean(x, axis=0))\n",
    "print(np.mean(x, axis=1))"
   ]
  },
  {
   "cell_type": "code",
   "execution_count": 54,
   "metadata": {
    "colab": {
     "base_uri": "https://localhost:8080/",
     "height": 354
    },
    "id": "ya7oeq3COaUC",
    "outputId": "3fe8aefe-f3ed-4f71-cd4b-bc9ceb5b460a"
   },
   "outputs": [
    {
     "name": "stdout",
     "output_type": "stream",
     "text": [
      "17.318102282486574\n",
      "[17.23368794 17.23368794 17.23368794 17.23368794 17.23368794 17.23368794]\n",
      "[1.70782513 1.70782513 1.70782513 1.70782513 1.70782513 1.70782513\n",
      " 1.70782513 1.70782513 1.70782513 1.70782513]\n"
     ]
    }
   ],
   "source": [
    "# ст. отклонение по разным измерениям\n",
    "print(np.std(x))\n",
    "print(np.std(x, axis=0))\n",
    "print(np.std(x, axis=1))"
   ]
  },
  {
   "cell_type": "code",
   "execution_count": 56,
   "metadata": {},
   "outputs": [
    {
     "name": "stdout",
     "output_type": "stream",
     "text": [
      "[1.70782513 1.70782513 1.70782513 1.70782513 1.70782513 1.70782513\n",
      " 1.70782513 1.70782513 1.70782513 1.70782513]\n"
     ]
    }
   ],
   "source": [
    "# а так что получится?\n",
    "print(np.std(x, axis=-1))"
   ]
  },
  {
   "cell_type": "code",
   "execution_count": 57,
   "metadata": {
    "id": "PcnkLSSlOaUD"
   },
   "outputs": [
    {
     "name": "stdout",
     "output_type": "stream",
     "text": [
      "619 μs ± 15.7 μs per loop (mean ± std. dev. of 7 runs, 1,000 loops each)\n",
      "23.5 μs ± 1.14 μs per loop (mean ± std. dev. of 7 runs, 10,000 loops each)\n"
     ]
    }
   ],
   "source": [
    "# let's make sure numpy's aggr funcs are blazing fast\n",
    "arr = list(range(0, 60000))\n",
    "%timeit sum(arr)\n",
    "\n",
    "arr = np.arange(60000)\n",
    "%timeit np.sum(arr)\n",
    "\n",
    "# убедительно? :]"
   ]
  },
  {
   "cell_type": "code",
   "execution_count": 60,
   "metadata": {},
   "outputs": [
    {
     "name": "stdout",
     "output_type": "stream",
     "text": [
      "59999 59999\n",
      "(600,) (600,)\n"
     ]
    }
   ],
   "source": [
    "# Функции-аггрегации есть на все случаи жизни, и обычно они имеют интуитивные названия:\n",
    "arr = np.arange(60000).reshape(600, 100)\n",
    "\n",
    "# угадайте, как найти глобальный максимум \n",
    "print(np.max(arr), arr.max())\n",
    "\n",
    "# А построчный?\n",
    "print(np.max(arr, axis=1).shape, arr.max(axis=-1).shape)"
   ]
  },
  {
   "cell_type": "code",
   "execution_count": 62,
   "metadata": {},
   "outputs": [
    {
     "data": {
      "text/plain": [
       "np.True_"
      ]
     },
     "execution_count": 62,
     "metadata": {},
     "output_type": "execute_result"
    }
   ],
   "source": [
    "(np.max(arr, axis=1) == arr.max(axis=-1)).all()"
   ]
  },
  {
   "cell_type": "markdown",
   "metadata": {},
   "source": [
    "#### III. Индексы\n",
    "Если вы впервые знакомитесь с numpy - обязательно прочитайте [это](https://numpy.org/doc/stable/user/basics.indexing.html)"
   ]
  },
  {
   "cell_type": "code",
   "execution_count": 79,
   "metadata": {
    "colab": {
     "base_uri": "https://localhost:8080/"
    },
    "id": "JbBLQ7tLOaUD",
    "outputId": "51504226-3080-4033-bfdd-3fb752dab311"
   },
   "outputs": [
    {
     "name": "stdout",
     "output_type": "stream",
     "text": [
      "(12, 10)\n",
      "[0 1 2 3 4 5 6 7 8 9]\n",
      "1\n",
      "1\n"
     ]
    },
    {
     "data": {
      "text/plain": [
       "array([[  0,   1,   2,   3,   4,   5,   6,   7,   8,   9],\n",
       "       [ 10,  11,  12,  13,  14,  15,  16,  17,  18,  19],\n",
       "       [ 20,  21,  22,  23,  24,  25,  26,  27,  28,  29],\n",
       "       [ 30,  31,  32,  33,  34,  35,  36,  37,  38,  39],\n",
       "       [ 40,  41,  42,  43,  44,  45,  46,  47,  48,  49],\n",
       "       [ 50,  51,  52,  53,  54,  55,  56,  57,  58,  59],\n",
       "       [ 60,  61,  62,  63,  64,  65,  66,  67,  68,  69],\n",
       "       [ 70,  71,  72,  73,  74,  75,  76,  77,  78,  79],\n",
       "       [ 80,  81,  82,  83,  84,  85,  86,  87,  88,  89],\n",
       "       [ 90,  91,  92,  93,  94,  95,  96,  97,  98,  99],\n",
       "       [100, 101, 102, 103, 104, 105, 106, 107, 108, 109],\n",
       "       [110, 111, 112, 113, 114, 115, 116, 117, 118, 119]])"
      ]
     },
     "execution_count": 79,
     "metadata": {},
     "output_type": "execute_result"
    }
   ],
   "source": [
    "# III. Продвинутый доступ до элементов -- каждый из них можно применять \n",
    "# к ЛЮБОМУ изменению массива\n",
    "\n",
    "arr = np.arange(120).reshape(12, 10)\n",
    "print(arr.shape)\n",
    "# 1. индексы через запятую\n",
    "print(arr[0])\n",
    "print(arr[0, 1])\n",
    "print(arr[0][1])\n",
    "arr"
   ]
  },
  {
   "cell_type": "code",
   "execution_count": 64,
   "metadata": {
    "colab": {
     "base_uri": "https://localhost:8080/"
    },
    "id": "JbBLQ7tLOaUD",
    "outputId": "51504226-3080-4033-bfdd-3fb752dab311"
   },
   "outputs": [
    {
     "name": "stdout",
     "output_type": "stream",
     "text": [
      "[1 3]\n"
     ]
    },
    {
     "data": {
      "text/plain": [
       "[0, 1, 2, 3, 4]"
      ]
     },
     "execution_count": 64,
     "metadata": {},
     "output_type": "execute_result"
    }
   ],
   "source": [
    "print(arr[0][1:5:2])\n",
    "\n",
    "l = list(range(10))\n",
    "l[:5]"
   ]
  },
  {
   "cell_type": "code",
   "execution_count": 67,
   "metadata": {},
   "outputs": [
    {
     "data": {
      "text/plain": [
       "array([[21, 23],\n",
       "       [51, 53],\n",
       "       [81, 83]])"
      ]
     },
     "execution_count": 67,
     "metadata": {},
     "output_type": "execute_result"
    }
   ],
   "source": [
    "arr[2:10:3, 1:5:2]"
   ]
  },
  {
   "cell_type": "code",
   "execution_count": 68,
   "metadata": {},
   "outputs": [
    {
     "data": {
      "text/plain": [
       "array([0, 1, 2, 3, 4, 5, 7])"
      ]
     },
     "execution_count": 68,
     "metadata": {},
     "output_type": "execute_result"
    }
   ],
   "source": [
    "# индексация булевыми массивами\n",
    "arr[0][[True, True, True, True, True, True,False, True, False, False]]"
   ]
  },
  {
   "cell_type": "code",
   "execution_count": 77,
   "metadata": {},
   "outputs": [
    {
     "data": {
      "text/plain": [
       "(12, 10, 1)"
      ]
     },
     "execution_count": 77,
     "metadata": {},
     "output_type": "execute_result"
    }
   ],
   "source": [
    "arr[:,:, None].shape"
   ]
  },
  {
   "cell_type": "code",
   "execution_count": 70,
   "metadata": {},
   "outputs": [
    {
     "data": {
      "text/plain": [
       "(12, 10)"
      ]
     },
     "execution_count": 70,
     "metadata": {},
     "output_type": "execute_result"
    }
   ],
   "source": [
    "arr.shape"
   ]
  },
  {
   "cell_type": "code",
   "execution_count": null,
   "metadata": {},
   "outputs": [],
   "source": [
    "# а это что за зверь?\n",
    "arr[:, np.newaxis, [0, 1], np.newaxis].shape"
   ]
  },
  {
   "cell_type": "code",
   "execution_count": null,
   "metadata": {},
   "outputs": [],
   "source": [
    "np.newaxis is None"
   ]
  },
  {
   "cell_type": "code",
   "execution_count": null,
   "metadata": {},
   "outputs": [],
   "source": [
    "arr[0][arr[0] % 2 == 0]"
   ]
  },
  {
   "cell_type": "code",
   "execution_count": 78,
   "metadata": {},
   "outputs": [
    {
     "data": {
      "text/plain": [
       "array([[10, 19],\n",
       "       [20, 29],\n",
       "       [30, 39],\n",
       "       [40, 49]])"
      ]
     },
     "execution_count": 78,
     "metadata": {},
     "output_type": "execute_result"
    }
   ],
   "source": [
    "arr[1:5,[0,-1]]"
   ]
  },
  {
   "cell_type": "code",
   "execution_count": null,
   "metadata": {
    "colab": {
     "base_uri": "https://localhost:8080/"
    },
    "id": "wjcCQ9erObK0",
    "outputId": "3939bfef-6679-41e4-970b-e1d4abe93e93"
   },
   "outputs": [],
   "source": [
    "# # 2. слайсинг по любому индексу\n",
    "print(arr[:2, :])\n",
    "\n",
    "# # 3. можно передавать список индексов (как лист, так и np.ndarray)\n",
    "print(arr[[0, 3], :1])\n",
    "print(arr[np.array([0, 3]), :1])\n"
   ]
  },
  {
   "cell_type": "code",
   "execution_count": 80,
   "metadata": {},
   "outputs": [
    {
     "data": {
      "text/plain": [
       "array([  3,   7,  11,  15,  19,  23,  27,  31,  35,  39,  43,  47,  51,\n",
       "        55,  59,  63,  67,  71,  75,  79,  83,  87,  91,  95,  99, 103,\n",
       "       107, 111, 115, 119])"
      ]
     },
     "execution_count": 80,
     "metadata": {},
     "output_type": "execute_result"
    }
   ],
   "source": [
    "arr[(arr%4) == 3]"
   ]
  },
  {
   "cell_type": "code",
   "execution_count": 107,
   "metadata": {
    "colab": {
     "base_uri": "https://localhost:8080/"
    },
    "id": "joyCScEUOc8s",
    "outputId": "21e305ec-50d8-4d4b-8875-3349040cf44c"
   },
   "outputs": [
    {
     "name": "stdout",
     "output_type": "stream",
     "text": [
      "[0.86875688 0.25814429 0.98601993 0.56792521 1.07434477 0.93008559\n",
      " 1.11634409 1.52204941 0.11594107 0.71244864 1.25016352 1.7980126\n",
      " 2.13568999 0.6970301  1.3388364  0.19627482 0.91150536 1.15590495\n",
      " 0.98690552 0.84583745 0.56835203 0.96406943 0.4600068  0.85452543\n",
      " 0.32495387 0.27333806 0.49038683 0.75004037 1.10594204 0.60509526\n",
      " 2.0642895  0.17919391 0.70199476 0.91630957 0.22462536 1.24142861\n",
      " 0.46203309 0.70843789 0.29426351 0.70183516 0.45365311 1.5421307\n",
      " 0.6829811  1.22533109 1.22407522 3.00373544 1.47102214 0.64574329\n",
      " 0.65081061]\n"
     ]
    }
   ],
   "source": [
    "# # 4. хитрый отбор элементов -- masking\n",
    "x = np.random.randn(100)\n",
    "\n",
    "# элементы больше среднего\n",
    "print(x[x > x.mean()])"
   ]
  },
  {
   "cell_type": "code",
   "execution_count": 130,
   "metadata": {
    "colab": {
     "base_uri": "https://localhost:8080/"
    },
    "id": "xk-pPuk-OkJ3",
    "outputId": "272f046b-7769-4f83-f627-9f98c1b76181"
   },
   "outputs": [
    {
     "name": "stdout",
     "output_type": "stream",
     "text": [
      "(1,)\n"
     ]
    }
   ],
   "source": [
    "# всё, что выпадает за три сигмы\n",
    "\n",
    "print(x[(x > x.mean() + 3 * x.std()) | (x < x.mean() - 3 * x.std())].shape)\n",
    "\n",
    "# %timeit ..."
   ]
  },
  {
   "cell_type": "code",
   "execution_count": 134,
   "metadata": {},
   "outputs": [
    {
     "data": {
      "text/plain": [
       "(2, 3, 2, 2)"
      ]
     },
     "execution_count": 134,
     "metadata": {},
     "output_type": "execute_result"
    }
   ],
   "source": [
    "x = np.arange(60).reshape(2, 3, 5, 2)\n",
    "\n",
    "x[..., [0,1],:].shape"
   ]
  },
  {
   "cell_type": "code",
   "execution_count": 5,
   "metadata": {
    "id": "NELGYNtOOnTO"
   },
   "outputs": [],
   "source": [
    "# mn = np.mean(x)\n",
    "# std = 3 * np.std(x)\n",
    "# mnstdr = mn + std\n",
    "# mnstdl = mn - std\n",
    "\n",
    "# %timeit filter(lambda x: x > mnstdr or x < mnstdl, x)\n",
    "\n",
    "\n",
    "# У маскинга свой небольшой язык\n",
    "# Например,\n",
    "# not = ~\n",
    "# and = &\n",
    "# or = |\n",
    "# >, <, >=, <="
   ]
  },
  {
   "cell_type": "markdown",
   "metadata": {
    "id": "vwcXZqTqOaUD"
   },
   "source": [
    "#### IV* Broadcasting"
   ]
  },
  {
   "cell_type": "code",
   "execution_count": 138,
   "metadata": {},
   "outputs": [
    {
     "data": {
      "text/plain": [
       "array([[ 0,  1,  2,  3],\n",
       "       [ 4,  5,  6,  7],\n",
       "       [ 8,  9, 10, 11]])"
      ]
     },
     "execution_count": 138,
     "metadata": {},
     "output_type": "execute_result"
    }
   ],
   "source": [
    "x = np.arange(12).reshape(3,4)\n",
    "x"
   ]
  },
  {
   "cell_type": "code",
   "execution_count": 143,
   "metadata": {},
   "outputs": [
    {
     "data": {
      "text/plain": [
       "array([1, 2, 3])"
      ]
     },
     "execution_count": 143,
     "metadata": {},
     "output_type": "execute_result"
    }
   ],
   "source": [
    "x = np.array([1,2,3])\n",
    "x"
   ]
  },
  {
   "cell_type": "code",
   "execution_count": 146,
   "metadata": {},
   "outputs": [
    {
     "data": {
      "text/plain": [
       "array([[[1, 2, 3]]])"
      ]
     },
     "execution_count": 146,
     "metadata": {},
     "output_type": "execute_result"
    }
   ],
   "source": [
    "x = x[None, :]\n",
    "x"
   ]
  },
  {
   "cell_type": "code",
   "execution_count": 149,
   "metadata": {},
   "outputs": [
    {
     "data": {
      "text/plain": [
       "array([[1],\n",
       "       [4]])"
      ]
     },
     "execution_count": 149,
     "metadata": {},
     "output_type": "execute_result"
    }
   ],
   "source": [
    "y = np.array([[1], [4]])\n",
    "\n",
    "y"
   ]
  },
  {
   "cell_type": "code",
   "execution_count": 150,
   "metadata": {},
   "outputs": [
    {
     "data": {
      "text/plain": [
       "array([[[2, 3, 4],\n",
       "        [5, 6, 7]]])"
      ]
     },
     "execution_count": 150,
     "metadata": {},
     "output_type": "execute_result"
    }
   ],
   "source": [
    "x + y"
   ]
  },
  {
   "cell_type": "code",
   "execution_count": 151,
   "metadata": {
    "id": "vwcXZqTqOaUD"
   },
   "outputs": [
    {
     "data": {
      "text/plain": [
       "array([ 2,  3,  4,  5,  6,  7,  8,  9, 10, 11])"
      ]
     },
     "execution_count": 151,
     "metadata": {},
     "output_type": "execute_result"
    }
   ],
   "source": [
    "# https://numpy.org/doc/stable/user/basics.broadcasting.html - посмотрите хотя-бы картинки, будет гораздо понятнее\n",
    "# часто возникает необходимость делать операции с массивами формально неподходящего размера:\n",
    "np.arange(10) + 2"
   ]
  },
  {
   "cell_type": "code",
   "execution_count": 152,
   "metadata": {},
   "outputs": [
    {
     "ename": "ValueError",
     "evalue": "operands could not be broadcast together with shapes (10,) (2,) ",
     "output_type": "error",
     "traceback": [
      "\u001b[0;31m---------------------------------------------------------------------------\u001b[0m",
      "\u001b[0;31mValueError\u001b[0m                                Traceback (most recent call last)",
      "Cell \u001b[0;32mIn[152], line 2\u001b[0m\n\u001b[1;32m      1\u001b[0m \u001b[38;5;66;03m# а так -- можно?\u001b[39;00m\n\u001b[0;32m----> 2\u001b[0m \u001b[43mnp\u001b[49m\u001b[38;5;241;43m.\u001b[39;49m\u001b[43marange\u001b[49m\u001b[43m(\u001b[49m\u001b[38;5;241;43m10\u001b[39;49m\u001b[43m)\u001b[49m\u001b[43m \u001b[49m\u001b[38;5;241;43m+\u001b[39;49m\u001b[43m \u001b[49m\u001b[43mnp\u001b[49m\u001b[38;5;241;43m.\u001b[39;49m\u001b[43marray\u001b[49m\u001b[43m(\u001b[49m\u001b[43m[\u001b[49m\u001b[38;5;241;43m1\u001b[39;49m\u001b[43m,\u001b[49m\u001b[43m \u001b[49m\u001b[38;5;241;43m2\u001b[39;49m\u001b[43m]\u001b[49m\u001b[43m)\u001b[49m\n",
      "\u001b[0;31mValueError\u001b[0m: operands could not be broadcast together with shapes (10,) (2,) "
     ]
    }
   ],
   "source": [
    "# а так -- можно?\n",
    "np.arange(10) + np.array([1, 2])"
   ]
  },
  {
   "cell_type": "code",
   "execution_count": 155,
   "metadata": {},
   "outputs": [
    {
     "data": {
      "text/plain": [
       "array([ 1,  3,  3,  5,  5,  7,  7,  9,  9, 11])"
      ]
     },
     "execution_count": 155,
     "metadata": {},
     "output_type": "execute_result"
    }
   ],
   "source": [
    "x = np.arange(10).reshape(5, 2)\n",
    "y = np.array([1, 2])\n",
    "(x + y).reshape(10)"
   ]
  },
  {
   "cell_type": "code",
   "execution_count": 156,
   "metadata": {},
   "outputs": [
    {
     "data": {
      "text/plain": [
       "array([ 1,  2,  3,  4,  5,  7,  8,  9, 10, 11])"
      ]
     },
     "execution_count": 156,
     "metadata": {},
     "output_type": "execute_result"
    }
   ],
   "source": [
    "# А это почему так получилось?\n",
    "x = np.arange(10).reshape(2, 5)\n",
    "y = np.array([[1], [2]])\n",
    "(x + y).reshape(10)"
   ]
  },
  {
   "cell_type": "markdown",
   "metadata": {},
   "source": [
    "---"
   ]
  },
  {
   "cell_type": "code",
   "execution_count": 161,
   "metadata": {},
   "outputs": [
    {
     "data": {
      "text/plain": [
       "array([[ 21.,   5.],\n",
       "       [ -9.,  15.],\n",
       "       [-66., -33.],\n",
       "       [-54., -15.]])"
      ]
     },
     "execution_count": 161,
     "metadata": {},
     "output_type": "execute_result"
    }
   ],
   "source": [
    "# Пусть у нас есть точка x и массив точек X. Как мне найти близжайшую к X точку в массиве?\n",
    "\n",
    "x = np.array([111.0, 188.0])\n",
    "X = np.array([[132.0, 193.0],[102.0, 203.0], [45.0, 155.0], [57.0, 173.0]])\n",
    "\n",
    "X - x\n",
    "\n"
   ]
  },
  {
   "cell_type": "code",
   "execution_count": 162,
   "metadata": {},
   "outputs": [
    {
     "data": {
      "text/plain": [
       "np.int64(1)"
      ]
     },
     "execution_count": 162,
     "metadata": {},
     "output_type": "execute_result"
    }
   ],
   "source": [
    "((X - x) ** 2).sum(axis=1).argmin()"
   ]
  },
  {
   "cell_type": "markdown",
   "metadata": {},
   "source": [
    "Более строго, правила такие:\n",
    "\n",
    "**Rule 1**: If the two arrays differ in their number of dimensions, the shape of the one with fewer dimensions is padded with ones on its leading (left) side.\n",
    "\n",
    "**Rule 2**: If the shape of the two arrays does not match in any dimension, the array with shape equal to 1 in that dimension is stretched to match the other shape.\n",
    "\n",
    "**Rule 3**: If in any dimension the sizes disagree and neither is equal to 1, an error is raised:"
   ]
  },
  {
   "cell_type": "code",
   "execution_count": null,
   "metadata": {},
   "outputs": [],
   "source": []
  },
  {
   "cell_type": "markdown",
   "metadata": {},
   "source": [
    "# Упражнения"
   ]
  },
  {
   "cell_type": "code",
   "execution_count": 163,
   "metadata": {},
   "outputs": [
    {
     "data": {
      "text/plain": [
       "array([[0, 1, 2],\n",
       "       [3, 4, 5],\n",
       "       [6, 7, 8]])"
      ]
     },
     "execution_count": 163,
     "metadata": {},
     "output_type": "execute_result"
    }
   ],
   "source": [
    "# Create a 3x3 matrix with values ranging from 0 to 8\n",
    "np.arange(9).reshape(3,3)"
   ]
  },
  {
   "cell_type": "code",
   "execution_count": 167,
   "metadata": {},
   "outputs": [
    {
     "data": {
      "text/plain": [
       "array([0, 1, 3, 5])"
      ]
     },
     "execution_count": 167,
     "metadata": {},
     "output_type": "execute_result"
    }
   ],
   "source": [
    "# Find indices of non-zero elements from given array x\n",
    "\n",
    "x = np.array([1, 2,  0, 6, 0, 1]) # [2, 4]\n",
    "\n",
    "np.arange(len(x))[x != 0]"
   ]
  },
  {
   "cell_type": "code",
   "execution_count": 186,
   "metadata": {},
   "outputs": [
    {
     "data": {
      "text/plain": [
       "array([[ 0,  1,  2,  3,  0],\n",
       "       [ 4,  5,  6,  7,  0],\n",
       "       [ 8,  9, 10, 11,  0]])"
      ]
     },
     "execution_count": 186,
     "metadata": {},
     "output_type": "execute_result"
    }
   ],
   "source": [
    "# How to add a border (filled with 0's) around an existing array?\n",
    "x = np.arange(12).reshape(3, 4)\n",
    "np.hstack([x, np.zeros_like(x[:, :1])])"
   ]
  },
  {
   "cell_type": "code",
   "execution_count": 178,
   "metadata": {},
   "outputs": [
    {
     "data": {
      "text/plain": [
       "array([[ 0,  1,  2,  3],\n",
       "       [ 4,  5,  6,  7],\n",
       "       [ 8,  9, 10, 11]])"
      ]
     },
     "execution_count": 178,
     "metadata": {},
     "output_type": "execute_result"
    }
   ],
   "source": [
    "x"
   ]
  },
  {
   "cell_type": "code",
   "execution_count": 179,
   "metadata": {},
   "outputs": [
    {
     "data": {
      "text/plain": [
       "array([0., 0., 0.])"
      ]
     },
     "execution_count": 179,
     "metadata": {},
     "output_type": "execute_result"
    }
   ],
   "source": [
    "np.zeros(x.shape[0])"
   ]
  },
  {
   "cell_type": "code",
   "execution_count": null,
   "metadata": {},
   "outputs": [],
   "source": [
    "# Given a 1D array, negate all elements which are between 3 and 8, in place"
   ]
  },
  {
   "cell_type": "code",
   "execution_count": null,
   "metadata": {},
   "outputs": [],
   "source": [
    "# Create random vector of size 10 and replace the maximum value by 0"
   ]
  },
  {
   "cell_type": "code",
   "execution_count": null,
   "metadata": {},
   "outputs": [],
   "source": [
    "# How to find common values between two arrays?"
   ]
  },
  {
   "cell_type": "code",
   "execution_count": null,
   "metadata": {},
   "outputs": [],
   "source": [
    "# Given a two dimensional array, how to extract unique rows?"
   ]
  },
  {
   "cell_type": "code",
   "execution_count": null,
   "metadata": {},
   "outputs": [],
   "source": [
    "# How to get the n largest values of an array"
   ]
  },
  {
   "cell_type": "code",
   "execution_count": null,
   "metadata": {},
   "outputs": [],
   "source": [
    "# How to compute ((A+B)*(-A/2)) in place (without copy)?"
   ]
  },
  {
   "cell_type": "code",
   "execution_count": null,
   "metadata": {},
   "outputs": [],
   "source": [
    "# Consider two arrays A and B of shape (8,3) and (2,2). \n",
    "# How to find rows of A that contain elements of each \n",
    "# row of B regardless of the order of the elements in B?"
   ]
  },
  {
   "cell_type": "code",
   "execution_count": 183,
   "metadata": {},
   "outputs": [],
   "source": [
    "# Considering a 10x3 matrix, extract rows with unequal values"
   ]
  },
  {
   "cell_type": "markdown",
   "metadata": {},
   "source": [
    "### Задача 1: Попарные углы (1 балл)\n",
    "\n",
    "Даны набор векторов. Без использования циклов в Python найдите номера двух различных векторов, угол между которыми - минимален. Максимум 3 строки, соответсвующие форматированию jupyter_black."
   ]
  },
  {
   "cell_type": "code",
   "execution_count": 28,
   "metadata": {},
   "outputs": [],
   "source": [
    "# 10 векторов в R^4\n",
    "x = np.array(\n",
    "    [\n",
    "        [-1.05247805, 0.0813231, 0.94708268, -0.53371674],\n",
    "        [0.01359646, -1.43838044, 1.01326978, -0.38062482],\n",
    "        [0.30563645, 1.18997822, 0.48149476, 0.83524308],\n",
    "        [1.22609704, 1.72169283, -0.21137761, -1.21598295],\n",
    "        [0.6397264, -1.24751009, 0.03137696, 0.55576899],\n",
    "        [1.55630085, 1.2840827, -0.52525765, 2.4523538],\n",
    "        [-1.70632707, 0.45006017, -1.04214031, -1.47674443],\n",
    "        [-0.51870141, -0.01755243, 1.95102122, 0.36809772],\n",
    "        [-0.97629927, 0.35430853, -0.63895086, -0.2467184],\n",
    "        [-0.51120513, -0.33014789, -1.45017724, -0.02398285],\n",
    "    ]\n",
    ")\n",
    "\n",
    "y = np.dot(x, x.T) / np.matmul(np.linalg.norm(x, axis=1).reshape(10, 1), np.linalg.norm(x, axis=1).reshape(1, 10)) - np.eye(10)\n",
    "i, j = (y.argmax() // y.shape[0], y.argmax() % y.shape[0])\n",
    "assert (i, j) == (6, 8) or (i, j) == (8, 6), \"Wrong Answer\""
   ]
  },
  {
   "cell_type": "markdown",
   "metadata": {},
   "source": [
    "### Задача 2: Cвертка (1 балл)\n",
    "Реализуйте двумерную свертку при помощи numpy без использования циклов в python. \n",
    "Максимум 4 строки,  соответсвующие форматированию jupyter_black.\n",
    "\n",
    "![](https://upload.wikimedia.org/wikipedia/commons/1/19/2D_Convolution_Animation.gif)\n",
    "\n"
   ]
  },
  {
   "cell_type": "code",
   "execution_count": 4,
   "metadata": {},
   "outputs": [
    {
     "name": "stdout",
     "output_type": "stream",
     "text": [
      "[[ 0  1  2  3  4  5  6  7]\n",
      " [ 8  9 10 11 12 13 14 15]\n",
      " [16 17 18 19 20 21 22 23]\n",
      " [24 25 26 27 28 29 30 31]\n",
      " [32 33 34 35 36 37 38 39]\n",
      " [40 41 42 43 44 45 46 47]\n",
      " [48 49 50 51 52 53 54 55]\n",
      " [56 57 58 59 60 61 62 63]]\n",
      "[[ 37  42  47  52  57  62]\n",
      " [ 77  82  87  92  97 102]\n",
      " [117 122 127 132 137 142]\n",
      " [157 162 167 172 177 182]\n",
      " [197 202 207 212 217 222]\n",
      " [237 242 247 252 257 262]]\n"
     ]
    }
   ],
   "source": [
    "x = np.arange(64).reshape((8, 8))\n",
    "kernel = np.array([[1, -1, 2], [3, -2, 1], [0, 0, 1]])\n",
    "print(x)\n",
    "\n",
    "# XV, YV = np.meshgrid(np.arange(0, (x.shape[0]-2)), np.arange(0, (x.shape[0]-2)))\n",
    "# indexes = np.array([np.column_stack((XV.ravel(), YV.ravel())), np.column_stack((XV.ravel(), YV.ravel())) + [2, 2]])\n",
    "# print(x[indexes[0,:,:], indexes[1,:,:]])\n",
    "\n",
    "x = np.array([np.sum((x[i:i+3, j:j+3])*kernel) for i in range(x.shape[0]-2) for j in range(x.shape[1]-2)]).reshape(x.shape[0]-2,x.shape[1]-2)\n",
    "print(x)\n",
    "\n",
    "ans = np.array(\n",
    "    [\n",
    "        [37, 42, 47, 52, 57, 62],\n",
    "        [77, 82, 87, 92, 97, 102],\n",
    "        [117, 122, 127, 132, 137, 142],\n",
    "        [157, 162, 167, 172, 177, 182],\n",
    "        [197, 202, 207, 212, 217, 222],\n",
    "        [237, 242, 247, 252, 257, 262],\n",
    "    ]\n",
    ")\n",
    "assert (x == ans).all(), \"Wrong answer\""
   ]
  },
  {
   "cell_type": "markdown",
   "metadata": {},
   "source": [
    "----\n",
    "\n",
    "This notebook was adapted from Anton Alekseev's practical lessons on MCS SPBU, [tutorial from CS231N at Stanford University](https://cs231n.github.io/python-numpy-tutorial/), and [NumPy documentation](https://numpy.org/doc/stable/index.html)."
   ]
  },
  {
   "cell_type": "code",
   "execution_count": null,
   "metadata": {},
   "outputs": [],
   "source": []
  }
 ],
 "metadata": {
  "colab": {
   "collapsed_sections": [],
   "name": "mcs_spring2021_numpy_intro.ipynb",
   "provenance": []
  },
  "kernelspec": {
   "display_name": "Python 3 (ipykernel)",
   "language": "python",
   "name": "python3"
  },
  "language_info": {
   "codemirror_mode": {
    "name": "ipython",
    "version": 3
   },
   "file_extension": ".py",
   "mimetype": "text/x-python",
   "name": "python",
   "nbconvert_exporter": "python",
   "pygments_lexer": "ipython3",
   "version": "3.12.0"
  }
 },
 "nbformat": 4,
 "nbformat_minor": 4
}
