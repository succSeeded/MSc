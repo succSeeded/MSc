{
 "cells": [
  {
   "cell_type": "code",
   "execution_count": 1,
   "id": "024bed7a-7e2a-4fd7-8559-2fcd63369859",
   "metadata": {},
   "outputs": [],
   "source": [
    "%load_ext jupyter_black"
   ]
  },
  {
   "cell_type": "code",
   "execution_count": 2,
   "id": "ee0d1753-e6cc-474b-9bbe-9f460cb3c32c",
   "metadata": {},
   "outputs": [],
   "source": [
    "import numpy as np\n",
    "import scipy as sp\n",
    "from scipy.linalg import svd, qr"
   ]
  },
  {
   "cell_type": "code",
   "execution_count": 3,
   "id": "beccc147-bd39-4864-9aee-4bb4db528909",
   "metadata": {},
   "outputs": [],
   "source": [
    "np.set_printoptions(precision=4, suppress=True)"
   ]
  },
  {
   "cell_type": "code",
   "execution_count": 4,
   "id": "3da9c660-65f0-4f48-b400-6e7e0eb5160a",
   "metadata": {},
   "outputs": [
    {
     "data": {
      "text/plain": [
       "array([[ 3.,  2., -1.],\n",
       "       [ 2., -4.,  5.],\n",
       "       [ 1.,  1.,  1.],\n",
       "       [ 2.,  2.,  2.]])"
      ]
     },
     "execution_count": 4,
     "metadata": {},
     "output_type": "execute_result"
    }
   ],
   "source": [
    "A = np.array([[3.0, 2.0, -1.0], [2.0, -4, 5.0], [1.0, 1.0, 1.0], [2.0, 2.0, 2.0]])\n",
    "b = np.array([1.0, 2.0, 3.0, 6.0])\n",
    "A"
   ]
  },
  {
   "cell_type": "code",
   "execution_count": 5,
   "id": "5d9cfc2d-256b-4781-a6ac-26360659fe11",
   "metadata": {},
   "outputs": [
    {
     "data": {
      "text/plain": [
       "array([1., 2., 3., 6.])"
      ]
     },
     "execution_count": 5,
     "metadata": {},
     "output_type": "execute_result"
    }
   ],
   "source": [
    "b"
   ]
  },
  {
   "cell_type": "code",
   "execution_count": 6,
   "id": "605efe8c-e816-4ed7-908b-289ba2aefd13",
   "metadata": {},
   "outputs": [
    {
     "data": {
      "text/plain": [
       "array([-0.1111,  1.4815,  1.6296])"
      ]
     },
     "execution_count": 6,
     "metadata": {},
     "output_type": "execute_result"
    }
   ],
   "source": [
    "sol = np.linalg.lstsq(A, b)[0]\n",
    "sol"
   ]
  },
  {
   "cell_type": "markdown",
   "id": "2a895609-3757-46bf-8b5a-45be09b7bbe2",
   "metadata": {},
   "source": [
    "## Task 13: gelss\n",
    "Implement `gelss` (with numpy, python and scipy.svd)."
   ]
  },
  {
   "cell_type": "code",
   "execution_count": 7,
   "id": "cac81ced-0912-466a-971a-9eeff3eff936",
   "metadata": {},
   "outputs": [],
   "source": [
    "def gelss(A: np.ndarray, b: np.array) -> np.array:\n",
    "    \"\"\"\n",
    "    Computes svd decomposition of the weights matrix and solves least squares problem by amtrix multiplication.\n",
    "\n",
    "    Parameters:\n",
    "    A (ndarray): Matrix of weights (n x m)\n",
    "    b   (array): Biases vector (m x 1)\n",
    "\n",
    "    Returns:\n",
    "    x (array): least squares problem solution\n",
    "    \"\"\"\n",
    "    \n",
    "    U, D, Vh = svd(A, full_matrices=False)\n",
    "\n",
    "    for i in range(D.shape[0]):\n",
    "        D[i] = 1.0 / D[i] if D[i] > 1e-9 else 0.0\n",
    "\n",
    "    D = D * np.eye(D.shape[0])\n",
    "\n",
    "    return (Vh.T @ D @ U.T @ b.reshape(-1, 1)).flatten()"
   ]
  },
  {
   "cell_type": "markdown",
   "id": "15b75c7d-d160-4674-a2d5-0e24fdd72fec",
   "metadata": {},
   "source": [
    "## Task 14: gelsd\n",
    "Implement `gelsd` (with numpy, python and scipy.svd)."
   ]
  },
  {
   "cell_type": "markdown",
   "id": "01d60140-4301-47ba-8936-87cbdc1ed2e4",
   "metadata": {},
   "source": [
    "First, we have to implement a bidiagonalization algorithm. Here I used [the Golub-Kahan Bidiagonalization algorithm](https://www.active-analytics.com/blog/householder-bigiag-in-d/)."
   ]
  },
  {
   "cell_type": "code",
   "execution_count": 8,
   "id": "97c98eec-fd43-42e6-acce-bcec38754767",
   "metadata": {
    "editable": true,
    "slideshow": {
     "slide_type": ""
    },
    "tags": []
   },
   "outputs": [],
   "source": [
    "def bidiag(A: np.ndarray) -> (np.ndarray, np.ndarray, np.ndarray):\n",
    "    \"\"\"\n",
    "    An implementation of Golub-Kahan Bidiagonalization algorithm.\n",
    "\n",
    "    Parameters:\n",
    "    A (ndarray): n x m Matrix to be decomposed\n",
    "\n",
    "    Returns:\n",
    "    U (ndarray): Left Householder matrix (n x n)\n",
    "    B (ndarray): Bidiagonal matrix (n x m)\n",
    "    V (ndarray): Right Householder matrix (m x m)\n",
    "    \"\"\"\n",
    "\n",
    "    def sign(t):\n",
    "        return 1.0 if t >= 0.0 else -1.0\n",
    "\n",
    "    def house_mtx(vect: np.array, ndim: int = None) -> np.ndarray:\n",
    "        \"\"\"\n",
    "        Transofrms a Householder vector into corresponding Householder matrix(operator)\n",
    "\n",
    "        Parameters:\n",
    "        vect (ndarray): Householder vector in question.\n",
    "        ndim     (int): Dimension to expand the operator to.\n",
    "\n",
    "        Returns:\n",
    "        P (ndarray): Householder operator\n",
    "        \"\"\"\n",
    "        r = vect.shape[0]\n",
    "\n",
    "        if ndim is None:\n",
    "            ndim = vect.shape[0]\n",
    "\n",
    "        vect = vect.reshape(-1, 1)\n",
    "        P = np.eye(ndim)\n",
    "        P[(ndim - r) :, (ndim - r) :] = P[(ndim - r) :, (ndim - r) :] - 2.0 * (\n",
    "            vect @ vect.T\n",
    "        )\n",
    "\n",
    "        return P\n",
    "\n",
    "    n = A.shape[0]\n",
    "    m = A.shape[1]\n",
    "    B = A.copy()\n",
    "    U = np.eye(n)\n",
    "    V = np.eye(m)\n",
    "\n",
    "    for k in range(m):\n",
    "\n",
    "        x = B[k:, k].flatten()\n",
    "        u = x.copy()\n",
    "        u[0] += sign(x[0]) * np.linalg.norm(x)\n",
    "        u = u / np.linalg.norm(u)\n",
    "\n",
    "        transform = house_mtx(u, n)\n",
    "        U = transform @ U\n",
    "        B[k:, k:] = house_mtx(u) @ B[k:, k:]\n",
    "\n",
    "        if k < (m - 2):\n",
    "\n",
    "            x = B[k, k + 1 :].flatten()\n",
    "            v = x.copy()\n",
    "            v[0] += sign(x[0]) * np.linalg.norm(x)\n",
    "            v = v / np.linalg.norm(v)\n",
    "\n",
    "            transform = house_mtx(v, m)\n",
    "            V = transform @ V\n",
    "            B[k:, (k + 1) :] = B[k:, (k + 1) :] @ house_mtx(v)\n",
    "\n",
    "    return (U, B, V)"
   ]
  },
  {
   "cell_type": "markdown",
   "id": "fa3c9fd6-07a6-4a0c-8dbe-b665b1fbd01c",
   "metadata": {},
   "source": [
    "Let's see if bidiagonalization algorithm works"
   ]
  },
  {
   "cell_type": "code",
   "execution_count": 9,
   "id": "be68f842-ed2f-42df-be47-99b5c5ea1f08",
   "metadata": {},
   "outputs": [
    {
     "data": {
      "text/plain": [
       "(array([[-0.7071, -0.4714, -0.2357, -0.4714],\n",
       "        [ 0.6771, -0.6663, -0.1397, -0.2794],\n",
       "        [ 0.2039,  0.5778, -0.3534, -0.7069],\n",
       "        [-0.    ,  0.    , -0.8944,  0.4472]]),\n",
       " array([[-4.2426,  2.9155, -0.    ],\n",
       "        [-0.    ,  3.7613, -4.3634],\n",
       "        [-0.    , -0.    ,  3.7834],\n",
       "        [-0.    , -0.    , -0.    ]]),\n",
       " array([[ 1.    ,  0.    ,  0.    ],\n",
       "        [ 0.    , -0.2425, -0.9701],\n",
       "        [ 0.    , -0.9701,  0.2425]]))"
      ]
     },
     "execution_count": 9,
     "metadata": {},
     "output_type": "execute_result"
    }
   ],
   "source": [
    "bidiag(A)"
   ]
  },
  {
   "cell_type": "code",
   "execution_count": 10,
   "id": "bf8c85d4-4a32-4c88-870d-c3ca956f5406",
   "metadata": {},
   "outputs": [
    {
     "name": "stdout",
     "output_type": "stream",
     "text": [
      "This is indeed correct Golub-Kahan decomposition!\n"
     ]
    }
   ],
   "source": [
    "us, bs, vs = bidiag(A)\n",
    "\n",
    "if (np.abs(us.T @ bs @ vs.T - A) < 1e-9).all():\n",
    "    print(f\"This is indeed correct Golub-Kahan decomposition!\")\n",
    "else:\n",
    "    print((us.T @ bs @ vs.T - A))\n",
    "    print(\n",
    "        f\"Something went wrong, maximal deviation is {np.max(np.abs(us.T @ bs @ vs.T - A))} at index {(int(np.argmax(np.abs(us.T @ bs @ vs.T - A)) // bs.shape[1])+1, int(np.argmax(np.abs(us.T @ bs @ vs.T - A)) % bs.shape[1])+1)}\"\n",
    "    )"
   ]
  },
  {
   "cell_type": "code",
   "execution_count": 11,
   "id": "ba536f2a-b18b-4a7d-984a-696d415222e3",
   "metadata": {},
   "outputs": [],
   "source": [
    "def bls(A: np.ndarray, b: np.array) -> np.array:\n",
    "    \"\"\"\n",
    "    Computes the solution of the bidiagonal least squares problem.\n",
    "\n",
    "    Parameters:\n",
    "    A (ndarray): Upper bidiagonal matrix (n x m)\n",
    "    b   (array): Biases vector (m x 1)\n",
    "\n",
    "    Returns:\n",
    "    x (array): least squares problem solution\n",
    "    \"\"\"\n",
    "\n",
    "    n = A.shape[0]\n",
    "    m = A.shape[1]\n",
    "    x = np.zeros((m,))\n",
    "\n",
    "    if m <= n:\n",
    "        x[-1] = b[m - 1] / A[m - 1, m - 1]\n",
    "\n",
    "        for i in range(1, m):\n",
    "            x[-1 - i] = (b[m - i - 1] - x[-i] * A[m - i - 1, m - i]) / A[\n",
    "                m - i - 1, m - i - 1\n",
    "            ]\n",
    "    else:\n",
    "        x[m - 1] = b[-1] / A[m - 1, m - 1]\n",
    "\n",
    "        for i in range(1, m):\n",
    "            x[m - 1 - i] = (b[-1 - i] - x[m - i] * A[m - i - 1, m - i]) / A[\n",
    "                m - i - 1, m - i - 1\n",
    "            ]\n",
    "\n",
    "    return x"
   ]
  },
  {
   "cell_type": "code",
   "execution_count": 12,
   "id": "58c13dc1-4620-4e02-a6be-fdaac1ce93e8",
   "metadata": {
    "editable": true,
    "slideshow": {
     "slide_type": ""
    },
    "tags": []
   },
   "outputs": [],
   "source": [
    "def gelsd(A: np.ndarray, b: np.array) -> np.array:\n",
    "    \"\"\"\n",
    "    Computes biadiagonal decomposition of the weights matrix and solves BLS problem using LBD algorithm, then applies the householder transformations to the result.\n",
    "\n",
    "    Parameters:\n",
    "    A (ndarray): Matrix of weights (n x m)\n",
    "    b   (array): Biases vector (m x 1)\n",
    "\n",
    "    Returns:\n",
    "    x (array): least squares problem solution\n",
    "    \"\"\"\n",
    "\n",
    "    U, B, Vh = bidiag(A)\n",
    "\n",
    "    beta = (U @ b.reshape(-1, 1)).flatten()\n",
    "\n",
    "    y = bls(B, beta)\n",
    "\n",
    "    return Vh @ y"
   ]
  },
  {
   "cell_type": "markdown",
   "id": "071125f2-0a86-4816-a5d9-15bcccd8f806",
   "metadata": {},
   "source": [
    "## Task 15: gelsy\n",
    "Implement `gelsy` (with numpy, python and scipy.qr)."
   ]
  },
  {
   "cell_type": "code",
   "execution_count": 13,
   "id": "22633af0-3edc-4b30-8bc1-daf2da0dc983",
   "metadata": {
    "editable": true,
    "slideshow": {
     "slide_type": ""
    },
    "tags": []
   },
   "outputs": [],
   "source": [
    "def gelsy(A, b, rcond=None):\n",
    "    \"\"\"\n",
    "    Solves the least squares problem Ax = b using QR decomposition with column pivoting.\n",
    "\n",
    "    Parameters:\n",
    "    A (ndarray): Matrix of weights (n x m)\n",
    "    b   (array): Biases vector (m x 1)\n",
    "\n",
    "    Returns:\n",
    "    x   (array): least squares problem solution\n",
    "    \"\"\"\n",
    "    Q, R, P = qr(A, pivoting=True)\n",
    "    \n",
    "    rank = np.sum(np.abs(np.diag(R)) > 1e-9)\n",
    "\n",
    "    R11 = R[:rank, :rank]\n",
    "    Qt_b = Q.T @ b\n",
    "\n",
    "    y = np.zeros(R.shape[1])\n",
    "    y[:rank] = np.linalg.solve(R11, Qt_b[:rank])\n",
    "\n",
    "    x = np.zeros(R.shape[1])\n",
    "    x[P] = y\n",
    "\n",
    "    return x"
   ]
  },
  {
   "cell_type": "code",
   "execution_count": 14,
   "id": "2e3caa86-f060-4322-8b68-6a171d1d5a7f",
   "metadata": {},
   "outputs": [
    {
     "name": "stdout",
     "output_type": "stream",
     "text": [
      "numpy.linalg.lstsq solution:\n",
      "    [-0.1111  1.4815  1.6296]\n",
      "Checking:\n",
      "    Ax = [1. 2. 3. 6.]\n",
      "    b = [1. 2. 3. 6.]\n"
     ]
    }
   ],
   "source": [
    "print(f\"numpy.linalg.lstsq solution:\\n    {sol}\")\n",
    "\n",
    "print(f\"Checking:\\n    Ax = {np.dot(A, sol)}\\n    b = {b}\")"
   ]
  },
  {
   "cell_type": "code",
   "execution_count": 15,
   "id": "b5e9db41-beec-4cf5-9069-985375f14dd5",
   "metadata": {},
   "outputs": [
    {
     "name": "stdout",
     "output_type": "stream",
     "text": [
      "gelss solution x:\n",
      "    [-0.1111  1.4815  1.6296]\n",
      "Checking:\n",
      "    Ax = [1. 2. 3. 6.]\n",
      "    b = [1. 2. 3. 6.]\n"
     ]
    }
   ],
   "source": [
    "x = gelss(A, b)\n",
    "print(f\"gelss solution x:\\n    {x}\")\n",
    "\n",
    "print(f\"Checking:\\n    Ax = {np.dot(A, x)}\\n    b = {b}\")"
   ]
  },
  {
   "cell_type": "code",
   "execution_count": 16,
   "id": "86b1adf3-ffe7-4356-a3ea-a84fb457c860",
   "metadata": {},
   "outputs": [
    {
     "name": "stdout",
     "output_type": "stream",
     "text": [
      "gelsd solution x:\n",
      "    [-0.1111  1.4815  1.6296]\n",
      "Checking:\n",
      "    Ax = [1. 2. 3. 6.]\n",
      "    b = [1. 2. 3. 6.]\n"
     ]
    }
   ],
   "source": [
    "x = gelsd(A, b)\n",
    "print(f\"gelsd solution x:\\n    {x}\")\n",
    "\n",
    "print(f\"Checking:\\n    Ax = {np.dot(A, x)}\\n    b = {b}\")"
   ]
  },
  {
   "cell_type": "code",
   "execution_count": 17,
   "id": "078062d0-0a4a-48ba-bfe5-851b7a8a0743",
   "metadata": {},
   "outputs": [
    {
     "name": "stdout",
     "output_type": "stream",
     "text": [
      "gelsy solution x:\n",
      "    [-0.1111  1.4815  1.6296]\n",
      "Checking:\n",
      "    Ax = [1. 2. 3. 6.]\n",
      "    b = [1. 2. 3. 6.]\n"
     ]
    }
   ],
   "source": [
    "x = gelsy(A, b)\n",
    "print(f\"gelsy solution x:\\n    {x}\")\n",
    "\n",
    "print(f\"Checking:\\n    Ax = {np.dot(A, x)}\\n    b = {b}\")"
   ]
  },
  {
   "cell_type": "markdown",
   "id": "19fe665a-b964-4cdc-b0f6-889dc6d9ea0d",
   "metadata": {},
   "source": [
    "## Task 16: Cholesky\n",
    "\n",
    "Fix bugs in the Cholesky decomposition algorithm."
   ]
  },
  {
   "cell_type": "code",
   "execution_count": 18,
   "id": "4120d23b-60b0-4278-b3b3-c81cd10dc05e",
   "metadata": {},
   "outputs": [],
   "source": [
    "def cholesky(A: np.ndarray) -> np.ndarray:\n",
    "    \"\"\"\n",
    "    Performs a Cholesky decomposition of the matrix A.\n",
    "\n",
    "    Parameters:\n",
    "    A (ndarray): Positive definite matrix to be decomposed (n x n)\n",
    "\n",
    "    Returns:\n",
    "    L (ndarray): Lower-triangular matrix such that A := L @ L*\n",
    "    \"\"\"\n",
    "\n",
    "    L = np.zeros_like(A, dtype=np.float64)\n",
    "    n = A.shape[0]\n",
    "\n",
    "    for i in range(n):\n",
    "        L[i, i] = np.sqrt(A[i, i] - np.dot(L[i, :i], L[i, :i]))\n",
    "        L[i + 1 :, i] = (A[i + 1 :, i] - np.dot(L[i + 1 :, :i], L[i, :i])) / L[i, i]\n",
    "    return L"
   ]
  },
  {
   "cell_type": "markdown",
   "id": "b0a1ecce-72ec-4530-b4a2-714ef638e173",
   "metadata": {},
   "source": [
    "Let's define a positive definite symmetric matrix and test our algorithm on it."
   ]
  },
  {
   "cell_type": "code",
   "execution_count": 19,
   "id": "bd59c237-d3ac-48f4-bf94-bccec21d2c1a",
   "metadata": {},
   "outputs": [
    {
     "data": {
      "text/plain": [
       "array([[1000.  ,    1.  ],\n",
       "       [   1.  ,    0.01]])"
      ]
     },
     "execution_count": 19,
     "metadata": {},
     "output_type": "execute_result"
    }
   ],
   "source": [
    "mtx = np.array([[1e3, 1.0], [1.0, 1e-2]])\n",
    "mtx"
   ]
  },
  {
   "cell_type": "code",
   "execution_count": 21,
   "id": "b717b4f8-743c-4452-9549-68b92d2aec32",
   "metadata": {},
   "outputs": [
    {
     "name": "stdout",
     "output_type": "stream",
     "text": [
      "L = \n",
      "[[31.6228  0.    ]\n",
      " [ 0.0316  0.0949]]\n",
      "\n",
      "This is indeed Cholesky decomposition!\n"
     ]
    }
   ],
   "source": [
    "L = cholesky(mtx)\n",
    "\n",
    "if ((L @ L.T - mtx) < 1e-9).all():\n",
    "    print(f\"L = \\n{L}\\n\\nThis is indeed Cholesky decomposition!\")\n",
    "else:\n",
    "    print(f\"Something went wrong...\")"
   ]
  }
 ],
 "metadata": {
  "kernelspec": {
   "display_name": "Python 3 (ipykernel)",
   "language": "python",
   "name": "python3"
  },
  "language_info": {
   "codemirror_mode": {
    "name": "ipython",
    "version": 3
   },
   "file_extension": ".py",
   "mimetype": "text/x-python",
   "name": "python",
   "nbconvert_exporter": "python",
   "pygments_lexer": "ipython3",
   "version": "3.12.7"
  }
 },
 "nbformat": 4,
 "nbformat_minor": 5
}
