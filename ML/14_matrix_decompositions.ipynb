{
 "cells": [
  {
   "cell_type": "markdown",
   "id": "02e07ad6-e4e6-423d-831c-19d7b1346877",
   "metadata": {},
   "source": [
    "# 14. Matrix Decompositions"
   ]
  },
  {
   "cell_type": "markdown",
   "id": "ed78badd-d070-4c70-9f9b-4f192db312bc",
   "metadata": {},
   "source": [
    "Last time, I had a quastion on the matrix decompositions, and why are they used. Let's dive deeper into this. By the way, it is not only used in linear models; matrix decompositions will arrive frequntly in recommender systems, low-rank matrix approximations and dimensionality reducrtion techniques.\n",
    "\n",
    "## General concept of matrix factorization\n",
    "\n",
    "You frequently want to:\n",
    "- Solve linear systems $Ax = f$\n",
    "- Compute eigenvalues / eigenvectors\n",
    "- Compute singular values / singular vectors\n",
    "- Compute inverses, even sometimes determinants \n",
    "- Compute **matrix functions** like $\\exp(A), \\cos(A)$ (these are not elementwise functions)\n",
    "\n",
    "In order to do this, we represent the matrix as a sum and/or product of matrices with **simpler structure**,   such that we can solve mentioned tasks faster / in a more stable form."
   ]
  },
  {
   "cell_type": "code",
   "execution_count": 108,
   "id": "f6ab08ad-b62b-45c7-9867-5629a75bd18c",
   "metadata": {},
   "outputs": [],
   "source": [
    "# (here goes a story using the whiteboard)\n",
    "%load_ext jupyter_black"
   ]
  },
  {
   "cell_type": "markdown",
   "id": "2b348b0a-36af-4626-83a1-e5c4e951c9d0",
   "metadata": {},
   "source": [
    "# LU"
   ]
  },
  {
   "cell_type": "code",
   "execution_count": 113,
   "id": "f78894aa-9482-4892-85ac-55ee2e5f3a4b",
   "metadata": {},
   "outputs": [],
   "source": [
    "import numpy as np\n",
    "\n",
    "a = np.array([[1.0, 1.0], [0.5, 1]])\n",
    "a0 = a.copy()\n",
    "\n",
    "n = a.shape[0]"
   ]
  },
  {
   "cell_type": "code",
   "execution_count": 114,
   "id": "04dc7eac-d65a-4530-9c48-e3a87656fa8b",
   "metadata": {},
   "outputs": [],
   "source": [
    "L = np.zeros_like(a)\n",
    "U = np.zeros_like(a)\n",
    "\n",
    "for k in range(n):  # eliminating row k\n",
    "    L[k, k] = 1.0\n",
    "    for i in range(k + 1, n):  #\n",
    "        L[i, k] = a[i, k] / a[k, k]\n",
    "        for j in range(k + 1, n):\n",
    "            a[i, j] += -L[i, k] * a[k, j]\n",
    "    for i in range(k, n):\n",
    "        U[k, i] = a[k, i]"
   ]
  },
  {
   "cell_type": "code",
   "execution_count": 115,
   "id": "8a93751e-cc16-47f8-91be-559e7ee0f322",
   "metadata": {},
   "outputs": [
    {
     "data": {
      "text/plain": [
       "array([[1. , 0. ],\n",
       "       [0.5, 1. ]])"
      ]
     },
     "execution_count": 115,
     "metadata": {},
     "output_type": "execute_result"
    }
   ],
   "source": [
    "L"
   ]
  },
  {
   "cell_type": "code",
   "execution_count": 116,
   "id": "6fc130c7-e803-4ee1-b75b-c3f83621e42b",
   "metadata": {},
   "outputs": [
    {
     "data": {
      "text/plain": [
       "array([[1. , 1. ],\n",
       "       [0. , 0.5]])"
      ]
     },
     "execution_count": 116,
     "metadata": {},
     "output_type": "execute_result"
    }
   ],
   "source": [
    "U"
   ]
  },
  {
   "cell_type": "code",
   "execution_count": 117,
   "id": "318107b6-d078-42d0-9a08-590895d68a49",
   "metadata": {},
   "outputs": [
    {
     "data": {
      "text/plain": [
       "array([[1. , 1. ],\n",
       "       [0.5, 1. ]])"
      ]
     },
     "execution_count": 117,
     "metadata": {},
     "output_type": "execute_result"
    }
   ],
   "source": [
    "L @ U"
   ]
  },
  {
   "cell_type": "code",
   "execution_count": 107,
   "id": "e6c7751a-736b-4775-bdba-17c74d3c7f1e",
   "metadata": {},
   "outputs": [
    {
     "data": {
      "text/plain": [
       "(array([[1., 0.],\n",
       "        [0., 1.]]),\n",
       " array([[1. , 0. ],\n",
       "        [0.5, 1. ]]),\n",
       " array([[1. , 1. ],\n",
       "        [0. , 0.5]]))"
      ]
     },
     "execution_count": 107,
     "metadata": {},
     "output_type": "execute_result"
    }
   ],
   "source": [
    "import scipy\n",
    "scipy.linalg.lu(a0)"
   ]
  },
  {
   "cell_type": "code",
   "execution_count": 124,
   "id": "5641455f-1b88-4ac9-9b81-3355617b84e0",
   "metadata": {},
   "outputs": [],
   "source": [
    "eps = 1.8e-17\n",
    "a = np.array([[eps, 1], [1, 1.0]])\n",
    "L = np.zeros_like(a)\n",
    "U = np.zeros_like(a)\n",
    "\n",
    "for k in range(n):  # eliminating row k\n",
    "    L[k, k] = 1.0\n",
    "    for i in range(k + 1, n):  #\n",
    "        L[i, k] = a[i, k] / a[k, k]\n",
    "        for j in range(k + 1, n):\n",
    "            a[i, j] += -L[i, k] * a[k, j]\n",
    "    for i in range(k, n):\n",
    "        U[k, i] = a[k, i]"
   ]
  },
  {
   "cell_type": "code",
   "execution_count": 127,
   "id": "cca3ee94-55f6-45ad-b31b-360b0dc8157d",
   "metadata": {},
   "outputs": [
    {
     "data": {
      "text/plain": [
       "array([[1.00000000e+00, 0.00000000e+00],\n",
       "       [5.55555556e+16, 1.00000000e+00]])"
      ]
     },
     "execution_count": 127,
     "metadata": {},
     "output_type": "execute_result"
    }
   ],
   "source": [
    "L"
   ]
  },
  {
   "cell_type": "code",
   "execution_count": 128,
   "id": "5fda866e-ae65-4f58-a2d8-3f2220297b4c",
   "metadata": {},
   "outputs": [
    {
     "data": {
      "text/plain": [
       "array([[ 1.80000000e-17,  1.00000000e+00],\n",
       "       [ 0.00000000e+00, -5.55555556e+16]])"
      ]
     },
     "execution_count": 128,
     "metadata": {},
     "output_type": "execute_result"
    }
   ],
   "source": [
    "U"
   ]
  },
  {
   "cell_type": "code",
   "execution_count": 126,
   "id": "3d9adc17-a023-4b8d-9b01-9146ff6dfbac",
   "metadata": {},
   "outputs": [
    {
     "name": "stdout",
     "output_type": "stream",
     "text": [
      "[[1.8e-17 1.0e+00]\n",
      " [1.0e+00 0.0e+00]]\n"
     ]
    }
   ],
   "source": [
    "print(L @ U)"
   ]
  },
  {
   "cell_type": "markdown",
   "id": "b3bf4ebe-8848-46f8-88fd-56e77f8c5f10",
   "metadata": {},
   "source": [
    "# Cholesky\n"
   ]
  },
  {
   "cell_type": "code",
   "execution_count": 180,
   "id": "a9e00488-38d5-42c0-99ac-8b7b4311e504",
   "metadata": {},
   "outputs": [
    {
     "data": {
      "text/plain": [
       "array([[1.8e-17, 1.0e+00],\n",
       "       [1.0e+00, 1.0e+00]])"
      ]
     },
     "execution_count": 180,
     "metadata": {},
     "output_type": "execute_result"
    }
   ],
   "source": [
    "a = np.array([[eps, 1], [1, 1.0]])\n",
    "L = np.zeros_like(a)\n",
    "a"
   ]
  },
  {
   "cell_type": "code",
   "execution_count": 186,
   "id": "c3e6e53e-a083-4acf-ae2e-8215ceb4f99a",
   "metadata": {},
   "outputs": [
    {
     "ename": "IndexError",
     "evalue": "index 2 is out of bounds for axis 0 with size 2",
     "output_type": "error",
     "traceback": [
      "\u001b[0;31m---------------------------------------------------------------------------\u001b[0m",
      "\u001b[0;31mIndexError\u001b[0m                                Traceback (most recent call last)",
      "Cell \u001b[0;32mIn[186], line 12\u001b[0m\n\u001b[1;32m     10\u001b[0m     L[i, i] \u001b[38;5;241m=\u001b[39m np\u001b[38;5;241m.\u001b[39msqrt(a[i, i] \u001b[38;5;241m-\u001b[39m s)\n\u001b[1;32m     11\u001b[0m \u001b[38;5;28;01melse\u001b[39;00m:\n\u001b[0;32m---> 12\u001b[0m     \u001b[43mL\u001b[49m\u001b[43m[\u001b[49m\u001b[43mi\u001b[49m\u001b[43m,\u001b[49m\u001b[43m \u001b[49m\u001b[43mk\u001b[49m\u001b[43m]\u001b[49m \u001b[38;5;241m=\u001b[39m \u001b[38;5;241m1.0\u001b[39m \u001b[38;5;241m/\u001b[39m L[k, k] \u001b[38;5;241m*\u001b[39m (a[i, k] \u001b[38;5;241m-\u001b[39m s)\n",
      "\u001b[0;31mIndexError\u001b[0m: index 2 is out of bounds for axis 0 with size 2"
     ]
    }
   ],
   "source": [
    "### THIS DOES NOT WORK\n",
    "\n",
    "\n",
    "for i in range(n):\n",
    "    for k in range(i + 1):\n",
    "        s = 0.0\n",
    "        for j in range(k):\n",
    "            s += L[i, j] * L[k, j]\n",
    "        if i == k:\n",
    "            L[i, i] = np.sqrt(a[i, i] - s)\n",
    "        else:\n",
    "            L[i, k] = 1.0 / L[k, k] * (a[i, k] - s)"
   ]
  },
  {
   "cell_type": "code",
   "execution_count": 175,
   "id": "008b0390-dbe6-4604-b09c-d375059078b8",
   "metadata": {},
   "outputs": [
    {
     "data": {
      "text/plain": [
       "array([[4.24264069e-09, 0.00000000e+00],\n",
       "       [2.35702260e+08,            nan]])"
      ]
     },
     "execution_count": 175,
     "metadata": {},
     "output_type": "execute_result"
    }
   ],
   "source": [
    "L"
   ]
  },
  {
   "cell_type": "code",
   "execution_count": 176,
   "id": "38c86b35-30fb-4629-a843-a653923fc2ef",
   "metadata": {},
   "outputs": [
    {
     "data": {
      "text/plain": [
       "array([[1.8e-17,     nan],\n",
       "       [    nan,     nan]])"
      ]
     },
     "execution_count": 176,
     "metadata": {},
     "output_type": "execute_result"
    }
   ],
   "source": [
    "L @ L.T"
   ]
  },
  {
   "cell_type": "markdown",
   "id": "9ef52e99-3f74-49cf-a23f-5ab4a2d30023",
   "metadata": {},
   "source": [
    "# QR \n",
    "\n",
    "Lets find it from Cholesky decomposition!"
   ]
  },
  {
   "cell_type": "code",
   "execution_count": 183,
   "id": "38b89637-06f1-4738-a666-07bbd14e526a",
   "metadata": {},
   "outputs": [
    {
     "name": "stdout",
     "output_type": "stream",
     "text": [
      "[[2.         0.66666667 0.4        0.28571429 0.22222222 0.18181818]\n",
      " [0.66666667 0.4        0.28571429 0.22222222 0.18181818 0.15384615]\n",
      " [0.4        0.28571429 0.22222222 0.18181818 0.15384615 0.13333333]\n",
      " [0.28571429 0.22222222 0.18181818 0.15384615 0.13333333 0.11764706]\n",
      " [0.22222222 0.18181818 0.15384615 0.13333333 0.11764706 0.10526316]\n",
      " [0.18181818 0.15384615 0.13333333 0.11764706 0.10526316 0.0952381 ]\n",
      " [0.15384615 0.13333333 0.11764706 0.10526316 0.0952381  0.08695652]\n",
      " [0.13333333 0.11764706 0.10526316 0.0952381  0.08695652 0.08      ]\n",
      " [0.11764706 0.10526316 0.0952381  0.08695652 0.08       0.07407407]\n",
      " [0.10526316 0.0952381  0.08695652 0.08       0.07407407 0.06896552]]\n"
     ]
    }
   ],
   "source": [
    "n = 10\n",
    "r = 6\n",
    "a = [[1.0 / (i + j + 0.5) for i in range(r)] for j in range(n)]  # Hilbert matrix\n",
    "a = np.array(a)\n",
    "print(a)"
   ]
  },
  {
   "cell_type": "code",
   "execution_count": 184,
   "id": "1571e893-1867-4878-81c9-c6c4b2643b93",
   "metadata": {},
   "outputs": [
    {
     "name": "stdout",
     "output_type": "stream",
     "text": [
      "Built-in QR orth 8.933073361428516e-16\n"
     ]
    }
   ],
   "source": [
    "q, Rmat = np.linalg.qr(a)\n",
    "e = np.eye(r)\n",
    "print(\"Built-in QR orth\", np.linalg.norm(q.T @ q - e))"
   ]
  },
  {
   "cell_type": "code",
   "execution_count": 185,
   "id": "544591a9-a955-4635-8de6-2ea622af5a9e",
   "metadata": {},
   "outputs": [
    {
     "name": "stdout",
     "output_type": "stream",
     "text": [
      "Via Cholesky: 1.655777363169412e-05\n"
     ]
    }
   ],
   "source": [
    "gram_matrix = a.T.dot(a)\n",
    "Rmat1 = np.linalg.cholesky(gram_matrix)\n",
    "q1 = np.linalg.solve(Rmat1, a.T).T\n",
    "print(\"Via Cholesky:\", np.linalg.norm(q1.T @ q1 - e))"
   ]
  },
  {
   "cell_type": "markdown",
   "id": "eebece66-cbb5-49f8-bd4f-d952e1b4d813",
   "metadata": {},
   "source": [
    "# LAPACK\n",
    "\n",
    "All of this was cool, but what **actually** is used in linear regression?\n",
    "* [LinearRegression](https://github.com/scikit-learn/scikit-learn/blob/6e9039160/sklearn/linear_model/_base.py#L465) fit method:\n",
    "```python\n",
    "        if self.positive:\n",
    "            self.coef_ = optimize.nnls(X, y)[0]\n",
    "            ...\n",
    "        elif sp.issparse(X):\n",
    "            ...\n",
    "            self.coef_ = lsqr(X_centered, y)[0]\n",
    "            ...\n",
    "        else:\n",
    "            self.coef_, _, self.rank_, self.singular_ = linalg.lstsq(X, y)\n",
    "            self.coef_ = self.coef_.T\n",
    "```\n",
    "NNLS was your in bonus hw, so lets discover what `lsqr` and `lstsq` are.\n",
    "\n",
    "* [scipy.linalg.lstsq](https://docs.scipy.org/doc/scipy/reference/generated/scipy.linalg.lstsq.html#lstsq)\n",
    "```python\n",
    "    lapack_func, lapack_lwork = get_lapack_funcs((driver,\n",
    "                                                 '%s_lwork' % driver),\n",
    "                                                 (a1, b1))\n",
    "    if driver in ('gelss', 'gelsd'):\n",
    "        ...                    \n",
    "        if driver == 'gelss':\n",
    "            lwork = _compute_lwork(lapack_lwork, m, n, nrhs, cond)\n",
    "            v, x, s, rank, work, info = lapack_func(a1, b1, cond, lwork,\n",
    "                                                    overwrite_a=overwrite_a,\n",
    "                                                    overwrite_b=overwrite_b)\n",
    "    \n",
    "        elif driver == 'gelsd':\n",
    "            ...\n",
    "            lwork, iwork = _compute_lwork(lapack_lwork, m, n, nrhs, cond)\n",
    "             x, s, rank, info = lapack_func(a1, b1, lwork,\n",
    "                                            iwork, cond, False, False)\n",
    "            \n",
    "    return x, resids, rank, s\n",
    "    ...\n",
    "    elif driver == 'gelsy':\n",
    "        lwork = _compute_lwork(lapack_lwork, m, n, nrhs, cond)\n",
    "        jptv = np.zeros((a1.shape[1], 1), dtype=np.int32)\n",
    "        v, x, j, rank, info = lapack_func(a1, b1, jptv, cond,\n",
    "                                          lwork, False, False)\n",
    "        return x, np.array([], x.dtype), rank, None\n",
    "```"
   ]
  },
  {
   "cell_type": "markdown",
   "id": "3d6cd1cd-1d94-4a67-9b77-1d186b23d996",
   "metadata": {},
   "source": [
    "[LAPACK](https://en.wikipedia.org/wiki/LAPACK) (\"Linear Algebra Package\") is a standard software library for numerical linear algebra. It provides routines for solving systems of linear equations and linear least squares, eigenvalue problems, and singular value decomposition. It also includes routines to implement the associated matrix factorizations such as LU, QR, Cholesky and Schur decomposition.\n",
    "\n",
    "The procedures in LAPACK have a standartized names:\n",
    "\n",
    "A LAPACK subroutine name is in the form `pmmaaa`, where:\n",
    "\n",
    "- `p` is a one-letter code denoting the type of numerical constants used. `S`, `D` `C` and `Z`.\n",
    "- `mm` is a two-letter code denoting the kind of matrix expected by the algorithm. When the code `GE` (General) is given, the subroutine expects an $n×n$ array containing the entries of the matrix. \n",
    "- `aaa` is a one- to three-letter code describing the actual algorithm implemented in the subroutine.\n",
    "\n",
    "\n",
    "Finally, go to the lapack website:\n",
    "\n",
    "### `gelss`\n",
    "Computes the minimum norm solution to a real linear least squares problem using the singular value decomposition (SVD)."
   ]
  },
  {
   "cell_type": "markdown",
   "id": "57620863-24fe-4465-9239-3fe9fc02ee70",
   "metadata": {},
   "source": [
    "### `gelsd`\n",
    "The problem is solved in three steps:\n",
    "\n",
    "- (1) Reduce the coefficient matrix A to bidiagonal form with\n",
    "     Householder transformations, reducing the original problem\n",
    "     into a \"bidiagonal least squares problem\" (BLS)\n",
    "- (2) Solve the BLS using a divide and conquer approach.\n",
    "- (3) Apply back all the Householder transformations to solve\n",
    "     the original least squares problem."
   ]
  },
  {
   "cell_type": "markdown",
   "id": "e7226b33-d69b-4adf-8754-fffc812fcbcf",
   "metadata": {},
   "source": [
    "### `gelsy`\n",
    "The routine first computes a QR factorization with column pivoting:\n",
    "```\n",
    "     A * P = Q * [ R11 R12 ]\n",
    "                 [  0  R22 ]\n",
    "```\n",
    " with R11 defined as the largest leading submatrix whose estimated\n",
    " condition number is less than 1/RCOND.  The order of R11, RANK,\n",
    " is the effective rank of A.\n",
    "\n",
    " Then, R22 is considered to be negligible, and R12 is annihilated\n",
    " by orthogonal transformations from the right, arriving at the\n",
    " complete orthogonal factorization:\n",
    " ```\n",
    "    A * P = Q * [ T11 0 ] * Z\n",
    "                [  0  0 ]\n",
    "```\n",
    " The minimum-norm solution is then\n",
    "```\n",
    "    X = P * Z**T [ inv(T11)*Q1**T*B ]\n",
    "                 [        0         ]\n",
    "```\n",
    " where Q1 consists of the first RANK columns of Q."
   ]
  },
  {
   "cell_type": "markdown",
   "id": "92948a3b-d510-4ff9-b979-0a76271b497a",
   "metadata": {},
   "source": [
    "### Bonus task 13: gelss (easy)\n",
    "Implement `gelss` (with numpy, python and scipy.svd).\n",
    "### Bonus task 14: gelsd\n",
    "Implement `gelsd` (with numpy and python ans scipy.svd). \n",
    "### Bonus task 15: gelsy\n",
    "Implement `gelsy` (with numpy, python and scipy.qr).\n",
    "### Bonus task 16: Cholesky\n",
    "Fix bugs in the Cholesky decomposition algorithm."
   ]
  },
  {
   "cell_type": "markdown",
   "id": "97d73911-9eb5-4da2-9066-47e7f2fda88b",
   "metadata": {},
   "source": [
    "**TODO:** [scipy.sparse.linalg.lsqr](https://docs.scipy.org/doc/scipy/reference/generated/scipy.sparse.linalg.lsqr.html)\n"
   ]
  },
  {
   "cell_type": "markdown",
   "id": "0bb6399d-c7eb-414e-a49f-4e1efe8e73d2",
   "metadata": {},
   "source": [
    "---\n",
    "\n",
    "This notebook was adapted from **Mathematics for Machine Learning** book by Marc Deisenroth, Aldo Faisal and Cheng Ong and Ivan Oseledec **course on numerical linear algebra**, and the **LAPACK documentation**."
   ]
  }
 ],
 "metadata": {
  "kernelspec": {
   "display_name": "Python 3 (ipykernel)",
   "language": "python",
   "name": "python3"
  },
  "language_info": {
   "codemirror_mode": {
    "name": "ipython",
    "version": 3
   },
   "file_extension": ".py",
   "mimetype": "text/x-python",
   "name": "python",
   "nbconvert_exporter": "python",
   "pygments_lexer": "ipython3",
   "version": "3.12.5"
  }
 },
 "nbformat": 4,
 "nbformat_minor": 5
}
