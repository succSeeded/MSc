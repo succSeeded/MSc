{
 "cells": [
  {
   "cell_type": "code",
   "execution_count": 1,
   "id": "4695f2ad-56ed-4ac0-ae22-771a64acfcc0",
   "metadata": {},
   "outputs": [],
   "source": [
    "import numpy as np"
   ]
  },
  {
   "cell_type": "code",
   "execution_count": 2,
   "id": "1bed5ed7-f5fe-4f07-a542-7c966d32a5b7",
   "metadata": {},
   "outputs": [],
   "source": [
    "np.random.seed(100)\n",
    "\n",
    "# Create synthetic dataset for training and testing\n",
    "means0, covs0 = [1, -1], [[7, 3], [3, 7]]\n",
    "x0, y0 = np.random.multivariate_normal(means0, covs0, 190).T\n",
    "\n",
    "means1, covs1 = [0, -4], [[0.1, 0.0], [0.0, 25]]\n",
    "x1, y1 = np.random.multivariate_normal(means1, covs1, 100).T"
   ]
  },
  {
   "cell_type": "code",
   "execution_count": 3,
   "id": "66c6deab-f388-43c8-ab3b-0f3262e9a5f5",
   "metadata": {},
   "outputs": [
    {
     "data": {
      "text/plain": [
       "(190,)"
      ]
     },
     "execution_count": 3,
     "metadata": {},
     "output_type": "execute_result"
    }
   ],
   "source": [
    "x0.shape"
   ]
  },
  {
   "cell_type": "code",
   "execution_count": 4,
   "id": "b06776ba-be2f-4297-9181-2d0cd6d24b7a",
   "metadata": {},
   "outputs": [
    {
     "name": "stdout",
     "output_type": "stream",
     "text": [
      "Dataset shape: (290, 2) (290,)\n",
      "Train/test shapes: (203, 2) (87, 2)\n"
     ]
    }
   ],
   "source": [
    "# Convert data to the appropriate format\n",
    "data0, labels0 = np.vstack([x0, y0]).T, np.zeros(len(x0))\n",
    "data1, labels1 = np.vstack([x1, y1]).T, np.ones(len(x1))\n",
    "\n",
    "data = np.vstack([data0, data1])\n",
    "labels = np.hstack([labels0, labels1])\n",
    "total_size = data.shape[0]\n",
    "print(\"Dataset shape:\", data.shape, labels.shape)\n",
    "\n",
    "# Split dataset into 70% train and 30% test\n",
    "train_size = int(total_size * 0.7)\n",
    "indices = np.random.permutation(total_size)\n",
    "X_train, y_train = data[indices][:train_size], labels[indices][:train_size]\n",
    "X_test, y_test = data[indices][train_size:], labels[indices][train_size:]\n",
    "print(\"Train/test shapes:\", X_train.shape, X_test.shape)"
   ]
  },
  {
   "cell_type": "code",
   "execution_count": 5,
   "id": "940ffe06-83d5-418e-ac5b-bb2718a76a89",
   "metadata": {},
   "outputs": [
    {
     "data": {
      "text/plain": [
       "(87, 10, 203)"
      ]
     },
     "execution_count": 5,
     "metadata": {},
     "output_type": "execute_result"
    }
   ],
   "source": [
    "A = np.zeros([87,10])\n",
    "A[:, 0] = np.ones([87,])\n",
    "A1 = np.repeat(A, 203).reshape([87, 10, 203])\n",
    "A1.shape"
   ]
  },
  {
   "cell_type": "code",
   "execution_count": 6,
   "id": "c40920e2-a7ea-4202-bfc4-29a4a78fa652",
   "metadata": {},
   "outputs": [
    {
     "data": {
      "text/plain": [
       "(87, 10, 203)"
      ]
     },
     "execution_count": 6,
     "metadata": {},
     "output_type": "execute_result"
    }
   ],
   "source": [
    "B = np.zeros([203,10])\n",
    "B[:,0] = np.ones([203,])\n",
    "B1 = np.repeat(B, 87).reshape([203, 10, 87]).T\n",
    "B1.shape"
   ]
  },
  {
   "cell_type": "code",
   "execution_count": 7,
   "id": "af29baa4-9a92-4768-b54e-c0be8f4f44da",
   "metadata": {},
   "outputs": [],
   "source": [
    "D = np.linalg.norm(np.repeat(X_test, X_train.shape[0]).reshape([X_test.shape[0], X_test.shape[1], X_train.shape[0]]) - np.repeat(X_train, X_test.shape[0]).reshape([X_train.shape[0], X_test.shape[1], X_test.shape[0]]).T, axis=1, )"
   ]
  },
  {
   "cell_type": "code",
   "execution_count": 8,
   "id": "89125da0-6756-44ef-b06e-180ec64500e4",
   "metadata": {},
   "outputs": [
    {
     "data": {
      "text/plain": [
       "(87, 203)"
      ]
     },
     "execution_count": 8,
     "metadata": {},
     "output_type": "execute_result"
    }
   ],
   "source": [
    "D.shape"
   ]
  },
  {
   "cell_type": "code",
   "execution_count": 9,
   "id": "703b7a50-2564-4ee1-b63d-2febce98d67d",
   "metadata": {},
   "outputs": [
    {
     "data": {
      "text/plain": [
       "(87, 203, 2)"
      ]
     },
     "execution_count": 9,
     "metadata": {},
     "output_type": "execute_result"
    }
   ],
   "source": [
    "d = np.stack([D, np.repeat(y_train, 87).reshape([203,87]).T], axis=2)\n",
    "d.shape"
   ]
  },
  {
   "cell_type": "code",
   "execution_count": 10,
   "id": "e85d2487-9d77-4a61-8e35-bfd4f686d22a",
   "metadata": {},
   "outputs": [
    {
     "data": {
      "text/plain": [
       "array([0., 1., 1., 0., 1., 0., 0., 0., 0., 1., 0., 1., 0., 0., 1., 0., 0.,\n",
       "       0., 1., 1., 1., 0., 1., 0., 1., 0., 0., 0., 0., 1., 1., 0., 1., 0.,\n",
       "       0., 0., 0., 1., 0., 1., 1., 0., 0., 1., 0., 1., 1., 0., 0., 0., 0.,\n",
       "       0., 1., 0., 1., 1., 0., 0., 0., 0., 1., 0., 1., 1., 0., 1., 0., 0.,\n",
       "       0., 0., 0., 0., 0., 0., 0., 0., 1., 0., 1., 1., 0., 0., 1., 0., 1.,\n",
       "       1., 0., 1., 0., 1., 1., 0., 0., 1., 1., 1., 0., 0., 0., 0., 0., 0.,\n",
       "       0., 0., 0., 0., 0., 0., 1., 0., 0., 0., 1., 0., 0., 1., 0., 1., 1.,\n",
       "       1., 0., 0., 0., 0., 1., 1., 0., 0., 1., 1., 1., 1., 0., 1., 0., 0.,\n",
       "       0., 1., 0., 0., 0., 0., 0., 0., 0., 1., 1., 0., 0., 1., 0., 0., 0.,\n",
       "       0., 1., 0., 0., 0., 0., 0., 0., 0., 1., 0., 1., 0., 0., 1., 0., 0.,\n",
       "       0., 0., 0., 1., 0., 1., 0., 0., 1., 0., 1., 0., 1., 0., 0., 0., 0.,\n",
       "       0., 0., 1., 1., 0., 0., 1., 0., 0., 0., 0., 0., 0., 1., 0., 1.])"
      ]
     },
     "execution_count": 10,
     "metadata": {},
     "output_type": "execute_result"
    }
   ],
   "source": [
    "y_train"
   ]
  },
  {
   "cell_type": "code",
   "execution_count": 11,
   "id": "3904cacc-dc6b-4bfb-8f33-8f7b22b4eb1a",
   "metadata": {},
   "outputs": [
    {
     "data": {
      "text/plain": [
       "array([[0.12324413, 0.28885728, 0.47394092, 0.64423232, 0.74208156,\n",
       "        1.12386719, 1.52022858],\n",
       "       [0.54217517, 0.85485105, 0.9787039 , 1.05287902, 1.32644576,\n",
       "        1.32729004, 1.43318384],\n",
       "       [0.25487624, 0.37786514, 0.42385722, 0.58474002, 0.63621091,\n",
       "        0.67734804, 0.81796678]])"
      ]
     },
     "execution_count": 11,
     "metadata": {},
     "output_type": "execute_result"
    }
   ],
   "source": [
    "classes = np.repeat(y_train, 87).reshape([203,87]).T\n",
    "\n",
    "sort_ids = np.argsort(D, axis=1)\n",
    "d_sorted = np.dstack([np.take_along_axis(D, sort_ids, axis=1), np.take_along_axis(classes, sort_ids, axis=1)])\n",
    "\n",
    "d_sorted[:3,:7,0]"
   ]
  },
  {
   "cell_type": "code",
   "execution_count": 12,
   "id": "2470b283-8c07-424d-aeb7-53effaef05eb",
   "metadata": {},
   "outputs": [
    {
     "data": {
      "text/plain": [
       "array([[1., 1., 1., 1., 1., 1., 1.],\n",
       "       [0., 0., 0., 0., 0., 0., 0.],\n",
       "       [1., 1., 1., 0., 1., 1., 1.]])"
      ]
     },
     "execution_count": 12,
     "metadata": {},
     "output_type": "execute_result"
    }
   ],
   "source": [
    "d_sorted[:3,:7,1]"
   ]
  },
  {
   "cell_type": "code",
   "execution_count": 13,
   "id": "8ec97f26-b0c8-4a60-9d2d-d2f0a9c8816e",
   "metadata": {},
   "outputs": [
    {
     "data": {
      "text/plain": [
       "array([0, 7, 1])"
      ]
     },
     "execution_count": 13,
     "metadata": {},
     "output_type": "execute_result"
    }
   ],
   "source": [
    "arr1 = np.count_nonzero(d_sorted[:3,:7,1] == 0, axis=1)\n",
    "arr1"
   ]
  },
  {
   "cell_type": "code",
   "execution_count": 14,
   "id": "a22fdc23-9056-401e-bdad-b19f27b71bcf",
   "metadata": {},
   "outputs": [
    {
     "data": {
      "text/plain": [
       "array([7, 0, 6])"
      ]
     },
     "execution_count": 14,
     "metadata": {},
     "output_type": "execute_result"
    }
   ],
   "source": [
    "arr2 = np.count_nonzero(d_sorted[:3,:7,1] == 1, axis=1)\n",
    "arr2"
   ]
  },
  {
   "cell_type": "code",
   "execution_count": 15,
   "id": "d156e0b1-8283-4138-8766-cbe5bc975a7b",
   "metadata": {},
   "outputs": [
    {
     "data": {
      "text/plain": [
       "(2,)"
      ]
     },
     "execution_count": 15,
     "metadata": {},
     "output_type": "execute_result"
    }
   ],
   "source": [
    "classes = np.unique(y_train)\n",
    "classes.shape"
   ]
  },
  {
   "cell_type": "code",
   "execution_count": 16,
   "id": "f7fe85a5-fa91-45c9-97b3-5015e76add3c",
   "metadata": {},
   "outputs": [
    {
     "data": {
      "text/plain": [
       "array([[0., 1.],\n",
       "       [0., 1.],\n",
       "       [0., 1.],\n",
       "       [0., 1.],\n",
       "       [0., 1.],\n",
       "       [0., 1.],\n",
       "       [0., 1.],\n",
       "       [0., 1.],\n",
       "       [0., 1.],\n",
       "       [0., 1.],\n",
       "       [0., 1.],\n",
       "       [0., 1.],\n",
       "       [0., 1.],\n",
       "       [0., 1.],\n",
       "       [0., 1.],\n",
       "       [0., 1.],\n",
       "       [0., 1.],\n",
       "       [0., 1.],\n",
       "       [0., 1.],\n",
       "       [0., 1.],\n",
       "       [0., 1.]])"
      ]
     },
     "execution_count": 16,
     "metadata": {},
     "output_type": "execute_result"
    }
   ],
   "source": [
    "classes*np.ones((21,2))"
   ]
  },
  {
   "cell_type": "code",
   "execution_count": 17,
   "id": "54d46417-cdc0-4d78-8cbf-ce104ba7a17d",
   "metadata": {},
   "outputs": [
    {
     "data": {
      "text/plain": [
       "array([[False, False, False, False, False, False, False],\n",
       "       [ True,  True,  True,  True,  True,  True,  True],\n",
       "       [False, False, False,  True, False, False, False]])"
      ]
     },
     "execution_count": 17,
     "metadata": {},
     "output_type": "execute_result"
    }
   ],
   "source": [
    "d_sorted[:3,:7,1] == 0"
   ]
  },
  {
   "cell_type": "code",
   "execution_count": 18,
   "id": "bf430a48-f8c3-42b6-821d-99c5ff0b094b",
   "metadata": {},
   "outputs": [
    {
     "data": {
      "text/plain": [
       "array([[[False, False, False, False, False, False, False],\n",
       "        [ True,  True,  True,  True,  True,  True,  True],\n",
       "        [False, False, False,  True, False, False, False]],\n",
       "\n",
       "       [[ True,  True,  True,  True,  True,  True,  True],\n",
       "        [False, False, False, False, False, False, False],\n",
       "        [ True,  True,  True, False,  True,  True,  True]]])"
      ]
     },
     "execution_count": 18,
     "metadata": {},
     "output_type": "execute_result"
    }
   ],
   "source": [
    "(np.ndarray.flatten(d_sorted[:3,:7,1]) == (classes*np.ones((21,2))).T).reshape(2,3,7)"
   ]
  },
  {
   "cell_type": "code",
   "execution_count": 19,
   "id": "988aeba4-d964-4747-af30-a828576a2871",
   "metadata": {},
   "outputs": [
    {
     "data": {
      "text/plain": [
       "array([[0, 7, 1],\n",
       "       [7, 0, 6]])"
      ]
     },
     "execution_count": 19,
     "metadata": {},
     "output_type": "execute_result"
    }
   ],
   "source": [
    "class_counts = np.count_nonzero((np.ndarray.flatten(d_sorted[:3,:7,1]) == (classes*np.ones((21,2))).T).reshape(2,3,7), axis=2)\n",
    "class_counts"
   ]
  },
  {
   "cell_type": "code",
   "execution_count": 20,
   "id": "c208edcc-3375-4f5a-92bc-f5417f349ca3",
   "metadata": {},
   "outputs": [
    {
     "ename": "IndexError",
     "evalue": "index 2 is out of bounds for axis 0 with size 2",
     "output_type": "error",
     "traceback": [
      "\u001b[0;31m---------------------------------------------------------------------------\u001b[0m",
      "\u001b[0;31mIndexError\u001b[0m                                Traceback (most recent call last)",
      "Cell \u001b[0;32mIn[20], line 1\u001b[0m\n\u001b[0;32m----> 1\u001b[0m \u001b[43mclass_counts\u001b[49m\u001b[43m[\u001b[49m\u001b[43mnp\u001b[49m\u001b[38;5;241;43m.\u001b[39;49m\u001b[43mvstack\u001b[49m\u001b[43m(\u001b[49m\u001b[43m[\u001b[49m\u001b[43mnp\u001b[49m\u001b[38;5;241;43m.\u001b[39;49m\u001b[43marange\u001b[49m\u001b[43m(\u001b[49m\u001b[38;5;241;43m0\u001b[39;49m\u001b[43m,\u001b[49m\u001b[38;5;241;43m3\u001b[39;49m\u001b[43m,\u001b[49m\u001b[38;5;241;43m1\u001b[39;49m\u001b[43m)\u001b[49m\u001b[43m,\u001b[49m\u001b[43m \u001b[49m\u001b[43mnp\u001b[49m\u001b[38;5;241;43m.\u001b[39;49m\u001b[43margmax\u001b[49m\u001b[43m(\u001b[49m\u001b[43mclass_counts\u001b[49m\u001b[43m,\u001b[49m\u001b[43m \u001b[49m\u001b[43maxis\u001b[49m\u001b[38;5;241;43m=\u001b[39;49m\u001b[38;5;241;43m0\u001b[39;49m\u001b[43m)\u001b[49m\u001b[43m]\u001b[49m\u001b[43m)\u001b[49m\u001b[38;5;241;43m.\u001b[39;49m\u001b[43mT\u001b[49m\u001b[43m]\u001b[49m\n",
      "\u001b[0;31mIndexError\u001b[0m: index 2 is out of bounds for axis 0 with size 2"
     ]
    }
   ],
   "source": [
    "class_counts[np.vstack([np.arange(0,3,1), np.argmax(class_counts, axis=0)]).T]"
   ]
  },
  {
   "cell_type": "code",
   "execution_count": null,
   "id": "bdda5697-6636-485a-ae45-3fa45cba19b3",
   "metadata": {},
   "outputs": [],
   "source": [
    "np.vstack([np.arange(0,3,1), np.argmax(class_counts, axis=0)]).T"
   ]
  },
  {
   "cell_type": "code",
   "execution_count": null,
   "id": "e9cc70d7-c3fa-4f48-8fa5-560b4500bc93",
   "metadata": {},
   "outputs": [],
   "source": [
    "class_counts[np.argmax(class_counts, axis=0)]"
   ]
  },
  {
   "cell_type": "code",
   "execution_count": null,
   "id": "15ce4615-a408-4a10-bae6-1a2c8127ecba",
   "metadata": {},
   "outputs": [],
   "source": [
    "pigga = (classes*np.ones((3,2))).T"
   ]
  },
  {
   "cell_type": "code",
   "execution_count": null,
   "id": "eb055129-04b1-4828-be7a-750f0338fdc5",
   "metadata": {},
   "outputs": [],
   "source": [
    "np.take_along_axis(pigga, np.argmax(class_counts, axis=0, keepdims=True), axis=0).flatten()"
   ]
  },
  {
   "cell_type": "code",
   "execution_count": null,
   "id": "f1d7ba4e-f1aa-417d-8751-a78d7e99b7f9",
   "metadata": {},
   "outputs": [],
   "source": [
    "(classes*np.ones((21,2))).T.reshape(2,3,7)[:,:,0]"
   ]
  },
  {
   "cell_type": "code",
   "execution_count": null,
   "id": "7406d63f-4ed7-43e2-b146-020aee419f77",
   "metadata": {},
   "outputs": [],
   "source": [
    "np.unique([0, 1, 1, 0])"
   ]
  },
  {
   "cell_type": "code",
   "execution_count": null,
   "id": "205e2208-6f1b-4f12-a6d9-93a5ba15d1bd",
   "metadata": {},
   "outputs": [],
   "source": [
    "np.unique([1, 0, 1, 0])"
   ]
  },
  {
   "cell_type": "code",
   "execution_count": null,
   "id": "2c9d0b0a-7ca6-4ec8-8f88-37d863c08f25",
   "metadata": {},
   "outputs": [],
   "source": [
    "y_preds = np.random.randint(0, 2, size=87)\n",
    "y_preds"
   ]
  },
  {
   "cell_type": "code",
   "execution_count": null,
   "id": "a2dfaaed-3291-4706-accc-5c60987f8486",
   "metadata": {},
   "outputs": [],
   "source": [
    "y_preds == np.unique(y_test)*np.ones((2,y_test.shape[0])).T"
   ]
  },
  {
   "cell_type": "code",
   "execution_count": null,
   "id": "3c8ed8b7-0d3b-43c4-b896-c14f467a71b1",
   "metadata": {},
   "outputs": [],
   "source": [
    "np.repeat([[0,1]], 4, axis=0).shape"
   ]
  },
  {
   "cell_type": "code",
   "execution_count": null,
   "id": "c6e14502-fd5a-42ea-983a-1480d9435557",
   "metadata": {},
   "outputs": [],
   "source": [
    " == np.unique(y_test).repeat(4,axis=0).reshape(2,4).T"
   ]
  },
  {
   "cell_type": "code",
   "execution_count": null,
   "id": "e29190c9-df3f-45ea-bfb2-8bcf9226745a",
   "metadata": {},
   "outputs": [],
   "source": []
  }
 ],
 "metadata": {
  "kernelspec": {
   "display_name": "Python 3 (ipykernel)",
   "language": "python",
   "name": "python3"
  },
  "language_info": {
   "codemirror_mode": {
    "name": "ipython",
    "version": 3
   },
   "file_extension": ".py",
   "mimetype": "text/x-python",
   "name": "python",
   "nbconvert_exporter": "python",
   "pygments_lexer": "ipython3",
   "version": "3.12.0"
  }
 },
 "nbformat": 4,
 "nbformat_minor": 5
}
