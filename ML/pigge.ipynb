{
 "cells": [
  {
   "cell_type": "code",
   "execution_count": 1,
   "id": "4695f2ad-56ed-4ac0-ae22-771a64acfcc0",
   "metadata": {},
   "outputs": [],
   "source": [
    "import numpy as np"
   ]
  },
  {
   "cell_type": "code",
   "execution_count": 2,
   "id": "1bed5ed7-f5fe-4f07-a542-7c966d32a5b7",
   "metadata": {},
   "outputs": [],
   "source": [
    "np.random.seed(100)\n",
    "\n",
    "# Create synthetic dataset for training and testing\n",
    "means0, covs0 = [1, -1], [[7, 3], [3, 7]]\n",
    "x0, y0 = np.random.multivariate_normal(means0, covs0, 190).T\n",
    "\n",
    "means1, covs1 = [0, -4], [[0.1, 0.0], [0.0, 25]]\n",
    "x1, y1 = np.random.multivariate_normal(means1, covs1, 100).T"
   ]
  },
  {
   "cell_type": "code",
   "execution_count": 3,
   "id": "66c6deab-f388-43c8-ab3b-0f3262e9a5f5",
   "metadata": {},
   "outputs": [
    {
     "data": {
      "text/plain": [
       "(190,)"
      ]
     },
     "execution_count": 3,
     "metadata": {},
     "output_type": "execute_result"
    }
   ],
   "source": [
    "x0.shape"
   ]
  },
  {
   "cell_type": "code",
   "execution_count": 4,
   "id": "b06776ba-be2f-4297-9181-2d0cd6d24b7a",
   "metadata": {},
   "outputs": [
    {
     "name": "stdout",
     "output_type": "stream",
     "text": [
      "Dataset shape: (290, 2) (290,)\n",
      "Train/test shapes: (203, 2) (87, 2)\n"
     ]
    }
   ],
   "source": [
    "# Convert data to the appropriate format\n",
    "data0, labels0 = np.vstack([x0, y0]).T, np.zeros(len(x0))\n",
    "data1, labels1 = np.vstack([x1, y1]).T, np.ones(len(x1))\n",
    "\n",
    "data = np.vstack([data0, data1])\n",
    "labels = np.hstack([labels0, labels1])\n",
    "total_size = data.shape[0]\n",
    "print(\"Dataset shape:\", data.shape, labels.shape)\n",
    "\n",
    "# Split dataset into 70% train and 30% test\n",
    "train_size = int(total_size * 0.7)\n",
    "indices = np.random.permutation(total_size)\n",
    "X_train, y_train = data[indices][:train_size], labels[indices][:train_size]\n",
    "X_test, y_test = data[indices][train_size:], labels[indices][train_size:]\n",
    "print(\"Train/test shapes:\", X_train.shape, X_test.shape)"
   ]
  },
  {
   "cell_type": "code",
   "execution_count": 6,
   "id": "940ffe06-83d5-418e-ac5b-bb2718a76a89",
   "metadata": {},
   "outputs": [
    {
     "data": {
      "text/plain": [
       "(87, 10, 203)"
      ]
     },
     "execution_count": 6,
     "metadata": {},
     "output_type": "execute_result"
    }
   ],
   "source": [
    "A = np.zeros([87,10])\n",
    "A[:, 0] = np.ones([87,])\n",
    "A1 = np.repeat(A, 203).reshape([87, 10, 203])\n",
    "A1.shape"
   ]
  },
  {
   "cell_type": "code",
   "execution_count": 7,
   "id": "c40920e2-a7ea-4202-bfc4-29a4a78fa652",
   "metadata": {},
   "outputs": [
    {
     "data": {
      "text/plain": [
       "(87, 10, 203)"
      ]
     },
     "execution_count": 7,
     "metadata": {},
     "output_type": "execute_result"
    }
   ],
   "source": [
    "B = np.zeros([203,10])\n",
    "B[:,0] = np.ones([203,])\n",
    "B1 = np.repeat(B, 87).reshape([203, 10, 87]).T\n",
    "B1.shape"
   ]
  },
  {
   "cell_type": "code",
   "execution_count": 8,
   "id": "af29baa4-9a92-4768-b54e-c0be8f4f44da",
   "metadata": {},
   "outputs": [],
   "source": [
    "D = np.linalg.norm(np.repeat(X_test, X_train.shape[0]).reshape([X_test.shape[0], X_test.shape[1], X_train.shape[0]]) - np.repeat(X_train, X_test.shape[0]).reshape([X_train.shape[0], X_test.shape[1], X_test.shape[0]]).T, axis=1, )"
   ]
  },
  {
   "cell_type": "code",
   "execution_count": 9,
   "id": "89125da0-6756-44ef-b06e-180ec64500e4",
   "metadata": {},
   "outputs": [
    {
     "data": {
      "text/plain": [
       "(87, 203)"
      ]
     },
     "execution_count": 9,
     "metadata": {},
     "output_type": "execute_result"
    }
   ],
   "source": [
    "D.shape"
   ]
  },
  {
   "cell_type": "code",
   "execution_count": 10,
   "id": "703b7a50-2564-4ee1-b63d-2febce98d67d",
   "metadata": {},
   "outputs": [
    {
     "data": {
      "text/plain": [
       "(87, 203, 2)"
      ]
     },
     "execution_count": 10,
     "metadata": {},
     "output_type": "execute_result"
    }
   ],
   "source": [
    "d = np.stack([D, np.repeat(y_train, 87).reshape([203,87]).T], axis=2)\n",
    "d.shape"
   ]
  },
  {
   "cell_type": "code",
   "execution_count": 11,
   "id": "e85d2487-9d77-4a61-8e35-bfd4f686d22a",
   "metadata": {},
   "outputs": [
    {
     "data": {
      "text/plain": [
       "array([0., 1., 1., 0., 1., 0., 0., 0., 0., 1., 0., 1., 0., 0., 1., 0., 0.,\n",
       "       0., 1., 1., 1., 0., 1., 0., 1., 0., 0., 0., 0., 1., 1., 0., 1., 0.,\n",
       "       0., 0., 0., 1., 0., 1., 1., 0., 0., 1., 0., 1., 1., 0., 0., 0., 0.,\n",
       "       0., 1., 0., 1., 1., 0., 0., 0., 0., 1., 0., 1., 1., 0., 1., 0., 0.,\n",
       "       0., 0., 0., 0., 0., 0., 0., 0., 1., 0., 1., 1., 0., 0., 1., 0., 1.,\n",
       "       1., 0., 1., 0., 1., 1., 0., 0., 1., 1., 1., 0., 0., 0., 0., 0., 0.,\n",
       "       0., 0., 0., 0., 0., 0., 1., 0., 0., 0., 1., 0., 0., 1., 0., 1., 1.,\n",
       "       1., 0., 0., 0., 0., 1., 1., 0., 0., 1., 1., 1., 1., 0., 1., 0., 0.,\n",
       "       0., 1., 0., 0., 0., 0., 0., 0., 0., 1., 1., 0., 0., 1., 0., 0., 0.,\n",
       "       0., 1., 0., 0., 0., 0., 0., 0., 0., 1., 0., 1., 0., 0., 1., 0., 0.,\n",
       "       0., 0., 0., 1., 0., 1., 0., 0., 1., 0., 1., 0., 1., 0., 0., 0., 0.,\n",
       "       0., 0., 1., 1., 0., 0., 1., 0., 0., 0., 0., 0., 0., 1., 0., 1.])"
      ]
     },
     "execution_count": 11,
     "metadata": {},
     "output_type": "execute_result"
    }
   ],
   "source": [
    "y_train"
   ]
  },
  {
   "cell_type": "code",
   "execution_count": 39,
   "id": "3904cacc-dc6b-4bfb-8f33-8f7b22b4eb1a",
   "metadata": {},
   "outputs": [
    {
     "data": {
      "text/plain": [
       "array([[0.12324413, 0.28885728, 0.47394092, 0.64423232, 0.74208156,\n",
       "        1.12386719, 1.52022858],\n",
       "       [0.54217517, 0.85485105, 0.9787039 , 1.05287902, 1.32644576,\n",
       "        1.32729004, 1.43318384],\n",
       "       [0.25487624, 0.37786514, 0.42385722, 0.58474002, 0.63621091,\n",
       "        0.67734804, 0.81796678]])"
      ]
     },
     "execution_count": 39,
     "metadata": {},
     "output_type": "execute_result"
    }
   ],
   "source": [
    "classes = np.repeat(y_train, 87).reshape([203,87]).T\n",
    "\n",
    "sort_ids = np.argsort(D, axis=1)\n",
    "d_sorted = np.dstack([np.take_along_axis(D, sort_ids, axis=1), np.take_along_axis(classes, sort_ids, axis=1)])\n",
    "\n",
    "d_sorted[:3,:7,0]"
   ]
  },
  {
   "cell_type": "code",
   "execution_count": 38,
   "id": "2470b283-8c07-424d-aeb7-53effaef05eb",
   "metadata": {},
   "outputs": [
    {
     "data": {
      "text/plain": [
       "array([[1., 1., 1., 1., 1., 1., 1.],\n",
       "       [0., 0., 0., 0., 0., 0., 0.],\n",
       "       [1., 1., 1., 0., 1., 1., 1.]])"
      ]
     },
     "execution_count": 38,
     "metadata": {},
     "output_type": "execute_result"
    }
   ],
   "source": [
    "d_sorted[:3,:7,1]"
   ]
  },
  {
   "cell_type": "code",
   "execution_count": 44,
   "id": "8ec97f26-b0c8-4a60-9d2d-d2f0a9c8816e",
   "metadata": {},
   "outputs": [
    {
     "data": {
      "text/plain": [
       "array([0, 7, 1])"
      ]
     },
     "execution_count": 44,
     "metadata": {},
     "output_type": "execute_result"
    }
   ],
   "source": [
    "arr1 = np.count_nonzero(d_sorted[:3,:7,1] == 0, axis=1)\n",
    "arr1"
   ]
  },
  {
   "cell_type": "code",
   "execution_count": 45,
   "id": "a22fdc23-9056-401e-bdad-b19f27b71bcf",
   "metadata": {},
   "outputs": [
    {
     "data": {
      "text/plain": [
       "array([7, 0, 6])"
      ]
     },
     "execution_count": 45,
     "metadata": {},
     "output_type": "execute_result"
    }
   ],
   "source": [
    "arr2 = np.count_nonzero(d_sorted[:3,:7,1] == 1, axis=1)\n",
    "arr2"
   ]
  },
  {
   "cell_type": "code",
   "execution_count": 48,
   "id": "f6618ad3-0426-48b9-8425-53d847851e65",
   "metadata": {},
   "outputs": [
    {
     "data": {
      "text/plain": [
       "array([1., 0., 1.])"
      ]
     },
     "execution_count": 48,
     "metadata": {},
     "output_type": "execute_result"
    }
   ],
   "source": [
    "np.array(arr1 < arr2, dtype=\"float64\")"
   ]
  },
  {
   "cell_type": "code",
   "execution_count": null,
   "id": "1465a41f-bbd3-4b72-ab39-2a4b3edc5948",
   "metadata": {},
   "outputs": [],
   "source": []
  }
 ],
 "metadata": {
  "kernelspec": {
   "display_name": "Python 3 (ipykernel)",
   "language": "python",
   "name": "python3"
  },
  "language_info": {
   "codemirror_mode": {
    "name": "ipython",
    "version": 3
   },
   "file_extension": ".py",
   "mimetype": "text/x-python",
   "name": "python",
   "nbconvert_exporter": "python",
   "pygments_lexer": "ipython3",
   "version": "3.12.7"
  }
 },
 "nbformat": 4,
 "nbformat_minor": 5
}
