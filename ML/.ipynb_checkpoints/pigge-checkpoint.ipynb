{
 "cells": [
  {
   "cell_type": "code",
   "execution_count": 1,
   "id": "4695f2ad-56ed-4ac0-ae22-771a64acfcc0",
   "metadata": {},
   "outputs": [],
   "source": [
    "import numpy as np"
   ]
  },
  {
   "cell_type": "code",
   "execution_count": 2,
   "id": "1bed5ed7-f5fe-4f07-a542-7c966d32a5b7",
   "metadata": {},
   "outputs": [],
   "source": [
    "np.random.seed(100)\n",
    "\n",
    "# Create synthetic dataset for training and testing\n",
    "means0, covs0 = [1, -1], [[7, 3], [3, 7]]\n",
    "x0, y0 = np.random.multivariate_normal(means0, covs0, 190).T\n",
    "\n",
    "means1, covs1 = [0, -4], [[0.1, 0.0], [0.0, 25]]\n",
    "x1, y1 = np.random.multivariate_normal(means1, covs1, 100).T"
   ]
  },
  {
   "cell_type": "code",
   "execution_count": 3,
   "id": "66c6deab-f388-43c8-ab3b-0f3262e9a5f5",
   "metadata": {},
   "outputs": [
    {
     "data": {
      "text/plain": [
       "(190,)"
      ]
     },
     "execution_count": 3,
     "metadata": {},
     "output_type": "execute_result"
    }
   ],
   "source": [
    "x0.shape"
   ]
  },
  {
   "cell_type": "code",
   "execution_count": 5,
   "id": "b06776ba-be2f-4297-9181-2d0cd6d24b7a",
   "metadata": {},
   "outputs": [
    {
     "name": "stdout",
     "output_type": "stream",
     "text": [
      "Dataset shape: (290, 2) (290,)\n",
      "Train/test shapes: (203, 2) (87, 2)\n"
     ]
    }
   ],
   "source": [
    "# Convert data to the appropriate format\n",
    "data0, labels0 = np.vstack([x0, y0]).T, np.zeros(len(x0))\n",
    "data1, labels1 = np.vstack([x1, y1]).T, np.ones(len(x1))\n",
    "\n",
    "data = np.vstack([data0, data1])\n",
    "labels = np.hstack([labels0, labels1])\n",
    "total_size = data.shape[0]\n",
    "print(\"Dataset shape:\", data.shape, labels.shape)\n",
    "\n",
    "# Split dataset into 70% train and 30% test\n",
    "train_size = int(total_size * 0.7)\n",
    "indices = np.random.permutation(total_size)\n",
    "X_train, y_train = data[indices][:train_size], labels[indices][:train_size]\n",
    "X_test, y_test = data[indices][train_size:], labels[indices][train_size:]\n",
    "print(\"Train/test shapes:\", X_train.shape, X_test.shape)"
   ]
  },
  {
   "cell_type": "code",
   "execution_count": null,
   "id": "0db6644d-f183-4708-b3b2-fa2307f71c2a",
   "metadata": {},
   "outputs": [],
   "source": [
    "dx = X_test[] - X_train\n",
    "D = np.linalg.norm(X_test - X_train, axis=1)"
   ]
  },
  {
   "cell_type": "code",
   "execution_count": 21,
   "id": "940ffe06-83d5-418e-ac5b-bb2718a76a89",
   "metadata": {},
   "outputs": [
    {
     "data": {
      "text/plain": [
       "(87, 10, 203)"
      ]
     },
     "execution_count": 21,
     "metadata": {},
     "output_type": "execute_result"
    }
   ],
   "source": [
    "A = np.zeros([87,10])\n",
    "A[:, 0] = np.ones([87,])\n",
    "A1 = np.repeat(A, 203).reshape([87, 10, 203])\n",
    "A1.shape"
   ]
  },
  {
   "cell_type": "code",
   "execution_count": 22,
   "id": "c40920e2-a7ea-4202-bfc4-29a4a78fa652",
   "metadata": {},
   "outputs": [
    {
     "data": {
      "text/plain": [
       "(87, 10, 203)"
      ]
     },
     "execution_count": 22,
     "metadata": {},
     "output_type": "execute_result"
    }
   ],
   "source": [
    "B = np.zeros([203,10])\n",
    "B[:,0] = np.ones([203,])\n",
    "B1 = np.repeat(B, 87).reshape([203, 10, 87]).T\n",
    "B1.shape"
   ]
  },
  {
   "cell_type": "code",
   "execution_count": 41,
   "id": "af29baa4-9a92-4768-b54e-c0be8f4f44da",
   "metadata": {},
   "outputs": [],
   "source": [
    "D = np.linalg.norm(np.repeat(X_test, X_train.shape[0]).reshape([X_test.shape[0], X_test.shape[1], X_train.shape[0]]) - np.repeat(X_train, X_test.shape[0]).reshape([X_train.shape[0], X_test.shape[1], X_test.shape[0]]).T, axis=1, )"
   ]
  },
  {
   "cell_type": "code",
   "execution_count": 42,
   "id": "89125da0-6756-44ef-b06e-180ec64500e4",
   "metadata": {},
   "outputs": [
    {
     "data": {
      "text/plain": [
       "(87, 203)"
      ]
     },
     "execution_count": 42,
     "metadata": {},
     "output_type": "execute_result"
    }
   ],
   "source": [
    "D.shape"
   ]
  },
  {
   "cell_type": "code",
   "execution_count": 43,
   "id": "703b7a50-2564-4ee1-b63d-2febce98d67d",
   "metadata": {},
   "outputs": [
    {
     "data": {
      "text/plain": [
       "(87, 203, 2)"
      ]
     },
     "execution_count": 43,
     "metadata": {},
     "output_type": "execute_result"
    }
   ],
   "source": [
    "d = np.stack([D, np.repeat(y_train, 87).reshape([203,87]).T], axis=2)\n",
    "d.shape"
   ]
  },
  {
   "cell_type": "code",
   "execution_count": 53,
   "id": "e85d2487-9d77-4a61-8e35-bfd4f686d22a",
   "metadata": {},
   "outputs": [
    {
     "data": {
      "text/plain": [
       "array([1., 0., 0., 0., 0., 0., 1., 1., 0., 0., 1., 0., 1., 0., 0., 1., 0.,\n",
       "       0., 0., 1., 0., 1., 0., 0., 1., 1., 1., 0., 0., 0., 0., 1., 1., 0.,\n",
       "       1., 1., 0., 1., 0., 0., 0., 0., 0., 0., 0., 0., 1., 1., 1., 0., 0.,\n",
       "       0., 1., 0., 0., 1., 0., 0., 0., 0., 0., 1., 0., 0., 1., 0., 0., 1.,\n",
       "       1., 0., 0., 1., 0., 0., 1., 1., 0., 0., 1., 0., 1., 0., 1., 1., 1.,\n",
       "       0., 0., 0., 0., 0., 0., 0., 1., 1., 1., 0., 1., 1., 0., 0., 1., 0.,\n",
       "       1., 0., 0., 0., 0., 0., 1., 0., 1., 1., 0., 0., 0., 1., 0., 0., 0.,\n",
       "       0., 0., 0., 0., 0., 1., 0., 0., 0., 1., 0., 0., 0., 1., 0., 0., 1.,\n",
       "       0., 0., 0., 0., 0., 0., 1., 0., 0., 0., 0., 0., 0., 0., 0., 1., 0.,\n",
       "       1., 0., 0., 0., 0., 0., 0., 0., 1., 1., 1., 1., 1., 0., 0., 0., 0.,\n",
       "       0., 1., 0., 0., 0., 0., 0., 0., 1., 0., 0., 0., 1., 1., 0., 0., 0.,\n",
       "       0., 0., 0., 0., 0., 1., 1., 0., 0., 0., 0., 0., 1., 0., 1., 0.])"
      ]
     },
     "execution_count": 53,
     "metadata": {},
     "output_type": "execute_result"
    }
   ],
   "source": [
    "y_train"
   ]
  },
  {
   "cell_type": "code",
   "execution_count": 59,
   "id": "3904cacc-dc6b-4bfb-8f33-8f7b22b4eb1a",
   "metadata": {},
   "outputs": [
    {
     "data": {
      "text/plain": [
       "array([0., 0., 0., 0., 0., 0., 0., 0., 0., 0., 0., 0., 0., 0., 0., 0., 0.,\n",
       "       0., 0., 0., 0., 0., 0., 0., 0., 0., 0., 0., 0., 0., 0., 0., 0., 0.,\n",
       "       0., 0., 0., 0., 0., 0., 0., 0., 0., 0., 0., 0., 0., 0., 0., 0., 0.,\n",
       "       0., 0., 0., 0., 0., 0., 0., 0., 0., 0., 0., 0., 0., 0., 0., 0., 0.,\n",
       "       0., 0., 0., 0., 0., 0., 0., 0., 0., 0., 0., 0., 0., 0., 0., 0., 0.,\n",
       "       0., 0., 0., 0., 0., 0., 0., 0., 0., 0., 0., 0., 0., 0., 0., 0., 0.,\n",
       "       0., 0., 0., 0., 0., 0., 0., 0., 0., 0., 0., 0., 0., 0., 0., 0., 0.,\n",
       "       0., 0., 0., 0., 0., 0., 0., 0., 0., 0., 0., 0., 0., 0., 0., 0., 0.,\n",
       "       0., 0., 0., 1., 1., 1., 1., 1., 1., 1., 1., 1., 1., 1., 1., 1., 1.,\n",
       "       1., 1., 1., 1., 1., 1., 1., 1., 1., 1., 1., 1., 1., 1., 1., 1., 1.,\n",
       "       1., 1., 1., 1., 1., 1., 1., 1., 1., 1., 1., 1., 1., 1., 1., 1., 1.,\n",
       "       1., 1., 1., 1., 1., 1., 1., 1., 1., 1., 1., 1., 1., 1., 1., 1.])"
      ]
     },
     "execution_count": 59,
     "metadata": {},
     "output_type": "execute_result"
    }
   ],
   "source": [
    "d_sorted = np.sort(d, axis=1)\n",
    "d_sorted[0,:,1]"
   ]
  },
  {
   "cell_type": "code",
   "execution_count": 62,
   "id": "851d9abe-221d-4421-ae60-277177cd413f",
   "metadata": {},
   "outputs": [
    {
     "data": {
      "text/plain": [
       "array([ 3.50636853, 10.6117318 , 11.73537201,  8.15440371,  5.52946213,\n",
       "       10.53062488,  4.40446426,  8.80254535,  7.99177773, 11.87178766,\n",
       "        0.74129057,  7.24130809, 10.01661401,  9.45259573,  4.2456722 ,\n",
       "        1.64962733,  8.57039797,  9.32334736,  2.7524852 ,  4.79615784,\n",
       "        6.13324724,  6.45447611, 11.02606676, 11.66315336,  9.47894723,\n",
       "        8.24694941,  1.7892058 ,  9.3692432 ,  9.50490097,  8.45923901,\n",
       "        8.68647277,  5.15020564,  2.18315372,  8.84209295,  3.71996844,\n",
       "        9.82944882,  8.35198686,  6.86614079, 10.70894055,  6.13483024,\n",
       "       14.42039828,  9.11810616,  5.97442443,  3.84486088, 10.37042877,\n",
       "        6.9715884 ,  4.73627762,  2.56185187,  3.33145354,  5.7637366 ,\n",
       "       11.25066314, 13.27286206,  6.49350839, 11.30045181, 10.98361697,\n",
       "        4.02759882,  5.86290813,  7.47471542,  5.26763941,  5.40356078,\n",
       "        8.67975238,  9.10838324,  4.27812434, 10.26039552,  3.23279015,\n",
       "        7.69673994,  5.14190232,  8.12318768,  5.60278187,  6.41973086,\n",
       "        9.75907798,  1.54269319,  2.70761366,  9.75837207, 12.2930132 ,\n",
       "        0.12324413,  8.62535799,  6.70411289,  5.35797558,  8.59311878,\n",
       "        1.22658636, 11.30547058,  2.51928781,  5.39964318, 11.10401436,\n",
       "        4.19206415,  7.94192728, 14.03200027,  6.74070742,  7.25859095,\n",
       "       13.66263611, 10.83421777,  5.26141265,  9.84004047,  8.45933431,\n",
       "        6.89009961,  4.79736628, 11.50013353, 14.13691655, 12.08572538,\n",
       "        2.70707844, 14.20555258,  3.54741002,  6.77564445, 13.25859689,\n",
       "        6.00184462,  6.63374327,  5.35678858,  2.41283472,  5.53034996,\n",
       "        3.09396211,  2.94415305,  9.79925193,  7.20131382,  3.5146713 ,\n",
       "        7.68634768, 11.03923949,  7.77009084,  4.8178505 , 11.46286183,\n",
       "        8.00121007,  5.31242789, 10.80855952, 12.16906869,  8.73206068,\n",
       "        7.69118325, 13.24769313,  8.18038449, 10.31324156,  5.06987301,\n",
       "        6.40339677, 12.89523706,  0.79033978,  6.48127937, 10.21082009,\n",
       "        2.20768315, 11.46424857,  9.64991226,  9.28940539, 11.29373305,\n",
       "        7.9888257 ,  7.72529188,  5.34487406,  8.93460847,  6.41908722,\n",
       "        8.18419813, 13.23590652,  8.72751843,  9.33268613, 11.03450382,\n",
       "        8.7089457 ,  4.16249904, 16.41356694, 11.29506638,  4.48381892,\n",
       "        6.928911  ,  5.81141492,  6.6750899 ,  8.81397505, 10.68238472,\n",
       "        9.2087108 ,  9.86936123,  8.56287412,  8.82536918,  6.14640978,\n",
       "        3.84250463,  6.02038951, 11.3031795 ,  4.40336984,  2.29949634,\n",
       "        2.47570057, 23.99648261,  7.01078062, 12.99675215,  9.22961447,\n",
       "        7.88344181,  3.75106299,  9.08087234, 13.00099082,  7.15013281,\n",
       "        8.07232509,  9.2070215 ,  9.86858541,  8.12293006,  7.19649706,\n",
       "        8.10655115,  6.46301521,  7.30602584, 13.45412743, 11.96485205,\n",
       "        1.60045075, 10.12845455,  9.74098859,  9.0204427 ,  8.26685376,\n",
       "        3.37879362,  7.66529455,  4.9634039 ,  7.7052466 ,  0.57448866,\n",
       "        4.56777067,  0.37630681,  7.33098134])"
      ]
     },
     "execution_count": 62,
     "metadata": {},
     "output_type": "execute_result"
    }
   ],
   "source": [
    "d[0,:,0]"
   ]
  },
  {
   "cell_type": "code",
   "execution_count": 64,
   "id": "1fad5edc-0b78-4f5a-80f9-2045eed9006d",
   "metadata": {},
   "outputs": [
    {
     "data": {
      "text/plain": [
       "array([1., 0., 0., 0., 0., 0., 1., 1., 0., 0., 1., 0., 1., 0., 0., 1., 0.,\n",
       "       0., 0., 1., 0., 1., 0., 0., 1., 1., 1., 0., 0., 0., 0., 1., 1., 0.,\n",
       "       1., 1., 0., 1., 0., 0., 0., 0., 0., 0., 0., 0., 1., 1., 1., 0., 0.,\n",
       "       0., 1., 0., 0., 1., 0., 0., 0., 0., 0., 1., 0., 0., 1., 0., 0., 1.,\n",
       "       1., 0., 0., 1., 0., 0., 1., 1., 0., 0., 1., 0., 1., 0., 1., 1., 1.,\n",
       "       0., 0., 0., 0., 0., 0., 0., 1., 1., 1., 0., 1., 1., 0., 0., 1., 0.,\n",
       "       1., 0., 0., 0., 0., 0., 1., 0., 1., 1., 0., 0., 0., 1., 0., 0., 0.,\n",
       "       0., 0., 0., 0., 0., 1., 0., 0., 0., 1., 0., 0., 0., 1., 0., 0., 1.,\n",
       "       0., 0., 0., 0., 0., 0., 1., 0., 0., 0., 0., 0., 0., 0., 0., 1., 0.,\n",
       "       1., 0., 0., 0., 0., 0., 0., 0., 1., 1., 1., 1., 1., 0., 0., 0., 0.,\n",
       "       0., 1., 0., 0., 0., 0., 0., 0., 1., 0., 0., 0., 1., 1., 0., 0., 0.,\n",
       "       0., 0., 0., 0., 0., 1., 1., 0., 0., 0., 0., 0., 1., 0., 1., 0.])"
      ]
     },
     "execution_count": 64,
     "metadata": {},
     "output_type": "execute_result"
    }
   ],
   "source": [
    "d[0,:,1]"
   ]
  },
  {
   "cell_type": "code",
   "execution_count": 72,
   "id": "5d777dd5-955b-4be5-ae38-f3c3a7e16b2a",
   "metadata": {},
   "outputs": [],
   "source": [
    "C = np.arange(1, 28, 1).reshape(3,3,3)\n",
    "np.random.shuffle(C)"
   ]
  },
  {
   "cell_type": "code",
   "execution_count": 73,
   "id": "759e2467-cec2-46f4-8a1f-e1a9ff5c4c1b",
   "metadata": {},
   "outputs": [
    {
     "data": {
      "text/plain": [
       "array([[[ 1,  2,  3],\n",
       "        [ 4,  5,  6],\n",
       "        [ 7,  8,  9]],\n",
       "\n",
       "       [[10, 11, 12],\n",
       "        [13, 14, 15],\n",
       "        [16, 17, 18]],\n",
       "\n",
       "       [[19, 20, 21],\n",
       "        [22, 23, 24],\n",
       "        [25, 26, 27]]])"
      ]
     },
     "execution_count": 73,
     "metadata": {},
     "output_type": "execute_result"
    }
   ],
   "source": [
    "C"
   ]
  },
  {
   "cell_type": "code",
   "execution_count": null,
   "id": "1c45cd69-3cca-44a4-b3bb-94fdd36492e4",
   "metadata": {},
   "outputs": [],
   "source": []
  }
 ],
 "metadata": {
  "kernelspec": {
   "display_name": "Python 3 (ipykernel)",
   "language": "python",
   "name": "python3"
  },
  "language_info": {
   "codemirror_mode": {
    "name": "ipython",
    "version": 3
   },
   "file_extension": ".py",
   "mimetype": "text/x-python",
   "name": "python",
   "nbconvert_exporter": "python",
   "pygments_lexer": "ipython3",
   "version": "3.10.10"
  }
 },
 "nbformat": 4,
 "nbformat_minor": 5
}
