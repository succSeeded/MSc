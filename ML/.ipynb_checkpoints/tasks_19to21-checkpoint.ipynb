{
 "cells": [
  {
   "cell_type": "code",
   "execution_count": 1,
   "id": "fb62f895-2f31-4f4f-82e6-94ff4767481b",
   "metadata": {},
   "outputs": [],
   "source": [
    "%load_ext jupyter_black"
   ]
  },
  {
   "cell_type": "code",
   "execution_count": 2,
   "id": "60badabe-8d1d-46af-a8bd-2964225fbd3d",
   "metadata": {
    "id": "oU0mBGCi9v85"
   },
   "outputs": [],
   "source": [
    "import numpy as np\n",
    "import matplotlib.pyplot as plt\n",
    "\n",
    "np.random.seed(42)"
   ]
  },
  {
   "cell_type": "markdown",
   "id": "30596ac0-b5a8-42dc-98c6-47cf3134dd8a",
   "metadata": {},
   "source": [
    "# Task 19.\n",
    "\n",
    "First, let us generate some multivariate data."
   ]
  },
  {
   "cell_type": "code",
   "execution_count": 3,
   "id": "c2abfa33-98fe-4fd9-ab13-99fb9bb70e55",
   "metadata": {},
   "outputs": [
    {
     "data": {
      "text/plain": [
       "(1000, 2)"
      ]
     },
     "execution_count": 3,
     "metadata": {},
     "output_type": "execute_result"
    }
   ],
   "source": [
    "n = 1000\n",
    "mu = np.array([3, 1])\n",
    "sigma = np.array([[7, 1], [1, 6]])\n",
    "\n",
    "x = np.random.multivariate_normal(mu, sigma, n)\n",
    "x.shape"
   ]
  },
  {
   "cell_type": "markdown",
   "id": "19553dbb-a373-4428-b32e-5f62cef2a03b",
   "metadata": {},
   "source": [
    "Then, we will find true values of distribution parameters"
   ]
  },
  {
   "cell_type": "code",
   "execution_count": 4,
   "id": "e1d99756-260a-4e8a-9138-c9b92681c83d",
   "metadata": {},
   "outputs": [],
   "source": [
    "A = np.array([[-1, 1], [1, 0]])\n",
    "mu_true = A @ mu\n",
    "sigma_true = A @ sigma @ A.T"
   ]
  },
  {
   "cell_type": "markdown",
   "id": "78dc7d31-e593-4ce9-8e5f-08be6cb9bbc2",
   "metadata": {},
   "source": [
    "After that, we tranform the initial distribution as specified in theoretical part of this task."
   ]
  },
  {
   "cell_type": "code",
   "execution_count": 5,
   "id": "b83f6fb4-2c0f-49f3-8e37-f1b56a1e49a4",
   "metadata": {},
   "outputs": [
    {
     "data": {
      "text/plain": [
       "(1000, 2)"
      ]
     },
     "execution_count": 5,
     "metadata": {},
     "output_type": "execute_result"
    }
   ],
   "source": [
    "k_est = np.vstack([x[:, 1] - x[:, 0], x[:, 0]]).T\n",
    "k_est.shape"
   ]
  },
  {
   "cell_type": "markdown",
   "id": "3d07dc95-ba9a-4398-a6f6-c82d9f44134e",
   "metadata": {},
   "source": [
    "Let us estimate parameters of `k_est`'s distribution. Assuming that it is normal, we get that:"
   ]
  },
  {
   "cell_type": "code",
   "execution_count": 6,
   "id": "ff61fb79-b527-4d4a-a5b1-cb8cee443058",
   "metadata": {},
   "outputs": [
    {
     "name": "stdout",
     "output_type": "stream",
     "text": [
      "Difference of means: [ 0.21170987 -0.14741463]\n",
      "Difference of covariance matrices:\n",
      "[[ 0.26119218  0.01953586]\n",
      " [ 0.01953586 -0.35591076]]\n"
     ]
    }
   ],
   "source": [
    "mu_est = np.mean(k_est, axis=0)\n",
    "sigma_est = np.cov(k_est.T)\n",
    "\n",
    "print(f\"Difference of means: {mu_est - mu_true}\")\n",
    "print(f\"Difference of covariance matrices:\\n{sigma_est - sigma_true}\")"
   ]
  },
  {
   "cell_type": "markdown",
   "id": "58fcbf26-3de8-4240-acc5-0888026bea9d",
   "metadata": {},
   "source": [
    "As we can see, the differences are minimal."
   ]
  },
  {
   "cell_type": "markdown",
   "id": "1ed8c4e3-5acf-4457-b908-610a55d7184f",
   "metadata": {},
   "source": [
    "# Task 20.\n",
    "\n",
    "First, let us generate some multivariate data."
   ]
  },
  {
   "cell_type": "code",
   "execution_count": 7,
   "id": "869cd3f5-a18a-4036-bc94-88feee1ea96c",
   "metadata": {},
   "outputs": [
    {
     "data": {
      "text/plain": [
       "(1000, 3)"
      ]
     },
     "execution_count": 7,
     "metadata": {},
     "output_type": "execute_result"
    }
   ],
   "source": [
    "n = 1000\n",
    "mu = np.array([7, 2, 9])\n",
    "sigma = np.array([[2, -1, 0], [-1, 2, -1], [0, -1, 2]])\n",
    "\n",
    "x = np.random.multivariate_normal(mu, sigma, n)\n",
    "x.shape"
   ]
  },
  {
   "cell_type": "markdown",
   "id": "4c697013-5bab-42ed-afdc-66809258400b",
   "metadata": {},
   "source": [
    "Then, we will find true values of distribution parameters"
   ]
  },
  {
   "cell_type": "code",
   "execution_count": 8,
   "id": "c3c156b9-93ce-4313-b2e8-63296a2d45cc",
   "metadata": {},
   "outputs": [],
   "source": [
    "B = np.array([[0.5, -1.0, 0.5], [-1.5, 2, -0.5], [1.0, 0.0, 0.0]])\n",
    "mu_true = B @ mu\n",
    "sigma_true = B @ sigma @ B.T"
   ]
  },
  {
   "cell_type": "markdown",
   "id": "0488914f-30de-4337-b268-17d4c0b240ac",
   "metadata": {},
   "source": [
    "Then, we tranform the initial distribution as specified in theoretical part of this task."
   ]
  },
  {
   "cell_type": "code",
   "execution_count": 9,
   "id": "07473dd1-5891-4a7d-b0cc-97b4c3a85a3e",
   "metadata": {},
   "outputs": [
    {
     "data": {
      "text/plain": [
       "(1000, 3)"
      ]
     },
     "execution_count": 9,
     "metadata": {},
     "output_type": "execute_result"
    }
   ],
   "source": [
    "k_est = x @ B.T\n",
    "k_est.shape"
   ]
  },
  {
   "cell_type": "markdown",
   "id": "97bcf92c-4aad-4a5e-b939-89e327181b7e",
   "metadata": {},
   "source": [
    "Let us estimate parameters of `k_est`'s distribution. Assuming that it is normal, we get that:"
   ]
  },
  {
   "cell_type": "code",
   "execution_count": 10,
   "id": "d44e4264-99a8-4729-835c-483a205cb37c",
   "metadata": {},
   "outputs": [
    {
     "name": "stdout",
     "output_type": "stream",
     "text": [
      "Difference of means: [-0.09353196  0.10480245  0.0329825 ]\n",
      "Difference of covariance matrices:\n",
      "[[-0.10780617  0.18756786 -0.02402411]\n",
      " [ 0.18756786 -0.30305886  0.01377784]\n",
      " [-0.02402411  0.01377784  0.02937912]]\n"
     ]
    }
   ],
   "source": [
    "mu_est = np.mean(k_est, axis=0)\n",
    "sigma_est = np.cov(k_est.T)\n",
    "\n",
    "print(f\"Difference of means: {mu_est - mu_true}\")\n",
    "print(f\"Difference of covariance matrices:\\n{sigma_est - sigma_true}\")"
   ]
  },
  {
   "cell_type": "markdown",
   "id": "5d265551-cf1f-453e-8154-19813d33d9c9",
   "metadata": {},
   "source": [
    "As we can see, the differences are minimal."
   ]
  },
  {
   "cell_type": "markdown",
   "id": "5e6ebc4c-fac0-44ef-a9f7-b190eefda728",
   "metadata": {},
   "source": [
    "# Task 21.\n",
    "\n",
    "Let us define a function that checks how similar parameters are:"
   ]
  },
  {
   "cell_type": "code",
   "execution_count": 11,
   "id": "8ac5fe23-f12a-4f19-814e-10ca5ba35403",
   "metadata": {},
   "outputs": [],
   "source": [
    "def same_parameters_check(n, m):\n",
    "    mu = np.random.rand(n + 1)\n",
    "    sigma = np.diag(\n",
    "        np.abs(np.random.rand(n + 1)) + 1\n",
    "    )  # Generate a diagonal matrix with only positive values\n",
    "\n",
    "    x = np.random.multivariate_normal(mu, sigma, m)\n",
    "\n",
    "    C_inv = np.zeros(n + 1)\n",
    "    C_inv[-1] = 1\n",
    "\n",
    "    for i in range(1, n + 1):\n",
    "        C_inv = np.vstack([C_inv, [i**j for j in range(n + 1)][::-1]])\n",
    "\n",
    "    C = np.linalg.inv(C_inv)\n",
    "\n",
    "    mu_true = C @ mu\n",
    "    sigma_true = C @ sigma @ C.T\n",
    "\n",
    "    k_est = x @ C.T\n",
    "\n",
    "    mu_est = np.mean(k_est, axis=0)\n",
    "    sigma_est = np.cov(k_est.T)\n",
    "\n",
    "    print(f\"Difference of means: {np.linalg.norm(mu_est - mu_true)}\")\n",
    "    print(f\"Difference of covariance matrices: {np.linalg.norm(sigma_est - sigma_true)}\")"
   ]
  },
  {
   "cell_type": "code",
   "execution_count": 13,
   "id": "67856722-6cdb-4d58-bebe-48ca0e131cc2",
   "metadata": {},
   "outputs": [
    {
     "name": "stdout",
     "output_type": "stream",
     "text": [
      "Difference of means: 3.670975271625084\n",
      "Difference of covariance matrices:16857.8776138185\n"
     ]
    }
   ],
   "source": [
    "same_parameters_check(10, 1000)"
   ]
  },
  {
   "cell_type": "code",
   "execution_count": null,
   "id": "c174abed-376a-4986-8fb3-025972e51434",
   "metadata": {},
   "outputs": [],
   "source": []
  }
 ],
 "metadata": {
  "kernelspec": {
   "display_name": "Python 3 (ipykernel)",
   "language": "python",
   "name": "python3"
  },
  "language_info": {
   "codemirror_mode": {
    "name": "ipython",
    "version": 3
   },
   "file_extension": ".py",
   "mimetype": "text/x-python",
   "name": "python",
   "nbconvert_exporter": "python",
   "pygments_lexer": "ipython3",
   "version": "3.12.7"
  }
 },
 "nbformat": 4,
 "nbformat_minor": 5
}
