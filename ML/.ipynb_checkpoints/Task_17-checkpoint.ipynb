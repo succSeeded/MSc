{
 "cells": [
  {
   "cell_type": "code",
   "execution_count": 7,
   "id": "3dad53e7-c6dd-4a5f-b8db-323847e64328",
   "metadata": {},
   "outputs": [],
   "source": [
    "import numpy as np\n",
    "from sklearn.utils._param_validation import (\n",
    "    validate_params,\n",
    ")"
   ]
  },
  {
   "cell_type": "code",
   "execution_count": null,
   "id": "4bab1134-a6ee-400a-bc83-04a9d68af26e",
   "metadata": {},
   "outputs": [
    {
     "data": {
      "text/plain": [
       "array([[ 0.        , 62.11280061, 90.27181177],\n",
       "       [62.11280061,  0.        , 64.66065264],\n",
       "       [90.27181177, 64.66065264,  0.        ]])"
      ]
     },
     "execution_count": 10,
     "metadata": {},
     "output_type": "execute_result"
    }
   ],
   "source": [
    "@validate_params(\n",
    "    {\"X\": [\"array-like\", \"sparse matrix\"]},\n",
    ")\n",
    "def euclidean_intercluster(X):\n",
    "    \"\"\"\n",
    "    Computes the euclidean distance between clusters.\n",
    "\n",
    "    Parameters:\n",
    "    X (array-like, sparse matrix): Set of vectors.\n",
    "    labels (array-like): Set of labels for the vectors.\n",
    "\n",
    "    Returns:\n",
    "    dist (array-like): Distances between each possible pair of vectors in provided set.\n",
    "    \"\"\"\n",
    "    n = X.shape[0]\n",
    "    dist = np.zeros((n,n))\n",
    "    for i in range(n):\n",
    "        dist[i, :] = np.linalg.norm(X[i, :] - X, axis=1)\n",
    "    return dist"
   ]
  },
  {
   "cell_type": "code",
   "execution_count": 3,
   "id": "d2b064c6-4dac-4de5-afe7-8da9837c4c57",
   "metadata": {},
   "outputs": [
    {
     "ename": "SyntaxError",
     "evalue": "invalid syntax. Perhaps you forgot a comma? (3592807478.py, line 6)",
     "output_type": "error",
     "traceback": [
      "\u001b[1;36m  Cell \u001b[1;32mIn[3], line 6\u001b[1;36m\u001b[0m\n\u001b[1;33m    {\"intracluster_metric\": [\"None\", StrOptions(set(\"1, -1, \"2, \"-2\", \"inf\", \"-inf\", \"fro\", \"nuc\")), \"callable\"]},\u001b[0m\n\u001b[1;37m                                                    ^\u001b[0m\n\u001b[1;31mSyntaxError\u001b[0m\u001b[1;31m:\u001b[0m invalid syntax. Perhaps you forgot a comma?\n"
     ]
    }
   ],
   "source": [
    "from functools import partial\n",
    "\n",
    "\n",
    "@validate_params(\n",
    "    {\"X\": [\"array-like\"]},\n",
    "    {\"labels\": \"array-like\"},\n",
    "    {\"intracluster_metric\": [\"None\", StrOptions({\"precomputed\"}), \"callable\"]},\n",
    "    {\"intercluster_metric\": [\"None\", \"str\", \"callable\"]},\n",
    ")\n",
    "def dunn_score(X, labels, intracluster_metric=None, intercluster_metric=None):\n",
    "    \"\"\"\n",
    "    Compute the Dunn Index by given within-cluster distances (callable or precomputed) and\n",
    "    between-cluster distances(callable or precomputed).\n",
    "\n",
    "    Parameters:\n",
    "    X (array-like): Set of vectors.\n",
    "    labels (array-like): Class labels for each of the vectors.\n",
    "    intracluster_metric (callable, str): Metric used to measure distances within a cluster.\n",
    "    intercluster_metric (callable, str): Metric used to measure distances between clusters.\n",
    "\n",
    "    Returns:\n",
    "    dunn (float): Dunn score.\n",
    "    \"\"\"\n",
    "    if callable(intracluster_metric):\n",
    "        norm = intracluster_metric\n",
    "    elif intracluster_metric is None:\n",
    "        norm = patrial(np.linalg.vector_norm, ord=\"2\")\n",
    "    else intracluster_metric == \"precomputed\":\n",
    "        pass\n",
    "    \n",
    "    n = X.shape[0]\n",
    "    dist = np.zeros((n,n))\n",
    "    for i in range(n):\n",
    "        dist[i, :] = norm(X[i, :] - X, axis=1)\n",
    "    return dunn"
   ]
  },
  {
   "cell_type": "code",
   "execution_count": null,
   "id": "f5101276-e06b-419f-adc1-3000b7dd1405",
   "metadata": {},
   "outputs": [],
   "source": []
  }
 ],
 "metadata": {
  "kernelspec": {
   "display_name": "Python 3 (ipykernel)",
   "language": "python",
   "name": "python3"
  },
  "language_info": {
   "codemirror_mode": {
    "name": "ipython",
    "version": 3
   },
   "file_extension": ".py",
   "mimetype": "text/x-python",
   "name": "python",
   "nbconvert_exporter": "python",
   "pygments_lexer": "ipython3",
   "version": "3.12.7"
  }
 },
 "nbformat": 4,
 "nbformat_minor": 5
}
