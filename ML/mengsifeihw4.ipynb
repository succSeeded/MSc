{
 "cells": [
  {
   "cell_type": "code",
   "execution_count": 1,
   "id": "8b5949e9",
   "metadata": {
    "execution": {
     "iopub.execute_input": "2024-10-14T08:38:43.346481Z",
     "iopub.status.busy": "2024-10-14T08:38:43.345655Z",
     "iopub.status.idle": "2024-10-14T08:38:57.740001Z",
     "shell.execute_reply": "2024-10-14T08:38:57.738919Z"
    },
    "papermill": {
     "duration": 14.402414,
     "end_time": "2024-10-14T08:38:57.742697",
     "exception": false,
     "start_time": "2024-10-14T08:38:43.340283",
     "status": "completed"
    },
    "tags": []
   },
   "outputs": [
    {
     "name": "stdout",
     "output_type": "stream",
     "text": [
      "\u001b[31mERROR: pip's dependency resolver does not currently take into account all the packages that are installed. This behaviour is the source of the following dependency conflicts.\r\n",
      "google-cloud-bigquery 2.34.4 requires packaging<22.0dev,>=14.3, but you have packaging 24.1 which is incompatible.\r\n",
      "jupyterlab 4.2.5 requires jupyter-lsp>=2.0.0, but you have jupyter-lsp 1.5.1 which is incompatible.\r\n",
      "jupyterlab-lsp 5.1.0 requires jupyter-lsp>=2.0.0, but you have jupyter-lsp 1.5.1 which is incompatible.\r\n",
      "libpysal 4.9.2 requires shapely>=2.0.1, but you have shapely 1.8.5.post1 which is incompatible.\r\n",
      "ydata-profiling 4.10.0 requires scipy<1.14,>=1.4.1, but you have scipy 1.14.1 which is incompatible.\u001b[0m\u001b[31m\r\n",
      "\u001b[0m"
     ]
    }
   ],
   "source": [
    "!pip install -q jupyter_black"
   ]
  },
  {
   "cell_type": "code",
   "execution_count": 1,
   "id": "8b4f0f8b",
   "metadata": {
    "papermill": {
     "duration": 0.1115,
     "end_time": "2024-10-14T08:38:57.857784",
     "exception": false,
     "start_time": "2024-10-14T08:38:57.746284",
     "status": "completed"
    },
    "tags": []
   },
   "outputs": [],
   "source": [
    "%load_ext jupyter_black"
   ]
  },
  {
   "cell_type": "code",
   "execution_count": 18,
   "id": "c4ac2d52",
   "metadata": {
    "papermill": {
     "duration": 2.695413,
     "end_time": "2024-10-14T08:39:00.557049",
     "exception": false,
     "start_time": "2024-10-14T08:38:57.861636",
     "status": "completed"
    },
    "tags": []
   },
   "outputs": [],
   "source": [
    "import pandas as pd\n",
    "import numpy as np\n",
    "import matplotlib.pyplot as plt\n",
    "from sklearn.preprocessing import OneHotEncoder, StandardScaler\n",
    "from sklearn.compose import ColumnTransformer\n",
    "from sklearn.pipeline import Pipeline\n",
    "from sklearn.linear_model import LogisticRegression\n",
    "from sklearn.metrics import (\n",
    "    confusion_matrix,\n",
    "    accuracy_score,\n",
    "    classification_report,\n",
    "    ConfusionMatrixDisplay,\n",
    ")\n",
    "from sklearn.model_selection import train_test_split, GridSearchCV\n",
    "import warnings\n",
    "\n",
    "warnings.filterwarnings(\"ignore\")\n",
    "\n",
    "from sklearn.ensemble import RandomForestClassifier, VotingClassifier\n",
    "from sklearn.model_selection import train_test_split\n",
    "from sklearn.svm import SVC\n",
    "\n",
    "df = pd.read_csv(\"data/estonia-passenger-list.csv\")\n",
    "# удалим фио и индентификаторы, тк они не влияют на резы\n",
    "anonymized_data = df.drop([\"Firstname\", \"Lastname\", \"PassengerId\"], axis=1)\n",
    "# новая фича\n",
    "bins = [-1, 10, 18, 35, 60, np.inf]\n",
    "labels = [\"minor\", \"teen\", \"young_adult\", \"adult\", \"senior\"]\n",
    "anonymized_data[\"AgeGroup\"] = pd.cut(anonymized_data[\"Age\"], bins=bins, labels=labels)\n",
    "\n",
    "y = anonymized_data[\"Survived\"]\n",
    "\n",
    "# определим, какие фичи - категориальные, и какие - численные\n",
    "numeric_features = [\"Age\"]\n",
    "categorical_features = [\"Sex\", \"Category\", \"AgeGroup\", \"Country\"]  # ,\n",
    "\n",
    "# сплитим\n",
    "X_train, X_test, y_train, y_test = train_test_split(\n",
    "    anonymized_data.drop([\"Survived\"], axis=1),  # X\n",
    "    anonymized_data[\"Survived\"],  # y\n",
    "    test_size=0.3,  # доля от всех записей\n",
    "    random_state=1337,  # зерно\n",
    "    stratify=anonymized_data[\"Survived\"],  # а это что?\n",
    ")"
   ]
  },
  {
   "cell_type": "markdown",
   "id": "d03d35ed",
   "metadata": {
    "papermill": {
     "duration": 0.002783,
     "end_time": "2024-10-14T08:39:00.562995",
     "exception": false,
     "start_time": "2024-10-14T08:39:00.560212",
     "status": "completed"
    },
    "tags": []
   },
   "source": [
    "# Задача 5. Паром.\n",
    "\n",
    "Получите accuracy > 0.88 на тестовом датасете. Можно пользоваться любым классификатором **из sklearn**. Ансамблями пользоваться можно.\n",
    "\n",
    "### XtreemeGradientBoosting и нейронные сети запрещены. "
   ]
  },
  {
   "cell_type": "code",
   "execution_count": 24,
   "id": "6925cc5c",
   "metadata": {
    "papermill": {
     "duration": 1.364739,
     "end_time": "2024-10-14T08:39:01.930575",
     "exception": false,
     "start_time": "2024-10-14T08:39:00.565836",
     "status": "completed"
    },
    "tags": []
   },
   "outputs": [
    {
     "name": "stdout",
     "output_type": "stream",
     "text": [
      "              precision    recall  f1-score   support\n",
      "\n",
      "           0       0.91      0.97      0.94       256\n",
      "           1       0.67      0.39      0.49        41\n",
      "\n",
      "    accuracy                           0.89       297\n",
      "   macro avg       0.79      0.68      0.71       297\n",
      "weighted avg       0.88      0.89      0.88       297\n",
      "\n",
      "0.8888888888888888\n"
     ]
    },
    {
     "data": {
      "image/png": "[encoded data removed]",
      "text/plain": [
       "<Figure size 640x480 with 2 Axes>"
      ]
     },
     "metadata": {},
     "output_type": "display_data"
    }
   ],
   "source": [
    "seed = 42\n",
    "# создаем column transformer: кодируем категориалььные признаки с помощью OneHot, численные - StandardScaler, остальные признаки не трогаем (их нет на самом деле)\n",
    "column_transformer = ColumnTransformer(\n",
    "    transformers=[\n",
    "        (\n",
    "            \"ohe\",\n",
    "            OneHotEncoder(handle_unknown=\"ignore\", sparse_output=False),\n",
    "            categorical_features,\n",
    "        ),\n",
    "        (\"scaling\", StandardScaler(), numeric_features),\n",
    "    ],\n",
    "    remainder=\"passthrough\",\n",
    ")\n",
    "\n",
    "# создаем пайплайн логистической регрессии. тк классы не сбалансированы, используем class_weight = 'balanced'\n",
    "lr_pipeline = Pipeline(\n",
    "    steps=[\n",
    "        (\"preprocessor\", column_transformer),\n",
    "        (\n",
    "            \"classifier\",\n",
    "            LogisticRegression(random_state=seed, class_weight=\"balanced\"),\n",
    "        ),\n",
    "    ]\n",
    ")\n",
    "\n",
    "# создаем пайплайн random forest. перебором нашла веса классов с наилучшим качеством\n",
    "rf_pipeline = Pipeline(\n",
    "    steps=[\n",
    "        (\"ohe_and_scaling\", column_transformer),\n",
    "        (\n",
    "            \"BalanceRF\",\n",
    "            RandomForestClassifier(\n",
    "                class_weight={0: 0.423, 1: 0.589},\n",
    "                random_state=seed,\n",
    "                n_estimators=500,\n",
    "            ),\n",
    "        ),\n",
    "    ]\n",
    ")\n",
    "\n",
    "# создаем пайплайн SVC. тк потом используем soft voting, обязательно probability=True\n",
    "svm_pipeline = Pipeline(\n",
    "    steps=[\n",
    "        (\"preprocessor\", column_transformer),\n",
    "        (\n",
    "            \"classifier\",\n",
    "            SVC(\n",
    "                random_state=seed,\n",
    "                probability=True,\n",
    "                class_weight=\"balanced\",\n",
    "            ),\n",
    "        ),\n",
    "    ]\n",
    ")\n",
    "\n",
    "# соберем все вместе\n",
    "ensemble_model = VotingClassifier(\n",
    "    estimators=[\n",
    "        (\"rf\", rf_pipeline),\n",
    "        (\"svm\", svm_pipeline),\n",
    "        (\"lr\", lr_pipeline),\n",
    "    ],\n",
    "    voting=\"soft\",\n",
    ")\n",
    "\n",
    "model = ensemble_model.fit(X_train, y_train)\n",
    "y_preds = model.predict(X_test)\n",
    "print(classification_report(y_test, y_preds))\n",
    "print(accuracy_score(y_test, y_preds))\n",
    "disp = ConfusionMatrixDisplay(confusion_matrix(y_test, y_preds))\n",
    "\n",
    "disp.plot()\n",
    "plt.show()"
   ]
  },
  {
   "cell_type": "code",
   "execution_count": 17,
   "id": "e077049d",
   "metadata": {
    "papermill": {
     "duration": 11.480405,
     "end_time": "2024-10-14T08:39:13.414256",
     "exception": false,
     "start_time": "2024-10-14T08:39:01.933851",
     "status": "completed"
    },
    "tags": []
   },
   "outputs": [
    {
     "name": "stdout",
     "output_type": "stream",
     "text": [
      "Best hyperparameters on the dev set:\n",
      "{'lr__classifier__C': 1, 'svm__classifier__kernel': 'linear'}\n",
      "Best score: 0.2199272204351307\n",
      "              precision    recall  f1-score   support\n",
      "\n",
      "           0       0.91      0.97      0.94       256\n",
      "           1       0.67      0.39      0.49        41\n",
      "\n",
      "    accuracy                           0.89       297\n",
      "   macro avg       0.79      0.68      0.71       297\n",
      "weighted avg       0.88      0.89      0.88       297\n",
      "\n",
      "0.8888888888888888\n",
      "\n"
     ]
    },
    {
     "data": {
      "image/png": "[encoded data removed]",
      "text/plain": [
       "<Figure size 640x480 with 2 Axes>"
      ]
     },
     "metadata": {},
     "output_type": "display_data"
    }
   ],
   "source": [
    "# перебор гиперпараметров\n",
    "param_grid = {\n",
    "    \"svm__classifier__kernel\": [\"linear\", \"poly\"],\n",
    "    \"lr__classifier__C\": [0.01, 0.1, 1],\n",
    "}\n",
    "\n",
    "clf = GridSearchCV(\n",
    "    ensemble_model,\n",
    "    param_grid,\n",
    "    scoring=[\"f1\", \"accuracy\"],\n",
    "    cv=3,\n",
    "    n_jobs=-1,\n",
    "    refit=\"f1\",\n",
    ")\n",
    "\n",
    "clf.fit(X_train, y_train)\n",
    "y_true, y_pred = y_test, clf.best_estimator_.predict(X_test)\n",
    "\n",
    "print(f\"Best hyperparameters on the dev set:\\n{clf.best_params_}\")\n",
    "print(f\"Best score: {clf.best_score_}\")\n",
    "print(classification_report(y_true, y_pred))\n",
    "print(accuracy_score(y_true, y_pred))\n",
    "print()\n",
    "disp = ConfusionMatrixDisplay(confusion_matrix(y_true, y_pred))\n",
    "\n",
    "disp.plot()\n",
    "plt.show()"
   ]
  },
  {
   "cell_type": "markdown",
   "id": "baa70e76",
   "metadata": {
    "papermill": {
     "duration": 0.003137,
     "end_time": "2024-10-14T08:39:13.420893",
     "exception": false,
     "start_time": "2024-10-14T08:39:13.417756",
     "status": "completed"
    },
    "tags": []
   },
   "source": [
    "# Задача 6. Линрег\n",
    "\n",
    "Допустим, у вас есть два множества **A** и **B** точек на плоскости. Линейная регрессия на плоскости -- это \n",
    "просто прямая, ее можно представить как функцию $ y = ax + b$.\n",
    "\n",
    "Линейная регрессия, обученная на множестве **А**, имеет коэффициент **$a > 0$**. То же самое верно и для линейной регрессии, обученной на множестве **B**. Правда ли, что если обучить линейную регрессию на множестве $A \\cup B$, то у полученной прямой коэффициент **a** будет больше 0?\n",
    "\n",
    "Если да -  докажите, если нет - постройте контрпример."
   ]
  },
  {
   "cell_type": "markdown",
   "id": "72eba847",
   "metadata": {
    "papermill": {
     "duration": 0.002966,
     "end_time": "2024-10-14T08:39:13.427122",
     "exception": false,
     "start_time": "2024-10-14T08:39:13.424156",
     "status": "completed"
    },
    "tags": []
   },
   "source": [
    "Покажем, что утверждение неверно. "
   ]
  },
  {
   "cell_type": "code",
   "execution_count": 6,
   "id": "d7fc945d",
   "metadata": {
    "execution": {
     "iopub.execute_input": "2024-10-14T08:39:13.435913Z",
     "iopub.status.busy": "2024-10-14T08:39:13.435020Z",
     "iopub.status.idle": "2024-10-14T08:39:13.895474Z",
     "shell.execute_reply": "2024-10-14T08:39:13.894504Z"
    },
    "papermill": {
     "duration": 0.467774,
     "end_time": "2024-10-14T08:39:13.898030",
     "exception": false,
     "start_time": "2024-10-14T08:39:13.430256",
     "status": "completed"
    },
    "tags": []
   },
   "outputs": [
    {
     "name": "stdout",
     "output_type": "stream",
     "text": [
      "Коэффициент наклона для множества A: 1.9999999999999996\n",
      "Коэффициент наклона для множества B: 20.999999999999993\n",
      "Коэффициент наклона для объединенного множества A и B: -0.5819672131147541\n"
     ]
    },
    {
     "data": {
      "image/png": "[encoded data removed]",
      "text/plain": [
       "<Figure size 640x480 with 1 Axes>"
      ]
     },
     "metadata": {},
     "output_type": "display_data"
    }
   ],
   "source": [
    "import numpy as np\n",
    "import matplotlib.pyplot as plt\n",
    "from sklearn.linear_model import LinearRegression\n",
    "\n",
    "# изначальные данные\n",
    "A = np.array([[1, 1], [2, 3]])\n",
    "B = np.array([[-10, -1], [-9, 20]])\n",
    "A_union_B = np.vstack((A, B))\n",
    "\n",
    "# Разделим координаты X и y для множеств A, B и A_union_B\n",
    "X_A = A[:, 0].reshape(-1, 1)\n",
    "y_A = A[:, 1]\n",
    "\n",
    "X_B = B[:, 0].reshape(-1, 1)\n",
    "y_B = B[:, 1]\n",
    "\n",
    "X_A_union_B = A_union_B[:, 0].reshape(-1, 1)\n",
    "y_A_union_B = A_union_B[:, 1]\n",
    "\n",
    "# обучим модели линейной регрессии для каждого множества\n",
    "reg_A = LinearRegression().fit(A[:, 0].reshape(-1, 1), A[:, 1])\n",
    "reg_B = LinearRegression().fit(B[:, 0].reshape(-1, 1), B[:, 1])\n",
    "reg_A_union_B = LinearRegression().fit(A_union_B[:, 0].reshape(-1, 1), A_union_B[:, 1])\n",
    "\n",
    "# Коэффициенты наклона для каждого множества\n",
    "a_A = reg_A.coef_[0]\n",
    "a_B = reg_B.coef_[0]\n",
    "a_A_union_B = reg_A_union_B.coef_[0]\n",
    "\n",
    "print(f\"Коэффициент наклона для множества A: {a_A}\")\n",
    "print(f\"Коэффициент наклона для множества B: {a_B}\")\n",
    "print(f\"Коэффициент наклона для объединенного множества A и B: {a_A_union_B}\")\n",
    "\n",
    "# Визуализируем результаты\n",
    "plt.scatter(X_A, y_A, color=\"blue\", label=\"Множество A\")\n",
    "plt.scatter(X_B, y_B, color=\"red\", label=\"Множество B\")\n",
    "plt.plot(X_A, reg_A.predict(X_A), color=\"blue\", linestyle=\"--\", label=\"Регрессия A\")\n",
    "plt.plot(X_B, reg_B.predict(X_B), color=\"red\", linestyle=\"--\", label=\"Регрессия B\")\n",
    "plt.plot(\n",
    "    X_A_union_B,\n",
    "    reg_A_union_B.predict(X_A_union_B),\n",
    "    color=\"green\",\n",
    "    label=\"Регрессия A ∪ B\",\n",
    ")\n",
    "\n",
    "plt.xlabel(\"X\")\n",
    "plt.ylabel(\"y\")\n",
    "plt.legend()\n",
    "plt.title(\"Контрпример\")\n",
    "plt.grid()\n",
    "plt.show()"
   ]
  }
 ],
 "metadata": {
  "kaggle": {
   "accelerator": "none",
   "dataSources": [
    {
     "datasetId": 800154,
     "sourceId": 1372289,
     "sourceType": "datasetVersion"
    }
   ],
   "dockerImageVersionId": 30775,
   "isGpuEnabled": false,
   "isInternetEnabled": true,
   "language": "python",
   "sourceType": "notebook"
  },
  "kernelspec": {
   "display_name": "Python 3 (ipykernel)",
   "language": "python",
   "name": "python3"
  },
  "language_info": {
   "codemirror_mode": {
    "name": "ipython",
    "version": 3
   },
   "file_extension": ".py",
   "mimetype": "text/x-python",
   "name": "python",
   "nbconvert_exporter": "python",
   "pygments_lexer": "ipython3",
   "version": "3.12.3"
  },
  "papermill": {
   "default_parameters": {},
   "duration": 35.839962,
   "end_time": "2024-10-14T08:39:16.520809",
   "environment_variables": {},
   "exception": null,
   "input_path": "__notebook__.ipynb",
   "output_path": "__notebook__.ipynb",
   "parameters": {},
   "start_time": "2024-10-14T08:38:40.680847",
   "version": "2.6.0"
  }
 },
 "nbformat": 4,
 "nbformat_minor": 5
}
