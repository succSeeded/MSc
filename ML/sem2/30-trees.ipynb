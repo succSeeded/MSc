{
 "cells": [
  {
   "cell_type": "code",
   "execution_count": 1,
   "metadata": {},
   "outputs": [],
   "source": [
    "%load_ext jupyter_black"
   ]
  },
  {
   "cell_type": "markdown",
   "metadata": {},
   "source": [
    "# Decision Trees"
   ]
  },
  {
   "cell_type": "code",
   "execution_count": 2,
   "metadata": {},
   "outputs": [],
   "source": [
    "import pandas as pd\n",
    "import numpy as np\n",
    "import matplotlib.pyplot as plt\n",
    "from graphviz import Digraph\n",
    "from IPython.display import display\n",
    "\n",
    "%matplotlib inline"
   ]
  },
  {
   "cell_type": "code",
   "execution_count": 4,
   "metadata": {},
   "outputs": [
    {
     "data": {
      "text/html": [
       "<div>\n",
       "<style scoped>\n",
       "    .dataframe tbody tr th:only-of-type {\n",
       "        vertical-align: middle;\n",
       "    }\n",
       "\n",
       "    .dataframe tbody tr th {\n",
       "        vertical-align: top;\n",
       "    }\n",
       "\n",
       "    .dataframe thead th {\n",
       "        text-align: right;\n",
       "    }\n",
       "</style>\n",
       "<table border=\"1\" class=\"dataframe\">\n",
       "  <thead>\n",
       "    <tr style=\"text-align: right;\">\n",
       "      <th></th>\n",
       "      <th>outlook</th>\n",
       "      <th>temp</th>\n",
       "      <th>humidity</th>\n",
       "      <th>windy</th>\n",
       "      <th>play</th>\n",
       "    </tr>\n",
       "  </thead>\n",
       "  <tbody>\n",
       "    <tr>\n",
       "      <th>0</th>\n",
       "      <td>sunny</td>\n",
       "      <td>hot</td>\n",
       "      <td>high</td>\n",
       "      <td>False</td>\n",
       "      <td>no</td>\n",
       "    </tr>\n",
       "    <tr>\n",
       "      <th>1</th>\n",
       "      <td>sunny</td>\n",
       "      <td>hot</td>\n",
       "      <td>high</td>\n",
       "      <td>True</td>\n",
       "      <td>no</td>\n",
       "    </tr>\n",
       "    <tr>\n",
       "      <th>2</th>\n",
       "      <td>overcast</td>\n",
       "      <td>hot</td>\n",
       "      <td>high</td>\n",
       "      <td>False</td>\n",
       "      <td>yes</td>\n",
       "    </tr>\n",
       "    <tr>\n",
       "      <th>3</th>\n",
       "      <td>rainy</td>\n",
       "      <td>mild</td>\n",
       "      <td>high</td>\n",
       "      <td>False</td>\n",
       "      <td>yes</td>\n",
       "    </tr>\n",
       "    <tr>\n",
       "      <th>4</th>\n",
       "      <td>rainy</td>\n",
       "      <td>cool</td>\n",
       "      <td>normal</td>\n",
       "      <td>False</td>\n",
       "      <td>yes</td>\n",
       "    </tr>\n",
       "    <tr>\n",
       "      <th>5</th>\n",
       "      <td>rainy</td>\n",
       "      <td>cool</td>\n",
       "      <td>normal</td>\n",
       "      <td>True</td>\n",
       "      <td>no</td>\n",
       "    </tr>\n",
       "    <tr>\n",
       "      <th>6</th>\n",
       "      <td>overcast</td>\n",
       "      <td>cool</td>\n",
       "      <td>normal</td>\n",
       "      <td>True</td>\n",
       "      <td>yes</td>\n",
       "    </tr>\n",
       "    <tr>\n",
       "      <th>7</th>\n",
       "      <td>sunny</td>\n",
       "      <td>mild</td>\n",
       "      <td>high</td>\n",
       "      <td>False</td>\n",
       "      <td>no</td>\n",
       "    </tr>\n",
       "    <tr>\n",
       "      <th>8</th>\n",
       "      <td>sunny</td>\n",
       "      <td>cool</td>\n",
       "      <td>normal</td>\n",
       "      <td>False</td>\n",
       "      <td>yes</td>\n",
       "    </tr>\n",
       "    <tr>\n",
       "      <th>9</th>\n",
       "      <td>rainy</td>\n",
       "      <td>mild</td>\n",
       "      <td>normal</td>\n",
       "      <td>False</td>\n",
       "      <td>yes</td>\n",
       "    </tr>\n",
       "    <tr>\n",
       "      <th>10</th>\n",
       "      <td>sunny</td>\n",
       "      <td>mild</td>\n",
       "      <td>normal</td>\n",
       "      <td>True</td>\n",
       "      <td>yes</td>\n",
       "    </tr>\n",
       "    <tr>\n",
       "      <th>11</th>\n",
       "      <td>overcast</td>\n",
       "      <td>mild</td>\n",
       "      <td>high</td>\n",
       "      <td>True</td>\n",
       "      <td>yes</td>\n",
       "    </tr>\n",
       "    <tr>\n",
       "      <th>12</th>\n",
       "      <td>overcast</td>\n",
       "      <td>hot</td>\n",
       "      <td>normal</td>\n",
       "      <td>False</td>\n",
       "      <td>yes</td>\n",
       "    </tr>\n",
       "    <tr>\n",
       "      <th>13</th>\n",
       "      <td>rainy</td>\n",
       "      <td>mild</td>\n",
       "      <td>high</td>\n",
       "      <td>True</td>\n",
       "      <td>no</td>\n",
       "    </tr>\n",
       "  </tbody>\n",
       "</table>\n",
       "</div>"
      ],
      "text/plain": [
       "     outlook  temp humidity  windy play\n",
       "0      sunny   hot     high  False   no\n",
       "1      sunny   hot     high   True   no\n",
       "2   overcast   hot     high  False  yes\n",
       "3      rainy  mild     high  False  yes\n",
       "4      rainy  cool   normal  False  yes\n",
       "5      rainy  cool   normal   True   no\n",
       "6   overcast  cool   normal   True  yes\n",
       "7      sunny  mild     high  False   no\n",
       "8      sunny  cool   normal  False  yes\n",
       "9      rainy  mild   normal  False  yes\n",
       "10     sunny  mild   normal   True  yes\n",
       "11  overcast  mild     high   True  yes\n",
       "12  overcast   hot   normal  False  yes\n",
       "13     rainy  mild     high   True   no"
      ]
     },
     "execution_count": 4,
     "metadata": {},
     "output_type": "execute_result"
    }
   ],
   "source": [
    "toy_data = pd.read_csv(\"data\\\\tennis.csv.txt\")\n",
    "toy_data"
   ]
  },
  {
   "cell_type": "markdown",
   "metadata": {},
   "source": [
    "### A decision tree for data above\n",
    "\n",
    "<img src=\"https://github.com/awantik/machine-learning-slides/blob/master/dt4.PNG?raw=true\" width=\"600px\">"
   ]
  },
  {
   "cell_type": "markdown",
   "metadata": {},
   "source": [
    "### 2. Decision Tree Algorithms\n",
    "\n",
    "| Feature                | ID.3 (Ross Quinlan et al.)    | CART (Leo Breiman et al.)     | C4.5, C5 (Ross Quinlan et al.) |\n",
    "|------------------------|-------------------------------|-------------------------------|-------------------------------|\n",
    "| **Splitting Criterion**| Information Gain              | Gini (classification) / Variance (regression) | Gain Ratio                   |\n",
    "| **Data Types**         | Categorical only              | Categorical + Continuous      | Categorical + Continuous      |\n",
    "| **Tree Structure**     | Multi-way                     | Binary                        | Multi-way for categorical features, binary for numerical           |\n",
    "| **Pruning**            | None                          | Cost-complexity               | Pessimistic pruning           |\n",
    "| **Task Support**       | Classification                | Classification + Regression   | Classification                |\n",
    "| **Overfitting**        | High (no pruning)             | Moderate (pruning, binary splits) | Low (pruning, gain ratio) |\n",
    "| **Missing Values**     | Not handled                   | Surrogate splits              | Fractional instances          |\n",
    "\n",
    "**scikit-learn decision trees are based on CART**"
   ]
  },
  {
   "cell_type": "markdown",
   "metadata": {},
   "source": [
    "## Splitting Criterions a.k.a Impurity measures\n",
    "\n",
    "In the decision tree, each node corresponds to a subset of the train data $S$. Let $\\{p_i\\}_{i=1}^C$ be the target distribution over $C$ classes for this subset $S$.\n",
    "\n",
    "* __Entropy:__ $H(S) = -\\sum p_i\\log(p_i)$\n",
    "* __Gini Index:__ $Gini(S) = 1-\\sum p_i^2$\n",
    "\n",
    "> NOTE: the perfomance is usually similar, it doesn't matter which one to chose\n",
    "\n",
    "These are an **Impurity measures** of single node, now we want to select an optimal split. For candidate $S=S_1 \\sqcup S_2 \\dots \\sqcup S_{K_A}$ respecting the values of feature $A$\n",
    "\n",
    "* __Information gain__, aka mutual information $$IG(S, A) = H(S) - H(S|A) = I(S;A) = \\sum_{i=1}^{K_A}\\frac{|S_i|}{|S|}H(S_i)$$\n",
    "> NOTE: What are the limits of IG values? Can it be nega\n",
    "* __Gain Ratio__: $$GainRatio(S, A) = IG(S, A) \\cdot \\frac{1}{-\\sum_{i=1}^{K_A} \\frac{|S_i|}{|S|}\\log\\frac{|S_i|}{|S|}}$$\n"
   ]
  },
  {
   "cell_type": "markdown",
   "metadata": {},
   "source": [
    "# Manual Construction for the toy data"
   ]
  },
  {
   "cell_type": "markdown",
   "metadata": {},
   "source": [
    "### Entropy of play"
   ]
  },
  {
   "cell_type": "code",
   "execution_count": 5,
   "metadata": {},
   "outputs": [
    {
     "data": {
      "text/plain": [
       "play\n",
       "yes    9\n",
       "no     5\n",
       "Name: count, dtype: int64"
      ]
     },
     "execution_count": 5,
     "metadata": {},
     "output_type": "execute_result"
    }
   ],
   "source": [
    "toy_data.play.value_counts()"
   ]
  },
  {
   "cell_type": "code",
   "execution_count": 9,
   "metadata": {},
   "outputs": [
    {
     "data": {
      "text/plain": [
       "np.float64(0.6517565611726531)"
      ]
     },
     "execution_count": 9,
     "metadata": {},
     "output_type": "execute_result"
    }
   ],
   "source": [
    "Entropy_Play = -9 / 14 * np.log(9 / 14) - 5 / 14 * np.log(5 / 14)\n",
    "Entropy_Play"
   ]
  },
  {
   "cell_type": "markdown",
   "metadata": {},
   "source": [
    "#### Information Gain on splitting by Outlook\n"
   ]
  },
  {
   "cell_type": "code",
   "execution_count": 10,
   "metadata": {},
   "outputs": [
    {
     "data": {
      "text/html": [
       "<div>\n",
       "<style scoped>\n",
       "    .dataframe tbody tr th:only-of-type {\n",
       "        vertical-align: middle;\n",
       "    }\n",
       "\n",
       "    .dataframe tbody tr th {\n",
       "        vertical-align: top;\n",
       "    }\n",
       "\n",
       "    .dataframe thead th {\n",
       "        text-align: right;\n",
       "    }\n",
       "</style>\n",
       "<table border=\"1\" class=\"dataframe\">\n",
       "  <thead>\n",
       "    <tr style=\"text-align: right;\">\n",
       "      <th></th>\n",
       "      <th>outlook</th>\n",
       "      <th>temp</th>\n",
       "      <th>humidity</th>\n",
       "      <th>windy</th>\n",
       "      <th>play</th>\n",
       "    </tr>\n",
       "  </thead>\n",
       "  <tbody>\n",
       "    <tr>\n",
       "      <th>0</th>\n",
       "      <td>sunny</td>\n",
       "      <td>hot</td>\n",
       "      <td>high</td>\n",
       "      <td>False</td>\n",
       "      <td>no</td>\n",
       "    </tr>\n",
       "    <tr>\n",
       "      <th>1</th>\n",
       "      <td>sunny</td>\n",
       "      <td>hot</td>\n",
       "      <td>high</td>\n",
       "      <td>True</td>\n",
       "      <td>no</td>\n",
       "    </tr>\n",
       "    <tr>\n",
       "      <th>7</th>\n",
       "      <td>sunny</td>\n",
       "      <td>mild</td>\n",
       "      <td>high</td>\n",
       "      <td>False</td>\n",
       "      <td>no</td>\n",
       "    </tr>\n",
       "    <tr>\n",
       "      <th>8</th>\n",
       "      <td>sunny</td>\n",
       "      <td>cool</td>\n",
       "      <td>normal</td>\n",
       "      <td>False</td>\n",
       "      <td>yes</td>\n",
       "    </tr>\n",
       "    <tr>\n",
       "      <th>10</th>\n",
       "      <td>sunny</td>\n",
       "      <td>mild</td>\n",
       "      <td>normal</td>\n",
       "      <td>True</td>\n",
       "      <td>yes</td>\n",
       "    </tr>\n",
       "  </tbody>\n",
       "</table>\n",
       "</div>"
      ],
      "text/plain": [
       "   outlook  temp humidity  windy play\n",
       "0    sunny   hot     high  False   no\n",
       "1    sunny   hot     high   True   no\n",
       "7    sunny  mild     high  False   no\n",
       "8    sunny  cool   normal  False  yes\n",
       "10   sunny  mild   normal   True  yes"
      ]
     },
     "execution_count": 10,
     "metadata": {},
     "output_type": "execute_result"
    }
   ],
   "source": [
    "toy_data[toy_data.outlook == \"sunny\"]"
   ]
  },
  {
   "cell_type": "code",
   "execution_count": 11,
   "metadata": {},
   "outputs": [],
   "source": [
    "# Entropy(Play|Outlook=Sunny)\n",
    "Entropy_Play_Outlook_Sunny = -2 / 5 * np.log(2 / 5) - 3 / 5 * np.log(3 / 5)"
   ]
  },
  {
   "cell_type": "code",
   "execution_count": 12,
   "metadata": {},
   "outputs": [
    {
     "data": {
      "text/plain": [
       "np.float64(0.6730116670092565)"
      ]
     },
     "execution_count": 12,
     "metadata": {},
     "output_type": "execute_result"
    }
   ],
   "source": [
    "Entropy_Play_Outlook_Sunny"
   ]
  },
  {
   "cell_type": "code",
   "execution_count": 13,
   "metadata": {},
   "outputs": [
    {
     "data": {
      "text/html": [
       "<div>\n",
       "<style scoped>\n",
       "    .dataframe tbody tr th:only-of-type {\n",
       "        vertical-align: middle;\n",
       "    }\n",
       "\n",
       "    .dataframe tbody tr th {\n",
       "        vertical-align: top;\n",
       "    }\n",
       "\n",
       "    .dataframe thead th {\n",
       "        text-align: right;\n",
       "    }\n",
       "</style>\n",
       "<table border=\"1\" class=\"dataframe\">\n",
       "  <thead>\n",
       "    <tr style=\"text-align: right;\">\n",
       "      <th></th>\n",
       "      <th>outlook</th>\n",
       "      <th>temp</th>\n",
       "      <th>humidity</th>\n",
       "      <th>windy</th>\n",
       "      <th>play</th>\n",
       "    </tr>\n",
       "  </thead>\n",
       "  <tbody>\n",
       "    <tr>\n",
       "      <th>2</th>\n",
       "      <td>overcast</td>\n",
       "      <td>hot</td>\n",
       "      <td>high</td>\n",
       "      <td>False</td>\n",
       "      <td>yes</td>\n",
       "    </tr>\n",
       "    <tr>\n",
       "      <th>6</th>\n",
       "      <td>overcast</td>\n",
       "      <td>cool</td>\n",
       "      <td>normal</td>\n",
       "      <td>True</td>\n",
       "      <td>yes</td>\n",
       "    </tr>\n",
       "    <tr>\n",
       "      <th>11</th>\n",
       "      <td>overcast</td>\n",
       "      <td>mild</td>\n",
       "      <td>high</td>\n",
       "      <td>True</td>\n",
       "      <td>yes</td>\n",
       "    </tr>\n",
       "    <tr>\n",
       "      <th>12</th>\n",
       "      <td>overcast</td>\n",
       "      <td>hot</td>\n",
       "      <td>normal</td>\n",
       "      <td>False</td>\n",
       "      <td>yes</td>\n",
       "    </tr>\n",
       "  </tbody>\n",
       "</table>\n",
       "</div>"
      ],
      "text/plain": [
       "     outlook  temp humidity  windy play\n",
       "2   overcast   hot     high  False  yes\n",
       "6   overcast  cool   normal   True  yes\n",
       "11  overcast  mild     high   True  yes\n",
       "12  overcast   hot   normal  False  yes"
      ]
     },
     "execution_count": 13,
     "metadata": {},
     "output_type": "execute_result"
    }
   ],
   "source": [
    "toy_data[toy_data.outlook == \"overcast\"]"
   ]
  },
  {
   "cell_type": "code",
   "execution_count": null,
   "metadata": {},
   "outputs": [],
   "source": [
    "# Entropy(Play|Outlook=overcast)\n",
    "# Since, it's a homogenous data entropy will be 0"
   ]
  },
  {
   "cell_type": "code",
   "execution_count": 14,
   "metadata": {},
   "outputs": [
    {
     "data": {
      "text/html": [
       "<div>\n",
       "<style scoped>\n",
       "    .dataframe tbody tr th:only-of-type {\n",
       "        vertical-align: middle;\n",
       "    }\n",
       "\n",
       "    .dataframe tbody tr th {\n",
       "        vertical-align: top;\n",
       "    }\n",
       "\n",
       "    .dataframe thead th {\n",
       "        text-align: right;\n",
       "    }\n",
       "</style>\n",
       "<table border=\"1\" class=\"dataframe\">\n",
       "  <thead>\n",
       "    <tr style=\"text-align: right;\">\n",
       "      <th></th>\n",
       "      <th>outlook</th>\n",
       "      <th>temp</th>\n",
       "      <th>humidity</th>\n",
       "      <th>windy</th>\n",
       "      <th>play</th>\n",
       "    </tr>\n",
       "  </thead>\n",
       "  <tbody>\n",
       "    <tr>\n",
       "      <th>3</th>\n",
       "      <td>rainy</td>\n",
       "      <td>mild</td>\n",
       "      <td>high</td>\n",
       "      <td>False</td>\n",
       "      <td>yes</td>\n",
       "    </tr>\n",
       "    <tr>\n",
       "      <th>4</th>\n",
       "      <td>rainy</td>\n",
       "      <td>cool</td>\n",
       "      <td>normal</td>\n",
       "      <td>False</td>\n",
       "      <td>yes</td>\n",
       "    </tr>\n",
       "    <tr>\n",
       "      <th>5</th>\n",
       "      <td>rainy</td>\n",
       "      <td>cool</td>\n",
       "      <td>normal</td>\n",
       "      <td>True</td>\n",
       "      <td>no</td>\n",
       "    </tr>\n",
       "    <tr>\n",
       "      <th>9</th>\n",
       "      <td>rainy</td>\n",
       "      <td>mild</td>\n",
       "      <td>normal</td>\n",
       "      <td>False</td>\n",
       "      <td>yes</td>\n",
       "    </tr>\n",
       "    <tr>\n",
       "      <th>13</th>\n",
       "      <td>rainy</td>\n",
       "      <td>mild</td>\n",
       "      <td>high</td>\n",
       "      <td>True</td>\n",
       "      <td>no</td>\n",
       "    </tr>\n",
       "  </tbody>\n",
       "</table>\n",
       "</div>"
      ],
      "text/plain": [
       "   outlook  temp humidity  windy play\n",
       "3    rainy  mild     high  False  yes\n",
       "4    rainy  cool   normal  False  yes\n",
       "5    rainy  cool   normal   True   no\n",
       "9    rainy  mild   normal  False  yes\n",
       "13   rainy  mild     high   True   no"
      ]
     },
     "execution_count": 14,
     "metadata": {},
     "output_type": "execute_result"
    }
   ],
   "source": [
    "toy_data[toy_data.outlook == \"rainy\"]"
   ]
  },
  {
   "cell_type": "code",
   "execution_count": 15,
   "metadata": {},
   "outputs": [],
   "source": [
    "# Entropy(Play|Outlook=rainy)\n",
    "Entropy_Play_Outlook_Rain = -2 / 5 * np.log(2 / 5) - 3 / 5 * np.log(3 / 5)"
   ]
  },
  {
   "cell_type": "code",
   "execution_count": 16,
   "metadata": {},
   "outputs": [
    {
     "data": {
      "text/plain": [
       "np.float64(0.6730116670092565)"
      ]
     },
     "execution_count": 16,
     "metadata": {},
     "output_type": "execute_result"
    }
   ],
   "source": [
    "Entropy_Play_Outlook_Rain"
   ]
  },
  {
   "cell_type": "markdown",
   "metadata": {},
   "source": [
    "#### Gain on splitting by attribute outlook"
   ]
  },
  {
   "cell_type": "code",
   "execution_count": 19,
   "metadata": {},
   "outputs": [
    {
     "data": {
      "text/plain": [
       "np.float64(0.17103394188032706)"
      ]
     },
     "execution_count": 19,
     "metadata": {},
     "output_type": "execute_result"
    }
   ],
   "source": [
    "Information_Gain = (\n",
    "    Entropy_Play\n",
    "    - 5 / 14 * Entropy_Play_Outlook_Sunny\n",
    "    - 5 / 14 * Entropy_Play_Outlook_Rain\n",
    ")\n",
    "Information_Gain"
   ]
  },
  {
   "cell_type": "markdown",
   "metadata": {},
   "source": [
    "#### Other gains\n",
    "* Gain(Play, Temperature) - 0.029\n",
    "* Gain(Play, Humidity) - 0.151\n",
    "* Gain(Play, Wind) - 0.048\n",
    "\n",
    "#### Conclusion - Outlook is winner & thus becomes root of the tree\n",
    "<img src=\"https://i1.wp.com/sefiks.com/wp-content/uploads/2017/11/tree-v1.png?zoom=1.25&resize=728%2C252&ssl=1\" width=\"600px\">"
   ]
  },
  {
   "cell_type": "markdown",
   "metadata": {},
   "source": [
    "### Time to find the next splitting criteria"
   ]
  },
  {
   "cell_type": "code",
   "execution_count": 20,
   "metadata": {},
   "outputs": [
    {
     "data": {
      "text/html": [
       "<div>\n",
       "<style scoped>\n",
       "    .dataframe tbody tr th:only-of-type {\n",
       "        vertical-align: middle;\n",
       "    }\n",
       "\n",
       "    .dataframe tbody tr th {\n",
       "        vertical-align: top;\n",
       "    }\n",
       "\n",
       "    .dataframe thead th {\n",
       "        text-align: right;\n",
       "    }\n",
       "</style>\n",
       "<table border=\"1\" class=\"dataframe\">\n",
       "  <thead>\n",
       "    <tr style=\"text-align: right;\">\n",
       "      <th></th>\n",
       "      <th>outlook</th>\n",
       "      <th>temp</th>\n",
       "      <th>humidity</th>\n",
       "      <th>windy</th>\n",
       "      <th>play</th>\n",
       "    </tr>\n",
       "  </thead>\n",
       "  <tbody>\n",
       "    <tr>\n",
       "      <th>2</th>\n",
       "      <td>overcast</td>\n",
       "      <td>hot</td>\n",
       "      <td>high</td>\n",
       "      <td>False</td>\n",
       "      <td>yes</td>\n",
       "    </tr>\n",
       "    <tr>\n",
       "      <th>6</th>\n",
       "      <td>overcast</td>\n",
       "      <td>cool</td>\n",
       "      <td>normal</td>\n",
       "      <td>True</td>\n",
       "      <td>yes</td>\n",
       "    </tr>\n",
       "    <tr>\n",
       "      <th>11</th>\n",
       "      <td>overcast</td>\n",
       "      <td>mild</td>\n",
       "      <td>high</td>\n",
       "      <td>True</td>\n",
       "      <td>yes</td>\n",
       "    </tr>\n",
       "    <tr>\n",
       "      <th>12</th>\n",
       "      <td>overcast</td>\n",
       "      <td>hot</td>\n",
       "      <td>normal</td>\n",
       "      <td>False</td>\n",
       "      <td>yes</td>\n",
       "    </tr>\n",
       "  </tbody>\n",
       "</table>\n",
       "</div>"
      ],
      "text/plain": [
       "     outlook  temp humidity  windy play\n",
       "2   overcast   hot     high  False  yes\n",
       "6   overcast  cool   normal   True  yes\n",
       "11  overcast  mild     high   True  yes\n",
       "12  overcast   hot   normal  False  yes"
      ]
     },
     "execution_count": 20,
     "metadata": {},
     "output_type": "execute_result"
    }
   ],
   "source": [
    "toy_data[toy_data.outlook == \"overcast\"]"
   ]
  },
  {
   "cell_type": "markdown",
   "metadata": {},
   "source": [
    "##### Conclusion - If outlook is overcast, play is true\n",
    "\n",
    "### Let's find the next splitting feature"
   ]
  },
  {
   "cell_type": "code",
   "execution_count": 21,
   "metadata": {},
   "outputs": [
    {
     "data": {
      "text/html": [
       "<div>\n",
       "<style scoped>\n",
       "    .dataframe tbody tr th:only-of-type {\n",
       "        vertical-align: middle;\n",
       "    }\n",
       "\n",
       "    .dataframe tbody tr th {\n",
       "        vertical-align: top;\n",
       "    }\n",
       "\n",
       "    .dataframe thead th {\n",
       "        text-align: right;\n",
       "    }\n",
       "</style>\n",
       "<table border=\"1\" class=\"dataframe\">\n",
       "  <thead>\n",
       "    <tr style=\"text-align: right;\">\n",
       "      <th></th>\n",
       "      <th>outlook</th>\n",
       "      <th>temp</th>\n",
       "      <th>humidity</th>\n",
       "      <th>windy</th>\n",
       "      <th>play</th>\n",
       "    </tr>\n",
       "  </thead>\n",
       "  <tbody>\n",
       "    <tr>\n",
       "      <th>0</th>\n",
       "      <td>sunny</td>\n",
       "      <td>hot</td>\n",
       "      <td>high</td>\n",
       "      <td>False</td>\n",
       "      <td>no</td>\n",
       "    </tr>\n",
       "    <tr>\n",
       "      <th>1</th>\n",
       "      <td>sunny</td>\n",
       "      <td>hot</td>\n",
       "      <td>high</td>\n",
       "      <td>True</td>\n",
       "      <td>no</td>\n",
       "    </tr>\n",
       "    <tr>\n",
       "      <th>7</th>\n",
       "      <td>sunny</td>\n",
       "      <td>mild</td>\n",
       "      <td>high</td>\n",
       "      <td>False</td>\n",
       "      <td>no</td>\n",
       "    </tr>\n",
       "    <tr>\n",
       "      <th>8</th>\n",
       "      <td>sunny</td>\n",
       "      <td>cool</td>\n",
       "      <td>normal</td>\n",
       "      <td>False</td>\n",
       "      <td>yes</td>\n",
       "    </tr>\n",
       "    <tr>\n",
       "      <th>10</th>\n",
       "      <td>sunny</td>\n",
       "      <td>mild</td>\n",
       "      <td>normal</td>\n",
       "      <td>True</td>\n",
       "      <td>yes</td>\n",
       "    </tr>\n",
       "  </tbody>\n",
       "</table>\n",
       "</div>"
      ],
      "text/plain": [
       "   outlook  temp humidity  windy play\n",
       "0    sunny   hot     high  False   no\n",
       "1    sunny   hot     high   True   no\n",
       "7    sunny  mild     high  False   no\n",
       "8    sunny  cool   normal  False  yes\n",
       "10   sunny  mild   normal   True  yes"
      ]
     },
     "execution_count": 21,
     "metadata": {},
     "output_type": "execute_result"
    }
   ],
   "source": [
    "toy_data[toy_data.outlook == \"sunny\"]"
   ]
  },
  {
   "cell_type": "code",
   "execution_count": 22,
   "metadata": {},
   "outputs": [
    {
     "data": {
      "text/plain": [
       "Ellipsis"
      ]
     },
     "execution_count": 22,
     "metadata": {},
     "output_type": "execute_result"
    }
   ],
   "source": [
    "# Entropy(Play|Outlook=Sunny)\n",
    "Entropy_Play_Outlook_Sunny = ...\n",
    "Entropy_Play_Outlook_Sunny"
   ]
  },
  {
   "cell_type": "markdown",
   "metadata": {},
   "source": [
    "### Information Gain for humidity"
   ]
  },
  {
   "cell_type": "code",
   "execution_count": null,
   "metadata": {},
   "outputs": [],
   "source": [
    "..."
   ]
  },
  {
   "cell_type": "markdown",
   "metadata": {},
   "source": [
    "### Information Gain for windy"
   ]
  },
  {
   "cell_type": "code",
   "execution_count": null,
   "metadata": {},
   "outputs": [],
   "source": [
    "Entropy_Windy_False = ...\n",
    "Entropy_Windy_True = ...\n",
    "IG_Windy= ..."
   ]
  },
  {
   "cell_type": "markdown",
   "metadata": {},
   "source": [
    "### Information Gain for temperature"
   ]
  },
  {
   "cell_type": "code",
   "execution_count": null,
   "metadata": {},
   "outputs": [],
   "source": [
    "..."
   ]
  },
  {
   "cell_type": "markdown",
   "metadata": {},
   "source": [
    "#### Conclusion : Humidity is the best choice on sunny branch\n",
    "\n",
    "<img src=\"https://github.com/awantik/machine-learning-slides/blob/master/dt3.PNG?raw=true\" width=\"600px\">"
   ]
  },
  {
   "cell_type": "markdown",
   "metadata": {},
   "source": [
    "# (repeat)"
   ]
  },
  {
   "cell_type": "markdown",
   "metadata": {},
   "source": [
    "### Final Tree\n",
    "\n",
    "<img src=\"https://github.com/awantik/machine-learning-slides/blob/master/dt4.PNG?raw=true\" width=\"600px\">"
   ]
  },
  {
   "cell_type": "markdown",
   "metadata": {},
   "source": [
    "## Sklearn\n",
    "[The guide on decision trees is awesome](https://scikit-learn.org/stable/modules/tree.html#tips-on-practical-use)"
   ]
  },
  {
   "cell_type": "code",
   "execution_count": 23,
   "metadata": {},
   "outputs": [],
   "source": [
    "from sklearn.datasets import load_iris\n",
    "from sklearn.tree import DecisionTreeClassifier, export_graphviz, ExtraTreeClassifier\n",
    "from sklearn.datasets import make_blobs"
   ]
  },
  {
   "cell_type": "code",
   "execution_count": 24,
   "metadata": {},
   "outputs": [],
   "source": [
    "iris = load_iris()"
   ]
  },
  {
   "cell_type": "code",
   "execution_count": 25,
   "metadata": {},
   "outputs": [
    {
     "data": {
      "text/plain": [
       "array([[5.1, 3.5, 1.4, 0.2],\n",
       "       [4.9, 3. , 1.4, 0.2],\n",
       "       [4.7, 3.2, 1.3, 0.2],\n",
       "       [4.6, 3.1, 1.5, 0.2],\n",
       "       [5. , 3.6, 1.4, 0.2]])"
      ]
     },
     "execution_count": 25,
     "metadata": {},
     "output_type": "execute_result"
    }
   ],
   "source": [
    "iris.data[:5]"
   ]
  },
  {
   "cell_type": "code",
   "execution_count": 26,
   "metadata": {},
   "outputs": [
    {
     "data": {
      "text/plain": [
       "array([0, 0, 0, 0, 0])"
      ]
     },
     "execution_count": 26,
     "metadata": {},
     "output_type": "execute_result"
    }
   ],
   "source": [
    "iris.target[:5]"
   ]
  },
  {
   "cell_type": "code",
   "execution_count": 27,
   "metadata": {},
   "outputs": [],
   "source": [
    "dt = DecisionTreeClassifier(criterion=\"entropy\")"
   ]
  },
  {
   "cell_type": "code",
   "execution_count": 28,
   "metadata": {},
   "outputs": [],
   "source": [
    "from sklearn.model_selection import train_test_split"
   ]
  },
  {
   "cell_type": "code",
   "execution_count": 29,
   "metadata": {},
   "outputs": [],
   "source": [
    "trainX, testX, trainY, testY = train_test_split(iris.data, iris.target)"
   ]
  },
  {
   "cell_type": "code",
   "execution_count": 30,
   "metadata": {},
   "outputs": [
    {
     "data": {
      "text/html": [
       "<style>#sk-container-id-1 {\n",
       "  /* Definition of color scheme common for light and dark mode */\n",
       "  --sklearn-color-text: black;\n",
       "  --sklearn-color-line: gray;\n",
       "  /* Definition of color scheme for unfitted estimators */\n",
       "  --sklearn-color-unfitted-level-0: #fff5e6;\n",
       "  --sklearn-color-unfitted-level-1: #f6e4d2;\n",
       "  --sklearn-color-unfitted-level-2: #ffe0b3;\n",
       "  --sklearn-color-unfitted-level-3: chocolate;\n",
       "  /* Definition of color scheme for fitted estimators */\n",
       "  --sklearn-color-fitted-level-0: #f0f8ff;\n",
       "  --sklearn-color-fitted-level-1: #d4ebff;\n",
       "  --sklearn-color-fitted-level-2: #b3dbfd;\n",
       "  --sklearn-color-fitted-level-3: cornflowerblue;\n",
       "\n",
       "  /* Specific color for light theme */\n",
       "  --sklearn-color-text-on-default-background: var(--sg-text-color, var(--theme-code-foreground, var(--jp-content-font-color1, black)));\n",
       "  --sklearn-color-background: var(--sg-background-color, var(--theme-background, var(--jp-layout-color0, white)));\n",
       "  --sklearn-color-border-box: var(--sg-text-color, var(--theme-code-foreground, var(--jp-content-font-color1, black)));\n",
       "  --sklearn-color-icon: #696969;\n",
       "\n",
       "  @media (prefers-color-scheme: dark) {\n",
       "    /* Redefinition of color scheme for dark theme */\n",
       "    --sklearn-color-text-on-default-background: var(--sg-text-color, var(--theme-code-foreground, var(--jp-content-font-color1, white)));\n",
       "    --sklearn-color-background: var(--sg-background-color, var(--theme-background, var(--jp-layout-color0, #111)));\n",
       "    --sklearn-color-border-box: var(--sg-text-color, var(--theme-code-foreground, var(--jp-content-font-color1, white)));\n",
       "    --sklearn-color-icon: #878787;\n",
       "  }\n",
       "}\n",
       "\n",
       "#sk-container-id-1 {\n",
       "  color: var(--sklearn-color-text);\n",
       "}\n",
       "\n",
       "#sk-container-id-1 pre {\n",
       "  padding: 0;\n",
       "}\n",
       "\n",
       "#sk-container-id-1 input.sk-hidden--visually {\n",
       "  border: 0;\n",
       "  clip: rect(1px 1px 1px 1px);\n",
       "  clip: rect(1px, 1px, 1px, 1px);\n",
       "  height: 1px;\n",
       "  margin: -1px;\n",
       "  overflow: hidden;\n",
       "  padding: 0;\n",
       "  position: absolute;\n",
       "  width: 1px;\n",
       "}\n",
       "\n",
       "#sk-container-id-1 div.sk-dashed-wrapped {\n",
       "  border: 1px dashed var(--sklearn-color-line);\n",
       "  margin: 0 0.4em 0.5em 0.4em;\n",
       "  box-sizing: border-box;\n",
       "  padding-bottom: 0.4em;\n",
       "  background-color: var(--sklearn-color-background);\n",
       "}\n",
       "\n",
       "#sk-container-id-1 div.sk-container {\n",
       "  /* jupyter's `normalize.less` sets `[hidden] { display: none; }`\n",
       "     but bootstrap.min.css set `[hidden] { display: none !important; }`\n",
       "     so we also need the `!important` here to be able to override the\n",
       "     default hidden behavior on the sphinx rendered scikit-learn.org.\n",
       "     See: https://github.com/scikit-learn/scikit-learn/issues/21755 */\n",
       "  display: inline-block !important;\n",
       "  position: relative;\n",
       "}\n",
       "\n",
       "#sk-container-id-1 div.sk-text-repr-fallback {\n",
       "  display: none;\n",
       "}\n",
       "\n",
       "div.sk-parallel-item,\n",
       "div.sk-serial,\n",
       "div.sk-item {\n",
       "  /* draw centered vertical line to link estimators */\n",
       "  background-image: linear-gradient(var(--sklearn-color-text-on-default-background), var(--sklearn-color-text-on-default-background));\n",
       "  background-size: 2px 100%;\n",
       "  background-repeat: no-repeat;\n",
       "  background-position: center center;\n",
       "}\n",
       "\n",
       "/* Parallel-specific style estimator block */\n",
       "\n",
       "#sk-container-id-1 div.sk-parallel-item::after {\n",
       "  content: \"\";\n",
       "  width: 100%;\n",
       "  border-bottom: 2px solid var(--sklearn-color-text-on-default-background);\n",
       "  flex-grow: 1;\n",
       "}\n",
       "\n",
       "#sk-container-id-1 div.sk-parallel {\n",
       "  display: flex;\n",
       "  align-items: stretch;\n",
       "  justify-content: center;\n",
       "  background-color: var(--sklearn-color-background);\n",
       "  position: relative;\n",
       "}\n",
       "\n",
       "#sk-container-id-1 div.sk-parallel-item {\n",
       "  display: flex;\n",
       "  flex-direction: column;\n",
       "}\n",
       "\n",
       "#sk-container-id-1 div.sk-parallel-item:first-child::after {\n",
       "  align-self: flex-end;\n",
       "  width: 50%;\n",
       "}\n",
       "\n",
       "#sk-container-id-1 div.sk-parallel-item:last-child::after {\n",
       "  align-self: flex-start;\n",
       "  width: 50%;\n",
       "}\n",
       "\n",
       "#sk-container-id-1 div.sk-parallel-item:only-child::after {\n",
       "  width: 0;\n",
       "}\n",
       "\n",
       "/* Serial-specific style estimator block */\n",
       "\n",
       "#sk-container-id-1 div.sk-serial {\n",
       "  display: flex;\n",
       "  flex-direction: column;\n",
       "  align-items: center;\n",
       "  background-color: var(--sklearn-color-background);\n",
       "  padding-right: 1em;\n",
       "  padding-left: 1em;\n",
       "}\n",
       "\n",
       "\n",
       "/* Toggleable style: style used for estimator/Pipeline/ColumnTransformer box that is\n",
       "clickable and can be expanded/collapsed.\n",
       "- Pipeline and ColumnTransformer use this feature and define the default style\n",
       "- Estimators will overwrite some part of the style using the `sk-estimator` class\n",
       "*/\n",
       "\n",
       "/* Pipeline and ColumnTransformer style (default) */\n",
       "\n",
       "#sk-container-id-1 div.sk-toggleable {\n",
       "  /* Default theme specific background. It is overwritten whether we have a\n",
       "  specific estimator or a Pipeline/ColumnTransformer */\n",
       "  background-color: var(--sklearn-color-background);\n",
       "}\n",
       "\n",
       "/* Toggleable label */\n",
       "#sk-container-id-1 label.sk-toggleable__label {\n",
       "  cursor: pointer;\n",
       "  display: block;\n",
       "  width: 100%;\n",
       "  margin-bottom: 0;\n",
       "  padding: 0.5em;\n",
       "  box-sizing: border-box;\n",
       "  text-align: center;\n",
       "}\n",
       "\n",
       "#sk-container-id-1 label.sk-toggleable__label-arrow:before {\n",
       "  /* Arrow on the left of the label */\n",
       "  content: \"▸\";\n",
       "  float: left;\n",
       "  margin-right: 0.25em;\n",
       "  color: var(--sklearn-color-icon);\n",
       "}\n",
       "\n",
       "#sk-container-id-1 label.sk-toggleable__label-arrow:hover:before {\n",
       "  color: var(--sklearn-color-text);\n",
       "}\n",
       "\n",
       "/* Toggleable content - dropdown */\n",
       "\n",
       "#sk-container-id-1 div.sk-toggleable__content {\n",
       "  max-height: 0;\n",
       "  max-width: 0;\n",
       "  overflow: hidden;\n",
       "  text-align: left;\n",
       "  /* unfitted */\n",
       "  background-color: var(--sklearn-color-unfitted-level-0);\n",
       "}\n",
       "\n",
       "#sk-container-id-1 div.sk-toggleable__content.fitted {\n",
       "  /* fitted */\n",
       "  background-color: var(--sklearn-color-fitted-level-0);\n",
       "}\n",
       "\n",
       "#sk-container-id-1 div.sk-toggleable__content pre {\n",
       "  margin: 0.2em;\n",
       "  border-radius: 0.25em;\n",
       "  color: var(--sklearn-color-text);\n",
       "  /* unfitted */\n",
       "  background-color: var(--sklearn-color-unfitted-level-0);\n",
       "}\n",
       "\n",
       "#sk-container-id-1 div.sk-toggleable__content.fitted pre {\n",
       "  /* unfitted */\n",
       "  background-color: var(--sklearn-color-fitted-level-0);\n",
       "}\n",
       "\n",
       "#sk-container-id-1 input.sk-toggleable__control:checked~div.sk-toggleable__content {\n",
       "  /* Expand drop-down */\n",
       "  max-height: 200px;\n",
       "  max-width: 100%;\n",
       "  overflow: auto;\n",
       "}\n",
       "\n",
       "#sk-container-id-1 input.sk-toggleable__control:checked~label.sk-toggleable__label-arrow:before {\n",
       "  content: \"▾\";\n",
       "}\n",
       "\n",
       "/* Pipeline/ColumnTransformer-specific style */\n",
       "\n",
       "#sk-container-id-1 div.sk-label input.sk-toggleable__control:checked~label.sk-toggleable__label {\n",
       "  color: var(--sklearn-color-text);\n",
       "  background-color: var(--sklearn-color-unfitted-level-2);\n",
       "}\n",
       "\n",
       "#sk-container-id-1 div.sk-label.fitted input.sk-toggleable__control:checked~label.sk-toggleable__label {\n",
       "  background-color: var(--sklearn-color-fitted-level-2);\n",
       "}\n",
       "\n",
       "/* Estimator-specific style */\n",
       "\n",
       "/* Colorize estimator box */\n",
       "#sk-container-id-1 div.sk-estimator input.sk-toggleable__control:checked~label.sk-toggleable__label {\n",
       "  /* unfitted */\n",
       "  background-color: var(--sklearn-color-unfitted-level-2);\n",
       "}\n",
       "\n",
       "#sk-container-id-1 div.sk-estimator.fitted input.sk-toggleable__control:checked~label.sk-toggleable__label {\n",
       "  /* fitted */\n",
       "  background-color: var(--sklearn-color-fitted-level-2);\n",
       "}\n",
       "\n",
       "#sk-container-id-1 div.sk-label label.sk-toggleable__label,\n",
       "#sk-container-id-1 div.sk-label label {\n",
       "  /* The background is the default theme color */\n",
       "  color: var(--sklearn-color-text-on-default-background);\n",
       "}\n",
       "\n",
       "/* On hover, darken the color of the background */\n",
       "#sk-container-id-1 div.sk-label:hover label.sk-toggleable__label {\n",
       "  color: var(--sklearn-color-text);\n",
       "  background-color: var(--sklearn-color-unfitted-level-2);\n",
       "}\n",
       "\n",
       "/* Label box, darken color on hover, fitted */\n",
       "#sk-container-id-1 div.sk-label.fitted:hover label.sk-toggleable__label.fitted {\n",
       "  color: var(--sklearn-color-text);\n",
       "  background-color: var(--sklearn-color-fitted-level-2);\n",
       "}\n",
       "\n",
       "/* Estimator label */\n",
       "\n",
       "#sk-container-id-1 div.sk-label label {\n",
       "  font-family: monospace;\n",
       "  font-weight: bold;\n",
       "  display: inline-block;\n",
       "  line-height: 1.2em;\n",
       "}\n",
       "\n",
       "#sk-container-id-1 div.sk-label-container {\n",
       "  text-align: center;\n",
       "}\n",
       "\n",
       "/* Estimator-specific */\n",
       "#sk-container-id-1 div.sk-estimator {\n",
       "  font-family: monospace;\n",
       "  border: 1px dotted var(--sklearn-color-border-box);\n",
       "  border-radius: 0.25em;\n",
       "  box-sizing: border-box;\n",
       "  margin-bottom: 0.5em;\n",
       "  /* unfitted */\n",
       "  background-color: var(--sklearn-color-unfitted-level-0);\n",
       "}\n",
       "\n",
       "#sk-container-id-1 div.sk-estimator.fitted {\n",
       "  /* fitted */\n",
       "  background-color: var(--sklearn-color-fitted-level-0);\n",
       "}\n",
       "\n",
       "/* on hover */\n",
       "#sk-container-id-1 div.sk-estimator:hover {\n",
       "  /* unfitted */\n",
       "  background-color: var(--sklearn-color-unfitted-level-2);\n",
       "}\n",
       "\n",
       "#sk-container-id-1 div.sk-estimator.fitted:hover {\n",
       "  /* fitted */\n",
       "  background-color: var(--sklearn-color-fitted-level-2);\n",
       "}\n",
       "\n",
       "/* Specification for estimator info (e.g. \"i\" and \"?\") */\n",
       "\n",
       "/* Common style for \"i\" and \"?\" */\n",
       "\n",
       ".sk-estimator-doc-link,\n",
       "a:link.sk-estimator-doc-link,\n",
       "a:visited.sk-estimator-doc-link {\n",
       "  float: right;\n",
       "  font-size: smaller;\n",
       "  line-height: 1em;\n",
       "  font-family: monospace;\n",
       "  background-color: var(--sklearn-color-background);\n",
       "  border-radius: 1em;\n",
       "  height: 1em;\n",
       "  width: 1em;\n",
       "  text-decoration: none !important;\n",
       "  margin-left: 1ex;\n",
       "  /* unfitted */\n",
       "  border: var(--sklearn-color-unfitted-level-1) 1pt solid;\n",
       "  color: var(--sklearn-color-unfitted-level-1);\n",
       "}\n",
       "\n",
       ".sk-estimator-doc-link.fitted,\n",
       "a:link.sk-estimator-doc-link.fitted,\n",
       "a:visited.sk-estimator-doc-link.fitted {\n",
       "  /* fitted */\n",
       "  border: var(--sklearn-color-fitted-level-1) 1pt solid;\n",
       "  color: var(--sklearn-color-fitted-level-1);\n",
       "}\n",
       "\n",
       "/* On hover */\n",
       "div.sk-estimator:hover .sk-estimator-doc-link:hover,\n",
       ".sk-estimator-doc-link:hover,\n",
       "div.sk-label-container:hover .sk-estimator-doc-link:hover,\n",
       ".sk-estimator-doc-link:hover {\n",
       "  /* unfitted */\n",
       "  background-color: var(--sklearn-color-unfitted-level-3);\n",
       "  color: var(--sklearn-color-background);\n",
       "  text-decoration: none;\n",
       "}\n",
       "\n",
       "div.sk-estimator.fitted:hover .sk-estimator-doc-link.fitted:hover,\n",
       ".sk-estimator-doc-link.fitted:hover,\n",
       "div.sk-label-container:hover .sk-estimator-doc-link.fitted:hover,\n",
       ".sk-estimator-doc-link.fitted:hover {\n",
       "  /* fitted */\n",
       "  background-color: var(--sklearn-color-fitted-level-3);\n",
       "  color: var(--sklearn-color-background);\n",
       "  text-decoration: none;\n",
       "}\n",
       "\n",
       "/* Span, style for the box shown on hovering the info icon */\n",
       ".sk-estimator-doc-link span {\n",
       "  display: none;\n",
       "  z-index: 9999;\n",
       "  position: relative;\n",
       "  font-weight: normal;\n",
       "  right: .2ex;\n",
       "  padding: .5ex;\n",
       "  margin: .5ex;\n",
       "  width: min-content;\n",
       "  min-width: 20ex;\n",
       "  max-width: 50ex;\n",
       "  color: var(--sklearn-color-text);\n",
       "  box-shadow: 2pt 2pt 4pt #999;\n",
       "  /* unfitted */\n",
       "  background: var(--sklearn-color-unfitted-level-0);\n",
       "  border: .5pt solid var(--sklearn-color-unfitted-level-3);\n",
       "}\n",
       "\n",
       ".sk-estimator-doc-link.fitted span {\n",
       "  /* fitted */\n",
       "  background: var(--sklearn-color-fitted-level-0);\n",
       "  border: var(--sklearn-color-fitted-level-3);\n",
       "}\n",
       "\n",
       ".sk-estimator-doc-link:hover span {\n",
       "  display: block;\n",
       "}\n",
       "\n",
       "/* \"?\"-specific style due to the `<a>` HTML tag */\n",
       "\n",
       "#sk-container-id-1 a.estimator_doc_link {\n",
       "  float: right;\n",
       "  font-size: 1rem;\n",
       "  line-height: 1em;\n",
       "  font-family: monospace;\n",
       "  background-color: var(--sklearn-color-background);\n",
       "  border-radius: 1rem;\n",
       "  height: 1rem;\n",
       "  width: 1rem;\n",
       "  text-decoration: none;\n",
       "  /* unfitted */\n",
       "  color: var(--sklearn-color-unfitted-level-1);\n",
       "  border: var(--sklearn-color-unfitted-level-1) 1pt solid;\n",
       "}\n",
       "\n",
       "#sk-container-id-1 a.estimator_doc_link.fitted {\n",
       "  /* fitted */\n",
       "  border: var(--sklearn-color-fitted-level-1) 1pt solid;\n",
       "  color: var(--sklearn-color-fitted-level-1);\n",
       "}\n",
       "\n",
       "/* On hover */\n",
       "#sk-container-id-1 a.estimator_doc_link:hover {\n",
       "  /* unfitted */\n",
       "  background-color: var(--sklearn-color-unfitted-level-3);\n",
       "  color: var(--sklearn-color-background);\n",
       "  text-decoration: none;\n",
       "}\n",
       "\n",
       "#sk-container-id-1 a.estimator_doc_link.fitted:hover {\n",
       "  /* fitted */\n",
       "  background-color: var(--sklearn-color-fitted-level-3);\n",
       "}\n",
       "</style><div id=\"sk-container-id-1\" class=\"sk-top-container\"><div class=\"sk-text-repr-fallback\"><pre>DecisionTreeClassifier(criterion=&#x27;entropy&#x27;)</pre><b>In a Jupyter environment, please rerun this cell to show the HTML representation or trust the notebook. <br />On GitHub, the HTML representation is unable to render, please try loading this page with nbviewer.org.</b></div><div class=\"sk-container\" hidden><div class=\"sk-item\"><div class=\"sk-estimator fitted sk-toggleable\"><input class=\"sk-toggleable__control sk-hidden--visually\" id=\"sk-estimator-id-1\" type=\"checkbox\" checked><label for=\"sk-estimator-id-1\" class=\"sk-toggleable__label fitted sk-toggleable__label-arrow fitted\">&nbsp;&nbsp;DecisionTreeClassifier<a class=\"sk-estimator-doc-link fitted\" rel=\"noreferrer\" target=\"_blank\" href=\"https://scikit-learn.org/1.5/modules/generated/sklearn.tree.DecisionTreeClassifier.html\">?<span>Documentation for DecisionTreeClassifier</span></a><span class=\"sk-estimator-doc-link fitted\">i<span>Fitted</span></span></label><div class=\"sk-toggleable__content fitted\"><pre>DecisionTreeClassifier(criterion=&#x27;entropy&#x27;)</pre></div> </div></div></div></div>"
      ],
      "text/plain": [
       "DecisionTreeClassifier(criterion='entropy')"
      ]
     },
     "execution_count": 30,
     "metadata": {},
     "output_type": "execute_result"
    }
   ],
   "source": [
    "dt.fit(trainX, trainY)"
   ]
  },
  {
   "cell_type": "code",
   "execution_count": 31,
   "metadata": {},
   "outputs": [],
   "source": [
    "export_graphviz(dt, \"dt.tree\")"
   ]
  },
  {
   "cell_type": "markdown",
   "metadata": {},
   "source": [
    "### Visualizing the tree\n",
    "<img src=\"https://github.com/awantik/machine-learning-slides/blob/master/dt6.PNG?raw=true\">"
   ]
  },
  {
   "cell_type": "code",
   "execution_count": 32,
   "metadata": {},
   "outputs": [
    {
     "data": {
      "text/plain": [
       "array([0, 0, 0, 1, 1, 0, 2, 2, 0, 1, 1, 1, 1, 1, 0, 0, 1, 0, 0, 1, 1, 0,\n",
       "       0, 1, 1, 0, 2, 0, 0, 2, 2, 2, 0, 2, 1, 2, 0, 0])"
      ]
     },
     "execution_count": 32,
     "metadata": {},
     "output_type": "execute_result"
    }
   ],
   "source": [
    "dt.predict(testX)"
   ]
  },
  {
   "cell_type": "markdown",
   "metadata": {},
   "source": [
    "> NOTE:\n",
    "> * CART (which is used inside sklearn DecisionTreeClassifier) will convert features with continues values into categorical values\n",
    "> * Different tree will be generated with same faeatures given in different order. This is because `max_features` algorithm and random feature subsampling inside.\n",
    "\n",
    "#### Feature Importances\n",
    "* Important features will be higher up the tree\n",
    "> The importance of a feature is computed as the (normalized) total reduction of the criterion brought by that feature. It is also known as the Gini importance.\n",
    "Warning: impurity-based feature importances can be misleading for high cardinality features (many unique values). See sklearn.inspection.permutation_importance as an alternative.\n",
    "\n"
   ]
  },
  {
   "cell_type": "code",
   "execution_count": 33,
   "metadata": {},
   "outputs": [
    {
     "data": {
      "text/plain": [
       "array([0.        , 0.01558797, 0.09360643, 0.8908056 ])"
      ]
     },
     "execution_count": 33,
     "metadata": {},
     "output_type": "execute_result"
    }
   ],
   "source": [
    "dt.feature_importances_"
   ]
  },
  {
   "cell_type": "markdown",
   "metadata": {},
   "source": [
    "#### Visualizing Decision Boundry"
   ]
  },
  {
   "cell_type": "code",
   "execution_count": null,
   "metadata": {},
   "outputs": [],
   "source": [
    "X,Y = make_blobs(n_features=2, n_samples=1000, cluster_std=.8, centers=4, random_state=6)"
   ]
  },
  {
   "cell_type": "code",
   "execution_count": null,
   "metadata": {},
   "outputs": [],
   "source": [
    "plt.scatter(X[:,0],X[:,1],c=Y,s=5, cmap='viridis')"
   ]
  },
  {
   "cell_type": "code",
   "execution_count": null,
   "metadata": {},
   "outputs": [],
   "source": [
    "dt = DecisionTreeClassifier()"
   ]
  },
  {
   "cell_type": "code",
   "execution_count": null,
   "metadata": {},
   "outputs": [],
   "source": [
    "dt.fit(X,Y)"
   ]
  },
  {
   "cell_type": "code",
   "execution_count": null,
   "metadata": {},
   "outputs": [],
   "source": [
    "plot_step = 0.2\n",
    "x_min, x_max = X[:, 0].min() - 1, X[:, 0].max() + 1\n",
    "y_min, y_max = X[:, 1].min() - 1, X[:, 1].max() + 1\n",
    "xx, yy = np.meshgrid(np.arange(x_min, x_max, plot_step),\n",
    "                         np.arange(y_min, y_max, plot_step))"
   ]
  },
  {
   "cell_type": "code",
   "execution_count": null,
   "metadata": {},
   "outputs": [],
   "source": [
    "outcome = dt.predict(np.c_[xx.ravel(), yy.ravel()])"
   ]
  },
  {
   "cell_type": "code",
   "execution_count": null,
   "metadata": {},
   "outputs": [],
   "source": [
    "xx.shape"
   ]
  },
  {
   "cell_type": "code",
   "execution_count": null,
   "metadata": {},
   "outputs": [],
   "source": [
    "plt.scatter(X[:,0],X[:,1],c=Y,s=5,cmap='viridis')\n",
    "plt.scatter(xx.ravel(),yy.ravel(),c=outcome,s=1,alpha=1, cmap='viridis')\n",
    "plt.show()"
   ]
  },
  {
   "cell_type": "markdown",
   "metadata": {},
   "source": [
    "<img src=\"https://github.com/awantik/machine-learning-slides/blob/master/dt8.PNG?raw=true\">"
   ]
  },
  {
   "cell_type": "markdown",
   "metadata": {},
   "source": [
    "# ID3 Implementation\n",
    "\n",
    "For now, we will focus on the ID3 algorithm. "
   ]
  },
  {
   "cell_type": "code",
   "execution_count": 1,
   "metadata": {},
   "outputs": [
    {
     "data": {
      "text/html": [
       "<div>\n",
       "<style scoped>\n",
       "    .dataframe tbody tr th:only-of-type {\n",
       "        vertical-align: middle;\n",
       "    }\n",
       "\n",
       "    .dataframe tbody tr th {\n",
       "        vertical-align: top;\n",
       "    }\n",
       "\n",
       "    .dataframe thead th {\n",
       "        text-align: right;\n",
       "    }\n",
       "</style>\n",
       "<table border=\"1\" class=\"dataframe\">\n",
       "  <thead>\n",
       "    <tr style=\"text-align: right;\">\n",
       "      <th></th>\n",
       "      <th>Taste</th>\n",
       "      <th>Temperature</th>\n",
       "      <th>Texture</th>\n",
       "      <th>Eat</th>\n",
       "    </tr>\n",
       "  </thead>\n",
       "  <tbody>\n",
       "    <tr>\n",
       "      <th>0</th>\n",
       "      <td>Salty</td>\n",
       "      <td>Hot</td>\n",
       "      <td>Soft</td>\n",
       "      <td>No</td>\n",
       "    </tr>\n",
       "    <tr>\n",
       "      <th>1</th>\n",
       "      <td>Spicy</td>\n",
       "      <td>Hot</td>\n",
       "      <td>Soft</td>\n",
       "      <td>No</td>\n",
       "    </tr>\n",
       "  </tbody>\n",
       "</table>\n",
       "</div>"
      ],
      "text/plain": [
       "   Taste Temperature Texture Eat\n",
       "0  Salty         Hot    Soft  No\n",
       "1  Spicy         Hot    Soft  No"
      ]
     },
     "execution_count": 1,
     "metadata": {},
     "output_type": "execute_result"
    }
   ],
   "source": [
    "import numpy as np\n",
    "import pandas as pd\n",
    "\n",
    "# Load dataset and convert to DataFrame\n",
    "dataset = {\n",
    "    'Taste': ['Salty','Spicy','Spicy','Spicy','Spicy','Sweet','Salty','Sweet','Spicy','Salty'],\n",
    "    'Temperature': ['Hot','Hot','Hot','Cold','Hot','Cold','Cold','Hot','Cold','Hot'],\n",
    "    'Texture': ['Soft','Soft','Hard','Hard','Hard','Soft','Soft','Soft','Soft','Hard'],\n",
    "    'Eat': ['No','No','Yes','No','Yes','Yes','No','Yes','Yes','Yes']\n",
    "}\n",
    "dataframe = pd.DataFrame(dataset, columns=['Taste','Temperature','Texture','Eat'])\n",
    "\n",
    "# Prepare features and target\n",
    "feature_names = dataframe.columns[:-1].tolist()\n",
    "X = dataframe[feature_names].to_numpy()\n",
    "y = dataframe['Eat'].to_numpy()\n",
    "features = list(range(len(feature_names)))\n",
    "\n",
    "dataframe.head(2)"
   ]
  },
  {
   "cell_type": "code",
   "execution_count": 2,
   "metadata": {},
   "outputs": [],
   "source": [
    "from typing import Dict, Any\n",
    "from IPython.display import display\n",
    "from graphviz import Digraph\n",
    "\n",
    "\n",
    "def entropy(y: np.ndarray) -> float:\n",
    "    \"\"\"Calculate the entropy of a target array.\"\"\"\n",
    "    _, counts = np.unique(y, return_counts=True)\n",
    "    probs = counts / y.shape[0]\n",
    "    return -np.sum(probs * np.log(probs + 1e-10))\n",
    "\n",
    "\n",
    "def information_gain(X: np.ndarray, y: np.ndarray, feature_idx: int) -> float:\n",
    "    \"\"\"Calculate the information gain for a given feature.\"\"\"\n",
    "    parent_entropy = entropy(y)\n",
    "\n",
    "    values, counts = np.unique(X[:, feature_idx], return_counts=True)\n",
    "    probs = counts / y.shape[0]\n",
    "    entropies = np.array(\n",
    "        list(map(lambda x: entropy(y[X[:, feature_idx] == x]), values))\n",
    "    )\n",
    "    conditional_entropy = np.sum(probs * entropies)\n",
    "\n",
    "    return parent_entropy - conditional_entropy\n",
    "\n",
    "\n",
    "def select_best_feature(X: np.ndarray, y: np.ndarray, features: list) -> list:\n",
    "    \"\"\"Select the feature with the highest information gain.\"\"\"\n",
    "    best_idx = np.argmax([information_gain(X, y, i) for i in range(X.shape[1])])\n",
    "    return [best_idx, features[best_idx]]\n",
    "\n",
    "\n",
    "def id3_algorithm(X: np.ndarray, y: np.ndarray, features: list) -> Dict[str, Any]:\n",
    "    \"\"\"Recursively build the ID3 decision tree.\"\"\"\n",
    "    classes, counts = np.unique(y, return_counts=True)\n",
    "\n",
    "    majority_class = classes[np.argmax(counts)]\n",
    "\n",
    "    # Base case: all samples same class\n",
    "    if len(classes) == 1 or not features:\n",
    "        return {\"class\": classes[0], \"majority_class\": classes[0]}\n",
    "\n",
    "    best_id, best_feature = select_best_feature(X, y, features)\n",
    "    feature_values = np.unique(X[:, best_id])\n",
    "    new_features = features.copy()\n",
    "    new_features.remove(best_feature)\n",
    "\n",
    "    tree = {\"feature\": best_feature, \"majority_class\": majority_class, \"children\": {}}\n",
    "\n",
    "    for value in feature_values:\n",
    "        mask = X[:, best_id] == value\n",
    "        X_sub, y_sub = np.delete(X, best_id, axis=1)[mask], y[mask]\n",
    "        if len(y_sub) == 0:\n",
    "            tree[\"children\"][value] = {\n",
    "                \"class\": majority_class,\n",
    "                \"majority_class\": majority_class,\n",
    "            }\n",
    "        else:\n",
    "            tree[\"children\"][value] = id3_algorithm(X_sub, y_sub, new_features)\n",
    "\n",
    "    return tree\n",
    "\n",
    "\n",
    "def visualize_tree(\n",
    "    tree: Dict[str, Any],\n",
    "    feature_names: list,\n",
    "    dot: Digraph = None,\n",
    "    parent: str = None,\n",
    "    edge_label: str = None,\n",
    ") -> Digraph:\n",
    "    \"\"\"Recursively visualize the decision tree using Graphviz.\"\"\"\n",
    "    if dot is None:\n",
    "        dot = Digraph(comment=\"Decision Tree\")\n",
    "\n",
    "    # Create a unique node ID\n",
    "    node_id = str(id(tree))\n",
    "\n",
    "    # Add the current node\n",
    "    if \"class\" in tree:\n",
    "        node_label = f\"Class: {tree['class']}\"\n",
    "    else:\n",
    "        node_label = f\"Feature: {tree['feature']}\"\n",
    "    dot.node(node_id, node_label)\n",
    "\n",
    "    # Connect to parent node if exists\n",
    "    if parent is not None:\n",
    "        dot.edge(parent, node_id, label=edge_label)\n",
    "\n",
    "    # Recursively add children\n",
    "    if \"children\" in tree:\n",
    "        for value, child in tree[\"children\"].items():\n",
    "            visualize_tree(child, feature_names, dot, node_id, str(value))\n",
    "\n",
    "    return dot\n",
    "\n",
    "\n",
    "class DecisionTree:\n",
    "    \"\"\"\n",
    "    Decision tree classifier, which can be trained, can predict class labels(miraculously) and display itself if used in a frontend environment.\n",
    "    \"\"\"\n",
    "\n",
    "    def __init__(self):\n",
    "        self._features = []\n",
    "        self._tree = {}\n",
    "\n",
    "    def fit(self, X: np.ndarray, y: np.ndarray, features: list) -> None:\n",
    "        \"\"\"Fit the decision tree to passed data.\"\"\"\n",
    "        self._features = features\n",
    "        self._tree = id3_algorithm(X, y, features)\n",
    "\n",
    "    def predict(self, X: np.ndarray) -> np.ndarray:\n",
    "        \"\"\"Predict class labels for given data.\"\"\"\n",
    "        ans = np.zeros((X.shape[0], 1), dtype=\"object\")\n",
    "        for i in range(ans.shape[0]):\n",
    "            node = self._tree\n",
    "            while \"class\" not in node:\n",
    "                feature_id = self._features.index(node[\"feature\"])\n",
    "                if X[i, feature_id] in node[\"children\"]:\n",
    "                    node = node[\"children\"][X[i, feature_id]]\n",
    "                else\n",
    "            ans[i, 0] = node[\"class\"]\n",
    "        return ans\n",
    "\n",
    "    def show_tree(self):\n",
    "        \"\"\"Visualize the decision tree.\"\"\"\n",
    "        dot = visualize_tree(self._tree, self._features)\n",
    "        display(dot)"
   ]
  },
  {
   "cell_type": "code",
   "execution_count": 7,
   "metadata": {},
   "outputs": [
    {
     "name": "stdout",
     "output_type": "stream",
     "text": [
      "Prediction for the new data point: [['Yes']]\n"
     ]
    }
   ],
   "source": [
    "classifier = DecisionTree()\n",
    "classifier.fit(X, y, feature_names.copy())\n",
    "\n",
    "# New data point for prediction\n",
    "new_data_point = np.array([[\"Salty\", \"Hot\", \"Hard\"]], dtype=\"object\")\n",
    "prediction = classifier.predict(new_data_point)\n",
    "\n",
    "print(f\"Prediction for the new data point: {prediction}\")"
   ]
  },
  {
   "cell_type": "code",
   "execution_count": 8,
   "metadata": {},
   "outputs": [
    {
     "data": {
      "image/svg+xml": [
       "<?xml version=\"1.0\" encoding=\"UTF-8\" standalone=\"no\"?>\n",
       "<!DOCTYPE svg PUBLIC \"-//W3C//DTD SVG 1.1//EN\"\n",
       " \"http://www.w3.org/Graphics/SVG/1.1/DTD/svg11.dtd\">\n",
       "<!-- Generated by graphviz version 12.1.2 (20240928.0832)\n",
       " -->\n",
       "<!-- Pages: 1 -->\n",
       "<svg width=\"633pt\" height=\"310pt\"\n",
       " viewBox=\"0.00 0.00 632.56 309.50\" xmlns=\"http://www.w3.org/2000/svg\" xmlns:xlink=\"http://www.w3.org/1999/xlink\">\n",
       "<g id=\"graph0\" class=\"graph\" transform=\"scale(1 1) rotate(0) translate(4 305.5)\">\n",
       "<polygon fill=\"white\" stroke=\"none\" points=\"-4,4 -4,-305.5 628.56,-305.5 628.56,4 -4,4\"/>\n",
       "<!-- 2429238465728 -->\n",
       "<g id=\"node1\" class=\"node\">\n",
       "<title>2429238465728</title>\n",
       "<ellipse fill=\"none\" stroke=\"black\" cx=\"323.3\" cy=\"-283.5\" rx=\"62.61\" ry=\"18\"/>\n",
       "<text text-anchor=\"middle\" x=\"323.3\" y=\"-278.45\" font-family=\"Times New Roman,serif\" font-size=\"14.00\">Feature: Taste</text>\n",
       "</g>\n",
       "<!-- 2429250308416 -->\n",
       "<g id=\"node2\" class=\"node\">\n",
       "<title>2429250308416</title>\n",
       "<ellipse fill=\"none\" stroke=\"black\" cx=\"143.3\" cy=\"-195\" rx=\"71.31\" ry=\"18\"/>\n",
       "<text text-anchor=\"middle\" x=\"143.3\" y=\"-189.95\" font-family=\"Times New Roman,serif\" font-size=\"14.00\">Feature: Texture</text>\n",
       "</g>\n",
       "<!-- 2429238465728&#45;&gt;2429250308416 -->\n",
       "<g id=\"edge1\" class=\"edge\">\n",
       "<title>2429238465728&#45;&gt;2429250308416</title>\n",
       "<path fill=\"none\" stroke=\"black\" d=\"M292.36,-267.63C262.88,-253.46 218.27,-232.03 185.53,-216.29\"/>\n",
       "<polygon fill=\"black\" stroke=\"black\" points=\"187.25,-213.24 176.72,-212.06 184.22,-219.54 187.25,-213.24\"/>\n",
       "<text text-anchor=\"middle\" x=\"263.3\" y=\"-234.2\" font-family=\"Times New Roman,serif\" font-size=\"14.00\">Salty</text>\n",
       "</g>\n",
       "<!-- 2429250308352 -->\n",
       "<g id=\"node5\" class=\"node\">\n",
       "<title>2429250308352</title>\n",
       "<ellipse fill=\"none\" stroke=\"black\" cx=\"323.3\" cy=\"-195\" rx=\"90.25\" ry=\"18\"/>\n",
       "<text text-anchor=\"middle\" x=\"323.3\" y=\"-189.95\" font-family=\"Times New Roman,serif\" font-size=\"14.00\">Feature: Temperature</text>\n",
       "</g>\n",
       "<!-- 2429238465728&#45;&gt;2429250308352 -->\n",
       "<g id=\"edge4\" class=\"edge\">\n",
       "<title>2429238465728&#45;&gt;2429250308352</title>\n",
       "<path fill=\"none\" stroke=\"black\" d=\"M323.3,-265.41C323.3,-253.76 323.3,-238.05 323.3,-224.52\"/>\n",
       "<polygon fill=\"black\" stroke=\"black\" points=\"326.8,-224.86 323.3,-214.86 319.8,-224.86 326.8,-224.86\"/>\n",
       "<text text-anchor=\"middle\" x=\"338.68\" y=\"-234.2\" font-family=\"Times New Roman,serif\" font-size=\"14.00\">Spicy</text>\n",
       "</g>\n",
       "<!-- 2429216484224 -->\n",
       "<g id=\"node12\" class=\"node\">\n",
       "<title>2429216484224</title>\n",
       "<ellipse fill=\"none\" stroke=\"black\" cx=\"481.3\" cy=\"-195\" rx=\"49.3\" ry=\"18\"/>\n",
       "<text text-anchor=\"middle\" x=\"481.3\" y=\"-189.95\" font-family=\"Times New Roman,serif\" font-size=\"14.00\">Class: Yes</text>\n",
       "</g>\n",
       "<!-- 2429238465728&#45;&gt;2429216484224 -->\n",
       "<g id=\"edge11\" class=\"edge\">\n",
       "<title>2429238465728&#45;&gt;2429216484224</title>\n",
       "<path fill=\"none\" stroke=\"black\" d=\"M351.55,-267.04C377.56,-252.8 416.3,-231.59 444.67,-216.05\"/>\n",
       "<polygon fill=\"black\" stroke=\"black\" points=\"446.2,-219.21 453.29,-211.34 442.84,-213.07 446.2,-219.21\"/>\n",
       "<text text-anchor=\"middle\" x=\"432.96\" y=\"-234.2\" font-family=\"Times New Roman,serif\" font-size=\"14.00\">Sweet</text>\n",
       "</g>\n",
       "<!-- 2429238467968 -->\n",
       "<g id=\"node3\" class=\"node\">\n",
       "<title>2429238467968</title>\n",
       "<ellipse fill=\"none\" stroke=\"black\" cx=\"49.3\" cy=\"-106.5\" rx=\"49.3\" ry=\"18\"/>\n",
       "<text text-anchor=\"middle\" x=\"49.3\" y=\"-101.45\" font-family=\"Times New Roman,serif\" font-size=\"14.00\">Class: Yes</text>\n",
       "</g>\n",
       "<!-- 2429250308416&#45;&gt;2429238467968 -->\n",
       "<g id=\"edge2\" class=\"edge\">\n",
       "<title>2429250308416&#45;&gt;2429238467968</title>\n",
       "<path fill=\"none\" stroke=\"black\" d=\"M125.18,-177.32C110.96,-164.23 90.97,-145.84 75.08,-131.22\"/>\n",
       "<polygon fill=\"black\" stroke=\"black\" points=\"77.58,-128.76 67.85,-124.57 72.84,-133.91 77.58,-128.76\"/>\n",
       "<text text-anchor=\"middle\" x=\"118.22\" y=\"-145.7\" font-family=\"Times New Roman,serif\" font-size=\"14.00\">Hard</text>\n",
       "</g>\n",
       "<!-- 2429250308224 -->\n",
       "<g id=\"node4\" class=\"node\">\n",
       "<title>2429250308224</title>\n",
       "<ellipse fill=\"none\" stroke=\"black\" cx=\"164.3\" cy=\"-106.5\" rx=\"47.26\" ry=\"18\"/>\n",
       "<text text-anchor=\"middle\" x=\"164.3\" y=\"-101.45\" font-family=\"Times New Roman,serif\" font-size=\"14.00\">Class: No</text>\n",
       "</g>\n",
       "<!-- 2429250308416&#45;&gt;2429250308224 -->\n",
       "<g id=\"edge3\" class=\"edge\">\n",
       "<title>2429250308416&#45;&gt;2429250308224</title>\n",
       "<path fill=\"none\" stroke=\"black\" d=\"M147.45,-176.91C150.28,-165.26 154.1,-149.55 157.38,-136.02\"/>\n",
       "<polygon fill=\"black\" stroke=\"black\" points=\"160.78,-136.86 159.73,-126.32 153.97,-135.21 160.78,-136.86\"/>\n",
       "<text text-anchor=\"middle\" x=\"166.94\" y=\"-145.7\" font-family=\"Times New Roman,serif\" font-size=\"14.00\">Soft</text>\n",
       "</g>\n",
       "<!-- 2429250308288 -->\n",
       "<g id=\"node6\" class=\"node\">\n",
       "<title>2429250308288</title>\n",
       "<ellipse fill=\"none\" stroke=\"black\" cx=\"312.3\" cy=\"-106.5\" rx=\"71.31\" ry=\"18\"/>\n",
       "<text text-anchor=\"middle\" x=\"312.3\" y=\"-101.45\" font-family=\"Times New Roman,serif\" font-size=\"14.00\">Feature: Texture</text>\n",
       "</g>\n",
       "<!-- 2429250308352&#45;&gt;2429250308288 -->\n",
       "<g id=\"edge5\" class=\"edge\">\n",
       "<title>2429250308352&#45;&gt;2429250308288</title>\n",
       "<path fill=\"none\" stroke=\"black\" d=\"M321.13,-176.91C319.65,-165.26 317.65,-149.55 315.93,-136.02\"/>\n",
       "<polygon fill=\"black\" stroke=\"black\" points=\"319.44,-135.83 314.7,-126.35 312.49,-136.71 319.44,-135.83\"/>\n",
       "<text text-anchor=\"middle\" x=\"331.91\" y=\"-145.7\" font-family=\"Times New Roman,serif\" font-size=\"14.00\">Cold</text>\n",
       "</g>\n",
       "<!-- 2429250308032 -->\n",
       "<g id=\"node9\" class=\"node\">\n",
       "<title>2429250308032</title>\n",
       "<ellipse fill=\"none\" stroke=\"black\" cx=\"473.3\" cy=\"-106.5\" rx=\"71.31\" ry=\"18\"/>\n",
       "<text text-anchor=\"middle\" x=\"473.3\" y=\"-101.45\" font-family=\"Times New Roman,serif\" font-size=\"14.00\">Feature: Texture</text>\n",
       "</g>\n",
       "<!-- 2429250308352&#45;&gt;2429250308032 -->\n",
       "<g id=\"edge8\" class=\"edge\">\n",
       "<title>2429250308352&#45;&gt;2429250308032</title>\n",
       "<path fill=\"none\" stroke=\"black\" d=\"M351.87,-177.53C375.66,-163.81 409.72,-144.17 435.72,-129.17\"/>\n",
       "<polygon fill=\"black\" stroke=\"black\" points=\"437.38,-132.26 444.29,-124.23 433.88,-126.19 437.38,-132.26\"/>\n",
       "<text text-anchor=\"middle\" x=\"421.86\" y=\"-145.7\" font-family=\"Times New Roman,serif\" font-size=\"14.00\">Hot</text>\n",
       "</g>\n",
       "<!-- 2429250307904 -->\n",
       "<g id=\"node7\" class=\"node\">\n",
       "<title>2429250307904</title>\n",
       "<ellipse fill=\"none\" stroke=\"black\" cx=\"208.3\" cy=\"-18\" rx=\"47.26\" ry=\"18\"/>\n",
       "<text text-anchor=\"middle\" x=\"208.3\" y=\"-12.95\" font-family=\"Times New Roman,serif\" font-size=\"14.00\">Class: No</text>\n",
       "</g>\n",
       "<!-- 2429250308288&#45;&gt;2429250307904 -->\n",
       "<g id=\"edge6\" class=\"edge\">\n",
       "<title>2429250308288&#45;&gt;2429250307904</title>\n",
       "<path fill=\"none\" stroke=\"black\" d=\"M292.25,-88.82C276.27,-75.53 253.71,-56.76 236,-42.04\"/>\n",
       "<polygon fill=\"black\" stroke=\"black\" points=\"238.33,-39.42 228.41,-35.72 233.86,-44.81 238.33,-39.42\"/>\n",
       "<text text-anchor=\"middle\" x=\"283.12\" y=\"-57.2\" font-family=\"Times New Roman,serif\" font-size=\"14.00\">Hard</text>\n",
       "</g>\n",
       "<!-- 2429250307456 -->\n",
       "<g id=\"node8\" class=\"node\">\n",
       "<title>2429250307456</title>\n",
       "<ellipse fill=\"none\" stroke=\"black\" cx=\"323.3\" cy=\"-18\" rx=\"49.3\" ry=\"18\"/>\n",
       "<text text-anchor=\"middle\" x=\"323.3\" y=\"-12.95\" font-family=\"Times New Roman,serif\" font-size=\"14.00\">Class: Yes</text>\n",
       "</g>\n",
       "<!-- 2429250308288&#45;&gt;2429250307456 -->\n",
       "<g id=\"edge7\" class=\"edge\">\n",
       "<title>2429250308288&#45;&gt;2429250307456</title>\n",
       "<path fill=\"none\" stroke=\"black\" d=\"M314.48,-88.41C315.96,-76.76 317.96,-61.05 319.68,-47.52\"/>\n",
       "<polygon fill=\"black\" stroke=\"black\" points=\"323.12,-48.21 320.91,-37.85 316.17,-47.33 323.12,-48.21\"/>\n",
       "<text text-anchor=\"middle\" x=\"330.04\" y=\"-57.2\" font-family=\"Times New Roman,serif\" font-size=\"14.00\">Soft</text>\n",
       "</g>\n",
       "<!-- 2429238204800 -->\n",
       "<g id=\"node10\" class=\"node\">\n",
       "<title>2429238204800</title>\n",
       "<ellipse fill=\"none\" stroke=\"black\" cx=\"462.3\" cy=\"-18\" rx=\"49.3\" ry=\"18\"/>\n",
       "<text text-anchor=\"middle\" x=\"462.3\" y=\"-12.95\" font-family=\"Times New Roman,serif\" font-size=\"14.00\">Class: Yes</text>\n",
       "</g>\n",
       "<!-- 2429250308032&#45;&gt;2429238204800 -->\n",
       "<g id=\"edge9\" class=\"edge\">\n",
       "<title>2429250308032&#45;&gt;2429238204800</title>\n",
       "<path fill=\"none\" stroke=\"black\" d=\"M471.13,-88.41C469.65,-76.76 467.65,-61.05 465.93,-47.52\"/>\n",
       "<polygon fill=\"black\" stroke=\"black\" points=\"469.44,-47.33 464.7,-37.85 462.49,-48.21 469.44,-47.33\"/>\n",
       "<text text-anchor=\"middle\" x=\"482.29\" y=\"-57.2\" font-family=\"Times New Roman,serif\" font-size=\"14.00\">Hard</text>\n",
       "</g>\n",
       "<!-- 2429216294528 -->\n",
       "<g id=\"node11\" class=\"node\">\n",
       "<title>2429216294528</title>\n",
       "<ellipse fill=\"none\" stroke=\"black\" cx=\"577.3\" cy=\"-18\" rx=\"47.26\" ry=\"18\"/>\n",
       "<text text-anchor=\"middle\" x=\"577.3\" y=\"-12.95\" font-family=\"Times New Roman,serif\" font-size=\"14.00\">Class: No</text>\n",
       "</g>\n",
       "<!-- 2429250308032&#45;&gt;2429216294528 -->\n",
       "<g id=\"edge10\" class=\"edge\">\n",
       "<title>2429250308032&#45;&gt;2429216294528</title>\n",
       "<path fill=\"none\" stroke=\"black\" d=\"M493.36,-88.82C509.34,-75.53 531.9,-56.76 549.61,-42.04\"/>\n",
       "<polygon fill=\"black\" stroke=\"black\" points=\"551.75,-44.81 557.2,-35.72 547.27,-39.42 551.75,-44.81\"/>\n",
       "<text text-anchor=\"middle\" x=\"545.87\" y=\"-57.2\" font-family=\"Times New Roman,serif\" font-size=\"14.00\">Soft</text>\n",
       "</g>\n",
       "</g>\n",
       "</svg>\n"
      ],
      "text/plain": [
       "<graphviz.graphs.Digraph at 0x23598b4f5e0>"
      ]
     },
     "metadata": {},
     "output_type": "display_data"
    }
   ],
   "source": [
    "classifier.show_tree()"
   ]
  },
  {
   "cell_type": "markdown",
   "metadata": {},
   "source": [
    "# Pruning\n",
    "* Trees always tends to overfit\n",
    "* A technique of machine learning which reduces height of the tree by chopping off parts of the tree that's not doing anything significant in prediction\n",
    "* Prepruning & Postpruning\n",
    "  - Prepruning : Don't allow tree to grow beyond this point (`min_leaf_size`, `max_depth`, `min_impurity_decrease`)\n",
    "  - Postpruning : Allows tree to grow as much as possible, then prune the tree (`ccp_alpha`)\n",
    "\n",
    "## The cost-complexity prunning\n",
    "Cost-complexity measure:\n",
    "$$\n",
    "R_\\alpha(T)=R(T)+\\alpha∣T∣\n",
    "$$\n",
    "\n",
    "where:\n",
    "* $R(T)$ - The misclassification error (or impurity) of the tree T on the training data.\n",
    "* $|T∣$ - The number of terminal nodes (leaves) in the tree TT, representing its complexity.\n",
    "* $\\alpha$ - A tuning parameter that controls the trade-off between the tree's accuracy and complexity.\n",
    "\n",
    "The we want to minimize the $R_\\alpha$ over the space of subtrees of given tree T. \n",
    "\n",
    "> BWT, what kind of tree we will get if set $\\alpha$ to $0, \\infty$?\n",
    "\n",
    "Greedy algorithm:\n",
    "1. Build the full tree\n",
    "2. For each node $t$ compute $R_\\alpha(T_t)$ of corresponding subtree $T_t$ and $R_\\alpha(t)$ of subtree collapsed into that node.\n",
    "3. Prune the branch, if the $R_\\alpha(T_t) < R_\\alpha(T)$\n",
    "\n",
    "> Do we need to recaclucate the $R_\\alpha$ for non-prunned nodes?"
   ]
  },
  {
   "cell_type": "code",
   "execution_count": null,
   "metadata": {},
   "outputs": [],
   "source": [
    "# implementation?\n",
    "\n",
    "import copy\n",
    "\n",
    "def compute_subtree_error(tree: Dict) -> int:\n",
    "    \"\"\"Calculate the total misclassification error of a subtree.\"\"\"\n",
    "    ...\n",
    "    return total_error\n",
    "\n",
    "def compute_subtree_leaves(tree: Dict) -> int:\n",
    "    \"\"\"Count the number of leaf nodes in a subtree.\"\"\"\n",
    "    ...\n",
    "    return total_leaves\n",
    "\n",
    "def collect_pruning_candidates(tree: Dict, candidates: list) -> None:\n",
    "    \"\"\"Collect non-leaf nodes with their effective alpha values.\"\"\"\n",
    "    ...\n",
    "\n",
    "def cost_complexity_pruning(tree: Dict, alpha: float) -> Dict:\n",
    "    \"\"\"Prune the tree using cost-complexity pruning with parameter alpha.\"\"\"\n",
    "    \n",
    "    return tree"
   ]
  },
  {
   "cell_type": "code",
   "execution_count": null,
   "metadata": {},
   "outputs": [],
   "source": [
    "# Prune the tree with alpha=0.1 (adjust alpha based on your needs)\n",
    "alpha = 0.1\n",
    "pruned_tree = cost_complexity_pruning(decision_tree, alpha)\n",
    "\n",
    "# Visualize the pruned tree in Jupyter Notebook\n",
    "dot_pruned = visualize_tree(pruned_tree, feature_names)\n",
    "display(dot_pruned)  # Display directly in the notebook\n",
    "\n",
    "# Test prediction with the pruned tree\n",
    "pruned_prediction = predict(pruned_tree, feature_names, new_data_point)\n",
    "print(f\"Pruned tree prediction: {pruned_prediction}\")"
   ]
  },
  {
   "cell_type": "markdown",
   "metadata": {},
   "source": [
    "### Bonus task 23: Better DT (<1 week deadline!)\n",
    "Re-Implement the **ID3 algorithm** in the scikit-learn compatible maner. The most convenient implementation (for my taste) will be used for following classes, so you should be ready for 5-10 minute talk about your implementation.\n",
    "\n",
    "### Bonus Task 24: Prunning\n",
    "Select any kind of prunning algorithms except for Cost-Complexity Prunnig (e.g. from [here](http://dspace.mit.edu/bitstream/handle/1721.1/6453/AIM-930.pdf?sequence=2)) and implement it.\n",
    "\n"
   ]
  }
 ],
 "metadata": {
  "kernelspec": {
   "display_name": "Python 3 (ipykernel)",
   "language": "python",
   "name": "python3"
  },
  "language_info": {
   "codemirror_mode": {
    "name": "ipython",
    "version": 3
   },
   "file_extension": ".py",
   "mimetype": "text/x-python",
   "name": "python",
   "nbconvert_exporter": "python",
   "pygments_lexer": "ipython3",
   "version": "3.10.16"
  }
 },
 "nbformat": 4,
 "nbformat_minor": 4
}
