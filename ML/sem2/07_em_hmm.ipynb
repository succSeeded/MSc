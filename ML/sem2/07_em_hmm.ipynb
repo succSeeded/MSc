{
 "cells": [
  {
   "cell_type": "code",
   "execution_count": 1,
   "id": "93949a82-9131-4776-b7e0-6ad7e3bb3252",
   "metadata": {},
   "outputs": [],
   "source": [
    "%load_ext jupyter_black"
   ]
  },
  {
   "cell_type": "markdown",
   "id": "0167fff6-01fb-4a19-8f71-fe302f2f3fd5",
   "metadata": {},
   "source": [
    "# EM algorithm for HMM with continuous observations"
   ]
  },
  {
   "cell_type": "code",
   "execution_count": 2,
   "id": "7bd06d1a-3013-41d2-bd7f-fc36ca13289b",
   "metadata": {},
   "outputs": [],
   "source": [
    "import numpy as np\n",
    "import scipy as sp"
   ]
  },
  {
   "cell_type": "markdown",
   "id": "3d2c7bf9-746e-4b1a-b5b7-9b40c18bbb94",
   "metadata": {},
   "source": [
    "## Data generation"
   ]
  },
  {
   "cell_type": "code",
   "execution_count": 3,
   "id": "8c0819a9-93b7-4951-ba31-94b6a94a1980",
   "metadata": {},
   "outputs": [
    {
     "data": {
      "text/plain": [
       "array([0.31, 0.53, 0.16])"
      ]
     },
     "execution_count": 3,
     "metadata": {},
     "output_type": "execute_result"
    }
   ],
   "source": [
    "# distribution of inital states\n",
    "pi = np.array([0.1, 0.2, 0.7])\n",
    "\n",
    "# transition probabilities\n",
    "Phi = np.array(\n",
    "    [\n",
    "        [0.1, 0.8, 0.2],\n",
    "        [0.2, 0.1, 0.7],\n",
    "        [0.7, 0.1, 0.1],\n",
    "    ]\n",
    ").T\n",
    "\n",
    "pi @ Phi"
   ]
  },
  {
   "cell_type": "code",
   "execution_count": 4,
   "id": "2239914e-dd37-41b7-a068-5f3df352d57f",
   "metadata": {},
   "outputs": [],
   "source": [
    "mu = np.array([[0.0, 0.0], [13.0, 17.0], [19.0, 11.0]])\n",
    "\n",
    "Sigma = np.array(\n",
    "    [\n",
    "        [[1.0, 0.0], [0.0, 1]],\n",
    "        [[1.96982142, 0.82221325], [0.82221325, 1.62580534]],\n",
    "        [[0.16945079, 0.04202167], [0.04202167, 0.20998312]],\n",
    "    ]\n",
    ")"
   ]
  },
  {
   "cell_type": "code",
   "execution_count": 5,
   "id": "8c52fb94-bd11-4e97-b58a-764d51b1539f",
   "metadata": {},
   "outputs": [],
   "source": [
    "N = 50  # number of data points\n",
    "T = 100  # sequence length\n",
    "\n",
    "Z = np.zeros((N, T, 3))\n",
    "X = np.zeros((N, T, 2))\n",
    "\n",
    "state = pi.copy()\n",
    "\n",
    "\n",
    "mu_ = mu.reshape(-1)\n",
    "Sigma_ = sp.linalg.block_diag(*Sigma)\n",
    "\n",
    "for t in range(T):\n",
    "    index = np.random.choice(3, N, replace=True, p=state)\n",
    "    np.put_along_axis(Z[:, t, :], indices=index[:, None], values=1.0, axis=-1)\n",
    "    samples = np.random.multivariate_normal(mu_, Sigma_, N).reshape(-1, 3, 2)\n",
    "    values = samples * Z[:, t, :, None]\n",
    "    X[:, t, :] = values.sum(1)\n",
    "    state = state @ Phi"
   ]
  },
  {
   "cell_type": "markdown",
   "id": "43ca722e-67d2-40ea-9a30-74e48d79d33f",
   "metadata": {},
   "source": [
    "# Training"
   ]
  },
  {
   "cell_type": "code",
   "execution_count": null,
   "id": "7feb6be0-288f-4740-b8f1-799c17ea0cdd",
   "metadata": {},
   "outputs": [],
   "source": [
    "from functools import lru_cache\n",
    "\n",
    "@lru_cache(200000)\n",
    "def alpha(i, t, Phi_old, mu_old, Sigma_old):\n",
    "    ..."
   ]
  },
  {
   "cell_type": "code",
   "execution_count": null,
   "id": "a1683e96-dd50-4df9-a305-fd041a398d5e",
   "metadata": {},
   "outputs": [],
   "source": [
    "@lru_cache(200000)\n",
    "def beta(i, t, Phi_old, mu_old, Sigma_old):\n",
    "    ..."
   ]
  },
  {
   "cell_type": "code",
   "execution_count": null,
   "id": "e7bdb7aa-fdd6-40a7-93c3-a71b0a05638b",
   "metadata": {},
   "outputs": [],
   "source": [
    "def pi_new(pi_old):\n",
    "    ...\n"
   ]
  },
  {
   "cell_type": "code",
   "execution_count": null,
   "id": "8b8ff154-ca7f-4172-a829-8630c0760ebd",
   "metadata": {},
   "outputs": [],
   "source": [
    "def Phi_new(pi_old, mu_old, Sigma_old):\n",
    "    ...\n"
   ]
  },
  {
   "cell_type": "code",
   "execution_count": null,
   "id": "8aed6c78-d2b4-4076-a449-7c20b51956a5",
   "metadata": {},
   "outputs": [],
   "source": [
    "def mu_new(mu_old, Phi_old, mu_old, Sigma_old):\n",
    "    ..."
   ]
  },
  {
   "cell_type": "code",
   "execution_count": null,
   "id": "3696e958-c902-4c57-b48b-39776ff59291",
   "metadata": {},
   "outputs": [],
   "source": [
    "def sigma_new(mu_old, Phi_old, mu_old, Sigma_old):\n",
    "    ..."
   ]
  },
  {
   "cell_type": "code",
   "execution_count": null,
   "id": "8f455eee-df57-4e31-acb3-188b24e98e47",
   "metadata": {},
   "outputs": [],
   "source": [
    "n_iterations = 10\n",
    "\n",
    "for i in range(n_iterations):\n",
    "    ..."
   ]
  }
 ],
 "metadata": {
  "kernelspec": {
   "display_name": "Python 3 (ipykernel)",
   "language": "python",
   "name": "python3"
  },
  "language_info": {
   "codemirror_mode": {
    "name": "ipython",
    "version": 3
   },
   "file_extension": ".py",
   "mimetype": "text/x-python",
   "name": "python",
   "nbconvert_exporter": "python",
   "pygments_lexer": "ipython3",
   "version": "3.10.16"
  }
 },
 "nbformat": 4,
 "nbformat_minor": 5
}
