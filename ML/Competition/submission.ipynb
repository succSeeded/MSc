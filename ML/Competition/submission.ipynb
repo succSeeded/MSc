{
 "cells": [
  {
   "cell_type": "code",
   "execution_count": null,
   "id": "88d41065-9112-47e9-8a22-94e6c7b631de",
   "metadata": {},
   "outputs": [],
   "source": [
    "%load_ext jupyter_black"
   ]
  },
  {
   "cell_type": "code",
   "execution_count": null,
   "id": "c836d244-c594-46e7-8a0b-2b32cf8cb7eb",
   "metadata": {},
   "outputs": [],
   "source": [
    "import pandas as pd\n",
    "import numpy as np\n",
    "import random\n",
    "import matplotlib.pyplot as plt\n",
    "from sklearn.compose import ColumnTransformer\n",
    "from sklearn.preprocessing import (\n",
    "    OrdinalEncoder,\n",
    "    OneHotEncoder,\n",
    "    StandardScaler,\n",
    "    QuantileTransformer,\n",
    ")\n",
    "from sklearn.ensemble import (\n",
    "    HistGradientBoostingClassifier,\n",
    "    RandomForestClassifier,\n",
    "    VotingClassifier,\n",
    ")\n",
    "from sklearn.linear_model import SGDClassifier\n",
    "from sklearn.pipeline import Pipeline\n",
    "from tqdm import tqdm\n",
    "from sklearn.metrics import (\n",
    "    confusion_matrix,\n",
    "    ConfusionMatrixDisplay,\n",
    "    accuracy_score,\n",
    "    classification_report,\n",
    ")\n",
    "import warnings\n",
    "\n",
    "warnings.filterwarnings(\"ignore\")"
   ]
  },
  {
   "cell_type": "code",
   "execution_count": null,
   "id": "3606b1f3-6631-446a-a1ad-b5859c107b1c",
   "metadata": {},
   "outputs": [],
   "source": [
    "RANDOM_SEED = 42\n",
    "np.random.seed(RANDOM_SEED)\n",
    "random.seed(RANDOM_SEED)"
   ]
  },
  {
   "cell_type": "code",
   "execution_count": null,
   "id": "b8813500-39fe-4b22-95ed-a4b28db24889",
   "metadata": {},
   "outputs": [
    {
     "data": {
      "text/html": [
       "<div>\n",
       "<style scoped>\n",
       "    .dataframe tbody tr th:only-of-type {\n",
       "        vertical-align: middle;\n",
       "    }\n",
       "\n",
       "    .dataframe tbody tr th {\n",
       "        vertical-align: top;\n",
       "    }\n",
       "\n",
       "    .dataframe thead th {\n",
       "        text-align: right;\n",
       "    }\n",
       "</style>\n",
       "<table border=\"1\" class=\"dataframe\">\n",
       "  <thead>\n",
       "    <tr style=\"text-align: right;\">\n",
       "      <th></th>\n",
       "      <th>Name</th>\n",
       "      <th>SexuponOutcome</th>\n",
       "      <th>AnimalType</th>\n",
       "      <th>AgeuponOutcome</th>\n",
       "      <th>Breed</th>\n",
       "      <th>Color</th>\n",
       "      <th>DateTime</th>\n",
       "      <th>Outcome</th>\n",
       "      <th>ID</th>\n",
       "    </tr>\n",
       "  </thead>\n",
       "  <tbody>\n",
       "    <tr>\n",
       "      <th>0</th>\n",
       "      <td>Socks</td>\n",
       "      <td>Neutered Male</td>\n",
       "      <td>Cat</td>\n",
       "      <td>2 months</td>\n",
       "      <td>Domestic Shorthair Mix</td>\n",
       "      <td>Black/White</td>\n",
       "      <td>2014-06-11 14:36:00</td>\n",
       "      <td>0</td>\n",
       "      <td>0</td>\n",
       "    </tr>\n",
       "    <tr>\n",
       "      <th>1</th>\n",
       "      <td>Vera</td>\n",
       "      <td>Intact Female</td>\n",
       "      <td>Cat</td>\n",
       "      <td>1 month</td>\n",
       "      <td>Domestic Shorthair Mix</td>\n",
       "      <td>Tortie/White</td>\n",
       "      <td>2014-07-18 08:10:00</td>\n",
       "      <td>3</td>\n",
       "      <td>1</td>\n",
       "    </tr>\n",
       "    <tr>\n",
       "      <th>2</th>\n",
       "      <td>Biscuit</td>\n",
       "      <td>Neutered Male</td>\n",
       "      <td>Dog</td>\n",
       "      <td>3 months</td>\n",
       "      <td>Chihuahua Shorthair Mix</td>\n",
       "      <td>Yellow</td>\n",
       "      <td>2016-01-02 17:28:00</td>\n",
       "      <td>2</td>\n",
       "      <td>2</td>\n",
       "    </tr>\n",
       "    <tr>\n",
       "      <th>3</th>\n",
       "      <td>Kitten</td>\n",
       "      <td>Spayed Female</td>\n",
       "      <td>Cat</td>\n",
       "      <td>2 years</td>\n",
       "      <td>Domestic Shorthair Mix</td>\n",
       "      <td>Calico</td>\n",
       "      <td>2014-02-19 17:27:00</td>\n",
       "      <td>0</td>\n",
       "      <td>3</td>\n",
       "    </tr>\n",
       "    <tr>\n",
       "      <th>4</th>\n",
       "      <td>NaN</td>\n",
       "      <td>Neutered Male</td>\n",
       "      <td>Cat</td>\n",
       "      <td>2 months</td>\n",
       "      <td>Domestic Shorthair Mix</td>\n",
       "      <td>Orange Tabby</td>\n",
       "      <td>2014-07-21 17:34:00</td>\n",
       "      <td>0</td>\n",
       "      <td>4</td>\n",
       "    </tr>\n",
       "  </tbody>\n",
       "</table>\n",
       "</div>"
      ],
      "text/plain": [
       "      Name SexuponOutcome AnimalType AgeuponOutcome                    Breed  \\\n",
       "0    Socks  Neutered Male        Cat       2 months   Domestic Shorthair Mix   \n",
       "1     Vera  Intact Female        Cat        1 month   Domestic Shorthair Mix   \n",
       "2  Biscuit  Neutered Male        Dog       3 months  Chihuahua Shorthair Mix   \n",
       "3   Kitten  Spayed Female        Cat        2 years   Domestic Shorthair Mix   \n",
       "4      NaN  Neutered Male        Cat       2 months   Domestic Shorthair Mix   \n",
       "\n",
       "          Color             DateTime  Outcome  ID  \n",
       "0   Black/White  2014-06-11 14:36:00        0   0  \n",
       "1  Tortie/White  2014-07-18 08:10:00        3   1  \n",
       "2        Yellow  2016-01-02 17:28:00        2   2  \n",
       "3        Calico  2014-02-19 17:27:00        0   3  \n",
       "4  Orange Tabby  2014-07-21 17:34:00        0   4  "
      ]
     },
     "execution_count": 4,
     "metadata": {},
     "output_type": "execute_result"
    }
   ],
   "source": [
    "import platform\n",
    "\n",
    "if platform.system() == \"Windows\":\n",
    "    prefix = \"data/\"\n",
    "else:\n",
    "    prefix = \"data\\\\\"\n",
    "\n",
    "train = pd.read_csv(prefix + \"train.csv\", encoding=\"utf-8\")\n",
    "data_test = pd.read_csv(prefix + \"test.csv\", encoding=\"utf-8\")\n",
    "train.head(5)"
   ]
  },
  {
   "cell_type": "code",
   "execution_count": null,
   "id": "509cdaf7-1e51-4e25-bd72-e6e11e0441c9",
   "metadata": {},
   "outputs": [],
   "source": [
    "def pandas_dates2number(date_series: pd.Series):\n",
    "    return pd.to_datetime(date_series).values.astype(np.int64) // 10**9"
   ]
  },
  {
   "cell_type": "code",
   "execution_count": null,
   "id": "f0999c02-0de0-442c-8db7-71d1f85ccd1f",
   "metadata": {},
   "outputs": [],
   "source": [
    "def string_to_age(string):\n",
    "    if not isinstance(string, str):\n",
    "        return string\n",
    "    N, unit = string.split(\" \")\n",
    "    if unit == \"year\" or unit == \"years\":\n",
    "        unit = 365.0\n",
    "    elif unit == \"month\" or unit == \"months\":\n",
    "        unit = 30\n",
    "    elif unit == \"week\" or unit == \"weeks\":\n",
    "        unit = 7\n",
    "    else:\n",
    "        unit = 1\n",
    "    return float(N) * unit"
   ]
  },
  {
   "cell_type": "code",
   "execution_count": null,
   "id": "ff3f4b70-32cf-4b2a-8284-fb77032eb4dc",
   "metadata": {},
   "outputs": [],
   "source": [
    "common_breeds = train.Breed.value_counts()[train.Breed.value_counts() > 10].index\n",
    "common_colors = train.Color.value_counts()[train.Color.value_counts() > 10].index"
   ]
  },
  {
   "cell_type": "code",
   "execution_count": null,
   "id": "bb91c0a9-ab4e-4e23-ad29-001e22430b86",
   "metadata": {},
   "outputs": [],
   "source": [
    "def clean_dataframe(df):\n",
    "\n",
    "    df.index = df.ID\n",
    "\n",
    "    # Добавим доп категорию для пород, которые встречаются чрезвычайно редко\n",
    "    df[\"BreedUpd\"] = df.Breed.map(lambda x: x if x in common_breeds else \"Other\")\n",
    "    df[\"ColorUpd\"] = df.Color.map(lambda x: x if x in common_breeds else \"Other\")\n",
    "\n",
    "    df[\"SexuponOutcome\"][df[\"SexuponOutcome\"].isna()] = \"Unknown\"\n",
    "\n",
    "    df.DateTime = pandas_dates2number(df.DateTime)\n",
    "    df[\"AgeuponOutcome\"] = df.AgeuponOutcome.map(lambda x: string_to_age(x))\n",
    "    median = df[\"AgeuponOutcome\"][df[\"AgeuponOutcome\"].notna()].median()\n",
    "    df[\"AgeuponOutcome\"].fillna(median, inplace=True)\n",
    "\n",
    "    # Разделяем животных на возрастные группы. Кошки и собаки имеют примерно одинаковые\n",
    "    # продолжительности жизни и скорость взросления, поэтому за источник была взята\n",
    "    # таблица из сайта https://thecatdoctor.co.uk/cat-health/feline-life-stages/\n",
    "\n",
    "    bins = [-1, 180, 730, 3650, np.inf]\n",
    "    labels = [\"juvenile\", \"young\", \"adult\", \"old\"]\n",
    "    df[\"AgeGroup\"] = pd.cut(df[\"AgeuponOutcome\"], bins=bins, labels=labels)\n",
    "\n",
    "    return df.drop([\"ID\", \"Name\"], axis=1)"
   ]
  },
  {
   "cell_type": "code",
   "execution_count": null,
   "id": "a2368ecd-e42a-466a-8e5d-3449de852c57",
   "metadata": {},
   "outputs": [],
   "source": [
    "train = clean_dataframe(train)\n",
    "data_test = clean_dataframe(data_test)"
   ]
  },
  {
   "cell_type": "code",
   "execution_count": null,
   "id": "e52da806-3691-43f9-ab0b-139146c3ffe8",
   "metadata": {},
   "outputs": [],
   "source": [
    "train.head()"
   ]
  },
  {
   "cell_type": "code",
   "execution_count": null,
   "id": "26e19843-f9f0-40d2-91cf-93d83a7ec655",
   "metadata": {},
   "outputs": [],
   "source": [
    "train.Breed.value_counts()"
   ]
  },
  {
   "cell_type": "code",
   "execution_count": null,
   "id": "786f8dcb-c8e8-4484-bca0-85d22d4e4d26",
   "metadata": {},
   "outputs": [],
   "source": [
    "train.BreedUpd.value_counts()"
   ]
  },
  {
   "cell_type": "code",
   "execution_count": null,
   "id": "97da8f64-6136-4c38-b45b-e031247fcc0b",
   "metadata": {},
   "outputs": [],
   "source": [
    "train.AgeuponOutcome.hist()"
   ]
  },
  {
   "cell_type": "code",
   "execution_count": null,
   "id": "573beb4a-e158-49cd-b560-a606fcd2dc79",
   "metadata": {},
   "outputs": [],
   "source": [
    "train.AgeuponOutcome.median()"
   ]
  },
  {
   "cell_type": "code",
   "execution_count": null,
   "id": "6da006c7-c4b6-4afc-8839-a0b7216adf78",
   "metadata": {},
   "outputs": [],
   "source": [
    "train.AgeGroup.hist()"
   ]
  },
  {
   "cell_type": "code",
   "execution_count": null,
   "id": "8570a377-2f9a-4154-9a22-e20be28fc362",
   "metadata": {},
   "outputs": [],
   "source": [
    "train.DateTime.hist(bins=20)"
   ]
  },
  {
   "cell_type": "code",
   "execution_count": null,
   "id": "33670161-0cf1-4f91-ade9-16ef31eb13e3",
   "metadata": {},
   "outputs": [],
   "source": [
    "cat_cols = [\n",
    "    \"SexuponOutcome\",\n",
    "    \"AnimalType\",\n",
    "    \"Color\",\n",
    "    \"ColorUpd\",\n",
    "    \"AgeGroup\",\n",
    "    \"Breed\",\n",
    "    \"BreedUpd\",\n",
    "]\n",
    "real_cols = [\"AgeuponOutcome\"]\n",
    "time_cols = [\"DateTime\"]\n",
    "\n",
    "# для преобразования даты+времени используем QuantileTransformer, т.к. эти данные имеют периодическую природу(т.е. распределены мультимодально)\n",
    "column_transformer = ColumnTransformer(\n",
    "    transformers=[\n",
    "        # (\n",
    "        #     \"ohe\",\n",
    "        #     OneHotEncoder(handle_unknown=\"ignore\", sparse_output=False),\n",
    "        #     cat_cols,\n",
    "        # ),\n",
    "        (\n",
    "            \"ore\",\n",
    "            OrdinalEncoder(handle_unknown=\"use_encoded_value\", unknown_value=-1),\n",
    "            cat_cols,\n",
    "        ),\n",
    "        (\"real_scaling\", StandardScaler(), real_cols),\n",
    "        (\"time_scaling\", QuantileTransformer(random_state=RANDOM_SEED), time_cols),\n",
    "    ],\n",
    "    remainder=\"passthrough\",\n",
    ")\n",
    "\n",
    "column_transformer_hgb = ColumnTransformer(\n",
    "    transformers=[\n",
    "        # One-Hot производит слишком много фич + HistGradientBoosting лучше работает ординальным кодированием\n",
    "        (\n",
    "            \"ore\",\n",
    "            OrdinalEncoder(handle_unknown=\"use_encoded_value\", unknown_value=-1),\n",
    "            cat_cols,\n",
    "        ),\n",
    "        (\"real_scaling\", StandardScaler(), real_cols),\n",
    "        (\"time_scaling\", QuantileTransformer(random_state=RANDOM_SEED), time_cols),\n",
    "    ],\n",
    "    remainder=\"passthrough\",\n",
    ")"
   ]
  },
  {
   "cell_type": "code",
   "execution_count": null,
   "id": "9edd1372-23aa-4198-bf88-1513d66e322a",
   "metadata": {},
   "outputs": [],
   "source": [
    "y_train = train[\"Outcome\"]\n",
    "data_train = train.drop([\"Outcome\"], axis=1)"
   ]
  },
  {
   "cell_type": "code",
   "execution_count": null,
   "id": "49970607-aa76-4f02-9890-c2cd9fa6e72d",
   "metadata": {},
   "outputs": [
    {
     "name": "stderr",
     "output_type": "stream",
     "text": [
      "  File \"C:\\Users\\anaki\\AppData\\Local\\Programs\\Python\\Python313\\Lib\\site-packages\\joblib\\externals\\loky\\backend\\context.py\", line 282, in _count_physical_cores\n",
      "    raise ValueError(f\"found {cpu_count_physical} physical cores < 1\")\n"
     ]
    },
    {
     "name": "stdout",
     "output_type": "stream",
     "text": [
      "              precision    recall  f1-score   support\n",
      "\n",
      "           0       0.95      0.98      0.97      7538\n",
      "           1       0.98      0.93      0.96      6595\n",
      "           2       0.95      0.96      0.96      3350\n",
      "           3       0.92      0.96      0.94      1089\n",
      "           4       0.83      0.98      0.90       138\n",
      "\n",
      "    accuracy                           0.96     18710\n",
      "   macro avg       0.93      0.96      0.94     18710\n",
      "weighted avg       0.96      0.96      0.96     18710\n",
      "\n",
      "0.9587386424371993\n"
     ]
    },
    {
     "data": {
      "image/png": "[encoded data removed]",
      "text/plain": [
       "<Figure size 640x480 with 2 Axes>"
      ]
     },
     "metadata": {},
     "output_type": "display_data"
    }
   ],
   "source": [
    "hgb_pipeline = Pipeline(\n",
    "    steps=[\n",
    "        (\"preprocessor\", column_transformer_hgb),\n",
    "        (\n",
    "            \"classifier\",\n",
    "            HistGradientBoostingClassifier(\n",
    "                class_weight=\"balanced\",\n",
    "                random_state=RANDOM_SEED,\n",
    "            ),\n",
    "        ),\n",
    "    ]\n",
    ")\n",
    "\n",
    "rf_pipeline = Pipeline(\n",
    "    steps=[\n",
    "        (\"preprocessor\", column_transformer),\n",
    "        (\n",
    "            \"classifier\",\n",
    "            RandomForestClassifier(\n",
    "                class_weight=\"balanced\",\n",
    "                random_state=RANDOM_SEED,\n",
    "                n_estimators=1000,\n",
    "            ),\n",
    "        ),\n",
    "    ]\n",
    ")\n",
    "\n",
    "# Рассматривался градиентный спуск, но, к сожалению, NaN'ы нужно оставлять((((\n",
    "# sgd_pipeline = Pipeline(\n",
    "#     steps=[\n",
    "#         (\"preprocessor\", column_transformer),\n",
    "#         (\n",
    "#             \"classifier\",\n",
    "#             SGDClassifier(\n",
    "#                 loss=\"log_loss\",\n",
    "#                 penalty=\"elasticnet\",\n",
    "#                 class_weight=\"balanced\",\n",
    "#                 random_state=RANDOM_SEED,\n",
    "#             ),\n",
    "#         ),\n",
    "#     ]\n",
    "# )\n",
    "\n",
    "voting_model = VotingClassifier(\n",
    "    estimators=[\n",
    "        (\"hgb\", hgb_pipeline),\n",
    "        (\"rf\", rf_pipeline),\n",
    "        # (\"sgd\", sgd_pipeline),\n",
    "    ],\n",
    "    voting=\"soft\",\n",
    "    n_jobs=-1,\n",
    ")\n",
    "\n",
    "y_pred = voting_model.fit(data_train, y_train).predict(data_train)\n",
    "print(classification_report(y_train, y_pred))\n",
    "print(accuracy_score(y_train, y_pred))\n",
    "disp = ConfusionMatrixDisplay(confusion_matrix(y_train, y_pred))\n",
    "\n",
    "disp.plot()\n",
    "plt.show()"
   ]
  },
  {
   "cell_type": "code",
   "execution_count": null,
   "id": "1cc4c18c-deb8-4286-9494-ceb300b2338d",
   "metadata": {},
   "outputs": [],
   "source": [
    "preds = voting_model.predict(data_test)\n",
    "\n",
    "# Create a submission using constant predictions\n",
    "submission = pd.DataFrame({\"ID\": data_test.index, \"Outcome\": preds})\n",
    "\n",
    "# Save the submission\n",
    "submission.to_csv(\"submission.csv\", index=False)\n",
    "# y_pred_test.head()"
   ]
  },
  {
   "cell_type": "code",
   "execution_count": null,
   "id": "aa3cd6f3-ff94-4842-9ccb-32c68c41d55c",
   "metadata": {},
   "outputs": [],
   "source": []
  }
 ],
 "metadata": {
  "kernelspec": {
   "display_name": "Python 3 (ipykernel)",
   "language": "python",
   "name": "python3"
  },
  "language_info": {
   "codemirror_mode": {
    "name": "ipython",
    "version": 3
   },
   "file_extension": ".py",
   "mimetype": "text/x-python",
   "name": "python",
   "nbconvert_exporter": "python",
   "pygments_lexer": "ipython3",
   "version": "3.13.0"
  }
 },
 "nbformat": 4,
 "nbformat_minor": 5
}
