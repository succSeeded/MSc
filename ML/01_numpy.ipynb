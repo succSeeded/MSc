{
 "cells": [
  {
   "cell_type": "code",
   "execution_count": 19,
   "metadata": {},
   "outputs": [
    {
     "name": "stdout",
     "output_type": "stream",
     "text": [
      "The jupyter_black extension is already loaded. To reload it, use:\n",
      "  %reload_ext jupyter_black\n"
     ]
    }
   ],
   "source": [
    "%load_ext jupyter_black"
   ]
  },
  {
   "cell_type": "code",
   "execution_count": null,
   "metadata": {},
   "outputs": [],
   "source": [
    "import numpy as np\n",
    "from numpy.linalg import norm"
   ]
  },
  {
   "cell_type": "markdown",
   "metadata": {},
   "source": [
    "### Задача 1: Попарные углы (1 балл)\n",
    "\n",
    "Даны набор векторов. Без использования циклов в Python найдите номера двух различных векторов, угол между которыми - минимален. Максимум 3 строки, соответсвующие форматированию jupyter_black."
   ]
  },
  {
   "cell_type": "code",
   "execution_count": 41,
   "metadata": {
    "scrolled": true
   },
   "outputs": [],
   "source": [
    "# 10 векторов в R^4\n",
    "x = np.array(\n",
    "    [\n",
    "        [-1.05247805, 0.0813231, 0.94708268, -0.53371674],\n",
    "        [0.01359646, -1.43838044, 1.01326978, -0.38062482],\n",
    "        [0.30563645, 1.18997822, 0.48149476, 0.83524308],\n",
    "        [1.22609704, 1.72169283, -0.21137761, -1.21598295],\n",
    "        [0.6397264, -1.24751009, 0.03137696, 0.55576899],\n",
    "        [1.55630085, 1.2840827, -0.52525765, 2.4523538],\n",
    "        [-1.70632707, 0.45006017, -1.04214031, -1.47674443],\n",
    "        [-0.51870141, -0.01755243, 1.95102122, 0.36809772],\n",
    "        [-0.97629927, 0.35430853, -0.63895086, -0.2467184],\n",
    "        [-0.51120513, -0.33014789, -1.45017724, -0.02398285],\n",
    "    ]\n",
    ")\n",
    "\n",
    "y = x.dot(x.T) - np.eye(10)\n",
    "y = y / (norm(x, axis=1, keepdims=True) @ norm(x, axis=1, keepdims=True).T)\n",
    "i, j = (y.argmax() // y.shape[0], y.argmax() % y.shape[0])\n",
    "assert (i, j) == (6, 8) or (i, j) == (8, 6), \"Wrong Answer\""
   ]
  },
  {
   "cell_type": "markdown",
   "metadata": {},
   "source": [
    "### Задача 2: Cвертка (1 балл)\n",
    "Реализуйте двумерную свертку при помощи numpy без использования циклов в python. \n",
    "Максимум 4 строки,  соответсвующие форматированию jupyter_black.\n",
    "\n",
    "![](https://upload.wikimedia.org/wikipedia/commons/1/19/2D_Convolution_Animation.gif)\n",
    "\n"
   ]
  },
  {
   "cell_type": "code",
   "execution_count": 20,
   "metadata": {},
   "outputs": [],
   "source": [
    "x = np.arange(64).reshape((8, 8))\n",
    "kernel = np.array([[1, -1, 2], [3, -2, 1], [0, 0, 1]])\n",
    "\n",
    "x = np.sum(np.lib.stride_tricks.sliding_window_view(x, (3, 3)) * kernel, axis=(2, 3))\n",
    "\n",
    "ans = np.array(\n",
    "    [\n",
    "        [37, 42, 47, 52, 57, 62],\n",
    "        [77, 82, 87, 92, 97, 102],\n",
    "        [117, 122, 127, 132, 137, 142],\n",
    "        [157, 162, 167, 172, 177, 182],\n",
    "        [197, 202, 207, 212, 217, 222],\n",
    "        [237, 242, 247, 252, 257, 262],\n",
    "    ]\n",
    ")\n",
    "assert (x == ans).all(), \"Wrong answer\""
   ]
  },
  {
   "cell_type": "markdown",
   "metadata": {},
   "source": [
    "----\n",
    "\n",
    "This notebook was adapted from Anton Alekseev's practical lessons on MCS SPBU, [tutorial from CS231N at Stanford University](https://cs231n.github.io/python-numpy-tutorial/), and [NumPy documentation](https://numpy.org/doc/stable/index.html)."
   ]
  }
 ],
 "metadata": {
  "colab": {
   "collapsed_sections": [],
   "name": "mcs_spring2021_numpy_intro.ipynb",
   "provenance": []
  },
  "kernelspec": {
   "display_name": "Python 3 (ipykernel)",
   "language": "python",
   "name": "python3"
  },
  "language_info": {
   "codemirror_mode": {
    "name": "ipython",
    "version": 3
   },
   "file_extension": ".py",
   "mimetype": "text/x-python",
   "name": "python",
   "nbconvert_exporter": "python",
   "pygments_lexer": "ipython3",
   "version": "3.12.3"
  }
 },
 "nbformat": 4,
 "nbformat_minor": 4
}
