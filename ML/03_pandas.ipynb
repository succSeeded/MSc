{
 "cells": [
  {
   "cell_type": "code",
   "execution_count": null,
   "metadata": {},
   "outputs": [],
   "source": [
    "%load_ext jupyter_black"
   ]
  },
  {
   "cell_type": "markdown",
   "metadata": {
    "id": "2urj1XDJEJbY"
   },
   "source": [
    "# Pandas \n",
    "\n",
    "http://pandas.pydata.org/\n",
    "\n",
    "Exploratory data analysis, предобработка данных, predictive modeling (в малой степени).\n",
    "Проекции, слияние, фильтрация, группировка, агрегация, одним словом - **работа с таблицами.**\n",
    "\n",
    "**Есть смысл читать документацию и думать о наибольшей эффективности выполнения тех или иных операций**.\n",
    "Так, по-прежнему, если вы пишете цикл, вы что-то делаете не так; векторные операции for the win! И особенно это важно, если ваш код будет затем адаптироваться для [py]Spark. Благодаря DataFrame API Apache Spark, это делается просто.\n",
    "\n",
    "Дополнительно с pandas можно ознакомиться тут:\n",
    "1. [Более короткий](https://github.com/jvns/pandas-cookbook)\n",
    "2. [Более обстоятельный](https://github.com/guipsamora/pandas_exercises/tree/master).\n",
    "\n",
    "Если будете решать вторую — обязательно пройдите первые пару глав из первой, так как во второй тема индексаций пропущена полностью :)"
   ]
  },
  {
   "cell_type": "markdown",
   "metadata": {
    "id": "cX9uwhXXEJbZ"
   },
   "source": [
    "## Data structures & types"
   ]
  },
  {
   "cell_type": "code",
   "execution_count": null,
   "metadata": {
    "colab": {
     "base_uri": "https://localhost:8080/"
    },
    "id": "MuyCAcXXEJbZ",
    "outputId": "63142502-5365-4b3e-f36e-dee0e083b5b1"
   },
   "outputs": [],
   "source": [
    "import pandas as pd\n",
    "import numpy as np\n",
    "\n",
    "df = pd.DataFrame(\n",
    "    data=[[1, 2, 3], [4, 5, 6]],\n",
    "    columns=[\"A\", \"B\", \"C\"],\n",
    "    index=[\"X\", \"Y\"],\n",
    ")\n",
    "df.head()"
   ]
  },
  {
   "cell_type": "code",
   "execution_count": null,
   "metadata": {},
   "outputs": [],
   "source": [
    "df[\"D\"] = [\"a\", \"b\"]\n",
    "df"
   ]
  },
  {
   "cell_type": "code",
   "execution_count": null,
   "metadata": {
    "colab": {
     "base_uri": "https://localhost:8080/"
    },
    "id": "MuyCAcXXEJbZ",
    "outputId": "63142502-5365-4b3e-f36e-dee0e083b5b1"
   },
   "outputs": [],
   "source": [
    "# series -- \"колонка\" одного типа; можно относиться как к словарю из ИНДЕКСОВ в ЗНАЧЕНИЯ\n",
    "s = pd.Series([1, 3, 5, np.nan, 6, 8], name=\"Some series\")\n",
    "\n",
    "print(\"Values types: \", s.dtype)\n",
    "print(\"Series shape: \", s.shape)\n",
    "print(\"Series indeix:\", s.index)\n",
    "\n",
    "# s.values\n",
    "# s[2:4]\n",
    "# s.index\n",
    "# s"
   ]
  },
  {
   "cell_type": "code",
   "execution_count": null,
   "metadata": {
    "colab": {
     "base_uri": "https://localhost:8080/"
    },
    "id": "yz4B9YG-EJbb",
    "outputId": "8b3e19ce-e966-4349-b72c-a964a39ac0dd"
   },
   "outputs": [],
   "source": [
    "s = pd.Series(\n",
    "    [1, 3, 5, np.nan, 6, 8, 10],\n",
    "    name=\"Some series\",\n",
    "    index=[\"q\", \"w\", \"e\", \"e\", \"r\", \"t\", \"y\"],\n",
    ")\n",
    "s\n",
    "# print(\"Index:\", s.index)\n",
    "# print(s[1:5])\n",
    "\n",
    "# print(s[\"w\":\"e\"])  # обратите внимание!\n",
    "# 1) порядок -- лексикографический?\n",
    "# 2) включён ли последний индекс?\n",
    "# 3) а если сделать s[\"w\":\"z\"]?\n",
    "\n",
    "# print(s[\"e\":\"q\"]) # обратите внимание!"
   ]
  },
  {
   "cell_type": "code",
   "execution_count": null,
   "metadata": {},
   "outputs": [],
   "source": [
    "# А так ли все работает целочисленными индексами?\n",
    "t = pd.Series(\n",
    "    [1, 3, 5, np.nan, 6, 8, 10],\n",
    "    name=\"Some series\",\n",
    "    index=[1, 2, 3, 4, 5, 6, 7],\n",
    ")\n",
    "\n",
    "# разница, на самом деле, заключена вот здесь, но об этом чуть позже\n",
    "t.iloc[1:5], t.loc[1:5], s.iloc[1:5],  # s.loc[1:5]"
   ]
  },
  {
   "cell_type": "markdown",
   "metadata": {
    "id": "8wCp0npYMTSq"
   },
   "source": [
    "В пандас есть бесчисленное количество методов для работы с табличными данными, и постоянно добавляется новое, поэтому есть смысл почитать к нему документацию, а не только чужой код. Может быть, так вам удастся избежать переизобретения колеса или велосипеда.\n",
    "\n",
    "Тем, кто работает с реальными временными рядами, могут пригодиться вот такие штучки:"
   ]
  },
  {
   "cell_type": "code",
   "execution_count": null,
   "metadata": {
    "colab": {
     "base_uri": "https://localhost:8080/"
    },
    "id": "sVzwqU3pEJbc",
    "outputId": "23dd623b-858c-4c1c-e5e8-5e4d82c9a9a1"
   },
   "outputs": [],
   "source": [
    "# http://pandas.pydata.org/pandas-docs/stable/timeseries.html#offset-aliases\n",
    "dates = pd.date_range(\"20130101\", periods=6)  # default frequency measure is 1 day\n",
    "\n",
    "print(dates)"
   ]
  },
  {
   "cell_type": "markdown",
   "metadata": {
    "id": "4bdN-3WbNB_a"
   },
   "source": [
    "Потихоньку переходим к главному объекту пандаса: датафреймам.\n"
   ]
  },
  {
   "cell_type": "code",
   "execution_count": null,
   "metadata": {
    "colab": {
     "base_uri": "https://localhost:8080/",
     "height": 237
    },
    "id": "bfBaEXf6EJbd",
    "outputId": "a7fcc9e5-a525-496b-9271-6173b8a3d20b"
   },
   "outputs": [],
   "source": [
    "# https://pandas.pydata.org/pandas-docs/stable/reference/api/pandas.DataFrame.html\n",
    "df = pd.DataFrame(\n",
    "    data=np.random.randn(6, 4),\n",
    "    index=dates,\n",
    "    columns=list(\"ABCD\"),\n",
    ")\n",
    "\n",
    "df"
   ]
  },
  {
   "cell_type": "markdown",
   "metadata": {
    "id": "j49TLUVHN6o8"
   },
   "source": [
    "Ещё один способ задать датафрейм: ключи -- имена колонок, значения -- сами колонки"
   ]
  },
  {
   "cell_type": "code",
   "execution_count": null,
   "metadata": {
    "colab": {
     "base_uri": "https://localhost:8080/",
     "height": 175
    },
    "id": "VnopXFofNaRA",
    "outputId": "724a5a3e-4ba7-4bc9-f71b-34f17c2e8d6f"
   },
   "outputs": [],
   "source": [
    "df2 = pd.DataFrame(\n",
    "    {\n",
    "        \"A\": 1.0,\n",
    "        \"B\": pd.Timestamp(\"20130102\"),\n",
    "        \"C\": pd.Series(1, index=list(range(4)), dtype=\"float32\"),\n",
    "        \"D\": np.array([3] * 4, dtype=\"int32\"),\n",
    "        \"E\": pd.Categorical([\"test\", \"train\", \"test\", \"train\"]),\n",
    "        \"F\": \"foo\",\n",
    "    }\n",
    ")\n",
    "df2"
   ]
  },
  {
   "cell_type": "code",
   "execution_count": null,
   "metadata": {
    "colab": {
     "base_uri": "https://localhost:8080/"
    },
    "id": "9wAJeC5NEJbd",
    "outputId": "0e55561d-e9c7-460c-d750-10009418549d"
   },
   "outputs": [],
   "source": [
    "df2.dtypes"
   ]
  },
  {
   "cell_type": "markdown",
   "metadata": {
    "id": "FGrpoQgBEJbe"
   },
   "source": [
    "## Accessing data\n",
    "Как посмотреть на набор данных и что-то о нём понять"
   ]
  },
  {
   "cell_type": "code",
   "execution_count": null,
   "metadata": {
    "colab": {
     "base_uri": "https://localhost:8080/"
    },
    "id": "3hQQXjHwEJbe",
    "outputId": "97a5ecf7-63ad-4edf-c34d-4b78fd656e7d"
   },
   "outputs": [],
   "source": [
    "df.head(3)  # , df.tail(2)"
   ]
  },
  {
   "cell_type": "code",
   "execution_count": null,
   "metadata": {
    "colab": {
     "base_uri": "https://localhost:8080/"
    },
    "id": "k6t5WeJAEJbf",
    "outputId": "41c6e61f-63a8-4f7b-c738-5b3e5024c977"
   },
   "outputs": [],
   "source": [
    "print(df.index)\n",
    "print(df.columns)\n",
    "print(df.values)\n",
    "\n",
    "df2.values"
   ]
  },
  {
   "cell_type": "code",
   "execution_count": null,
   "metadata": {
    "colab": {
     "base_uri": "https://localhost:8080/",
     "height": 300
    },
    "id": "Y9-4yurgEJbg",
    "outputId": "c016edf5-aaee-465a-c42f-262e76863790"
   },
   "outputs": [],
   "source": [
    "# стандартные статистики по каждой колонке\n",
    "df.describe()"
   ]
  },
  {
   "cell_type": "code",
   "execution_count": null,
   "metadata": {
    "colab": {
     "base_uri": "https://localhost:8080/",
     "height": 175
    },
    "id": "RKYNV6DWEJbg",
    "outputId": "3bd5944f-17ce-4e6b-f62b-4c451da89521"
   },
   "outputs": [],
   "source": [
    "df.T"
   ]
  },
  {
   "cell_type": "code",
   "execution_count": null,
   "metadata": {
    "colab": {
     "base_uri": "https://localhost:8080/"
    },
    "id": "cpxm5GdmEJbg",
    "outputId": "e5dcd39a-8ca8-4d1a-d02f-d36320fde6fa"
   },
   "outputs": [],
   "source": [
    "df.T.index, df.index"
   ]
  },
  {
   "cell_type": "code",
   "execution_count": null,
   "metadata": {
    "colab": {
     "base_uri": "https://localhost:8080/"
    },
    "id": "vaw3ZhGnEJbg",
    "outputId": "26defd03-d442-4b37-9902-c118e70bdcbc"
   },
   "outputs": [],
   "source": [
    "df.sort_index(axis=1, ascending=False), df"
   ]
  },
  {
   "cell_type": "code",
   "execution_count": null,
   "metadata": {
    "colab": {
     "base_uri": "https://localhost:8080/",
     "height": 237
    },
    "id": "xnEDbKA7EJbi",
    "outputId": "726318b7-753c-4c9a-db19-30f8b995b282"
   },
   "outputs": [],
   "source": [
    "df.sort_values(by=\"B\")"
   ]
  },
  {
   "cell_type": "markdown",
   "metadata": {
    "collapsed": true,
    "id": "83jJvh3-EJbi",
    "jupyter": {
     "outputs_hidden": true
    }
   },
   "source": [
    "## Выборка данных\n",
    "#### NB!\n",
    "While standard Python / Numpy expressions for selecting and setting are intuitive and come in handy for interactive work, for production code, we recommend the optimized pandas data access methods, .at, .iat, .loc, .iloc and .ix."
   ]
  },
  {
   "cell_type": "code",
   "execution_count": null,
   "metadata": {
    "colab": {
     "base_uri": "https://localhost:8080/"
    },
    "id": "XKnpwyccEJbi",
    "outputId": "a0bc620d-a81c-4d6c-95e2-af034ba30538"
   },
   "outputs": [],
   "source": [
    "df[\"A\"]"
   ]
  },
  {
   "cell_type": "code",
   "execution_count": null,
   "metadata": {},
   "outputs": [],
   "source": [
    "df[[\"A\", \"B\"]]"
   ]
  },
  {
   "cell_type": "code",
   "execution_count": null,
   "metadata": {
    "colab": {
     "base_uri": "https://localhost:8080/"
    },
    "id": "AJk3RuPOEJbi",
    "outputId": "7071a388-004f-473e-e56e-76b4f9c77cd4"
   },
   "outputs": [],
   "source": [
    "df.A"
   ]
  },
  {
   "cell_type": "code",
   "execution_count": null,
   "metadata": {
    "colab": {
     "base_uri": "https://localhost:8080/",
     "height": 143
    },
    "id": "mSIKjlhyEJbj",
    "outputId": "fd71a7a2-b10e-4e36-bc6f-64640b789d28"
   },
   "outputs": [],
   "source": [
    "df[:]  # по строкам"
   ]
  },
  {
   "cell_type": "markdown",
   "metadata": {
    "id": "hI22JuYuEJbj"
   },
   "source": [
    "## Выборка по значениям индексов"
   ]
  },
  {
   "cell_type": "code",
   "execution_count": null,
   "metadata": {
    "colab": {
     "base_uri": "https://localhost:8080/",
     "height": 143
    },
    "id": "tmIpAbPsEJbj",
    "outputId": "45b680c7-bd9d-4fc3-a063-e09c07bcd60d"
   },
   "outputs": [],
   "source": [
    "df[\"20130102\":\"20130104\"]"
   ]
  },
  {
   "cell_type": "code",
   "execution_count": null,
   "metadata": {
    "colab": {
     "base_uri": "https://localhost:8080/"
    },
    "id": "dMY5NqQJEJbk",
    "outputId": "3918b520-e069-4131-9d22-37888b826edf"
   },
   "outputs": [],
   "source": [
    "# первый индекс\n",
    "print(\"First index: \" + str(dates[0]))\n",
    "\n",
    "print(df)\n",
    "\n",
    "# выбираем всё по этому индексу\n",
    "print(df.loc[dates[0]])"
   ]
  },
  {
   "cell_type": "markdown",
   "metadata": {
    "id": "MMaQInmSEJbk"
   },
   "source": [
    "## Выборка по порядковым номерам индексов"
   ]
  },
  {
   "cell_type": "code",
   "execution_count": null,
   "metadata": {
    "colab": {
     "base_uri": "https://localhost:8080/",
     "height": 112
    },
    "id": "FWdWRy_DEJbk",
    "outputId": "a69ead64-d975-42fc-e074-3b973e72b8c6"
   },
   "outputs": [],
   "source": [
    "df.iloc[3:5]"
   ]
  },
  {
   "cell_type": "code",
   "execution_count": null,
   "metadata": {
    "colab": {
     "base_uri": "https://localhost:8080/"
    },
    "id": "61mZyVl6EJbk",
    "outputId": "1ebc9bcb-6795-4e4a-871e-2d782ea1f02d"
   },
   "outputs": [],
   "source": [
    "# доступ до отдельного значения\n",
    "print(df.iat[1, 1])\n",
    "print(df.iloc[1, 1])  # то же"
   ]
  },
  {
   "cell_type": "code",
   "execution_count": null,
   "metadata": {
    "colab": {
     "base_uri": "https://localhost:8080/",
     "height": 206
    },
    "id": "R9KgWbfhEJbl",
    "outputId": "07995466-7457-47dd-b36e-4835b872929c"
   },
   "outputs": [],
   "source": [
    "# выборка по значениям в колонках [ничего не напоминает?]\n",
    "df[df.A > 0]"
   ]
  },
  {
   "cell_type": "code",
   "execution_count": null,
   "metadata": {
    "colab": {
     "base_uri": "https://localhost:8080/",
     "height": 175
    },
    "id": "UubVwfi0EJbl",
    "outputId": "9e820ea5-8411-4611-d969-e54ec21522f5"
   },
   "outputs": [],
   "source": [
    "# фильтрация\n",
    "df2 = df.copy()\n",
    "df2[\"E\"] = [\"one\", \"one\", \"two\", \"three\", \"four\", \"three\"]\n",
    "\n",
    "# то же, что filter по вхождению\n",
    "# df2[]\n",
    "df2[df2[\"E\"].isin([\"hello\", \"woow\", \"three\", \"one\"])]\n",
    "# df2['E'].isin(['hello', 'woow', 'three', 'one'])"
   ]
  },
  {
   "cell_type": "markdown",
   "metadata": {
    "id": "CzqcSTp9EJbm"
   },
   "source": [
    "## Обновление"
   ]
  },
  {
   "cell_type": "code",
   "execution_count": null,
   "metadata": {
    "colab": {
     "base_uri": "https://localhost:8080/",
     "height": 237
    },
    "id": "VEhgq8oTEJbm",
    "outputId": "52b51fd0-e8fe-404f-86af-eea3bc7861f5"
   },
   "outputs": [],
   "source": [
    "s1 = pd.Series([1, 2, 3, 4, 5, 6], index=pd.date_range(\"20130102\", periods=6))\n",
    "df[\"F\"] = s1\n",
    "df"
   ]
  },
  {
   "cell_type": "code",
   "execution_count": null,
   "metadata": {
    "colab": {
     "base_uri": "https://localhost:8080/",
     "height": 237
    },
    "id": "bCpzZsQVEJbm",
    "outputId": "4e8f6ec7-18f3-4cfd-d00a-2a032fd44322"
   },
   "outputs": [],
   "source": [
    "# выборка по индексам\n",
    "df.at[\"2013-01-04\", \"A\"] = 99.0\n",
    "df.iat[0, 1] = 999999\n",
    "df.loc[:, \"D\"] = np.array([5] * len(df))\n",
    "df"
   ]
  },
  {
   "cell_type": "code",
   "execution_count": null,
   "metadata": {
    "colab": {
     "base_uri": "https://localhost:8080/",
     "height": 237
    },
    "id": "EVl8GNbqEJbm",
    "outputId": "f96cf4e4-6634-47e0-dfbe-be0635b7ff4c"
   },
   "outputs": [],
   "source": [
    "# выборка по условию\n",
    "df[df < -0.5] = 0 * df\n",
    "df\n",
    "# df > 0"
   ]
  },
  {
   "cell_type": "code",
   "execution_count": null,
   "metadata": {
    "id": "KPSaff3uEfA4"
   },
   "outputs": [],
   "source": [
    "# df[uslovie(df.ix)] = func(df)"
   ]
  },
  {
   "cell_type": "code",
   "execution_count": null,
   "metadata": {
    "id": "ZchlRMLB1oU1"
   },
   "outputs": [],
   "source": [
    "df[\"cat_variable\"] = [\"Barsik\", \"Barsik\", \"Marusya\", \"Barsik\", \"Garfield\", \"Marusya\"]"
   ]
  },
  {
   "cell_type": "code",
   "execution_count": null,
   "metadata": {
    "id": "n5wjrszrF2Zj"
   },
   "outputs": [],
   "source": [
    "df"
   ]
  },
  {
   "cell_type": "code",
   "execution_count": null,
   "metadata": {
    "id": "554nFE-3EzuO"
   },
   "outputs": [],
   "source": [
    "cats_df = pd.get_dummies(df[\"cat_variable\"], prefix=\"cat\")\n",
    "cats_df"
   ]
  },
  {
   "cell_type": "code",
   "execution_count": null,
   "metadata": {
    "id": "6JFDg-IiFpun"
   },
   "outputs": [],
   "source": [
    "vals = pd.concat([df.drop([\"F\", \"A\", \"cat_variable\"], axis=1), cats_df], axis=1)\n",
    "vals"
   ]
  },
  {
   "cell_type": "code",
   "execution_count": null,
   "metadata": {
    "colab": {
     "base_uri": "https://localhost:8080/"
    },
    "id": "bc4o4QB-GRIY",
    "outputId": "78921ef4-be34-410b-9338-f0a5e0435f74"
   },
   "outputs": [],
   "source": [
    "df.drop([\"F\", \"A\", \"cat_variable\"], axis=1)"
   ]
  },
  {
   "cell_type": "markdown",
   "metadata": {},
   "source": [
    "На самом деле, в pandas есть довольно продвинутый sql-like синтаксис, но нам вряд ли он понадобится."
   ]
  },
  {
   "cell_type": "code",
   "execution_count": null,
   "metadata": {},
   "outputs": [],
   "source": [
    "# sample data\n",
    "orders_data = {\n",
    "    \"customer_id\": [1, 2, 3, 1, 2, 3, 4],\n",
    "    \"order_amount\": [100, 200, 150, 300, 120, 50, 500],\n",
    "}\n",
    "orders = pd.DataFrame(orders_data)\n",
    "\n",
    "customers_data = {\n",
    "    \"customer_id\": [1, 2, 3, 4],\n",
    "    \"customer_name\": [\"Alice\", \"Bob\", \"Charlie\", \"David\"],\n",
    "    \"city\": [\"New York\", \"Los Angeles\", \"New York\", \"Chicago\"],\n",
    "}\n",
    "customers = pd.DataFrame(customers_data)"
   ]
  },
  {
   "cell_type": "code",
   "execution_count": null,
   "metadata": {},
   "outputs": [],
   "source": [
    "# merge orders with customers on customer_id\n",
    "merged_df = pd.merge(orders, customers, on=\"customer_id\")\n",
    "merged_df"
   ]
  },
  {
   "cell_type": "code",
   "execution_count": null,
   "metadata": {},
   "outputs": [],
   "source": [
    "# Group by city and aggregate the total revenue per city\n",
    "city_revenue = (\n",
    "    merged_df.groupby(\"city\")[\"order_amount\"].sum().reset_index(name=\"total_revenue\")\n",
    ")\n",
    "city_revenue"
   ]
  },
  {
   "cell_type": "code",
   "execution_count": null,
   "metadata": {},
   "outputs": [],
   "source": [
    "# apply a custom function to find the top customer (by total order amount) in each city\n",
    "def top_customer_in_city(df):\n",
    "    top_customer = df.groupby(\"customer_name\")[\"order_amount\"].sum().idxmax()\n",
    "    return top_customer\n",
    "\n",
    "\n",
    "# group by city and apply the custom function to find the top customer in each city\n",
    "top_customers = (\n",
    "    merged_df.groupby(\"city\")\n",
    "    .apply(top_customer_in_city)\n",
    "    .reset_index(name=\"top_customer\")\n",
    ")\n",
    "top_customers"
   ]
  },
  {
   "cell_type": "markdown",
   "metadata": {
    "id": "Lq5vdu7HPKR5"
   },
   "source": [
    "---\n",
    "## Упражнения\n",
    "*Не являются домашкой"
   ]
  },
  {
   "cell_type": "code",
   "execution_count": null,
   "metadata": {},
   "outputs": [],
   "source": []
  },
  {
   "cell_type": "code",
   "execution_count": null,
   "metadata": {
    "id": "iqbe_QQdyQ4G"
   },
   "outputs": [],
   "source": [
    "# df = pd.read_csv(\"data/estonia-passenger-list.csv\") \n",
    "## если видеть не можете \"Титаник\": \n",
    "## https://www.kaggle.com/christianlillelund/passenger-list-for-the-estonia-ferry-disaster\n",
    "## Задание 0\n",
    "## поисследуйте распределения значений фич -- \n",
    "# print(df[\"Country\"].value_counts().head(), \"\\n\")\n",
    "## Что делает эта цепочка вызовов? Какой объект после каждого? Что показывает?\n",
    "# print(df.isna().sum())\n",
    "# df.head()"
   ]
  },
  {
   "cell_type": "code",
   "execution_count": null,
   "metadata": {
    "colab": {
     "base_uri": "https://localhost:8080/",
     "height": 199
    },
    "id": "F4d0DNeMyfLV",
    "outputId": "75b50e62-5ae2-4a38-d608-da6af2e9a046"
   },
   "outputs": [],
   "source": [
    "train.head(2)"
   ]
  },
  {
   "cell_type": "code",
   "execution_count": null,
   "metadata": {
    "id": "U9ZfgDDezz0b"
   },
   "outputs": [],
   "source": [
    "# pd.get_dummies(train[\"Pclass\"])\n",
    "# pd.get_dummies(train[\"Pclass\"], prefix=\"Pclass\")"
   ]
  },
  {
   "cell_type": "code",
   "execution_count": null,
   "metadata": {
    "id": "0qvBLjkwEJbn"
   },
   "outputs": [],
   "source": [
    "# Задание 2\n",
    "# Написать код, заполняющий пропуски в \"численных\" колонках \n",
    "# 2a -- значением (-1)\n",
    "# 2b -- средним значением по колонке"
   ]
  },
  {
   "cell_type": "code",
   "execution_count": null,
   "metadata": {
    "id": "5uvXQS3SEJbn"
   },
   "outputs": [],
   "source": [
    "# Задание 3\n",
    "# Понять, какие фичи -- номинальные (категориальные) -- без осмысленного порядка над ними. \n",
    "# Применить к ним пандасовский dummy_encoding "
   ]
  },
  {
   "cell_type": "code",
   "execution_count": null,
   "metadata": {
    "id": "FK21UJmGEJbn"
   },
   "outputs": [],
   "source": [
    "# Задание 4\n",
    "# Выделить Survived как отдельный вектор (или Series)"
   ]
  },
  {
   "cell_type": "code",
   "execution_count": null,
   "metadata": {
    "id": "ZcKYTWLQEJbo"
   },
   "outputs": [],
   "source": [
    "# Задание 5\n",
    "# Нормализуйте средствами pandas (нельзя использовать sklearn) отдельно \n",
    "# каждую колонку -- с возрастом и со стоимостью билета\n",
    "# 5a. min-max scaling\n",
    "# 5b. вычесть среднее и разделить на стандартное отклонение"
   ]
  },
  {
   "cell_type": "code",
   "execution_count": null,
   "metadata": {
    "id": "4RgHCyYnEJbo"
   },
   "outputs": [],
   "source": [
    "# Задание 6\n",
    "# Постройте\n",
    "# train.pivot_table('PassengerId', 'Pclass', 'Survived', 'count').plot(kind='bar', stacked=True)\n",
    "# Погуглите, что это? О чём нам говорит этот график?"
   ]
  },
  {
   "cell_type": "code",
   "execution_count": null,
   "metadata": {
    "id": "F3aXpMyUEJbo"
   },
   "outputs": [],
   "source": [
    "# Задание 7\n",
    "# Для каждой фичи, кажущейся вам полезной, постройте гистограмму с помощью pandas-hist"
   ]
  },
  {
   "cell_type": "markdown",
   "metadata": {},
   "source": [
    "**P.S.** Задачи, похожие на эти упражнения, в мире машинного обучения и статистики называются Exploratory Data Analysis (EDA). Наш курс смещен в сторону теории обучения, и заниматься подобным мы больше не будем. Тем, кому надо, советую пройти курсы по feature engineering, data visualization, & data cleaning в Kaggle Learn.\n",
    "\n",
    "---\n",
    "This notebook is basen on Anton Alekseev's practical lessons at MCS SPBU and pandas documentation."
   ]
  }
 ],
 "metadata": {
  "colab": {
   "collapsed_sections": [
    "jgbEEu2JEJbv"
   ],
   "name": "mcs_spring2021_scipy_pandas.ipynb",
   "provenance": []
  },
  "kernelspec": {
   "display_name": "Python 3 (ipykernel)",
   "language": "python",
   "name": "python3"
  },
  "language_info": {
   "codemirror_mode": {
    "name": "ipython",
    "version": 3
   },
   "file_extension": ".py",
   "mimetype": "text/x-python",
   "name": "python",
   "nbconvert_exporter": "python",
   "pygments_lexer": "ipython3",
   "version": "3.12.0"
  }
 },
 "nbformat": 4,
 "nbformat_minor": 4
}
