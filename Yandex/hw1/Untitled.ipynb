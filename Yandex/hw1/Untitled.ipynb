{
 "cells": [
  {
   "cell_type": "code",
   "execution_count": 1,
   "id": "c6b555de-66ea-4a1c-b904-4208449257aa",
   "metadata": {},
   "outputs": [
    {
     "data": {
      "text/plain": [
       "6.0"
      ]
     },
     "execution_count": 1,
     "metadata": {},
     "output_type": "execute_result"
    }
   ],
   "source": [
    "import numpy as np\n",
    "\n",
    "x_1 = 16\n",
    "def x_n(x, n): \n",
    "    return x_n(np.sqrt(20+x), n-1) if n > 2 else np.sqrt(20+x)\n",
    "\n",
    "x_n(x_1, 2)"
   ]
  },
  {
   "cell_type": "code",
   "execution_count": 2,
   "id": "c612400e-aaaa-406c-82a0-2fb083d2871e",
   "metadata": {},
   "outputs": [
    {
     "data": {
      "text/plain": [
       "5.0990195135927845"
      ]
     },
     "execution_count": 2,
     "metadata": {},
     "output_type": "execute_result"
    }
   ],
   "source": [
    "x_n(x_1, 3)"
   ]
  },
  {
   "cell_type": "code",
   "execution_count": 3,
   "id": "ceefb61b-7a01-41a8-b356-24d6e06f01f9",
   "metadata": {},
   "outputs": [
    {
     "data": {
      "text/plain": [
       "5.0"
      ]
     },
     "execution_count": 3,
     "metadata": {},
     "output_type": "execute_result"
    }
   ],
   "source": [
    "x_n(x_1, 100)"
   ]
  },
  {
   "cell_type": "code",
   "execution_count": 5,
   "id": "01683c67-7fff-457e-bef5-a08f7496eb92",
   "metadata": {},
   "outputs": [
    {
     "data": {
      "text/plain": [
       "5.0"
      ]
     },
     "execution_count": 5,
     "metadata": {},
     "output_type": "execute_result"
    }
   ],
   "source": [
    "x_n(x_1, 1000)"
   ]
  },
  {
   "cell_type": "code",
   "execution_count": null,
   "id": "ecff0ff5-bf56-4a4f-a29c-a7aad5efa4ee",
   "metadata": {},
   "outputs": [],
   "source": []
  }
 ],
 "metadata": {
  "kernelspec": {
   "display_name": "Python 3 (ipykernel)",
   "language": "python",
   "name": "python3"
  },
  "language_info": {
   "codemirror_mode": {
    "name": "ipython",
    "version": 3
   },
   "file_extension": ".py",
   "mimetype": "text/x-python",
   "name": "python",
   "nbconvert_exporter": "python",
   "pygments_lexer": "ipython3",
   "version": "3.12.3"
  }
 },
 "nbformat": 4,
 "nbformat_minor": 5
}
