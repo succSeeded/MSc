{
 "cells": [
  {
   "cell_type": "code",
   "execution_count": 1,
   "id": "ajNok-65H17r",
   "metadata": {
    "colab": {
     "base_uri": "https://localhost:8080/"
    },
    "id": "ajNok-65H17r",
    "outputId": "439a9b45-1c15-4065-c72d-d37d436e8de7"
   },
   "outputs": [],
   "source": [
    "!pip install -q findspark"
   ]
  },
  {
   "cell_type": "code",
   "execution_count": 7,
   "id": "10317973-535b-4fb9-9e5c-4dc29535d757",
   "metadata": {},
   "outputs": [],
   "source": [
    "%load_ext jupyter_black"
   ]
  },
  {
   "cell_type": "code",
   "execution_count": 8,
   "id": "7M8_0A1bH4H2",
   "metadata": {
    "id": "7M8_0A1bH4H2"
   },
   "outputs": [],
   "source": [
    "import os\n",
    "\n",
    "os.environ[\"JAVA_HOME\"] = \"/usr/lib/jvm/java-8-openjdk\"\n",
    "os.environ[\"SPARK_HOME\"] = f'{os.environ[\"HOME\"]}/content/spark-3.5.1-bin-hadoop3'\n",
    "import findspark\n",
    "\n",
    "findspark.init()"
   ]
  },
  {
   "cell_type": "code",
   "execution_count": 9,
   "id": "we1qMCEFH4Mz",
   "metadata": {
    "id": "we1qMCEFH4Mz"
   },
   "outputs": [
    {
     "name": "stderr",
     "output_type": "stream",
     "text": [
      "Setting default log level to \"WARN\".\n",
      "To adjust logging level use sc.setLogLevel(newLevel). For SparkR, use setLogLevel(newLevel).\n",
      "25/05/25 15:19:08 WARN NativeCodeLoader: Unable to load native-hadoop library for your platform... using builtin-java classes where applicable\n"
     ]
    }
   ],
   "source": [
    "from pyspark.sql import SparkSession\n",
    "\n",
    "spark = SparkSession.builder.master(\"local[*]\").getOrCreate()\n",
    "spark.conf.set(\n",
    "    \"spark.sql.repl.eagerEval.enabled\", True\n",
    ")  # Property used to format output tables better\n",
    "sc = spark.sparkContext"
   ]
  },
  {
   "cell_type": "code",
   "execution_count": 11,
   "id": "ed9f7faf-2566-4aba-aedf-1d62307eda5e",
   "metadata": {
    "colab": {
     "base_uri": "https://localhost:8080/"
    },
    "id": "ed9f7faf-2566-4aba-aedf-1d62307eda5e",
    "outputId": "01298fa5-981c-4895-f6ae-f880a3b8ccbd"
   },
   "outputs": [
    {
     "name": "stdout",
     "output_type": "stream",
     "text": [
      "Alice's Adventures in Wonderland\n",
      "\n",
      "                ALICE'S ADVENTURES IN WONDERLAND\n",
      "\n",
      "                          Lewis Carroll\n",
      "\n",
      "               THE MILLENNIUM FULCRUM EDITION 3.0\n",
      "\n",
      "\n",
      "\n"
     ]
    }
   ],
   "source": [
    "# Exercise 1. Text file manipulations\n",
    "content_dir = f'{os.environ[\"HOME\"]}/content'\n",
    "\n",
    "addr = f\"{content_dir}/alice_in_wonderland.txt\"\n",
    "addrTarget = f\"{content_dir}/rabbit\"\n",
    "\n",
    "aliceRDD = sc.textFile(addr)\n",
    "\n",
    "# aliceRDD.take(5)\n",
    "\n",
    "rdd10 = aliceRDD.take(10)\n",
    "\n",
    "for line in rdd10:\n",
    "    print(line)\n",
    "\n",
    "rabbitRDD = aliceRDD.map(lambda x: x.lower()).filter(lambda x: \"rabbit\" in x)\n",
    "\n",
    "# rabbitRDD.collect()\n",
    "rabbitRDD.count()\n",
    "rabbitRDD.saveAsTextFile(addrTarget)"
   ]
  },
  {
   "cell_type": "code",
   "execution_count": 12,
   "id": "rvoKcOEwRPVS",
   "metadata": {
    "colab": {
     "base_uri": "https://localhost:8080/"
    },
    "id": "rvoKcOEwRPVS",
    "outputId": "64bf2a0b-628f-49c6-9772-ac15621de0fb"
   },
   "outputs": [
    {
     "ename": "Py4JJavaError",
     "evalue": "An error occurred while calling o63.partitions.\n: org.apache.hadoop.mapred.InvalidInputException: Input path does not exist: file:/home/succ_seed/content/kv.txt\n\tat org.apache.hadoop.mapred.FileInputFormat.singleThreadedListStatus(FileInputFormat.java:304)\n\tat org.apache.hadoop.mapred.FileInputFormat.listStatus(FileInputFormat.java:244)\n\tat org.apache.hadoop.mapred.FileInputFormat.getSplits(FileInputFormat.java:332)\n\tat org.apache.spark.rdd.HadoopRDD.getPartitions(HadoopRDD.scala:208)\n\tat org.apache.spark.rdd.RDD.$anonfun$partitions$2(RDD.scala:294)\n\tat scala.Option.getOrElse(Option.scala:189)\n\tat org.apache.spark.rdd.RDD.partitions(RDD.scala:290)\n\tat org.apache.spark.rdd.MapPartitionsRDD.getPartitions(MapPartitionsRDD.scala:49)\n\tat org.apache.spark.rdd.RDD.$anonfun$partitions$2(RDD.scala:294)\n\tat scala.Option.getOrElse(Option.scala:189)\n\tat org.apache.spark.rdd.RDD.partitions(RDD.scala:290)\n\tat org.apache.spark.api.java.JavaRDDLike.partitions(JavaRDDLike.scala:61)\n\tat org.apache.spark.api.java.JavaRDDLike.partitions$(JavaRDDLike.scala:61)\n\tat org.apache.spark.api.java.AbstractJavaRDDLike.partitions(JavaRDDLike.scala:45)\n\tat sun.reflect.NativeMethodAccessorImpl.invoke0(Native Method)\n\tat sun.reflect.NativeMethodAccessorImpl.invoke(NativeMethodAccessorImpl.java:62)\n\tat sun.reflect.DelegatingMethodAccessorImpl.invoke(DelegatingMethodAccessorImpl.java:43)\n\tat java.lang.reflect.Method.invoke(Method.java:498)\n\tat py4j.reflection.MethodInvoker.invoke(MethodInvoker.java:244)\n\tat py4j.reflection.ReflectionEngine.invoke(ReflectionEngine.java:374)\n\tat py4j.Gateway.invoke(Gateway.java:282)\n\tat py4j.commands.AbstractCommand.invokeMethod(AbstractCommand.java:132)\n\tat py4j.commands.CallCommand.execute(CallCommand.java:79)\n\tat py4j.ClientServerConnection.waitForCommands(ClientServerConnection.java:182)\n\tat py4j.ClientServerConnection.run(ClientServerConnection.java:106)\n\tat java.lang.Thread.run(Thread.java:750)\nCaused by: java.io.IOException: Input path does not exist: file:/home/succ_seed/content/kv.txt\n\tat org.apache.hadoop.mapred.FileInputFormat.singleThreadedListStatus(FileInputFormat.java:278)\n\t... 25 more\n",
     "output_type": "error",
     "traceback": [
      "\u001b[0;31m---------------------------------------------------------------------------\u001b[0m",
      "\u001b[0;31mPy4JJavaError\u001b[0m                             Traceback (most recent call last)",
      "Cell \u001b[0;32mIn[12], line 11\u001b[0m\n\u001b[1;32m      6\u001b[0m \u001b[38;5;66;03m#kv_RDD.take(10)\u001b[39;00m\n\u001b[1;32m      8\u001b[0m kv_separated_RDD \u001b[38;5;241m=\u001b[39m kv_RDD \\\n\u001b[1;32m      9\u001b[0m               \u001b[38;5;241m.\u001b[39mmap(\u001b[38;5;28;01mlambda\u001b[39;00m line: line\u001b[38;5;241m.\u001b[39msplit(\u001b[38;5;124m'\u001b[39m\u001b[38;5;130;01m\\x01\u001b[39;00m\u001b[38;5;124m'\u001b[39m))\n\u001b[0;32m---> 11\u001b[0m \u001b[43mkv_separated_RDD\u001b[49m\u001b[38;5;241;43m.\u001b[39;49m\u001b[43mtake\u001b[49m\u001b[43m(\u001b[49m\u001b[38;5;241;43m10\u001b[39;49m\u001b[43m)\u001b[49m\n\u001b[1;32m     13\u001b[0m \u001b[38;5;28;01mdef\u001b[39;00m\u001b[38;5;250m \u001b[39m\u001b[38;5;21mreplacement\u001b[39m(l):\n\u001b[1;32m     14\u001b[0m     \u001b[38;5;28;01mreturn\u001b[39;00m [l[\u001b[38;5;241m0\u001b[39m], l[\u001b[38;5;241m1\u001b[39m]\u001b[38;5;241m.\u001b[39mreplace(\u001b[38;5;124m'\u001b[39m\u001b[38;5;124mval_\u001b[39m\u001b[38;5;124m'\u001b[39m, \u001b[38;5;124m'\u001b[39m\u001b[38;5;124mvalue is \u001b[39m\u001b[38;5;124m'\u001b[39m)]\n",
      "File \u001b[0;32m~/content/spark-3.5.1-bin-hadoop3/python/pyspark/rdd.py:2822\u001b[0m, in \u001b[0;36mRDD.take\u001b[0;34m(self, num)\u001b[0m\n\u001b[1;32m   2781\u001b[0m \u001b[38;5;250m\u001b[39m\u001b[38;5;124;03m\"\"\"\u001b[39;00m\n\u001b[1;32m   2782\u001b[0m \u001b[38;5;124;03mTake the first num elements of the RDD.\u001b[39;00m\n\u001b[1;32m   2783\u001b[0m \n\u001b[0;32m   (...)\u001b[0m\n\u001b[1;32m   2819\u001b[0m \u001b[38;5;124;03m[91, 92, 93]\u001b[39;00m\n\u001b[1;32m   2820\u001b[0m \u001b[38;5;124;03m\"\"\"\u001b[39;00m\n\u001b[1;32m   2821\u001b[0m items: List[T] \u001b[38;5;241m=\u001b[39m []\n\u001b[0;32m-> 2822\u001b[0m totalParts \u001b[38;5;241m=\u001b[39m \u001b[38;5;28;43mself\u001b[39;49m\u001b[38;5;241;43m.\u001b[39;49m\u001b[43mgetNumPartitions\u001b[49m\u001b[43m(\u001b[49m\u001b[43m)\u001b[49m\n\u001b[1;32m   2823\u001b[0m partsScanned \u001b[38;5;241m=\u001b[39m \u001b[38;5;241m0\u001b[39m\n\u001b[1;32m   2825\u001b[0m \u001b[38;5;28;01mwhile\u001b[39;00m \u001b[38;5;28mlen\u001b[39m(items) \u001b[38;5;241m<\u001b[39m num \u001b[38;5;129;01mand\u001b[39;00m partsScanned \u001b[38;5;241m<\u001b[39m totalParts:\n\u001b[1;32m   2826\u001b[0m     \u001b[38;5;66;03m# The number of partitions to try in this iteration.\u001b[39;00m\n\u001b[1;32m   2827\u001b[0m     \u001b[38;5;66;03m# It is ok for this number to be greater than totalParts because\u001b[39;00m\n\u001b[1;32m   2828\u001b[0m     \u001b[38;5;66;03m# we actually cap it at totalParts in runJob.\u001b[39;00m\n",
      "File \u001b[0;32m~/content/spark-3.5.1-bin-hadoop3/python/pyspark/rdd.py:5453\u001b[0m, in \u001b[0;36mPipelinedRDD.getNumPartitions\u001b[0;34m(self)\u001b[0m\n\u001b[1;32m   5452\u001b[0m \u001b[38;5;28;01mdef\u001b[39;00m\u001b[38;5;250m \u001b[39m\u001b[38;5;21mgetNumPartitions\u001b[39m(\u001b[38;5;28mself\u001b[39m) \u001b[38;5;241m-\u001b[39m\u001b[38;5;241m>\u001b[39m \u001b[38;5;28mint\u001b[39m:\n\u001b[0;32m-> 5453\u001b[0m     \u001b[38;5;28;01mreturn\u001b[39;00m \u001b[38;5;28;43mself\u001b[39;49m\u001b[38;5;241;43m.\u001b[39;49m\u001b[43m_prev_jrdd\u001b[49m\u001b[38;5;241;43m.\u001b[39;49m\u001b[43mpartitions\u001b[49m\u001b[43m(\u001b[49m\u001b[43m)\u001b[49m\u001b[38;5;241m.\u001b[39msize()\n",
      "File \u001b[0;32m~/content/spark-3.5.1-bin-hadoop3/python/lib/py4j-0.10.9.7-src.zip/py4j/java_gateway.py:1322\u001b[0m, in \u001b[0;36mJavaMember.__call__\u001b[0;34m(self, *args)\u001b[0m\n\u001b[1;32m   1316\u001b[0m command \u001b[38;5;241m=\u001b[39m proto\u001b[38;5;241m.\u001b[39mCALL_COMMAND_NAME \u001b[38;5;241m+\u001b[39m\\\n\u001b[1;32m   1317\u001b[0m     \u001b[38;5;28mself\u001b[39m\u001b[38;5;241m.\u001b[39mcommand_header \u001b[38;5;241m+\u001b[39m\\\n\u001b[1;32m   1318\u001b[0m     args_command \u001b[38;5;241m+\u001b[39m\\\n\u001b[1;32m   1319\u001b[0m     proto\u001b[38;5;241m.\u001b[39mEND_COMMAND_PART\n\u001b[1;32m   1321\u001b[0m answer \u001b[38;5;241m=\u001b[39m \u001b[38;5;28mself\u001b[39m\u001b[38;5;241m.\u001b[39mgateway_client\u001b[38;5;241m.\u001b[39msend_command(command)\n\u001b[0;32m-> 1322\u001b[0m return_value \u001b[38;5;241m=\u001b[39m \u001b[43mget_return_value\u001b[49m\u001b[43m(\u001b[49m\n\u001b[1;32m   1323\u001b[0m \u001b[43m    \u001b[49m\u001b[43manswer\u001b[49m\u001b[43m,\u001b[49m\u001b[43m \u001b[49m\u001b[38;5;28;43mself\u001b[39;49m\u001b[38;5;241;43m.\u001b[39;49m\u001b[43mgateway_client\u001b[49m\u001b[43m,\u001b[49m\u001b[43m \u001b[49m\u001b[38;5;28;43mself\u001b[39;49m\u001b[38;5;241;43m.\u001b[39;49m\u001b[43mtarget_id\u001b[49m\u001b[43m,\u001b[49m\u001b[43m \u001b[49m\u001b[38;5;28;43mself\u001b[39;49m\u001b[38;5;241;43m.\u001b[39;49m\u001b[43mname\u001b[49m\u001b[43m)\u001b[49m\n\u001b[1;32m   1325\u001b[0m \u001b[38;5;28;01mfor\u001b[39;00m temp_arg \u001b[38;5;129;01min\u001b[39;00m temp_args:\n\u001b[1;32m   1326\u001b[0m     \u001b[38;5;28;01mif\u001b[39;00m \u001b[38;5;28mhasattr\u001b[39m(temp_arg, \u001b[38;5;124m\"\u001b[39m\u001b[38;5;124m_detach\u001b[39m\u001b[38;5;124m\"\u001b[39m):\n",
      "File \u001b[0;32m~/content/spark-3.5.1-bin-hadoop3/python/pyspark/errors/exceptions/captured.py:179\u001b[0m, in \u001b[0;36mcapture_sql_exception.<locals>.deco\u001b[0;34m(*a, **kw)\u001b[0m\n\u001b[1;32m    177\u001b[0m \u001b[38;5;28;01mdef\u001b[39;00m\u001b[38;5;250m \u001b[39m\u001b[38;5;21mdeco\u001b[39m(\u001b[38;5;241m*\u001b[39ma: Any, \u001b[38;5;241m*\u001b[39m\u001b[38;5;241m*\u001b[39mkw: Any) \u001b[38;5;241m-\u001b[39m\u001b[38;5;241m>\u001b[39m Any:\n\u001b[1;32m    178\u001b[0m     \u001b[38;5;28;01mtry\u001b[39;00m:\n\u001b[0;32m--> 179\u001b[0m         \u001b[38;5;28;01mreturn\u001b[39;00m \u001b[43mf\u001b[49m\u001b[43m(\u001b[49m\u001b[38;5;241;43m*\u001b[39;49m\u001b[43ma\u001b[49m\u001b[43m,\u001b[49m\u001b[43m \u001b[49m\u001b[38;5;241;43m*\u001b[39;49m\u001b[38;5;241;43m*\u001b[39;49m\u001b[43mkw\u001b[49m\u001b[43m)\u001b[49m\n\u001b[1;32m    180\u001b[0m     \u001b[38;5;28;01mexcept\u001b[39;00m Py4JJavaError \u001b[38;5;28;01mas\u001b[39;00m e:\n\u001b[1;32m    181\u001b[0m         converted \u001b[38;5;241m=\u001b[39m convert_exception(e\u001b[38;5;241m.\u001b[39mjava_exception)\n",
      "File \u001b[0;32m~/content/spark-3.5.1-bin-hadoop3/python/lib/py4j-0.10.9.7-src.zip/py4j/protocol.py:326\u001b[0m, in \u001b[0;36mget_return_value\u001b[0;34m(answer, gateway_client, target_id, name)\u001b[0m\n\u001b[1;32m    324\u001b[0m value \u001b[38;5;241m=\u001b[39m OUTPUT_CONVERTER[\u001b[38;5;28mtype\u001b[39m](answer[\u001b[38;5;241m2\u001b[39m:], gateway_client)\n\u001b[1;32m    325\u001b[0m \u001b[38;5;28;01mif\u001b[39;00m answer[\u001b[38;5;241m1\u001b[39m] \u001b[38;5;241m==\u001b[39m REFERENCE_TYPE:\n\u001b[0;32m--> 326\u001b[0m     \u001b[38;5;28;01mraise\u001b[39;00m Py4JJavaError(\n\u001b[1;32m    327\u001b[0m         \u001b[38;5;124m\"\u001b[39m\u001b[38;5;124mAn error occurred while calling \u001b[39m\u001b[38;5;132;01m{0}\u001b[39;00m\u001b[38;5;132;01m{1}\u001b[39;00m\u001b[38;5;132;01m{2}\u001b[39;00m\u001b[38;5;124m.\u001b[39m\u001b[38;5;130;01m\\n\u001b[39;00m\u001b[38;5;124m\"\u001b[39m\u001b[38;5;241m.\u001b[39m\n\u001b[1;32m    328\u001b[0m         \u001b[38;5;28mformat\u001b[39m(target_id, \u001b[38;5;124m\"\u001b[39m\u001b[38;5;124m.\u001b[39m\u001b[38;5;124m\"\u001b[39m, name), value)\n\u001b[1;32m    329\u001b[0m \u001b[38;5;28;01melse\u001b[39;00m:\n\u001b[1;32m    330\u001b[0m     \u001b[38;5;28;01mraise\u001b[39;00m Py4JError(\n\u001b[1;32m    331\u001b[0m         \u001b[38;5;124m\"\u001b[39m\u001b[38;5;124mAn error occurred while calling \u001b[39m\u001b[38;5;132;01m{0}\u001b[39;00m\u001b[38;5;132;01m{1}\u001b[39;00m\u001b[38;5;132;01m{2}\u001b[39;00m\u001b[38;5;124m. Trace:\u001b[39m\u001b[38;5;130;01m\\n\u001b[39;00m\u001b[38;5;132;01m{3}\u001b[39;00m\u001b[38;5;130;01m\\n\u001b[39;00m\u001b[38;5;124m\"\u001b[39m\u001b[38;5;241m.\u001b[39m\n\u001b[1;32m    332\u001b[0m         \u001b[38;5;28mformat\u001b[39m(target_id, \u001b[38;5;124m\"\u001b[39m\u001b[38;5;124m.\u001b[39m\u001b[38;5;124m\"\u001b[39m, name, value))\n",
      "\u001b[0;31mPy4JJavaError\u001b[0m: An error occurred while calling o63.partitions.\n: org.apache.hadoop.mapred.InvalidInputException: Input path does not exist: file:/home/succ_seed/content/kv.txt\n\tat org.apache.hadoop.mapred.FileInputFormat.singleThreadedListStatus(FileInputFormat.java:304)\n\tat org.apache.hadoop.mapred.FileInputFormat.listStatus(FileInputFormat.java:244)\n\tat org.apache.hadoop.mapred.FileInputFormat.getSplits(FileInputFormat.java:332)\n\tat org.apache.spark.rdd.HadoopRDD.getPartitions(HadoopRDD.scala:208)\n\tat org.apache.spark.rdd.RDD.$anonfun$partitions$2(RDD.scala:294)\n\tat scala.Option.getOrElse(Option.scala:189)\n\tat org.apache.spark.rdd.RDD.partitions(RDD.scala:290)\n\tat org.apache.spark.rdd.MapPartitionsRDD.getPartitions(MapPartitionsRDD.scala:49)\n\tat org.apache.spark.rdd.RDD.$anonfun$partitions$2(RDD.scala:294)\n\tat scala.Option.getOrElse(Option.scala:189)\n\tat org.apache.spark.rdd.RDD.partitions(RDD.scala:290)\n\tat org.apache.spark.api.java.JavaRDDLike.partitions(JavaRDDLike.scala:61)\n\tat org.apache.spark.api.java.JavaRDDLike.partitions$(JavaRDDLike.scala:61)\n\tat org.apache.spark.api.java.AbstractJavaRDDLike.partitions(JavaRDDLike.scala:45)\n\tat sun.reflect.NativeMethodAccessorImpl.invoke0(Native Method)\n\tat sun.reflect.NativeMethodAccessorImpl.invoke(NativeMethodAccessorImpl.java:62)\n\tat sun.reflect.DelegatingMethodAccessorImpl.invoke(DelegatingMethodAccessorImpl.java:43)\n\tat java.lang.reflect.Method.invoke(Method.java:498)\n\tat py4j.reflection.MethodInvoker.invoke(MethodInvoker.java:244)\n\tat py4j.reflection.ReflectionEngine.invoke(ReflectionEngine.java:374)\n\tat py4j.Gateway.invoke(Gateway.java:282)\n\tat py4j.commands.AbstractCommand.invokeMethod(AbstractCommand.java:132)\n\tat py4j.commands.CallCommand.execute(CallCommand.java:79)\n\tat py4j.ClientServerConnection.waitForCommands(ClientServerConnection.java:182)\n\tat py4j.ClientServerConnection.run(ClientServerConnection.java:106)\n\tat java.lang.Thread.run(Thread.java:750)\nCaused by: java.io.IOException: Input path does not exist: file:/home/succ_seed/content/kv.txt\n\tat org.apache.hadoop.mapred.FileInputFormat.singleThreadedListStatus(FileInputFormat.java:278)\n\t... 25 more\n"
     ]
    }
   ],
   "source": [
    "# Exercise 2. User-defined functions in transformations\n",
    "addr = f'{content_dir}/kv.txt'\n",
    "\n",
    "kv_RDD = sc.textFile(addr)\n",
    "\n",
    "#kv_RDD.take(10)\n",
    "\n",
    "kv_separated_RDD = kv_RDD \\\n",
    "              .map(lambda line: line.split('\\x01'))\n",
    "\n",
    "kv_separated_RDD.take(10)\n",
    "\n",
    "def replacement(l):\n",
    "    return [l[0], l[1].replace('val_', 'value is ')]\n",
    "\n",
    "def even_check(l):\n",
    "  return l[0]%2==0\n",
    "\n",
    "def transformColl(coll):\n",
    "    for item in coll:\n",
    "        for el in item:\n",
    "            if type(el) is int:\n",
    "                print(el + 1000)\n",
    "            elif type(el) is str:\n",
    "                print(el * 2)\n",
    "            else:\n",
    "                print(\"ERROR\")\n",
    "\n",
    "even_RDD = kv_separated_RDD \\\n",
    "              .map(replacement) \\\n",
    "              .map(lambda line: [line[0], line[1][9:]]) \\\n",
    "              .map(lambda line: (int(line[0]), line[1])) \\\n",
    "              .filter(even_check) \\\n",
    "              .filter(lambda line: line[0] != 0)\n",
    "\n",
    "transformColl(even_RDD.take(10))"
   ]
  },
  {
   "cell_type": "code",
   "execution_count": null,
   "id": "7a8347b7-a8c3-4366-a175-dd6f9f1bd150",
   "metadata": {
    "id": "7a8347b7-a8c3-4366-a175-dd6f9f1bd150",
    "outputId": "88acab6f-b285-4c20-b0a4-1afde2c2d431"
   },
   "outputs": [
    {
     "name": "stdout",
     "output_type": "stream",
     "text": [
      "1238\n",
      "238238\n",
      "1086\n",
      "8686\n",
      "1278\n",
      "278278\n",
      "1098\n",
      "9898\n",
      "1484\n",
      "484484\n",
      "1150\n",
      "150150\n",
      "1224\n",
      "224224\n",
      "1066\n",
      "6666\n",
      "1128\n",
      "128128\n",
      "1146\n",
      "146146\n",
      "1406\n",
      "406406\n",
      "1374\n",
      "374374\n",
      "1152\n",
      "152152\n",
      "1082\n",
      "8282\n",
      "1166\n",
      "166166\n",
      "1430\n",
      "430430\n",
      "1252\n",
      "252252\n",
      "1292\n",
      "292292\n",
      "1338\n",
      "338338\n",
      "1446\n",
      "446446\n"
     ]
    }
   ],
   "source": [
    "# Exercise 2. User-defined functions in transformations\n",
    "addr = '/content/kv.txt'\n",
    "\n",
    "kvRDD = sc.textFile(addr)\n",
    "#kvRDD.take(10)\n",
    "\n",
    "#kvRDD.map(lambda x: x.split(\"\\x01\")).take(10)\n",
    "\n",
    "def replaceValue(l):\n",
    "    return [l[0], l[1].replace( \"val_\", \"value is \")]\n",
    "\n",
    "#kvRDD.map(lambda x: x.split(\"\\x01\")).map(replaceValue).take(10)\n",
    "\n",
    "def cut08(s):\n",
    "    return s[9:]\n",
    "\n",
    "def checkEven(x):\n",
    "    return x%2==0\n",
    "\n",
    "def transformColl(coll):\n",
    "    for item in coll:\n",
    "        for el in item:\n",
    "            if type(el) is int:\n",
    "                print(el + 1000)\n",
    "            elif type(el) is str:\n",
    "                print(el * 2)\n",
    "            else:\n",
    "                print(\"ERROR\")\n",
    "\n",
    "\n",
    "#kvRDD.map(lambda x: x.split(\"\\x01\")).map(replaceValue).map(lambda x:[x[0],cut08(x[1])]).take(5)\n",
    "\n",
    "\"\"\"\n",
    "kvRDD.map(lambda x: x.split(\"\\x01\")).map(replaceValue)\\\n",
    ".map(lambda x:[x[0],cut08(x[1])])\\\n",
    ".map(lambda x: (int(x[0]), x[1])).take(5)\n",
    "\"\"\"\n",
    "\n",
    "tRDD = kvRDD.map(lambda x: x.split(\"\\x01\")).map(replaceValue)\\\n",
    ".map(lambda x:[x[0],cut08(x[1])])\\\n",
    ".map(lambda x: (int(x[0]), x[1]))\n",
    "\n",
    "eRDD = tRDD.filter(lambda x: checkEven(x[0]))\n",
    "\n",
    "#eRDD.take(10)\n",
    "\n",
    "c = eRDD.take(20)\n",
    "transformColl(c)"
   ]
  },
  {
   "cell_type": "code",
   "execution_count": null,
   "id": "JhAVAkoiSoSG",
   "metadata": {
    "colab": {
     "base_uri": "https://localhost:8080/"
    },
    "id": "JhAVAkoiSoSG",
    "outputId": "4d222052-bd46-4b86-b743-4e8a11345bd2"
   },
   "outputs": [
    {
     "data": {
      "text/plain": [
       "[\"aLICE'S aDVENTURES iN wONDERLAND \",\n",
       " '',\n",
       " \"aLICE'S aDVENTURES iN wONDERLAND \",\n",
       " '',\n",
       " 'lEWIS cARROLL ']"
      ]
     },
     "execution_count": 30,
     "metadata": {},
     "output_type": "execute_result"
    }
   ],
   "source": [
    "# Exercise 3. Text processing\n",
    "\n",
    "addr = '/content/alice_in_wonderland.txt'\n",
    "\n",
    "aliceRDD = sc.textFile(addr)\n",
    "\n",
    "def capitalise_word(line):\n",
    "    new_string = ''\n",
    "    for word in line.split(' '):\n",
    "      if len(word) > 1:\n",
    "        #new_string += word[0].upper()+word[1:].lower()+' '\n",
    "        new_string += word.capitalize()+' '\n",
    "    return new_string\n",
    "\n",
    "def twist_word(line):\n",
    "    new_string = ''\n",
    "    for word in line.split(' '):\n",
    "      if len(word) > 1:\n",
    "        new_string += word[0].lower()+word[1:].upper()+' '\n",
    "    return new_string\n",
    "\n",
    "changed_alice_RDD = aliceRDD.map(twist_word)\n",
    "\n",
    "changed_alice_RDD.take(5)\n"
   ]
  },
  {
   "cell_type": "code",
   "execution_count": null,
   "id": "41ddc0ee-2df3-4114-afc8-b094354323fc",
   "metadata": {
    "id": "41ddc0ee-2df3-4114-afc8-b094354323fc",
    "outputId": "3192ef5e-7e93-4685-b7a4-5ebe1857a8de"
   },
   "outputs": [
    {
     "data": {
      "text/plain": [
       "[\"Alice's Adventures In Wonderland \",\n",
       " '',\n",
       " \"Alice's Adventures In Wonderland \",\n",
       " '',\n",
       " 'Lewis Carroll ',\n",
       " '',\n",
       " 'The Millennium Fulcrum Edition 3.0 ',\n",
       " '',\n",
       " '',\n",
       " '']"
      ]
     },
     "execution_count": 71,
     "metadata": {},
     "output_type": "execute_result"
    }
   ],
   "source": [
    "# Exercise 3. Text processing\n",
    "\n",
    "def capWordsInLine(line):\n",
    "    res = \"\"\n",
    "    w = \"\"\n",
    "    for word in line.split(\" \"):\n",
    "        w = word.upper()\n",
    "        if len(w) > 1:\n",
    "            res += w[0].upper() + w[1:].lower() + \" \"\n",
    "    return res\n",
    "\n",
    "def capWordsInLine2(line):\n",
    "    res = \"\"\n",
    "    w = \"\"\n",
    "    for word in line.split(\" \"):\n",
    "        if len(word) > 1:\n",
    "            res += word.capitalize() + \" \"\n",
    "    return res\n",
    "\n",
    "def capWordsInLine3(line):\n",
    "    res = \"\"\n",
    "    w = \"\"\n",
    "    for word in line.split(\" \"):\n",
    "        w = word.lower()\n",
    "        if len(w) > 1:\n",
    "            res += w[0] + w[1:].upper() + \" \"\n",
    "    return res\n",
    "\n",
    "addr = '/content/alice_in_wonderland.txt'\n",
    "\n",
    "aliceRDD = sc.textFile(addr)\n",
    "\n",
    "#aliceRDD.map(capWordsInLine).take(10)\n",
    "\n",
    "#aliceRDD.map(capWordsInLine2).take(10)\n",
    "\n",
    "aliceRDD.map(capWordsInLine3).take(10)\n",
    "\n"
   ]
  }
 ],
 "metadata": {
  "colab": {
   "provenance": []
  },
  "kernelspec": {
   "display_name": "Python 3 (ipykernel)",
   "language": "python",
   "name": "python3"
  },
  "language_info": {
   "codemirror_mode": {
    "name": "ipython",
    "version": 3
   },
   "file_extension": ".py",
   "mimetype": "text/x-python",
   "name": "python",
   "nbconvert_exporter": "python",
   "pygments_lexer": "ipython3",
   "version": "3.10.16"
  }
 },
 "nbformat": 4,
 "nbformat_minor": 5
}
